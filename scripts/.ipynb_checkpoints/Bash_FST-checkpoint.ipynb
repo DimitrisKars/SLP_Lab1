{
 "cells": [
  {
   "cell_type": "code",
   "execution_count": null,
   "id": "e79671c6",
   "metadata": {},
   "outputs": [],
   "source": [
    "#Step 4 : Levenshtein\n",
    "\n",
    "python3 levenshtein.py > L.fst\n",
    "fstcompile --isymbols=\"../syms/chars.syms\"--osymbols=\"../syms/chars.syms\" --keep_isymbols --keep_osymbols L.fst L.binfst\n"
   ]
  },
  {
   "cell_type": "code",
   "execution_count": null,
   "id": "4149f410",
   "metadata": {},
   "outputs": [],
   "source": [
    "#Step 5: V acceptor\n",
    "\n",
    "python3 acceptor.py > V.fst\n",
    "fstcompile --isymbols=\"../syms/chars.syms\"--osymbols=\"../syms/words.syms\" --keep_isymbols --keep_osymbols V.fst V.binfst\n",
    "fstrmepsilon V.binfst | fstdeterminize | fstminimize > V_opt.binfst"
   ]
  },
  {
   "cell_type": "code",
   "execution_count": null,
   "id": "b4fe93c7",
   "metadata": {},
   "outputs": [],
   "source": [
    "#Step 6: lV \n",
    "\n",
    "fstarcsort --sort_type=olabel L.binfst L.binfst\n",
    "fstarcsort --sort_type=ilabel V_opt.binfst V_opt.binfst\n",
    "fstcompose L.binfst V_opt.binfst LV_opt.binfst"
   ]
  },
  {
   "cell_type": "code",
   "execution_count": null,
   "id": "07bd978a",
   "metadata": {},
   "outputs": [],
   "source": [
    "#Step 7: Evaluation LV\n",
    "python3 run_evaluation.py LV_opt.binfst"
   ]
  },
  {
   "cell_type": "code",
   "execution_count": null,
   "id": "39071f87",
   "metadata": {},
   "outputs": [],
   "source": [
    "#Step 8 : MLN \n",
    "fstcompile --isymbols=\"../syms/chars.syms\"--osymbols=\"../syms/chars.syms\" --keep_isymbols --keep_osymbols M.fst M.binfst\n",
    "fstcompile --isymbols=\"../syms/chars.syms\"--osymbols=\"../syms/chars.syms\" --keep_isymbols --keep_osymbols N.fst N.binfst\n",
    "fstarcsort --sort_type=olabel M.binfst M.binfst\n",
    "fstarcsort --sort_type=ilabel N.binfst N.binfst\n",
    "fstcompose M.binfst L.binfst ML.binfst\n",
    "fstcompose ML.binfst N.binfst MLN.binfst\n",
    "fstshortestpath MLN.fst| fstprint --isymbols=\"../syms/chars.syms\" --osymbols=\"../syms/chars.syms\" --show_weight_one\n"
   ]
  },
  {
   "cell_type": "code",
   "execution_count": null,
   "id": "5fd5fc81",
   "metadata": {},
   "outputs": [],
   "source": [
    "python3 wiki_word_edits.py > edits.txt"
   ]
  },
  {
   "cell_type": "code",
   "execution_count": null,
   "id": "1bc38022",
   "metadata": {},
   "outputs": [],
   "source": [
    "#make E transducer\n",
    "python3 levenshtein_log.py > E.fst\n",
    "fstcompile --isymbols=\"../syms/chars.syms\"--osymbols=\"../syms/chars.syms\" --keep_isymbols --keep_osymbols E.fst E.binfst\n",
    "fstarcsort --sort_type=olabel E.binfst E.binfst\n",
    "fstcompose E.binfst V_opt.binfst EV.binfst"
   ]
  },
  {
   "cell_type": "code",
   "execution_count": null,
   "id": "4e899bbd",
   "metadata": {},
   "outputs": [],
   "source": [
    "#Step 9\n",
    "python3 w_acceptor.py > W.fst\n",
    "fstcompile --isymbols=\"../syms/chars.syms\"--osymbols=\"../syms/chars.syms\" --keep_isymbols --keep_osymbols W.fst W.binfst\n",
    "fstarcsort --sort_type=ilabel W.binfst W.binfst"
   ]
  },
  {
   "cell_type": "code",
   "execution_count": null,
   "id": "da52ba9e",
   "metadata": {},
   "outputs": [],
   "source": [
    "#LVW\n",
    "fstcompose LV_opt.binfst W.binfst LVW.binfst"
   ]
  },
  {
   "cell_type": "code",
   "execution_count": null,
   "id": "e4974fae",
   "metadata": {},
   "outputs": [],
   "source": [
    "#EVW\n",
    "fstcompose EV.binfst W.binfst EVW.binfst"
   ]
  },
  {
   "cell_type": "code",
   "execution_count": null,
   "id": "29819362",
   "metadata": {},
   "outputs": [],
   "source": [
    "#LVW evaluation\n",
    "python3 run_evaluation.py LVW.binfst"
   ]
  },
  {
   "cell_type": "code",
   "execution_count": null,
   "id": "727ae012",
   "metadata": {},
   "outputs": [],
   "source": []
  }
 ],
 "metadata": {
  "kernelspec": {
   "display_name": "Bash",
   "language": "bash",
   "name": "bash"
  },
  "language_info": {
   "codemirror_mode": "shell",
   "file_extension": ".sh",
   "mimetype": "text/x-sh",
   "name": "bash"
  }
 },
 "nbformat": 4,
 "nbformat_minor": 5
}
