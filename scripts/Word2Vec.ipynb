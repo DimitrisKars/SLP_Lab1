{
 "cells": [
  {
   "cell_type": "code",
   "execution_count": 69,
   "id": "40682a80",
   "metadata": {
    "scrolled": false
   },
   "outputs": [],
   "source": [
    "import logging\n",
    "import multiprocessing\n",
    "import os\n",
    "\n",
    "from gensim.models import Word2Vec\n",
    "from gensim.models.callbacks import CallbackAny2Vec\n",
    "\n",
    "# Enable gensim logging\n",
    "logging.basicConfig(\n",
    "    format=\"%(levelname)s - %(asctime)s: %(message)s\",\n",
    "    datefmt=\"%H:%M:%S\",\n",
    "    level=logging.INFO,\n",
    ")\n",
    "\n",
    "\n",
    "class W2VLossLogger(CallbackAny2Vec):\n",
    "    \"\"\"Callback to print loss after each epoch\n",
    "    use by passing model.train(..., callbacks=[W2VLossLogger()])\n",
    "    \"\"\"\n",
    "\n",
    "    def __init__(self):\n",
    "        self.epoch = 0\n",
    "        \n",
    "\n",
    "    def on_epoch_end(self, model):\n",
    "        loss = model.get_latest_training_loss()\n",
    "\n",
    "        if self.epoch == 0:\n",
    "            print(\"Loss after epoch {}: {}\".format(self.epoch, loss))\n",
    "        else:\n",
    "            print(\n",
    "                \"Loss after epoch {}: {}\".format(\n",
    "                    self.epoch, loss - self.loss_previous_step\n",
    "                )\n",
    "            )\n",
    "        self.epoch += 1\n",
    "        self.loss_previous_step = loss\n",
    "\n",
    "\n",
    "def train_w2v_model(\n",
    "    sentences,\n",
    "    output_file,\n",
    "    window,\n",
    "    embedding_dim,\n",
    "    epochs,\n",
    "    min_word_count,\n",
    "):\n",
    "    \n",
    "\n",
    "    \"\"\"Train a word2vec model based on given sentences.\n",
    "    Args:\n",
    "        sentences list[list[str]]: List of sentences. Each element contains a list with the words\n",
    "            in the current sentence\n",
    "        output_file (str): Path to save the trained w2v model\n",
    "        window (int): w2v context size\n",
    "        embedding_dim (int): w2v vector dimension\n",
    "        epochs (int): How many epochs should the training run\n",
    "        min_word_count (int): Ignore words that appear less than min_word_count times\n",
    "    \"\"\"\n",
    "    workers = multiprocessing.cpu_count()\n",
    "    \n",
    "    # TODO: Instantiate gensim.models.Word2Vec class\n",
    "    model = Word2Vec(sentences=sentences, vector_size=embedding_dim, window=window, min_count=min_word_count, workers=multiprocessing.cpu_count())\n",
    "    model.build_vocab(sentences, progress_per=10000)\n",
    "    # TODO: Build model vocabulary using sentences\n",
    "    # TODO: Train word2vec model\n",
    "    model.train(sentences, total_examples=model.corpus_count,epochs=epochs,callbacks=[W2VLossLogger()])\n",
    "    # Save trained model\n",
    "    model.save(output_file)\n",
    "    # model.save(output_file)\n",
    "\n",
    "    \n",
    "\n",
    "    return model\n",
    "    \n",
    "\n",
    "\n"
   ]
  },
  {
   "cell_type": "code",
   "execution_count": 70,
   "id": "8de3a900",
   "metadata": {},
   "outputs": [
    {
     "name": "stderr",
     "output_type": "stream",
     "text": [
      "INFO - 16:11:57: collecting all words and their counts\n",
      "INFO - 16:11:57: PROGRESS: at sentence #0, processed 0 words, keeping 0 word types\n",
      "INFO - 16:11:57: PROGRESS: at sentence #10000, processed 113516 words, keeping 6065 word types\n",
      "INFO - 16:11:57: PROGRESS: at sentence #20000, processed 227311 words, keeping 8492 word types\n",
      "INFO - 16:11:57: PROGRESS: at sentence #30000, processed 324672 words, keeping 9841 word types\n",
      "INFO - 16:11:57: PROGRESS: at sentence #40000, processed 427445 words, keeping 11779 word types\n",
      "INFO - 16:11:57: PROGRESS: at sentence #50000, processed 537208 words, keeping 13110 word types\n",
      "INFO - 16:11:57: PROGRESS: at sentence #60000, processed 647741 words, keeping 14312 word types\n",
      "INFO - 16:11:57: PROGRESS: at sentence #70000, processed 751694 words, keeping 16043 word types\n",
      "INFO - 16:11:57: PROGRESS: at sentence #80000, processed 847983 words, keeping 16837 word types\n",
      "INFO - 16:11:57: PROGRESS: at sentence #90000, processed 957413 words, keeping 17332 word types\n",
      "INFO - 16:11:57: PROGRESS: at sentence #100000, processed 1063629 words, keeping 17986 word types\n",
      "INFO - 16:11:57: PROGRESS: at sentence #110000, processed 1164106 words, keeping 19045 word types\n",
      "INFO - 16:11:57: PROGRESS: at sentence #120000, processed 1276772 words, keeping 21274 word types\n",
      "INFO - 16:11:57: PROGRESS: at sentence #130000, processed 1385166 words, keeping 24315 word types\n",
      "INFO - 16:11:57: PROGRESS: at sentence #140000, processed 1496887 words, keeping 26028 word types\n",
      "INFO - 16:11:57: PROGRESS: at sentence #150000, processed 1613459 words, keeping 27039 word types\n",
      "INFO - 16:11:57: PROGRESS: at sentence #160000, processed 1725670 words, keeping 30107 word types\n",
      "INFO - 16:11:57: PROGRESS: at sentence #170000, processed 1837438 words, keeping 32790 word types\n",
      "INFO - 16:11:57: PROGRESS: at sentence #180000, processed 1920527 words, keeping 34578 word types\n",
      "INFO - 16:11:57: PROGRESS: at sentence #190000, processed 1996263 words, keeping 37997 word types\n",
      "INFO - 16:11:57: PROGRESS: at sentence #200000, processed 2084641 words, keeping 40487 word types\n",
      "INFO - 16:11:57: collected 41465 word types from a corpus of 2135928 raw words and 205767 sentences\n",
      "INFO - 16:11:57: Creating a fresh vocabulary\n",
      "INFO - 16:11:58: Word2Vec lifecycle event {'msg': 'effective_min_count=1 retains 41465 unique words (100.00% of original 41465, drops 0)', 'datetime': '2023-04-09T16:11:58.072782', 'gensim': '4.3.1', 'python': '3.10.7 (main, Mar 10 2023, 10:47:39) [GCC 12.2.0]', 'platform': 'Linux-5.19.0-38-generic-x86_64-with-glibc2.36', 'event': 'prepare_vocab'}\n",
      "INFO - 16:11:58: Word2Vec lifecycle event {'msg': 'effective_min_count=1 leaves 2135928 word corpus (100.00% of original 2135928, drops 0)', 'datetime': '2023-04-09T16:11:58.073640', 'gensim': '4.3.1', 'python': '3.10.7 (main, Mar 10 2023, 10:47:39) [GCC 12.2.0]', 'platform': 'Linux-5.19.0-38-generic-x86_64-with-glibc2.36', 'event': 'prepare_vocab'}\n",
      "INFO - 16:11:58: deleting the raw counts dictionary of 41465 items\n",
      "INFO - 16:11:58: sample=0.001 downsamples 56 most-common words\n",
      "INFO - 16:11:58: Word2Vec lifecycle event {'msg': 'downsampling leaves estimated 1561117.1381724994 word corpus (73.1%% of prior 2135928)', 'datetime': '2023-04-09T16:11:58.267401', 'gensim': '4.3.1', 'python': '3.10.7 (main, Mar 10 2023, 10:47:39) [GCC 12.2.0]', 'platform': 'Linux-5.19.0-38-generic-x86_64-with-glibc2.36', 'event': 'prepare_vocab'}\n",
      "INFO - 16:11:58: estimated required memory for 41465 words and 100 dimensions: 53904500 bytes\n",
      "INFO - 16:11:58: resetting layer weights\n",
      "INFO - 16:11:58: Word2Vec lifecycle event {'update': False, 'trim_rule': 'None', 'datetime': '2023-04-09T16:11:58.699689', 'gensim': '4.3.1', 'python': '3.10.7 (main, Mar 10 2023, 10:47:39) [GCC 12.2.0]', 'platform': 'Linux-5.19.0-38-generic-x86_64-with-glibc2.36', 'event': 'build_vocab'}\n",
      "INFO - 16:11:58: Word2Vec lifecycle event {'msg': 'training model with 8 workers on 41465 vocabulary and 100 features, using sg=0 hs=0 sample=0.001 negative=5 window=5 shrink_windows=True', 'datetime': '2023-04-09T16:11:58.700944', 'gensim': '4.3.1', 'python': '3.10.7 (main, Mar 10 2023, 10:47:39) [GCC 12.2.0]', 'platform': 'Linux-5.19.0-38-generic-x86_64-with-glibc2.36', 'event': 'train'}\n",
      "INFO - 16:11:59: EPOCH 0 - PROGRESS: at 70.21% examples, 1106454 words/s, in_qsize 15, out_qsize 0\n",
      "INFO - 16:12:00: EPOCH 0: training on 2135928 raw words (1560885 effective words) took 1.5s, 1075186 effective words/s\n",
      "INFO - 16:12:01: EPOCH 1 - PROGRESS: at 72.31% examples, 1132192 words/s, in_qsize 16, out_qsize 1\n",
      "INFO - 16:12:01: EPOCH 1: training on 2135928 raw words (1560004 effective words) took 1.3s, 1189445 effective words/s\n",
      "INFO - 16:12:02: EPOCH 2 - PROGRESS: at 69.78% examples, 1102255 words/s, in_qsize 16, out_qsize 0\n",
      "INFO - 16:12:02: EPOCH 2: training on 2135928 raw words (1560592 effective words) took 1.3s, 1165309 effective words/s\n",
      "INFO - 16:12:03: EPOCH 3 - PROGRESS: at 77.91% examples, 1243450 words/s, in_qsize 15, out_qsize 0\n",
      "INFO - 16:12:04: EPOCH 3: training on 2135928 raw words (1560005 effective words) took 1.2s, 1264576 effective words/s\n",
      "INFO - 16:12:05: EPOCH 4 - PROGRESS: at 77.91% examples, 1240784 words/s, in_qsize 12, out_qsize 3\n",
      "INFO - 16:12:05: EPOCH 4: training on 2135928 raw words (1560323 effective words) took 1.2s, 1264940 effective words/s\n",
      "INFO - 16:12:05: Word2Vec lifecycle event {'msg': 'training on 10679640 raw words (7801809 effective words) took 6.6s, 1178872 effective words/s', 'datetime': '2023-04-09T16:12:05.320005', 'gensim': '4.3.1', 'python': '3.10.7 (main, Mar 10 2023, 10:47:39) [GCC 12.2.0]', 'platform': 'Linux-5.19.0-38-generic-x86_64-with-glibc2.36', 'event': 'train'}\n",
      "INFO - 16:12:05: Word2Vec lifecycle event {'params': 'Word2Vec<vocab=41465, vector_size=100, alpha=0.025>', 'datetime': '2023-04-09T16:12:05.320891', 'gensim': '4.3.1', 'python': '3.10.7 (main, Mar 10 2023, 10:47:39) [GCC 12.2.0]', 'platform': 'Linux-5.19.0-38-generic-x86_64-with-glibc2.36', 'event': 'created'}\n",
      "INFO - 16:12:05: collecting all words and their counts\n",
      "INFO - 16:12:05: PROGRESS: at sentence #0, processed 0 words, keeping 0 word types\n",
      "INFO - 16:12:05: PROGRESS: at sentence #10000, processed 113516 words, keeping 6065 word types\n",
      "INFO - 16:12:05: PROGRESS: at sentence #20000, processed 227311 words, keeping 8492 word types\n",
      "INFO - 16:12:05: PROGRESS: at sentence #30000, processed 324672 words, keeping 9841 word types\n",
      "INFO - 16:12:05: PROGRESS: at sentence #40000, processed 427445 words, keeping 11779 word types\n",
      "INFO - 16:12:05: PROGRESS: at sentence #50000, processed 537208 words, keeping 13110 word types\n",
      "INFO - 16:12:05: PROGRESS: at sentence #60000, processed 647741 words, keeping 14312 word types\n",
      "INFO - 16:12:05: PROGRESS: at sentence #70000, processed 751694 words, keeping 16043 word types\n",
      "INFO - 16:12:05: PROGRESS: at sentence #80000, processed 847983 words, keeping 16837 word types\n",
      "INFO - 16:12:05: PROGRESS: at sentence #90000, processed 957413 words, keeping 17332 word types\n",
      "INFO - 16:12:05: PROGRESS: at sentence #100000, processed 1063629 words, keeping 17986 word types\n",
      "INFO - 16:12:05: PROGRESS: at sentence #110000, processed 1164106 words, keeping 19045 word types\n",
      "INFO - 16:12:05: PROGRESS: at sentence #120000, processed 1276772 words, keeping 21274 word types\n",
      "INFO - 16:12:05: PROGRESS: at sentence #130000, processed 1385166 words, keeping 24315 word types\n",
      "INFO - 16:12:05: PROGRESS: at sentence #140000, processed 1496887 words, keeping 26028 word types\n",
      "INFO - 16:12:05: PROGRESS: at sentence #150000, processed 1613459 words, keeping 27039 word types\n",
      "INFO - 16:12:05: PROGRESS: at sentence #160000, processed 1725670 words, keeping 30107 word types\n",
      "INFO - 16:12:05: PROGRESS: at sentence #170000, processed 1837438 words, keeping 32790 word types\n",
      "INFO - 16:12:05: PROGRESS: at sentence #180000, processed 1920527 words, keeping 34578 word types\n",
      "INFO - 16:12:05: PROGRESS: at sentence #190000, processed 1996263 words, keeping 37997 word types\n",
      "INFO - 16:12:05: PROGRESS: at sentence #200000, processed 2084641 words, keeping 40487 word types\n",
      "INFO - 16:12:05: collected 41465 word types from a corpus of 2135928 raw words and 205767 sentences\n",
      "INFO - 16:12:05: Creating a fresh vocabulary\n"
     ]
    },
    {
     "name": "stderr",
     "output_type": "stream",
     "text": [
      "INFO - 16:12:05: Word2Vec lifecycle event {'msg': 'effective_min_count=1 retains 41465 unique words (100.00% of original 41465, drops 0)', 'datetime': '2023-04-09T16:12:05.961152', 'gensim': '4.3.1', 'python': '3.10.7 (main, Mar 10 2023, 10:47:39) [GCC 12.2.0]', 'platform': 'Linux-5.19.0-38-generic-x86_64-with-glibc2.36', 'event': 'prepare_vocab'}\n",
      "INFO - 16:12:05: Word2Vec lifecycle event {'msg': 'effective_min_count=1 leaves 2135928 word corpus (100.00% of original 2135928, drops 0)', 'datetime': '2023-04-09T16:12:05.961876', 'gensim': '4.3.1', 'python': '3.10.7 (main, Mar 10 2023, 10:47:39) [GCC 12.2.0]', 'platform': 'Linux-5.19.0-38-generic-x86_64-with-glibc2.36', 'event': 'prepare_vocab'}\n",
      "INFO - 16:12:06: deleting the raw counts dictionary of 41465 items\n",
      "INFO - 16:12:06: sample=0.001 downsamples 56 most-common words\n",
      "INFO - 16:12:06: Word2Vec lifecycle event {'msg': 'downsampling leaves estimated 1561117.1381724994 word corpus (73.1%% of prior 2135928)', 'datetime': '2023-04-09T16:12:06.184735', 'gensim': '4.3.1', 'python': '3.10.7 (main, Mar 10 2023, 10:47:39) [GCC 12.2.0]', 'platform': 'Linux-5.19.0-38-generic-x86_64-with-glibc2.36', 'event': 'prepare_vocab'}\n",
      "WARNING - 16:12:06: sorting after vectors have been allocated is expensive & error-prone\n",
      "INFO - 16:12:06: estimated required memory for 41465 words and 100 dimensions: 53904500 bytes\n",
      "INFO - 16:12:06: resetting layer weights\n",
      "INFO - 16:12:06: Word2Vec lifecycle event {'update': False, 'trim_rule': 'None', 'datetime': '2023-04-09T16:12:06.512208', 'gensim': '4.3.1', 'python': '3.10.7 (main, Mar 10 2023, 10:47:39) [GCC 12.2.0]', 'platform': 'Linux-5.19.0-38-generic-x86_64-with-glibc2.36', 'event': 'build_vocab'}\n",
      "WARNING - 16:12:06: Effective 'alpha' higher than previous training cycles\n",
      "INFO - 16:12:06: Word2Vec lifecycle event {'msg': 'training model with 8 workers on 41465 vocabulary and 100 features, using sg=0 hs=0 sample=0.001 negative=5 window=5 shrink_windows=True', 'datetime': '2023-04-09T16:12:06.514903', 'gensim': '4.3.1', 'python': '3.10.7 (main, Mar 10 2023, 10:47:39) [GCC 12.2.0]', 'platform': 'Linux-5.19.0-38-generic-x86_64-with-glibc2.36', 'event': 'train'}\n",
      "INFO - 16:12:07: EPOCH 0 - PROGRESS: at 62.52% examples, 967509 words/s, in_qsize 13, out_qsize 2\n",
      "INFO - 16:12:08: EPOCH 0: training on 2135928 raw words (1561174 effective words) took 1.5s, 1034799 effective words/s\n"
     ]
    },
    {
     "name": "stdout",
     "output_type": "stream",
     "text": [
      "Loss after epoch 0: 0.0\n"
     ]
    },
    {
     "name": "stderr",
     "output_type": "stream",
     "text": [
      "INFO - 16:12:09: EPOCH 1 - PROGRESS: at 62.09% examples, 953139 words/s, in_qsize 15, out_qsize 0\n",
      "INFO - 16:12:09: EPOCH 1: training on 2135928 raw words (1560779 effective words) took 1.5s, 1036526 effective words/s\n"
     ]
    },
    {
     "name": "stdout",
     "output_type": "stream",
     "text": [
      "Loss after epoch 1: 0.0\n"
     ]
    },
    {
     "name": "stderr",
     "output_type": "stream",
     "text": [
      "INFO - 16:12:10: EPOCH 2 - PROGRESS: at 71.04% examples, 1116128 words/s, in_qsize 13, out_qsize 2\n",
      "INFO - 16:12:10: EPOCH 2: training on 2135928 raw words (1561105 effective words) took 1.4s, 1113647 effective words/s\n"
     ]
    },
    {
     "name": "stdout",
     "output_type": "stream",
     "text": [
      "Loss after epoch 2: 0.0\n"
     ]
    },
    {
     "name": "stderr",
     "output_type": "stream",
     "text": [
      "INFO - 16:12:11: EPOCH 3 - PROGRESS: at 66.87% examples, 1051982 words/s, in_qsize 15, out_qsize 0\n",
      "INFO - 16:12:12: EPOCH 3: training on 2135928 raw words (1560774 effective words) took 1.4s, 1084266 effective words/s\n"
     ]
    },
    {
     "name": "stdout",
     "output_type": "stream",
     "text": [
      "Loss after epoch 3: 0.0\n"
     ]
    },
    {
     "name": "stderr",
     "output_type": "stream",
     "text": [
      "INFO - 16:12:13: EPOCH 4 - PROGRESS: at 77.04% examples, 1228980 words/s, in_qsize 16, out_qsize 1\n",
      "INFO - 16:12:13: EPOCH 4: training on 2135928 raw words (1561529 effective words) took 1.2s, 1265150 effective words/s\n"
     ]
    },
    {
     "name": "stdout",
     "output_type": "stream",
     "text": [
      "Loss after epoch 4: 0.0\n"
     ]
    },
    {
     "name": "stderr",
     "output_type": "stream",
     "text": [
      "INFO - 16:12:14: EPOCH 5 - PROGRESS: at 77.47% examples, 1238909 words/s, in_qsize 16, out_qsize 0\n",
      "INFO - 16:12:14: EPOCH 5: training on 2135928 raw words (1560656 effective words) took 1.2s, 1260857 effective words/s\n"
     ]
    },
    {
     "name": "stdout",
     "output_type": "stream",
     "text": [
      "Loss after epoch 5: 0.0\n"
     ]
    },
    {
     "name": "stderr",
     "output_type": "stream",
     "text": [
      "INFO - 16:12:15: EPOCH 6 - PROGRESS: at 74.84% examples, 1192743 words/s, in_qsize 15, out_qsize 0\n",
      "INFO - 16:12:16: EPOCH 6: training on 2135928 raw words (1561291 effective words) took 1.3s, 1229918 effective words/s\n"
     ]
    },
    {
     "name": "stdout",
     "output_type": "stream",
     "text": [
      "Loss after epoch 6: 0.0\n"
     ]
    },
    {
     "name": "stderr",
     "output_type": "stream",
     "text": [
      "INFO - 16:12:17: EPOCH 7 - PROGRESS: at 78.34% examples, 1244504 words/s, in_qsize 15, out_qsize 0\n",
      "INFO - 16:12:17: EPOCH 7: training on 2135928 raw words (1561043 effective words) took 1.2s, 1285874 effective words/s\n"
     ]
    },
    {
     "name": "stdout",
     "output_type": "stream",
     "text": [
      "Loss after epoch 7: 0.0\n"
     ]
    },
    {
     "name": "stderr",
     "output_type": "stream",
     "text": [
      "INFO - 16:12:18: EPOCH 8 - PROGRESS: at 77.04% examples, 1224900 words/s, in_qsize 14, out_qsize 1\n",
      "INFO - 16:12:18: EPOCH 8: training on 2135928 raw words (1560861 effective words) took 1.2s, 1262040 effective words/s\n"
     ]
    },
    {
     "name": "stdout",
     "output_type": "stream",
     "text": [
      "Loss after epoch 8: 0.0\n"
     ]
    },
    {
     "name": "stderr",
     "output_type": "stream",
     "text": [
      "INFO - 16:12:19: EPOCH 9 - PROGRESS: at 74.84% examples, 1186137 words/s, in_qsize 16, out_qsize 1\n",
      "INFO - 16:12:19: EPOCH 9: training on 2135928 raw words (1560947 effective words) took 1.3s, 1229753 effective words/s\n"
     ]
    },
    {
     "name": "stdout",
     "output_type": "stream",
     "text": [
      "Loss after epoch 9: 0.0\n"
     ]
    },
    {
     "name": "stderr",
     "output_type": "stream",
     "text": [
      "INFO - 16:12:20: EPOCH 10 - PROGRESS: at 76.13% examples, 1214777 words/s, in_qsize 14, out_qsize 1\n",
      "INFO - 16:12:21: EPOCH 10: training on 2135928 raw words (1561419 effective words) took 1.3s, 1241336 effective words/s\n"
     ]
    },
    {
     "name": "stdout",
     "output_type": "stream",
     "text": [
      "Loss after epoch 10: 0.0\n"
     ]
    },
    {
     "name": "stderr",
     "output_type": "stream",
     "text": [
      "INFO - 16:12:22: EPOCH 11 - PROGRESS: at 77.90% examples, 1244844 words/s, in_qsize 13, out_qsize 2\n",
      "INFO - 16:12:22: EPOCH 11: training on 2135928 raw words (1560871 effective words) took 1.2s, 1275894 effective words/s\n"
     ]
    },
    {
     "name": "stdout",
     "output_type": "stream",
     "text": [
      "Loss after epoch 11: 0.0\n"
     ]
    },
    {
     "name": "stderr",
     "output_type": "stream",
     "text": [
      "INFO - 16:12:23: EPOCH 12 - PROGRESS: at 76.14% examples, 1214225 words/s, in_qsize 15, out_qsize 0\n",
      "INFO - 16:12:23: EPOCH 12: training on 2135928 raw words (1561401 effective words) took 1.3s, 1215347 effective words/s\n"
     ]
    },
    {
     "name": "stdout",
     "output_type": "stream",
     "text": [
      "Loss after epoch 12: 0.0\n"
     ]
    },
    {
     "name": "stderr",
     "output_type": "stream",
     "text": [
      "INFO - 16:12:24: EPOCH 13 - PROGRESS: at 66.46% examples, 1038073 words/s, in_qsize 15, out_qsize 0\n",
      "INFO - 16:12:25: EPOCH 13: training on 2135928 raw words (1560923 effective words) took 1.5s, 1048963 effective words/s\n"
     ]
    },
    {
     "name": "stdout",
     "output_type": "stream",
     "text": [
      "Loss after epoch 13: 0.0\n"
     ]
    },
    {
     "name": "stderr",
     "output_type": "stream",
     "text": [
      "INFO - 16:12:26: EPOCH 14 - PROGRESS: at 66.01% examples, 1038784 words/s, in_qsize 14, out_qsize 1\n",
      "INFO - 16:12:26: EPOCH 14: training on 2135928 raw words (1561134 effective words) took 1.4s, 1117035 effective words/s\n"
     ]
    },
    {
     "name": "stdout",
     "output_type": "stream",
     "text": [
      "Loss after epoch 14: 0.0\n"
     ]
    },
    {
     "name": "stderr",
     "output_type": "stream",
     "text": [
      "INFO - 16:12:27: EPOCH 15 - PROGRESS: at 77.44% examples, 1221259 words/s, in_qsize 13, out_qsize 2\n",
      "INFO - 16:12:27: EPOCH 15: training on 2135928 raw words (1562031 effective words) took 1.2s, 1255734 effective words/s\n"
     ]
    },
    {
     "name": "stdout",
     "output_type": "stream",
     "text": [
      "Loss after epoch 15: 0.0\n"
     ]
    },
    {
     "name": "stderr",
     "output_type": "stream",
     "text": [
      "INFO - 16:12:28: EPOCH 16 - PROGRESS: at 77.44% examples, 1232586 words/s, in_qsize 14, out_qsize 1\n",
      "INFO - 16:12:29: EPOCH 16: training on 2135928 raw words (1561323 effective words) took 1.3s, 1237686 effective words/s\n"
     ]
    },
    {
     "name": "stdout",
     "output_type": "stream",
     "text": [
      "Loss after epoch 16: 0.0\n"
     ]
    },
    {
     "name": "stderr",
     "output_type": "stream",
     "text": [
      "INFO - 16:12:30: EPOCH 17 - PROGRESS: at 74.40% examples, 1180227 words/s, in_qsize 16, out_qsize 1\n",
      "INFO - 16:12:30: EPOCH 17: training on 2135928 raw words (1561452 effective words) took 1.3s, 1214392 effective words/s\n"
     ]
    },
    {
     "name": "stdout",
     "output_type": "stream",
     "text": [
      "Loss after epoch 17: 0.0\n"
     ]
    },
    {
     "name": "stderr",
     "output_type": "stream",
     "text": [
      "INFO - 16:12:31: EPOCH 18 - PROGRESS: at 76.14% examples, 1216383 words/s, in_qsize 16, out_qsize 0\n",
      "INFO - 16:12:31: EPOCH 18: training on 2135928 raw words (1560389 effective words) took 1.3s, 1242469 effective words/s\n"
     ]
    },
    {
     "name": "stdout",
     "output_type": "stream",
     "text": [
      "Loss after epoch 18: 0.0\n"
     ]
    },
    {
     "name": "stderr",
     "output_type": "stream",
     "text": [
      "INFO - 16:12:32: EPOCH 19 - PROGRESS: at 80.07% examples, 1273578 words/s, in_qsize 16, out_qsize 0\n",
      "INFO - 16:12:32: EPOCH 19: training on 2135928 raw words (1561022 effective words) took 1.2s, 1295735 effective words/s\n"
     ]
    },
    {
     "name": "stdout",
     "output_type": "stream",
     "text": [
      "Loss after epoch 19: 0.0\n"
     ]
    },
    {
     "name": "stderr",
     "output_type": "stream",
     "text": [
      "INFO - 16:12:33: EPOCH 20 - PROGRESS: at 70.21% examples, 1110573 words/s, in_qsize 14, out_qsize 1\n",
      "INFO - 16:12:34: EPOCH 20: training on 2135928 raw words (1560375 effective words) took 1.4s, 1094330 effective words/s\n"
     ]
    },
    {
     "name": "stdout",
     "output_type": "stream",
     "text": [
      "Loss after epoch 20: 0.0\n"
     ]
    },
    {
     "name": "stderr",
     "output_type": "stream",
     "text": [
      "INFO - 16:12:35: EPOCH 21 - PROGRESS: at 64.22% examples, 1001156 words/s, in_qsize 14, out_qsize 1\n",
      "INFO - 16:12:35: EPOCH 21: training on 2135928 raw words (1561346 effective words) took 1.5s, 1038707 effective words/s\n"
     ]
    },
    {
     "name": "stdout",
     "output_type": "stream",
     "text": [
      "Loss after epoch 21: 0.0\n"
     ]
    },
    {
     "name": "stderr",
     "output_type": "stream",
     "text": [
      "INFO - 16:12:36: EPOCH 22 - PROGRESS: at 61.66% examples, 965805 words/s, in_qsize 15, out_qsize 0\n",
      "INFO - 16:12:37: EPOCH 22: training on 2135928 raw words (1561064 effective words) took 1.5s, 1021942 effective words/s\n"
     ]
    },
    {
     "name": "stdout",
     "output_type": "stream",
     "text": [
      "Loss after epoch 22: 0.0\n"
     ]
    },
    {
     "name": "stderr",
     "output_type": "stream",
     "text": [
      "INFO - 16:12:38: EPOCH 23 - PROGRESS: at 60.28% examples, 935930 words/s, in_qsize 15, out_qsize 0\n",
      "INFO - 16:12:39: EPOCH 23: training on 2135928 raw words (1561491 effective words) took 1.6s, 962982 effective words/s\n"
     ]
    },
    {
     "name": "stdout",
     "output_type": "stream",
     "text": [
      "Loss after epoch 23: 0.0\n"
     ]
    },
    {
     "name": "stderr",
     "output_type": "stream",
     "text": [
      "INFO - 16:12:40: EPOCH 24 - PROGRESS: at 73.54% examples, 1171468 words/s, in_qsize 14, out_qsize 1\n",
      "INFO - 16:12:40: EPOCH 24: training on 2135928 raw words (1561220 effective words) took 1.3s, 1156908 effective words/s\n"
     ]
    },
    {
     "name": "stdout",
     "output_type": "stream",
     "text": [
      "Loss after epoch 24: 0.0\n"
     ]
    },
    {
     "name": "stderr",
     "output_type": "stream",
     "text": [
      "INFO - 16:12:41: EPOCH 25 - PROGRESS: at 70.63% examples, 1103706 words/s, in_qsize 15, out_qsize 0\n",
      "INFO - 16:12:41: EPOCH 25: training on 2135928 raw words (1560426 effective words) took 1.4s, 1120734 effective words/s\n"
     ]
    },
    {
     "name": "stdout",
     "output_type": "stream",
     "text": [
      "Loss after epoch 25: 0.0\n"
     ]
    },
    {
     "name": "stderr",
     "output_type": "stream",
     "text": [
      "INFO - 16:12:42: EPOCH 26 - PROGRESS: at 71.46% examples, 1133944 words/s, in_qsize 15, out_qsize 0\n",
      "INFO - 16:12:43: EPOCH 26: training on 2135928 raw words (1561884 effective words) took 1.4s, 1145643 effective words/s\n"
     ]
    },
    {
     "name": "stdout",
     "output_type": "stream",
     "text": [
      "Loss after epoch 26: 0.0\n"
     ]
    },
    {
     "name": "stderr",
     "output_type": "stream",
     "text": [
      "INFO - 16:12:44: EPOCH 27 - PROGRESS: at 72.31% examples, 1149026 words/s, in_qsize 15, out_qsize 0\n",
      "INFO - 16:12:44: EPOCH 27: training on 2135928 raw words (1561583 effective words) took 1.3s, 1202854 effective words/s\n"
     ]
    },
    {
     "name": "stdout",
     "output_type": "stream",
     "text": [
      "Loss after epoch 27: 0.0\n"
     ]
    },
    {
     "name": "stderr",
     "output_type": "stream",
     "text": [
      "INFO - 16:12:45: EPOCH 28 - PROGRESS: at 71.03% examples, 1128871 words/s, in_qsize 14, out_qsize 1\n",
      "INFO - 16:12:45: EPOCH 28: training on 2135928 raw words (1561900 effective words) took 1.3s, 1183162 effective words/s\n"
     ]
    },
    {
     "name": "stdout",
     "output_type": "stream",
     "text": [
      "Loss after epoch 28: 0.0\n"
     ]
    },
    {
     "name": "stderr",
     "output_type": "stream",
     "text": [
      "INFO - 16:12:46: EPOCH 29 - PROGRESS: at 75.71% examples, 1209963 words/s, in_qsize 13, out_qsize 2\n",
      "INFO - 16:12:47: EPOCH 29: training on 2135928 raw words (1560874 effective words) took 1.3s, 1230986 effective words/s\n"
     ]
    },
    {
     "name": "stdout",
     "output_type": "stream",
     "text": [
      "Loss after epoch 29: 0.0\n"
     ]
    },
    {
     "name": "stderr",
     "output_type": "stream",
     "text": [
      "INFO - 16:12:48: EPOCH 30 - PROGRESS: at 73.54% examples, 1163002 words/s, in_qsize 15, out_qsize 0\n",
      "INFO - 16:12:48: EPOCH 30: training on 2135928 raw words (1561135 effective words) took 1.4s, 1155496 effective words/s\n"
     ]
    },
    {
     "name": "stdout",
     "output_type": "stream",
     "text": [
      "Loss after epoch 30: 0.0\n"
     ]
    },
    {
     "name": "stderr",
     "output_type": "stream",
     "text": [
      "INFO - 16:12:49: EPOCH 31 - PROGRESS: at 76.57% examples, 1213558 words/s, in_qsize 14, out_qsize 1\n",
      "INFO - 16:12:49: EPOCH 31: training on 2135928 raw words (1560775 effective words) took 1.3s, 1210177 effective words/s\n"
     ]
    },
    {
     "name": "stdout",
     "output_type": "stream",
     "text": [
      "Loss after epoch 31: 0.0\n"
     ]
    },
    {
     "name": "stderr",
     "output_type": "stream",
     "text": [
      "INFO - 16:12:50: EPOCH 32 - PROGRESS: at 69.38% examples, 1093351 words/s, in_qsize 15, out_qsize 0\n",
      "INFO - 16:12:51: EPOCH 32: training on 2135928 raw words (1561013 effective words) took 1.4s, 1151698 effective words/s\n"
     ]
    },
    {
     "name": "stdout",
     "output_type": "stream",
     "text": [
      "Loss after epoch 32: 0.0\n"
     ]
    },
    {
     "name": "stderr",
     "output_type": "stream",
     "text": [
      "INFO - 16:12:52: EPOCH 33 - PROGRESS: at 75.26% examples, 1183764 words/s, in_qsize 15, out_qsize 0\n",
      "INFO - 16:12:52: EPOCH 33: training on 2135928 raw words (1560274 effective words) took 1.3s, 1206392 effective words/s\n"
     ]
    },
    {
     "name": "stdout",
     "output_type": "stream",
     "text": [
      "Loss after epoch 33: 0.0\n"
     ]
    },
    {
     "name": "stderr",
     "output_type": "stream",
     "text": [
      "INFO - 16:12:53: EPOCH 34 - PROGRESS: at 71.03% examples, 1115801 words/s, in_qsize 14, out_qsize 1\n",
      "INFO - 16:12:53: EPOCH 34: training on 2135928 raw words (1560589 effective words) took 1.4s, 1106446 effective words/s\n"
     ]
    },
    {
     "name": "stdout",
     "output_type": "stream",
     "text": [
      "Loss after epoch 34: 0.0\n"
     ]
    },
    {
     "name": "stderr",
     "output_type": "stream",
     "text": [
      "INFO - 16:12:54: EPOCH 35 - PROGRESS: at 67.68% examples, 1061900 words/s, in_qsize 14, out_qsize 1\n",
      "INFO - 16:12:55: EPOCH 35: training on 2135928 raw words (1561241 effective words) took 1.5s, 1072431 effective words/s\n"
     ]
    },
    {
     "name": "stdout",
     "output_type": "stream",
     "text": [
      "Loss after epoch 35: 0.0\n"
     ]
    },
    {
     "name": "stderr",
     "output_type": "stream",
     "text": [
      "INFO - 16:12:56: EPOCH 36 - PROGRESS: at 65.56% examples, 1019672 words/s, in_qsize 16, out_qsize 1\n",
      "INFO - 16:12:56: EPOCH 36: training on 2135928 raw words (1560940 effective words) took 1.4s, 1089911 effective words/s\n"
     ]
    },
    {
     "name": "stdout",
     "output_type": "stream",
     "text": [
      "Loss after epoch 36: 0.0\n"
     ]
    },
    {
     "name": "stderr",
     "output_type": "stream",
     "text": [
      "INFO - 16:12:57: EPOCH 37 - PROGRESS: at 63.79% examples, 985238 words/s, in_qsize 13, out_qsize 2\n",
      "INFO - 16:12:58: EPOCH 37: training on 2135928 raw words (1561319 effective words) took 1.5s, 1062204 effective words/s\n"
     ]
    },
    {
     "name": "stdout",
     "output_type": "stream",
     "text": [
      "Loss after epoch 37: 0.0\n"
     ]
    },
    {
     "name": "stderr",
     "output_type": "stream",
     "text": [
      "INFO - 16:12:59: EPOCH 38 - PROGRESS: at 68.53% examples, 1079934 words/s, in_qsize 15, out_qsize 0\n",
      "INFO - 16:12:59: EPOCH 38: training on 2135928 raw words (1561355 effective words) took 1.4s, 1154272 effective words/s\n"
     ]
    },
    {
     "name": "stdout",
     "output_type": "stream",
     "text": [
      "Loss after epoch 38: 0.0\n"
     ]
    },
    {
     "name": "stderr",
     "output_type": "stream",
     "text": [
      "INFO - 16:13:00: EPOCH 39 - PROGRESS: at 63.78% examples, 997389 words/s, in_qsize 14, out_qsize 1\n",
      "INFO - 16:13:01: EPOCH 39: training on 2135928 raw words (1560800 effective words) took 1.5s, 1045235 effective words/s\n"
     ]
    },
    {
     "name": "stdout",
     "output_type": "stream",
     "text": [
      "Loss after epoch 39: 0.0\n"
     ]
    },
    {
     "name": "stderr",
     "output_type": "stream",
     "text": [
      "INFO - 16:13:02: EPOCH 40 - PROGRESS: at 65.11% examples, 1010603 words/s, in_qsize 14, out_qsize 1\n",
      "INFO - 16:13:02: EPOCH 40: training on 2135928 raw words (1561826 effective words) took 1.5s, 1029975 effective words/s\n"
     ]
    },
    {
     "name": "stdout",
     "output_type": "stream",
     "text": [
      "Loss after epoch 40: 0.0\n"
     ]
    },
    {
     "name": "stderr",
     "output_type": "stream",
     "text": [
      "INFO - 16:13:03: EPOCH 41 - PROGRESS: at 73.54% examples, 1161264 words/s, in_qsize 15, out_qsize 0\n",
      "INFO - 16:13:03: EPOCH 41: training on 2135928 raw words (1561314 effective words) took 1.3s, 1198088 effective words/s\n"
     ]
    },
    {
     "name": "stdout",
     "output_type": "stream",
     "text": [
      "Loss after epoch 41: 0.0\n"
     ]
    },
    {
     "name": "stderr",
     "output_type": "stream",
     "text": [
      "INFO - 16:13:04: EPOCH 42 - PROGRESS: at 64.66% examples, 1011557 words/s, in_qsize 15, out_qsize 0\n",
      "INFO - 16:13:05: EPOCH 42: training on 2135928 raw words (1560999 effective words) took 1.5s, 1071940 effective words/s\n"
     ]
    },
    {
     "name": "stdout",
     "output_type": "stream",
     "text": [
      "Loss after epoch 42: 0.0\n"
     ]
    },
    {
     "name": "stderr",
     "output_type": "stream",
     "text": [
      "INFO - 16:13:06: EPOCH 43 - PROGRESS: at 67.33% examples, 1060466 words/s, in_qsize 15, out_qsize 0\n",
      "INFO - 16:13:06: EPOCH 43: training on 2135928 raw words (1561605 effective words) took 1.5s, 1049489 effective words/s\n"
     ]
    },
    {
     "name": "stdout",
     "output_type": "stream",
     "text": [
      "Loss after epoch 43: 0.0\n"
     ]
    },
    {
     "name": "stderr",
     "output_type": "stream",
     "text": [
      "INFO - 16:13:07: EPOCH 44 - PROGRESS: at 70.62% examples, 1112731 words/s, in_qsize 14, out_qsize 1\n",
      "INFO - 16:13:08: EPOCH 44: training on 2135928 raw words (1560332 effective words) took 1.4s, 1122391 effective words/s\n"
     ]
    },
    {
     "name": "stdout",
     "output_type": "stream",
     "text": [
      "Loss after epoch 44: 0.0\n"
     ]
    },
    {
     "name": "stderr",
     "output_type": "stream",
     "text": [
      "INFO - 16:13:09: EPOCH 45 - PROGRESS: at 75.69% examples, 1203465 words/s, in_qsize 15, out_qsize 0\n",
      "INFO - 16:13:09: EPOCH 45: training on 2135928 raw words (1561078 effective words) took 1.3s, 1232796 effective words/s\n"
     ]
    },
    {
     "name": "stdout",
     "output_type": "stream",
     "text": [
      "Loss after epoch 45: 0.0\n"
     ]
    },
    {
     "name": "stderr",
     "output_type": "stream",
     "text": [
      "INFO - 16:13:10: EPOCH 46 - PROGRESS: at 74.84% examples, 1184936 words/s, in_qsize 15, out_qsize 1\n",
      "INFO - 16:13:10: EPOCH 46: training on 2135928 raw words (1560773 effective words) took 1.3s, 1235271 effective words/s\n"
     ]
    },
    {
     "name": "stdout",
     "output_type": "stream",
     "text": [
      "Loss after epoch 46: 0.0\n"
     ]
    },
    {
     "name": "stderr",
     "output_type": "stream",
     "text": [
      "INFO - 16:13:11: EPOCH 47 - PROGRESS: at 78.78% examples, 1256587 words/s, in_qsize 16, out_qsize 1\n",
      "INFO - 16:13:12: EPOCH 47: training on 2135928 raw words (1561765 effective words) took 1.2s, 1288396 effective words/s\n"
     ]
    },
    {
     "name": "stdout",
     "output_type": "stream",
     "text": [
      "Loss after epoch 47: 0.0\n"
     ]
    },
    {
     "name": "stderr",
     "output_type": "stream",
     "text": [
      "INFO - 16:13:13: EPOCH 48 - PROGRESS: at 66.01% examples, 1023864 words/s, in_qsize 15, out_qsize 0\n",
      "INFO - 16:13:13: EPOCH 48: training on 2135928 raw words (1561779 effective words) took 1.5s, 1057233 effective words/s\n"
     ]
    },
    {
     "name": "stdout",
     "output_type": "stream",
     "text": [
      "Loss after epoch 48: 0.0\n"
     ]
    },
    {
     "name": "stderr",
     "output_type": "stream",
     "text": [
      "INFO - 16:13:14: EPOCH 49 - PROGRESS: at 62.52% examples, 968040 words/s, in_qsize 15, out_qsize 0\n",
      "INFO - 16:13:15: EPOCH 49: training on 2135928 raw words (1561238 effective words) took 1.5s, 1024282 effective words/s\n"
     ]
    },
    {
     "name": "stdout",
     "output_type": "stream",
     "text": [
      "Loss after epoch 49: 0.0\n"
     ]
    },
    {
     "name": "stderr",
     "output_type": "stream",
     "text": [
      "INFO - 16:13:16: EPOCH 50 - PROGRESS: at 68.13% examples, 1067107 words/s, in_qsize 15, out_qsize 0\n",
      "INFO - 16:13:16: EPOCH 50: training on 2135928 raw words (1561805 effective words) took 1.4s, 1091252 effective words/s\n"
     ]
    },
    {
     "name": "stdout",
     "output_type": "stream",
     "text": [
      "Loss after epoch 50: 0.0\n"
     ]
    },
    {
     "name": "stderr",
     "output_type": "stream",
     "text": [
      "INFO - 16:13:17: EPOCH 51 - PROGRESS: at 59.80% examples, 934938 words/s, in_qsize 14, out_qsize 1\n",
      "INFO - 16:13:18: EPOCH 51: training on 2135928 raw words (1560645 effective words) took 1.5s, 1027538 effective words/s\n"
     ]
    },
    {
     "name": "stdout",
     "output_type": "stream",
     "text": [
      "Loss after epoch 51: 0.0\n"
     ]
    },
    {
     "name": "stderr",
     "output_type": "stream",
     "text": [
      "INFO - 16:13:19: EPOCH 52 - PROGRESS: at 66.93% examples, 1045882 words/s, in_qsize 13, out_qsize 2\n",
      "INFO - 16:13:19: EPOCH 52: training on 2135928 raw words (1561619 effective words) took 1.4s, 1089180 effective words/s\n"
     ]
    },
    {
     "name": "stdout",
     "output_type": "stream",
     "text": [
      "Loss after epoch 52: 0.0\n"
     ]
    },
    {
     "name": "stderr",
     "output_type": "stream",
     "text": [
      "INFO - 16:13:20: EPOCH 53 - PROGRESS: at 61.65% examples, 939449 words/s, in_qsize 12, out_qsize 3\n",
      "INFO - 16:13:21: EPOCH 53: training on 2135928 raw words (1560961 effective words) took 1.6s, 995179 effective words/s\n"
     ]
    },
    {
     "name": "stdout",
     "output_type": "stream",
     "text": [
      "Loss after epoch 53: 0.0\n"
     ]
    },
    {
     "name": "stderr",
     "output_type": "stream",
     "text": [
      "INFO - 16:13:22: EPOCH 54 - PROGRESS: at 76.57% examples, 1216974 words/s, in_qsize 15, out_qsize 0\n",
      "INFO - 16:13:22: EPOCH 54: training on 2135928 raw words (1560442 effective words) took 1.3s, 1223457 effective words/s\n"
     ]
    },
    {
     "name": "stdout",
     "output_type": "stream",
     "text": [
      "Loss after epoch 54: 0.0\n"
     ]
    },
    {
     "name": "stderr",
     "output_type": "stream",
     "text": [
      "INFO - 16:13:23: EPOCH 55 - PROGRESS: at 75.26% examples, 1195944 words/s, in_qsize 16, out_qsize 0\n",
      "INFO - 16:13:23: EPOCH 55: training on 2135928 raw words (1561472 effective words) took 1.3s, 1195004 effective words/s\n"
     ]
    },
    {
     "name": "stdout",
     "output_type": "stream",
     "text": [
      "Loss after epoch 55: 0.0\n"
     ]
    },
    {
     "name": "stderr",
     "output_type": "stream",
     "text": [
      "INFO - 16:13:24: EPOCH 56 - PROGRESS: at 66.48% examples, 1040256 words/s, in_qsize 15, out_qsize 0\n",
      "INFO - 16:13:25: EPOCH 56: training on 2135928 raw words (1561576 effective words) took 1.5s, 1060896 effective words/s\n"
     ]
    },
    {
     "name": "stdout",
     "output_type": "stream",
     "text": [
      "Loss after epoch 56: 0.0\n"
     ]
    },
    {
     "name": "stderr",
     "output_type": "stream",
     "text": [
      "INFO - 16:13:26: EPOCH 57 - PROGRESS: at 73.95% examples, 1177576 words/s, in_qsize 15, out_qsize 0\n",
      "INFO - 16:13:26: EPOCH 57: training on 2135928 raw words (1561344 effective words) took 1.3s, 1188988 effective words/s\n"
     ]
    },
    {
     "name": "stdout",
     "output_type": "stream",
     "text": [
      "Loss after epoch 57: 0.0\n"
     ]
    },
    {
     "name": "stderr",
     "output_type": "stream",
     "text": [
      "INFO - 16:13:27: EPOCH 58 - PROGRESS: at 66.01% examples, 1021884 words/s, in_qsize 14, out_qsize 1\n",
      "INFO - 16:13:27: EPOCH 58: training on 2135928 raw words (1560700 effective words) took 1.4s, 1097075 effective words/s\n"
     ]
    },
    {
     "name": "stdout",
     "output_type": "stream",
     "text": [
      "Loss after epoch 58: 0.0\n"
     ]
    },
    {
     "name": "stderr",
     "output_type": "stream",
     "text": [
      "INFO - 16:13:28: EPOCH 59 - PROGRESS: at 69.74% examples, 1088563 words/s, in_qsize 14, out_qsize 1\n",
      "INFO - 16:13:29: EPOCH 59: training on 2135928 raw words (1561329 effective words) took 1.4s, 1121736 effective words/s\n"
     ]
    },
    {
     "name": "stdout",
     "output_type": "stream",
     "text": [
      "Loss after epoch 59: 0.0\n"
     ]
    },
    {
     "name": "stderr",
     "output_type": "stream",
     "text": [
      "INFO - 16:13:30: EPOCH 60 - PROGRESS: at 69.38% examples, 1092342 words/s, in_qsize 15, out_qsize 0\n",
      "INFO - 16:13:30: EPOCH 60: training on 2135928 raw words (1561333 effective words) took 1.4s, 1103197 effective words/s\n"
     ]
    },
    {
     "name": "stdout",
     "output_type": "stream",
     "text": [
      "Loss after epoch 60: 0.0\n"
     ]
    },
    {
     "name": "stderr",
     "output_type": "stream",
     "text": [
      "INFO - 16:13:31: EPOCH 61 - PROGRESS: at 59.82% examples, 934711 words/s, in_qsize 15, out_qsize 0\n",
      "INFO - 16:13:32: EPOCH 61: training on 2135928 raw words (1561411 effective words) took 1.5s, 1018624 effective words/s\n"
     ]
    },
    {
     "name": "stdout",
     "output_type": "stream",
     "text": [
      "Loss after epoch 61: 0.0\n"
     ]
    },
    {
     "name": "stderr",
     "output_type": "stream",
     "text": [
      "INFO - 16:13:33: EPOCH 62 - PROGRESS: at 76.14% examples, 1214807 words/s, in_qsize 15, out_qsize 0\n",
      "INFO - 16:13:33: EPOCH 62: training on 2135928 raw words (1561684 effective words) took 1.3s, 1210269 effective words/s\n"
     ]
    },
    {
     "name": "stdout",
     "output_type": "stream",
     "text": [
      "Loss after epoch 62: 0.0\n"
     ]
    },
    {
     "name": "stderr",
     "output_type": "stream",
     "text": [
      "INFO - 16:13:34: EPOCH 63 - PROGRESS: at 69.74% examples, 1105255 words/s, in_qsize 15, out_qsize 0\n",
      "INFO - 16:13:34: EPOCH 63: training on 2135928 raw words (1561747 effective words) took 1.3s, 1175778 effective words/s\n"
     ]
    },
    {
     "name": "stdout",
     "output_type": "stream",
     "text": [
      "Loss after epoch 63: 0.0\n"
     ]
    },
    {
     "name": "stderr",
     "output_type": "stream",
     "text": [
      "INFO - 16:13:35: EPOCH 64 - PROGRESS: at 59.82% examples, 929094 words/s, in_qsize 16, out_qsize 2\n",
      "INFO - 16:13:36: EPOCH 64: training on 2135928 raw words (1560768 effective words) took 1.5s, 1025904 effective words/s\n"
     ]
    },
    {
     "name": "stdout",
     "output_type": "stream",
     "text": [
      "Loss after epoch 64: 0.0\n"
     ]
    },
    {
     "name": "stderr",
     "output_type": "stream",
     "text": [
      "INFO - 16:13:37: EPOCH 65 - PROGRESS: at 63.79% examples, 1000329 words/s, in_qsize 14, out_qsize 1\n",
      "INFO - 16:13:37: EPOCH 65: training on 2135928 raw words (1560806 effective words) took 1.5s, 1045118 effective words/s\n"
     ]
    },
    {
     "name": "stdout",
     "output_type": "stream",
     "text": [
      "Loss after epoch 65: 0.0\n"
     ]
    },
    {
     "name": "stderr",
     "output_type": "stream",
     "text": [
      "INFO - 16:13:39: EPOCH 66 - PROGRESS: at 69.33% examples, 1091570 words/s, in_qsize 15, out_qsize 0\n",
      "INFO - 16:13:39: EPOCH 66: training on 2135928 raw words (1561278 effective words) took 1.4s, 1139468 effective words/s\n"
     ]
    },
    {
     "name": "stdout",
     "output_type": "stream",
     "text": [
      "Loss after epoch 66: 0.0\n"
     ]
    },
    {
     "name": "stderr",
     "output_type": "stream",
     "text": [
      "INFO - 16:13:40: EPOCH 67 - PROGRESS: at 62.52% examples, 965145 words/s, in_qsize 15, out_qsize 0\n",
      "INFO - 16:13:40: EPOCH 67: training on 2135928 raw words (1561878 effective words) took 1.5s, 1012378 effective words/s\n"
     ]
    },
    {
     "name": "stdout",
     "output_type": "stream",
     "text": [
      "Loss after epoch 67: 0.0\n"
     ]
    },
    {
     "name": "stderr",
     "output_type": "stream",
     "text": [
      "INFO - 16:13:41: EPOCH 68 - PROGRESS: at 68.53% examples, 1078017 words/s, in_qsize 15, out_qsize 0\n",
      "INFO - 16:13:42: EPOCH 68: training on 2135928 raw words (1561576 effective words) took 1.4s, 1154462 effective words/s\n"
     ]
    },
    {
     "name": "stdout",
     "output_type": "stream",
     "text": [
      "Loss after epoch 68: 0.0\n"
     ]
    },
    {
     "name": "stderr",
     "output_type": "stream",
     "text": [
      "INFO - 16:13:43: EPOCH 69 - PROGRESS: at 77.47% examples, 1238883 words/s, in_qsize 15, out_qsize 0\n",
      "INFO - 16:13:43: EPOCH 69: training on 2135928 raw words (1561021 effective words) took 1.2s, 1273532 effective words/s\n"
     ]
    },
    {
     "name": "stdout",
     "output_type": "stream",
     "text": [
      "Loss after epoch 69: 0.0\n"
     ]
    },
    {
     "name": "stderr",
     "output_type": "stream",
     "text": [
      "INFO - 16:13:44: EPOCH 70 - PROGRESS: at 76.57% examples, 1225753 words/s, in_qsize 15, out_qsize 0\n",
      "INFO - 16:13:44: EPOCH 70: training on 2135928 raw words (1561208 effective words) took 1.2s, 1263401 effective words/s\n"
     ]
    },
    {
     "name": "stdout",
     "output_type": "stream",
     "text": [
      "Loss after epoch 70: 0.0\n"
     ]
    },
    {
     "name": "stderr",
     "output_type": "stream",
     "text": [
      "INFO - 16:13:45: EPOCH 71 - PROGRESS: at 76.61% examples, 1222518 words/s, in_qsize 15, out_qsize 0\n",
      "INFO - 16:13:46: EPOCH 71: training on 2135928 raw words (1560696 effective words) took 1.2s, 1255087 effective words/s\n"
     ]
    },
    {
     "name": "stdout",
     "output_type": "stream",
     "text": [
      "Loss after epoch 71: 0.0\n"
     ]
    },
    {
     "name": "stderr",
     "output_type": "stream",
     "text": [
      "INFO - 16:13:47: EPOCH 72 - PROGRESS: at 76.61% examples, 1218951 words/s, in_qsize 15, out_qsize 0\n",
      "INFO - 16:13:47: EPOCH 72: training on 2135928 raw words (1560229 effective words) took 1.2s, 1266000 effective words/s\n"
     ]
    },
    {
     "name": "stdout",
     "output_type": "stream",
     "text": [
      "Loss after epoch 72: 0.0\n"
     ]
    },
    {
     "name": "stderr",
     "output_type": "stream",
     "text": [
      "INFO - 16:13:48: EPOCH 73 - PROGRESS: at 75.71% examples, 1210037 words/s, in_qsize 16, out_qsize 0\n",
      "INFO - 16:13:48: EPOCH 73: training on 2135928 raw words (1561281 effective words) took 1.3s, 1242895 effective words/s\n"
     ]
    },
    {
     "name": "stdout",
     "output_type": "stream",
     "text": [
      "Loss after epoch 73: 0.0\n"
     ]
    },
    {
     "name": "stderr",
     "output_type": "stream",
     "text": [
      "INFO - 16:13:49: EPOCH 74 - PROGRESS: at 77.91% examples, 1246886 words/s, in_qsize 16, out_qsize 0\n",
      "INFO - 16:13:49: EPOCH 74: training on 2135928 raw words (1561408 effective words) took 1.2s, 1257678 effective words/s\n"
     ]
    },
    {
     "name": "stdout",
     "output_type": "stream",
     "text": [
      "Loss after epoch 74: 0.0\n"
     ]
    },
    {
     "name": "stderr",
     "output_type": "stream",
     "text": [
      "INFO - 16:13:50: EPOCH 75 - PROGRESS: at 78.34% examples, 1255062 words/s, in_qsize 15, out_qsize 0\n",
      "INFO - 16:13:51: EPOCH 75: training on 2135928 raw words (1560624 effective words) took 1.2s, 1288402 effective words/s\n"
     ]
    },
    {
     "name": "stdout",
     "output_type": "stream",
     "text": [
      "Loss after epoch 75: 0.0\n"
     ]
    },
    {
     "name": "stderr",
     "output_type": "stream",
     "text": [
      "INFO - 16:13:52: EPOCH 76 - PROGRESS: at 78.78% examples, 1244749 words/s, in_qsize 13, out_qsize 2\n",
      "INFO - 16:13:52: EPOCH 76: training on 2135928 raw words (1560404 effective words) took 1.2s, 1270027 effective words/s\n"
     ]
    },
    {
     "name": "stdout",
     "output_type": "stream",
     "text": [
      "Loss after epoch 76: 0.0\n"
     ]
    },
    {
     "name": "stderr",
     "output_type": "stream",
     "text": [
      "INFO - 16:13:53: EPOCH 77 - PROGRESS: at 76.55% examples, 1212287 words/s, in_qsize 13, out_qsize 4\n",
      "INFO - 16:13:53: EPOCH 77: training on 2135928 raw words (1561535 effective words) took 1.2s, 1257149 effective words/s\n"
     ]
    },
    {
     "name": "stdout",
     "output_type": "stream",
     "text": [
      "Loss after epoch 77: 0.0\n"
     ]
    },
    {
     "name": "stderr",
     "output_type": "stream",
     "text": [
      "INFO - 16:13:54: EPOCH 78 - PROGRESS: at 77.91% examples, 1235003 words/s, in_qsize 14, out_qsize 1\n",
      "INFO - 16:13:54: EPOCH 78: training on 2135928 raw words (1560902 effective words) took 1.2s, 1286577 effective words/s\n"
     ]
    },
    {
     "name": "stdout",
     "output_type": "stream",
     "text": [
      "Loss after epoch 78: 0.0\n"
     ]
    },
    {
     "name": "stderr",
     "output_type": "stream",
     "text": [
      "INFO - 16:13:55: EPOCH 79 - PROGRESS: at 78.77% examples, 1238322 words/s, in_qsize 15, out_qsize 0\n",
      "INFO - 16:13:55: EPOCH 79: training on 2135928 raw words (1560629 effective words) took 1.2s, 1285984 effective words/s\n"
     ]
    },
    {
     "name": "stdout",
     "output_type": "stream",
     "text": [
      "Loss after epoch 79: 0.0\n"
     ]
    },
    {
     "name": "stderr",
     "output_type": "stream",
     "text": [
      "INFO - 16:13:56: EPOCH 80 - PROGRESS: at 77.91% examples, 1237591 words/s, in_qsize 16, out_qsize 0\n",
      "INFO - 16:13:57: EPOCH 80: training on 2135928 raw words (1560780 effective words) took 1.2s, 1265824 effective words/s\n"
     ]
    },
    {
     "name": "stdout",
     "output_type": "stream",
     "text": [
      "Loss after epoch 80: 0.0\n"
     ]
    },
    {
     "name": "stderr",
     "output_type": "stream",
     "text": [
      "INFO - 16:13:58: EPOCH 81 - PROGRESS: at 78.34% examples, 1253703 words/s, in_qsize 15, out_qsize 0\n",
      "INFO - 16:13:58: EPOCH 81: training on 2135928 raw words (1560893 effective words) took 1.2s, 1262885 effective words/s\n"
     ]
    },
    {
     "name": "stdout",
     "output_type": "stream",
     "text": [
      "Loss after epoch 81: 0.0\n"
     ]
    },
    {
     "name": "stderr",
     "output_type": "stream",
     "text": [
      "INFO - 16:13:59: EPOCH 82 - PROGRESS: at 78.78% examples, 1261326 words/s, in_qsize 16, out_qsize 0\n",
      "INFO - 16:13:59: EPOCH 82: training on 2135928 raw words (1560833 effective words) took 1.2s, 1295171 effective words/s\n"
     ]
    },
    {
     "name": "stdout",
     "output_type": "stream",
     "text": [
      "Loss after epoch 82: 0.0\n"
     ]
    },
    {
     "name": "stderr",
     "output_type": "stream",
     "text": [
      "INFO - 16:14:00: EPOCH 83 - PROGRESS: at 76.57% examples, 1222153 words/s, in_qsize 15, out_qsize 0\n",
      "INFO - 16:14:00: EPOCH 83: training on 2135928 raw words (1560997 effective words) took 1.2s, 1264206 effective words/s\n"
     ]
    },
    {
     "name": "stdout",
     "output_type": "stream",
     "text": [
      "Loss after epoch 83: 0.0\n"
     ]
    },
    {
     "name": "stderr",
     "output_type": "stream",
     "text": [
      "INFO - 16:14:01: EPOCH 84 - PROGRESS: at 79.22% examples, 1251162 words/s, in_qsize 13, out_qsize 2\n",
      "INFO - 16:14:02: EPOCH 84: training on 2135928 raw words (1560666 effective words) took 1.2s, 1289634 effective words/s\n"
     ]
    },
    {
     "name": "stdout",
     "output_type": "stream",
     "text": [
      "Loss after epoch 84: 0.0\n"
     ]
    },
    {
     "name": "stderr",
     "output_type": "stream",
     "text": [
      "INFO - 16:14:03: EPOCH 85 - PROGRESS: at 78.78% examples, 1260078 words/s, in_qsize 16, out_qsize 0\n",
      "INFO - 16:14:03: EPOCH 85: training on 2135928 raw words (1560848 effective words) took 1.2s, 1279967 effective words/s\n"
     ]
    },
    {
     "name": "stdout",
     "output_type": "stream",
     "text": [
      "Loss after epoch 85: 0.0\n"
     ]
    },
    {
     "name": "stderr",
     "output_type": "stream",
     "text": [
      "INFO - 16:14:04: EPOCH 86 - PROGRESS: at 77.00% examples, 1224284 words/s, in_qsize 16, out_qsize 1\n",
      "INFO - 16:14:04: EPOCH 86: training on 2135928 raw words (1561118 effective words) took 1.2s, 1262675 effective words/s\n"
     ]
    },
    {
     "name": "stdout",
     "output_type": "stream",
     "text": [
      "Loss after epoch 86: 0.0\n"
     ]
    },
    {
     "name": "stderr",
     "output_type": "stream",
     "text": [
      "INFO - 16:14:05: EPOCH 87 - PROGRESS: at 78.77% examples, 1238869 words/s, in_qsize 15, out_qsize 0\n",
      "INFO - 16:14:05: EPOCH 87: training on 2135928 raw words (1560881 effective words) took 1.2s, 1284456 effective words/s\n"
     ]
    },
    {
     "name": "stdout",
     "output_type": "stream",
     "text": [
      "Loss after epoch 87: 0.0\n"
     ]
    },
    {
     "name": "stderr",
     "output_type": "stream",
     "text": [
      "INFO - 16:14:06: EPOCH 88 - PROGRESS: at 77.47% examples, 1223064 words/s, in_qsize 15, out_qsize 0\n",
      "INFO - 16:14:07: EPOCH 88: training on 2135928 raw words (1560906 effective words) took 1.2s, 1265567 effective words/s\n"
     ]
    },
    {
     "name": "stdout",
     "output_type": "stream",
     "text": [
      "Loss after epoch 88: 0.0\n"
     ]
    },
    {
     "name": "stderr",
     "output_type": "stream",
     "text": [
      "INFO - 16:14:08: EPOCH 89 - PROGRESS: at 77.44% examples, 1239646 words/s, in_qsize 16, out_qsize 0\n",
      "INFO - 16:14:08: EPOCH 89: training on 2135928 raw words (1561418 effective words) took 1.2s, 1259861 effective words/s\n"
     ]
    },
    {
     "name": "stdout",
     "output_type": "stream",
     "text": [
      "Loss after epoch 89: 0.0\n"
     ]
    },
    {
     "name": "stderr",
     "output_type": "stream",
     "text": [
      "INFO - 16:14:09: EPOCH 90 - PROGRESS: at 75.27% examples, 1197740 words/s, in_qsize 14, out_qsize 1\n",
      "INFO - 16:14:09: EPOCH 90: training on 2135928 raw words (1560831 effective words) took 1.3s, 1233408 effective words/s\n"
     ]
    },
    {
     "name": "stdout",
     "output_type": "stream",
     "text": [
      "Loss after epoch 90: 0.0\n"
     ]
    },
    {
     "name": "stderr",
     "output_type": "stream",
     "text": [
      "INFO - 16:14:10: EPOCH 91 - PROGRESS: at 77.91% examples, 1235300 words/s, in_qsize 15, out_qsize 0\n",
      "INFO - 16:14:10: EPOCH 91: training on 2135928 raw words (1560793 effective words) took 1.2s, 1257209 effective words/s\n"
     ]
    },
    {
     "name": "stdout",
     "output_type": "stream",
     "text": [
      "Loss after epoch 91: 0.0\n"
     ]
    },
    {
     "name": "stderr",
     "output_type": "stream",
     "text": [
      "INFO - 16:14:11: EPOCH 92 - PROGRESS: at 77.47% examples, 1233078 words/s, in_qsize 15, out_qsize 0\n",
      "INFO - 16:14:12: EPOCH 92: training on 2135928 raw words (1560887 effective words) took 1.2s, 1280335 effective words/s\n"
     ]
    },
    {
     "name": "stdout",
     "output_type": "stream",
     "text": [
      "Loss after epoch 92: 0.0\n"
     ]
    },
    {
     "name": "stderr",
     "output_type": "stream",
     "text": [
      "INFO - 16:14:13: EPOCH 93 - PROGRESS: at 77.43% examples, 1238484 words/s, in_qsize 16, out_qsize 0\n",
      "INFO - 16:14:13: EPOCH 93: training on 2135928 raw words (1560482 effective words) took 1.2s, 1270951 effective words/s\n"
     ]
    },
    {
     "name": "stdout",
     "output_type": "stream",
     "text": [
      "Loss after epoch 93: 0.0\n"
     ]
    },
    {
     "name": "stderr",
     "output_type": "stream",
     "text": [
      "INFO - 16:14:14: EPOCH 94 - PROGRESS: at 77.47% examples, 1240770 words/s, in_qsize 15, out_qsize 0\n",
      "INFO - 16:14:14: EPOCH 94: training on 2135928 raw words (1561471 effective words) took 1.2s, 1271217 effective words/s\n"
     ]
    },
    {
     "name": "stdout",
     "output_type": "stream",
     "text": [
      "Loss after epoch 94: 0.0\n"
     ]
    },
    {
     "name": "stderr",
     "output_type": "stream",
     "text": [
      "INFO - 16:14:15: EPOCH 95 - PROGRESS: at 79.21% examples, 1270072 words/s, in_qsize 16, out_qsize 0\n",
      "INFO - 16:14:15: EPOCH 95: training on 2135928 raw words (1560875 effective words) took 1.2s, 1281264 effective words/s\n"
     ]
    },
    {
     "name": "stdout",
     "output_type": "stream",
     "text": [
      "Loss after epoch 95: 0.0\n"
     ]
    },
    {
     "name": "stderr",
     "output_type": "stream",
     "text": [
      "INFO - 16:14:16: EPOCH 96 - PROGRESS: at 77.00% examples, 1231815 words/s, in_qsize 16, out_qsize 0\n",
      "INFO - 16:14:16: EPOCH 96: training on 2135928 raw words (1561436 effective words) took 1.2s, 1276443 effective words/s\n"
     ]
    },
    {
     "name": "stdout",
     "output_type": "stream",
     "text": [
      "Loss after epoch 96: 0.0\n"
     ]
    },
    {
     "name": "stderr",
     "output_type": "stream",
     "text": [
      "INFO - 16:14:18: EPOCH 97 - PROGRESS: at 77.47% examples, 1233417 words/s, in_qsize 13, out_qsize 2\n",
      "INFO - 16:14:18: EPOCH 97: training on 2135928 raw words (1560803 effective words) took 1.2s, 1275756 effective words/s\n"
     ]
    },
    {
     "name": "stdout",
     "output_type": "stream",
     "text": [
      "Loss after epoch 97: 0.0\n"
     ]
    },
    {
     "name": "stderr",
     "output_type": "stream",
     "text": [
      "INFO - 16:14:19: EPOCH 98 - PROGRESS: at 73.12% examples, 1161096 words/s, in_qsize 16, out_qsize 0\n",
      "INFO - 16:14:19: EPOCH 98: training on 2135928 raw words (1561583 effective words) took 1.3s, 1196731 effective words/s\n"
     ]
    },
    {
     "name": "stdout",
     "output_type": "stream",
     "text": [
      "Loss after epoch 98: 0.0\n"
     ]
    },
    {
     "name": "stderr",
     "output_type": "stream",
     "text": [
      "INFO - 16:14:20: EPOCH 99 - PROGRESS: at 77.90% examples, 1243684 words/s, in_qsize 16, out_qsize 0\n",
      "INFO - 16:14:20: EPOCH 99: training on 2135928 raw words (1562501 effective words) took 1.2s, 1269577 effective words/s\n"
     ]
    },
    {
     "name": "stdout",
     "output_type": "stream",
     "text": [
      "Loss after epoch 99: 0.0\n"
     ]
    },
    {
     "name": "stderr",
     "output_type": "stream",
     "text": [
      "INFO - 16:14:21: EPOCH 100 - PROGRESS: at 77.00% examples, 1228258 words/s, in_qsize 14, out_qsize 1\n",
      "INFO - 16:14:22: EPOCH 100: training on 2135928 raw words (1561081 effective words) took 1.2s, 1265398 effective words/s\n"
     ]
    },
    {
     "name": "stdout",
     "output_type": "stream",
     "text": [
      "Loss after epoch 100: 0.0\n"
     ]
    },
    {
     "name": "stderr",
     "output_type": "stream",
     "text": [
      "INFO - 16:14:23: EPOCH 101 - PROGRESS: at 77.00% examples, 1216200 words/s, in_qsize 15, out_qsize 0\n",
      "INFO - 16:14:23: EPOCH 101: training on 2135928 raw words (1560861 effective words) took 1.2s, 1252057 effective words/s\n"
     ]
    },
    {
     "name": "stdout",
     "output_type": "stream",
     "text": [
      "Loss after epoch 101: 0.0\n"
     ]
    },
    {
     "name": "stderr",
     "output_type": "stream",
     "text": [
      "INFO - 16:14:24: EPOCH 102 - PROGRESS: at 76.59% examples, 1223890 words/s, in_qsize 16, out_qsize 1\n",
      "INFO - 16:14:24: EPOCH 102: training on 2135928 raw words (1561152 effective words) took 1.2s, 1266309 effective words/s\n"
     ]
    },
    {
     "name": "stdout",
     "output_type": "stream",
     "text": [
      "Loss after epoch 102: 0.0\n"
     ]
    },
    {
     "name": "stderr",
     "output_type": "stream",
     "text": [
      "INFO - 16:14:25: EPOCH 103 - PROGRESS: at 78.34% examples, 1256248 words/s, in_qsize 15, out_qsize 0\n",
      "INFO - 16:14:25: EPOCH 103: training on 2135928 raw words (1561506 effective words) took 1.2s, 1284096 effective words/s\n"
     ]
    },
    {
     "name": "stdout",
     "output_type": "stream",
     "text": [
      "Loss after epoch 103: 0.0\n"
     ]
    },
    {
     "name": "stderr",
     "output_type": "stream",
     "text": [
      "INFO - 16:14:26: EPOCH 104 - PROGRESS: at 77.00% examples, 1231957 words/s, in_qsize 15, out_qsize 0\n",
      "INFO - 16:14:27: EPOCH 104: training on 2135928 raw words (1560320 effective words) took 1.2s, 1249574 effective words/s\n"
     ]
    },
    {
     "name": "stdout",
     "output_type": "stream",
     "text": [
      "Loss after epoch 104: 0.0\n"
     ]
    },
    {
     "name": "stderr",
     "output_type": "stream",
     "text": [
      "INFO - 16:14:28: EPOCH 105 - PROGRESS: at 77.44% examples, 1240478 words/s, in_qsize 16, out_qsize 0\n",
      "INFO - 16:14:28: EPOCH 105: training on 2135928 raw words (1561136 effective words) took 1.2s, 1269784 effective words/s\n"
     ]
    },
    {
     "name": "stdout",
     "output_type": "stream",
     "text": [
      "Loss after epoch 105: 0.0\n"
     ]
    },
    {
     "name": "stderr",
     "output_type": "stream",
     "text": [
      "INFO - 16:14:29: EPOCH 106 - PROGRESS: at 70.21% examples, 1111301 words/s, in_qsize 15, out_qsize 0\n",
      "INFO - 16:14:29: EPOCH 106: training on 2135928 raw words (1561347 effective words) took 1.4s, 1146519 effective words/s\n"
     ]
    },
    {
     "name": "stdout",
     "output_type": "stream",
     "text": [
      "Loss after epoch 106: 0.0\n"
     ]
    },
    {
     "name": "stderr",
     "output_type": "stream",
     "text": [
      "INFO - 16:14:30: EPOCH 107 - PROGRESS: at 69.38% examples, 1098160 words/s, in_qsize 16, out_qsize 0\n",
      "INFO - 16:14:31: EPOCH 107: training on 2135928 raw words (1561452 effective words) took 1.4s, 1122627 effective words/s\n"
     ]
    },
    {
     "name": "stdout",
     "output_type": "stream",
     "text": [
      "Loss after epoch 107: 0.0\n"
     ]
    },
    {
     "name": "stderr",
     "output_type": "stream",
     "text": [
      "INFO - 16:14:32: EPOCH 108 - PROGRESS: at 68.93% examples, 1090956 words/s, in_qsize 13, out_qsize 2\n",
      "INFO - 16:14:32: EPOCH 108: training on 2135928 raw words (1561279 effective words) took 1.4s, 1114773 effective words/s\n"
     ]
    },
    {
     "name": "stdout",
     "output_type": "stream",
     "text": [
      "Loss after epoch 108: 0.0\n"
     ]
    },
    {
     "name": "stderr",
     "output_type": "stream",
     "text": [
      "INFO - 16:14:33: EPOCH 109 - PROGRESS: at 68.13% examples, 1075394 words/s, in_qsize 16, out_qsize 0\n",
      "INFO - 16:14:33: EPOCH 109: training on 2135928 raw words (1561595 effective words) took 1.5s, 1055205 effective words/s\n"
     ]
    },
    {
     "name": "stdout",
     "output_type": "stream",
     "text": [
      "Loss after epoch 109: 0.0\n"
     ]
    },
    {
     "name": "stderr",
     "output_type": "stream",
     "text": [
      "INFO - 16:14:34: EPOCH 110 - PROGRESS: at 70.21% examples, 1107984 words/s, in_qsize 16, out_qsize 0\n",
      "INFO - 16:14:35: EPOCH 110: training on 2135928 raw words (1561033 effective words) took 1.4s, 1119967 effective words/s\n"
     ]
    },
    {
     "name": "stdout",
     "output_type": "stream",
     "text": [
      "Loss after epoch 110: 0.0\n"
     ]
    },
    {
     "name": "stderr",
     "output_type": "stream",
     "text": [
      "INFO - 16:14:36: EPOCH 111 - PROGRESS: at 66.87% examples, 1046282 words/s, in_qsize 13, out_qsize 2\n",
      "INFO - 16:14:36: EPOCH 111: training on 2135928 raw words (1560802 effective words) took 1.4s, 1106662 effective words/s\n"
     ]
    },
    {
     "name": "stdout",
     "output_type": "stream",
     "text": [
      "Loss after epoch 111: 0.0\n"
     ]
    },
    {
     "name": "stderr",
     "output_type": "stream",
     "text": [
      "INFO - 16:14:37: EPOCH 112 - PROGRESS: at 66.48% examples, 1043273 words/s, in_qsize 15, out_qsize 0\n",
      "INFO - 16:14:38: EPOCH 112: training on 2135928 raw words (1560530 effective words) took 1.4s, 1094317 effective words/s\n"
     ]
    },
    {
     "name": "stdout",
     "output_type": "stream",
     "text": [
      "Loss after epoch 112: 0.0\n"
     ]
    },
    {
     "name": "stderr",
     "output_type": "stream",
     "text": [
      "INFO - 16:14:39: EPOCH 113 - PROGRESS: at 68.93% examples, 1090937 words/s, in_qsize 15, out_qsize 0\n",
      "INFO - 16:14:39: EPOCH 113: training on 2135928 raw words (1561390 effective words) took 1.5s, 1054961 effective words/s\n"
     ]
    },
    {
     "name": "stdout",
     "output_type": "stream",
     "text": [
      "Loss after epoch 113: 0.0\n"
     ]
    },
    {
     "name": "stderr",
     "output_type": "stream",
     "text": [
      "INFO - 16:14:40: EPOCH 114 - PROGRESS: at 64.66% examples, 1010263 words/s, in_qsize 14, out_qsize 1\n",
      "INFO - 16:14:41: EPOCH 114: training on 2135928 raw words (1560998 effective words) took 1.5s, 1041726 effective words/s\n"
     ]
    },
    {
     "name": "stdout",
     "output_type": "stream",
     "text": [
      "Loss after epoch 114: 0.0\n"
     ]
    },
    {
     "name": "stderr",
     "output_type": "stream",
     "text": [
      "INFO - 16:14:42: EPOCH 115 - PROGRESS: at 53.05% examples, 820459 words/s, in_qsize 16, out_qsize 1\n",
      "INFO - 16:14:42: EPOCH 115: training on 2135928 raw words (1561338 effective words) took 1.7s, 930480 effective words/s\n"
     ]
    },
    {
     "name": "stdout",
     "output_type": "stream",
     "text": [
      "Loss after epoch 115: 0.0\n"
     ]
    },
    {
     "name": "stderr",
     "output_type": "stream",
     "text": [
      "INFO - 16:14:43: EPOCH 116 - PROGRESS: at 62.45% examples, 971557 words/s, in_qsize 15, out_qsize 0\n",
      "INFO - 16:14:44: EPOCH 116: training on 2135928 raw words (1561123 effective words) took 1.4s, 1085063 effective words/s\n"
     ]
    },
    {
     "name": "stdout",
     "output_type": "stream",
     "text": [
      "Loss after epoch 116: 0.0\n"
     ]
    },
    {
     "name": "stderr",
     "output_type": "stream",
     "text": [
      "INFO - 16:14:45: EPOCH 117 - PROGRESS: at 77.00% examples, 1233411 words/s, in_qsize 15, out_qsize 0\n",
      "INFO - 16:14:45: EPOCH 117: training on 2135928 raw words (1561759 effective words) took 1.2s, 1260786 effective words/s\n"
     ]
    },
    {
     "name": "stdout",
     "output_type": "stream",
     "text": [
      "Loss after epoch 117: 0.0\n"
     ]
    },
    {
     "name": "stderr",
     "output_type": "stream",
     "text": [
      "INFO - 16:14:46: EPOCH 118 - PROGRESS: at 77.91% examples, 1231474 words/s, in_qsize 16, out_qsize 1\n",
      "INFO - 16:14:46: EPOCH 118: training on 2135928 raw words (1561794 effective words) took 1.2s, 1258408 effective words/s\n"
     ]
    },
    {
     "name": "stdout",
     "output_type": "stream",
     "text": [
      "Loss after epoch 118: 0.0\n"
     ]
    },
    {
     "name": "stderr",
     "output_type": "stream",
     "text": [
      "INFO - 16:14:47: EPOCH 119 - PROGRESS: at 78.78% examples, 1260167 words/s, in_qsize 16, out_qsize 0\n",
      "INFO - 16:14:48: EPOCH 119: training on 2135928 raw words (1562173 effective words) took 1.2s, 1282866 effective words/s\n"
     ]
    },
    {
     "name": "stdout",
     "output_type": "stream",
     "text": [
      "Loss after epoch 119: 0.0\n"
     ]
    },
    {
     "name": "stderr",
     "output_type": "stream",
     "text": [
      "INFO - 16:14:49: EPOCH 120 - PROGRESS: at 76.61% examples, 1221097 words/s, in_qsize 13, out_qsize 2\n",
      "INFO - 16:14:49: EPOCH 120: training on 2135928 raw words (1561253 effective words) took 1.2s, 1250233 effective words/s\n"
     ]
    },
    {
     "name": "stdout",
     "output_type": "stream",
     "text": [
      "Loss after epoch 120: 0.0\n"
     ]
    },
    {
     "name": "stderr",
     "output_type": "stream",
     "text": [
      "INFO - 16:14:50: EPOCH 121 - PROGRESS: at 77.00% examples, 1217780 words/s, in_qsize 16, out_qsize 0\n",
      "INFO - 16:14:50: EPOCH 121: training on 2135928 raw words (1560877 effective words) took 1.3s, 1242540 effective words/s\n"
     ]
    },
    {
     "name": "stdout",
     "output_type": "stream",
     "text": [
      "Loss after epoch 121: 0.0\n"
     ]
    },
    {
     "name": "stderr",
     "output_type": "stream",
     "text": [
      "INFO - 16:14:51: EPOCH 122 - PROGRESS: at 77.47% examples, 1240839 words/s, in_qsize 15, out_qsize 0\n",
      "INFO - 16:14:51: EPOCH 122: training on 2135928 raw words (1561299 effective words) took 1.2s, 1268395 effective words/s\n"
     ]
    },
    {
     "name": "stdout",
     "output_type": "stream",
     "text": [
      "Loss after epoch 122: 0.0\n"
     ]
    },
    {
     "name": "stderr",
     "output_type": "stream",
     "text": [
      "INFO - 16:14:52: EPOCH 123 - PROGRESS: at 75.69% examples, 1204913 words/s, in_qsize 14, out_qsize 1\n",
      "INFO - 16:14:53: EPOCH 123: training on 2135928 raw words (1560806 effective words) took 1.2s, 1256159 effective words/s\n"
     ]
    },
    {
     "name": "stdout",
     "output_type": "stream",
     "text": [
      "Loss after epoch 123: 0.0\n"
     ]
    },
    {
     "name": "stderr",
     "output_type": "stream",
     "text": [
      "INFO - 16:14:54: EPOCH 124 - PROGRESS: at 77.00% examples, 1223001 words/s, in_qsize 15, out_qsize 0\n",
      "INFO - 16:14:54: EPOCH 124: training on 2135928 raw words (1560901 effective words) took 1.2s, 1258431 effective words/s\n"
     ]
    },
    {
     "name": "stdout",
     "output_type": "stream",
     "text": [
      "Loss after epoch 124: 0.0\n"
     ]
    },
    {
     "name": "stderr",
     "output_type": "stream",
     "text": [
      "INFO - 16:14:55: EPOCH 125 - PROGRESS: at 78.78% examples, 1246954 words/s, in_qsize 15, out_qsize 0\n",
      "INFO - 16:14:55: EPOCH 125: training on 2135928 raw words (1560367 effective words) took 1.2s, 1265813 effective words/s\n"
     ]
    },
    {
     "name": "stdout",
     "output_type": "stream",
     "text": [
      "Loss after epoch 125: 0.0\n"
     ]
    },
    {
     "name": "stderr",
     "output_type": "stream",
     "text": [
      "INFO - 16:14:56: EPOCH 126 - PROGRESS: at 77.44% examples, 1236564 words/s, in_qsize 15, out_qsize 0\n",
      "INFO - 16:14:56: EPOCH 126: training on 2135928 raw words (1560982 effective words) took 1.2s, 1285118 effective words/s\n"
     ]
    },
    {
     "name": "stdout",
     "output_type": "stream",
     "text": [
      "Loss after epoch 126: 0.0\n"
     ]
    },
    {
     "name": "stderr",
     "output_type": "stream",
     "text": [
      "INFO - 16:14:57: EPOCH 127 - PROGRESS: at 77.01% examples, 1233317 words/s, in_qsize 16, out_qsize 0\n",
      "INFO - 16:14:58: EPOCH 127: training on 2135928 raw words (1560723 effective words) took 1.2s, 1278029 effective words/s\n"
     ]
    },
    {
     "name": "stdout",
     "output_type": "stream",
     "text": [
      "Loss after epoch 127: 0.0\n"
     ]
    },
    {
     "name": "stderr",
     "output_type": "stream",
     "text": [
      "INFO - 16:14:59: EPOCH 128 - PROGRESS: at 78.34% examples, 1242905 words/s, in_qsize 16, out_qsize 1\n",
      "INFO - 16:14:59: EPOCH 128: training on 2135928 raw words (1561780 effective words) took 1.2s, 1272198 effective words/s\n"
     ]
    },
    {
     "name": "stdout",
     "output_type": "stream",
     "text": [
      "Loss after epoch 128: 0.0\n"
     ]
    },
    {
     "name": "stderr",
     "output_type": "stream",
     "text": [
      "INFO - 16:15:00: EPOCH 129 - PROGRESS: at 76.14% examples, 1215755 words/s, in_qsize 15, out_qsize 0\n",
      "INFO - 16:15:00: EPOCH 129: training on 2135928 raw words (1560891 effective words) took 1.2s, 1259912 effective words/s\n"
     ]
    },
    {
     "name": "stdout",
     "output_type": "stream",
     "text": [
      "Loss after epoch 129: 0.0\n"
     ]
    },
    {
     "name": "stderr",
     "output_type": "stream",
     "text": [
      "INFO - 16:15:01: EPOCH 130 - PROGRESS: at 78.34% examples, 1256073 words/s, in_qsize 13, out_qsize 2\n",
      "INFO - 16:15:01: EPOCH 130: training on 2135928 raw words (1561614 effective words) took 1.2s, 1281573 effective words/s\n"
     ]
    },
    {
     "name": "stdout",
     "output_type": "stream",
     "text": [
      "Loss after epoch 130: 0.0\n"
     ]
    },
    {
     "name": "stderr",
     "output_type": "stream",
     "text": [
      "INFO - 16:15:02: EPOCH 131 - PROGRESS: at 76.14% examples, 1212938 words/s, in_qsize 16, out_qsize 2\n",
      "INFO - 16:15:03: EPOCH 131: training on 2135928 raw words (1560677 effective words) took 1.2s, 1260375 effective words/s\n"
     ]
    },
    {
     "name": "stdout",
     "output_type": "stream",
     "text": [
      "Loss after epoch 131: 0.0\n"
     ]
    },
    {
     "name": "stderr",
     "output_type": "stream",
     "text": [
      "INFO - 16:15:04: EPOCH 132 - PROGRESS: at 76.58% examples, 1223135 words/s, in_qsize 14, out_qsize 1\n",
      "INFO - 16:15:04: EPOCH 132: training on 2135928 raw words (1560761 effective words) took 1.2s, 1259917 effective words/s\n"
     ]
    },
    {
     "name": "stdout",
     "output_type": "stream",
     "text": [
      "Loss after epoch 132: 0.0\n"
     ]
    },
    {
     "name": "stderr",
     "output_type": "stream",
     "text": [
      "INFO - 16:15:05: EPOCH 133 - PROGRESS: at 76.57% examples, 1220365 words/s, in_qsize 15, out_qsize 0\n",
      "INFO - 16:15:05: EPOCH 133: training on 2135928 raw words (1561406 effective words) took 1.2s, 1269971 effective words/s\n"
     ]
    },
    {
     "name": "stdout",
     "output_type": "stream",
     "text": [
      "Loss after epoch 133: 0.0\n"
     ]
    },
    {
     "name": "stderr",
     "output_type": "stream",
     "text": [
      "INFO - 16:15:06: EPOCH 134 - PROGRESS: at 77.00% examples, 1232461 words/s, in_qsize 13, out_qsize 2\n",
      "INFO - 16:15:06: EPOCH 134: training on 2135928 raw words (1560814 effective words) took 1.2s, 1283818 effective words/s\n"
     ]
    },
    {
     "name": "stdout",
     "output_type": "stream",
     "text": [
      "Loss after epoch 134: 0.0\n"
     ]
    },
    {
     "name": "stderr",
     "output_type": "stream",
     "text": [
      "INFO - 16:15:07: EPOCH 135 - PROGRESS: at 77.47% examples, 1238261 words/s, in_qsize 16, out_qsize 0\n",
      "INFO - 16:15:07: EPOCH 135: training on 2135928 raw words (1561580 effective words) took 1.2s, 1260492 effective words/s\n"
     ]
    },
    {
     "name": "stdout",
     "output_type": "stream",
     "text": [
      "Loss after epoch 135: 0.0\n"
     ]
    },
    {
     "name": "stderr",
     "output_type": "stream",
     "text": [
      "INFO - 16:15:08: EPOCH 136 - PROGRESS: at 78.77% examples, 1241425 words/s, in_qsize 15, out_qsize 0\n",
      "INFO - 16:15:09: EPOCH 136: training on 2135928 raw words (1561637 effective words) took 1.2s, 1277291 effective words/s\n"
     ]
    },
    {
     "name": "stdout",
     "output_type": "stream",
     "text": [
      "Loss after epoch 136: 0.0\n"
     ]
    },
    {
     "name": "stderr",
     "output_type": "stream",
     "text": [
      "INFO - 16:15:10: EPOCH 137 - PROGRESS: at 77.04% examples, 1231207 words/s, in_qsize 14, out_qsize 1\n",
      "INFO - 16:15:10: EPOCH 137: training on 2135928 raw words (1561124 effective words) took 1.2s, 1275298 effective words/s\n"
     ]
    },
    {
     "name": "stdout",
     "output_type": "stream",
     "text": [
      "Loss after epoch 137: 0.0\n"
     ]
    },
    {
     "name": "stderr",
     "output_type": "stream",
     "text": [
      "INFO - 16:15:11: EPOCH 138 - PROGRESS: at 77.47% examples, 1229854 words/s, in_qsize 13, out_qsize 2\n",
      "INFO - 16:15:11: EPOCH 138: training on 2135928 raw words (1562078 effective words) took 1.2s, 1270893 effective words/s\n"
     ]
    },
    {
     "name": "stdout",
     "output_type": "stream",
     "text": [
      "Loss after epoch 138: 0.0\n"
     ]
    },
    {
     "name": "stderr",
     "output_type": "stream",
     "text": [
      "INFO - 16:15:12: EPOCH 139 - PROGRESS: at 79.21% examples, 1235169 words/s, in_qsize 15, out_qsize 0\n",
      "INFO - 16:15:12: EPOCH 139: training on 2135928 raw words (1561285 effective words) took 1.2s, 1280944 effective words/s\n"
     ]
    },
    {
     "name": "stdout",
     "output_type": "stream",
     "text": [
      "Loss after epoch 139: 0.0\n"
     ]
    },
    {
     "name": "stderr",
     "output_type": "stream",
     "text": [
      "INFO - 16:15:13: EPOCH 140 - PROGRESS: at 78.34% examples, 1254199 words/s, in_qsize 15, out_qsize 0\n",
      "INFO - 16:15:14: EPOCH 140: training on 2135928 raw words (1561242 effective words) took 1.2s, 1277465 effective words/s\n"
     ]
    },
    {
     "name": "stdout",
     "output_type": "stream",
     "text": [
      "Loss after epoch 140: 0.0\n"
     ]
    },
    {
     "name": "stderr",
     "output_type": "stream",
     "text": [
      "INFO - 16:15:15: EPOCH 141 - PROGRESS: at 77.47% examples, 1236803 words/s, in_qsize 14, out_qsize 1\n",
      "INFO - 16:15:15: EPOCH 141: training on 2135928 raw words (1561520 effective words) took 1.2s, 1267461 effective words/s\n"
     ]
    },
    {
     "name": "stdout",
     "output_type": "stream",
     "text": [
      "Loss after epoch 141: 0.0\n"
     ]
    },
    {
     "name": "stderr",
     "output_type": "stream",
     "text": [
      "INFO - 16:15:16: EPOCH 142 - PROGRESS: at 77.44% examples, 1234650 words/s, in_qsize 15, out_qsize 0\n",
      "INFO - 16:15:16: EPOCH 142: training on 2135928 raw words (1561655 effective words) took 1.2s, 1270632 effective words/s\n"
     ]
    },
    {
     "name": "stdout",
     "output_type": "stream",
     "text": [
      "Loss after epoch 142: 0.0\n"
     ]
    },
    {
     "name": "stderr",
     "output_type": "stream",
     "text": [
      "INFO - 16:15:17: EPOCH 143 - PROGRESS: at 78.35% examples, 1245671 words/s, in_qsize 16, out_qsize 2\n",
      "INFO - 16:15:17: EPOCH 143: training on 2135928 raw words (1561565 effective words) took 1.2s, 1291001 effective words/s\n"
     ]
    },
    {
     "name": "stdout",
     "output_type": "stream",
     "text": [
      "Loss after epoch 143: 0.0\n"
     ]
    },
    {
     "name": "stderr",
     "output_type": "stream",
     "text": [
      "INFO - 16:15:18: EPOCH 144 - PROGRESS: at 78.78% examples, 1260315 words/s, in_qsize 15, out_qsize 0\n",
      "INFO - 16:15:19: EPOCH 144: training on 2135928 raw words (1561969 effective words) took 1.2s, 1301843 effective words/s\n"
     ]
    },
    {
     "name": "stdout",
     "output_type": "stream",
     "text": [
      "Loss after epoch 144: 0.0\n"
     ]
    },
    {
     "name": "stderr",
     "output_type": "stream",
     "text": [
      "INFO - 16:15:20: EPOCH 145 - PROGRESS: at 77.00% examples, 1230943 words/s, in_qsize 15, out_qsize 0\n",
      "INFO - 16:15:20: EPOCH 145: training on 2135928 raw words (1561277 effective words) took 1.3s, 1234439 effective words/s\n"
     ]
    },
    {
     "name": "stdout",
     "output_type": "stream",
     "text": [
      "Loss after epoch 145: 0.0\n"
     ]
    },
    {
     "name": "stderr",
     "output_type": "stream",
     "text": [
      "INFO - 16:15:21: EPOCH 146 - PROGRESS: at 77.91% examples, 1235180 words/s, in_qsize 15, out_qsize 0\n",
      "INFO - 16:15:21: EPOCH 146: training on 2135928 raw words (1561178 effective words) took 1.2s, 1270115 effective words/s\n"
     ]
    },
    {
     "name": "stdout",
     "output_type": "stream",
     "text": [
      "Loss after epoch 146: 0.0\n"
     ]
    },
    {
     "name": "stderr",
     "output_type": "stream",
     "text": [
      "INFO - 16:15:22: EPOCH 147 - PROGRESS: at 79.65% examples, 1252113 words/s, in_qsize 14, out_qsize 1\n",
      "INFO - 16:15:22: EPOCH 147: training on 2135928 raw words (1560636 effective words) took 1.2s, 1281651 effective words/s\n"
     ]
    },
    {
     "name": "stdout",
     "output_type": "stream",
     "text": [
      "Loss after epoch 147: 0.0\n"
     ]
    },
    {
     "name": "stderr",
     "output_type": "stream",
     "text": [
      "INFO - 16:15:23: EPOCH 148 - PROGRESS: at 78.34% examples, 1251180 words/s, in_qsize 16, out_qsize 0\n",
      "INFO - 16:15:24: EPOCH 148: training on 2135928 raw words (1560235 effective words) took 1.2s, 1287721 effective words/s\n"
     ]
    },
    {
     "name": "stdout",
     "output_type": "stream",
     "text": [
      "Loss after epoch 148: 0.0\n"
     ]
    },
    {
     "name": "stderr",
     "output_type": "stream",
     "text": [
      "INFO - 16:15:25: EPOCH 149 - PROGRESS: at 77.47% examples, 1224882 words/s, in_qsize 15, out_qsize 0\n",
      "INFO - 16:15:25: EPOCH 149: training on 2135928 raw words (1561075 effective words) took 1.2s, 1258725 effective words/s\n"
     ]
    },
    {
     "name": "stdout",
     "output_type": "stream",
     "text": [
      "Loss after epoch 149: 0.0\n"
     ]
    },
    {
     "name": "stderr",
     "output_type": "stream",
     "text": [
      "INFO - 16:15:26: EPOCH 150 - PROGRESS: at 78.34% examples, 1254842 words/s, in_qsize 14, out_qsize 1\n",
      "INFO - 16:15:26: EPOCH 150: training on 2135928 raw words (1561693 effective words) took 1.2s, 1274891 effective words/s\n"
     ]
    },
    {
     "name": "stdout",
     "output_type": "stream",
     "text": [
      "Loss after epoch 150: 0.0\n"
     ]
    },
    {
     "name": "stderr",
     "output_type": "stream",
     "text": [
      "INFO - 16:15:27: EPOCH 151 - PROGRESS: at 77.90% examples, 1236233 words/s, in_qsize 15, out_qsize 0\n",
      "INFO - 16:15:27: EPOCH 151: training on 2135928 raw words (1561625 effective words) took 1.2s, 1264262 effective words/s\n"
     ]
    },
    {
     "name": "stdout",
     "output_type": "stream",
     "text": [
      "Loss after epoch 151: 0.0\n"
     ]
    },
    {
     "name": "stderr",
     "output_type": "stream",
     "text": [
      "INFO - 16:15:28: EPOCH 152 - PROGRESS: at 79.21% examples, 1261085 words/s, in_qsize 15, out_qsize 0\n",
      "INFO - 16:15:28: EPOCH 152: training on 2135928 raw words (1561976 effective words) took 1.2s, 1271418 effective words/s\n"
     ]
    },
    {
     "name": "stdout",
     "output_type": "stream",
     "text": [
      "Loss after epoch 152: 0.0\n"
     ]
    },
    {
     "name": "stderr",
     "output_type": "stream",
     "text": [
      "INFO - 16:15:29: EPOCH 153 - PROGRESS: at 78.78% examples, 1257525 words/s, in_qsize 16, out_qsize 1\n",
      "INFO - 16:15:30: EPOCH 153: training on 2135928 raw words (1561242 effective words) took 1.2s, 1287171 effective words/s\n"
     ]
    },
    {
     "name": "stdout",
     "output_type": "stream",
     "text": [
      "Loss after epoch 153: 0.0\n"
     ]
    },
    {
     "name": "stderr",
     "output_type": "stream",
     "text": [
      "INFO - 16:15:31: EPOCH 154 - PROGRESS: at 77.48% examples, 1214267 words/s, in_qsize 13, out_qsize 2\n",
      "INFO - 16:15:31: EPOCH 154: training on 2135928 raw words (1561243 effective words) took 1.2s, 1263547 effective words/s\n"
     ]
    },
    {
     "name": "stdout",
     "output_type": "stream",
     "text": [
      "Loss after epoch 154: 0.0\n"
     ]
    },
    {
     "name": "stderr",
     "output_type": "stream",
     "text": [
      "INFO - 16:15:32: EPOCH 155 - PROGRESS: at 78.78% examples, 1242357 words/s, in_qsize 15, out_qsize 0\n",
      "INFO - 16:15:32: EPOCH 155: training on 2135928 raw words (1560630 effective words) took 1.2s, 1292963 effective words/s\n"
     ]
    },
    {
     "name": "stdout",
     "output_type": "stream",
     "text": [
      "Loss after epoch 155: 0.0\n"
     ]
    },
    {
     "name": "stderr",
     "output_type": "stream",
     "text": [
      "INFO - 16:15:33: EPOCH 156 - PROGRESS: at 77.00% examples, 1226963 words/s, in_qsize 16, out_qsize 1\n",
      "INFO - 16:15:33: EPOCH 156: training on 2135928 raw words (1560973 effective words) took 1.2s, 1261302 effective words/s\n"
     ]
    },
    {
     "name": "stdout",
     "output_type": "stream",
     "text": [
      "Loss after epoch 156: 0.0\n"
     ]
    },
    {
     "name": "stderr",
     "output_type": "stream",
     "text": [
      "INFO - 16:15:34: EPOCH 157 - PROGRESS: at 77.88% examples, 1245677 words/s, in_qsize 14, out_qsize 1\n",
      "INFO - 16:15:35: EPOCH 157: training on 2135928 raw words (1561353 effective words) took 1.2s, 1283993 effective words/s\n"
     ]
    },
    {
     "name": "stdout",
     "output_type": "stream",
     "text": [
      "Loss after epoch 157: 0.0\n"
     ]
    },
    {
     "name": "stderr",
     "output_type": "stream",
     "text": [
      "INFO - 16:15:36: EPOCH 158 - PROGRESS: at 78.34% examples, 1241529 words/s, in_qsize 14, out_qsize 1\n",
      "INFO - 16:15:36: EPOCH 158: training on 2135928 raw words (1561631 effective words) took 1.2s, 1281984 effective words/s\n"
     ]
    },
    {
     "name": "stdout",
     "output_type": "stream",
     "text": [
      "Loss after epoch 158: 0.0\n"
     ]
    },
    {
     "name": "stderr",
     "output_type": "stream",
     "text": [
      "INFO - 16:15:37: EPOCH 159 - PROGRESS: at 77.47% examples, 1236923 words/s, in_qsize 15, out_qsize 0\n",
      "INFO - 16:15:37: EPOCH 159: training on 2135928 raw words (1561306 effective words) took 1.2s, 1266929 effective words/s\n"
     ]
    },
    {
     "name": "stdout",
     "output_type": "stream",
     "text": [
      "Loss after epoch 159: 0.0\n"
     ]
    },
    {
     "name": "stderr",
     "output_type": "stream",
     "text": [
      "INFO - 16:15:38: EPOCH 160 - PROGRESS: at 78.78% examples, 1260284 words/s, in_qsize 15, out_qsize 0\n",
      "INFO - 16:15:38: EPOCH 160: training on 2135928 raw words (1561255 effective words) took 1.2s, 1279889 effective words/s\n"
     ]
    },
    {
     "name": "stdout",
     "output_type": "stream",
     "text": [
      "Loss after epoch 160: 0.0\n"
     ]
    },
    {
     "name": "stderr",
     "output_type": "stream",
     "text": [
      "INFO - 16:15:39: EPOCH 161 - PROGRESS: at 78.35% examples, 1250256 words/s, in_qsize 16, out_qsize 1\n",
      "INFO - 16:15:40: EPOCH 161: training on 2135928 raw words (1562010 effective words) took 1.2s, 1281843 effective words/s\n"
     ]
    },
    {
     "name": "stdout",
     "output_type": "stream",
     "text": [
      "Loss after epoch 161: 0.0\n"
     ]
    },
    {
     "name": "stderr",
     "output_type": "stream",
     "text": [
      "INFO - 16:15:41: EPOCH 162 - PROGRESS: at 77.91% examples, 1248468 words/s, in_qsize 16, out_qsize 0\n",
      "INFO - 16:15:41: EPOCH 162: training on 2135928 raw words (1560952 effective words) took 1.2s, 1262946 effective words/s\n"
     ]
    },
    {
     "name": "stdout",
     "output_type": "stream",
     "text": [
      "Loss after epoch 162: 0.0\n"
     ]
    },
    {
     "name": "stderr",
     "output_type": "stream",
     "text": [
      "INFO - 16:15:42: EPOCH 163 - PROGRESS: at 79.21% examples, 1258606 words/s, in_qsize 16, out_qsize 0\n",
      "INFO - 16:15:42: EPOCH 163: training on 2135928 raw words (1561216 effective words) took 1.2s, 1285518 effective words/s\n"
     ]
    },
    {
     "name": "stdout",
     "output_type": "stream",
     "text": [
      "Loss after epoch 163: 0.0\n"
     ]
    },
    {
     "name": "stderr",
     "output_type": "stream",
     "text": [
      "INFO - 16:15:43: EPOCH 164 - PROGRESS: at 77.90% examples, 1233154 words/s, in_qsize 15, out_qsize 0\n",
      "INFO - 16:15:43: EPOCH 164: training on 2135928 raw words (1561195 effective words) took 1.2s, 1272585 effective words/s\n"
     ]
    },
    {
     "name": "stdout",
     "output_type": "stream",
     "text": [
      "Loss after epoch 164: 0.0\n"
     ]
    },
    {
     "name": "stderr",
     "output_type": "stream",
     "text": [
      "INFO - 16:15:44: EPOCH 165 - PROGRESS: at 79.21% examples, 1250592 words/s, in_qsize 15, out_qsize 0\n",
      "INFO - 16:15:44: EPOCH 165: training on 2135928 raw words (1561143 effective words) took 1.2s, 1293632 effective words/s\n"
     ]
    },
    {
     "name": "stdout",
     "output_type": "stream",
     "text": [
      "Loss after epoch 165: 0.0\n"
     ]
    },
    {
     "name": "stderr",
     "output_type": "stream",
     "text": [
      "INFO - 16:15:45: EPOCH 166 - PROGRESS: at 77.47% examples, 1234416 words/s, in_qsize 16, out_qsize 0\n",
      "INFO - 16:15:46: EPOCH 166: training on 2135928 raw words (1560928 effective words) took 1.2s, 1261257 effective words/s\n"
     ]
    },
    {
     "name": "stdout",
     "output_type": "stream",
     "text": [
      "Loss after epoch 166: 0.0\n"
     ]
    },
    {
     "name": "stderr",
     "output_type": "stream",
     "text": [
      "INFO - 16:15:47: EPOCH 167 - PROGRESS: at 77.43% examples, 1239170 words/s, in_qsize 15, out_qsize 0\n",
      "INFO - 16:15:47: EPOCH 167: training on 2135928 raw words (1561210 effective words) took 1.2s, 1275526 effective words/s\n"
     ]
    },
    {
     "name": "stdout",
     "output_type": "stream",
     "text": [
      "Loss after epoch 167: 0.0\n"
     ]
    },
    {
     "name": "stderr",
     "output_type": "stream",
     "text": [
      "INFO - 16:15:48: EPOCH 168 - PROGRESS: at 79.21% examples, 1255759 words/s, in_qsize 15, out_qsize 0\n",
      "INFO - 16:15:48: EPOCH 168: training on 2135928 raw words (1561130 effective words) took 1.2s, 1289448 effective words/s\n"
     ]
    },
    {
     "name": "stdout",
     "output_type": "stream",
     "text": [
      "Loss after epoch 168: 0.0\n"
     ]
    },
    {
     "name": "stderr",
     "output_type": "stream",
     "text": [
      "INFO - 16:15:49: EPOCH 169 - PROGRESS: at 77.48% examples, 1223386 words/s, in_qsize 15, out_qsize 0\n",
      "INFO - 16:15:49: EPOCH 169: training on 2135928 raw words (1561547 effective words) took 1.2s, 1258112 effective words/s\n"
     ]
    },
    {
     "name": "stdout",
     "output_type": "stream",
     "text": [
      "Loss after epoch 169: 0.0\n"
     ]
    },
    {
     "name": "stderr",
     "output_type": "stream",
     "text": [
      "INFO - 16:15:50: EPOCH 170 - PROGRESS: at 76.12% examples, 1209802 words/s, in_qsize 15, out_qsize 0\n",
      "INFO - 16:15:51: EPOCH 170: training on 2135928 raw words (1561051 effective words) took 1.3s, 1244230 effective words/s\n"
     ]
    },
    {
     "name": "stdout",
     "output_type": "stream",
     "text": [
      "Loss after epoch 170: 0.0\n"
     ]
    },
    {
     "name": "stderr",
     "output_type": "stream",
     "text": [
      "INFO - 16:15:52: EPOCH 171 - PROGRESS: at 79.65% examples, 1274664 words/s, in_qsize 15, out_qsize 1\n",
      "INFO - 16:15:52: EPOCH 171: training on 2135928 raw words (1561907 effective words) took 1.2s, 1294691 effective words/s\n"
     ]
    },
    {
     "name": "stdout",
     "output_type": "stream",
     "text": [
      "Loss after epoch 171: 0.0\n"
     ]
    },
    {
     "name": "stderr",
     "output_type": "stream",
     "text": [
      "INFO - 16:15:53: EPOCH 172 - PROGRESS: at 78.31% examples, 1240740 words/s, in_qsize 16, out_qsize 0\n",
      "INFO - 16:15:53: EPOCH 172: training on 2135928 raw words (1560822 effective words) took 1.2s, 1276714 effective words/s\n"
     ]
    },
    {
     "name": "stdout",
     "output_type": "stream",
     "text": [
      "Loss after epoch 172: 0.0\n"
     ]
    },
    {
     "name": "stderr",
     "output_type": "stream",
     "text": [
      "INFO - 16:15:54: EPOCH 173 - PROGRESS: at 78.78% examples, 1253007 words/s, in_qsize 16, out_qsize 0\n",
      "INFO - 16:15:54: EPOCH 173: training on 2135928 raw words (1561387 effective words) took 1.2s, 1282337 effective words/s\n"
     ]
    },
    {
     "name": "stdout",
     "output_type": "stream",
     "text": [
      "Loss after epoch 173: 0.0\n"
     ]
    },
    {
     "name": "stderr",
     "output_type": "stream",
     "text": [
      "INFO - 16:15:55: EPOCH 174 - PROGRESS: at 78.78% examples, 1260744 words/s, in_qsize 15, out_qsize 0\n",
      "INFO - 16:15:56: EPOCH 174: training on 2135928 raw words (1560973 effective words) took 1.2s, 1287234 effective words/s\n"
     ]
    },
    {
     "name": "stdout",
     "output_type": "stream",
     "text": [
      "Loss after epoch 174: 0.0\n"
     ]
    },
    {
     "name": "stderr",
     "output_type": "stream",
     "text": [
      "INFO - 16:15:57: EPOCH 175 - PROGRESS: at 78.78% examples, 1246065 words/s, in_qsize 14, out_qsize 1\n",
      "INFO - 16:15:57: EPOCH 175: training on 2135928 raw words (1561088 effective words) took 1.2s, 1279112 effective words/s\n"
     ]
    },
    {
     "name": "stdout",
     "output_type": "stream",
     "text": [
      "Loss after epoch 175: 0.0\n"
     ]
    },
    {
     "name": "stderr",
     "output_type": "stream",
     "text": [
      "INFO - 16:15:58: EPOCH 176 - PROGRESS: at 78.34% examples, 1255339 words/s, in_qsize 15, out_qsize 1\n",
      "INFO - 16:15:58: EPOCH 176: training on 2135928 raw words (1560442 effective words) took 1.2s, 1278217 effective words/s\n"
     ]
    },
    {
     "name": "stdout",
     "output_type": "stream",
     "text": [
      "Loss after epoch 176: 0.0\n"
     ]
    },
    {
     "name": "stderr",
     "output_type": "stream",
     "text": [
      "INFO - 16:15:59: EPOCH 177 - PROGRESS: at 77.47% examples, 1233790 words/s, in_qsize 14, out_qsize 1\n",
      "INFO - 16:15:59: EPOCH 177: training on 2135928 raw words (1561426 effective words) took 1.2s, 1262701 effective words/s\n"
     ]
    },
    {
     "name": "stdout",
     "output_type": "stream",
     "text": [
      "Loss after epoch 177: 0.0\n"
     ]
    },
    {
     "name": "stderr",
     "output_type": "stream",
     "text": [
      "INFO - 16:16:00: EPOCH 178 - PROGRESS: at 77.44% examples, 1231596 words/s, in_qsize 13, out_qsize 2\n",
      "INFO - 16:16:01: EPOCH 178: training on 2135928 raw words (1561148 effective words) took 1.2s, 1265798 effective words/s\n"
     ]
    },
    {
     "name": "stdout",
     "output_type": "stream",
     "text": [
      "Loss after epoch 178: 0.0\n"
     ]
    },
    {
     "name": "stderr",
     "output_type": "stream",
     "text": [
      "INFO - 16:16:02: EPOCH 179 - PROGRESS: at 77.47% examples, 1238160 words/s, in_qsize 15, out_qsize 0\n",
      "INFO - 16:16:02: EPOCH 179: training on 2135928 raw words (1560647 effective words) took 1.2s, 1254332 effective words/s\n"
     ]
    },
    {
     "name": "stdout",
     "output_type": "stream",
     "text": [
      "Loss after epoch 179: 0.0\n"
     ]
    },
    {
     "name": "stderr",
     "output_type": "stream",
     "text": [
      "INFO - 16:16:03: EPOCH 180 - PROGRESS: at 76.57% examples, 1224101 words/s, in_qsize 14, out_qsize 1\n",
      "INFO - 16:16:03: EPOCH 180: training on 2135928 raw words (1560500 effective words) took 1.2s, 1265325 effective words/s\n"
     ]
    },
    {
     "name": "stdout",
     "output_type": "stream",
     "text": [
      "Loss after epoch 180: 0.0\n"
     ]
    },
    {
     "name": "stderr",
     "output_type": "stream",
     "text": [
      "INFO - 16:16:04: EPOCH 181 - PROGRESS: at 76.12% examples, 1198482 words/s, in_qsize 15, out_qsize 0\n",
      "INFO - 16:16:04: EPOCH 181: training on 2135928 raw words (1561473 effective words) took 1.3s, 1247625 effective words/s\n"
     ]
    },
    {
     "name": "stdout",
     "output_type": "stream",
     "text": [
      "Loss after epoch 181: 0.0\n"
     ]
    },
    {
     "name": "stderr",
     "output_type": "stream",
     "text": [
      "INFO - 16:16:05: EPOCH 182 - PROGRESS: at 77.91% examples, 1243692 words/s, in_qsize 15, out_qsize 0\n",
      "INFO - 16:16:06: EPOCH 182: training on 2135928 raw words (1561049 effective words) took 1.2s, 1273793 effective words/s\n"
     ]
    },
    {
     "name": "stdout",
     "output_type": "stream",
     "text": [
      "Loss after epoch 182: 0.0\n"
     ]
    },
    {
     "name": "stderr",
     "output_type": "stream",
     "text": [
      "INFO - 16:16:07: EPOCH 183 - PROGRESS: at 77.91% examples, 1242368 words/s, in_qsize 13, out_qsize 2\n",
      "INFO - 16:16:07: EPOCH 183: training on 2135928 raw words (1560833 effective words) took 1.2s, 1269292 effective words/s\n"
     ]
    },
    {
     "name": "stdout",
     "output_type": "stream",
     "text": [
      "Loss after epoch 183: 0.0\n"
     ]
    },
    {
     "name": "stderr",
     "output_type": "stream",
     "text": [
      "INFO - 16:16:08: EPOCH 184 - PROGRESS: at 77.44% examples, 1232928 words/s, in_qsize 15, out_qsize 0\n",
      "INFO - 16:16:08: EPOCH 184: training on 2135928 raw words (1560756 effective words) took 1.2s, 1275562 effective words/s\n"
     ]
    },
    {
     "name": "stdout",
     "output_type": "stream",
     "text": [
      "Loss after epoch 184: 0.0\n"
     ]
    },
    {
     "name": "stderr",
     "output_type": "stream",
     "text": [
      "INFO - 16:16:09: EPOCH 185 - PROGRESS: at 77.91% examples, 1245852 words/s, in_qsize 15, out_qsize 0\n",
      "INFO - 16:16:09: EPOCH 185: training on 2135928 raw words (1561482 effective words) took 1.2s, 1282746 effective words/s\n"
     ]
    },
    {
     "name": "stdout",
     "output_type": "stream",
     "text": [
      "Loss after epoch 185: 0.0\n"
     ]
    },
    {
     "name": "stderr",
     "output_type": "stream",
     "text": [
      "INFO - 16:16:10: EPOCH 186 - PROGRESS: at 77.91% examples, 1247640 words/s, in_qsize 15, out_qsize 0\n",
      "INFO - 16:16:10: EPOCH 186: training on 2135928 raw words (1561110 effective words) took 1.2s, 1269169 effective words/s\n"
     ]
    },
    {
     "name": "stdout",
     "output_type": "stream",
     "text": [
      "Loss after epoch 186: 0.0\n"
     ]
    },
    {
     "name": "stderr",
     "output_type": "stream",
     "text": [
      "INFO - 16:16:11: EPOCH 187 - PROGRESS: at 76.57% examples, 1225433 words/s, in_qsize 13, out_qsize 2\n",
      "INFO - 16:16:12: EPOCH 187: training on 2135928 raw words (1561199 effective words) took 1.2s, 1258665 effective words/s\n"
     ]
    },
    {
     "name": "stdout",
     "output_type": "stream",
     "text": [
      "Loss after epoch 187: 0.0\n"
     ]
    },
    {
     "name": "stderr",
     "output_type": "stream",
     "text": [
      "INFO - 16:16:13: EPOCH 188 - PROGRESS: at 77.47% examples, 1237688 words/s, in_qsize 15, out_qsize 0\n",
      "INFO - 16:16:13: EPOCH 188: training on 2135928 raw words (1560946 effective words) took 1.2s, 1268612 effective words/s\n"
     ]
    },
    {
     "name": "stdout",
     "output_type": "stream",
     "text": [
      "Loss after epoch 188: 0.0\n"
     ]
    },
    {
     "name": "stderr",
     "output_type": "stream",
     "text": [
      "INFO - 16:16:14: EPOCH 189 - PROGRESS: at 77.91% examples, 1245542 words/s, in_qsize 16, out_qsize 1\n",
      "INFO - 16:16:14: EPOCH 189: training on 2135928 raw words (1560439 effective words) took 1.2s, 1271728 effective words/s\n"
     ]
    },
    {
     "name": "stdout",
     "output_type": "stream",
     "text": [
      "Loss after epoch 189: 0.0\n"
     ]
    },
    {
     "name": "stderr",
     "output_type": "stream",
     "text": [
      "INFO - 16:16:15: EPOCH 190 - PROGRESS: at 78.78% examples, 1249188 words/s, in_qsize 16, out_qsize 0\n",
      "INFO - 16:16:15: EPOCH 190: training on 2135928 raw words (1560438 effective words) took 1.2s, 1283329 effective words/s\n"
     ]
    },
    {
     "name": "stdout",
     "output_type": "stream",
     "text": [
      "Loss after epoch 190: 0.0\n"
     ]
    },
    {
     "name": "stderr",
     "output_type": "stream",
     "text": [
      "INFO - 16:16:16: EPOCH 191 - PROGRESS: at 77.00% examples, 1226708 words/s, in_qsize 15, out_qsize 0\n",
      "INFO - 16:16:17: EPOCH 191: training on 2135928 raw words (1560837 effective words) took 1.2s, 1272008 effective words/s\n"
     ]
    },
    {
     "name": "stdout",
     "output_type": "stream",
     "text": [
      "Loss after epoch 191: 0.0\n"
     ]
    },
    {
     "name": "stderr",
     "output_type": "stream",
     "text": [
      "INFO - 16:16:18: EPOCH 192 - PROGRESS: at 77.47% examples, 1240327 words/s, in_qsize 13, out_qsize 2\n",
      "INFO - 16:16:18: EPOCH 192: training on 2135928 raw words (1560767 effective words) took 1.2s, 1284312 effective words/s\n"
     ]
    },
    {
     "name": "stdout",
     "output_type": "stream",
     "text": [
      "Loss after epoch 192: 0.0\n"
     ]
    },
    {
     "name": "stderr",
     "output_type": "stream",
     "text": [
      "INFO - 16:16:19: EPOCH 193 - PROGRESS: at 73.95% examples, 1178059 words/s, in_qsize 16, out_qsize 2\n",
      "INFO - 16:16:19: EPOCH 193: training on 2135928 raw words (1561132 effective words) took 1.3s, 1224969 effective words/s\n"
     ]
    },
    {
     "name": "stdout",
     "output_type": "stream",
     "text": [
      "Loss after epoch 193: 0.0\n"
     ]
    },
    {
     "name": "stderr",
     "output_type": "stream",
     "text": [
      "INFO - 16:16:20: EPOCH 194 - PROGRESS: at 77.01% examples, 1232996 words/s, in_qsize 12, out_qsize 3\n",
      "INFO - 16:16:20: EPOCH 194: training on 2135928 raw words (1560919 effective words) took 1.2s, 1274248 effective words/s\n"
     ]
    },
    {
     "name": "stdout",
     "output_type": "stream",
     "text": [
      "Loss after epoch 194: 0.0\n"
     ]
    },
    {
     "name": "stderr",
     "output_type": "stream",
     "text": [
      "INFO - 16:16:21: EPOCH 195 - PROGRESS: at 75.71% examples, 1201828 words/s, in_qsize 16, out_qsize 1\n",
      "INFO - 16:16:22: EPOCH 195: training on 2135928 raw words (1561235 effective words) took 1.3s, 1235557 effective words/s\n"
     ]
    },
    {
     "name": "stdout",
     "output_type": "stream",
     "text": [
      "Loss after epoch 195: 0.0\n"
     ]
    },
    {
     "name": "stderr",
     "output_type": "stream",
     "text": [
      "INFO - 16:16:23: EPOCH 196 - PROGRESS: at 78.78% examples, 1263545 words/s, in_qsize 13, out_qsize 2\n",
      "INFO - 16:16:23: EPOCH 196: training on 2135928 raw words (1561515 effective words) took 1.2s, 1302239 effective words/s\n"
     ]
    },
    {
     "name": "stdout",
     "output_type": "stream",
     "text": [
      "Loss after epoch 196: 0.0\n"
     ]
    },
    {
     "name": "stderr",
     "output_type": "stream",
     "text": [
      "INFO - 16:16:24: EPOCH 197 - PROGRESS: at 77.91% examples, 1242859 words/s, in_qsize 14, out_qsize 1\n",
      "INFO - 16:16:24: EPOCH 197: training on 2135928 raw words (1561033 effective words) took 1.2s, 1280817 effective words/s\n"
     ]
    },
    {
     "name": "stdout",
     "output_type": "stream",
     "text": [
      "Loss after epoch 197: 0.0\n"
     ]
    },
    {
     "name": "stderr",
     "output_type": "stream",
     "text": [
      "INFO - 16:16:25: EPOCH 198 - PROGRESS: at 77.90% examples, 1243343 words/s, in_qsize 14, out_qsize 1\n",
      "INFO - 16:16:25: EPOCH 198: training on 2135928 raw words (1561533 effective words) took 1.2s, 1288130 effective words/s\n"
     ]
    },
    {
     "name": "stdout",
     "output_type": "stream",
     "text": [
      "Loss after epoch 198: 0.0\n"
     ]
    },
    {
     "name": "stderr",
     "output_type": "stream",
     "text": [
      "INFO - 16:16:26: EPOCH 199 - PROGRESS: at 78.77% examples, 1250347 words/s, in_qsize 13, out_qsize 3\n",
      "INFO - 16:16:27: EPOCH 199: training on 2135928 raw words (1561327 effective words) took 1.2s, 1286561 effective words/s\n"
     ]
    },
    {
     "name": "stdout",
     "output_type": "stream",
     "text": [
      "Loss after epoch 199: 0.0\n"
     ]
    },
    {
     "name": "stderr",
     "output_type": "stream",
     "text": [
      "INFO - 16:16:28: EPOCH 200 - PROGRESS: at 77.91% examples, 1243069 words/s, in_qsize 14, out_qsize 1\n",
      "INFO - 16:16:28: EPOCH 200: training on 2135928 raw words (1561056 effective words) took 1.2s, 1280933 effective words/s\n"
     ]
    },
    {
     "name": "stdout",
     "output_type": "stream",
     "text": [
      "Loss after epoch 200: 0.0\n"
     ]
    },
    {
     "name": "stderr",
     "output_type": "stream",
     "text": [
      "INFO - 16:16:29: EPOCH 201 - PROGRESS: at 77.90% examples, 1242250 words/s, in_qsize 13, out_qsize 2\n",
      "INFO - 16:16:29: EPOCH 201: training on 2135928 raw words (1561301 effective words) took 1.2s, 1279175 effective words/s\n"
     ]
    },
    {
     "name": "stdout",
     "output_type": "stream",
     "text": [
      "Loss after epoch 201: 0.0\n"
     ]
    },
    {
     "name": "stderr",
     "output_type": "stream",
     "text": [
      "INFO - 16:16:30: EPOCH 202 - PROGRESS: at 77.44% examples, 1224453 words/s, in_qsize 15, out_qsize 0\n",
      "INFO - 16:16:30: EPOCH 202: training on 2135928 raw words (1561408 effective words) took 1.2s, 1265297 effective words/s\n"
     ]
    },
    {
     "name": "stdout",
     "output_type": "stream",
     "text": [
      "Loss after epoch 202: 0.0\n"
     ]
    },
    {
     "name": "stderr",
     "output_type": "stream",
     "text": [
      "INFO - 16:16:31: EPOCH 203 - PROGRESS: at 77.91% examples, 1245817 words/s, in_qsize 15, out_qsize 0\n",
      "INFO - 16:16:32: EPOCH 203: training on 2135928 raw words (1561205 effective words) took 1.3s, 1221473 effective words/s\n"
     ]
    },
    {
     "name": "stdout",
     "output_type": "stream",
     "text": [
      "Loss after epoch 203: 0.0\n"
     ]
    },
    {
     "name": "stderr",
     "output_type": "stream",
     "text": [
      "INFO - 16:16:33: EPOCH 204 - PROGRESS: at 77.91% examples, 1247279 words/s, in_qsize 15, out_qsize 0\n",
      "INFO - 16:16:33: EPOCH 204: training on 2135928 raw words (1560841 effective words) took 1.2s, 1280421 effective words/s\n"
     ]
    },
    {
     "name": "stdout",
     "output_type": "stream",
     "text": [
      "Loss after epoch 204: 0.0\n"
     ]
    },
    {
     "name": "stderr",
     "output_type": "stream",
     "text": [
      "INFO - 16:16:34: EPOCH 205 - PROGRESS: at 77.91% examples, 1235991 words/s, in_qsize 16, out_qsize 2\n",
      "INFO - 16:16:34: EPOCH 205: training on 2135928 raw words (1561004 effective words) took 1.2s, 1270774 effective words/s\n"
     ]
    },
    {
     "name": "stdout",
     "output_type": "stream",
     "text": [
      "Loss after epoch 205: 0.0\n"
     ]
    },
    {
     "name": "stderr",
     "output_type": "stream",
     "text": [
      "INFO - 16:16:35: EPOCH 206 - PROGRESS: at 77.47% examples, 1240013 words/s, in_qsize 15, out_qsize 0\n",
      "INFO - 16:16:35: EPOCH 206: training on 2135928 raw words (1560804 effective words) took 1.2s, 1264817 effective words/s\n"
     ]
    },
    {
     "name": "stdout",
     "output_type": "stream",
     "text": [
      "Loss after epoch 206: 0.0\n"
     ]
    },
    {
     "name": "stderr",
     "output_type": "stream",
     "text": [
      "INFO - 16:16:36: EPOCH 207 - PROGRESS: at 77.00% examples, 1230975 words/s, in_qsize 16, out_qsize 0\n",
      "INFO - 16:16:37: EPOCH 207: training on 2135928 raw words (1561242 effective words) took 1.2s, 1262645 effective words/s\n"
     ]
    },
    {
     "name": "stdout",
     "output_type": "stream",
     "text": [
      "Loss after epoch 207: 0.0\n"
     ]
    },
    {
     "name": "stderr",
     "output_type": "stream",
     "text": [
      "INFO - 16:16:38: EPOCH 208 - PROGRESS: at 78.34% examples, 1254942 words/s, in_qsize 14, out_qsize 1\n",
      "INFO - 16:16:38: EPOCH 208: training on 2135928 raw words (1560732 effective words) took 1.2s, 1291096 effective words/s\n"
     ]
    },
    {
     "name": "stdout",
     "output_type": "stream",
     "text": [
      "Loss after epoch 208: 0.0\n"
     ]
    },
    {
     "name": "stderr",
     "output_type": "stream",
     "text": [
      "INFO - 16:16:39: EPOCH 209 - PROGRESS: at 77.47% examples, 1236989 words/s, in_qsize 15, out_qsize 2\n",
      "INFO - 16:16:39: EPOCH 209: training on 2135928 raw words (1561491 effective words) took 1.2s, 1278461 effective words/s\n"
     ]
    },
    {
     "name": "stdout",
     "output_type": "stream",
     "text": [
      "Loss after epoch 209: 0.0\n"
     ]
    },
    {
     "name": "stderr",
     "output_type": "stream",
     "text": [
      "INFO - 16:16:40: EPOCH 210 - PROGRESS: at 77.48% examples, 1239534 words/s, in_qsize 14, out_qsize 1\n",
      "INFO - 16:16:40: EPOCH 210: training on 2135928 raw words (1560697 effective words) took 1.2s, 1275766 effective words/s\n"
     ]
    },
    {
     "name": "stdout",
     "output_type": "stream",
     "text": [
      "Loss after epoch 210: 0.0\n"
     ]
    },
    {
     "name": "stderr",
     "output_type": "stream",
     "text": [
      "INFO - 16:16:41: EPOCH 211 - PROGRESS: at 80.08% examples, 1276404 words/s, in_qsize 16, out_qsize 0\n",
      "INFO - 16:16:41: EPOCH 211: training on 2135928 raw words (1561025 effective words) took 1.2s, 1302998 effective words/s\n"
     ]
    },
    {
     "name": "stdout",
     "output_type": "stream",
     "text": [
      "Loss after epoch 211: 0.0\n"
     ]
    },
    {
     "name": "stderr",
     "output_type": "stream",
     "text": [
      "INFO - 16:16:42: EPOCH 212 - PROGRESS: at 74.84% examples, 1194851 words/s, in_qsize 15, out_qsize 0\n",
      "INFO - 16:16:43: EPOCH 212: training on 2135928 raw words (1561486 effective words) took 1.3s, 1243590 effective words/s\n"
     ]
    },
    {
     "name": "stdout",
     "output_type": "stream",
     "text": [
      "Loss after epoch 212: 0.0\n"
     ]
    },
    {
     "name": "stderr",
     "output_type": "stream",
     "text": [
      "INFO - 16:16:44: EPOCH 213 - PROGRESS: at 77.48% examples, 1240028 words/s, in_qsize 13, out_qsize 2\n",
      "INFO - 16:16:44: EPOCH 213: training on 2135928 raw words (1561344 effective words) took 1.2s, 1274650 effective words/s\n"
     ]
    },
    {
     "name": "stdout",
     "output_type": "stream",
     "text": [
      "Loss after epoch 213: 0.0\n"
     ]
    },
    {
     "name": "stderr",
     "output_type": "stream",
     "text": [
      "INFO - 16:16:45: EPOCH 214 - PROGRESS: at 77.88% examples, 1228410 words/s, in_qsize 16, out_qsize 1\n",
      "INFO - 16:16:45: EPOCH 214: training on 2135928 raw words (1560949 effective words) took 1.2s, 1270295 effective words/s\n"
     ]
    },
    {
     "name": "stdout",
     "output_type": "stream",
     "text": [
      "Loss after epoch 214: 0.0\n"
     ]
    },
    {
     "name": "stderr",
     "output_type": "stream",
     "text": [
      "INFO - 16:16:46: EPOCH 215 - PROGRESS: at 76.14% examples, 1210359 words/s, in_qsize 15, out_qsize 0\n",
      "INFO - 16:16:46: EPOCH 215: training on 2135928 raw words (1561343 effective words) took 1.2s, 1266536 effective words/s\n"
     ]
    },
    {
     "name": "stdout",
     "output_type": "stream",
     "text": [
      "Loss after epoch 215: 0.0\n"
     ]
    },
    {
     "name": "stderr",
     "output_type": "stream",
     "text": [
      "INFO - 16:16:47: EPOCH 216 - PROGRESS: at 77.91% examples, 1240738 words/s, in_qsize 15, out_qsize 0\n",
      "INFO - 16:16:48: EPOCH 216: training on 2135928 raw words (1560926 effective words) took 1.2s, 1285390 effective words/s\n"
     ]
    },
    {
     "name": "stdout",
     "output_type": "stream",
     "text": [
      "Loss after epoch 216: 0.0\n"
     ]
    },
    {
     "name": "stderr",
     "output_type": "stream",
     "text": [
      "INFO - 16:16:49: EPOCH 217 - PROGRESS: at 78.33% examples, 1254226 words/s, in_qsize 13, out_qsize 2\n",
      "INFO - 16:16:49: EPOCH 217: training on 2135928 raw words (1561018 effective words) took 1.2s, 1285752 effective words/s\n"
     ]
    },
    {
     "name": "stdout",
     "output_type": "stream",
     "text": [
      "Loss after epoch 217: 0.0\n"
     ]
    },
    {
     "name": "stderr",
     "output_type": "stream",
     "text": [
      "INFO - 16:16:50: EPOCH 218 - PROGRESS: at 78.34% examples, 1225696 words/s, in_qsize 14, out_qsize 3\n",
      "INFO - 16:16:50: EPOCH 218: training on 2135928 raw words (1560943 effective words) took 1.2s, 1280061 effective words/s\n"
     ]
    },
    {
     "name": "stdout",
     "output_type": "stream",
     "text": [
      "Loss after epoch 218: 0.0\n"
     ]
    },
    {
     "name": "stderr",
     "output_type": "stream",
     "text": [
      "INFO - 16:16:51: EPOCH 219 - PROGRESS: at 79.21% examples, 1244090 words/s, in_qsize 15, out_qsize 0\n",
      "INFO - 16:16:51: EPOCH 219: training on 2135928 raw words (1561385 effective words) took 1.2s, 1290711 effective words/s\n"
     ]
    },
    {
     "name": "stdout",
     "output_type": "stream",
     "text": [
      "Loss after epoch 219: 0.0\n"
     ]
    },
    {
     "name": "stderr",
     "output_type": "stream",
     "text": [
      "INFO - 16:16:52: EPOCH 220 - PROGRESS: at 76.14% examples, 1213614 words/s, in_qsize 15, out_qsize 0\n",
      "INFO - 16:16:53: EPOCH 220: training on 2135928 raw words (1561342 effective words) took 1.2s, 1251428 effective words/s\n"
     ]
    },
    {
     "name": "stdout",
     "output_type": "stream",
     "text": [
      "Loss after epoch 220: 0.0\n"
     ]
    },
    {
     "name": "stderr",
     "output_type": "stream",
     "text": [
      "INFO - 16:16:54: EPOCH 221 - PROGRESS: at 78.34% examples, 1247917 words/s, in_qsize 13, out_qsize 2\n",
      "INFO - 16:16:54: EPOCH 221: training on 2135928 raw words (1560444 effective words) took 1.2s, 1291278 effective words/s\n"
     ]
    },
    {
     "name": "stdout",
     "output_type": "stream",
     "text": [
      "Loss after epoch 221: 0.0\n"
     ]
    },
    {
     "name": "stderr",
     "output_type": "stream",
     "text": [
      "INFO - 16:16:55: EPOCH 222 - PROGRESS: at 78.31% examples, 1252980 words/s, in_qsize 15, out_qsize 1\n",
      "INFO - 16:16:55: EPOCH 222: training on 2135928 raw words (1560394 effective words) took 1.2s, 1286123 effective words/s\n"
     ]
    },
    {
     "name": "stdout",
     "output_type": "stream",
     "text": [
      "Loss after epoch 222: 0.0\n"
     ]
    },
    {
     "name": "stderr",
     "output_type": "stream",
     "text": [
      "INFO - 16:16:56: EPOCH 223 - PROGRESS: at 78.78% examples, 1249653 words/s, in_qsize 16, out_qsize 0\n",
      "INFO - 16:16:56: EPOCH 223: training on 2135928 raw words (1560963 effective words) took 1.2s, 1280792 effective words/s\n"
     ]
    },
    {
     "name": "stdout",
     "output_type": "stream",
     "text": [
      "Loss after epoch 223: 0.0\n"
     ]
    },
    {
     "name": "stderr",
     "output_type": "stream",
     "text": [
      "INFO - 16:16:57: EPOCH 224 - PROGRESS: at 77.91% examples, 1240473 words/s, in_qsize 16, out_qsize 1\n",
      "INFO - 16:16:57: EPOCH 224: training on 2135928 raw words (1561452 effective words) took 1.2s, 1286538 effective words/s\n"
     ]
    },
    {
     "name": "stdout",
     "output_type": "stream",
     "text": [
      "Loss after epoch 224: 0.0\n"
     ]
    },
    {
     "name": "stderr",
     "output_type": "stream",
     "text": [
      "INFO - 16:16:58: EPOCH 225 - PROGRESS: at 78.34% examples, 1254857 words/s, in_qsize 15, out_qsize 0\n",
      "INFO - 16:16:59: EPOCH 225: training on 2135928 raw words (1560595 effective words) took 1.2s, 1273980 effective words/s\n"
     ]
    },
    {
     "name": "stdout",
     "output_type": "stream",
     "text": [
      "Loss after epoch 225: 0.0\n"
     ]
    },
    {
     "name": "stderr",
     "output_type": "stream",
     "text": [
      "INFO - 16:17:00: EPOCH 226 - PROGRESS: at 77.44% examples, 1238512 words/s, in_qsize 16, out_qsize 1\n",
      "INFO - 16:17:00: EPOCH 226: training on 2135928 raw words (1561710 effective words) took 1.2s, 1286873 effective words/s\n"
     ]
    },
    {
     "name": "stdout",
     "output_type": "stream",
     "text": [
      "Loss after epoch 226: 0.0\n"
     ]
    },
    {
     "name": "stderr",
     "output_type": "stream",
     "text": [
      "INFO - 16:17:01: EPOCH 227 - PROGRESS: at 77.91% examples, 1227940 words/s, in_qsize 14, out_qsize 1\n",
      "INFO - 16:17:01: EPOCH 227: training on 2135928 raw words (1561209 effective words) took 1.2s, 1271846 effective words/s\n"
     ]
    },
    {
     "name": "stdout",
     "output_type": "stream",
     "text": [
      "Loss after epoch 227: 0.0\n"
     ]
    },
    {
     "name": "stderr",
     "output_type": "stream",
     "text": [
      "INFO - 16:17:02: EPOCH 228 - PROGRESS: at 78.34% examples, 1249953 words/s, in_qsize 13, out_qsize 2\n",
      "INFO - 16:17:02: EPOCH 228: training on 2135928 raw words (1560915 effective words) took 1.2s, 1265253 effective words/s\n"
     ]
    },
    {
     "name": "stdout",
     "output_type": "stream",
     "text": [
      "Loss after epoch 228: 0.0\n"
     ]
    },
    {
     "name": "stderr",
     "output_type": "stream",
     "text": [
      "INFO - 16:17:03: EPOCH 229 - PROGRESS: at 77.00% examples, 1230511 words/s, in_qsize 15, out_qsize 0\n",
      "INFO - 16:17:04: EPOCH 229: training on 2135928 raw words (1561415 effective words) took 1.2s, 1270702 effective words/s\n"
     ]
    },
    {
     "name": "stdout",
     "output_type": "stream",
     "text": [
      "Loss after epoch 229: 0.0\n"
     ]
    },
    {
     "name": "stderr",
     "output_type": "stream",
     "text": [
      "INFO - 16:17:05: EPOCH 230 - PROGRESS: at 77.91% examples, 1244214 words/s, in_qsize 16, out_qsize 0\n",
      "INFO - 16:17:05: EPOCH 230: training on 2135928 raw words (1560958 effective words) took 1.2s, 1277413 effective words/s\n"
     ]
    },
    {
     "name": "stdout",
     "output_type": "stream",
     "text": [
      "Loss after epoch 230: 0.0\n"
     ]
    },
    {
     "name": "stderr",
     "output_type": "stream",
     "text": [
      "INFO - 16:17:06: EPOCH 231 - PROGRESS: at 79.21% examples, 1247196 words/s, in_qsize 15, out_qsize 0\n",
      "INFO - 16:17:06: EPOCH 231: training on 2135928 raw words (1561215 effective words) took 1.2s, 1287766 effective words/s\n"
     ]
    },
    {
     "name": "stdout",
     "output_type": "stream",
     "text": [
      "Loss after epoch 231: 0.0\n"
     ]
    },
    {
     "name": "stderr",
     "output_type": "stream",
     "text": [
      "INFO - 16:17:07: EPOCH 232 - PROGRESS: at 79.21% examples, 1248251 words/s, in_qsize 16, out_qsize 1\n",
      "INFO - 16:17:07: EPOCH 232: training on 2135928 raw words (1560695 effective words) took 1.2s, 1277561 effective words/s\n"
     ]
    },
    {
     "name": "stdout",
     "output_type": "stream",
     "text": [
      "Loss after epoch 232: 0.0\n"
     ]
    },
    {
     "name": "stderr",
     "output_type": "stream",
     "text": [
      "INFO - 16:17:08: EPOCH 233 - PROGRESS: at 78.34% examples, 1253667 words/s, in_qsize 16, out_qsize 0\n",
      "INFO - 16:17:09: EPOCH 233: training on 2135928 raw words (1561503 effective words) took 1.2s, 1272237 effective words/s\n"
     ]
    },
    {
     "name": "stdout",
     "output_type": "stream",
     "text": [
      "Loss after epoch 233: 0.0\n"
     ]
    },
    {
     "name": "stderr",
     "output_type": "stream",
     "text": [
      "INFO - 16:17:10: EPOCH 234 - PROGRESS: at 77.87% examples, 1241064 words/s, in_qsize 16, out_qsize 0\n",
      "INFO - 16:17:10: EPOCH 234: training on 2135928 raw words (1561479 effective words) took 1.2s, 1272196 effective words/s\n"
     ]
    },
    {
     "name": "stdout",
     "output_type": "stream",
     "text": [
      "Loss after epoch 234: 0.0\n"
     ]
    },
    {
     "name": "stderr",
     "output_type": "stream",
     "text": [
      "INFO - 16:17:11: EPOCH 235 - PROGRESS: at 77.47% examples, 1241436 words/s, in_qsize 14, out_qsize 1\n",
      "INFO - 16:17:11: EPOCH 235: training on 2135928 raw words (1561518 effective words) took 1.2s, 1275087 effective words/s\n"
     ]
    },
    {
     "name": "stdout",
     "output_type": "stream",
     "text": [
      "Loss after epoch 235: 0.0\n"
     ]
    },
    {
     "name": "stderr",
     "output_type": "stream",
     "text": [
      "INFO - 16:17:12: EPOCH 236 - PROGRESS: at 77.47% examples, 1231829 words/s, in_qsize 14, out_qsize 1\n",
      "INFO - 16:17:12: EPOCH 236: training on 2135928 raw words (1561424 effective words) took 1.2s, 1268976 effective words/s\n"
     ]
    },
    {
     "name": "stdout",
     "output_type": "stream",
     "text": [
      "Loss after epoch 236: 0.0\n"
     ]
    },
    {
     "name": "stderr",
     "output_type": "stream",
     "text": [
      "INFO - 16:17:13: EPOCH 237 - PROGRESS: at 74.83% examples, 1182933 words/s, in_qsize 16, out_qsize 0\n",
      "INFO - 16:17:14: EPOCH 237: training on 2135928 raw words (1561376 effective words) took 1.3s, 1228044 effective words/s\n"
     ]
    },
    {
     "name": "stdout",
     "output_type": "stream",
     "text": [
      "Loss after epoch 237: 0.0\n"
     ]
    },
    {
     "name": "stderr",
     "output_type": "stream",
     "text": [
      "INFO - 16:17:15: EPOCH 238 - PROGRESS: at 77.91% examples, 1233391 words/s, in_qsize 16, out_qsize 2\n",
      "INFO - 16:17:15: EPOCH 238: training on 2135928 raw words (1560983 effective words) took 1.2s, 1279778 effective words/s\n"
     ]
    },
    {
     "name": "stdout",
     "output_type": "stream",
     "text": [
      "Loss after epoch 238: 0.0\n"
     ]
    },
    {
     "name": "stderr",
     "output_type": "stream",
     "text": [
      "INFO - 16:17:16: EPOCH 239 - PROGRESS: at 79.21% examples, 1260570 words/s, in_qsize 15, out_qsize 0\n",
      "INFO - 16:17:16: EPOCH 239: training on 2135928 raw words (1561413 effective words) took 1.2s, 1277745 effective words/s\n"
     ]
    },
    {
     "name": "stdout",
     "output_type": "stream",
     "text": [
      "Loss after epoch 239: 0.0\n"
     ]
    },
    {
     "name": "stderr",
     "output_type": "stream",
     "text": [
      "INFO - 16:17:17: EPOCH 240 - PROGRESS: at 77.88% examples, 1237999 words/s, in_qsize 16, out_qsize 0\n",
      "INFO - 16:17:17: EPOCH 240: training on 2135928 raw words (1561594 effective words) took 1.2s, 1268999 effective words/s\n"
     ]
    },
    {
     "name": "stdout",
     "output_type": "stream",
     "text": [
      "Loss after epoch 240: 0.0\n"
     ]
    },
    {
     "name": "stderr",
     "output_type": "stream",
     "text": [
      "INFO - 16:17:18: EPOCH 241 - PROGRESS: at 78.34% examples, 1246146 words/s, in_qsize 16, out_qsize 1\n",
      "INFO - 16:17:18: EPOCH 241: training on 2135928 raw words (1560477 effective words) took 1.2s, 1276443 effective words/s\n"
     ]
    },
    {
     "name": "stdout",
     "output_type": "stream",
     "text": [
      "Loss after epoch 241: 0.0\n"
     ]
    },
    {
     "name": "stderr",
     "output_type": "stream",
     "text": [
      "INFO - 16:17:19: EPOCH 242 - PROGRESS: at 78.78% examples, 1248854 words/s, in_qsize 16, out_qsize 2\n",
      "INFO - 16:17:20: EPOCH 242: training on 2135928 raw words (1561796 effective words) took 1.2s, 1283653 effective words/s\n"
     ]
    },
    {
     "name": "stdout",
     "output_type": "stream",
     "text": [
      "Loss after epoch 242: 0.0\n"
     ]
    },
    {
     "name": "stderr",
     "output_type": "stream",
     "text": [
      "INFO - 16:17:21: EPOCH 243 - PROGRESS: at 78.78% examples, 1248135 words/s, in_qsize 15, out_qsize 0\n",
      "INFO - 16:17:21: EPOCH 243: training on 2135928 raw words (1561508 effective words) took 1.2s, 1291753 effective words/s\n"
     ]
    },
    {
     "name": "stdout",
     "output_type": "stream",
     "text": [
      "Loss after epoch 243: 0.0\n"
     ]
    },
    {
     "name": "stderr",
     "output_type": "stream",
     "text": [
      "INFO - 16:17:22: EPOCH 244 - PROGRESS: at 76.14% examples, 1209739 words/s, in_qsize 16, out_qsize 2\n",
      "INFO - 16:17:22: EPOCH 244: training on 2135928 raw words (1561521 effective words) took 1.2s, 1252103 effective words/s\n"
     ]
    },
    {
     "name": "stdout",
     "output_type": "stream",
     "text": [
      "Loss after epoch 244: 0.0\n"
     ]
    },
    {
     "name": "stderr",
     "output_type": "stream",
     "text": [
      "INFO - 16:17:23: EPOCH 245 - PROGRESS: at 77.91% examples, 1222059 words/s, in_qsize 14, out_qsize 1\n",
      "INFO - 16:17:23: EPOCH 245: training on 2135928 raw words (1561221 effective words) took 1.2s, 1254298 effective words/s\n"
     ]
    },
    {
     "name": "stdout",
     "output_type": "stream",
     "text": [
      "Loss after epoch 245: 0.0\n"
     ]
    },
    {
     "name": "stderr",
     "output_type": "stream",
     "text": [
      "INFO - 16:17:24: EPOCH 246 - PROGRESS: at 68.53% examples, 1069501 words/s, in_qsize 14, out_qsize 1\n",
      "INFO - 16:17:25: EPOCH 246: training on 2135928 raw words (1561366 effective words) took 1.4s, 1079091 effective words/s\n"
     ]
    },
    {
     "name": "stdout",
     "output_type": "stream",
     "text": [
      "Loss after epoch 246: 0.0\n"
     ]
    },
    {
     "name": "stderr",
     "output_type": "stream",
     "text": [
      "INFO - 16:17:26: EPOCH 247 - PROGRESS: at 59.82% examples, 917621 words/s, in_qsize 16, out_qsize 1\n",
      "INFO - 16:17:26: EPOCH 247: training on 2135928 raw words (1561295 effective words) took 1.6s, 964311 effective words/s\n"
     ]
    },
    {
     "name": "stdout",
     "output_type": "stream",
     "text": [
      "Loss after epoch 247: 0.0\n"
     ]
    },
    {
     "name": "stderr",
     "output_type": "stream",
     "text": [
      "INFO - 16:17:28: EPOCH 248 - PROGRESS: at 61.66% examples, 958431 words/s, in_qsize 15, out_qsize 0\n",
      "INFO - 16:17:28: EPOCH 248: training on 2135928 raw words (1561808 effective words) took 1.5s, 1009985 effective words/s\n"
     ]
    },
    {
     "name": "stdout",
     "output_type": "stream",
     "text": [
      "Loss after epoch 248: 0.0\n"
     ]
    },
    {
     "name": "stderr",
     "output_type": "stream",
     "text": [
      "INFO - 16:17:29: EPOCH 249 - PROGRESS: at 63.35% examples, 993901 words/s, in_qsize 16, out_qsize 0\n",
      "INFO - 16:17:30: EPOCH 249: training on 2135928 raw words (1561832 effective words) took 1.5s, 1011103 effective words/s\n"
     ]
    },
    {
     "name": "stdout",
     "output_type": "stream",
     "text": [
      "Loss after epoch 249: 0.0\n"
     ]
    },
    {
     "name": "stderr",
     "output_type": "stream",
     "text": [
      "INFO - 16:17:31: EPOCH 250 - PROGRESS: at 65.56% examples, 1026426 words/s, in_qsize 16, out_qsize 1\n",
      "INFO - 16:17:31: EPOCH 250: training on 2135928 raw words (1561911 effective words) took 1.4s, 1103428 effective words/s\n"
     ]
    },
    {
     "name": "stdout",
     "output_type": "stream",
     "text": [
      "Loss after epoch 250: 0.0\n"
     ]
    },
    {
     "name": "stderr",
     "output_type": "stream",
     "text": [
      "INFO - 16:17:32: EPOCH 251 - PROGRESS: at 76.57% examples, 1217768 words/s, in_qsize 15, out_qsize 0\n",
      "INFO - 16:17:32: EPOCH 251: training on 2135928 raw words (1560995 effective words) took 1.3s, 1224777 effective words/s\n"
     ]
    },
    {
     "name": "stdout",
     "output_type": "stream",
     "text": [
      "Loss after epoch 251: 0.0\n"
     ]
    },
    {
     "name": "stderr",
     "output_type": "stream",
     "text": [
      "INFO - 16:17:33: EPOCH 252 - PROGRESS: at 66.93% examples, 1045047 words/s, in_qsize 16, out_qsize 0\n",
      "INFO - 16:17:34: EPOCH 252: training on 2135928 raw words (1560895 effective words) took 1.4s, 1127950 effective words/s\n"
     ]
    },
    {
     "name": "stdout",
     "output_type": "stream",
     "text": [
      "Loss after epoch 252: 0.0\n"
     ]
    },
    {
     "name": "stderr",
     "output_type": "stream",
     "text": [
      "INFO - 16:17:35: EPOCH 253 - PROGRESS: at 74.40% examples, 1188219 words/s, in_qsize 14, out_qsize 1\n",
      "INFO - 16:17:35: EPOCH 253: training on 2135928 raw words (1561409 effective words) took 1.3s, 1219315 effective words/s\n"
     ]
    },
    {
     "name": "stdout",
     "output_type": "stream",
     "text": [
      "Loss after epoch 253: 0.0\n"
     ]
    },
    {
     "name": "stderr",
     "output_type": "stream",
     "text": [
      "INFO - 16:17:36: EPOCH 254 - PROGRESS: at 72.31% examples, 1146913 words/s, in_qsize 15, out_qsize 0\n",
      "INFO - 16:17:36: EPOCH 254: training on 2135928 raw words (1560857 effective words) took 1.4s, 1135296 effective words/s\n"
     ]
    },
    {
     "name": "stdout",
     "output_type": "stream",
     "text": [
      "Loss after epoch 254: 0.0\n"
     ]
    },
    {
     "name": "stderr",
     "output_type": "stream",
     "text": [
      "INFO - 16:17:37: EPOCH 255 - PROGRESS: at 75.69% examples, 1210518 words/s, in_qsize 15, out_qsize 0\n",
      "INFO - 16:17:38: EPOCH 255: training on 2135928 raw words (1561276 effective words) took 1.3s, 1208627 effective words/s\n"
     ]
    },
    {
     "name": "stdout",
     "output_type": "stream",
     "text": [
      "Loss after epoch 255: 0.0\n"
     ]
    },
    {
     "name": "stderr",
     "output_type": "stream",
     "text": [
      "INFO - 16:17:39: EPOCH 256 - PROGRESS: at 70.62% examples, 1101453 words/s, in_qsize 15, out_qsize 0\n",
      "INFO - 16:17:39: EPOCH 256: training on 2135928 raw words (1561177 effective words) took 1.4s, 1144454 effective words/s\n"
     ]
    },
    {
     "name": "stdout",
     "output_type": "stream",
     "text": [
      "Loss after epoch 256: 0.0\n"
     ]
    },
    {
     "name": "stderr",
     "output_type": "stream",
     "text": [
      "INFO - 16:17:40: EPOCH 257 - PROGRESS: at 75.69% examples, 1196054 words/s, in_qsize 14, out_qsize 1\n",
      "INFO - 16:17:40: EPOCH 257: training on 2135928 raw words (1560951 effective words) took 1.3s, 1193564 effective words/s\n"
     ]
    },
    {
     "name": "stdout",
     "output_type": "stream",
     "text": [
      "Loss after epoch 257: 0.0\n"
     ]
    },
    {
     "name": "stderr",
     "output_type": "stream",
     "text": [
      "INFO - 16:17:41: EPOCH 258 - PROGRESS: at 53.05% examples, 821814 words/s, in_qsize 15, out_qsize 0\n",
      "INFO - 16:17:42: EPOCH 258: training on 2135928 raw words (1561448 effective words) took 1.8s, 883158 effective words/s\n"
     ]
    },
    {
     "name": "stdout",
     "output_type": "stream",
     "text": [
      "Loss after epoch 258: 0.0\n"
     ]
    },
    {
     "name": "stderr",
     "output_type": "stream",
     "text": [
      "INFO - 16:17:43: EPOCH 259 - PROGRESS: at 59.82% examples, 931012 words/s, in_qsize 14, out_qsize 1\n",
      "INFO - 16:17:44: EPOCH 259: training on 2135928 raw words (1560349 effective words) took 1.6s, 956670 effective words/s\n"
     ]
    },
    {
     "name": "stdout",
     "output_type": "stream",
     "text": [
      "Loss after epoch 259: 0.0\n"
     ]
    },
    {
     "name": "stderr",
     "output_type": "stream",
     "text": [
      "INFO - 16:17:45: EPOCH 260 - PROGRESS: at 60.74% examples, 933623 words/s, in_qsize 16, out_qsize 2\n",
      "INFO - 16:17:45: EPOCH 260: training on 2135928 raw words (1560576 effective words) took 1.6s, 996792 effective words/s\n"
     ]
    },
    {
     "name": "stdout",
     "output_type": "stream",
     "text": [
      "Loss after epoch 260: 0.0\n"
     ]
    },
    {
     "name": "stderr",
     "output_type": "stream",
     "text": [
      "INFO - 16:17:46: EPOCH 261 - PROGRESS: at 57.06% examples, 876507 words/s, in_qsize 15, out_qsize 0\n",
      "INFO - 16:17:47: EPOCH 261: training on 2135928 raw words (1561088 effective words) took 1.7s, 897674 effective words/s\n"
     ]
    },
    {
     "name": "stdout",
     "output_type": "stream",
     "text": [
      "Loss after epoch 261: 0.0\n"
     ]
    },
    {
     "name": "stderr",
     "output_type": "stream",
     "text": [
      "INFO - 16:17:48: EPOCH 262 - PROGRESS: at 52.59% examples, 801203 words/s, in_qsize 15, out_qsize 2\n",
      "INFO - 16:17:49: EPOCH 262: training on 2135928 raw words (1560561 effective words) took 1.7s, 892020 effective words/s\n"
     ]
    },
    {
     "name": "stdout",
     "output_type": "stream",
     "text": [
      "Loss after epoch 262: 0.0\n"
     ]
    },
    {
     "name": "stderr",
     "output_type": "stream",
     "text": [
      "INFO - 16:17:50: EPOCH 263 - PROGRESS: at 62.09% examples, 955330 words/s, in_qsize 15, out_qsize 0\n",
      "INFO - 16:17:51: EPOCH 263: training on 2135928 raw words (1560808 effective words) took 1.7s, 935476 effective words/s\n"
     ]
    },
    {
     "name": "stdout",
     "output_type": "stream",
     "text": [
      "Loss after epoch 263: 0.0\n"
     ]
    },
    {
     "name": "stderr",
     "output_type": "stream",
     "text": [
      "INFO - 16:17:52: EPOCH 264 - PROGRESS: at 50.26% examples, 771830 words/s, in_qsize 14, out_qsize 1\n",
      "INFO - 16:17:52: EPOCH 264: training on 2135928 raw words (1560350 effective words) took 1.8s, 862031 effective words/s\n"
     ]
    },
    {
     "name": "stdout",
     "output_type": "stream",
     "text": [
      "Loss after epoch 264: 0.0\n"
     ]
    },
    {
     "name": "stderr",
     "output_type": "stream",
     "text": [
      "INFO - 16:17:53: EPOCH 265 - PROGRESS: at 59.82% examples, 906717 words/s, in_qsize 13, out_qsize 2\n",
      "INFO - 16:17:54: EPOCH 265: training on 2135928 raw words (1561232 effective words) took 1.8s, 891678 effective words/s\n"
     ]
    },
    {
     "name": "stdout",
     "output_type": "stream",
     "text": [
      "Loss after epoch 265: 0.0\n"
     ]
    },
    {
     "name": "stderr",
     "output_type": "stream",
     "text": [
      "INFO - 16:17:55: EPOCH 266 - PROGRESS: at 63.35% examples, 988567 words/s, in_qsize 15, out_qsize 0\n",
      "INFO - 16:17:56: EPOCH 266: training on 2135928 raw words (1561195 effective words) took 1.5s, 1045116 effective words/s\n"
     ]
    },
    {
     "name": "stdout",
     "output_type": "stream",
     "text": [
      "Loss after epoch 266: 0.0\n"
     ]
    },
    {
     "name": "stderr",
     "output_type": "stream",
     "text": [
      "INFO - 16:17:57: EPOCH 267 - PROGRESS: at 66.01% examples, 1031675 words/s, in_qsize 16, out_qsize 2\n",
      "INFO - 16:17:57: EPOCH 267: training on 2135928 raw words (1560396 effective words) took 1.4s, 1128046 effective words/s\n"
     ]
    },
    {
     "name": "stdout",
     "output_type": "stream",
     "text": [
      "Loss after epoch 267: 0.0\n"
     ]
    },
    {
     "name": "stderr",
     "output_type": "stream",
     "text": [
      "INFO - 16:17:58: EPOCH 268 - PROGRESS: at 68.93% examples, 1086977 words/s, in_qsize 15, out_qsize 0\n",
      "INFO - 16:17:58: EPOCH 268: training on 2135928 raw words (1561045 effective words) took 1.4s, 1128119 effective words/s\n"
     ]
    },
    {
     "name": "stdout",
     "output_type": "stream",
     "text": [
      "Loss after epoch 268: 0.0\n"
     ]
    },
    {
     "name": "stderr",
     "output_type": "stream",
     "text": [
      "INFO - 16:17:59: EPOCH 269 - PROGRESS: at 70.21% examples, 1090682 words/s, in_qsize 15, out_qsize 0\n",
      "INFO - 16:18:00: EPOCH 269: training on 2135928 raw words (1560904 effective words) took 1.4s, 1116387 effective words/s\n"
     ]
    },
    {
     "name": "stdout",
     "output_type": "stream",
     "text": [
      "Loss after epoch 269: 0.0\n"
     ]
    },
    {
     "name": "stderr",
     "output_type": "stream",
     "text": [
      "INFO - 16:18:01: EPOCH 270 - PROGRESS: at 57.99% examples, 905209 words/s, in_qsize 14, out_qsize 1\n",
      "INFO - 16:18:01: EPOCH 270: training on 2135928 raw words (1560731 effective words) took 1.5s, 1023615 effective words/s\n"
     ]
    },
    {
     "name": "stdout",
     "output_type": "stream",
     "text": [
      "Loss after epoch 270: 0.0\n"
     ]
    },
    {
     "name": "stderr",
     "output_type": "stream",
     "text": [
      "INFO - 16:18:02: EPOCH 271 - PROGRESS: at 62.52% examples, 973176 words/s, in_qsize 15, out_qsize 0\n",
      "INFO - 16:18:03: EPOCH 271: training on 2135928 raw words (1561079 effective words) took 1.5s, 1045385 effective words/s\n"
     ]
    },
    {
     "name": "stdout",
     "output_type": "stream",
     "text": [
      "Loss after epoch 271: 0.0\n"
     ]
    },
    {
     "name": "stderr",
     "output_type": "stream",
     "text": [
      "INFO - 16:18:04: EPOCH 272 - PROGRESS: at 69.33% examples, 1097320 words/s, in_qsize 15, out_qsize 0\n",
      "INFO - 16:18:04: EPOCH 272: training on 2135928 raw words (1562117 effective words) took 1.3s, 1157919 effective words/s\n"
     ]
    },
    {
     "name": "stdout",
     "output_type": "stream",
     "text": [
      "Loss after epoch 272: 0.0\n"
     ]
    },
    {
     "name": "stderr",
     "output_type": "stream",
     "text": [
      "INFO - 16:18:05: EPOCH 273 - PROGRESS: at 71.46% examples, 1122938 words/s, in_qsize 16, out_qsize 1\n",
      "INFO - 16:18:06: EPOCH 273: training on 2135928 raw words (1561586 effective words) took 1.4s, 1149549 effective words/s\n"
     ]
    },
    {
     "name": "stdout",
     "output_type": "stream",
     "text": [
      "Loss after epoch 273: 0.0\n"
     ]
    },
    {
     "name": "stderr",
     "output_type": "stream",
     "text": [
      "INFO - 16:18:07: EPOCH 274 - PROGRESS: at 73.54% examples, 1156875 words/s, in_qsize 15, out_qsize 0\n",
      "INFO - 16:18:07: EPOCH 274: training on 2135928 raw words (1560494 effective words) took 1.3s, 1194957 effective words/s\n"
     ]
    },
    {
     "name": "stdout",
     "output_type": "stream",
     "text": [
      "Loss after epoch 274: 0.0\n"
     ]
    },
    {
     "name": "stderr",
     "output_type": "stream",
     "text": [
      "INFO - 16:18:08: EPOCH 275 - PROGRESS: at 69.78% examples, 1088863 words/s, in_qsize 14, out_qsize 1\n",
      "INFO - 16:18:09: EPOCH 275: training on 2135928 raw words (1561232 effective words) took 1.6s, 987455 effective words/s\n"
     ]
    },
    {
     "name": "stdout",
     "output_type": "stream",
     "text": [
      "Loss after epoch 275: 0.0\n"
     ]
    },
    {
     "name": "stderr",
     "output_type": "stream",
     "text": [
      "INFO - 16:18:10: EPOCH 276 - PROGRESS: at 69.77% examples, 1092831 words/s, in_qsize 16, out_qsize 1\n",
      "INFO - 16:18:10: EPOCH 276: training on 2135928 raw words (1561129 effective words) took 1.4s, 1111926 effective words/s\n"
     ]
    },
    {
     "name": "stdout",
     "output_type": "stream",
     "text": [
      "Loss after epoch 276: 0.0\n"
     ]
    },
    {
     "name": "stderr",
     "output_type": "stream",
     "text": [
      "INFO - 16:18:11: EPOCH 277 - PROGRESS: at 67.72% examples, 1069386 words/s, in_qsize 15, out_qsize 0\n",
      "INFO - 16:18:11: EPOCH 277: training on 2135928 raw words (1561260 effective words) took 1.4s, 1120226 effective words/s\n"
     ]
    },
    {
     "name": "stdout",
     "output_type": "stream",
     "text": [
      "Loss after epoch 277: 0.0\n"
     ]
    },
    {
     "name": "stderr",
     "output_type": "stream",
     "text": [
      "INFO - 16:18:12: EPOCH 278 - PROGRESS: at 67.72% examples, 1065599 words/s, in_qsize 14, out_qsize 1\n",
      "INFO - 16:18:13: EPOCH 278: training on 2135928 raw words (1561170 effective words) took 1.5s, 1073668 effective words/s\n"
     ]
    },
    {
     "name": "stdout",
     "output_type": "stream",
     "text": [
      "Loss after epoch 278: 0.0\n"
     ]
    },
    {
     "name": "stderr",
     "output_type": "stream",
     "text": [
      "INFO - 16:18:14: EPOCH 279 - PROGRESS: at 66.01% examples, 1033802 words/s, in_qsize 12, out_qsize 3\n",
      "INFO - 16:18:14: EPOCH 279: training on 2135928 raw words (1560835 effective words) took 1.4s, 1094752 effective words/s\n"
     ]
    },
    {
     "name": "stdout",
     "output_type": "stream",
     "text": [
      "Loss after epoch 279: 0.0\n"
     ]
    },
    {
     "name": "stderr",
     "output_type": "stream",
     "text": [
      "INFO - 16:18:15: EPOCH 280 - PROGRESS: at 71.46% examples, 1130862 words/s, in_qsize 15, out_qsize 0\n",
      "INFO - 16:18:16: EPOCH 280: training on 2135928 raw words (1561114 effective words) took 1.4s, 1153943 effective words/s\n"
     ]
    },
    {
     "name": "stdout",
     "output_type": "stream",
     "text": [
      "Loss after epoch 280: 0.0\n"
     ]
    },
    {
     "name": "stderr",
     "output_type": "stream",
     "text": [
      "INFO - 16:18:17: EPOCH 281 - PROGRESS: at 74.40% examples, 1183214 words/s, in_qsize 16, out_qsize 1\n",
      "INFO - 16:18:17: EPOCH 281: training on 2135928 raw words (1560265 effective words) took 1.3s, 1226994 effective words/s\n"
     ]
    },
    {
     "name": "stdout",
     "output_type": "stream",
     "text": [
      "Loss after epoch 281: 0.0\n"
     ]
    },
    {
     "name": "stderr",
     "output_type": "stream",
     "text": [
      "INFO - 16:18:18: EPOCH 282 - PROGRESS: at 74.83% examples, 1169326 words/s, in_qsize 14, out_qsize 1\n",
      "INFO - 16:18:18: EPOCH 282: training on 2135928 raw words (1561804 effective words) took 1.3s, 1193872 effective words/s\n"
     ]
    },
    {
     "name": "stdout",
     "output_type": "stream",
     "text": [
      "Loss after epoch 282: 0.0\n"
     ]
    },
    {
     "name": "stderr",
     "output_type": "stream",
     "text": [
      "INFO - 16:18:19: EPOCH 283 - PROGRESS: at 68.13% examples, 1064037 words/s, in_qsize 14, out_qsize 1\n",
      "INFO - 16:18:20: EPOCH 283: training on 2135928 raw words (1561491 effective words) took 1.4s, 1139629 effective words/s\n"
     ]
    },
    {
     "name": "stdout",
     "output_type": "stream",
     "text": [
      "Loss after epoch 283: 0.0\n"
     ]
    },
    {
     "name": "stderr",
     "output_type": "stream",
     "text": [
      "INFO - 16:18:21: EPOCH 284 - PROGRESS: at 65.56% examples, 1018594 words/s, in_qsize 13, out_qsize 2\n",
      "INFO - 16:18:21: EPOCH 284: training on 2135928 raw words (1560804 effective words) took 1.5s, 1054737 effective words/s\n"
     ]
    },
    {
     "name": "stdout",
     "output_type": "stream",
     "text": [
      "Loss after epoch 284: 0.0\n"
     ]
    },
    {
     "name": "stderr",
     "output_type": "stream",
     "text": [
      "INFO - 16:18:22: EPOCH 285 - PROGRESS: at 71.89% examples, 1140073 words/s, in_qsize 16, out_qsize 1\n",
      "INFO - 16:18:22: EPOCH 285: training on 2135928 raw words (1561219 effective words) took 1.3s, 1165244 effective words/s\n"
     ]
    },
    {
     "name": "stdout",
     "output_type": "stream",
     "text": [
      "Loss after epoch 285: 0.0\n"
     ]
    },
    {
     "name": "stderr",
     "output_type": "stream",
     "text": [
      "INFO - 16:18:23: EPOCH 286 - PROGRESS: at 63.79% examples, 997126 words/s, in_qsize 14, out_qsize 1\n",
      "INFO - 16:18:24: EPOCH 286: training on 2135928 raw words (1560577 effective words) took 1.5s, 1047564 effective words/s\n"
     ]
    },
    {
     "name": "stdout",
     "output_type": "stream",
     "text": [
      "Loss after epoch 286: 0.0\n"
     ]
    },
    {
     "name": "stderr",
     "output_type": "stream",
     "text": [
      "INFO - 16:18:25: EPOCH 287 - PROGRESS: at 73.14% examples, 1159910 words/s, in_qsize 13, out_qsize 2\n",
      "INFO - 16:18:25: EPOCH 287: training on 2135928 raw words (1561274 effective words) took 1.3s, 1218464 effective words/s\n"
     ]
    },
    {
     "name": "stdout",
     "output_type": "stream",
     "text": [
      "Loss after epoch 287: 0.0\n"
     ]
    },
    {
     "name": "stderr",
     "output_type": "stream",
     "text": [
      "INFO - 16:18:26: EPOCH 288 - PROGRESS: at 70.63% examples, 1121137 words/s, in_qsize 16, out_qsize 0\n",
      "INFO - 16:18:27: EPOCH 288: training on 2135928 raw words (1561118 effective words) took 1.4s, 1151364 effective words/s\n"
     ]
    },
    {
     "name": "stdout",
     "output_type": "stream",
     "text": [
      "Loss after epoch 288: 0.0\n"
     ]
    },
    {
     "name": "stderr",
     "output_type": "stream",
     "text": [
      "INFO - 16:18:28: EPOCH 289 - PROGRESS: at 70.63% examples, 1120889 words/s, in_qsize 15, out_qsize 0\n",
      "INFO - 16:18:28: EPOCH 289: training on 2135928 raw words (1560972 effective words) took 1.4s, 1108144 effective words/s\n"
     ]
    },
    {
     "name": "stdout",
     "output_type": "stream",
     "text": [
      "Loss after epoch 289: 0.0\n"
     ]
    },
    {
     "name": "stderr",
     "output_type": "stream",
     "text": [
      "INFO - 16:18:29: EPOCH 290 - PROGRESS: at 62.93% examples, 986101 words/s, in_qsize 14, out_qsize 1\n",
      "INFO - 16:18:29: EPOCH 290: training on 2135928 raw words (1561175 effective words) took 1.5s, 1069437 effective words/s\n"
     ]
    },
    {
     "name": "stdout",
     "output_type": "stream",
     "text": [
      "Loss after epoch 290: 0.0\n"
     ]
    },
    {
     "name": "stderr",
     "output_type": "stream",
     "text": [
      "INFO - 16:18:30: EPOCH 291 - PROGRESS: at 65.56% examples, 1028392 words/s, in_qsize 15, out_qsize 0\n",
      "INFO - 16:18:31: EPOCH 291: training on 2135928 raw words (1561798 effective words) took 1.4s, 1111324 effective words/s\n"
     ]
    },
    {
     "name": "stdout",
     "output_type": "stream",
     "text": [
      "Loss after epoch 291: 0.0\n"
     ]
    },
    {
     "name": "stderr",
     "output_type": "stream",
     "text": [
      "INFO - 16:18:32: EPOCH 292 - PROGRESS: at 72.72% examples, 1132522 words/s, in_qsize 15, out_qsize 0\n",
      "INFO - 16:18:32: EPOCH 292: training on 2135928 raw words (1560913 effective words) took 1.3s, 1169107 effective words/s\n"
     ]
    },
    {
     "name": "stdout",
     "output_type": "stream",
     "text": [
      "Loss after epoch 292: 0.0\n"
     ]
    },
    {
     "name": "stderr",
     "output_type": "stream",
     "text": [
      "INFO - 16:18:33: EPOCH 293 - PROGRESS: at 74.38% examples, 1180688 words/s, in_qsize 16, out_qsize 1\n",
      "INFO - 16:18:34: EPOCH 293: training on 2135928 raw words (1560621 effective words) took 1.3s, 1201917 effective words/s\n"
     ]
    },
    {
     "name": "stdout",
     "output_type": "stream",
     "text": [
      "Loss after epoch 293: 0.0\n"
     ]
    },
    {
     "name": "stderr",
     "output_type": "stream",
     "text": [
      "INFO - 16:18:35: EPOCH 294 - PROGRESS: at 68.93% examples, 1079155 words/s, in_qsize 16, out_qsize 1\n",
      "INFO - 16:18:35: EPOCH 294: training on 2135928 raw words (1561150 effective words) took 1.5s, 1065542 effective words/s\n"
     ]
    },
    {
     "name": "stdout",
     "output_type": "stream",
     "text": [
      "Loss after epoch 294: 0.0\n"
     ]
    },
    {
     "name": "stderr",
     "output_type": "stream",
     "text": [
      "INFO - 16:18:36: EPOCH 295 - PROGRESS: at 69.77% examples, 1105453 words/s, in_qsize 16, out_qsize 0\n",
      "INFO - 16:18:36: EPOCH 295: training on 2135928 raw words (1561222 effective words) took 1.4s, 1116371 effective words/s\n"
     ]
    },
    {
     "name": "stdout",
     "output_type": "stream",
     "text": [
      "Loss after epoch 295: 0.0\n"
     ]
    },
    {
     "name": "stderr",
     "output_type": "stream",
     "text": [
      "INFO - 16:18:37: EPOCH 296 - PROGRESS: at 76.61% examples, 1196945 words/s, in_qsize 13, out_qsize 2\n",
      "INFO - 16:18:38: EPOCH 296: training on 2135928 raw words (1561658 effective words) took 1.3s, 1165674 effective words/s\n"
     ]
    },
    {
     "name": "stdout",
     "output_type": "stream",
     "text": [
      "Loss after epoch 296: 0.0\n"
     ]
    },
    {
     "name": "stderr",
     "output_type": "stream",
     "text": [
      "INFO - 16:18:39: EPOCH 297 - PROGRESS: at 68.93% examples, 1087387 words/s, in_qsize 16, out_qsize 0\n",
      "INFO - 16:18:39: EPOCH 297: training on 2135928 raw words (1561161 effective words) took 1.4s, 1092923 effective words/s\n"
     ]
    },
    {
     "name": "stdout",
     "output_type": "stream",
     "text": [
      "Loss after epoch 297: 0.0\n"
     ]
    },
    {
     "name": "stderr",
     "output_type": "stream",
     "text": [
      "INFO - 16:18:40: EPOCH 298 - PROGRESS: at 73.95% examples, 1178994 words/s, in_qsize 16, out_qsize 0\n",
      "INFO - 16:18:41: EPOCH 298: training on 2135928 raw words (1560926 effective words) took 1.3s, 1197090 effective words/s\n"
     ]
    },
    {
     "name": "stdout",
     "output_type": "stream",
     "text": [
      "Loss after epoch 298: 0.0\n"
     ]
    },
    {
     "name": "stderr",
     "output_type": "stream",
     "text": [
      "INFO - 16:18:42: EPOCH 299 - PROGRESS: at 76.57% examples, 1212150 words/s, in_qsize 13, out_qsize 2\n",
      "INFO - 16:18:42: EPOCH 299: training on 2135928 raw words (1561217 effective words) took 1.2s, 1249771 effective words/s\n"
     ]
    },
    {
     "name": "stdout",
     "output_type": "stream",
     "text": [
      "Loss after epoch 299: 0.0\n"
     ]
    },
    {
     "name": "stderr",
     "output_type": "stream",
     "text": [
      "INFO - 16:18:43: EPOCH 300 - PROGRESS: at 66.93% examples, 1044572 words/s, in_qsize 16, out_qsize 1\n",
      "INFO - 16:18:43: EPOCH 300: training on 2135928 raw words (1562058 effective words) took 1.5s, 1064978 effective words/s\n"
     ]
    },
    {
     "name": "stdout",
     "output_type": "stream",
     "text": [
      "Loss after epoch 300: 0.0\n"
     ]
    },
    {
     "name": "stderr",
     "output_type": "stream",
     "text": [
      "INFO - 16:18:44: EPOCH 301 - PROGRESS: at 63.78% examples, 990000 words/s, in_qsize 15, out_qsize 0\n",
      "INFO - 16:18:45: EPOCH 301: training on 2135928 raw words (1560667 effective words) took 1.5s, 1059513 effective words/s\n"
     ]
    },
    {
     "name": "stdout",
     "output_type": "stream",
     "text": [
      "Loss after epoch 301: 0.0\n"
     ]
    },
    {
     "name": "stderr",
     "output_type": "stream",
     "text": [
      "INFO - 16:18:46: EPOCH 302 - PROGRESS: at 66.93% examples, 1052373 words/s, in_qsize 14, out_qsize 1\n",
      "INFO - 16:18:46: EPOCH 302: training on 2135928 raw words (1561265 effective words) took 1.4s, 1097463 effective words/s\n"
     ]
    },
    {
     "name": "stdout",
     "output_type": "stream",
     "text": [
      "Loss after epoch 302: 0.0\n"
     ]
    },
    {
     "name": "stderr",
     "output_type": "stream",
     "text": [
      "INFO - 16:18:47: EPOCH 303 - PROGRESS: at 78.34% examples, 1245023 words/s, in_qsize 15, out_qsize 0\n",
      "INFO - 16:18:47: EPOCH 303: training on 2135928 raw words (1560959 effective words) took 1.2s, 1281122 effective words/s\n"
     ]
    },
    {
     "name": "stdout",
     "output_type": "stream",
     "text": [
      "Loss after epoch 303: 0.0\n"
     ]
    },
    {
     "name": "stderr",
     "output_type": "stream",
     "text": [
      "INFO - 16:18:48: EPOCH 304 - PROGRESS: at 74.84% examples, 1181788 words/s, in_qsize 14, out_qsize 1\n",
      "INFO - 16:18:49: EPOCH 304: training on 2135928 raw words (1560823 effective words) took 1.3s, 1181906 effective words/s\n"
     ]
    },
    {
     "name": "stdout",
     "output_type": "stream",
     "text": [
      "Loss after epoch 304: 0.0\n"
     ]
    },
    {
     "name": "stderr",
     "output_type": "stream",
     "text": [
      "INFO - 16:18:50: EPOCH 305 - PROGRESS: at 71.46% examples, 1122499 words/s, in_qsize 15, out_qsize 0\n",
      "INFO - 16:18:50: EPOCH 305: training on 2135928 raw words (1561451 effective words) took 1.4s, 1141650 effective words/s\n"
     ]
    },
    {
     "name": "stdout",
     "output_type": "stream",
     "text": [
      "Loss after epoch 305: 0.0\n"
     ]
    },
    {
     "name": "stderr",
     "output_type": "stream",
     "text": [
      "INFO - 16:18:51: EPOCH 306 - PROGRESS: at 71.03% examples, 1118458 words/s, in_qsize 14, out_qsize 1\n",
      "INFO - 16:18:51: EPOCH 306: training on 2135928 raw words (1560813 effective words) took 1.4s, 1138167 effective words/s\n"
     ]
    },
    {
     "name": "stdout",
     "output_type": "stream",
     "text": [
      "Loss after epoch 306: 0.0\n"
     ]
    },
    {
     "name": "stderr",
     "output_type": "stream",
     "text": [
      "INFO - 16:18:53: EPOCH 307 - PROGRESS: at 71.03% examples, 1119406 words/s, in_qsize 14, out_qsize 1\n",
      "INFO - 16:18:53: EPOCH 307: training on 2135928 raw words (1562198 effective words) took 1.4s, 1115885 effective words/s\n"
     ]
    },
    {
     "name": "stdout",
     "output_type": "stream",
     "text": [
      "Loss after epoch 307: 0.0\n"
     ]
    },
    {
     "name": "stderr",
     "output_type": "stream",
     "text": [
      "INFO - 16:18:54: EPOCH 308 - PROGRESS: at 77.91% examples, 1243854 words/s, in_qsize 16, out_qsize 0\n",
      "INFO - 16:18:54: EPOCH 308: training on 2135928 raw words (1561681 effective words) took 1.2s, 1249985 effective words/s\n"
     ]
    },
    {
     "name": "stdout",
     "output_type": "stream",
     "text": [
      "Loss after epoch 308: 0.0\n"
     ]
    },
    {
     "name": "stderr",
     "output_type": "stream",
     "text": [
      "INFO - 16:18:55: EPOCH 309 - PROGRESS: at 74.84% examples, 1185136 words/s, in_qsize 15, out_qsize 0\n",
      "INFO - 16:18:55: EPOCH 309: training on 2135928 raw words (1561096 effective words) took 1.3s, 1229021 effective words/s\n"
     ]
    },
    {
     "name": "stdout",
     "output_type": "stream",
     "text": [
      "Loss after epoch 309: 0.0\n"
     ]
    },
    {
     "name": "stderr",
     "output_type": "stream",
     "text": [
      "INFO - 16:18:56: EPOCH 310 - PROGRESS: at 79.65% examples, 1261494 words/s, in_qsize 15, out_qsize 0\n",
      "INFO - 16:18:57: EPOCH 310: training on 2135928 raw words (1561093 effective words) took 1.2s, 1291906 effective words/s\n"
     ]
    },
    {
     "name": "stdout",
     "output_type": "stream",
     "text": [
      "Loss after epoch 310: 0.0\n"
     ]
    },
    {
     "name": "stderr",
     "output_type": "stream",
     "text": [
      "INFO - 16:18:58: EPOCH 311 - PROGRESS: at 80.93% examples, 1277340 words/s, in_qsize 15, out_qsize 0\n",
      "INFO - 16:18:58: EPOCH 311: training on 2135928 raw words (1561203 effective words) took 1.2s, 1307358 effective words/s\n"
     ]
    },
    {
     "name": "stdout",
     "output_type": "stream",
     "text": [
      "Loss after epoch 311: 0.0\n"
     ]
    },
    {
     "name": "stderr",
     "output_type": "stream",
     "text": [
      "INFO - 16:18:59: EPOCH 312 - PROGRESS: at 79.65% examples, 1270963 words/s, in_qsize 16, out_qsize 0\n",
      "INFO - 16:18:59: EPOCH 312: training on 2135928 raw words (1561249 effective words) took 1.2s, 1308115 effective words/s\n"
     ]
    },
    {
     "name": "stdout",
     "output_type": "stream",
     "text": [
      "Loss after epoch 312: 0.0\n"
     ]
    },
    {
     "name": "stderr",
     "output_type": "stream",
     "text": [
      "INFO - 16:19:00: EPOCH 313 - PROGRESS: at 80.51% examples, 1270062 words/s, in_qsize 15, out_qsize 0\n",
      "INFO - 16:19:00: EPOCH 313: training on 2135928 raw words (1560967 effective words) took 1.2s, 1319847 effective words/s\n"
     ]
    },
    {
     "name": "stdout",
     "output_type": "stream",
     "text": [
      "Loss after epoch 313: 0.0\n"
     ]
    },
    {
     "name": "stderr",
     "output_type": "stream",
     "text": [
      "INFO - 16:19:01: EPOCH 314 - PROGRESS: at 80.52% examples, 1286861 words/s, in_qsize 14, out_qsize 1\n",
      "INFO - 16:19:01: EPOCH 314: training on 2135928 raw words (1562081 effective words) took 1.2s, 1324753 effective words/s\n"
     ]
    },
    {
     "name": "stdout",
     "output_type": "stream",
     "text": [
      "Loss after epoch 314: 0.0\n"
     ]
    },
    {
     "name": "stderr",
     "output_type": "stream",
     "text": [
      "INFO - 16:19:02: EPOCH 315 - PROGRESS: at 78.78% examples, 1250675 words/s, in_qsize 15, out_qsize 0\n",
      "INFO - 16:19:03: EPOCH 315: training on 2135928 raw words (1560450 effective words) took 1.2s, 1286784 effective words/s\n"
     ]
    },
    {
     "name": "stdout",
     "output_type": "stream",
     "text": [
      "Loss after epoch 315: 0.0\n"
     ]
    },
    {
     "name": "stderr",
     "output_type": "stream",
     "text": [
      "INFO - 16:19:04: EPOCH 316 - PROGRESS: at 79.65% examples, 1269256 words/s, in_qsize 16, out_qsize 0\n",
      "INFO - 16:19:04: EPOCH 316: training on 2135928 raw words (1560463 effective words) took 1.2s, 1293011 effective words/s\n"
     ]
    },
    {
     "name": "stdout",
     "output_type": "stream",
     "text": [
      "Loss after epoch 316: 0.0\n"
     ]
    },
    {
     "name": "stderr",
     "output_type": "stream",
     "text": [
      "INFO - 16:19:05: EPOCH 317 - PROGRESS: at 80.08% examples, 1284332 words/s, in_qsize 16, out_qsize 0\n",
      "INFO - 16:19:05: EPOCH 317: training on 2135928 raw words (1560527 effective words) took 1.2s, 1302762 effective words/s\n"
     ]
    },
    {
     "name": "stdout",
     "output_type": "stream",
     "text": [
      "Loss after epoch 317: 0.0\n"
     ]
    },
    {
     "name": "stderr",
     "output_type": "stream",
     "text": [
      "INFO - 16:19:06: EPOCH 318 - PROGRESS: at 77.47% examples, 1218175 words/s, in_qsize 15, out_qsize 0\n",
      "INFO - 16:19:06: EPOCH 318: training on 2135928 raw words (1561104 effective words) took 1.2s, 1278607 effective words/s\n"
     ]
    },
    {
     "name": "stdout",
     "output_type": "stream",
     "text": [
      "Loss after epoch 318: 0.0\n"
     ]
    },
    {
     "name": "stderr",
     "output_type": "stream",
     "text": [
      "INFO - 16:19:07: EPOCH 319 - PROGRESS: at 79.65% examples, 1279153 words/s, in_qsize 16, out_qsize 0\n",
      "INFO - 16:19:08: EPOCH 319: training on 2135928 raw words (1562673 effective words) took 1.2s, 1310851 effective words/s\n"
     ]
    },
    {
     "name": "stdout",
     "output_type": "stream",
     "text": [
      "Loss after epoch 319: 0.0\n"
     ]
    },
    {
     "name": "stderr",
     "output_type": "stream",
     "text": [
      "INFO - 16:19:09: EPOCH 320 - PROGRESS: at 79.65% examples, 1267054 words/s, in_qsize 16, out_qsize 2\n",
      "INFO - 16:19:09: EPOCH 320: training on 2135928 raw words (1561245 effective words) took 1.2s, 1299922 effective words/s\n"
     ]
    },
    {
     "name": "stdout",
     "output_type": "stream",
     "text": [
      "Loss after epoch 320: 0.0\n"
     ]
    },
    {
     "name": "stderr",
     "output_type": "stream",
     "text": [
      "INFO - 16:19:10: EPOCH 321 - PROGRESS: at 80.07% examples, 1267648 words/s, in_qsize 15, out_qsize 0\n",
      "INFO - 16:19:10: EPOCH 321: training on 2135928 raw words (1561500 effective words) took 1.2s, 1312566 effective words/s\n"
     ]
    },
    {
     "name": "stdout",
     "output_type": "stream",
     "text": [
      "Loss after epoch 321: 0.0\n"
     ]
    },
    {
     "name": "stderr",
     "output_type": "stream",
     "text": [
      "INFO - 16:19:11: EPOCH 322 - PROGRESS: at 79.21% examples, 1270512 words/s, in_qsize 15, out_qsize 0\n",
      "INFO - 16:19:11: EPOCH 322: training on 2135928 raw words (1560847 effective words) took 1.2s, 1290086 effective words/s\n"
     ]
    },
    {
     "name": "stdout",
     "output_type": "stream",
     "text": [
      "Loss after epoch 322: 0.0\n"
     ]
    },
    {
     "name": "stderr",
     "output_type": "stream",
     "text": [
      "INFO - 16:19:12: EPOCH 323 - PROGRESS: at 79.64% examples, 1277531 words/s, in_qsize 13, out_qsize 2\n",
      "INFO - 16:19:12: EPOCH 323: training on 2135928 raw words (1561162 effective words) took 1.2s, 1317083 effective words/s\n"
     ]
    },
    {
     "name": "stdout",
     "output_type": "stream",
     "text": [
      "Loss after epoch 323: 0.0\n"
     ]
    },
    {
     "name": "stderr",
     "output_type": "stream",
     "text": [
      "INFO - 16:19:13: EPOCH 324 - PROGRESS: at 80.08% examples, 1265751 words/s, in_qsize 15, out_qsize 0\n",
      "INFO - 16:19:14: EPOCH 324: training on 2135928 raw words (1560875 effective words) took 1.2s, 1292431 effective words/s\n"
     ]
    },
    {
     "name": "stdout",
     "output_type": "stream",
     "text": [
      "Loss after epoch 324: 0.0\n"
     ]
    },
    {
     "name": "stderr",
     "output_type": "stream",
     "text": [
      "INFO - 16:19:15: EPOCH 325 - PROGRESS: at 78.34% examples, 1253146 words/s, in_qsize 15, out_qsize 2\n",
      "INFO - 16:19:15: EPOCH 325: training on 2135928 raw words (1561253 effective words) took 1.2s, 1311703 effective words/s\n"
     ]
    },
    {
     "name": "stdout",
     "output_type": "stream",
     "text": [
      "Loss after epoch 325: 0.0\n"
     ]
    },
    {
     "name": "stderr",
     "output_type": "stream",
     "text": [
      "INFO - 16:19:16: EPOCH 326 - PROGRESS: at 77.04% examples, 1230583 words/s, in_qsize 15, out_qsize 0\n",
      "INFO - 16:19:16: EPOCH 326: training on 2135928 raw words (1561122 effective words) took 1.2s, 1279558 effective words/s\n"
     ]
    },
    {
     "name": "stdout",
     "output_type": "stream",
     "text": [
      "Loss after epoch 326: 0.0\n"
     ]
    },
    {
     "name": "stderr",
     "output_type": "stream",
     "text": [
      "INFO - 16:19:17: EPOCH 327 - PROGRESS: at 79.64% examples, 1272014 words/s, in_qsize 13, out_qsize 2\n",
      "INFO - 16:19:17: EPOCH 327: training on 2135928 raw words (1560130 effective words) took 1.2s, 1310290 effective words/s\n"
     ]
    },
    {
     "name": "stdout",
     "output_type": "stream",
     "text": [
      "Loss after epoch 327: 0.0\n"
     ]
    },
    {
     "name": "stderr",
     "output_type": "stream",
     "text": [
      "INFO - 16:19:18: EPOCH 328 - PROGRESS: at 80.08% examples, 1279337 words/s, in_qsize 16, out_qsize 0\n",
      "INFO - 16:19:18: EPOCH 328: training on 2135928 raw words (1560773 effective words) took 1.2s, 1298824 effective words/s\n"
     ]
    },
    {
     "name": "stdout",
     "output_type": "stream",
     "text": [
      "Loss after epoch 328: 0.0\n"
     ]
    },
    {
     "name": "stderr",
     "output_type": "stream",
     "text": [
      "INFO - 16:19:19: EPOCH 329 - PROGRESS: at 78.78% examples, 1260717 words/s, in_qsize 15, out_qsize 0\n",
      "INFO - 16:19:20: EPOCH 329: training on 2135928 raw words (1560731 effective words) took 1.2s, 1287863 effective words/s\n"
     ]
    },
    {
     "name": "stdout",
     "output_type": "stream",
     "text": [
      "Loss after epoch 329: 0.0\n"
     ]
    },
    {
     "name": "stderr",
     "output_type": "stream",
     "text": [
      "INFO - 16:19:21: EPOCH 330 - PROGRESS: at 78.78% examples, 1254170 words/s, in_qsize 16, out_qsize 1\n",
      "INFO - 16:19:21: EPOCH 330: training on 2135928 raw words (1560892 effective words) took 1.2s, 1294558 effective words/s\n"
     ]
    },
    {
     "name": "stdout",
     "output_type": "stream",
     "text": [
      "Loss after epoch 330: 0.0\n"
     ]
    },
    {
     "name": "stderr",
     "output_type": "stream",
     "text": [
      "INFO - 16:19:22: EPOCH 331 - PROGRESS: at 80.09% examples, 1276743 words/s, in_qsize 13, out_qsize 2\n",
      "INFO - 16:19:22: EPOCH 331: training on 2135928 raw words (1561291 effective words) took 1.2s, 1318077 effective words/s\n"
     ]
    },
    {
     "name": "stdout",
     "output_type": "stream",
     "text": [
      "Loss after epoch 331: 0.0\n"
     ]
    },
    {
     "name": "stderr",
     "output_type": "stream",
     "text": [
      "INFO - 16:19:23: EPOCH 332 - PROGRESS: at 80.95% examples, 1278112 words/s, in_qsize 16, out_qsize 0\n",
      "INFO - 16:19:23: EPOCH 332: training on 2135928 raw words (1561482 effective words) took 1.2s, 1309991 effective words/s\n"
     ]
    },
    {
     "name": "stdout",
     "output_type": "stream",
     "text": [
      "Loss after epoch 332: 0.0\n"
     ]
    },
    {
     "name": "stderr",
     "output_type": "stream",
     "text": [
      "INFO - 16:19:24: EPOCH 333 - PROGRESS: at 79.21% examples, 1251330 words/s, in_qsize 15, out_qsize 0\n",
      "INFO - 16:19:24: EPOCH 333: training on 2135928 raw words (1561007 effective words) took 1.2s, 1302742 effective words/s\n"
     ]
    },
    {
     "name": "stdout",
     "output_type": "stream",
     "text": [
      "Loss after epoch 333: 0.0\n"
     ]
    },
    {
     "name": "stderr",
     "output_type": "stream",
     "text": [
      "INFO - 16:19:25: EPOCH 334 - PROGRESS: at 79.65% examples, 1276950 words/s, in_qsize 15, out_qsize 1\n",
      "INFO - 16:19:26: EPOCH 334: training on 2135928 raw words (1560946 effective words) took 1.2s, 1299341 effective words/s\n"
     ]
    },
    {
     "name": "stdout",
     "output_type": "stream",
     "text": [
      "Loss after epoch 334: 0.0\n"
     ]
    },
    {
     "name": "stderr",
     "output_type": "stream",
     "text": [
      "INFO - 16:19:27: EPOCH 335 - PROGRESS: at 77.04% examples, 1217133 words/s, in_qsize 15, out_qsize 0\n",
      "INFO - 16:19:27: EPOCH 335: training on 2135928 raw words (1560976 effective words) took 1.2s, 1271611 effective words/s\n"
     ]
    },
    {
     "name": "stdout",
     "output_type": "stream",
     "text": [
      "Loss after epoch 335: 0.0\n"
     ]
    },
    {
     "name": "stderr",
     "output_type": "stream",
     "text": [
      "INFO - 16:19:28: EPOCH 336 - PROGRESS: at 71.46% examples, 1132902 words/s, in_qsize 16, out_qsize 1\n",
      "INFO - 16:19:28: EPOCH 336: training on 2135928 raw words (1560512 effective words) took 1.4s, 1154280 effective words/s\n"
     ]
    },
    {
     "name": "stdout",
     "output_type": "stream",
     "text": [
      "Loss after epoch 336: 0.0\n"
     ]
    },
    {
     "name": "stderr",
     "output_type": "stream",
     "text": [
      "INFO - 16:19:29: EPOCH 337 - PROGRESS: at 76.14% examples, 1209700 words/s, in_qsize 15, out_qsize 0\n",
      "INFO - 16:19:29: EPOCH 337: training on 2135928 raw words (1561585 effective words) took 1.2s, 1259895 effective words/s\n"
     ]
    },
    {
     "name": "stdout",
     "output_type": "stream",
     "text": [
      "Loss after epoch 337: 0.0\n"
     ]
    },
    {
     "name": "stderr",
     "output_type": "stream",
     "text": [
      "INFO - 16:19:31: EPOCH 338 - PROGRESS: at 72.71% examples, 1148297 words/s, in_qsize 14, out_qsize 1\n",
      "INFO - 16:19:31: EPOCH 338: training on 2135928 raw words (1560937 effective words) took 1.3s, 1197200 effective words/s\n"
     ]
    },
    {
     "name": "stdout",
     "output_type": "stream",
     "text": [
      "Loss after epoch 338: 0.0\n"
     ]
    },
    {
     "name": "stderr",
     "output_type": "stream",
     "text": [
      "INFO - 16:19:32: EPOCH 339 - PROGRESS: at 74.39% examples, 1181243 words/s, in_qsize 15, out_qsize 0\n",
      "INFO - 16:19:32: EPOCH 339: training on 2135928 raw words (1561077 effective words) took 1.4s, 1109451 effective words/s\n"
     ]
    },
    {
     "name": "stdout",
     "output_type": "stream",
     "text": [
      "Loss after epoch 339: 0.0\n"
     ]
    },
    {
     "name": "stderr",
     "output_type": "stream",
     "text": [
      "INFO - 16:19:33: EPOCH 340 - PROGRESS: at 69.33% examples, 1096582 words/s, in_qsize 15, out_qsize 0\n",
      "INFO - 16:19:34: EPOCH 340: training on 2135928 raw words (1561126 effective words) took 1.5s, 1072490 effective words/s\n"
     ]
    },
    {
     "name": "stdout",
     "output_type": "stream",
     "text": [
      "Loss after epoch 340: 0.0\n"
     ]
    },
    {
     "name": "stderr",
     "output_type": "stream",
     "text": [
      "INFO - 16:19:35: EPOCH 341 - PROGRESS: at 62.09% examples, 963576 words/s, in_qsize 14, out_qsize 1\n",
      "INFO - 16:19:35: EPOCH 341: training on 2135928 raw words (1561021 effective words) took 1.5s, 1011310 effective words/s\n"
     ]
    },
    {
     "name": "stdout",
     "output_type": "stream",
     "text": [
      "Loss after epoch 341: 0.0\n"
     ]
    },
    {
     "name": "stderr",
     "output_type": "stream",
     "text": [
      "INFO - 16:19:36: EPOCH 342 - PROGRESS: at 70.18% examples, 1098177 words/s, in_qsize 14, out_qsize 2\n",
      "INFO - 16:19:37: EPOCH 342: training on 2135928 raw words (1561400 effective words) took 1.4s, 1135983 effective words/s\n"
     ]
    },
    {
     "name": "stdout",
     "output_type": "stream",
     "text": [
      "Loss after epoch 342: 0.0\n"
     ]
    },
    {
     "name": "stderr",
     "output_type": "stream",
     "text": [
      "INFO - 16:19:38: EPOCH 343 - PROGRESS: at 78.78% examples, 1242846 words/s, in_qsize 15, out_qsize 0\n",
      "INFO - 16:19:38: EPOCH 343: training on 2135928 raw words (1562025 effective words) took 1.3s, 1242374 effective words/s\n"
     ]
    },
    {
     "name": "stdout",
     "output_type": "stream",
     "text": [
      "Loss after epoch 343: 0.0\n"
     ]
    },
    {
     "name": "stderr",
     "output_type": "stream",
     "text": [
      "INFO - 16:19:39: EPOCH 344 - PROGRESS: at 78.34% examples, 1248127 words/s, in_qsize 14, out_qsize 2\n",
      "INFO - 16:19:39: EPOCH 344: training on 2135928 raw words (1561762 effective words) took 1.2s, 1292958 effective words/s\n"
     ]
    },
    {
     "name": "stdout",
     "output_type": "stream",
     "text": [
      "Loss after epoch 344: 0.0\n"
     ]
    },
    {
     "name": "stderr",
     "output_type": "stream",
     "text": [
      "INFO - 16:19:40: EPOCH 345 - PROGRESS: at 78.77% examples, 1254321 words/s, in_qsize 12, out_qsize 3\n",
      "INFO - 16:19:40: EPOCH 345: training on 2135928 raw words (1561190 effective words) took 1.2s, 1302405 effective words/s\n"
     ]
    },
    {
     "name": "stdout",
     "output_type": "stream",
     "text": [
      "Loss after epoch 345: 0.0\n"
     ]
    },
    {
     "name": "stderr",
     "output_type": "stream",
     "text": [
      "INFO - 16:19:41: EPOCH 346 - PROGRESS: at 76.57% examples, 1217534 words/s, in_qsize 15, out_qsize 0\n",
      "INFO - 16:19:42: EPOCH 346: training on 2135928 raw words (1561027 effective words) took 1.3s, 1166675 effective words/s\n"
     ]
    },
    {
     "name": "stdout",
     "output_type": "stream",
     "text": [
      "Loss after epoch 346: 0.0\n"
     ]
    },
    {
     "name": "stderr",
     "output_type": "stream",
     "text": [
      "INFO - 16:19:43: EPOCH 347 - PROGRESS: at 74.84% examples, 1184780 words/s, in_qsize 16, out_qsize 1\n",
      "INFO - 16:19:43: EPOCH 347: training on 2135928 raw words (1561255 effective words) took 1.3s, 1233438 effective words/s\n"
     ]
    },
    {
     "name": "stdout",
     "output_type": "stream",
     "text": [
      "Loss after epoch 347: 0.0\n"
     ]
    },
    {
     "name": "stderr",
     "output_type": "stream",
     "text": [
      "INFO - 16:19:44: EPOCH 348 - PROGRESS: at 73.99% examples, 1170097 words/s, in_qsize 16, out_qsize 0\n",
      "INFO - 16:19:44: EPOCH 348: training on 2135928 raw words (1560430 effective words) took 1.3s, 1220685 effective words/s\n"
     ]
    },
    {
     "name": "stdout",
     "output_type": "stream",
     "text": [
      "Loss after epoch 348: 0.0\n"
     ]
    },
    {
     "name": "stderr",
     "output_type": "stream",
     "text": [
      "INFO - 16:19:45: EPOCH 349 - PROGRESS: at 64.66% examples, 1017836 words/s, in_qsize 15, out_qsize 0\n",
      "INFO - 16:19:46: EPOCH 349: training on 2135928 raw words (1561235 effective words) took 1.5s, 1040381 effective words/s\n"
     ]
    },
    {
     "name": "stdout",
     "output_type": "stream",
     "text": [
      "Loss after epoch 349: 0.0\n"
     ]
    },
    {
     "name": "stderr",
     "output_type": "stream",
     "text": [
      "INFO - 16:19:47: EPOCH 350 - PROGRESS: at 72.30% examples, 1130432 words/s, in_qsize 15, out_qsize 0\n",
      "INFO - 16:19:47: EPOCH 350: training on 2135928 raw words (1560977 effective words) took 1.3s, 1188772 effective words/s\n"
     ]
    },
    {
     "name": "stdout",
     "output_type": "stream",
     "text": [
      "Loss after epoch 350: 0.0\n"
     ]
    },
    {
     "name": "stderr",
     "output_type": "stream",
     "text": [
      "INFO - 16:19:48: EPOCH 351 - PROGRESS: at 66.93% examples, 1053190 words/s, in_qsize 13, out_qsize 2\n",
      "INFO - 16:19:48: EPOCH 351: training on 2135928 raw words (1561243 effective words) took 1.4s, 1123198 effective words/s\n"
     ]
    },
    {
     "name": "stdout",
     "output_type": "stream",
     "text": [
      "Loss after epoch 351: 0.0\n"
     ]
    },
    {
     "name": "stderr",
     "output_type": "stream",
     "text": [
      "INFO - 16:19:49: EPOCH 352 - PROGRESS: at 74.40% examples, 1182922 words/s, in_qsize 14, out_qsize 1\n",
      "INFO - 16:19:50: EPOCH 352: training on 2135928 raw words (1561586 effective words) took 1.3s, 1207722 effective words/s\n"
     ]
    },
    {
     "name": "stdout",
     "output_type": "stream",
     "text": [
      "Loss after epoch 352: 0.0\n"
     ]
    },
    {
     "name": "stderr",
     "output_type": "stream",
     "text": [
      "INFO - 16:19:51: EPOCH 353 - PROGRESS: at 73.54% examples, 1168069 words/s, in_qsize 15, out_qsize 0\n",
      "INFO - 16:19:51: EPOCH 353: training on 2135928 raw words (1561097 effective words) took 1.3s, 1160934 effective words/s\n"
     ]
    },
    {
     "name": "stdout",
     "output_type": "stream",
     "text": [
      "Loss after epoch 353: 0.0\n"
     ]
    },
    {
     "name": "stderr",
     "output_type": "stream",
     "text": [
      "INFO - 16:19:52: EPOCH 354 - PROGRESS: at 69.33% examples, 1092917 words/s, in_qsize 13, out_qsize 2\n",
      "INFO - 16:19:53: EPOCH 354: training on 2135928 raw words (1560660 effective words) took 1.4s, 1125631 effective words/s\n"
     ]
    },
    {
     "name": "stdout",
     "output_type": "stream",
     "text": [
      "Loss after epoch 354: 0.0\n"
     ]
    },
    {
     "name": "stderr",
     "output_type": "stream",
     "text": [
      "INFO - 16:19:54: EPOCH 355 - PROGRESS: at 70.21% examples, 1110293 words/s, in_qsize 15, out_qsize 0\n",
      "INFO - 16:19:54: EPOCH 355: training on 2135928 raw words (1561488 effective words) took 1.4s, 1104194 effective words/s\n"
     ]
    },
    {
     "name": "stdout",
     "output_type": "stream",
     "text": [
      "Loss after epoch 355: 0.0\n"
     ]
    },
    {
     "name": "stderr",
     "output_type": "stream",
     "text": [
      "INFO - 16:19:55: EPOCH 356 - PROGRESS: at 63.37% examples, 984115 words/s, in_qsize 15, out_qsize 0\n",
      "INFO - 16:19:56: EPOCH 356: training on 2135928 raw words (1561415 effective words) took 1.6s, 1005405 effective words/s\n"
     ]
    },
    {
     "name": "stdout",
     "output_type": "stream",
     "text": [
      "Loss after epoch 356: 0.0\n"
     ]
    },
    {
     "name": "stderr",
     "output_type": "stream",
     "text": [
      "INFO - 16:19:57: EPOCH 357 - PROGRESS: at 73.12% examples, 1153451 words/s, in_qsize 16, out_qsize 2\n",
      "INFO - 16:19:57: EPOCH 357: training on 2135928 raw words (1560963 effective words) took 1.3s, 1205457 effective words/s\n"
     ]
    },
    {
     "name": "stdout",
     "output_type": "stream",
     "text": [
      "Loss after epoch 357: 0.0\n"
     ]
    },
    {
     "name": "stderr",
     "output_type": "stream",
     "text": [
      "INFO - 16:19:58: EPOCH 358 - PROGRESS: at 77.44% examples, 1240405 words/s, in_qsize 14, out_qsize 1\n",
      "INFO - 16:19:58: EPOCH 358: training on 2135928 raw words (1561457 effective words) took 1.2s, 1268095 effective words/s\n"
     ]
    },
    {
     "name": "stdout",
     "output_type": "stream",
     "text": [
      "Loss after epoch 358: 0.0\n"
     ]
    },
    {
     "name": "stderr",
     "output_type": "stream",
     "text": [
      "INFO - 16:19:59: EPOCH 359 - PROGRESS: at 69.75% examples, 1100416 words/s, in_qsize 15, out_qsize 0\n",
      "INFO - 16:19:59: EPOCH 359: training on 2135928 raw words (1561249 effective words) took 1.4s, 1132970 effective words/s\n"
     ]
    },
    {
     "name": "stdout",
     "output_type": "stream",
     "text": [
      "Loss after epoch 359: 0.0\n"
     ]
    },
    {
     "name": "stderr",
     "output_type": "stream",
     "text": [
      "INFO - 16:20:00: EPOCH 360 - PROGRESS: at 74.84% examples, 1178622 words/s, in_qsize 15, out_qsize 0\n",
      "INFO - 16:20:01: EPOCH 360: training on 2135928 raw words (1561025 effective words) took 1.3s, 1203814 effective words/s\n"
     ]
    },
    {
     "name": "stdout",
     "output_type": "stream",
     "text": [
      "Loss after epoch 360: 0.0\n"
     ]
    },
    {
     "name": "stderr",
     "output_type": "stream",
     "text": [
      "INFO - 16:20:02: EPOCH 361 - PROGRESS: at 76.57% examples, 1193045 words/s, in_qsize 15, out_qsize 0\n",
      "INFO - 16:20:02: EPOCH 361: training on 2135928 raw words (1561020 effective words) took 1.3s, 1230135 effective words/s\n"
     ]
    },
    {
     "name": "stdout",
     "output_type": "stream",
     "text": [
      "Loss after epoch 361: 0.0\n"
     ]
    },
    {
     "name": "stderr",
     "output_type": "stream",
     "text": [
      "INFO - 16:20:03: EPOCH 362 - PROGRESS: at 77.90% examples, 1223666 words/s, in_qsize 15, out_qsize 0\n",
      "INFO - 16:20:03: EPOCH 362: training on 2135928 raw words (1560300 effective words) took 1.2s, 1255807 effective words/s\n"
     ]
    },
    {
     "name": "stdout",
     "output_type": "stream",
     "text": [
      "Loss after epoch 362: 0.0\n"
     ]
    },
    {
     "name": "stderr",
     "output_type": "stream",
     "text": [
      "INFO - 16:20:04: EPOCH 363 - PROGRESS: at 75.26% examples, 1203441 words/s, in_qsize 16, out_qsize 1\n",
      "INFO - 16:20:05: EPOCH 363: training on 2135928 raw words (1561560 effective words) took 1.3s, 1228435 effective words/s\n"
     ]
    },
    {
     "name": "stdout",
     "output_type": "stream",
     "text": [
      "Loss after epoch 363: 0.0\n"
     ]
    },
    {
     "name": "stderr",
     "output_type": "stream",
     "text": [
      "INFO - 16:20:06: EPOCH 364 - PROGRESS: at 64.66% examples, 1011520 words/s, in_qsize 15, out_qsize 0\n",
      "INFO - 16:20:06: EPOCH 364: training on 2135928 raw words (1560848 effective words) took 1.5s, 1013196 effective words/s\n"
     ]
    },
    {
     "name": "stdout",
     "output_type": "stream",
     "text": [
      "Loss after epoch 364: 0.0\n"
     ]
    },
    {
     "name": "stderr",
     "output_type": "stream",
     "text": [
      "INFO - 16:20:07: EPOCH 365 - PROGRESS: at 62.09% examples, 966045 words/s, in_qsize 15, out_qsize 0\n",
      "INFO - 16:20:08: EPOCH 365: training on 2135928 raw words (1561223 effective words) took 1.5s, 1056311 effective words/s\n"
     ]
    },
    {
     "name": "stdout",
     "output_type": "stream",
     "text": [
      "Loss after epoch 365: 0.0\n"
     ]
    },
    {
     "name": "stderr",
     "output_type": "stream",
     "text": [
      "INFO - 16:20:09: EPOCH 366 - PROGRESS: at 72.31% examples, 1139310 words/s, in_qsize 15, out_qsize 0\n",
      "INFO - 16:20:09: EPOCH 366: training on 2135928 raw words (1560274 effective words) took 1.4s, 1150644 effective words/s\n"
     ]
    },
    {
     "name": "stdout",
     "output_type": "stream",
     "text": [
      "Loss after epoch 366: 0.0\n"
     ]
    },
    {
     "name": "stderr",
     "output_type": "stream",
     "text": [
      "INFO - 16:20:10: EPOCH 367 - PROGRESS: at 63.78% examples, 991270 words/s, in_qsize 15, out_qsize 0\n",
      "INFO - 16:20:10: EPOCH 367: training on 2135928 raw words (1561251 effective words) took 1.5s, 1050099 effective words/s\n"
     ]
    },
    {
     "name": "stdout",
     "output_type": "stream",
     "text": [
      "Loss after epoch 367: 0.0\n"
     ]
    },
    {
     "name": "stderr",
     "output_type": "stream",
     "text": [
      "INFO - 16:20:11: EPOCH 368 - PROGRESS: at 69.38% examples, 1096881 words/s, in_qsize 15, out_qsize 0\n",
      "INFO - 16:20:12: EPOCH 368: training on 2135928 raw words (1560942 effective words) took 1.4s, 1147508 effective words/s\n"
     ]
    },
    {
     "name": "stdout",
     "output_type": "stream",
     "text": [
      "Loss after epoch 368: 0.0\n"
     ]
    },
    {
     "name": "stderr",
     "output_type": "stream",
     "text": [
      "INFO - 16:20:13: EPOCH 369 - PROGRESS: at 74.84% examples, 1189782 words/s, in_qsize 15, out_qsize 0\n",
      "INFO - 16:20:13: EPOCH 369: training on 2135928 raw words (1561173 effective words) took 1.4s, 1144584 effective words/s\n"
     ]
    },
    {
     "name": "stdout",
     "output_type": "stream",
     "text": [
      "Loss after epoch 369: 0.0\n"
     ]
    },
    {
     "name": "stderr",
     "output_type": "stream",
     "text": [
      "INFO - 16:20:14: EPOCH 370 - PROGRESS: at 68.12% examples, 1060923 words/s, in_qsize 15, out_qsize 0\n",
      "INFO - 16:20:15: EPOCH 370: training on 2135928 raw words (1561894 effective words) took 1.5s, 1062773 effective words/s\n"
     ]
    },
    {
     "name": "stdout",
     "output_type": "stream",
     "text": [
      "Loss after epoch 370: 0.0\n"
     ]
    },
    {
     "name": "stderr",
     "output_type": "stream",
     "text": [
      "INFO - 16:20:16: EPOCH 371 - PROGRESS: at 59.80% examples, 933864 words/s, in_qsize 15, out_qsize 0\n",
      "INFO - 16:20:16: EPOCH 371: training on 2135928 raw words (1561086 effective words) took 1.5s, 1027970 effective words/s\n"
     ]
    },
    {
     "name": "stdout",
     "output_type": "stream",
     "text": [
      "Loss after epoch 371: 0.0\n"
     ]
    },
    {
     "name": "stderr",
     "output_type": "stream",
     "text": [
      "INFO - 16:20:17: EPOCH 372 - PROGRESS: at 74.40% examples, 1187071 words/s, in_qsize 15, out_qsize 0\n",
      "INFO - 16:20:18: EPOCH 372: training on 2135928 raw words (1562158 effective words) took 1.4s, 1155182 effective words/s\n"
     ]
    },
    {
     "name": "stdout",
     "output_type": "stream",
     "text": [
      "Loss after epoch 372: 0.0\n"
     ]
    },
    {
     "name": "stderr",
     "output_type": "stream",
     "text": [
      "INFO - 16:20:19: EPOCH 373 - PROGRESS: at 68.93% examples, 1080330 words/s, in_qsize 15, out_qsize 1\n",
      "INFO - 16:20:19: EPOCH 373: training on 2135928 raw words (1561218 effective words) took 1.4s, 1103746 effective words/s\n"
     ]
    },
    {
     "name": "stdout",
     "output_type": "stream",
     "text": [
      "Loss after epoch 373: 0.0\n"
     ]
    },
    {
     "name": "stderr",
     "output_type": "stream",
     "text": [
      "INFO - 16:20:20: EPOCH 374 - PROGRESS: at 72.71% examples, 1152315 words/s, in_qsize 16, out_qsize 2\n",
      "INFO - 16:20:20: EPOCH 374: training on 2135928 raw words (1560355 effective words) took 1.3s, 1213577 effective words/s\n"
     ]
    },
    {
     "name": "stdout",
     "output_type": "stream",
     "text": [
      "Loss after epoch 374: 0.0\n"
     ]
    },
    {
     "name": "stderr",
     "output_type": "stream",
     "text": [
      "INFO - 16:20:21: EPOCH 375 - PROGRESS: at 65.11% examples, 1025168 words/s, in_qsize 14, out_qsize 1\n",
      "INFO - 16:20:22: EPOCH 375: training on 2135928 raw words (1561433 effective words) took 1.4s, 1084395 effective words/s\n"
     ]
    },
    {
     "name": "stdout",
     "output_type": "stream",
     "text": [
      "Loss after epoch 375: 0.0\n"
     ]
    },
    {
     "name": "stderr",
     "output_type": "stream",
     "text": [
      "INFO - 16:20:23: EPOCH 376 - PROGRESS: at 59.80% examples, 933027 words/s, in_qsize 15, out_qsize 0\n",
      "INFO - 16:20:23: EPOCH 376: training on 2135928 raw words (1560774 effective words) took 1.7s, 934343 effective words/s\n"
     ]
    },
    {
     "name": "stdout",
     "output_type": "stream",
     "text": [
      "Loss after epoch 376: 0.0\n"
     ]
    },
    {
     "name": "stderr",
     "output_type": "stream",
     "text": [
      "INFO - 16:20:24: EPOCH 377 - PROGRESS: at 58.91% examples, 904695 words/s, in_qsize 15, out_qsize 0\n",
      "INFO - 16:20:25: EPOCH 377: training on 2135928 raw words (1561282 effective words) took 1.6s, 973943 effective words/s\n"
     ]
    },
    {
     "name": "stdout",
     "output_type": "stream",
     "text": [
      "Loss after epoch 377: 0.0\n"
     ]
    },
    {
     "name": "stderr",
     "output_type": "stream",
     "text": [
      "INFO - 16:20:26: EPOCH 378 - PROGRESS: at 63.78% examples, 1001574 words/s, in_qsize 15, out_qsize 0\n",
      "INFO - 16:20:27: EPOCH 378: training on 2135928 raw words (1560810 effective words) took 1.5s, 1057589 effective words/s\n"
     ]
    },
    {
     "name": "stdout",
     "output_type": "stream",
     "text": [
      "Loss after epoch 378: 0.0\n"
     ]
    },
    {
     "name": "stderr",
     "output_type": "stream",
     "text": [
      "INFO - 16:20:28: EPOCH 379 - PROGRESS: at 68.93% examples, 1075392 words/s, in_qsize 14, out_qsize 1\n",
      "INFO - 16:20:28: EPOCH 379: training on 2135928 raw words (1560630 effective words) took 1.4s, 1104740 effective words/s\n"
     ]
    },
    {
     "name": "stdout",
     "output_type": "stream",
     "text": [
      "Loss after epoch 379: 0.0\n"
     ]
    },
    {
     "name": "stderr",
     "output_type": "stream",
     "text": [
      "INFO - 16:20:29: EPOCH 380 - PROGRESS: at 66.01% examples, 1023736 words/s, in_qsize 15, out_qsize 0\n",
      "INFO - 16:20:30: EPOCH 380: training on 2135928 raw words (1561615 effective words) took 1.5s, 1008156 effective words/s\n"
     ]
    },
    {
     "name": "stdout",
     "output_type": "stream",
     "text": [
      "Loss after epoch 380: 0.0\n"
     ]
    },
    {
     "name": "stderr",
     "output_type": "stream",
     "text": [
      "INFO - 16:20:31: EPOCH 381 - PROGRESS: at 55.41% examples, 857218 words/s, in_qsize 15, out_qsize 0\n",
      "INFO - 16:20:31: EPOCH 381: training on 2135928 raw words (1560719 effective words) took 1.6s, 994179 effective words/s\n"
     ]
    },
    {
     "name": "stdout",
     "output_type": "stream",
     "text": [
      "Loss after epoch 381: 0.0\n"
     ]
    },
    {
     "name": "stderr",
     "output_type": "stream",
     "text": [
      "INFO - 16:20:32: EPOCH 382 - PROGRESS: at 72.30% examples, 1139799 words/s, in_qsize 14, out_qsize 1\n",
      "INFO - 16:20:32: EPOCH 382: training on 2135928 raw words (1561441 effective words) took 1.3s, 1204839 effective words/s\n"
     ]
    },
    {
     "name": "stdout",
     "output_type": "stream",
     "text": [
      "Loss after epoch 382: 0.0\n"
     ]
    },
    {
     "name": "stderr",
     "output_type": "stream",
     "text": [
      "INFO - 16:20:33: EPOCH 383 - PROGRESS: at 74.84% examples, 1191284 words/s, in_qsize 16, out_qsize 0\n",
      "INFO - 16:20:34: EPOCH 383: training on 2135928 raw words (1561232 effective words) took 1.3s, 1211187 effective words/s\n"
     ]
    },
    {
     "name": "stdout",
     "output_type": "stream",
     "text": [
      "Loss after epoch 383: 0.0\n"
     ]
    },
    {
     "name": "stderr",
     "output_type": "stream",
     "text": [
      "INFO - 16:20:35: EPOCH 384 - PROGRESS: at 59.80% examples, 925450 words/s, in_qsize 16, out_qsize 0\n",
      "INFO - 16:20:35: EPOCH 384: training on 2135928 raw words (1561524 effective words) took 1.5s, 1046767 effective words/s\n"
     ]
    },
    {
     "name": "stdout",
     "output_type": "stream",
     "text": [
      "Loss after epoch 384: 0.0\n"
     ]
    },
    {
     "name": "stderr",
     "output_type": "stream",
     "text": [
      "INFO - 16:20:36: EPOCH 385 - PROGRESS: at 73.12% examples, 1163445 words/s, in_qsize 16, out_qsize 0\n",
      "INFO - 16:20:37: EPOCH 385: training on 2135928 raw words (1561165 effective words) took 1.3s, 1184602 effective words/s\n"
     ]
    },
    {
     "name": "stdout",
     "output_type": "stream",
     "text": [
      "Loss after epoch 385: 0.0\n"
     ]
    },
    {
     "name": "stderr",
     "output_type": "stream",
     "text": [
      "INFO - 16:20:38: EPOCH 386 - PROGRESS: at 59.35% examples, 921627 words/s, in_qsize 15, out_qsize 0\n",
      "INFO - 16:20:38: EPOCH 386: training on 2135928 raw words (1561089 effective words) took 1.6s, 991433 effective words/s\n"
     ]
    },
    {
     "name": "stdout",
     "output_type": "stream",
     "text": [
      "Loss after epoch 386: 0.0\n"
     ]
    },
    {
     "name": "stderr",
     "output_type": "stream",
     "text": [
      "INFO - 16:20:39: EPOCH 387 - PROGRESS: at 51.20% examples, 785651 words/s, in_qsize 14, out_qsize 1\n",
      "INFO - 16:20:40: EPOCH 387: training on 2135928 raw words (1561172 effective words) took 2.0s, 789259 effective words/s\n"
     ]
    },
    {
     "name": "stdout",
     "output_type": "stream",
     "text": [
      "Loss after epoch 387: 0.0\n"
     ]
    },
    {
     "name": "stderr",
     "output_type": "stream",
     "text": [
      "INFO - 16:20:41: EPOCH 388 - PROGRESS: at 44.29% examples, 677474 words/s, in_qsize 14, out_qsize 1\n",
      "INFO - 16:20:42: EPOCH 388 - PROGRESS: at 96.90% examples, 749974 words/s, in_qsize 6, out_qsize 1\n",
      "INFO - 16:20:42: EPOCH 388: training on 2135928 raw words (1560759 effective words) took 2.0s, 764342 effective words/s\n"
     ]
    },
    {
     "name": "stdout",
     "output_type": "stream",
     "text": [
      "Loss after epoch 388: 0.0\n"
     ]
    },
    {
     "name": "stderr",
     "output_type": "stream",
     "text": [
      "INFO - 16:20:43: EPOCH 389 - PROGRESS: at 65.56% examples, 1020813 words/s, in_qsize 15, out_qsize 3\n",
      "INFO - 16:20:44: EPOCH 389: training on 2135928 raw words (1561663 effective words) took 1.4s, 1085414 effective words/s\n"
     ]
    },
    {
     "name": "stdout",
     "output_type": "stream",
     "text": [
      "Loss after epoch 389: 0.0\n"
     ]
    },
    {
     "name": "stderr",
     "output_type": "stream",
     "text": [
      "INFO - 16:20:45: EPOCH 390 - PROGRESS: at 74.83% examples, 1175608 words/s, in_qsize 13, out_qsize 2\n",
      "INFO - 16:20:45: EPOCH 390: training on 2135928 raw words (1560652 effective words) took 1.4s, 1151428 effective words/s\n"
     ]
    },
    {
     "name": "stdout",
     "output_type": "stream",
     "text": [
      "Loss after epoch 390: 0.0\n"
     ]
    },
    {
     "name": "stderr",
     "output_type": "stream",
     "text": [
      "INFO - 16:20:46: EPOCH 391 - PROGRESS: at 69.38% examples, 1083214 words/s, in_qsize 15, out_qsize 0\n",
      "INFO - 16:20:46: EPOCH 391: training on 2135928 raw words (1560864 effective words) took 1.4s, 1123615 effective words/s\n"
     ]
    },
    {
     "name": "stdout",
     "output_type": "stream",
     "text": [
      "Loss after epoch 391: 0.0\n"
     ]
    },
    {
     "name": "stderr",
     "output_type": "stream",
     "text": [
      "INFO - 16:20:47: EPOCH 392 - PROGRESS: at 73.56% examples, 1144565 words/s, in_qsize 12, out_qsize 3\n",
      "INFO - 16:20:48: EPOCH 392: training on 2135928 raw words (1560999 effective words) took 1.4s, 1148056 effective words/s\n"
     ]
    },
    {
     "name": "stdout",
     "output_type": "stream",
     "text": [
      "Loss after epoch 392: 0.0\n"
     ]
    },
    {
     "name": "stderr",
     "output_type": "stream",
     "text": [
      "INFO - 16:20:49: EPOCH 393 - PROGRESS: at 73.12% examples, 1160699 words/s, in_qsize 15, out_qsize 0\n",
      "INFO - 16:20:49: EPOCH 393: training on 2135928 raw words (1560538 effective words) took 1.3s, 1201173 effective words/s\n"
     ]
    },
    {
     "name": "stdout",
     "output_type": "stream",
     "text": [
      "Loss after epoch 393: 0.0\n"
     ]
    },
    {
     "name": "stderr",
     "output_type": "stream",
     "text": [
      "INFO - 16:20:50: EPOCH 394 - PROGRESS: at 74.85% examples, 1192775 words/s, in_qsize 14, out_qsize 1\n",
      "INFO - 16:20:50: EPOCH 394: training on 2135928 raw words (1561291 effective words) took 1.3s, 1232357 effective words/s\n"
     ]
    },
    {
     "name": "stdout",
     "output_type": "stream",
     "text": [
      "Loss after epoch 394: 0.0\n"
     ]
    },
    {
     "name": "stderr",
     "output_type": "stream",
     "text": [
      "INFO - 16:20:51: EPOCH 395 - PROGRESS: at 70.62% examples, 1102197 words/s, in_qsize 14, out_qsize 1\n",
      "INFO - 16:20:52: EPOCH 395: training on 2135928 raw words (1560625 effective words) took 1.4s, 1127499 effective words/s\n"
     ]
    },
    {
     "name": "stdout",
     "output_type": "stream",
     "text": [
      "Loss after epoch 395: 0.0\n"
     ]
    },
    {
     "name": "stderr",
     "output_type": "stream",
     "text": [
      "INFO - 16:20:53: EPOCH 396 - PROGRESS: at 63.80% examples, 1000352 words/s, in_qsize 13, out_qsize 2\n",
      "INFO - 16:20:53: EPOCH 396: training on 2135928 raw words (1560860 effective words) took 1.5s, 1057838 effective words/s\n"
     ]
    },
    {
     "name": "stdout",
     "output_type": "stream",
     "text": [
      "Loss after epoch 396: 0.0\n"
     ]
    },
    {
     "name": "stderr",
     "output_type": "stream",
     "text": [
      "INFO - 16:20:54: EPOCH 397 - PROGRESS: at 69.33% examples, 1092584 words/s, in_qsize 15, out_qsize 0\n",
      "INFO - 16:20:55: EPOCH 397: training on 2135928 raw words (1561751 effective words) took 1.3s, 1163514 effective words/s\n"
     ]
    },
    {
     "name": "stdout",
     "output_type": "stream",
     "text": [
      "Loss after epoch 397: 0.0\n"
     ]
    },
    {
     "name": "stderr",
     "output_type": "stream",
     "text": [
      "INFO - 16:20:56: EPOCH 398 - PROGRESS: at 71.46% examples, 1131944 words/s, in_qsize 15, out_qsize 0\n",
      "INFO - 16:20:56: EPOCH 398: training on 2135928 raw words (1560397 effective words) took 1.4s, 1086099 effective words/s\n"
     ]
    },
    {
     "name": "stdout",
     "output_type": "stream",
     "text": [
      "Loss after epoch 398: 0.0\n"
     ]
    },
    {
     "name": "stderr",
     "output_type": "stream",
     "text": [
      "INFO - 16:20:57: EPOCH 399 - PROGRESS: at 70.62% examples, 1119289 words/s, in_qsize 15, out_qsize 0\n",
      "INFO - 16:20:57: EPOCH 399: training on 2135928 raw words (1561885 effective words) took 1.3s, 1168301 effective words/s\n"
     ]
    },
    {
     "name": "stdout",
     "output_type": "stream",
     "text": [
      "Loss after epoch 399: 0.0\n"
     ]
    },
    {
     "name": "stderr",
     "output_type": "stream",
     "text": [
      "INFO - 16:20:58: EPOCH 400 - PROGRESS: at 68.53% examples, 1079171 words/s, in_qsize 15, out_qsize 0\n",
      "INFO - 16:20:59: EPOCH 400: training on 2135928 raw words (1561995 effective words) took 1.5s, 1029522 effective words/s\n"
     ]
    },
    {
     "name": "stdout",
     "output_type": "stream",
     "text": [
      "Loss after epoch 400: 0.0\n"
     ]
    },
    {
     "name": "stderr",
     "output_type": "stream",
     "text": [
      "INFO - 16:21:00: EPOCH 401 - PROGRESS: at 66.48% examples, 1044261 words/s, in_qsize 16, out_qsize 1\n",
      "INFO - 16:21:00: EPOCH 401: training on 2135928 raw words (1561333 effective words) took 1.4s, 1111765 effective words/s\n"
     ]
    },
    {
     "name": "stdout",
     "output_type": "stream",
     "text": [
      "Loss after epoch 401: 0.0\n"
     ]
    },
    {
     "name": "stderr",
     "output_type": "stream",
     "text": [
      "INFO - 16:21:01: EPOCH 402 - PROGRESS: at 74.38% examples, 1170239 words/s, in_qsize 15, out_qsize 0\n",
      "INFO - 16:21:02: EPOCH 402: training on 2135928 raw words (1561033 effective words) took 1.3s, 1218861 effective words/s\n"
     ]
    },
    {
     "name": "stdout",
     "output_type": "stream",
     "text": [
      "Loss after epoch 402: 0.0\n"
     ]
    },
    {
     "name": "stderr",
     "output_type": "stream",
     "text": [
      "INFO - 16:21:03: EPOCH 403 - PROGRESS: at 72.31% examples, 1140380 words/s, in_qsize 15, out_qsize 0\n",
      "INFO - 16:21:03: EPOCH 403: training on 2135928 raw words (1560447 effective words) took 1.4s, 1112989 effective words/s\n"
     ]
    },
    {
     "name": "stdout",
     "output_type": "stream",
     "text": [
      "Loss after epoch 403: 0.0\n"
     ]
    },
    {
     "name": "stderr",
     "output_type": "stream",
     "text": [
      "INFO - 16:21:04: EPOCH 404 - PROGRESS: at 66.48% examples, 1024266 words/s, in_qsize 15, out_qsize 0\n",
      "INFO - 16:21:04: EPOCH 404: training on 2135928 raw words (1561381 effective words) took 1.5s, 1064377 effective words/s\n"
     ]
    },
    {
     "name": "stdout",
     "output_type": "stream",
     "text": [
      "Loss after epoch 404: 0.0\n"
     ]
    },
    {
     "name": "stderr",
     "output_type": "stream",
     "text": [
      "INFO - 16:21:05: EPOCH 405 - PROGRESS: at 70.62% examples, 1118660 words/s, in_qsize 15, out_qsize 0\n",
      "INFO - 16:21:06: EPOCH 405: training on 2135928 raw words (1560845 effective words) took 1.3s, 1169381 effective words/s\n"
     ]
    },
    {
     "name": "stdout",
     "output_type": "stream",
     "text": [
      "Loss after epoch 405: 0.0\n"
     ]
    },
    {
     "name": "stderr",
     "output_type": "stream",
     "text": [
      "INFO - 16:21:07: EPOCH 406 - PROGRESS: at 62.52% examples, 975673 words/s, in_qsize 15, out_qsize 0\n",
      "INFO - 16:21:07: EPOCH 406: training on 2135928 raw words (1561253 effective words) took 1.6s, 994990 effective words/s\n"
     ]
    },
    {
     "name": "stdout",
     "output_type": "stream",
     "text": [
      "Loss after epoch 406: 0.0\n"
     ]
    },
    {
     "name": "stderr",
     "output_type": "stream",
     "text": [
      "INFO - 16:21:08: EPOCH 407 - PROGRESS: at 61.22% examples, 957253 words/s, in_qsize 15, out_qsize 0\n",
      "INFO - 16:21:09: EPOCH 407: training on 2135928 raw words (1560751 effective words) took 1.6s, 1006263 effective words/s\n"
     ]
    },
    {
     "name": "stdout",
     "output_type": "stream",
     "text": [
      "Loss after epoch 407: 0.0\n"
     ]
    },
    {
     "name": "stderr",
     "output_type": "stream",
     "text": [
      "INFO - 16:21:10: EPOCH 408 - PROGRESS: at 66.01% examples, 1039916 words/s, in_qsize 15, out_qsize 0\n",
      "INFO - 16:21:10: EPOCH 408: training on 2135928 raw words (1561220 effective words) took 1.5s, 1065798 effective words/s\n"
     ]
    },
    {
     "name": "stdout",
     "output_type": "stream",
     "text": [
      "Loss after epoch 408: 0.0\n"
     ]
    },
    {
     "name": "stderr",
     "output_type": "stream",
     "text": [
      "INFO - 16:21:11: EPOCH 409 - PROGRESS: at 69.77% examples, 1105261 words/s, in_qsize 13, out_qsize 2\n",
      "INFO - 16:21:12: EPOCH 409: training on 2135928 raw words (1561213 effective words) took 1.3s, 1175316 effective words/s\n"
     ]
    },
    {
     "name": "stdout",
     "output_type": "stream",
     "text": [
      "Loss after epoch 409: 0.0\n"
     ]
    },
    {
     "name": "stderr",
     "output_type": "stream",
     "text": [
      "INFO - 16:21:13: EPOCH 410 - PROGRESS: at 80.07% examples, 1271686 words/s, in_qsize 15, out_qsize 0\n",
      "INFO - 16:21:13: EPOCH 410: training on 2135928 raw words (1560880 effective words) took 1.2s, 1320998 effective words/s\n"
     ]
    },
    {
     "name": "stdout",
     "output_type": "stream",
     "text": [
      "Loss after epoch 410: 0.0\n"
     ]
    },
    {
     "name": "stderr",
     "output_type": "stream",
     "text": [
      "INFO - 16:21:14: EPOCH 411 - PROGRESS: at 71.03% examples, 1126110 words/s, in_qsize 16, out_qsize 0\n",
      "INFO - 16:21:14: EPOCH 411: training on 2135928 raw words (1561233 effective words) took 1.4s, 1097803 effective words/s\n"
     ]
    },
    {
     "name": "stdout",
     "output_type": "stream",
     "text": [
      "Loss after epoch 411: 0.0\n"
     ]
    },
    {
     "name": "stderr",
     "output_type": "stream",
     "text": [
      "INFO - 16:21:15: EPOCH 412 - PROGRESS: at 62.52% examples, 977762 words/s, in_qsize 14, out_qsize 1\n",
      "INFO - 16:21:16: EPOCH 412: training on 2135928 raw words (1560859 effective words) took 1.5s, 1070782 effective words/s\n"
     ]
    },
    {
     "name": "stdout",
     "output_type": "stream",
     "text": [
      "Loss after epoch 412: 0.0\n"
     ]
    },
    {
     "name": "stderr",
     "output_type": "stream",
     "text": [
      "INFO - 16:21:17: EPOCH 413 - PROGRESS: at 74.83% examples, 1195552 words/s, in_qsize 15, out_qsize 0\n",
      "INFO - 16:21:17: EPOCH 413: training on 2135928 raw words (1561708 effective words) took 1.3s, 1161247 effective words/s\n"
     ]
    },
    {
     "name": "stdout",
     "output_type": "stream",
     "text": [
      "Loss after epoch 413: 0.0\n"
     ]
    },
    {
     "name": "stderr",
     "output_type": "stream",
     "text": [
      "INFO - 16:21:18: EPOCH 414 - PROGRESS: at 63.36% examples, 985229 words/s, in_qsize 16, out_qsize 0\n",
      "INFO - 16:21:19: EPOCH 414: training on 2135928 raw words (1560124 effective words) took 1.5s, 1066288 effective words/s\n"
     ]
    },
    {
     "name": "stdout",
     "output_type": "stream",
     "text": [
      "Loss after epoch 414: 0.0\n"
     ]
    },
    {
     "name": "stderr",
     "output_type": "stream",
     "text": [
      "INFO - 16:21:20: EPOCH 415 - PROGRESS: at 71.04% examples, 1126671 words/s, in_qsize 13, out_qsize 2\n",
      "INFO - 16:21:20: EPOCH 415: training on 2135928 raw words (1561646 effective words) took 1.3s, 1181480 effective words/s\n"
     ]
    },
    {
     "name": "stdout",
     "output_type": "stream",
     "text": [
      "Loss after epoch 415: 0.0\n"
     ]
    },
    {
     "name": "stderr",
     "output_type": "stream",
     "text": [
      "INFO - 16:21:21: EPOCH 416 - PROGRESS: at 77.00% examples, 1221380 words/s, in_qsize 15, out_qsize 0\n",
      "INFO - 16:21:21: EPOCH 416: training on 2135928 raw words (1560864 effective words) took 1.2s, 1257993 effective words/s\n"
     ]
    },
    {
     "name": "stdout",
     "output_type": "stream",
     "text": [
      "Loss after epoch 416: 0.0\n"
     ]
    },
    {
     "name": "stderr",
     "output_type": "stream",
     "text": [
      "INFO - 16:21:22: EPOCH 417 - PROGRESS: at 74.40% examples, 1181157 words/s, in_qsize 15, out_qsize 0\n",
      "INFO - 16:21:23: EPOCH 417: training on 2135928 raw words (1561257 effective words) took 1.3s, 1185422 effective words/s\n"
     ]
    },
    {
     "name": "stdout",
     "output_type": "stream",
     "text": [
      "Loss after epoch 417: 0.0\n"
     ]
    },
    {
     "name": "stderr",
     "output_type": "stream",
     "text": [
      "INFO - 16:21:24: EPOCH 418 - PROGRESS: at 68.13% examples, 1073174 words/s, in_qsize 15, out_qsize 0\n",
      "INFO - 16:21:24: EPOCH 418: training on 2135928 raw words (1561259 effective words) took 1.5s, 1054985 effective words/s\n"
     ]
    },
    {
     "name": "stdout",
     "output_type": "stream",
     "text": [
      "Loss after epoch 418: 0.0\n"
     ]
    },
    {
     "name": "stderr",
     "output_type": "stream",
     "text": [
      "INFO - 16:21:25: EPOCH 419 - PROGRESS: at 62.08% examples, 972326 words/s, in_qsize 16, out_qsize 1\n",
      "INFO - 16:21:26: EPOCH 419: training on 2135928 raw words (1561451 effective words) took 1.4s, 1081736 effective words/s\n"
     ]
    },
    {
     "name": "stdout",
     "output_type": "stream",
     "text": [
      "Loss after epoch 419: 0.0\n"
     ]
    },
    {
     "name": "stderr",
     "output_type": "stream",
     "text": [
      "INFO - 16:21:27: EPOCH 420 - PROGRESS: at 69.38% examples, 1066784 words/s, in_qsize 13, out_qsize 2\n",
      "INFO - 16:21:27: EPOCH 420: training on 2135928 raw words (1561957 effective words) took 1.4s, 1098614 effective words/s\n"
     ]
    },
    {
     "name": "stdout",
     "output_type": "stream",
     "text": [
      "Loss after epoch 420: 0.0\n"
     ]
    },
    {
     "name": "stderr",
     "output_type": "stream",
     "text": [
      "INFO - 16:21:28: EPOCH 421 - PROGRESS: at 77.00% examples, 1226167 words/s, in_qsize 15, out_qsize 0\n",
      "INFO - 16:21:28: EPOCH 421: training on 2135928 raw words (1561041 effective words) took 1.3s, 1227381 effective words/s\n"
     ]
    },
    {
     "name": "stdout",
     "output_type": "stream",
     "text": [
      "Loss after epoch 421: 0.0\n"
     ]
    },
    {
     "name": "stderr",
     "output_type": "stream",
     "text": [
      "INFO - 16:21:29: EPOCH 422 - PROGRESS: at 70.21% examples, 1109648 words/s, in_qsize 16, out_qsize 0\n",
      "INFO - 16:21:30: EPOCH 422: training on 2135928 raw words (1561217 effective words) took 1.3s, 1158491 effective words/s\n"
     ]
    },
    {
     "name": "stdout",
     "output_type": "stream",
     "text": [
      "Loss after epoch 422: 0.0\n"
     ]
    },
    {
     "name": "stderr",
     "output_type": "stream",
     "text": [
      "INFO - 16:21:31: EPOCH 423 - PROGRESS: at 76.57% examples, 1221750 words/s, in_qsize 15, out_qsize 0\n",
      "INFO - 16:21:31: EPOCH 423: training on 2135928 raw words (1560968 effective words) took 1.2s, 1255050 effective words/s\n"
     ]
    },
    {
     "name": "stdout",
     "output_type": "stream",
     "text": [
      "Loss after epoch 423: 0.0\n"
     ]
    },
    {
     "name": "stderr",
     "output_type": "stream",
     "text": [
      "INFO - 16:21:32: EPOCH 424 - PROGRESS: at 78.34% examples, 1251870 words/s, in_qsize 15, out_qsize 0\n",
      "INFO - 16:21:32: EPOCH 424: training on 2135928 raw words (1560824 effective words) took 1.2s, 1267739 effective words/s\n"
     ]
    },
    {
     "name": "stdout",
     "output_type": "stream",
     "text": [
      "Loss after epoch 424: 0.0\n"
     ]
    },
    {
     "name": "stderr",
     "output_type": "stream",
     "text": [
      "INFO - 16:21:33: EPOCH 425 - PROGRESS: at 75.26% examples, 1195665 words/s, in_qsize 15, out_qsize 0\n",
      "INFO - 16:21:33: EPOCH 425: training on 2135928 raw words (1561570 effective words) took 1.3s, 1242374 effective words/s\n"
     ]
    },
    {
     "name": "stdout",
     "output_type": "stream",
     "text": [
      "Loss after epoch 425: 0.0\n"
     ]
    },
    {
     "name": "stderr",
     "output_type": "stream",
     "text": [
      "INFO - 16:21:34: EPOCH 426 - PROGRESS: at 76.14% examples, 1205358 words/s, in_qsize 14, out_qsize 1\n",
      "INFO - 16:21:35: EPOCH 426: training on 2135928 raw words (1562000 effective words) took 1.3s, 1243654 effective words/s\n"
     ]
    },
    {
     "name": "stdout",
     "output_type": "stream",
     "text": [
      "Loss after epoch 426: 0.0\n"
     ]
    },
    {
     "name": "stderr",
     "output_type": "stream",
     "text": [
      "INFO - 16:21:36: EPOCH 427 - PROGRESS: at 78.78% examples, 1260040 words/s, in_qsize 14, out_qsize 1\n",
      "INFO - 16:21:36: EPOCH 427: training on 2135928 raw words (1561157 effective words) took 1.2s, 1298916 effective words/s\n"
     ]
    },
    {
     "name": "stdout",
     "output_type": "stream",
     "text": [
      "Loss after epoch 427: 0.0\n"
     ]
    },
    {
     "name": "stderr",
     "output_type": "stream",
     "text": [
      "INFO - 16:21:37: EPOCH 428 - PROGRESS: at 76.14% examples, 1215661 words/s, in_qsize 16, out_qsize 0\n",
      "INFO - 16:21:37: EPOCH 428: training on 2135928 raw words (1561209 effective words) took 1.3s, 1241827 effective words/s\n"
     ]
    },
    {
     "name": "stdout",
     "output_type": "stream",
     "text": [
      "Loss after epoch 428: 0.0\n"
     ]
    },
    {
     "name": "stderr",
     "output_type": "stream",
     "text": [
      "INFO - 16:21:38: EPOCH 429 - PROGRESS: at 77.43% examples, 1235189 words/s, in_qsize 16, out_qsize 2\n",
      "INFO - 16:21:38: EPOCH 429: training on 2135928 raw words (1561083 effective words) took 1.2s, 1280303 effective words/s\n"
     ]
    },
    {
     "name": "stdout",
     "output_type": "stream",
     "text": [
      "Loss after epoch 429: 0.0\n"
     ]
    },
    {
     "name": "stderr",
     "output_type": "stream",
     "text": [
      "INFO - 16:21:39: EPOCH 430 - PROGRESS: at 75.26% examples, 1190508 words/s, in_qsize 15, out_qsize 0\n",
      "INFO - 16:21:40: EPOCH 430: training on 2135928 raw words (1561448 effective words) took 1.2s, 1252945 effective words/s\n"
     ]
    },
    {
     "name": "stdout",
     "output_type": "stream",
     "text": [
      "Loss after epoch 430: 0.0\n"
     ]
    },
    {
     "name": "stderr",
     "output_type": "stream",
     "text": [
      "INFO - 16:21:41: EPOCH 431 - PROGRESS: at 77.91% examples, 1240799 words/s, in_qsize 15, out_qsize 0\n",
      "INFO - 16:21:41: EPOCH 431: training on 2135928 raw words (1562014 effective words) took 1.2s, 1285370 effective words/s\n"
     ]
    },
    {
     "name": "stdout",
     "output_type": "stream",
     "text": [
      "Loss after epoch 431: 0.0\n"
     ]
    },
    {
     "name": "stderr",
     "output_type": "stream",
     "text": [
      "INFO - 16:21:42: EPOCH 432 - PROGRESS: at 76.57% examples, 1216780 words/s, in_qsize 14, out_qsize 1\n",
      "INFO - 16:21:42: EPOCH 432: training on 2135928 raw words (1561470 effective words) took 1.2s, 1265041 effective words/s\n"
     ]
    },
    {
     "name": "stdout",
     "output_type": "stream",
     "text": [
      "Loss after epoch 432: 0.0\n"
     ]
    },
    {
     "name": "stderr",
     "output_type": "stream",
     "text": [
      "INFO - 16:21:43: EPOCH 433 - PROGRESS: at 77.04% examples, 1226372 words/s, in_qsize 15, out_qsize 0\n",
      "INFO - 16:21:43: EPOCH 433: training on 2135928 raw words (1560534 effective words) took 1.3s, 1233764 effective words/s\n"
     ]
    },
    {
     "name": "stdout",
     "output_type": "stream",
     "text": [
      "Loss after epoch 433: 0.0\n"
     ]
    },
    {
     "name": "stderr",
     "output_type": "stream",
     "text": [
      "INFO - 16:21:44: EPOCH 434 - PROGRESS: at 73.95% examples, 1180478 words/s, in_qsize 15, out_qsize 0\n",
      "INFO - 16:21:45: EPOCH 434: training on 2135928 raw words (1561463 effective words) took 1.3s, 1228593 effective words/s\n"
     ]
    },
    {
     "name": "stdout",
     "output_type": "stream",
     "text": [
      "Loss after epoch 434: 0.0\n"
     ]
    },
    {
     "name": "stderr",
     "output_type": "stream",
     "text": [
      "INFO - 16:21:46: EPOCH 435 - PROGRESS: at 70.63% examples, 1113545 words/s, in_qsize 14, out_qsize 1\n",
      "INFO - 16:21:46: EPOCH 435: training on 2135928 raw words (1561094 effective words) took 1.4s, 1144691 effective words/s\n"
     ]
    },
    {
     "name": "stdout",
     "output_type": "stream",
     "text": [
      "Loss after epoch 435: 0.0\n"
     ]
    },
    {
     "name": "stderr",
     "output_type": "stream",
     "text": [
      "INFO - 16:21:47: EPOCH 436 - PROGRESS: at 75.27% examples, 1186212 words/s, in_qsize 15, out_qsize 0\n",
      "INFO - 16:21:47: EPOCH 436: training on 2135928 raw words (1560723 effective words) took 1.3s, 1167697 effective words/s\n"
     ]
    },
    {
     "name": "stdout",
     "output_type": "stream",
     "text": [
      "Loss after epoch 436: 0.0\n"
     ]
    },
    {
     "name": "stderr",
     "output_type": "stream",
     "text": [
      "INFO - 16:21:48: EPOCH 437 - PROGRESS: at 78.78% examples, 1236765 words/s, in_qsize 15, out_qsize 0\n",
      "INFO - 16:21:49: EPOCH 437: training on 2135928 raw words (1560385 effective words) took 1.2s, 1285704 effective words/s\n"
     ]
    },
    {
     "name": "stdout",
     "output_type": "stream",
     "text": [
      "Loss after epoch 437: 0.0\n"
     ]
    },
    {
     "name": "stderr",
     "output_type": "stream",
     "text": [
      "INFO - 16:21:50: EPOCH 438 - PROGRESS: at 77.00% examples, 1233390 words/s, in_qsize 14, out_qsize 1\n",
      "INFO - 16:21:50: EPOCH 438: training on 2135928 raw words (1561424 effective words) took 1.2s, 1269734 effective words/s\n"
     ]
    },
    {
     "name": "stdout",
     "output_type": "stream",
     "text": [
      "Loss after epoch 438: 0.0\n"
     ]
    },
    {
     "name": "stderr",
     "output_type": "stream",
     "text": [
      "INFO - 16:21:51: EPOCH 439 - PROGRESS: at 78.34% examples, 1255552 words/s, in_qsize 16, out_qsize 0\n",
      "INFO - 16:21:51: EPOCH 439: training on 2135928 raw words (1560770 effective words) took 1.2s, 1280965 effective words/s\n"
     ]
    },
    {
     "name": "stdout",
     "output_type": "stream",
     "text": [
      "Loss after epoch 439: 0.0\n"
     ]
    },
    {
     "name": "stderr",
     "output_type": "stream",
     "text": [
      "INFO - 16:21:52: EPOCH 440 - PROGRESS: at 78.35% examples, 1253605 words/s, in_qsize 15, out_qsize 0\n",
      "INFO - 16:21:52: EPOCH 440: training on 2135928 raw words (1561521 effective words) took 1.2s, 1269629 effective words/s\n"
     ]
    },
    {
     "name": "stdout",
     "output_type": "stream",
     "text": [
      "Loss after epoch 440: 0.0\n"
     ]
    },
    {
     "name": "stderr",
     "output_type": "stream",
     "text": [
      "INFO - 16:21:53: EPOCH 441 - PROGRESS: at 77.91% examples, 1232093 words/s, in_qsize 15, out_qsize 0\n",
      "INFO - 16:21:54: EPOCH 441: training on 2135928 raw words (1561025 effective words) took 1.2s, 1271492 effective words/s\n"
     ]
    },
    {
     "name": "stdout",
     "output_type": "stream",
     "text": [
      "Loss after epoch 441: 0.0\n"
     ]
    },
    {
     "name": "stderr",
     "output_type": "stream",
     "text": [
      "INFO - 16:21:55: EPOCH 442 - PROGRESS: at 76.14% examples, 1212537 words/s, in_qsize 15, out_qsize 0\n",
      "INFO - 16:21:55: EPOCH 442: training on 2135928 raw words (1560957 effective words) took 1.2s, 1249610 effective words/s\n"
     ]
    },
    {
     "name": "stdout",
     "output_type": "stream",
     "text": [
      "Loss after epoch 442: 0.0\n"
     ]
    },
    {
     "name": "stderr",
     "output_type": "stream",
     "text": [
      "INFO - 16:21:56: EPOCH 443 - PROGRESS: at 79.21% examples, 1245668 words/s, in_qsize 15, out_qsize 0\n",
      "INFO - 16:21:56: EPOCH 443: training on 2135928 raw words (1561518 effective words) took 1.2s, 1286266 effective words/s\n"
     ]
    },
    {
     "name": "stdout",
     "output_type": "stream",
     "text": [
      "Loss after epoch 443: 0.0\n"
     ]
    },
    {
     "name": "stderr",
     "output_type": "stream",
     "text": [
      "INFO - 16:21:57: EPOCH 444 - PROGRESS: at 77.47% examples, 1238257 words/s, in_qsize 13, out_qsize 2\n",
      "INFO - 16:21:57: EPOCH 444: training on 2135928 raw words (1560545 effective words) took 1.2s, 1283623 effective words/s\n"
     ]
    },
    {
     "name": "stdout",
     "output_type": "stream",
     "text": [
      "Loss after epoch 444: 0.0\n"
     ]
    },
    {
     "name": "stderr",
     "output_type": "stream",
     "text": [
      "INFO - 16:21:58: EPOCH 445 - PROGRESS: at 75.69% examples, 1200165 words/s, in_qsize 15, out_qsize 0\n",
      "INFO - 16:21:58: EPOCH 445: training on 2135928 raw words (1561094 effective words) took 1.3s, 1248474 effective words/s\n"
     ]
    },
    {
     "name": "stdout",
     "output_type": "stream",
     "text": [
      "Loss after epoch 445: 0.0\n"
     ]
    },
    {
     "name": "stderr",
     "output_type": "stream",
     "text": [
      "INFO - 16:21:59: EPOCH 446 - PROGRESS: at 76.14% examples, 1204277 words/s, in_qsize 15, out_qsize 0\n",
      "INFO - 16:22:00: EPOCH 446: training on 2135928 raw words (1560971 effective words) took 1.3s, 1246075 effective words/s\n"
     ]
    },
    {
     "name": "stdout",
     "output_type": "stream",
     "text": [
      "Loss after epoch 446: 0.0\n"
     ]
    },
    {
     "name": "stderr",
     "output_type": "stream",
     "text": [
      "INFO - 16:22:01: EPOCH 447 - PROGRESS: at 76.14% examples, 1211302 words/s, in_qsize 14, out_qsize 1\n",
      "INFO - 16:22:01: EPOCH 447: training on 2135928 raw words (1561405 effective words) took 1.3s, 1241491 effective words/s\n"
     ]
    },
    {
     "name": "stdout",
     "output_type": "stream",
     "text": [
      "Loss after epoch 447: 0.0\n"
     ]
    },
    {
     "name": "stderr",
     "output_type": "stream",
     "text": [
      "INFO - 16:22:02: EPOCH 448 - PROGRESS: at 77.00% examples, 1228285 words/s, in_qsize 15, out_qsize 0\n",
      "INFO - 16:22:02: EPOCH 448: training on 2135928 raw words (1560580 effective words) took 1.2s, 1260702 effective words/s\n"
     ]
    },
    {
     "name": "stdout",
     "output_type": "stream",
     "text": [
      "Loss after epoch 448: 0.0\n"
     ]
    },
    {
     "name": "stderr",
     "output_type": "stream",
     "text": [
      "INFO - 16:22:03: EPOCH 449 - PROGRESS: at 76.57% examples, 1223589 words/s, in_qsize 15, out_qsize 0\n",
      "INFO - 16:22:04: EPOCH 449: training on 2135928 raw words (1561094 effective words) took 1.2s, 1255880 effective words/s\n"
     ]
    },
    {
     "name": "stdout",
     "output_type": "stream",
     "text": [
      "Loss after epoch 449: 0.0\n"
     ]
    },
    {
     "name": "stderr",
     "output_type": "stream",
     "text": [
      "INFO - 16:22:05: EPOCH 450 - PROGRESS: at 80.08% examples, 1284328 words/s, in_qsize 15, out_qsize 0\n",
      "INFO - 16:22:05: EPOCH 450: training on 2135928 raw words (1560714 effective words) took 1.2s, 1300248 effective words/s\n"
     ]
    },
    {
     "name": "stdout",
     "output_type": "stream",
     "text": [
      "Loss after epoch 450: 0.0\n"
     ]
    },
    {
     "name": "stderr",
     "output_type": "stream",
     "text": [
      "INFO - 16:22:06: EPOCH 451 - PROGRESS: at 78.78% examples, 1259588 words/s, in_qsize 15, out_qsize 0\n",
      "INFO - 16:22:06: EPOCH 451: training on 2135928 raw words (1561589 effective words) took 1.2s, 1292834 effective words/s\n"
     ]
    },
    {
     "name": "stdout",
     "output_type": "stream",
     "text": [
      "Loss after epoch 451: 0.0\n"
     ]
    },
    {
     "name": "stderr",
     "output_type": "stream",
     "text": [
      "INFO - 16:22:07: EPOCH 452 - PROGRESS: at 80.08% examples, 1269736 words/s, in_qsize 16, out_qsize 0\n",
      "INFO - 16:22:07: EPOCH 452: training on 2135928 raw words (1560987 effective words) took 1.2s, 1302846 effective words/s\n"
     ]
    },
    {
     "name": "stdout",
     "output_type": "stream",
     "text": [
      "Loss after epoch 452: 0.0\n"
     ]
    },
    {
     "name": "stderr",
     "output_type": "stream",
     "text": [
      "INFO - 16:22:08: EPOCH 453 - PROGRESS: at 79.65% examples, 1263705 words/s, in_qsize 15, out_qsize 0\n",
      "INFO - 16:22:08: EPOCH 453: training on 2135928 raw words (1561286 effective words) took 1.2s, 1295743 effective words/s\n"
     ]
    },
    {
     "name": "stdout",
     "output_type": "stream",
     "text": [
      "Loss after epoch 453: 0.0\n"
     ]
    },
    {
     "name": "stderr",
     "output_type": "stream",
     "text": [
      "INFO - 16:22:09: EPOCH 454 - PROGRESS: at 78.78% examples, 1243607 words/s, in_qsize 15, out_qsize 3\n",
      "INFO - 16:22:10: EPOCH 454: training on 2135928 raw words (1561161 effective words) took 1.2s, 1286412 effective words/s\n"
     ]
    },
    {
     "name": "stdout",
     "output_type": "stream",
     "text": [
      "Loss after epoch 454: 0.0\n"
     ]
    },
    {
     "name": "stderr",
     "output_type": "stream",
     "text": [
      "INFO - 16:22:11: EPOCH 455 - PROGRESS: at 77.04% examples, 1231871 words/s, in_qsize 16, out_qsize 1\n",
      "INFO - 16:22:11: EPOCH 455: training on 2135928 raw words (1560639 effective words) took 1.2s, 1256759 effective words/s\n"
     ]
    },
    {
     "name": "stdout",
     "output_type": "stream",
     "text": [
      "Loss after epoch 455: 0.0\n"
     ]
    },
    {
     "name": "stderr",
     "output_type": "stream",
     "text": [
      "INFO - 16:22:12: EPOCH 456 - PROGRESS: at 77.47% examples, 1237671 words/s, in_qsize 16, out_qsize 0\n",
      "INFO - 16:22:12: EPOCH 456: training on 2135928 raw words (1561191 effective words) took 1.2s, 1266794 effective words/s\n"
     ]
    },
    {
     "name": "stdout",
     "output_type": "stream",
     "text": [
      "Loss after epoch 456: 0.0\n"
     ]
    },
    {
     "name": "stderr",
     "output_type": "stream",
     "text": [
      "INFO - 16:22:13: EPOCH 457 - PROGRESS: at 77.47% examples, 1234805 words/s, in_qsize 15, out_qsize 0\n",
      "INFO - 16:22:13: EPOCH 457: training on 2135928 raw words (1561384 effective words) took 1.2s, 1264464 effective words/s\n"
     ]
    },
    {
     "name": "stdout",
     "output_type": "stream",
     "text": [
      "Loss after epoch 457: 0.0\n"
     ]
    },
    {
     "name": "stderr",
     "output_type": "stream",
     "text": [
      "INFO - 16:22:14: EPOCH 458 - PROGRESS: at 72.71% examples, 1154153 words/s, in_qsize 14, out_qsize 1\n",
      "INFO - 16:22:15: EPOCH 458: training on 2135928 raw words (1561054 effective words) took 1.4s, 1129825 effective words/s\n"
     ]
    },
    {
     "name": "stdout",
     "output_type": "stream",
     "text": [
      "Loss after epoch 458: 0.0\n"
     ]
    },
    {
     "name": "stderr",
     "output_type": "stream",
     "text": [
      "INFO - 16:22:16: EPOCH 459 - PROGRESS: at 75.69% examples, 1207890 words/s, in_qsize 15, out_qsize 0\n",
      "INFO - 16:22:16: EPOCH 459: training on 2135928 raw words (1561500 effective words) took 1.3s, 1191962 effective words/s\n"
     ]
    },
    {
     "name": "stdout",
     "output_type": "stream",
     "text": [
      "Loss after epoch 459: 0.0\n"
     ]
    },
    {
     "name": "stderr",
     "output_type": "stream",
     "text": [
      "INFO - 16:22:17: EPOCH 460 - PROGRESS: at 71.89% examples, 1141170 words/s, in_qsize 16, out_qsize 1\n",
      "INFO - 16:22:17: EPOCH 460: training on 2135928 raw words (1560978 effective words) took 1.3s, 1188053 effective words/s\n"
     ]
    },
    {
     "name": "stdout",
     "output_type": "stream",
     "text": [
      "Loss after epoch 460: 0.0\n"
     ]
    },
    {
     "name": "stderr",
     "output_type": "stream",
     "text": [
      "INFO - 16:22:18: EPOCH 461 - PROGRESS: at 79.65% examples, 1255495 words/s, in_qsize 15, out_qsize 0\n",
      "INFO - 16:22:19: EPOCH 461: training on 2135928 raw words (1560590 effective words) took 1.2s, 1286232 effective words/s\n"
     ]
    },
    {
     "name": "stdout",
     "output_type": "stream",
     "text": [
      "Loss after epoch 461: 0.0\n"
     ]
    },
    {
     "name": "stderr",
     "output_type": "stream",
     "text": [
      "INFO - 16:22:20: EPOCH 462 - PROGRESS: at 77.91% examples, 1237255 words/s, in_qsize 15, out_qsize 0\n",
      "INFO - 16:22:20: EPOCH 462: training on 2135928 raw words (1560951 effective words) took 1.2s, 1273590 effective words/s\n"
     ]
    },
    {
     "name": "stdout",
     "output_type": "stream",
     "text": [
      "Loss after epoch 462: 0.0\n"
     ]
    },
    {
     "name": "stderr",
     "output_type": "stream",
     "text": [
      "INFO - 16:22:21: EPOCH 463 - PROGRESS: at 72.31% examples, 1134417 words/s, in_qsize 15, out_qsize 0\n",
      "INFO - 16:22:21: EPOCH 463: training on 2135928 raw words (1561413 effective words) took 1.3s, 1171637 effective words/s\n"
     ]
    },
    {
     "name": "stdout",
     "output_type": "stream",
     "text": [
      "Loss after epoch 463: 0.0\n"
     ]
    },
    {
     "name": "stderr",
     "output_type": "stream",
     "text": [
      "INFO - 16:22:22: EPOCH 464 - PROGRESS: at 77.47% examples, 1217849 words/s, in_qsize 15, out_qsize 0\n",
      "INFO - 16:22:22: EPOCH 464: training on 2135928 raw words (1561998 effective words) took 1.2s, 1267345 effective words/s\n"
     ]
    },
    {
     "name": "stdout",
     "output_type": "stream",
     "text": [
      "Loss after epoch 464: 0.0\n"
     ]
    },
    {
     "name": "stderr",
     "output_type": "stream",
     "text": [
      "INFO - 16:22:23: EPOCH 465 - PROGRESS: at 78.78% examples, 1263683 words/s, in_qsize 16, out_qsize 0\n",
      "INFO - 16:22:24: EPOCH 465: training on 2135928 raw words (1561202 effective words) took 1.2s, 1297535 effective words/s\n"
     ]
    },
    {
     "name": "stdout",
     "output_type": "stream",
     "text": [
      "Loss after epoch 465: 0.0\n"
     ]
    },
    {
     "name": "stderr",
     "output_type": "stream",
     "text": [
      "INFO - 16:22:25: EPOCH 466 - PROGRESS: at 77.91% examples, 1236965 words/s, in_qsize 16, out_qsize 0\n",
      "INFO - 16:22:25: EPOCH 466: training on 2135928 raw words (1561635 effective words) took 1.2s, 1277211 effective words/s\n"
     ]
    },
    {
     "name": "stdout",
     "output_type": "stream",
     "text": [
      "Loss after epoch 466: 0.0\n"
     ]
    },
    {
     "name": "stderr",
     "output_type": "stream",
     "text": [
      "INFO - 16:22:26: EPOCH 467 - PROGRESS: at 79.21% examples, 1265718 words/s, in_qsize 14, out_qsize 1\n",
      "INFO - 16:22:26: EPOCH 467: training on 2135928 raw words (1561447 effective words) took 1.2s, 1289227 effective words/s\n"
     ]
    },
    {
     "name": "stdout",
     "output_type": "stream",
     "text": [
      "Loss after epoch 467: 0.0\n"
     ]
    },
    {
     "name": "stderr",
     "output_type": "stream",
     "text": [
      "INFO - 16:22:27: EPOCH 468 - PROGRESS: at 77.05% examples, 1229872 words/s, in_qsize 13, out_qsize 2\n",
      "INFO - 16:22:27: EPOCH 468: training on 2135928 raw words (1561645 effective words) took 1.2s, 1276059 effective words/s\n"
     ]
    },
    {
     "name": "stdout",
     "output_type": "stream",
     "text": [
      "Loss after epoch 468: 0.0\n"
     ]
    },
    {
     "name": "stderr",
     "output_type": "stream",
     "text": [
      "INFO - 16:22:28: EPOCH 469 - PROGRESS: at 77.44% examples, 1236838 words/s, in_qsize 12, out_qsize 3\n",
      "INFO - 16:22:29: EPOCH 469: training on 2135928 raw words (1560927 effective words) took 1.2s, 1282319 effective words/s\n"
     ]
    },
    {
     "name": "stdout",
     "output_type": "stream",
     "text": [
      "Loss after epoch 469: 0.0\n"
     ]
    },
    {
     "name": "stderr",
     "output_type": "stream",
     "text": [
      "INFO - 16:22:30: EPOCH 470 - PROGRESS: at 78.34% examples, 1255569 words/s, in_qsize 15, out_qsize 0\n",
      "INFO - 16:22:30: EPOCH 470: training on 2135928 raw words (1560475 effective words) took 1.2s, 1276277 effective words/s\n"
     ]
    },
    {
     "name": "stdout",
     "output_type": "stream",
     "text": [
      "Loss after epoch 470: 0.0\n"
     ]
    },
    {
     "name": "stderr",
     "output_type": "stream",
     "text": [
      "INFO - 16:22:31: EPOCH 471 - PROGRESS: at 73.99% examples, 1177134 words/s, in_qsize 12, out_qsize 3\n",
      "INFO - 16:22:31: EPOCH 471: training on 2135928 raw words (1561494 effective words) took 1.3s, 1236178 effective words/s\n"
     ]
    },
    {
     "name": "stdout",
     "output_type": "stream",
     "text": [
      "Loss after epoch 471: 0.0\n"
     ]
    },
    {
     "name": "stderr",
     "output_type": "stream",
     "text": [
      "INFO - 16:22:32: EPOCH 472 - PROGRESS: at 76.14% examples, 1218159 words/s, in_qsize 15, out_qsize 0\n",
      "INFO - 16:22:32: EPOCH 472: training on 2135928 raw words (1561011 effective words) took 1.2s, 1261232 effective words/s\n"
     ]
    },
    {
     "name": "stdout",
     "output_type": "stream",
     "text": [
      "Loss after epoch 472: 0.0\n"
     ]
    },
    {
     "name": "stderr",
     "output_type": "stream",
     "text": [
      "INFO - 16:22:33: EPOCH 473 - PROGRESS: at 77.47% examples, 1240500 words/s, in_qsize 15, out_qsize 2\n",
      "INFO - 16:22:34: EPOCH 473: training on 2135928 raw words (1561439 effective words) took 1.2s, 1271478 effective words/s\n"
     ]
    },
    {
     "name": "stdout",
     "output_type": "stream",
     "text": [
      "Loss after epoch 473: 0.0\n"
     ]
    },
    {
     "name": "stderr",
     "output_type": "stream",
     "text": [
      "INFO - 16:22:35: EPOCH 474 - PROGRESS: at 76.57% examples, 1222847 words/s, in_qsize 15, out_qsize 0\n",
      "INFO - 16:22:35: EPOCH 474: training on 2135928 raw words (1561028 effective words) took 1.3s, 1248375 effective words/s\n"
     ]
    },
    {
     "name": "stdout",
     "output_type": "stream",
     "text": [
      "Loss after epoch 474: 0.0\n"
     ]
    },
    {
     "name": "stderr",
     "output_type": "stream",
     "text": [
      "INFO - 16:22:36: EPOCH 475 - PROGRESS: at 75.69% examples, 1208783 words/s, in_qsize 15, out_qsize 0\n",
      "INFO - 16:22:36: EPOCH 475: training on 2135928 raw words (1560996 effective words) took 1.3s, 1243772 effective words/s\n"
     ]
    },
    {
     "name": "stdout",
     "output_type": "stream",
     "text": [
      "Loss after epoch 475: 0.0\n"
     ]
    },
    {
     "name": "stderr",
     "output_type": "stream",
     "text": [
      "INFO - 16:22:37: EPOCH 476 - PROGRESS: at 77.00% examples, 1228331 words/s, in_qsize 16, out_qsize 0\n",
      "INFO - 16:22:37: EPOCH 476: training on 2135928 raw words (1561076 effective words) took 1.3s, 1247192 effective words/s\n"
     ]
    },
    {
     "name": "stdout",
     "output_type": "stream",
     "text": [
      "Loss after epoch 476: 0.0\n"
     ]
    },
    {
     "name": "stderr",
     "output_type": "stream",
     "text": [
      "INFO - 16:22:38: EPOCH 477 - PROGRESS: at 77.04% examples, 1223159 words/s, in_qsize 14, out_qsize 3\n",
      "INFO - 16:22:39: EPOCH 477: training on 2135928 raw words (1561118 effective words) took 1.3s, 1244670 effective words/s\n"
     ]
    },
    {
     "name": "stdout",
     "output_type": "stream",
     "text": [
      "Loss after epoch 477: 0.0\n"
     ]
    },
    {
     "name": "stderr",
     "output_type": "stream",
     "text": [
      "INFO - 16:22:40: EPOCH 478 - PROGRESS: at 77.00% examples, 1229601 words/s, in_qsize 16, out_qsize 0\n",
      "INFO - 16:22:40: EPOCH 478: training on 2135928 raw words (1560618 effective words) took 1.2s, 1254572 effective words/s\n"
     ]
    },
    {
     "name": "stdout",
     "output_type": "stream",
     "text": [
      "Loss after epoch 478: 0.0\n"
     ]
    },
    {
     "name": "stderr",
     "output_type": "stream",
     "text": [
      "INFO - 16:22:41: EPOCH 479 - PROGRESS: at 74.42% examples, 1186797 words/s, in_qsize 15, out_qsize 0\n",
      "INFO - 16:22:41: EPOCH 479: training on 2135928 raw words (1560738 effective words) took 1.3s, 1236124 effective words/s\n"
     ]
    },
    {
     "name": "stdout",
     "output_type": "stream",
     "text": [
      "Loss after epoch 479: 0.0\n"
     ]
    },
    {
     "name": "stderr",
     "output_type": "stream",
     "text": [
      "INFO - 16:22:42: EPOCH 480 - PROGRESS: at 79.21% examples, 1263593 words/s, in_qsize 14, out_qsize 1\n",
      "INFO - 16:22:42: EPOCH 480: training on 2135928 raw words (1560769 effective words) took 1.2s, 1299819 effective words/s\n"
     ]
    },
    {
     "name": "stdout",
     "output_type": "stream",
     "text": [
      "Loss after epoch 480: 0.0\n"
     ]
    },
    {
     "name": "stderr",
     "output_type": "stream",
     "text": [
      "INFO - 16:22:43: EPOCH 481 - PROGRESS: at 77.00% examples, 1233178 words/s, in_qsize 15, out_qsize 0\n",
      "INFO - 16:22:44: EPOCH 481: training on 2135928 raw words (1561027 effective words) took 1.2s, 1268226 effective words/s\n"
     ]
    },
    {
     "name": "stdout",
     "output_type": "stream",
     "text": [
      "Loss after epoch 481: 0.0\n"
     ]
    },
    {
     "name": "stderr",
     "output_type": "stream",
     "text": [
      "INFO - 16:22:45: EPOCH 482 - PROGRESS: at 78.78% examples, 1252868 words/s, in_qsize 13, out_qsize 2\n",
      "INFO - 16:22:45: EPOCH 482: training on 2135928 raw words (1560891 effective words) took 1.2s, 1283244 effective words/s\n"
     ]
    },
    {
     "name": "stdout",
     "output_type": "stream",
     "text": [
      "Loss after epoch 482: 0.0\n"
     ]
    },
    {
     "name": "stderr",
     "output_type": "stream",
     "text": [
      "INFO - 16:22:46: EPOCH 483 - PROGRESS: at 78.35% examples, 1252928 words/s, in_qsize 15, out_qsize 0\n",
      "INFO - 16:22:46: EPOCH 483: training on 2135928 raw words (1559770 effective words) took 1.2s, 1298792 effective words/s\n"
     ]
    },
    {
     "name": "stdout",
     "output_type": "stream",
     "text": [
      "Loss after epoch 483: 0.0\n"
     ]
    },
    {
     "name": "stderr",
     "output_type": "stream",
     "text": [
      "INFO - 16:22:47: EPOCH 484 - PROGRESS: at 78.78% examples, 1256323 words/s, in_qsize 15, out_qsize 0\n",
      "INFO - 16:22:47: EPOCH 484: training on 2135928 raw words (1561315 effective words) took 1.2s, 1282055 effective words/s\n"
     ]
    },
    {
     "name": "stdout",
     "output_type": "stream",
     "text": [
      "Loss after epoch 484: 0.0\n"
     ]
    },
    {
     "name": "stderr",
     "output_type": "stream",
     "text": [
      "INFO - 16:22:48: EPOCH 485 - PROGRESS: at 79.65% examples, 1265837 words/s, in_qsize 14, out_qsize 1\n",
      "INFO - 16:22:48: EPOCH 485: training on 2135928 raw words (1561332 effective words) took 1.2s, 1293667 effective words/s\n"
     ]
    },
    {
     "name": "stdout",
     "output_type": "stream",
     "text": [
      "Loss after epoch 485: 0.0\n"
     ]
    },
    {
     "name": "stderr",
     "output_type": "stream",
     "text": [
      "INFO - 16:22:49: EPOCH 486 - PROGRESS: at 79.21% examples, 1269281 words/s, in_qsize 15, out_qsize 0\n",
      "INFO - 16:22:50: EPOCH 486: training on 2135928 raw words (1561968 effective words) took 1.2s, 1292121 effective words/s\n"
     ]
    },
    {
     "name": "stdout",
     "output_type": "stream",
     "text": [
      "Loss after epoch 486: 0.0\n"
     ]
    },
    {
     "name": "stderr",
     "output_type": "stream",
     "text": [
      "INFO - 16:22:51: EPOCH 487 - PROGRESS: at 79.21% examples, 1267791 words/s, in_qsize 15, out_qsize 0\n",
      "INFO - 16:22:51: EPOCH 487: training on 2135928 raw words (1561411 effective words) took 1.2s, 1269997 effective words/s\n"
     ]
    },
    {
     "name": "stdout",
     "output_type": "stream",
     "text": [
      "Loss after epoch 487: 0.0\n"
     ]
    },
    {
     "name": "stderr",
     "output_type": "stream",
     "text": [
      "INFO - 16:22:52: EPOCH 488 - PROGRESS: at 79.21% examples, 1266701 words/s, in_qsize 15, out_qsize 0\n",
      "INFO - 16:22:52: EPOCH 488: training on 2135928 raw words (1561524 effective words) took 1.2s, 1285237 effective words/s\n"
     ]
    },
    {
     "name": "stdout",
     "output_type": "stream",
     "text": [
      "Loss after epoch 488: 0.0\n"
     ]
    },
    {
     "name": "stderr",
     "output_type": "stream",
     "text": [
      "INFO - 16:22:53: EPOCH 489 - PROGRESS: at 79.65% examples, 1274726 words/s, in_qsize 15, out_qsize 0\n",
      "INFO - 16:22:53: EPOCH 489: training on 2135928 raw words (1560733 effective words) took 1.2s, 1297461 effective words/s\n"
     ]
    },
    {
     "name": "stdout",
     "output_type": "stream",
     "text": [
      "Loss after epoch 489: 0.0\n"
     ]
    },
    {
     "name": "stderr",
     "output_type": "stream",
     "text": [
      "INFO - 16:22:54: EPOCH 490 - PROGRESS: at 79.21% examples, 1269790 words/s, in_qsize 13, out_qsize 2\n",
      "INFO - 16:22:55: EPOCH 490: training on 2135928 raw words (1561294 effective words) took 1.2s, 1309605 effective words/s\n"
     ]
    },
    {
     "name": "stdout",
     "output_type": "stream",
     "text": [
      "Loss after epoch 490: 0.0\n"
     ]
    },
    {
     "name": "stderr",
     "output_type": "stream",
     "text": [
      "INFO - 16:22:56: EPOCH 491 - PROGRESS: at 79.65% examples, 1274751 words/s, in_qsize 16, out_qsize 0\n",
      "INFO - 16:22:56: EPOCH 491: training on 2135928 raw words (1560351 effective words) took 1.2s, 1298375 effective words/s\n"
     ]
    },
    {
     "name": "stdout",
     "output_type": "stream",
     "text": [
      "Loss after epoch 491: 0.0\n"
     ]
    },
    {
     "name": "stderr",
     "output_type": "stream",
     "text": [
      "INFO - 16:22:57: EPOCH 492 - PROGRESS: at 78.78% examples, 1257498 words/s, in_qsize 16, out_qsize 0\n",
      "INFO - 16:22:57: EPOCH 492: training on 2135928 raw words (1561399 effective words) took 1.2s, 1287681 effective words/s\n"
     ]
    },
    {
     "name": "stdout",
     "output_type": "stream",
     "text": [
      "Loss after epoch 492: 0.0\n"
     ]
    },
    {
     "name": "stderr",
     "output_type": "stream",
     "text": [
      "INFO - 16:22:58: EPOCH 493 - PROGRESS: at 80.08% examples, 1280159 words/s, in_qsize 16, out_qsize 0\n",
      "INFO - 16:22:58: EPOCH 493: training on 2135928 raw words (1560716 effective words) took 1.2s, 1298240 effective words/s\n"
     ]
    },
    {
     "name": "stdout",
     "output_type": "stream",
     "text": [
      "Loss after epoch 493: 0.0\n"
     ]
    },
    {
     "name": "stderr",
     "output_type": "stream",
     "text": [
      "INFO - 16:22:59: EPOCH 494 - PROGRESS: at 77.47% examples, 1239541 words/s, in_qsize 15, out_qsize 0\n",
      "INFO - 16:22:59: EPOCH 494: training on 2135928 raw words (1561593 effective words) took 1.2s, 1279981 effective words/s\n"
     ]
    },
    {
     "name": "stdout",
     "output_type": "stream",
     "text": [
      "Loss after epoch 494: 0.0\n"
     ]
    },
    {
     "name": "stderr",
     "output_type": "stream",
     "text": [
      "INFO - 16:23:00: EPOCH 495 - PROGRESS: at 77.00% examples, 1233771 words/s, in_qsize 16, out_qsize 0\n",
      "INFO - 16:23:01: EPOCH 495: training on 2135928 raw words (1561597 effective words) took 1.2s, 1269014 effective words/s\n"
     ]
    },
    {
     "name": "stdout",
     "output_type": "stream",
     "text": [
      "Loss after epoch 495: 0.0\n"
     ]
    },
    {
     "name": "stderr",
     "output_type": "stream",
     "text": [
      "INFO - 16:23:02: EPOCH 496 - PROGRESS: at 76.14% examples, 1215013 words/s, in_qsize 16, out_qsize 0\n",
      "INFO - 16:23:02: EPOCH 496: training on 2135928 raw words (1560782 effective words) took 1.3s, 1240162 effective words/s\n"
     ]
    },
    {
     "name": "stdout",
     "output_type": "stream",
     "text": [
      "Loss after epoch 496: 0.0\n"
     ]
    },
    {
     "name": "stderr",
     "output_type": "stream",
     "text": [
      "INFO - 16:23:03: EPOCH 497 - PROGRESS: at 76.14% examples, 1214848 words/s, in_qsize 13, out_qsize 2\n",
      "INFO - 16:23:03: EPOCH 497: training on 2135928 raw words (1560495 effective words) took 1.2s, 1263151 effective words/s\n"
     ]
    },
    {
     "name": "stdout",
     "output_type": "stream",
     "text": [
      "Loss after epoch 497: 0.0\n"
     ]
    },
    {
     "name": "stderr",
     "output_type": "stream",
     "text": [
      "INFO - 16:23:04: EPOCH 498 - PROGRESS: at 75.26% examples, 1192692 words/s, in_qsize 15, out_qsize 0\n",
      "INFO - 16:23:04: EPOCH 498: training on 2135928 raw words (1561411 effective words) took 1.3s, 1233558 effective words/s\n"
     ]
    },
    {
     "name": "stdout",
     "output_type": "stream",
     "text": [
      "Loss after epoch 498: 0.0\n"
     ]
    },
    {
     "name": "stderr",
     "output_type": "stream",
     "text": [
      "INFO - 16:23:05: EPOCH 499 - PROGRESS: at 77.47% examples, 1234753 words/s, in_qsize 16, out_qsize 0\n",
      "INFO - 16:23:06: EPOCH 499: training on 2135928 raw words (1561482 effective words) took 1.2s, 1263151 effective words/s\n"
     ]
    },
    {
     "name": "stdout",
     "output_type": "stream",
     "text": [
      "Loss after epoch 499: 0.0\n"
     ]
    },
    {
     "name": "stderr",
     "output_type": "stream",
     "text": [
      "INFO - 16:23:07: EPOCH 500 - PROGRESS: at 76.58% examples, 1214311 words/s, in_qsize 15, out_qsize 0\n",
      "INFO - 16:23:07: EPOCH 500: training on 2135928 raw words (1560916 effective words) took 1.2s, 1252537 effective words/s\n"
     ]
    },
    {
     "name": "stdout",
     "output_type": "stream",
     "text": [
      "Loss after epoch 500: 0.0\n"
     ]
    },
    {
     "name": "stderr",
     "output_type": "stream",
     "text": [
      "INFO - 16:23:08: EPOCH 501 - PROGRESS: at 78.31% examples, 1247688 words/s, in_qsize 13, out_qsize 2\n",
      "INFO - 16:23:08: EPOCH 501: training on 2135928 raw words (1561282 effective words) took 1.2s, 1292478 effective words/s\n"
     ]
    },
    {
     "name": "stdout",
     "output_type": "stream",
     "text": [
      "Loss after epoch 501: 0.0\n"
     ]
    },
    {
     "name": "stderr",
     "output_type": "stream",
     "text": [
      "INFO - 16:23:09: EPOCH 502 - PROGRESS: at 78.34% examples, 1251759 words/s, in_qsize 14, out_qsize 1\n",
      "INFO - 16:23:09: EPOCH 502: training on 2135928 raw words (1561413 effective words) took 1.2s, 1271968 effective words/s\n"
     ]
    },
    {
     "name": "stdout",
     "output_type": "stream",
     "text": [
      "Loss after epoch 502: 0.0\n"
     ]
    },
    {
     "name": "stderr",
     "output_type": "stream",
     "text": [
      "INFO - 16:23:10: EPOCH 503 - PROGRESS: at 79.21% examples, 1244686 words/s, in_qsize 15, out_qsize 0\n",
      "INFO - 16:23:11: EPOCH 503: training on 2135928 raw words (1560612 effective words) took 1.2s, 1279994 effective words/s\n"
     ]
    },
    {
     "name": "stdout",
     "output_type": "stream",
     "text": [
      "Loss after epoch 503: 0.0\n"
     ]
    },
    {
     "name": "stderr",
     "output_type": "stream",
     "text": [
      "INFO - 16:23:12: EPOCH 504 - PROGRESS: at 76.14% examples, 1215514 words/s, in_qsize 14, out_qsize 1\n",
      "INFO - 16:23:12: EPOCH 504: training on 2135928 raw words (1561663 effective words) took 1.3s, 1248547 effective words/s\n"
     ]
    },
    {
     "name": "stdout",
     "output_type": "stream",
     "text": [
      "Loss after epoch 504: 0.0\n"
     ]
    },
    {
     "name": "stderr",
     "output_type": "stream",
     "text": [
      "INFO - 16:23:13: EPOCH 505 - PROGRESS: at 80.08% examples, 1265053 words/s, in_qsize 16, out_qsize 1\n",
      "INFO - 16:23:13: EPOCH 505: training on 2135928 raw words (1560764 effective words) took 1.2s, 1303587 effective words/s\n"
     ]
    },
    {
     "name": "stdout",
     "output_type": "stream",
     "text": [
      "Loss after epoch 505: 0.0\n"
     ]
    },
    {
     "name": "stderr",
     "output_type": "stream",
     "text": [
      "INFO - 16:23:14: EPOCH 506 - PROGRESS: at 76.57% examples, 1218542 words/s, in_qsize 16, out_qsize 0\n",
      "INFO - 16:23:14: EPOCH 506: training on 2135928 raw words (1561017 effective words) took 1.3s, 1248775 effective words/s\n"
     ]
    },
    {
     "name": "stdout",
     "output_type": "stream",
     "text": [
      "Loss after epoch 506: 0.0\n"
     ]
    },
    {
     "name": "stderr",
     "output_type": "stream",
     "text": [
      "INFO - 16:23:15: EPOCH 507 - PROGRESS: at 76.14% examples, 1214911 words/s, in_qsize 16, out_qsize 1\n",
      "INFO - 16:23:16: EPOCH 507: training on 2135928 raw words (1561249 effective words) took 1.3s, 1245339 effective words/s\n"
     ]
    },
    {
     "name": "stdout",
     "output_type": "stream",
     "text": [
      "Loss after epoch 507: 0.0\n"
     ]
    },
    {
     "name": "stderr",
     "output_type": "stream",
     "text": [
      "INFO - 16:23:17: EPOCH 508 - PROGRESS: at 77.91% examples, 1218340 words/s, in_qsize 13, out_qsize 2\n",
      "INFO - 16:23:17: EPOCH 508: training on 2135928 raw words (1561486 effective words) took 1.2s, 1273417 effective words/s\n"
     ]
    },
    {
     "name": "stdout",
     "output_type": "stream",
     "text": [
      "Loss after epoch 508: 0.0\n"
     ]
    },
    {
     "name": "stderr",
     "output_type": "stream",
     "text": [
      "INFO - 16:23:18: EPOCH 509 - PROGRESS: at 76.57% examples, 1222286 words/s, in_qsize 15, out_qsize 0\n",
      "INFO - 16:23:18: EPOCH 509: training on 2135928 raw words (1561145 effective words) took 1.2s, 1255408 effective words/s\n"
     ]
    },
    {
     "name": "stdout",
     "output_type": "stream",
     "text": [
      "Loss after epoch 509: 0.0\n"
     ]
    },
    {
     "name": "stderr",
     "output_type": "stream",
     "text": [
      "INFO - 16:23:19: EPOCH 510 - PROGRESS: at 77.48% examples, 1233751 words/s, in_qsize 16, out_qsize 1\n",
      "INFO - 16:23:19: EPOCH 510: training on 2135928 raw words (1561454 effective words) took 1.2s, 1280223 effective words/s\n"
     ]
    },
    {
     "name": "stdout",
     "output_type": "stream",
     "text": [
      "Loss after epoch 510: 0.0\n"
     ]
    },
    {
     "name": "stderr",
     "output_type": "stream",
     "text": [
      "INFO - 16:23:20: EPOCH 511 - PROGRESS: at 76.57% examples, 1218349 words/s, in_qsize 16, out_qsize 2\n",
      "INFO - 16:23:21: EPOCH 511: training on 2135928 raw words (1561204 effective words) took 1.2s, 1268670 effective words/s\n"
     ]
    },
    {
     "name": "stdout",
     "output_type": "stream",
     "text": [
      "Loss after epoch 511: 0.0\n"
     ]
    },
    {
     "name": "stderr",
     "output_type": "stream",
     "text": [
      "INFO - 16:23:22: EPOCH 512 - PROGRESS: at 76.57% examples, 1210239 words/s, in_qsize 14, out_qsize 1\n",
      "INFO - 16:23:22: EPOCH 512: training on 2135928 raw words (1561826 effective words) took 1.2s, 1261337 effective words/s\n"
     ]
    },
    {
     "name": "stdout",
     "output_type": "stream",
     "text": [
      "Loss after epoch 512: 0.0\n"
     ]
    },
    {
     "name": "stderr",
     "output_type": "stream",
     "text": [
      "INFO - 16:23:23: EPOCH 513 - PROGRESS: at 76.57% examples, 1213319 words/s, in_qsize 16, out_qsize 0\n",
      "INFO - 16:23:23: EPOCH 513: training on 2135928 raw words (1561292 effective words) took 1.2s, 1265518 effective words/s\n"
     ]
    },
    {
     "name": "stdout",
     "output_type": "stream",
     "text": [
      "Loss after epoch 513: 0.0\n"
     ]
    },
    {
     "name": "stderr",
     "output_type": "stream",
     "text": [
      "INFO - 16:23:24: EPOCH 514 - PROGRESS: at 77.91% examples, 1222749 words/s, in_qsize 15, out_qsize 0\n",
      "INFO - 16:23:24: EPOCH 514: training on 2135928 raw words (1561419 effective words) took 1.2s, 1274120 effective words/s\n"
     ]
    },
    {
     "name": "stdout",
     "output_type": "stream",
     "text": [
      "Loss after epoch 514: 0.0\n"
     ]
    },
    {
     "name": "stderr",
     "output_type": "stream",
     "text": [
      "INFO - 16:23:25: EPOCH 515 - PROGRESS: at 78.34% examples, 1240715 words/s, in_qsize 15, out_qsize 0\n",
      "INFO - 16:23:25: EPOCH 515: training on 2135928 raw words (1561194 effective words) took 1.2s, 1286945 effective words/s\n"
     ]
    },
    {
     "name": "stdout",
     "output_type": "stream",
     "text": [
      "Loss after epoch 515: 0.0\n"
     ]
    },
    {
     "name": "stderr",
     "output_type": "stream",
     "text": [
      "INFO - 16:23:27: EPOCH 516 - PROGRESS: at 77.91% examples, 1238352 words/s, in_qsize 15, out_qsize 0\n",
      "INFO - 16:23:27: EPOCH 516: training on 2135928 raw words (1560671 effective words) took 1.2s, 1279382 effective words/s\n"
     ]
    },
    {
     "name": "stdout",
     "output_type": "stream",
     "text": [
      "Loss after epoch 516: 0.0\n"
     ]
    },
    {
     "name": "stderr",
     "output_type": "stream",
     "text": [
      "INFO - 16:23:28: EPOCH 517 - PROGRESS: at 77.91% examples, 1231682 words/s, in_qsize 16, out_qsize 0\n",
      "INFO - 16:23:28: EPOCH 517: training on 2135928 raw words (1560479 effective words) took 1.2s, 1281947 effective words/s\n"
     ]
    },
    {
     "name": "stdout",
     "output_type": "stream",
     "text": [
      "Loss after epoch 517: 0.0\n"
     ]
    },
    {
     "name": "stderr",
     "output_type": "stream",
     "text": [
      "INFO - 16:23:29: EPOCH 518 - PROGRESS: at 76.12% examples, 1217110 words/s, in_qsize 15, out_qsize 0\n",
      "INFO - 16:23:29: EPOCH 518: training on 2135928 raw words (1561329 effective words) took 1.2s, 1251729 effective words/s\n"
     ]
    },
    {
     "name": "stdout",
     "output_type": "stream",
     "text": [
      "Loss after epoch 518: 0.0\n"
     ]
    },
    {
     "name": "stderr",
     "output_type": "stream",
     "text": [
      "INFO - 16:23:30: EPOCH 519 - PROGRESS: at 76.12% examples, 1212225 words/s, in_qsize 15, out_qsize 0\n",
      "INFO - 16:23:30: EPOCH 519: training on 2135928 raw words (1561350 effective words) took 1.3s, 1244227 effective words/s\n"
     ]
    },
    {
     "name": "stdout",
     "output_type": "stream",
     "text": [
      "Loss after epoch 519: 0.0\n"
     ]
    },
    {
     "name": "stderr",
     "output_type": "stream",
     "text": [
      "INFO - 16:23:31: EPOCH 520 - PROGRESS: at 76.57% examples, 1221322 words/s, in_qsize 15, out_qsize 0\n",
      "INFO - 16:23:32: EPOCH 520: training on 2135928 raw words (1560556 effective words) took 1.3s, 1233396 effective words/s\n"
     ]
    },
    {
     "name": "stdout",
     "output_type": "stream",
     "text": [
      "Loss after epoch 520: 0.0\n"
     ]
    },
    {
     "name": "stderr",
     "output_type": "stream",
     "text": [
      "INFO - 16:23:33: EPOCH 521 - PROGRESS: at 77.44% examples, 1240541 words/s, in_qsize 16, out_qsize 0\n",
      "INFO - 16:23:33: EPOCH 521: training on 2135928 raw words (1561079 effective words) took 1.2s, 1275907 effective words/s\n"
     ]
    },
    {
     "name": "stdout",
     "output_type": "stream",
     "text": [
      "Loss after epoch 521: 0.0\n"
     ]
    },
    {
     "name": "stderr",
     "output_type": "stream",
     "text": [
      "INFO - 16:23:34: EPOCH 522 - PROGRESS: at 79.21% examples, 1261718 words/s, in_qsize 15, out_qsize 0\n",
      "INFO - 16:23:34: EPOCH 522: training on 2135928 raw words (1560665 effective words) took 1.2s, 1302035 effective words/s\n"
     ]
    },
    {
     "name": "stdout",
     "output_type": "stream",
     "text": [
      "Loss after epoch 522: 0.0\n"
     ]
    },
    {
     "name": "stderr",
     "output_type": "stream",
     "text": [
      "INFO - 16:23:35: EPOCH 523 - PROGRESS: at 75.71% examples, 1194690 words/s, in_qsize 16, out_qsize 2\n",
      "INFO - 16:23:35: EPOCH 523: training on 2135928 raw words (1561568 effective words) took 1.2s, 1249465 effective words/s\n"
     ]
    },
    {
     "name": "stdout",
     "output_type": "stream",
     "text": [
      "Loss after epoch 523: 0.0\n"
     ]
    },
    {
     "name": "stderr",
     "output_type": "stream",
     "text": [
      "INFO - 16:23:36: EPOCH 524 - PROGRESS: at 77.90% examples, 1228314 words/s, in_qsize 15, out_qsize 0\n",
      "INFO - 16:23:37: EPOCH 524: training on 2135928 raw words (1561394 effective words) took 1.2s, 1273480 effective words/s\n"
     ]
    },
    {
     "name": "stdout",
     "output_type": "stream",
     "text": [
      "Loss after epoch 524: 0.0\n"
     ]
    },
    {
     "name": "stderr",
     "output_type": "stream",
     "text": [
      "INFO - 16:23:38: EPOCH 525 - PROGRESS: at 76.57% examples, 1211135 words/s, in_qsize 15, out_qsize 0\n",
      "INFO - 16:23:38: EPOCH 525: training on 2135928 raw words (1561290 effective words) took 1.3s, 1238975 effective words/s\n"
     ]
    },
    {
     "name": "stdout",
     "output_type": "stream",
     "text": [
      "Loss after epoch 525: 0.0\n"
     ]
    },
    {
     "name": "stderr",
     "output_type": "stream",
     "text": [
      "INFO - 16:23:39: EPOCH 526 - PROGRESS: at 77.00% examples, 1222942 words/s, in_qsize 15, out_qsize 0\n",
      "INFO - 16:23:39: EPOCH 526: training on 2135928 raw words (1561652 effective words) took 1.2s, 1257956 effective words/s\n"
     ]
    },
    {
     "name": "stdout",
     "output_type": "stream",
     "text": [
      "Loss after epoch 526: 0.0\n"
     ]
    },
    {
     "name": "stderr",
     "output_type": "stream",
     "text": [
      "INFO - 16:23:40: EPOCH 527 - PROGRESS: at 77.00% examples, 1223379 words/s, in_qsize 14, out_qsize 1\n",
      "INFO - 16:23:40: EPOCH 527: training on 2135928 raw words (1560984 effective words) took 1.2s, 1267429 effective words/s\n"
     ]
    },
    {
     "name": "stdout",
     "output_type": "stream",
     "text": [
      "Loss after epoch 527: 0.0\n"
     ]
    },
    {
     "name": "stderr",
     "output_type": "stream",
     "text": [
      "INFO - 16:23:41: EPOCH 528 - PROGRESS: at 77.00% examples, 1226799 words/s, in_qsize 14, out_qsize 1\n",
      "INFO - 16:23:42: EPOCH 528: training on 2135928 raw words (1561212 effective words) took 1.2s, 1259699 effective words/s\n"
     ]
    },
    {
     "name": "stdout",
     "output_type": "stream",
     "text": [
      "Loss after epoch 528: 0.0\n"
     ]
    },
    {
     "name": "stderr",
     "output_type": "stream",
     "text": [
      "INFO - 16:23:43: EPOCH 529 - PROGRESS: at 74.83% examples, 1182848 words/s, in_qsize 13, out_qsize 2\n",
      "INFO - 16:23:43: EPOCH 529: training on 2135928 raw words (1561283 effective words) took 1.3s, 1234348 effective words/s\n"
     ]
    },
    {
     "name": "stdout",
     "output_type": "stream",
     "text": [
      "Loss after epoch 529: 0.0\n"
     ]
    },
    {
     "name": "stderr",
     "output_type": "stream",
     "text": [
      "INFO - 16:23:44: EPOCH 530 - PROGRESS: at 80.52% examples, 1270244 words/s, in_qsize 15, out_qsize 0\n",
      "INFO - 16:23:44: EPOCH 530: training on 2135928 raw words (1560901 effective words) took 1.2s, 1312105 effective words/s\n"
     ]
    },
    {
     "name": "stdout",
     "output_type": "stream",
     "text": [
      "Loss after epoch 530: 0.0\n"
     ]
    },
    {
     "name": "stderr",
     "output_type": "stream",
     "text": [
      "INFO - 16:23:45: EPOCH 531 - PROGRESS: at 78.78% examples, 1249142 words/s, in_qsize 16, out_qsize 1\n",
      "INFO - 16:23:45: EPOCH 531: training on 2135928 raw words (1561572 effective words) took 1.2s, 1291484 effective words/s\n"
     ]
    },
    {
     "name": "stdout",
     "output_type": "stream",
     "text": [
      "Loss after epoch 531: 0.0\n"
     ]
    },
    {
     "name": "stderr",
     "output_type": "stream",
     "text": [
      "INFO - 16:23:46: EPOCH 532 - PROGRESS: at 79.21% examples, 1268102 words/s, in_qsize 15, out_qsize 0\n",
      "INFO - 16:23:47: EPOCH 532: training on 2135928 raw words (1561230 effective words) took 1.2s, 1296782 effective words/s\n"
     ]
    },
    {
     "name": "stdout",
     "output_type": "stream",
     "text": [
      "Loss after epoch 532: 0.0\n"
     ]
    },
    {
     "name": "stderr",
     "output_type": "stream",
     "text": [
      "INFO - 16:23:48: EPOCH 533 - PROGRESS: at 80.07% examples, 1275177 words/s, in_qsize 15, out_qsize 0\n",
      "INFO - 16:23:48: EPOCH 533: training on 2135928 raw words (1561705 effective words) took 1.2s, 1307549 effective words/s\n"
     ]
    },
    {
     "name": "stdout",
     "output_type": "stream",
     "text": [
      "Loss after epoch 533: 0.0\n"
     ]
    },
    {
     "name": "stderr",
     "output_type": "stream",
     "text": [
      "INFO - 16:23:49: EPOCH 534 - PROGRESS: at 77.47% examples, 1236365 words/s, in_qsize 14, out_qsize 1\n",
      "INFO - 16:23:49: EPOCH 534: training on 2135928 raw words (1561799 effective words) took 1.2s, 1281489 effective words/s\n"
     ]
    },
    {
     "name": "stdout",
     "output_type": "stream",
     "text": [
      "Loss after epoch 534: 0.0\n"
     ]
    },
    {
     "name": "stderr",
     "output_type": "stream",
     "text": [
      "INFO - 16:23:50: EPOCH 535 - PROGRESS: at 78.78% examples, 1255237 words/s, in_qsize 16, out_qsize 2\n",
      "INFO - 16:23:50: EPOCH 535: training on 2135928 raw words (1561066 effective words) took 1.2s, 1305374 effective words/s\n"
     ]
    },
    {
     "name": "stdout",
     "output_type": "stream",
     "text": [
      "Loss after epoch 535: 0.0\n"
     ]
    },
    {
     "name": "stderr",
     "output_type": "stream",
     "text": [
      "INFO - 16:23:51: EPOCH 536 - PROGRESS: at 79.65% examples, 1264897 words/s, in_qsize 16, out_qsize 1\n",
      "INFO - 16:23:51: EPOCH 536: training on 2135928 raw words (1560675 effective words) took 1.2s, 1304115 effective words/s\n"
     ]
    },
    {
     "name": "stdout",
     "output_type": "stream",
     "text": [
      "Loss after epoch 536: 0.0\n"
     ]
    },
    {
     "name": "stderr",
     "output_type": "stream",
     "text": [
      "INFO - 16:23:52: EPOCH 537 - PROGRESS: at 77.91% examples, 1240735 words/s, in_qsize 15, out_qsize 0\n",
      "INFO - 16:23:53: EPOCH 537: training on 2135928 raw words (1561260 effective words) took 1.2s, 1276480 effective words/s\n"
     ]
    },
    {
     "name": "stdout",
     "output_type": "stream",
     "text": [
      "Loss after epoch 537: 0.0\n"
     ]
    },
    {
     "name": "stderr",
     "output_type": "stream",
     "text": [
      "INFO - 16:23:54: EPOCH 538 - PROGRESS: at 79.21% examples, 1261635 words/s, in_qsize 16, out_qsize 0\n",
      "INFO - 16:23:54: EPOCH 538: training on 2135928 raw words (1560865 effective words) took 1.2s, 1278054 effective words/s\n"
     ]
    },
    {
     "name": "stdout",
     "output_type": "stream",
     "text": [
      "Loss after epoch 538: 0.0\n"
     ]
    },
    {
     "name": "stderr",
     "output_type": "stream",
     "text": [
      "INFO - 16:23:55: EPOCH 539 - PROGRESS: at 80.08% examples, 1283900 words/s, in_qsize 15, out_qsize 0\n",
      "INFO - 16:23:55: EPOCH 539: training on 2135928 raw words (1561028 effective words) took 1.2s, 1307154 effective words/s\n"
     ]
    },
    {
     "name": "stdout",
     "output_type": "stream",
     "text": [
      "Loss after epoch 539: 0.0\n"
     ]
    },
    {
     "name": "stderr",
     "output_type": "stream",
     "text": [
      "INFO - 16:23:56: EPOCH 540 - PROGRESS: at 78.34% examples, 1249604 words/s, in_qsize 15, out_qsize 0\n",
      "INFO - 16:23:56: EPOCH 540: training on 2135928 raw words (1559932 effective words) took 1.2s, 1285874 effective words/s\n"
     ]
    },
    {
     "name": "stdout",
     "output_type": "stream",
     "text": [
      "Loss after epoch 540: 0.0\n"
     ]
    },
    {
     "name": "stderr",
     "output_type": "stream",
     "text": [
      "INFO - 16:23:57: EPOCH 541 - PROGRESS: at 77.00% examples, 1232021 words/s, in_qsize 14, out_qsize 1\n",
      "INFO - 16:23:58: EPOCH 541: training on 2135928 raw words (1561155 effective words) took 1.2s, 1265909 effective words/s\n"
     ]
    },
    {
     "name": "stdout",
     "output_type": "stream",
     "text": [
      "Loss after epoch 541: 0.0\n"
     ]
    },
    {
     "name": "stderr",
     "output_type": "stream",
     "text": [
      "INFO - 16:23:59: EPOCH 542 - PROGRESS: at 77.00% examples, 1217123 words/s, in_qsize 15, out_qsize 0\n",
      "INFO - 16:23:59: EPOCH 542: training on 2135928 raw words (1561913 effective words) took 1.2s, 1257041 effective words/s\n"
     ]
    },
    {
     "name": "stdout",
     "output_type": "stream",
     "text": [
      "Loss after epoch 542: 0.0\n"
     ]
    },
    {
     "name": "stderr",
     "output_type": "stream",
     "text": [
      "INFO - 16:24:00: EPOCH 543 - PROGRESS: at 79.21% examples, 1261491 words/s, in_qsize 14, out_qsize 1\n",
      "INFO - 16:24:00: EPOCH 543: training on 2135928 raw words (1561276 effective words) took 1.2s, 1287746 effective words/s\n"
     ]
    },
    {
     "name": "stdout",
     "output_type": "stream",
     "text": [
      "Loss after epoch 543: 0.0\n"
     ]
    },
    {
     "name": "stderr",
     "output_type": "stream",
     "text": [
      "INFO - 16:24:01: EPOCH 544 - PROGRESS: at 78.78% examples, 1244364 words/s, in_qsize 15, out_qsize 0\n",
      "INFO - 16:24:01: EPOCH 544: training on 2135928 raw words (1561266 effective words) took 1.2s, 1287580 effective words/s\n"
     ]
    },
    {
     "name": "stdout",
     "output_type": "stream",
     "text": [
      "Loss after epoch 544: 0.0\n"
     ]
    },
    {
     "name": "stderr",
     "output_type": "stream",
     "text": [
      "INFO - 16:24:02: EPOCH 545 - PROGRESS: at 77.91% examples, 1248007 words/s, in_qsize 16, out_qsize 0\n",
      "INFO - 16:24:03: EPOCH 545: training on 2135928 raw words (1561033 effective words) took 1.3s, 1247200 effective words/s\n"
     ]
    },
    {
     "name": "stdout",
     "output_type": "stream",
     "text": [
      "Loss after epoch 545: 0.0\n"
     ]
    },
    {
     "name": "stderr",
     "output_type": "stream",
     "text": [
      "INFO - 16:24:04: EPOCH 546 - PROGRESS: at 77.91% examples, 1245173 words/s, in_qsize 14, out_qsize 1\n",
      "INFO - 16:24:04: EPOCH 546: training on 2135928 raw words (1560964 effective words) took 1.2s, 1263162 effective words/s\n"
     ]
    },
    {
     "name": "stdout",
     "output_type": "stream",
     "text": [
      "Loss after epoch 546: 0.0\n"
     ]
    },
    {
     "name": "stderr",
     "output_type": "stream",
     "text": [
      "INFO - 16:24:05: EPOCH 547 - PROGRESS: at 74.40% examples, 1183015 words/s, in_qsize 14, out_qsize 1\n",
      "INFO - 16:24:05: EPOCH 547: training on 2135928 raw words (1560744 effective words) took 1.3s, 1232408 effective words/s\n"
     ]
    },
    {
     "name": "stdout",
     "output_type": "stream",
     "text": [
      "Loss after epoch 547: 0.0\n"
     ]
    },
    {
     "name": "stderr",
     "output_type": "stream",
     "text": [
      "INFO - 16:24:06: EPOCH 548 - PROGRESS: at 79.21% examples, 1250434 words/s, in_qsize 15, out_qsize 0\n",
      "INFO - 16:24:06: EPOCH 548: training on 2135928 raw words (1561091 effective words) took 1.2s, 1287780 effective words/s\n"
     ]
    },
    {
     "name": "stdout",
     "output_type": "stream",
     "text": [
      "Loss after epoch 548: 0.0\n"
     ]
    },
    {
     "name": "stderr",
     "output_type": "stream",
     "text": [
      "INFO - 16:24:07: EPOCH 549 - PROGRESS: at 77.47% examples, 1223686 words/s, in_qsize 15, out_qsize 0\n",
      "INFO - 16:24:08: EPOCH 549: training on 2135928 raw words (1561724 effective words) took 1.2s, 1268985 effective words/s\n"
     ]
    },
    {
     "name": "stdout",
     "output_type": "stream",
     "text": [
      "Loss after epoch 549: 0.0\n"
     ]
    },
    {
     "name": "stderr",
     "output_type": "stream",
     "text": [
      "INFO - 16:24:09: EPOCH 550 - PROGRESS: at 77.91% examples, 1241602 words/s, in_qsize 15, out_qsize 0\n",
      "INFO - 16:24:09: EPOCH 550: training on 2135928 raw words (1561225 effective words) took 1.2s, 1281253 effective words/s\n"
     ]
    },
    {
     "name": "stdout",
     "output_type": "stream",
     "text": [
      "Loss after epoch 550: 0.0\n"
     ]
    },
    {
     "name": "stderr",
     "output_type": "stream",
     "text": [
      "INFO - 16:24:10: EPOCH 551 - PROGRESS: at 79.21% examples, 1268502 words/s, in_qsize 16, out_qsize 0\n",
      "INFO - 16:24:10: EPOCH 551: training on 2135928 raw words (1560502 effective words) took 1.2s, 1281709 effective words/s\n"
     ]
    },
    {
     "name": "stdout",
     "output_type": "stream",
     "text": [
      "Loss after epoch 551: 0.0\n"
     ]
    },
    {
     "name": "stderr",
     "output_type": "stream",
     "text": [
      "INFO - 16:24:11: EPOCH 552 - PROGRESS: at 77.91% examples, 1245784 words/s, in_qsize 15, out_qsize 0\n",
      "INFO - 16:24:11: EPOCH 552: training on 2135928 raw words (1561191 effective words) took 1.2s, 1269407 effective words/s\n"
     ]
    },
    {
     "name": "stdout",
     "output_type": "stream",
     "text": [
      "Loss after epoch 552: 0.0\n"
     ]
    },
    {
     "name": "stderr",
     "output_type": "stream",
     "text": [
      "INFO - 16:24:12: EPOCH 553 - PROGRESS: at 77.90% examples, 1227193 words/s, in_qsize 16, out_qsize 1\n",
      "INFO - 16:24:12: EPOCH 553: training on 2135928 raw words (1560926 effective words) took 1.2s, 1261997 effective words/s\n"
     ]
    },
    {
     "name": "stdout",
     "output_type": "stream",
     "text": [
      "Loss after epoch 553: 0.0\n"
     ]
    },
    {
     "name": "stderr",
     "output_type": "stream",
     "text": [
      "INFO - 16:24:13: EPOCH 554 - PROGRESS: at 74.83% examples, 1194110 words/s, in_qsize 15, out_qsize 0\n",
      "INFO - 16:24:14: EPOCH 554: training on 2135928 raw words (1561419 effective words) took 1.3s, 1232993 effective words/s\n"
     ]
    },
    {
     "name": "stdout",
     "output_type": "stream",
     "text": [
      "Loss after epoch 554: 0.0\n"
     ]
    },
    {
     "name": "stderr",
     "output_type": "stream",
     "text": [
      "INFO - 16:24:15: EPOCH 555 - PROGRESS: at 75.69% examples, 1200271 words/s, in_qsize 13, out_qsize 2\n",
      "INFO - 16:24:15: EPOCH 555: training on 2135928 raw words (1560881 effective words) took 1.3s, 1230468 effective words/s\n"
     ]
    },
    {
     "name": "stdout",
     "output_type": "stream",
     "text": [
      "Loss after epoch 555: 0.0\n"
     ]
    },
    {
     "name": "stderr",
     "output_type": "stream",
     "text": [
      "INFO - 16:24:16: EPOCH 556 - PROGRESS: at 78.78% examples, 1262751 words/s, in_qsize 16, out_qsize 1\n",
      "INFO - 16:24:16: EPOCH 556: training on 2135928 raw words (1561327 effective words) took 1.2s, 1306077 effective words/s\n"
     ]
    },
    {
     "name": "stdout",
     "output_type": "stream",
     "text": [
      "Loss after epoch 556: 0.0\n"
     ]
    },
    {
     "name": "stderr",
     "output_type": "stream",
     "text": [
      "INFO - 16:24:17: EPOCH 557 - PROGRESS: at 79.21% examples, 1263831 words/s, in_qsize 15, out_qsize 0\n",
      "INFO - 16:24:17: EPOCH 557: training on 2135928 raw words (1561653 effective words) took 1.2s, 1300513 effective words/s\n"
     ]
    },
    {
     "name": "stdout",
     "output_type": "stream",
     "text": [
      "Loss after epoch 557: 0.0\n"
     ]
    },
    {
     "name": "stderr",
     "output_type": "stream",
     "text": [
      "INFO - 16:24:18: EPOCH 558 - PROGRESS: at 80.08% examples, 1281190 words/s, in_qsize 15, out_qsize 0\n",
      "INFO - 16:24:19: EPOCH 558: training on 2135928 raw words (1560808 effective words) took 1.2s, 1299111 effective words/s\n"
     ]
    },
    {
     "name": "stdout",
     "output_type": "stream",
     "text": [
      "Loss after epoch 558: 0.0\n"
     ]
    },
    {
     "name": "stderr",
     "output_type": "stream",
     "text": [
      "INFO - 16:24:20: EPOCH 559 - PROGRESS: at 79.21% examples, 1268607 words/s, in_qsize 16, out_qsize 0\n",
      "INFO - 16:24:20: EPOCH 559: training on 2135928 raw words (1560969 effective words) took 1.2s, 1287893 effective words/s\n"
     ]
    },
    {
     "name": "stdout",
     "output_type": "stream",
     "text": [
      "Loss after epoch 559: 0.0\n"
     ]
    },
    {
     "name": "stderr",
     "output_type": "stream",
     "text": [
      "INFO - 16:24:21: EPOCH 560 - PROGRESS: at 77.47% examples, 1238408 words/s, in_qsize 15, out_qsize 0\n",
      "INFO - 16:24:21: EPOCH 560: training on 2135928 raw words (1561045 effective words) took 1.2s, 1288697 effective words/s\n"
     ]
    },
    {
     "name": "stdout",
     "output_type": "stream",
     "text": [
      "Loss after epoch 560: 0.0\n"
     ]
    },
    {
     "name": "stderr",
     "output_type": "stream",
     "text": [
      "INFO - 16:24:22: EPOCH 561 - PROGRESS: at 76.57% examples, 1212544 words/s, in_qsize 14, out_qsize 1\n",
      "INFO - 16:24:22: EPOCH 561: training on 2135928 raw words (1560980 effective words) took 1.2s, 1254523 effective words/s\n"
     ]
    },
    {
     "name": "stdout",
     "output_type": "stream",
     "text": [
      "Loss after epoch 561: 0.0\n"
     ]
    },
    {
     "name": "stderr",
     "output_type": "stream",
     "text": [
      "INFO - 16:24:23: EPOCH 562 - PROGRESS: at 75.69% examples, 1199444 words/s, in_qsize 14, out_qsize 1\n",
      "INFO - 16:24:24: EPOCH 562: training on 2135928 raw words (1560467 effective words) took 1.2s, 1252587 effective words/s\n"
     ]
    },
    {
     "name": "stdout",
     "output_type": "stream",
     "text": [
      "Loss after epoch 562: 0.0\n"
     ]
    },
    {
     "name": "stderr",
     "output_type": "stream",
     "text": [
      "INFO - 16:24:25: EPOCH 563 - PROGRESS: at 77.45% examples, 1237143 words/s, in_qsize 10, out_qsize 5\n",
      "INFO - 16:24:25: EPOCH 563: training on 2135928 raw words (1561537 effective words) took 1.2s, 1286285 effective words/s\n"
     ]
    },
    {
     "name": "stdout",
     "output_type": "stream",
     "text": [
      "Loss after epoch 563: 0.0\n"
     ]
    },
    {
     "name": "stderr",
     "output_type": "stream",
     "text": [
      "INFO - 16:24:26: EPOCH 564 - PROGRESS: at 78.35% examples, 1240404 words/s, in_qsize 15, out_qsize 0\n",
      "INFO - 16:24:26: EPOCH 564: training on 2135928 raw words (1561224 effective words) took 1.2s, 1280413 effective words/s\n"
     ]
    },
    {
     "name": "stdout",
     "output_type": "stream",
     "text": [
      "Loss after epoch 564: 0.0\n"
     ]
    },
    {
     "name": "stderr",
     "output_type": "stream",
     "text": [
      "INFO - 16:24:27: EPOCH 565 - PROGRESS: at 78.78% examples, 1249649 words/s, in_qsize 14, out_qsize 1\n",
      "INFO - 16:24:27: EPOCH 565: training on 2135928 raw words (1560963 effective words) took 1.2s, 1282551 effective words/s\n"
     ]
    },
    {
     "name": "stdout",
     "output_type": "stream",
     "text": [
      "Loss after epoch 565: 0.0\n"
     ]
    },
    {
     "name": "stderr",
     "output_type": "stream",
     "text": [
      "INFO - 16:24:28: EPOCH 566 - PROGRESS: at 79.21% examples, 1248131 words/s, in_qsize 15, out_qsize 3\n",
      "INFO - 16:24:28: EPOCH 566: training on 2135928 raw words (1561376 effective words) took 1.2s, 1290235 effective words/s\n"
     ]
    },
    {
     "name": "stdout",
     "output_type": "stream",
     "text": [
      "Loss after epoch 566: 0.0\n"
     ]
    },
    {
     "name": "stderr",
     "output_type": "stream",
     "text": [
      "INFO - 16:24:30: EPOCH 567 - PROGRESS: at 79.21% examples, 1257003 words/s, in_qsize 15, out_qsize 1\n",
      "INFO - 16:24:30: EPOCH 567: training on 2135928 raw words (1560281 effective words) took 1.2s, 1288211 effective words/s\n"
     ]
    },
    {
     "name": "stdout",
     "output_type": "stream",
     "text": [
      "Loss after epoch 567: 0.0\n"
     ]
    },
    {
     "name": "stderr",
     "output_type": "stream",
     "text": [
      "INFO - 16:24:31: EPOCH 568 - PROGRESS: at 76.61% examples, 1212282 words/s, in_qsize 15, out_qsize 0\n",
      "INFO - 16:24:31: EPOCH 568: training on 2135928 raw words (1561028 effective words) took 1.2s, 1254996 effective words/s\n"
     ]
    },
    {
     "name": "stdout",
     "output_type": "stream",
     "text": [
      "Loss after epoch 568: 0.0\n"
     ]
    },
    {
     "name": "stderr",
     "output_type": "stream",
     "text": [
      "INFO - 16:24:32: EPOCH 569 - PROGRESS: at 77.91% examples, 1235882 words/s, in_qsize 15, out_qsize 0\n",
      "INFO - 16:24:32: EPOCH 569: training on 2135928 raw words (1560969 effective words) took 1.2s, 1276016 effective words/s\n"
     ]
    },
    {
     "name": "stdout",
     "output_type": "stream",
     "text": [
      "Loss after epoch 569: 0.0\n"
     ]
    },
    {
     "name": "stderr",
     "output_type": "stream",
     "text": [
      "INFO - 16:24:33: EPOCH 570 - PROGRESS: at 77.00% examples, 1228874 words/s, in_qsize 15, out_qsize 0\n",
      "INFO - 16:24:33: EPOCH 570: training on 2135928 raw words (1560499 effective words) took 1.3s, 1233648 effective words/s\n"
     ]
    },
    {
     "name": "stdout",
     "output_type": "stream",
     "text": [
      "Loss after epoch 570: 0.0\n"
     ]
    },
    {
     "name": "stderr",
     "output_type": "stream",
     "text": [
      "INFO - 16:24:34: EPOCH 571 - PROGRESS: at 77.00% examples, 1224938 words/s, in_qsize 16, out_qsize 0\n",
      "INFO - 16:24:35: EPOCH 571: training on 2135928 raw words (1561330 effective words) took 1.2s, 1250457 effective words/s\n"
     ]
    },
    {
     "name": "stdout",
     "output_type": "stream",
     "text": [
      "Loss after epoch 571: 0.0\n"
     ]
    },
    {
     "name": "stderr",
     "output_type": "stream",
     "text": [
      "INFO - 16:24:36: EPOCH 572 - PROGRESS: at 78.31% examples, 1251720 words/s, in_qsize 12, out_qsize 3\n",
      "INFO - 16:24:36: EPOCH 572: training on 2135928 raw words (1561622 effective words) took 1.2s, 1289671 effective words/s\n"
     ]
    },
    {
     "name": "stdout",
     "output_type": "stream",
     "text": [
      "Loss after epoch 572: 0.0\n"
     ]
    },
    {
     "name": "stderr",
     "output_type": "stream",
     "text": [
      "INFO - 16:24:37: EPOCH 573 - PROGRESS: at 77.47% examples, 1235706 words/s, in_qsize 12, out_qsize 3\n",
      "INFO - 16:24:37: EPOCH 573: training on 2135928 raw words (1561501 effective words) took 1.2s, 1281829 effective words/s\n"
     ]
    },
    {
     "name": "stdout",
     "output_type": "stream",
     "text": [
      "Loss after epoch 573: 0.0\n"
     ]
    },
    {
     "name": "stderr",
     "output_type": "stream",
     "text": [
      "INFO - 16:24:38: EPOCH 574 - PROGRESS: at 78.34% examples, 1231442 words/s, in_qsize 15, out_qsize 0\n",
      "INFO - 16:24:38: EPOCH 574: training on 2135928 raw words (1560930 effective words) took 1.2s, 1271440 effective words/s\n"
     ]
    },
    {
     "name": "stdout",
     "output_type": "stream",
     "text": [
      "Loss after epoch 574: 0.0\n"
     ]
    },
    {
     "name": "stderr",
     "output_type": "stream",
     "text": [
      "INFO - 16:24:39: EPOCH 575 - PROGRESS: at 76.57% examples, 1223574 words/s, in_qsize 15, out_qsize 0\n",
      "INFO - 16:24:40: EPOCH 575: training on 2135928 raw words (1561305 effective words) took 1.3s, 1246762 effective words/s\n"
     ]
    },
    {
     "name": "stdout",
     "output_type": "stream",
     "text": [
      "Loss after epoch 575: 0.0\n"
     ]
    },
    {
     "name": "stderr",
     "output_type": "stream",
     "text": [
      "INFO - 16:24:41: EPOCH 576 - PROGRESS: at 74.85% examples, 1194260 words/s, in_qsize 15, out_qsize 0\n",
      "INFO - 16:24:41: EPOCH 576: training on 2135928 raw words (1561404 effective words) took 1.3s, 1239954 effective words/s\n"
     ]
    },
    {
     "name": "stdout",
     "output_type": "stream",
     "text": [
      "Loss after epoch 576: 0.0\n"
     ]
    },
    {
     "name": "stderr",
     "output_type": "stream",
     "text": [
      "INFO - 16:24:42: EPOCH 577 - PROGRESS: at 77.00% examples, 1223350 words/s, in_qsize 15, out_qsize 0\n",
      "INFO - 16:24:42: EPOCH 577: training on 2135928 raw words (1561804 effective words) took 1.2s, 1257883 effective words/s\n"
     ]
    },
    {
     "name": "stdout",
     "output_type": "stream",
     "text": [
      "Loss after epoch 577: 0.0\n"
     ]
    },
    {
     "name": "stderr",
     "output_type": "stream",
     "text": [
      "INFO - 16:24:43: EPOCH 578 - PROGRESS: at 78.34% examples, 1231404 words/s, in_qsize 15, out_qsize 1\n",
      "INFO - 16:24:43: EPOCH 578: training on 2135928 raw words (1561212 effective words) took 1.2s, 1265052 effective words/s\n"
     ]
    },
    {
     "name": "stdout",
     "output_type": "stream",
     "text": [
      "Loss after epoch 578: 0.0\n"
     ]
    },
    {
     "name": "stderr",
     "output_type": "stream",
     "text": [
      "INFO - 16:24:44: EPOCH 579 - PROGRESS: at 76.12% examples, 1209748 words/s, in_qsize 15, out_qsize 0\n",
      "INFO - 16:24:45: EPOCH 579: training on 2135928 raw words (1561291 effective words) took 1.3s, 1240865 effective words/s\n"
     ]
    },
    {
     "name": "stdout",
     "output_type": "stream",
     "text": [
      "Loss after epoch 579: 0.0\n"
     ]
    },
    {
     "name": "stderr",
     "output_type": "stream",
     "text": [
      "INFO - 16:24:46: EPOCH 580 - PROGRESS: at 77.91% examples, 1241491 words/s, in_qsize 15, out_qsize 0\n",
      "INFO - 16:24:46: EPOCH 580: training on 2135928 raw words (1560818 effective words) took 1.2s, 1275086 effective words/s\n"
     ]
    },
    {
     "name": "stdout",
     "output_type": "stream",
     "text": [
      "Loss after epoch 580: 0.0\n"
     ]
    },
    {
     "name": "stderr",
     "output_type": "stream",
     "text": [
      "INFO - 16:24:47: EPOCH 581 - PROGRESS: at 80.07% examples, 1272982 words/s, in_qsize 15, out_qsize 0\n",
      "INFO - 16:24:47: EPOCH 581: training on 2135928 raw words (1560655 effective words) took 1.2s, 1304105 effective words/s\n"
     ]
    },
    {
     "name": "stdout",
     "output_type": "stream",
     "text": [
      "Loss after epoch 581: 0.0\n"
     ]
    },
    {
     "name": "stderr",
     "output_type": "stream",
     "text": [
      "INFO - 16:24:48: EPOCH 582 - PROGRESS: at 79.65% examples, 1274283 words/s, in_qsize 16, out_qsize 0\n",
      "INFO - 16:24:48: EPOCH 582: training on 2135928 raw words (1560899 effective words) took 1.2s, 1294323 effective words/s\n"
     ]
    },
    {
     "name": "stdout",
     "output_type": "stream",
     "text": [
      "Loss after epoch 582: 0.0\n"
     ]
    },
    {
     "name": "stderr",
     "output_type": "stream",
     "text": [
      "INFO - 16:24:49: EPOCH 583 - PROGRESS: at 77.91% examples, 1241186 words/s, in_qsize 16, out_qsize 0\n",
      "INFO - 16:24:50: EPOCH 583: training on 2135928 raw words (1561518 effective words) took 1.2s, 1266574 effective words/s\n"
     ]
    },
    {
     "name": "stdout",
     "output_type": "stream",
     "text": [
      "Loss after epoch 583: 0.0\n"
     ]
    },
    {
     "name": "stderr",
     "output_type": "stream",
     "text": [
      "INFO - 16:24:51: EPOCH 584 - PROGRESS: at 77.43% examples, 1208222 words/s, in_qsize 15, out_qsize 0\n",
      "INFO - 16:24:51: EPOCH 584: training on 2135928 raw words (1561829 effective words) took 1.2s, 1258740 effective words/s\n"
     ]
    },
    {
     "name": "stdout",
     "output_type": "stream",
     "text": [
      "Loss after epoch 584: 0.0\n"
     ]
    },
    {
     "name": "stderr",
     "output_type": "stream",
     "text": [
      "INFO - 16:24:52: EPOCH 585 - PROGRESS: at 76.14% examples, 1213185 words/s, in_qsize 13, out_qsize 2\n",
      "INFO - 16:24:52: EPOCH 585: training on 2135928 raw words (1561046 effective words) took 1.2s, 1249978 effective words/s\n"
     ]
    },
    {
     "name": "stdout",
     "output_type": "stream",
     "text": [
      "Loss after epoch 585: 0.0\n"
     ]
    },
    {
     "name": "stderr",
     "output_type": "stream",
     "text": [
      "INFO - 16:24:53: EPOCH 586 - PROGRESS: at 77.00% examples, 1230127 words/s, in_qsize 16, out_qsize 0\n",
      "INFO - 16:24:53: EPOCH 586: training on 2135928 raw words (1560622 effective words) took 1.2s, 1264710 effective words/s\n"
     ]
    },
    {
     "name": "stdout",
     "output_type": "stream",
     "text": [
      "Loss after epoch 586: 0.0\n"
     ]
    },
    {
     "name": "stderr",
     "output_type": "stream",
     "text": [
      "INFO - 16:24:54: EPOCH 587 - PROGRESS: at 76.57% examples, 1221919 words/s, in_qsize 13, out_qsize 2\n",
      "INFO - 16:24:55: EPOCH 587: training on 2135928 raw words (1561252 effective words) took 1.2s, 1270775 effective words/s\n"
     ]
    },
    {
     "name": "stdout",
     "output_type": "stream",
     "text": [
      "Loss after epoch 587: 0.0\n"
     ]
    },
    {
     "name": "stderr",
     "output_type": "stream",
     "text": [
      "INFO - 16:24:56: EPOCH 588 - PROGRESS: at 77.91% examples, 1241735 words/s, in_qsize 16, out_qsize 1\n",
      "INFO - 16:24:56: EPOCH 588: training on 2135928 raw words (1561376 effective words) took 1.2s, 1274904 effective words/s\n"
     ]
    },
    {
     "name": "stdout",
     "output_type": "stream",
     "text": [
      "Loss after epoch 588: 0.0\n"
     ]
    },
    {
     "name": "stderr",
     "output_type": "stream",
     "text": [
      "INFO - 16:24:57: EPOCH 589 - PROGRESS: at 77.91% examples, 1206533 words/s, in_qsize 15, out_qsize 0\n",
      "INFO - 16:24:57: EPOCH 589: training on 2135928 raw words (1561037 effective words) took 1.2s, 1254742 effective words/s\n"
     ]
    },
    {
     "name": "stdout",
     "output_type": "stream",
     "text": [
      "Loss after epoch 589: 0.0\n"
     ]
    },
    {
     "name": "stderr",
     "output_type": "stream",
     "text": [
      "INFO - 16:24:58: EPOCH 590 - PROGRESS: at 76.57% examples, 1220741 words/s, in_qsize 14, out_qsize 1\n",
      "INFO - 16:24:58: EPOCH 590: training on 2135928 raw words (1559435 effective words) took 1.2s, 1266044 effective words/s\n"
     ]
    },
    {
     "name": "stdout",
     "output_type": "stream",
     "text": [
      "Loss after epoch 590: 0.0\n"
     ]
    },
    {
     "name": "stderr",
     "output_type": "stream",
     "text": [
      "INFO - 16:24:59: EPOCH 591 - PROGRESS: at 77.44% examples, 1233374 words/s, in_qsize 15, out_qsize 0\n",
      "INFO - 16:25:00: EPOCH 591: training on 2135928 raw words (1561254 effective words) took 1.2s, 1273732 effective words/s\n"
     ]
    },
    {
     "name": "stdout",
     "output_type": "stream",
     "text": [
      "Loss after epoch 591: 0.0\n"
     ]
    },
    {
     "name": "stderr",
     "output_type": "stream",
     "text": [
      "INFO - 16:25:01: EPOCH 592 - PROGRESS: at 76.61% examples, 1221220 words/s, in_qsize 13, out_qsize 2\n",
      "INFO - 16:25:01: EPOCH 592: training on 2135928 raw words (1561822 effective words) took 1.2s, 1261011 effective words/s\n"
     ]
    },
    {
     "name": "stdout",
     "output_type": "stream",
     "text": [
      "Loss after epoch 592: 0.0\n"
     ]
    },
    {
     "name": "stderr",
     "output_type": "stream",
     "text": [
      "INFO - 16:25:02: EPOCH 593 - PROGRESS: at 77.43% examples, 1238270 words/s, in_qsize 15, out_qsize 0\n",
      "INFO - 16:25:02: EPOCH 593: training on 2135928 raw words (1560837 effective words) took 1.2s, 1269278 effective words/s\n"
     ]
    },
    {
     "name": "stdout",
     "output_type": "stream",
     "text": [
      "Loss after epoch 593: 0.0\n"
     ]
    },
    {
     "name": "stderr",
     "output_type": "stream",
     "text": [
      "INFO - 16:25:03: EPOCH 594 - PROGRESS: at 78.78% examples, 1248613 words/s, in_qsize 13, out_qsize 2\n",
      "INFO - 16:25:03: EPOCH 594: training on 2135928 raw words (1561595 effective words) took 1.2s, 1280343 effective words/s\n"
     ]
    },
    {
     "name": "stdout",
     "output_type": "stream",
     "text": [
      "Loss after epoch 594: 0.0\n"
     ]
    },
    {
     "name": "stderr",
     "output_type": "stream",
     "text": [
      "INFO - 16:25:04: EPOCH 595 - PROGRESS: at 74.39% examples, 1183600 words/s, in_qsize 16, out_qsize 1\n",
      "INFO - 16:25:05: EPOCH 595: training on 2135928 raw words (1561658 effective words) took 1.3s, 1219684 effective words/s\n"
     ]
    },
    {
     "name": "stdout",
     "output_type": "stream",
     "text": [
      "Loss after epoch 595: 0.0\n"
     ]
    },
    {
     "name": "stderr",
     "output_type": "stream",
     "text": [
      "INFO - 16:25:06: EPOCH 596 - PROGRESS: at 79.64% examples, 1277702 words/s, in_qsize 16, out_qsize 0\n",
      "INFO - 16:25:06: EPOCH 596: training on 2135928 raw words (1561270 effective words) took 1.2s, 1261964 effective words/s\n"
     ]
    },
    {
     "name": "stdout",
     "output_type": "stream",
     "text": [
      "Loss after epoch 596: 0.0\n"
     ]
    },
    {
     "name": "stderr",
     "output_type": "stream",
     "text": [
      "INFO - 16:25:07: EPOCH 597 - PROGRESS: at 44.27% examples, 667714 words/s, in_qsize 15, out_qsize 0\n",
      "INFO - 16:25:08: EPOCH 597 - PROGRESS: at 72.30% examples, 560197 words/s, in_qsize 14, out_qsize 1\n",
      "INFO - 16:25:09: EPOCH 597: training on 2135928 raw words (1560822 effective words) took 2.9s, 539070 effective words/s\n"
     ]
    },
    {
     "name": "stdout",
     "output_type": "stream",
     "text": [
      "Loss after epoch 597: 0.0\n"
     ]
    },
    {
     "name": "stderr",
     "output_type": "stream",
     "text": [
      "INFO - 16:25:10: EPOCH 598 - PROGRESS: at 24.41% examples, 392395 words/s, in_qsize 16, out_qsize 0\n",
      "INFO - 16:25:11: EPOCH 598 - PROGRESS: at 52.13% examples, 405110 words/s, in_qsize 14, out_qsize 1\n",
      "INFO - 16:25:12: EPOCH 598 - PROGRESS: at 77.91% examples, 410766 words/s, in_qsize 14, out_qsize 3\n",
      "INFO - 16:25:12: EPOCH 598: training on 2135928 raw words (1560808 effective words) took 3.7s, 425810 effective words/s\n"
     ]
    },
    {
     "name": "stdout",
     "output_type": "stream",
     "text": [
      "Loss after epoch 598: 0.0\n"
     ]
    },
    {
     "name": "stderr",
     "output_type": "stream",
     "text": [
      "INFO - 16:25:13: EPOCH 599 - PROGRESS: at 24.41% examples, 393110 words/s, in_qsize 15, out_qsize 1\n",
      "INFO - 16:25:14: EPOCH 599 - PROGRESS: at 53.70% examples, 408541 words/s, in_qsize 15, out_qsize 0\n",
      "INFO - 16:25:15: EPOCH 599 - PROGRESS: at 78.78% examples, 414569 words/s, in_qsize 15, out_qsize 0\n",
      "INFO - 16:25:16: EPOCH 599: training on 2135928 raw words (1561326 effective words) took 3.6s, 430718 effective words/s\n"
     ]
    },
    {
     "name": "stdout",
     "output_type": "stream",
     "text": [
      "Loss after epoch 599: 0.0\n"
     ]
    },
    {
     "name": "stderr",
     "output_type": "stream",
     "text": [
      "INFO - 16:25:17: EPOCH 600 - PROGRESS: at 23.55% examples, 363863 words/s, in_qsize 16, out_qsize 2\n",
      "INFO - 16:25:18: EPOCH 600 - PROGRESS: at 54.59% examples, 412431 words/s, in_qsize 15, out_qsize 0\n",
      "INFO - 16:25:19: EPOCH 600 - PROGRESS: at 79.21% examples, 412407 words/s, in_qsize 13, out_qsize 2\n",
      "INFO - 16:25:20: EPOCH 600: training on 2135928 raw words (1560815 effective words) took 3.7s, 426604 effective words/s\n"
     ]
    },
    {
     "name": "stdout",
     "output_type": "stream",
     "text": [
      "Loss after epoch 600: 0.0\n"
     ]
    },
    {
     "name": "stderr",
     "output_type": "stream",
     "text": [
      "INFO - 16:25:21: EPOCH 601 - PROGRESS: at 24.41% examples, 389297 words/s, in_qsize 16, out_qsize 0\n",
      "INFO - 16:25:22: EPOCH 601 - PROGRESS: at 53.05% examples, 407740 words/s, in_qsize 15, out_qsize 0\n",
      "INFO - 16:25:23: EPOCH 601 - PROGRESS: at 78.78% examples, 416254 words/s, in_qsize 13, out_qsize 2\n",
      "INFO - 16:25:23: EPOCH 601: training on 2135928 raw words (1561511 effective words) took 3.6s, 432706 effective words/s\n"
     ]
    },
    {
     "name": "stdout",
     "output_type": "stream",
     "text": [
      "Loss after epoch 601: 0.0\n"
     ]
    },
    {
     "name": "stderr",
     "output_type": "stream",
     "text": [
      "INFO - 16:25:24: EPOCH 602 - PROGRESS: at 23.97% examples, 385563 words/s, in_qsize 16, out_qsize 2\n",
      "INFO - 16:25:25: EPOCH 602 - PROGRESS: at 52.58% examples, 408423 words/s, in_qsize 15, out_qsize 0\n",
      "INFO - 16:25:26: EPOCH 602 - PROGRESS: at 78.34% examples, 412296 words/s, in_qsize 16, out_qsize 1\n",
      "INFO - 16:25:27: EPOCH 602: training on 2135928 raw words (1560963 effective words) took 3.6s, 429638 effective words/s\n"
     ]
    },
    {
     "name": "stdout",
     "output_type": "stream",
     "text": [
      "Loss after epoch 602: 0.0\n"
     ]
    },
    {
     "name": "stderr",
     "output_type": "stream",
     "text": [
      "INFO - 16:25:28: EPOCH 603 - PROGRESS: at 24.41% examples, 390841 words/s, in_qsize 15, out_qsize 0\n",
      "INFO - 16:25:29: EPOCH 603 - PROGRESS: at 53.70% examples, 411679 words/s, in_qsize 16, out_qsize 0\n",
      "INFO - 16:25:30: EPOCH 603 - PROGRESS: at 79.21% examples, 416535 words/s, in_qsize 14, out_qsize 1\n",
      "INFO - 16:25:31: EPOCH 603: training on 2135928 raw words (1561343 effective words) took 3.6s, 430302 effective words/s\n"
     ]
    },
    {
     "name": "stdout",
     "output_type": "stream",
     "text": [
      "Loss after epoch 603: 0.0\n"
     ]
    },
    {
     "name": "stderr",
     "output_type": "stream",
     "text": [
      "INFO - 16:25:32: EPOCH 604 - PROGRESS: at 24.86% examples, 393880 words/s, in_qsize 15, out_qsize 0\n",
      "INFO - 16:25:33: EPOCH 604 - PROGRESS: at 51.63% examples, 396168 words/s, in_qsize 14, out_qsize 3\n",
      "INFO - 16:25:34: EPOCH 604 - PROGRESS: at 79.65% examples, 416005 words/s, in_qsize 16, out_qsize 2\n",
      "INFO - 16:25:34: EPOCH 604: training on 2135928 raw words (1560545 effective words) took 3.6s, 433879 effective words/s\n"
     ]
    },
    {
     "name": "stdout",
     "output_type": "stream",
     "text": [
      "Loss after epoch 604: 0.0\n"
     ]
    },
    {
     "name": "stderr",
     "output_type": "stream",
     "text": [
      "INFO - 16:25:35: EPOCH 605 - PROGRESS: at 25.30% examples, 406131 words/s, in_qsize 15, out_qsize 1\n",
      "INFO - 16:25:36: EPOCH 605 - PROGRESS: at 51.66% examples, 394365 words/s, in_qsize 14, out_qsize 1\n",
      "INFO - 16:25:37: EPOCH 605 - PROGRESS: at 78.78% examples, 415011 words/s, in_qsize 16, out_qsize 0\n",
      "INFO - 16:25:38: EPOCH 605: training on 2135928 raw words (1561156 effective words) took 3.6s, 430091 effective words/s\n"
     ]
    },
    {
     "name": "stdout",
     "output_type": "stream",
     "text": [
      "Loss after epoch 605: 0.0\n"
     ]
    },
    {
     "name": "stderr",
     "output_type": "stream",
     "text": [
      "INFO - 16:25:39: EPOCH 606 - PROGRESS: at 24.86% examples, 390664 words/s, in_qsize 15, out_qsize 0\n",
      "INFO - 16:25:40: EPOCH 606 - PROGRESS: at 53.48% examples, 406377 words/s, in_qsize 15, out_qsize 0\n",
      "INFO - 16:25:41: EPOCH 606 - PROGRESS: at 80.08% examples, 410958 words/s, in_qsize 15, out_qsize 2\n",
      "INFO - 16:25:42: EPOCH 606: training on 2135928 raw words (1560588 effective words) took 3.6s, 432986 effective words/s\n"
     ]
    },
    {
     "name": "stdout",
     "output_type": "stream",
     "text": [
      "Loss after epoch 606: 0.0\n"
     ]
    },
    {
     "name": "stderr",
     "output_type": "stream",
     "text": [
      "INFO - 16:25:43: EPOCH 607 - PROGRESS: at 26.62% examples, 412383 words/s, in_qsize 15, out_qsize 0\n",
      "INFO - 16:25:44: EPOCH 607 - PROGRESS: at 55.40% examples, 422311 words/s, in_qsize 16, out_qsize 0\n",
      "INFO - 16:25:45: EPOCH 607 - PROGRESS: at 80.93% examples, 427477 words/s, in_qsize 14, out_qsize 1\n",
      "INFO - 16:25:45: EPOCH 607: training on 2135928 raw words (1560950 effective words) took 3.6s, 435098 effective words/s\n"
     ]
    },
    {
     "name": "stdout",
     "output_type": "stream",
     "text": [
      "Loss after epoch 607: 0.0\n"
     ]
    },
    {
     "name": "stderr",
     "output_type": "stream",
     "text": [
      "INFO - 16:25:46: EPOCH 608 - PROGRESS: at 21.77% examples, 350848 words/s, in_qsize 16, out_qsize 0\n",
      "INFO - 16:25:47: EPOCH 608 - PROGRESS: at 48.40% examples, 373520 words/s, in_qsize 13, out_qsize 2\n",
      "INFO - 16:25:48: EPOCH 608 - PROGRESS: at 77.04% examples, 405937 words/s, in_qsize 15, out_qsize 0\n",
      "INFO - 16:25:49: EPOCH 608: training on 2135928 raw words (1561326 effective words) took 3.7s, 420699 effective words/s\n"
     ]
    },
    {
     "name": "stdout",
     "output_type": "stream",
     "text": [
      "Loss after epoch 608: 0.0\n"
     ]
    },
    {
     "name": "stderr",
     "output_type": "stream",
     "text": [
      "INFO - 16:25:50: EPOCH 609 - PROGRESS: at 23.54% examples, 378501 words/s, in_qsize 15, out_qsize 0\n",
      "INFO - 16:25:51: EPOCH 609 - PROGRESS: at 53.05% examples, 407331 words/s, in_qsize 14, out_qsize 1\n",
      "INFO - 16:25:52: EPOCH 609 - PROGRESS: at 77.04% examples, 404590 words/s, in_qsize 13, out_qsize 6\n",
      "INFO - 16:25:53: EPOCH 609: training on 2135928 raw words (1560398 effective words) took 3.6s, 432754 effective words/s\n"
     ]
    },
    {
     "name": "stdout",
     "output_type": "stream",
     "text": [
      "Loss after epoch 609: 0.0\n"
     ]
    },
    {
     "name": "stderr",
     "output_type": "stream",
     "text": [
      "INFO - 16:25:54: EPOCH 610 - PROGRESS: at 26.62% examples, 417409 words/s, in_qsize 15, out_qsize 0\n",
      "INFO - 16:25:55: EPOCH 610 - PROGRESS: at 56.25% examples, 426835 words/s, in_qsize 16, out_qsize 0\n",
      "INFO - 16:25:56: EPOCH 610 - PROGRESS: at 83.55% examples, 437715 words/s, in_qsize 15, out_qsize 0\n",
      "INFO - 16:25:56: EPOCH 610: training on 2135928 raw words (1561873 effective words) took 3.4s, 453395 effective words/s\n"
     ]
    },
    {
     "name": "stdout",
     "output_type": "stream",
     "text": [
      "Loss after epoch 610: 0.0\n"
     ]
    },
    {
     "name": "stderr",
     "output_type": "stream",
     "text": [
      "INFO - 16:25:57: EPOCH 611 - PROGRESS: at 23.10% examples, 369751 words/s, in_qsize 15, out_qsize 0\n",
      "INFO - 16:25:58: EPOCH 611 - PROGRESS: at 53.70% examples, 411619 words/s, in_qsize 15, out_qsize 0\n",
      "INFO - 16:25:59: EPOCH 611 - PROGRESS: at 79.64% examples, 422309 words/s, in_qsize 16, out_qsize 0\n",
      "INFO - 16:26:00: EPOCH 611: training on 2135928 raw words (1562388 effective words) took 3.6s, 436019 effective words/s\n"
     ]
    },
    {
     "name": "stdout",
     "output_type": "stream",
     "text": [
      "Loss after epoch 611: 0.0\n"
     ]
    },
    {
     "name": "stderr",
     "output_type": "stream",
     "text": [
      "INFO - 16:26:01: EPOCH 612 - PROGRESS: at 24.41% examples, 387444 words/s, in_qsize 16, out_qsize 0\n",
      "INFO - 16:26:02: EPOCH 612 - PROGRESS: at 52.58% examples, 402094 words/s, in_qsize 15, out_qsize 0\n",
      "INFO - 16:26:03: EPOCH 612 - PROGRESS: at 80.51% examples, 419622 words/s, in_qsize 15, out_qsize 0\n",
      "INFO - 16:26:03: EPOCH 612: training on 2135928 raw words (1562259 effective words) took 3.6s, 428296 effective words/s\n"
     ]
    },
    {
     "name": "stdout",
     "output_type": "stream",
     "text": [
      "Loss after epoch 612: 0.0\n"
     ]
    },
    {
     "name": "stderr",
     "output_type": "stream",
     "text": [
      "INFO - 16:26:04: EPOCH 613 - PROGRESS: at 23.97% examples, 383721 words/s, in_qsize 15, out_qsize 0\n",
      "INFO - 16:26:05: EPOCH 613 - PROGRESS: at 52.58% examples, 396627 words/s, in_qsize 15, out_qsize 0\n",
      "INFO - 16:26:06: EPOCH 613 - PROGRESS: at 78.34% examples, 409256 words/s, in_qsize 16, out_qsize 0\n",
      "INFO - 16:26:07: EPOCH 613: training on 2135928 raw words (1561451 effective words) took 3.7s, 417227 effective words/s\n"
     ]
    },
    {
     "name": "stdout",
     "output_type": "stream",
     "text": [
      "Loss after epoch 613: 0.0\n"
     ]
    },
    {
     "name": "stderr",
     "output_type": "stream",
     "text": [
      "INFO - 16:26:08: EPOCH 614 - PROGRESS: at 22.22% examples, 342051 words/s, in_qsize 15, out_qsize 0\n",
      "INFO - 16:26:09: EPOCH 614 - PROGRESS: at 69.38% examples, 536225 words/s, in_qsize 16, out_qsize 0\n",
      "INFO - 16:26:09: EPOCH 614: training on 2135928 raw words (1561857 effective words) took 2.4s, 654714 effective words/s\n"
     ]
    },
    {
     "name": "stdout",
     "output_type": "stream",
     "text": [
      "Loss after epoch 614: 0.0\n"
     ]
    },
    {
     "name": "stderr",
     "output_type": "stream",
     "text": [
      "INFO - 16:26:10: EPOCH 615 - PROGRESS: at 81.81% examples, 1313141 words/s, in_qsize 16, out_qsize 0\n",
      "INFO - 16:26:11: EPOCH 615: training on 2135928 raw words (1561152 effective words) took 1.2s, 1328105 effective words/s\n"
     ]
    },
    {
     "name": "stdout",
     "output_type": "stream",
     "text": [
      "Loss after epoch 615: 0.0\n"
     ]
    },
    {
     "name": "stderr",
     "output_type": "stream",
     "text": [
      "INFO - 16:26:12: EPOCH 616 - PROGRESS: at 79.21% examples, 1267643 words/s, in_qsize 15, out_qsize 0\n",
      "INFO - 16:26:12: EPOCH 616: training on 2135928 raw words (1561306 effective words) took 1.2s, 1285984 effective words/s\n"
     ]
    },
    {
     "name": "stdout",
     "output_type": "stream",
     "text": [
      "Loss after epoch 616: 0.0\n"
     ]
    },
    {
     "name": "stderr",
     "output_type": "stream",
     "text": [
      "INFO - 16:26:13: EPOCH 617 - PROGRESS: at 77.48% examples, 1229997 words/s, in_qsize 13, out_qsize 2\n",
      "INFO - 16:26:13: EPOCH 617: training on 2135928 raw words (1560760 effective words) took 1.2s, 1259424 effective words/s\n"
     ]
    },
    {
     "name": "stdout",
     "output_type": "stream",
     "text": [
      "Loss after epoch 617: 0.0\n"
     ]
    },
    {
     "name": "stderr",
     "output_type": "stream",
     "text": [
      "INFO - 16:26:14: EPOCH 618 - PROGRESS: at 77.00% examples, 1232441 words/s, in_qsize 14, out_qsize 1\n",
      "INFO - 16:26:14: EPOCH 618: training on 2135928 raw words (1560971 effective words) took 1.2s, 1270731 effective words/s\n"
     ]
    },
    {
     "name": "stdout",
     "output_type": "stream",
     "text": [
      "Loss after epoch 618: 0.0\n"
     ]
    },
    {
     "name": "stderr",
     "output_type": "stream",
     "text": [
      "INFO - 16:26:15: EPOCH 619 - PROGRESS: at 77.44% examples, 1236189 words/s, in_qsize 15, out_qsize 0\n",
      "INFO - 16:26:16: EPOCH 619: training on 2135928 raw words (1561414 effective words) took 1.2s, 1274533 effective words/s\n"
     ]
    },
    {
     "name": "stdout",
     "output_type": "stream",
     "text": [
      "Loss after epoch 619: 0.0\n"
     ]
    },
    {
     "name": "stderr",
     "output_type": "stream",
     "text": [
      "INFO - 16:26:17: EPOCH 620 - PROGRESS: at 76.14% examples, 1210048 words/s, in_qsize 16, out_qsize 0\n",
      "INFO - 16:26:17: EPOCH 620: training on 2135928 raw words (1560836 effective words) took 1.3s, 1244907 effective words/s\n"
     ]
    },
    {
     "name": "stdout",
     "output_type": "stream",
     "text": [
      "Loss after epoch 620: 0.0\n"
     ]
    },
    {
     "name": "stderr",
     "output_type": "stream",
     "text": [
      "INFO - 16:26:18: EPOCH 621 - PROGRESS: at 75.69% examples, 1205549 words/s, in_qsize 16, out_qsize 1\n",
      "INFO - 16:26:18: EPOCH 621: training on 2135928 raw words (1560874 effective words) took 1.3s, 1246409 effective words/s\n"
     ]
    },
    {
     "name": "stdout",
     "output_type": "stream",
     "text": [
      "Loss after epoch 621: 0.0\n"
     ]
    },
    {
     "name": "stderr",
     "output_type": "stream",
     "text": [
      "INFO - 16:26:19: EPOCH 622 - PROGRESS: at 77.44% examples, 1240137 words/s, in_qsize 15, out_qsize 0\n",
      "INFO - 16:26:19: EPOCH 622: training on 2135928 raw words (1560448 effective words) took 1.2s, 1279076 effective words/s\n"
     ]
    },
    {
     "name": "stdout",
     "output_type": "stream",
     "text": [
      "Loss after epoch 622: 0.0\n"
     ]
    },
    {
     "name": "stderr",
     "output_type": "stream",
     "text": [
      "INFO - 16:26:20: EPOCH 623 - PROGRESS: at 79.65% examples, 1271851 words/s, in_qsize 16, out_qsize 0\n",
      "INFO - 16:26:21: EPOCH 623: training on 2135928 raw words (1560857 effective words) took 1.2s, 1303413 effective words/s\n"
     ]
    },
    {
     "name": "stdout",
     "output_type": "stream",
     "text": [
      "Loss after epoch 623: 0.0\n"
     ]
    },
    {
     "name": "stderr",
     "output_type": "stream",
     "text": [
      "INFO - 16:26:22: EPOCH 624 - PROGRESS: at 77.00% examples, 1231745 words/s, in_qsize 15, out_qsize 0\n",
      "INFO - 16:26:22: EPOCH 624: training on 2135928 raw words (1560771 effective words) took 1.2s, 1260246 effective words/s\n"
     ]
    },
    {
     "name": "stdout",
     "output_type": "stream",
     "text": [
      "Loss after epoch 624: 0.0\n"
     ]
    },
    {
     "name": "stderr",
     "output_type": "stream",
     "text": [
      "INFO - 16:26:23: EPOCH 625 - PROGRESS: at 75.26% examples, 1199457 words/s, in_qsize 15, out_qsize 0\n",
      "INFO - 16:26:23: EPOCH 625: training on 2135928 raw words (1561460 effective words) took 1.3s, 1239258 effective words/s\n"
     ]
    },
    {
     "name": "stdout",
     "output_type": "stream",
     "text": [
      "Loss after epoch 625: 0.0\n"
     ]
    },
    {
     "name": "stderr",
     "output_type": "stream",
     "text": [
      "INFO - 16:26:24: EPOCH 626 - PROGRESS: at 74.83% examples, 1194961 words/s, in_qsize 13, out_qsize 2\n",
      "INFO - 16:26:24: EPOCH 626: training on 2135928 raw words (1560638 effective words) took 1.2s, 1250501 effective words/s\n"
     ]
    },
    {
     "name": "stdout",
     "output_type": "stream",
     "text": [
      "Loss after epoch 626: 0.0\n"
     ]
    },
    {
     "name": "stderr",
     "output_type": "stream",
     "text": [
      "INFO - 16:26:25: EPOCH 627 - PROGRESS: at 79.21% examples, 1253173 words/s, in_qsize 15, out_qsize 0\n",
      "INFO - 16:26:25: EPOCH 627: training on 2135928 raw words (1561436 effective words) took 1.2s, 1293877 effective words/s\n"
     ]
    },
    {
     "name": "stdout",
     "output_type": "stream",
     "text": [
      "Loss after epoch 627: 0.0\n"
     ]
    },
    {
     "name": "stderr",
     "output_type": "stream",
     "text": [
      "INFO - 16:26:27: EPOCH 628 - PROGRESS: at 76.57% examples, 1219098 words/s, in_qsize 15, out_qsize 1\n",
      "INFO - 16:26:27: EPOCH 628: training on 2135928 raw words (1560706 effective words) took 1.2s, 1250108 effective words/s\n"
     ]
    },
    {
     "name": "stdout",
     "output_type": "stream",
     "text": [
      "Loss after epoch 628: 0.0\n"
     ]
    },
    {
     "name": "stderr",
     "output_type": "stream",
     "text": [
      "INFO - 16:26:28: EPOCH 629 - PROGRESS: at 76.57% examples, 1225041 words/s, in_qsize 16, out_qsize 0\n",
      "INFO - 16:26:28: EPOCH 629: training on 2135928 raw words (1561749 effective words) took 1.2s, 1277034 effective words/s\n"
     ]
    },
    {
     "name": "stdout",
     "output_type": "stream",
     "text": [
      "Loss after epoch 629: 0.0\n"
     ]
    },
    {
     "name": "stderr",
     "output_type": "stream",
     "text": [
      "INFO - 16:26:29: EPOCH 630 - PROGRESS: at 78.77% examples, 1257539 words/s, in_qsize 13, out_qsize 2\n",
      "INFO - 16:26:29: EPOCH 630: training on 2135928 raw words (1561356 effective words) took 1.2s, 1292618 effective words/s\n"
     ]
    },
    {
     "name": "stdout",
     "output_type": "stream",
     "text": [
      "Loss after epoch 630: 0.0\n"
     ]
    },
    {
     "name": "stderr",
     "output_type": "stream",
     "text": [
      "INFO - 16:26:30: EPOCH 631 - PROGRESS: at 78.34% examples, 1249267 words/s, in_qsize 15, out_qsize 0\n",
      "INFO - 16:26:30: EPOCH 631: training on 2135928 raw words (1560943 effective words) took 1.2s, 1283399 effective words/s\n"
     ]
    },
    {
     "name": "stdout",
     "output_type": "stream",
     "text": [
      "Loss after epoch 631: 0.0\n"
     ]
    },
    {
     "name": "stderr",
     "output_type": "stream",
     "text": [
      "INFO - 16:26:31: EPOCH 632 - PROGRESS: at 78.34% examples, 1246250 words/s, in_qsize 16, out_qsize 0\n",
      "INFO - 16:26:32: EPOCH 632: training on 2135928 raw words (1561112 effective words) took 1.2s, 1269716 effective words/s\n"
     ]
    },
    {
     "name": "stdout",
     "output_type": "stream",
     "text": [
      "Loss after epoch 632: 0.0\n"
     ]
    },
    {
     "name": "stderr",
     "output_type": "stream",
     "text": [
      "INFO - 16:26:33: EPOCH 633 - PROGRESS: at 76.12% examples, 1216893 words/s, in_qsize 13, out_qsize 2\n",
      "INFO - 16:26:33: EPOCH 633: training on 2135928 raw words (1561136 effective words) took 1.2s, 1260246 effective words/s\n"
     ]
    },
    {
     "name": "stdout",
     "output_type": "stream",
     "text": [
      "Loss after epoch 633: 0.0\n"
     ]
    },
    {
     "name": "stderr",
     "output_type": "stream",
     "text": [
      "INFO - 16:26:34: EPOCH 634 - PROGRESS: at 77.90% examples, 1240957 words/s, in_qsize 16, out_qsize 1\n",
      "INFO - 16:26:34: EPOCH 634: training on 2135928 raw words (1561581 effective words) took 1.2s, 1283889 effective words/s\n"
     ]
    },
    {
     "name": "stdout",
     "output_type": "stream",
     "text": [
      "Loss after epoch 634: 0.0\n"
     ]
    },
    {
     "name": "stderr",
     "output_type": "stream",
     "text": [
      "INFO - 16:26:35: EPOCH 635 - PROGRESS: at 78.34% examples, 1239922 words/s, in_qsize 16, out_qsize 0\n",
      "INFO - 16:26:35: EPOCH 635: training on 2135928 raw words (1561235 effective words) took 1.2s, 1278919 effective words/s\n"
     ]
    },
    {
     "name": "stdout",
     "output_type": "stream",
     "text": [
      "Loss after epoch 635: 0.0\n"
     ]
    },
    {
     "name": "stderr",
     "output_type": "stream",
     "text": [
      "INFO - 16:26:36: EPOCH 636 - PROGRESS: at 77.90% examples, 1242408 words/s, in_qsize 15, out_qsize 0\n",
      "INFO - 16:26:37: EPOCH 636: training on 2135928 raw words (1561225 effective words) took 1.2s, 1265900 effective words/s\n"
     ]
    },
    {
     "name": "stdout",
     "output_type": "stream",
     "text": [
      "Loss after epoch 636: 0.0\n"
     ]
    },
    {
     "name": "stderr",
     "output_type": "stream",
     "text": [
      "INFO - 16:26:38: EPOCH 637 - PROGRESS: at 77.47% examples, 1240981 words/s, in_qsize 16, out_qsize 0\n",
      "INFO - 16:26:38: EPOCH 637: training on 2135928 raw words (1561772 effective words) took 1.3s, 1240080 effective words/s\n"
     ]
    },
    {
     "name": "stdout",
     "output_type": "stream",
     "text": [
      "Loss after epoch 637: 0.0\n"
     ]
    },
    {
     "name": "stderr",
     "output_type": "stream",
     "text": [
      "INFO - 16:26:39: EPOCH 638 - PROGRESS: at 76.57% examples, 1221893 words/s, in_qsize 13, out_qsize 2\n",
      "INFO - 16:26:39: EPOCH 638: training on 2135928 raw words (1560752 effective words) took 1.2s, 1249564 effective words/s\n"
     ]
    },
    {
     "name": "stdout",
     "output_type": "stream",
     "text": [
      "Loss after epoch 638: 0.0\n"
     ]
    },
    {
     "name": "stderr",
     "output_type": "stream",
     "text": [
      "INFO - 16:26:40: EPOCH 639 - PROGRESS: at 77.91% examples, 1244170 words/s, in_qsize 16, out_qsize 0\n",
      "INFO - 16:26:40: EPOCH 639: training on 2135928 raw words (1560167 effective words) took 1.2s, 1266790 effective words/s\n"
     ]
    },
    {
     "name": "stdout",
     "output_type": "stream",
     "text": [
      "Loss after epoch 639: 0.0\n"
     ]
    },
    {
     "name": "stderr",
     "output_type": "stream",
     "text": [
      "INFO - 16:26:41: EPOCH 640 - PROGRESS: at 77.91% examples, 1231011 words/s, in_qsize 11, out_qsize 4\n",
      "INFO - 16:26:42: EPOCH 640: training on 2135928 raw words (1561779 effective words) took 1.2s, 1280395 effective words/s\n"
     ]
    },
    {
     "name": "stdout",
     "output_type": "stream",
     "text": [
      "Loss after epoch 640: 0.0\n"
     ]
    },
    {
     "name": "stderr",
     "output_type": "stream",
     "text": [
      "INFO - 16:26:43: EPOCH 641 - PROGRESS: at 78.34% examples, 1248823 words/s, in_qsize 16, out_qsize 0\n",
      "INFO - 16:26:43: EPOCH 641: training on 2135928 raw words (1561560 effective words) took 1.2s, 1271315 effective words/s\n"
     ]
    },
    {
     "name": "stdout",
     "output_type": "stream",
     "text": [
      "Loss after epoch 641: 0.0\n"
     ]
    },
    {
     "name": "stderr",
     "output_type": "stream",
     "text": [
      "INFO - 16:26:44: EPOCH 642 - PROGRESS: at 76.14% examples, 1213432 words/s, in_qsize 15, out_qsize 0\n",
      "INFO - 16:26:44: EPOCH 642: training on 2135928 raw words (1560953 effective words) took 1.2s, 1255633 effective words/s\n"
     ]
    },
    {
     "name": "stdout",
     "output_type": "stream",
     "text": [
      "Loss after epoch 642: 0.0\n"
     ]
    },
    {
     "name": "stderr",
     "output_type": "stream",
     "text": [
      "INFO - 16:26:45: EPOCH 643 - PROGRESS: at 76.61% examples, 1209632 words/s, in_qsize 15, out_qsize 0\n",
      "INFO - 16:26:45: EPOCH 643: training on 2135928 raw words (1561627 effective words) took 1.2s, 1254910 effective words/s\n"
     ]
    },
    {
     "name": "stdout",
     "output_type": "stream",
     "text": [
      "Loss after epoch 643: 0.0\n"
     ]
    },
    {
     "name": "stderr",
     "output_type": "stream",
     "text": [
      "INFO - 16:26:46: EPOCH 644 - PROGRESS: at 77.43% examples, 1226429 words/s, in_qsize 12, out_qsize 3\n",
      "INFO - 16:26:47: EPOCH 644: training on 2135928 raw words (1561064 effective words) took 1.2s, 1256827 effective words/s\n"
     ]
    },
    {
     "name": "stdout",
     "output_type": "stream",
     "text": [
      "Loss after epoch 644: 0.0\n"
     ]
    },
    {
     "name": "stderr",
     "output_type": "stream",
     "text": [
      "INFO - 16:26:48: EPOCH 645 - PROGRESS: at 79.65% examples, 1278603 words/s, in_qsize 15, out_qsize 0\n",
      "INFO - 16:26:48: EPOCH 645: training on 2135928 raw words (1561301 effective words) took 1.2s, 1297732 effective words/s\n"
     ]
    },
    {
     "name": "stdout",
     "output_type": "stream",
     "text": [
      "Loss after epoch 645: 0.0\n"
     ]
    },
    {
     "name": "stderr",
     "output_type": "stream",
     "text": [
      "INFO - 16:26:49: EPOCH 646 - PROGRESS: at 75.69% examples, 1209587 words/s, in_qsize 15, out_qsize 0\n",
      "INFO - 16:26:49: EPOCH 646: training on 2135928 raw words (1560840 effective words) took 1.2s, 1261255 effective words/s\n"
     ]
    },
    {
     "name": "stdout",
     "output_type": "stream",
     "text": [
      "Loss after epoch 646: 0.0\n"
     ]
    },
    {
     "name": "stderr",
     "output_type": "stream",
     "text": [
      "INFO - 16:26:50: EPOCH 647 - PROGRESS: at 79.64% examples, 1253141 words/s, in_qsize 15, out_qsize 0\n",
      "INFO - 16:26:50: EPOCH 647: training on 2135928 raw words (1560781 effective words) took 1.2s, 1308859 effective words/s\n"
     ]
    },
    {
     "name": "stdout",
     "output_type": "stream",
     "text": [
      "Loss after epoch 647: 0.0\n"
     ]
    },
    {
     "name": "stderr",
     "output_type": "stream",
     "text": [
      "INFO - 16:26:51: EPOCH 648 - PROGRESS: at 79.65% examples, 1271877 words/s, in_qsize 16, out_qsize 1\n",
      "INFO - 16:26:51: EPOCH 648: training on 2135928 raw words (1561316 effective words) took 1.2s, 1290876 effective words/s\n"
     ]
    },
    {
     "name": "stdout",
     "output_type": "stream",
     "text": [
      "Loss after epoch 648: 0.0\n"
     ]
    },
    {
     "name": "stderr",
     "output_type": "stream",
     "text": [
      "INFO - 16:26:53: EPOCH 649 - PROGRESS: at 69.78% examples, 1090976 words/s, in_qsize 14, out_qsize 1\n",
      "INFO - 16:26:53: EPOCH 649: training on 2135928 raw words (1561112 effective words) took 1.4s, 1152431 effective words/s\n"
     ]
    },
    {
     "name": "stdout",
     "output_type": "stream",
     "text": [
      "Loss after epoch 649: 0.0\n"
     ]
    },
    {
     "name": "stderr",
     "output_type": "stream",
     "text": [
      "INFO - 16:26:54: EPOCH 650 - PROGRESS: at 77.47% examples, 1240265 words/s, in_qsize 16, out_qsize 0\n",
      "INFO - 16:26:54: EPOCH 650: training on 2135928 raw words (1560924 effective words) took 1.2s, 1254345 effective words/s\n"
     ]
    },
    {
     "name": "stdout",
     "output_type": "stream",
     "text": [
      "Loss after epoch 650: 0.0\n"
     ]
    },
    {
     "name": "stderr",
     "output_type": "stream",
     "text": [
      "INFO - 16:26:55: EPOCH 651 - PROGRESS: at 78.34% examples, 1255187 words/s, in_qsize 16, out_qsize 0\n",
      "INFO - 16:26:55: EPOCH 651: training on 2135928 raw words (1561428 effective words) took 1.2s, 1274658 effective words/s\n"
     ]
    },
    {
     "name": "stdout",
     "output_type": "stream",
     "text": [
      "Loss after epoch 651: 0.0\n"
     ]
    },
    {
     "name": "stderr",
     "output_type": "stream",
     "text": [
      "INFO - 16:26:56: EPOCH 652 - PROGRESS: at 77.90% examples, 1231612 words/s, in_qsize 14, out_qsize 1\n",
      "INFO - 16:26:57: EPOCH 652: training on 2135928 raw words (1560973 effective words) took 1.2s, 1264934 effective words/s\n"
     ]
    },
    {
     "name": "stdout",
     "output_type": "stream",
     "text": [
      "Loss after epoch 652: 0.0\n"
     ]
    },
    {
     "name": "stderr",
     "output_type": "stream",
     "text": [
      "INFO - 16:26:58: EPOCH 653 - PROGRESS: at 74.39% examples, 1184670 words/s, in_qsize 16, out_qsize 1\n",
      "INFO - 16:26:58: EPOCH 653: training on 2135928 raw words (1561104 effective words) took 1.4s, 1146617 effective words/s\n"
     ]
    },
    {
     "name": "stdout",
     "output_type": "stream",
     "text": [
      "Loss after epoch 653: 0.0\n"
     ]
    },
    {
     "name": "stderr",
     "output_type": "stream",
     "text": [
      "INFO - 16:26:59: EPOCH 654 - PROGRESS: at 57.96% examples, 885271 words/s, in_qsize 15, out_qsize 0\n",
      "INFO - 16:27:00: EPOCH 654: training on 2135928 raw words (1560883 effective words) took 1.6s, 961189 effective words/s\n"
     ]
    },
    {
     "name": "stdout",
     "output_type": "stream",
     "text": [
      "Loss after epoch 654: 0.0\n"
     ]
    },
    {
     "name": "stderr",
     "output_type": "stream",
     "text": [
      "INFO - 16:27:01: EPOCH 655 - PROGRESS: at 73.13% examples, 1157599 words/s, in_qsize 14, out_qsize 1\n",
      "INFO - 16:27:01: EPOCH 655: training on 2135928 raw words (1560513 effective words) took 1.3s, 1164330 effective words/s\n"
     ]
    },
    {
     "name": "stdout",
     "output_type": "stream",
     "text": [
      "Loss after epoch 655: 0.0\n"
     ]
    },
    {
     "name": "stderr",
     "output_type": "stream",
     "text": [
      "INFO - 16:27:02: EPOCH 656 - PROGRESS: at 69.37% examples, 1089426 words/s, in_qsize 14, out_qsize 1\n",
      "INFO - 16:27:02: EPOCH 656: training on 2135928 raw words (1560678 effective words) took 1.4s, 1131955 effective words/s\n"
     ]
    },
    {
     "name": "stdout",
     "output_type": "stream",
     "text": [
      "Loss after epoch 656: 0.0\n"
     ]
    },
    {
     "name": "stderr",
     "output_type": "stream",
     "text": [
      "INFO - 16:27:03: EPOCH 657 - PROGRESS: at 72.30% examples, 1148320 words/s, in_qsize 15, out_qsize 0\n",
      "INFO - 16:27:04: EPOCH 657: training on 2135928 raw words (1561456 effective words) took 1.3s, 1182853 effective words/s\n"
     ]
    },
    {
     "name": "stdout",
     "output_type": "stream",
     "text": [
      "Loss after epoch 657: 0.0\n"
     ]
    },
    {
     "name": "stderr",
     "output_type": "stream",
     "text": [
      "INFO - 16:27:05: EPOCH 658 - PROGRESS: at 76.12% examples, 1194800 words/s, in_qsize 15, out_qsize 0\n",
      "INFO - 16:27:05: EPOCH 658: training on 2135928 raw words (1560739 effective words) took 1.2s, 1251053 effective words/s\n"
     ]
    },
    {
     "name": "stdout",
     "output_type": "stream",
     "text": [
      "Loss after epoch 658: 0.0\n"
     ]
    },
    {
     "name": "stderr",
     "output_type": "stream",
     "text": [
      "INFO - 16:27:06: EPOCH 659 - PROGRESS: at 64.22% examples, 1001363 words/s, in_qsize 14, out_qsize 1\n",
      "INFO - 16:27:06: EPOCH 659: training on 2135928 raw words (1560946 effective words) took 1.5s, 1026740 effective words/s\n"
     ]
    },
    {
     "name": "stdout",
     "output_type": "stream",
     "text": [
      "Loss after epoch 659: 0.0\n"
     ]
    },
    {
     "name": "stderr",
     "output_type": "stream",
     "text": [
      "INFO - 16:27:07: EPOCH 660 - PROGRESS: at 72.72% examples, 1150358 words/s, in_qsize 15, out_qsize 0\n",
      "INFO - 16:27:08: EPOCH 660: training on 2135928 raw words (1561262 effective words) took 1.3s, 1203767 effective words/s\n"
     ]
    },
    {
     "name": "stdout",
     "output_type": "stream",
     "text": [
      "Loss after epoch 660: 0.0\n"
     ]
    },
    {
     "name": "stderr",
     "output_type": "stream",
     "text": [
      "INFO - 16:27:09: EPOCH 661 - PROGRESS: at 68.53% examples, 1075299 words/s, in_qsize 15, out_qsize 0\n",
      "INFO - 16:27:09: EPOCH 661: training on 2135928 raw words (1561600 effective words) took 1.4s, 1105273 effective words/s\n"
     ]
    },
    {
     "name": "stdout",
     "output_type": "stream",
     "text": [
      "Loss after epoch 661: 0.0\n"
     ]
    },
    {
     "name": "stderr",
     "output_type": "stream",
     "text": [
      "INFO - 16:27:10: EPOCH 662 - PROGRESS: at 68.98% examples, 1087879 words/s, in_qsize 13, out_qsize 2\n",
      "INFO - 16:27:11: EPOCH 662: training on 2135928 raw words (1560226 effective words) took 1.4s, 1150516 effective words/s\n"
     ]
    },
    {
     "name": "stdout",
     "output_type": "stream",
     "text": [
      "Loss after epoch 662: 0.0\n"
     ]
    },
    {
     "name": "stderr",
     "output_type": "stream",
     "text": [
      "INFO - 16:27:12: EPOCH 663 - PROGRESS: at 76.57% examples, 1208731 words/s, in_qsize 15, out_qsize 0\n",
      "INFO - 16:27:12: EPOCH 663: training on 2135928 raw words (1560954 effective words) took 1.2s, 1260356 effective words/s\n"
     ]
    },
    {
     "name": "stdout",
     "output_type": "stream",
     "text": [
      "Loss after epoch 663: 0.0\n"
     ]
    },
    {
     "name": "stderr",
     "output_type": "stream",
     "text": [
      "INFO - 16:27:13: EPOCH 664 - PROGRESS: at 77.48% examples, 1233517 words/s, in_qsize 16, out_qsize 0\n",
      "INFO - 16:27:13: EPOCH 664: training on 2135928 raw words (1560384 effective words) took 1.2s, 1272093 effective words/s\n"
     ]
    },
    {
     "name": "stdout",
     "output_type": "stream",
     "text": [
      "Loss after epoch 664: 0.0\n"
     ]
    },
    {
     "name": "stderr",
     "output_type": "stream",
     "text": [
      "INFO - 16:27:14: EPOCH 665 - PROGRESS: at 77.91% examples, 1241172 words/s, in_qsize 15, out_qsize 0\n",
      "INFO - 16:27:14: EPOCH 665: training on 2135928 raw words (1560755 effective words) took 1.2s, 1269641 effective words/s\n"
     ]
    },
    {
     "name": "stdout",
     "output_type": "stream",
     "text": [
      "Loss after epoch 665: 0.0\n"
     ]
    },
    {
     "name": "stderr",
     "output_type": "stream",
     "text": [
      "INFO - 16:27:15: EPOCH 666 - PROGRESS: at 75.27% examples, 1201393 words/s, in_qsize 12, out_qsize 3\n",
      "INFO - 16:27:16: EPOCH 666: training on 2135928 raw words (1561078 effective words) took 1.3s, 1246590 effective words/s\n"
     ]
    },
    {
     "name": "stdout",
     "output_type": "stream",
     "text": [
      "Loss after epoch 666: 0.0\n"
     ]
    },
    {
     "name": "stderr",
     "output_type": "stream",
     "text": [
      "INFO - 16:27:17: EPOCH 667 - PROGRESS: at 73.95% examples, 1149958 words/s, in_qsize 15, out_qsize 0\n",
      "INFO - 16:27:17: EPOCH 667: training on 2135928 raw words (1560870 effective words) took 1.4s, 1146488 effective words/s\n"
     ]
    },
    {
     "name": "stdout",
     "output_type": "stream",
     "text": [
      "Loss after epoch 667: 0.0\n"
     ]
    },
    {
     "name": "stderr",
     "output_type": "stream",
     "text": [
      "INFO - 16:27:18: EPOCH 668 - PROGRESS: at 62.93% examples, 979793 words/s, in_qsize 14, out_qsize 1\n",
      "INFO - 16:27:18: EPOCH 668: training on 2135928 raw words (1561179 effective words) took 1.5s, 1052626 effective words/s\n"
     ]
    },
    {
     "name": "stdout",
     "output_type": "stream",
     "text": [
      "Loss after epoch 668: 0.0\n"
     ]
    },
    {
     "name": "stderr",
     "output_type": "stream",
     "text": [
      "INFO - 16:27:19: EPOCH 669 - PROGRESS: at 65.58% examples, 1017862 words/s, in_qsize 15, out_qsize 0\n",
      "INFO - 16:27:20: EPOCH 669: training on 2135928 raw words (1561481 effective words) took 1.4s, 1090111 effective words/s\n"
     ]
    },
    {
     "name": "stdout",
     "output_type": "stream",
     "text": [
      "Loss after epoch 669: 0.0\n"
     ]
    },
    {
     "name": "stderr",
     "output_type": "stream",
     "text": [
      "INFO - 16:27:21: EPOCH 670 - PROGRESS: at 56.22% examples, 876837 words/s, in_qsize 15, out_qsize 0\n",
      "INFO - 16:27:22: EPOCH 670: training on 2135928 raw words (1560766 effective words) took 1.8s, 867470 effective words/s\n"
     ]
    },
    {
     "name": "stdout",
     "output_type": "stream",
     "text": [
      "Loss after epoch 670: 0.0\n"
     ]
    },
    {
     "name": "stderr",
     "output_type": "stream",
     "text": [
      "INFO - 16:27:23: EPOCH 671 - PROGRESS: at 54.57% examples, 831517 words/s, in_qsize 15, out_qsize 0\n",
      "INFO - 16:27:23: EPOCH 671: training on 2135928 raw words (1561131 effective words) took 1.8s, 851044 effective words/s\n"
     ]
    },
    {
     "name": "stdout",
     "output_type": "stream",
     "text": [
      "Loss after epoch 671: 0.0\n"
     ]
    },
    {
     "name": "stderr",
     "output_type": "stream",
     "text": [
      "INFO - 16:27:25: EPOCH 672 - PROGRESS: at 50.26% examples, 766901 words/s, in_qsize 15, out_qsize 0\n",
      "INFO - 16:27:25: EPOCH 672: training on 2135928 raw words (1561345 effective words) took 1.7s, 905175 effective words/s\n"
     ]
    },
    {
     "name": "stdout",
     "output_type": "stream",
     "text": [
      "Loss after epoch 672: 0.0\n"
     ]
    },
    {
     "name": "stderr",
     "output_type": "stream",
     "text": [
      "INFO - 16:27:26: EPOCH 673 - PROGRESS: at 57.52% examples, 882762 words/s, in_qsize 15, out_qsize 0\n",
      "INFO - 16:27:27: EPOCH 673: training on 2135928 raw words (1560511 effective words) took 1.7s, 941057 effective words/s\n"
     ]
    },
    {
     "name": "stdout",
     "output_type": "stream",
     "text": [
      "Loss after epoch 673: 0.0\n"
     ]
    },
    {
     "name": "stderr",
     "output_type": "stream",
     "text": [
      "INFO - 16:27:28: EPOCH 674 - PROGRESS: at 64.66% examples, 1010691 words/s, in_qsize 15, out_qsize 0\n",
      "INFO - 16:27:28: EPOCH 674: training on 2135928 raw words (1560969 effective words) took 1.5s, 1042279 effective words/s\n"
     ]
    },
    {
     "name": "stdout",
     "output_type": "stream",
     "text": [
      "Loss after epoch 674: 0.0\n"
     ]
    },
    {
     "name": "stderr",
     "output_type": "stream",
     "text": [
      "INFO - 16:27:29: EPOCH 675 - PROGRESS: at 61.22% examples, 953203 words/s, in_qsize 14, out_qsize 1\n",
      "INFO - 16:27:30: EPOCH 675: training on 2135928 raw words (1560800 effective words) took 1.7s, 945025 effective words/s\n"
     ]
    },
    {
     "name": "stdout",
     "output_type": "stream",
     "text": [
      "Loss after epoch 675: 0.0\n"
     ]
    },
    {
     "name": "stderr",
     "output_type": "stream",
     "text": [
      "INFO - 16:27:31: EPOCH 676 - PROGRESS: at 59.35% examples, 922284 words/s, in_qsize 15, out_qsize 0\n",
      "INFO - 16:27:32: EPOCH 676: training on 2135928 raw words (1560805 effective words) took 1.7s, 931701 effective words/s\n"
     ]
    },
    {
     "name": "stdout",
     "output_type": "stream",
     "text": [
      "Loss after epoch 676: 0.0\n"
     ]
    },
    {
     "name": "stderr",
     "output_type": "stream",
     "text": [
      "INFO - 16:27:33: EPOCH 677 - PROGRESS: at 65.56% examples, 1007386 words/s, in_qsize 14, out_qsize 1\n",
      "INFO - 16:27:33: EPOCH 677: training on 2135928 raw words (1560907 effective words) took 1.5s, 1035386 effective words/s\n"
     ]
    },
    {
     "name": "stdout",
     "output_type": "stream",
     "text": [
      "Loss after epoch 677: 0.0\n"
     ]
    },
    {
     "name": "stderr",
     "output_type": "stream",
     "text": [
      "INFO - 16:27:34: EPOCH 678 - PROGRESS: at 57.99% examples, 899435 words/s, in_qsize 15, out_qsize 0\n",
      "INFO - 16:27:35: EPOCH 678: training on 2135928 raw words (1560399 effective words) took 1.6s, 998797 effective words/s\n"
     ]
    },
    {
     "name": "stdout",
     "output_type": "stream",
     "text": [
      "Loss after epoch 678: 0.0\n"
     ]
    },
    {
     "name": "stderr",
     "output_type": "stream",
     "text": [
      "INFO - 16:27:36: EPOCH 679 - PROGRESS: at 62.09% examples, 962537 words/s, in_qsize 15, out_qsize 1\n",
      "INFO - 16:27:36: EPOCH 679: training on 2135928 raw words (1560899 effective words) took 1.5s, 1010130 effective words/s\n"
     ]
    },
    {
     "name": "stdout",
     "output_type": "stream",
     "text": [
      "Loss after epoch 679: 0.0\n"
     ]
    },
    {
     "name": "stderr",
     "output_type": "stream",
     "text": [
      "INFO - 16:27:37: EPOCH 680 - PROGRESS: at 64.23% examples, 1010044 words/s, in_qsize 15, out_qsize 0\n",
      "INFO - 16:27:38: EPOCH 680: training on 2135928 raw words (1560778 effective words) took 1.5s, 1035992 effective words/s\n"
     ]
    },
    {
     "name": "stdout",
     "output_type": "stream",
     "text": [
      "Loss after epoch 680: 0.0\n"
     ]
    },
    {
     "name": "stderr",
     "output_type": "stream",
     "text": [
      "INFO - 16:27:39: EPOCH 681 - PROGRESS: at 61.66% examples, 949203 words/s, in_qsize 15, out_qsize 0\n",
      "INFO - 16:27:40: EPOCH 681: training on 2135928 raw words (1561121 effective words) took 1.6s, 973056 effective words/s\n"
     ]
    },
    {
     "name": "stdout",
     "output_type": "stream",
     "text": [
      "Loss after epoch 681: 0.0\n"
     ]
    },
    {
     "name": "stderr",
     "output_type": "stream",
     "text": [
      "INFO - 16:27:41: EPOCH 682 - PROGRESS: at 56.62% examples, 883264 words/s, in_qsize 15, out_qsize 0\n",
      "INFO - 16:27:41: EPOCH 682: training on 2135928 raw words (1561169 effective words) took 1.6s, 963396 effective words/s\n"
     ]
    },
    {
     "name": "stdout",
     "output_type": "stream",
     "text": [
      "Loss after epoch 682: 0.0\n"
     ]
    },
    {
     "name": "stderr",
     "output_type": "stream",
     "text": [
      "INFO - 16:27:42: EPOCH 683 - PROGRESS: at 71.89% examples, 1142034 words/s, in_qsize 16, out_qsize 0\n",
      "INFO - 16:27:42: EPOCH 683: training on 2135928 raw words (1561557 effective words) took 1.3s, 1200324 effective words/s\n"
     ]
    },
    {
     "name": "stdout",
     "output_type": "stream",
     "text": [
      "Loss after epoch 683: 0.0\n"
     ]
    },
    {
     "name": "stderr",
     "output_type": "stream",
     "text": [
      "INFO - 16:27:44: EPOCH 684 - PROGRESS: at 57.99% examples, 887997 words/s, in_qsize 12, out_qsize 3\n",
      "INFO - 16:27:44: EPOCH 684: training on 2135928 raw words (1561555 effective words) took 1.6s, 960714 effective words/s\n"
     ]
    },
    {
     "name": "stdout",
     "output_type": "stream",
     "text": [
      "Loss after epoch 684: 0.0\n"
     ]
    },
    {
     "name": "stderr",
     "output_type": "stream",
     "text": [
      "INFO - 16:27:45: EPOCH 685 - PROGRESS: at 58.45% examples, 907561 words/s, in_qsize 16, out_qsize 1\n",
      "INFO - 16:27:46: EPOCH 685: training on 2135928 raw words (1560623 effective words) took 1.7s, 942809 effective words/s\n"
     ]
    },
    {
     "name": "stdout",
     "output_type": "stream",
     "text": [
      "Loss after epoch 685: 0.0\n"
     ]
    },
    {
     "name": "stderr",
     "output_type": "stream",
     "text": [
      "INFO - 16:27:47: EPOCH 686 - PROGRESS: at 65.11% examples, 1009014 words/s, in_qsize 13, out_qsize 2\n",
      "INFO - 16:27:47: EPOCH 686: training on 2135928 raw words (1560962 effective words) took 1.5s, 1053374 effective words/s\n"
     ]
    },
    {
     "name": "stdout",
     "output_type": "stream",
     "text": [
      "Loss after epoch 686: 0.0\n"
     ]
    },
    {
     "name": "stderr",
     "output_type": "stream",
     "text": [
      "INFO - 16:27:48: EPOCH 687 - PROGRESS: at 67.72% examples, 1066736 words/s, in_qsize 15, out_qsize 0\n",
      "INFO - 16:27:49: EPOCH 687: training on 2135928 raw words (1560954 effective words) took 1.4s, 1094475 effective words/s\n"
     ]
    },
    {
     "name": "stdout",
     "output_type": "stream",
     "text": [
      "Loss after epoch 687: 0.0\n"
     ]
    },
    {
     "name": "stderr",
     "output_type": "stream",
     "text": [
      "INFO - 16:27:50: EPOCH 688 - PROGRESS: at 65.56% examples, 1013280 words/s, in_qsize 15, out_qsize 0\n",
      "INFO - 16:27:50: EPOCH 688: training on 2135928 raw words (1560406 effective words) took 1.5s, 1038002 effective words/s\n"
     ]
    },
    {
     "name": "stdout",
     "output_type": "stream",
     "text": [
      "Loss after epoch 688: 0.0\n"
     ]
    },
    {
     "name": "stderr",
     "output_type": "stream",
     "text": [
      "INFO - 16:27:51: EPOCH 689 - PROGRESS: at 68.93% examples, 1080157 words/s, in_qsize 15, out_qsize 0\n",
      "INFO - 16:27:52: EPOCH 689: training on 2135928 raw words (1561328 effective words) took 1.4s, 1112893 effective words/s\n"
     ]
    },
    {
     "name": "stdout",
     "output_type": "stream",
     "text": [
      "Loss after epoch 689: 0.0\n"
     ]
    },
    {
     "name": "stderr",
     "output_type": "stream",
     "text": [
      "INFO - 16:27:53: EPOCH 690 - PROGRESS: at 67.32% examples, 1052033 words/s, in_qsize 16, out_qsize 0\n",
      "INFO - 16:27:53: EPOCH 690: training on 2135928 raw words (1560762 effective words) took 1.4s, 1088589 effective words/s\n"
     ]
    },
    {
     "name": "stdout",
     "output_type": "stream",
     "text": [
      "Loss after epoch 690: 0.0\n"
     ]
    },
    {
     "name": "stderr",
     "output_type": "stream",
     "text": [
      "INFO - 16:27:54: EPOCH 691 - PROGRESS: at 69.38% examples, 1094742 words/s, in_qsize 14, out_qsize 1\n",
      "INFO - 16:27:54: EPOCH 691: training on 2135928 raw words (1561045 effective words) took 1.4s, 1122172 effective words/s\n"
     ]
    },
    {
     "name": "stdout",
     "output_type": "stream",
     "text": [
      "Loss after epoch 691: 0.0\n"
     ]
    },
    {
     "name": "stderr",
     "output_type": "stream",
     "text": [
      "INFO - 16:27:55: EPOCH 692 - PROGRESS: at 67.32% examples, 1058471 words/s, in_qsize 15, out_qsize 0\n",
      "INFO - 16:27:56: EPOCH 692: training on 2135928 raw words (1561358 effective words) took 1.4s, 1082970 effective words/s\n"
     ]
    },
    {
     "name": "stdout",
     "output_type": "stream",
     "text": [
      "Loss after epoch 692: 0.0\n"
     ]
    },
    {
     "name": "stderr",
     "output_type": "stream",
     "text": [
      "INFO - 16:27:57: EPOCH 693 - PROGRESS: at 67.32% examples, 1055560 words/s, in_qsize 14, out_qsize 1\n",
      "INFO - 16:27:57: EPOCH 693: training on 2135928 raw words (1560734 effective words) took 1.4s, 1080041 effective words/s\n"
     ]
    },
    {
     "name": "stdout",
     "output_type": "stream",
     "text": [
      "Loss after epoch 693: 0.0\n"
     ]
    },
    {
     "name": "stderr",
     "output_type": "stream",
     "text": [
      "INFO - 16:27:58: EPOCH 694 - PROGRESS: at 67.72% examples, 1047075 words/s, in_qsize 14, out_qsize 1\n",
      "INFO - 16:27:59: EPOCH 694: training on 2135928 raw words (1561993 effective words) took 1.4s, 1088199 effective words/s\n"
     ]
    },
    {
     "name": "stdout",
     "output_type": "stream",
     "text": [
      "Loss after epoch 694: 0.0\n"
     ]
    },
    {
     "name": "stderr",
     "output_type": "stream",
     "text": [
      "INFO - 16:28:00: EPOCH 695 - PROGRESS: at 66.01% examples, 1033825 words/s, in_qsize 14, out_qsize 1\n",
      "INFO - 16:28:00: EPOCH 695: training on 2135928 raw words (1561736 effective words) took 1.5s, 1076075 effective words/s\n"
     ]
    },
    {
     "name": "stdout",
     "output_type": "stream",
     "text": [
      "Loss after epoch 695: 0.0\n"
     ]
    },
    {
     "name": "stderr",
     "output_type": "stream",
     "text": [
      "INFO - 16:28:01: EPOCH 696 - PROGRESS: at 67.32% examples, 1048507 words/s, in_qsize 14, out_qsize 1\n",
      "INFO - 16:28:02: EPOCH 696: training on 2135928 raw words (1560929 effective words) took 1.4s, 1081538 effective words/s\n"
     ]
    },
    {
     "name": "stdout",
     "output_type": "stream",
     "text": [
      "Loss after epoch 696: 0.0\n"
     ]
    },
    {
     "name": "stderr",
     "output_type": "stream",
     "text": [
      "INFO - 16:28:03: EPOCH 697 - PROGRESS: at 67.32% examples, 1057497 words/s, in_qsize 15, out_qsize 0\n",
      "INFO - 16:28:03: EPOCH 697: training on 2135928 raw words (1561229 effective words) took 1.4s, 1085317 effective words/s\n"
     ]
    },
    {
     "name": "stdout",
     "output_type": "stream",
     "text": [
      "Loss after epoch 697: 0.0\n"
     ]
    },
    {
     "name": "stderr",
     "output_type": "stream",
     "text": [
      "INFO - 16:28:04: EPOCH 698 - PROGRESS: at 65.58% examples, 1026875 words/s, in_qsize 12, out_qsize 3\n",
      "INFO - 16:28:05: EPOCH 698: training on 2135928 raw words (1562198 effective words) took 1.4s, 1083813 effective words/s\n"
     ]
    },
    {
     "name": "stdout",
     "output_type": "stream",
     "text": [
      "Loss after epoch 698: 0.0\n"
     ]
    },
    {
     "name": "stderr",
     "output_type": "stream",
     "text": [
      "INFO - 16:28:06: EPOCH 699 - PROGRESS: at 68.13% examples, 1069267 words/s, in_qsize 16, out_qsize 0\n",
      "INFO - 16:28:06: EPOCH 699: training on 2135928 raw words (1561170 effective words) took 1.5s, 1075407 effective words/s\n"
     ]
    },
    {
     "name": "stdout",
     "output_type": "stream",
     "text": [
      "Loss after epoch 699: 0.0\n"
     ]
    },
    {
     "name": "stderr",
     "output_type": "stream",
     "text": [
      "INFO - 16:28:07: EPOCH 700 - PROGRESS: at 67.72% examples, 1068996 words/s, in_qsize 14, out_qsize 1\n",
      "INFO - 16:28:08: EPOCH 700: training on 2135928 raw words (1561698 effective words) took 1.4s, 1100828 effective words/s\n"
     ]
    },
    {
     "name": "stdout",
     "output_type": "stream",
     "text": [
      "Loss after epoch 700: 0.0\n"
     ]
    },
    {
     "name": "stderr",
     "output_type": "stream",
     "text": [
      "INFO - 16:28:09: EPOCH 701 - PROGRESS: at 66.93% examples, 1053317 words/s, in_qsize 15, out_qsize 0\n",
      "INFO - 16:28:09: EPOCH 701: training on 2135928 raw words (1560627 effective words) took 1.4s, 1093835 effective words/s\n"
     ]
    },
    {
     "name": "stdout",
     "output_type": "stream",
     "text": [
      "Loss after epoch 701: 0.0\n"
     ]
    },
    {
     "name": "stderr",
     "output_type": "stream",
     "text": [
      "INFO - 16:28:10: EPOCH 702 - PROGRESS: at 67.72% examples, 1067652 words/s, in_qsize 16, out_qsize 0\n",
      "INFO - 16:28:10: EPOCH 702: training on 2135928 raw words (1560678 effective words) took 1.4s, 1079035 effective words/s\n"
     ]
    },
    {
     "name": "stdout",
     "output_type": "stream",
     "text": [
      "Loss after epoch 702: 0.0\n"
     ]
    },
    {
     "name": "stderr",
     "output_type": "stream",
     "text": [
      "INFO - 16:28:11: EPOCH 703 - PROGRESS: at 67.32% examples, 1057342 words/s, in_qsize 15, out_qsize 0\n",
      "INFO - 16:28:12: EPOCH 703: training on 2135928 raw words (1561543 effective words) took 1.4s, 1084226 effective words/s\n"
     ]
    },
    {
     "name": "stdout",
     "output_type": "stream",
     "text": [
      "Loss after epoch 703: 0.0\n"
     ]
    },
    {
     "name": "stderr",
     "output_type": "stream",
     "text": [
      "INFO - 16:28:13: EPOCH 704 - PROGRESS: at 67.72% examples, 1067145 words/s, in_qsize 15, out_qsize 0\n",
      "INFO - 16:28:13: EPOCH 704: training on 2135928 raw words (1560662 effective words) took 1.4s, 1098146 effective words/s\n"
     ]
    },
    {
     "name": "stdout",
     "output_type": "stream",
     "text": [
      "Loss after epoch 704: 0.0\n"
     ]
    },
    {
     "name": "stderr",
     "output_type": "stream",
     "text": [
      "INFO - 16:28:14: EPOCH 705 - PROGRESS: at 67.33% examples, 1059146 words/s, in_qsize 14, out_qsize 1\n",
      "INFO - 16:28:15: EPOCH 705: training on 2135928 raw words (1560961 effective words) took 1.4s, 1090171 effective words/s\n"
     ]
    },
    {
     "name": "stdout",
     "output_type": "stream",
     "text": [
      "Loss after epoch 705: 0.0\n"
     ]
    },
    {
     "name": "stderr",
     "output_type": "stream",
     "text": [
      "INFO - 16:28:16: EPOCH 706 - PROGRESS: at 69.33% examples, 1087565 words/s, in_qsize 15, out_qsize 0\n",
      "INFO - 16:28:16: EPOCH 706: training on 2135928 raw words (1561840 effective words) took 1.4s, 1128926 effective words/s\n"
     ]
    },
    {
     "name": "stdout",
     "output_type": "stream",
     "text": [
      "Loss after epoch 706: 0.0\n"
     ]
    },
    {
     "name": "stderr",
     "output_type": "stream",
     "text": [
      "INFO - 16:28:17: EPOCH 707 - PROGRESS: at 67.33% examples, 1057441 words/s, in_qsize 15, out_qsize 0\n",
      "INFO - 16:28:18: EPOCH 707: training on 2135928 raw words (1561120 effective words) took 1.5s, 1071913 effective words/s\n"
     ]
    },
    {
     "name": "stdout",
     "output_type": "stream",
     "text": [
      "Loss after epoch 707: 0.0\n"
     ]
    },
    {
     "name": "stderr",
     "output_type": "stream",
     "text": [
      "INFO - 16:28:19: EPOCH 708 - PROGRESS: at 71.46% examples, 1130850 words/s, in_qsize 13, out_qsize 2\n",
      "INFO - 16:28:19: EPOCH 708: training on 2135928 raw words (1561766 effective words) took 1.4s, 1136337 effective words/s\n"
     ]
    },
    {
     "name": "stdout",
     "output_type": "stream",
     "text": [
      "Loss after epoch 708: 0.0\n"
     ]
    },
    {
     "name": "stderr",
     "output_type": "stream",
     "text": [
      "INFO - 16:28:20: EPOCH 709 - PROGRESS: at 72.31% examples, 1140597 words/s, in_qsize 15, out_qsize 0\n",
      "INFO - 16:28:20: EPOCH 709: training on 2135928 raw words (1561013 effective words) took 1.4s, 1108046 effective words/s\n"
     ]
    },
    {
     "name": "stdout",
     "output_type": "stream",
     "text": [
      "Loss after epoch 709: 0.0\n"
     ]
    },
    {
     "name": "stderr",
     "output_type": "stream",
     "text": [
      "INFO - 16:28:21: EPOCH 710 - PROGRESS: at 71.46% examples, 1131309 words/s, in_qsize 16, out_qsize 1\n",
      "INFO - 16:28:22: EPOCH 710: training on 2135928 raw words (1561003 effective words) took 1.3s, 1178960 effective words/s\n"
     ]
    },
    {
     "name": "stdout",
     "output_type": "stream",
     "text": [
      "Loss after epoch 710: 0.0\n"
     ]
    },
    {
     "name": "stderr",
     "output_type": "stream",
     "text": [
      "INFO - 16:28:23: EPOCH 711 - PROGRESS: at 73.12% examples, 1160113 words/s, in_qsize 14, out_qsize 1\n",
      "INFO - 16:28:23: EPOCH 711: training on 2135928 raw words (1561228 effective words) took 1.3s, 1193199 effective words/s\n"
     ]
    },
    {
     "name": "stdout",
     "output_type": "stream",
     "text": [
      "Loss after epoch 711: 0.0\n"
     ]
    },
    {
     "name": "stderr",
     "output_type": "stream",
     "text": [
      "INFO - 16:28:24: EPOCH 712 - PROGRESS: at 66.81% examples, 1049108 words/s, in_qsize 16, out_qsize 2\n",
      "INFO - 16:28:24: EPOCH 712: training on 2135928 raw words (1560781 effective words) took 1.4s, 1132690 effective words/s\n"
     ]
    },
    {
     "name": "stdout",
     "output_type": "stream",
     "text": [
      "Loss after epoch 712: 0.0\n"
     ]
    },
    {
     "name": "stderr",
     "output_type": "stream",
     "text": [
      "INFO - 16:28:25: EPOCH 713 - PROGRESS: at 69.78% examples, 1095711 words/s, in_qsize 15, out_qsize 0\n",
      "INFO - 16:28:26: EPOCH 713: training on 2135928 raw words (1561027 effective words) took 1.4s, 1121440 effective words/s\n"
     ]
    },
    {
     "name": "stdout",
     "output_type": "stream",
     "text": [
      "Loss after epoch 713: 0.0\n"
     ]
    },
    {
     "name": "stderr",
     "output_type": "stream",
     "text": [
      "INFO - 16:28:27: EPOCH 714 - PROGRESS: at 71.46% examples, 1126684 words/s, in_qsize 15, out_qsize 0\n",
      "INFO - 16:28:27: EPOCH 714: training on 2135928 raw words (1561296 effective words) took 1.3s, 1179259 effective words/s\n"
     ]
    },
    {
     "name": "stdout",
     "output_type": "stream",
     "text": [
      "Loss after epoch 714: 0.0\n"
     ]
    },
    {
     "name": "stderr",
     "output_type": "stream",
     "text": [
      "INFO - 16:28:28: EPOCH 715 - PROGRESS: at 75.69% examples, 1207093 words/s, in_qsize 14, out_qsize 1\n",
      "INFO - 16:28:28: EPOCH 715: training on 2135928 raw words (1560936 effective words) took 1.3s, 1239933 effective words/s\n"
     ]
    },
    {
     "name": "stdout",
     "output_type": "stream",
     "text": [
      "Loss after epoch 715: 0.0\n"
     ]
    },
    {
     "name": "stderr",
     "output_type": "stream",
     "text": [
      "INFO - 16:28:29: EPOCH 716 - PROGRESS: at 73.12% examples, 1140187 words/s, in_qsize 15, out_qsize 4\n",
      "INFO - 16:28:30: EPOCH 716: training on 2135928 raw words (1561455 effective words) took 1.3s, 1208005 effective words/s\n"
     ]
    },
    {
     "name": "stdout",
     "output_type": "stream",
     "text": [
      "Loss after epoch 716: 0.0\n"
     ]
    },
    {
     "name": "stderr",
     "output_type": "stream",
     "text": [
      "INFO - 16:28:31: EPOCH 717 - PROGRESS: at 73.97% examples, 1171606 words/s, in_qsize 15, out_qsize 2\n",
      "INFO - 16:28:31: EPOCH 717: training on 2135928 raw words (1560934 effective words) took 1.3s, 1214251 effective words/s\n"
     ]
    },
    {
     "name": "stdout",
     "output_type": "stream",
     "text": [
      "Loss after epoch 717: 0.0\n"
     ]
    },
    {
     "name": "stderr",
     "output_type": "stream",
     "text": [
      "INFO - 16:28:32: EPOCH 718 - PROGRESS: at 75.26% examples, 1202312 words/s, in_qsize 15, out_qsize 0\n",
      "INFO - 16:28:32: EPOCH 718: training on 2135928 raw words (1561258 effective words) took 1.3s, 1224242 effective words/s\n"
     ]
    },
    {
     "name": "stdout",
     "output_type": "stream",
     "text": [
      "Loss after epoch 718: 0.0\n"
     ]
    },
    {
     "name": "stderr",
     "output_type": "stream",
     "text": [
      "INFO - 16:28:33: EPOCH 719 - PROGRESS: at 69.33% examples, 1098194 words/s, in_qsize 16, out_qsize 0\n",
      "INFO - 16:28:34: EPOCH 719: training on 2135928 raw words (1561507 effective words) took 1.4s, 1122389 effective words/s\n"
     ]
    },
    {
     "name": "stdout",
     "output_type": "stream",
     "text": [
      "Loss after epoch 719: 0.0\n"
     ]
    },
    {
     "name": "stderr",
     "output_type": "stream",
     "text": [
      "INFO - 16:28:35: EPOCH 720 - PROGRESS: at 67.32% examples, 1046371 words/s, in_qsize 16, out_qsize 0\n",
      "INFO - 16:28:35: EPOCH 720: training on 2135928 raw words (1560399 effective words) took 1.5s, 1065823 effective words/s\n"
     ]
    },
    {
     "name": "stdout",
     "output_type": "stream",
     "text": [
      "Loss after epoch 720: 0.0\n"
     ]
    },
    {
     "name": "stderr",
     "output_type": "stream",
     "text": [
      "INFO - 16:28:36: EPOCH 721 - PROGRESS: at 63.36% examples, 992931 words/s, in_qsize 13, out_qsize 2\n",
      "INFO - 16:28:37: EPOCH 721: training on 2135928 raw words (1561440 effective words) took 1.6s, 959173 effective words/s\n"
     ]
    },
    {
     "name": "stdout",
     "output_type": "stream",
     "text": [
      "Loss after epoch 721: 0.0\n"
     ]
    },
    {
     "name": "stderr",
     "output_type": "stream",
     "text": [
      "INFO - 16:28:38: EPOCH 722 - PROGRESS: at 59.35% examples, 911223 words/s, in_qsize 14, out_qsize 1\n",
      "INFO - 16:28:38: EPOCH 722: training on 2135928 raw words (1561174 effective words) took 1.6s, 956105 effective words/s\n"
     ]
    },
    {
     "name": "stdout",
     "output_type": "stream",
     "text": [
      "Loss after epoch 722: 0.0\n"
     ]
    },
    {
     "name": "stderr",
     "output_type": "stream",
     "text": [
      "INFO - 16:28:40: EPOCH 723 - PROGRESS: at 58.44% examples, 908833 words/s, in_qsize 14, out_qsize 1\n",
      "INFO - 16:28:40: EPOCH 723: training on 2135928 raw words (1560642 effective words) took 1.6s, 961019 effective words/s\n"
     ]
    },
    {
     "name": "stdout",
     "output_type": "stream",
     "text": [
      "Loss after epoch 723: 0.0\n"
     ]
    },
    {
     "name": "stderr",
     "output_type": "stream",
     "text": [
      "INFO - 16:28:41: EPOCH 724 - PROGRESS: at 63.81% examples, 1003439 words/s, in_qsize 15, out_qsize 0\n",
      "INFO - 16:28:42: EPOCH 724: training on 2135928 raw words (1562080 effective words) took 1.5s, 1028783 effective words/s\n"
     ]
    },
    {
     "name": "stdout",
     "output_type": "stream",
     "text": [
      "Loss after epoch 724: 0.0\n"
     ]
    },
    {
     "name": "stderr",
     "output_type": "stream",
     "text": [
      "INFO - 16:28:43: EPOCH 725 - PROGRESS: at 75.69% examples, 1210339 words/s, in_qsize 16, out_qsize 0\n",
      "INFO - 16:28:43: EPOCH 725: training on 2135928 raw words (1560734 effective words) took 1.3s, 1229129 effective words/s\n"
     ]
    },
    {
     "name": "stdout",
     "output_type": "stream",
     "text": [
      "Loss after epoch 725: 0.0\n"
     ]
    },
    {
     "name": "stderr",
     "output_type": "stream",
     "text": [
      "INFO - 16:28:44: EPOCH 726 - PROGRESS: at 74.40% examples, 1187706 words/s, in_qsize 14, out_qsize 0\n",
      "INFO - 16:28:44: EPOCH 726: training on 2135928 raw words (1560159 effective words) took 1.3s, 1215482 effective words/s\n"
     ]
    },
    {
     "name": "stdout",
     "output_type": "stream",
     "text": [
      "Loss after epoch 726: 0.0\n"
     ]
    },
    {
     "name": "stderr",
     "output_type": "stream",
     "text": [
      "INFO - 16:28:45: EPOCH 727 - PROGRESS: at 68.53% examples, 1083532 words/s, in_qsize 14, out_qsize 1\n",
      "INFO - 16:28:46: EPOCH 727: training on 2135928 raw words (1561487 effective words) took 1.4s, 1147103 effective words/s\n"
     ]
    },
    {
     "name": "stdout",
     "output_type": "stream",
     "text": [
      "Loss after epoch 727: 0.0\n"
     ]
    },
    {
     "name": "stderr",
     "output_type": "stream",
     "text": [
      "INFO - 16:28:47: EPOCH 728 - PROGRESS: at 65.11% examples, 1010927 words/s, in_qsize 12, out_qsize 3\n",
      "INFO - 16:28:47: EPOCH 728: training on 2135928 raw words (1561196 effective words) took 1.4s, 1093399 effective words/s\n"
     ]
    },
    {
     "name": "stdout",
     "output_type": "stream",
     "text": [
      "Loss after epoch 728: 0.0\n"
     ]
    },
    {
     "name": "stderr",
     "output_type": "stream",
     "text": [
      "INFO - 16:28:48: EPOCH 729 - PROGRESS: at 70.60% examples, 1120429 words/s, in_qsize 15, out_qsize 0\n",
      "INFO - 16:28:48: EPOCH 729: training on 2135928 raw words (1560860 effective words) took 1.3s, 1178412 effective words/s\n"
     ]
    },
    {
     "name": "stdout",
     "output_type": "stream",
     "text": [
      "Loss after epoch 729: 0.0\n"
     ]
    },
    {
     "name": "stderr",
     "output_type": "stream",
     "text": [
      "INFO - 16:28:49: EPOCH 730 - PROGRESS: at 77.04% examples, 1213383 words/s, in_qsize 15, out_qsize 0\n",
      "INFO - 16:28:50: EPOCH 730: training on 2135928 raw words (1560489 effective words) took 1.2s, 1252965 effective words/s\n"
     ]
    },
    {
     "name": "stdout",
     "output_type": "stream",
     "text": [
      "Loss after epoch 730: 0.0\n"
     ]
    },
    {
     "name": "stderr",
     "output_type": "stream",
     "text": [
      "INFO - 16:28:51: EPOCH 731 - PROGRESS: at 78.78% examples, 1257541 words/s, in_qsize 15, out_qsize 0\n",
      "INFO - 16:28:51: EPOCH 731: training on 2135928 raw words (1560260 effective words) took 1.2s, 1287324 effective words/s\n"
     ]
    },
    {
     "name": "stdout",
     "output_type": "stream",
     "text": [
      "Loss after epoch 731: 0.0\n"
     ]
    },
    {
     "name": "stderr",
     "output_type": "stream",
     "text": [
      "INFO - 16:28:52: EPOCH 732 - PROGRESS: at 77.00% examples, 1215838 words/s, in_qsize 16, out_qsize 0\n",
      "INFO - 16:28:52: EPOCH 732: training on 2135928 raw words (1561659 effective words) took 1.2s, 1254563 effective words/s\n"
     ]
    },
    {
     "name": "stdout",
     "output_type": "stream",
     "text": [
      "Loss after epoch 732: 0.0\n"
     ]
    },
    {
     "name": "stderr",
     "output_type": "stream",
     "text": [
      "INFO - 16:28:53: EPOCH 733 - PROGRESS: at 77.47% examples, 1223587 words/s, in_qsize 15, out_qsize 0\n",
      "INFO - 16:28:53: EPOCH 733: training on 2135928 raw words (1561037 effective words) took 1.2s, 1264659 effective words/s\n"
     ]
    },
    {
     "name": "stdout",
     "output_type": "stream",
     "text": [
      "Loss after epoch 733: 0.0\n"
     ]
    },
    {
     "name": "stderr",
     "output_type": "stream",
     "text": [
      "INFO - 16:28:54: EPOCH 734 - PROGRESS: at 77.04% examples, 1224762 words/s, in_qsize 16, out_qsize 2\n",
      "INFO - 16:28:55: EPOCH 734: training on 2135928 raw words (1561138 effective words) took 1.2s, 1272124 effective words/s\n"
     ]
    },
    {
     "name": "stdout",
     "output_type": "stream",
     "text": [
      "Loss after epoch 734: 0.0\n"
     ]
    },
    {
     "name": "stderr",
     "output_type": "stream",
     "text": [
      "INFO - 16:28:56: EPOCH 735 - PROGRESS: at 77.90% examples, 1227965 words/s, in_qsize 16, out_qsize 1\n",
      "INFO - 16:28:56: EPOCH 735: training on 2135928 raw words (1561023 effective words) took 1.2s, 1265824 effective words/s\n"
     ]
    },
    {
     "name": "stdout",
     "output_type": "stream",
     "text": [
      "Loss after epoch 735: 0.0\n"
     ]
    },
    {
     "name": "stderr",
     "output_type": "stream",
     "text": [
      "INFO - 16:28:57: EPOCH 736 - PROGRESS: at 78.78% examples, 1255410 words/s, in_qsize 16, out_qsize 0\n",
      "INFO - 16:28:57: EPOCH 736: training on 2135928 raw words (1561289 effective words) took 1.2s, 1275173 effective words/s\n"
     ]
    },
    {
     "name": "stdout",
     "output_type": "stream",
     "text": [
      "Loss after epoch 736: 0.0\n"
     ]
    },
    {
     "name": "stderr",
     "output_type": "stream",
     "text": [
      "INFO - 16:28:58: EPOCH 737 - PROGRESS: at 76.57% examples, 1223470 words/s, in_qsize 15, out_qsize 0\n",
      "INFO - 16:28:58: EPOCH 737: training on 2135928 raw words (1561113 effective words) took 1.2s, 1260580 effective words/s\n"
     ]
    },
    {
     "name": "stdout",
     "output_type": "stream",
     "text": [
      "Loss after epoch 737: 0.0\n"
     ]
    },
    {
     "name": "stderr",
     "output_type": "stream",
     "text": [
      "INFO - 16:28:59: EPOCH 738 - PROGRESS: at 77.00% examples, 1223977 words/s, in_qsize 15, out_qsize 0\n",
      "INFO - 16:29:00: EPOCH 738: training on 2135928 raw words (1560645 effective words) took 1.2s, 1264538 effective words/s\n"
     ]
    },
    {
     "name": "stdout",
     "output_type": "stream",
     "text": [
      "Loss after epoch 738: 0.0\n"
     ]
    },
    {
     "name": "stderr",
     "output_type": "stream",
     "text": [
      "INFO - 16:29:01: EPOCH 739 - PROGRESS: at 77.43% examples, 1238304 words/s, in_qsize 15, out_qsize 0\n",
      "INFO - 16:29:01: EPOCH 739: training on 2135928 raw words (1561297 effective words) took 1.2s, 1280630 effective words/s\n"
     ]
    },
    {
     "name": "stdout",
     "output_type": "stream",
     "text": [
      "Loss after epoch 739: 0.0\n"
     ]
    },
    {
     "name": "stderr",
     "output_type": "stream",
     "text": [
      "INFO - 16:29:02: EPOCH 740 - PROGRESS: at 76.14% examples, 1203532 words/s, in_qsize 15, out_qsize 0\n",
      "INFO - 16:29:02: EPOCH 740: training on 2135928 raw words (1561739 effective words) took 1.3s, 1245473 effective words/s\n"
     ]
    },
    {
     "name": "stdout",
     "output_type": "stream",
     "text": [
      "Loss after epoch 740: 0.0\n"
     ]
    },
    {
     "name": "stderr",
     "output_type": "stream",
     "text": [
      "INFO - 16:29:03: EPOCH 741 - PROGRESS: at 76.57% examples, 1220283 words/s, in_qsize 13, out_qsize 2\n",
      "INFO - 16:29:03: EPOCH 741: training on 2135928 raw words (1561507 effective words) took 1.2s, 1264742 effective words/s\n"
     ]
    },
    {
     "name": "stdout",
     "output_type": "stream",
     "text": [
      "Loss after epoch 741: 0.0\n"
     ]
    },
    {
     "name": "stderr",
     "output_type": "stream",
     "text": [
      "INFO - 16:29:04: EPOCH 742 - PROGRESS: at 77.92% examples, 1239306 words/s, in_qsize 14, out_qsize 1\n",
      "INFO - 16:29:05: EPOCH 742: training on 2135928 raw words (1561045 effective words) took 1.2s, 1278149 effective words/s\n"
     ]
    },
    {
     "name": "stdout",
     "output_type": "stream",
     "text": [
      "Loss after epoch 742: 0.0\n"
     ]
    },
    {
     "name": "stderr",
     "output_type": "stream",
     "text": [
      "INFO - 16:29:06: EPOCH 743 - PROGRESS: at 80.08% examples, 1270615 words/s, in_qsize 15, out_qsize 0\n",
      "INFO - 16:29:06: EPOCH 743: training on 2135928 raw words (1561379 effective words) took 1.2s, 1314192 effective words/s\n"
     ]
    },
    {
     "name": "stdout",
     "output_type": "stream",
     "text": [
      "Loss after epoch 743: 0.0\n"
     ]
    },
    {
     "name": "stderr",
     "output_type": "stream",
     "text": [
      "INFO - 16:29:07: EPOCH 744 - PROGRESS: at 80.08% examples, 1284504 words/s, in_qsize 15, out_qsize 0\n",
      "INFO - 16:29:07: EPOCH 744: training on 2135928 raw words (1561301 effective words) took 1.2s, 1308707 effective words/s\n"
     ]
    },
    {
     "name": "stdout",
     "output_type": "stream",
     "text": [
      "Loss after epoch 744: 0.0\n"
     ]
    },
    {
     "name": "stderr",
     "output_type": "stream",
     "text": [
      "INFO - 16:29:08: EPOCH 745 - PROGRESS: at 78.34% examples, 1255933 words/s, in_qsize 15, out_qsize 0\n",
      "INFO - 16:29:08: EPOCH 745: training on 2135928 raw words (1561532 effective words) took 1.2s, 1279545 effective words/s\n"
     ]
    },
    {
     "name": "stdout",
     "output_type": "stream",
     "text": [
      "Loss after epoch 745: 0.0\n"
     ]
    },
    {
     "name": "stderr",
     "output_type": "stream",
     "text": [
      "INFO - 16:29:09: EPOCH 746 - PROGRESS: at 71.89% examples, 1134788 words/s, in_qsize 14, out_qsize 1\n",
      "INFO - 16:29:09: EPOCH 746: training on 2135928 raw words (1560368 effective words) took 1.3s, 1191249 effective words/s\n"
     ]
    },
    {
     "name": "stdout",
     "output_type": "stream",
     "text": [
      "Loss after epoch 746: 0.0\n"
     ]
    },
    {
     "name": "stderr",
     "output_type": "stream",
     "text": [
      "INFO - 16:29:10: EPOCH 747 - PROGRESS: at 70.21% examples, 1105086 words/s, in_qsize 15, out_qsize 0\n",
      "INFO - 16:29:11: EPOCH 747: training on 2135928 raw words (1560803 effective words) took 1.3s, 1173116 effective words/s\n"
     ]
    },
    {
     "name": "stdout",
     "output_type": "stream",
     "text": [
      "Loss after epoch 747: 0.0\n"
     ]
    },
    {
     "name": "stderr",
     "output_type": "stream",
     "text": [
      "INFO - 16:29:12: EPOCH 748 - PROGRESS: at 67.72% examples, 1056135 words/s, in_qsize 14, out_qsize 1\n",
      "INFO - 16:29:12: EPOCH 748: training on 2135928 raw words (1561112 effective words) took 1.4s, 1134989 effective words/s\n"
     ]
    },
    {
     "name": "stdout",
     "output_type": "stream",
     "text": [
      "Loss after epoch 748: 0.0\n"
     ]
    },
    {
     "name": "stderr",
     "output_type": "stream",
     "text": [
      "INFO - 16:29:13: EPOCH 749 - PROGRESS: at 61.65% examples, 954663 words/s, in_qsize 13, out_qsize 2\n",
      "INFO - 16:29:14: EPOCH 749: training on 2135928 raw words (1561351 effective words) took 1.5s, 1068268 effective words/s\n"
     ]
    },
    {
     "name": "stdout",
     "output_type": "stream",
     "text": [
      "Loss after epoch 749: 0.0\n"
     ]
    },
    {
     "name": "stderr",
     "output_type": "stream",
     "text": [
      "INFO - 16:29:15: EPOCH 750 - PROGRESS: at 71.46% examples, 1132808 words/s, in_qsize 16, out_qsize 0\n",
      "INFO - 16:29:15: EPOCH 750: training on 2135928 raw words (1561077 effective words) took 1.3s, 1188076 effective words/s\n"
     ]
    },
    {
     "name": "stdout",
     "output_type": "stream",
     "text": [
      "Loss after epoch 750: 0.0\n"
     ]
    },
    {
     "name": "stderr",
     "output_type": "stream",
     "text": [
      "INFO - 16:29:16: EPOCH 751 - PROGRESS: at 77.91% examples, 1246333 words/s, in_qsize 16, out_qsize 0\n",
      "INFO - 16:29:16: EPOCH 751: training on 2135928 raw words (1561141 effective words) took 1.2s, 1281513 effective words/s\n"
     ]
    },
    {
     "name": "stdout",
     "output_type": "stream",
     "text": [
      "Loss after epoch 751: 0.0\n"
     ]
    },
    {
     "name": "stderr",
     "output_type": "stream",
     "text": [
      "INFO - 16:29:17: EPOCH 752 - PROGRESS: at 74.40% examples, 1183733 words/s, in_qsize 16, out_qsize 0\n",
      "INFO - 16:29:18: EPOCH 752: training on 2135928 raw words (1561039 effective words) took 1.3s, 1219247 effective words/s\n"
     ]
    },
    {
     "name": "stdout",
     "output_type": "stream",
     "text": [
      "Loss after epoch 752: 0.0\n"
     ]
    },
    {
     "name": "stderr",
     "output_type": "stream",
     "text": [
      "INFO - 16:29:19: EPOCH 753 - PROGRESS: at 78.78% examples, 1250910 words/s, in_qsize 14, out_qsize 1\n",
      "INFO - 16:29:19: EPOCH 753: training on 2135928 raw words (1560499 effective words) took 1.2s, 1286034 effective words/s\n"
     ]
    },
    {
     "name": "stdout",
     "output_type": "stream",
     "text": [
      "Loss after epoch 753: 0.0\n"
     ]
    },
    {
     "name": "stderr",
     "output_type": "stream",
     "text": [
      "INFO - 16:29:20: EPOCH 754 - PROGRESS: at 77.44% examples, 1240057 words/s, in_qsize 16, out_qsize 0\n",
      "INFO - 16:29:20: EPOCH 754: training on 2135928 raw words (1561203 effective words) took 1.2s, 1265792 effective words/s\n"
     ]
    },
    {
     "name": "stdout",
     "output_type": "stream",
     "text": [
      "Loss after epoch 754: 0.0\n"
     ]
    },
    {
     "name": "stderr",
     "output_type": "stream",
     "text": [
      "INFO - 16:29:21: EPOCH 755 - PROGRESS: at 78.34% examples, 1254675 words/s, in_qsize 15, out_qsize 0\n",
      "INFO - 16:29:21: EPOCH 755: training on 2135928 raw words (1562232 effective words) took 1.2s, 1278512 effective words/s\n"
     ]
    },
    {
     "name": "stdout",
     "output_type": "stream",
     "text": [
      "Loss after epoch 755: 0.0\n"
     ]
    },
    {
     "name": "stderr",
     "output_type": "stream",
     "text": [
      "INFO - 16:29:22: EPOCH 756 - PROGRESS: at 75.71% examples, 1188711 words/s, in_qsize 15, out_qsize 0\n",
      "INFO - 16:29:22: EPOCH 756: training on 2135928 raw words (1560507 effective words) took 1.3s, 1234517 effective words/s\n"
     ]
    },
    {
     "name": "stdout",
     "output_type": "stream",
     "text": [
      "Loss after epoch 756: 0.0\n"
     ]
    },
    {
     "name": "stderr",
     "output_type": "stream",
     "text": [
      "INFO - 16:29:23: EPOCH 757 - PROGRESS: at 75.26% examples, 1202222 words/s, in_qsize 16, out_qsize 0\n",
      "INFO - 16:29:24: EPOCH 757: training on 2135928 raw words (1561205 effective words) took 1.3s, 1237640 effective words/s\n"
     ]
    },
    {
     "name": "stdout",
     "output_type": "stream",
     "text": [
      "Loss after epoch 757: 0.0\n"
     ]
    },
    {
     "name": "stderr",
     "output_type": "stream",
     "text": [
      "INFO - 16:29:25: EPOCH 758 - PROGRESS: at 77.00% examples, 1233361 words/s, in_qsize 16, out_qsize 0\n",
      "INFO - 16:29:25: EPOCH 758: training on 2135928 raw words (1561231 effective words) took 1.2s, 1273967 effective words/s\n"
     ]
    },
    {
     "name": "stdout",
     "output_type": "stream",
     "text": [
      "Loss after epoch 758: 0.0\n"
     ]
    },
    {
     "name": "stderr",
     "output_type": "stream",
     "text": [
      "INFO - 16:29:26: EPOCH 759 - PROGRESS: at 78.78% examples, 1246900 words/s, in_qsize 15, out_qsize 0\n",
      "INFO - 16:29:26: EPOCH 759: training on 2135928 raw words (1560551 effective words) took 1.3s, 1240759 effective words/s\n"
     ]
    },
    {
     "name": "stdout",
     "output_type": "stream",
     "text": [
      "Loss after epoch 759: 0.0\n"
     ]
    },
    {
     "name": "stderr",
     "output_type": "stream",
     "text": [
      "INFO - 16:29:27: EPOCH 760 - PROGRESS: at 74.84% examples, 1188908 words/s, in_qsize 15, out_qsize 0\n",
      "INFO - 16:29:28: EPOCH 760: training on 2135928 raw words (1560745 effective words) took 1.3s, 1172009 effective words/s\n"
     ]
    },
    {
     "name": "stdout",
     "output_type": "stream",
     "text": [
      "Loss after epoch 760: 0.0\n"
     ]
    },
    {
     "name": "stderr",
     "output_type": "stream",
     "text": [
      "INFO - 16:29:29: EPOCH 761 - PROGRESS: at 72.72% examples, 1147497 words/s, in_qsize 16, out_qsize 0\n",
      "INFO - 16:29:29: EPOCH 761: training on 2135928 raw words (1561201 effective words) took 1.3s, 1181767 effective words/s\n"
     ]
    },
    {
     "name": "stdout",
     "output_type": "stream",
     "text": [
      "Loss after epoch 761: 0.0\n"
     ]
    },
    {
     "name": "stderr",
     "output_type": "stream",
     "text": [
      "INFO - 16:29:30: EPOCH 762 - PROGRESS: at 77.47% examples, 1230918 words/s, in_qsize 15, out_qsize 0\n",
      "INFO - 16:29:30: EPOCH 762: training on 2135928 raw words (1561694 effective words) took 1.2s, 1264247 effective words/s\n"
     ]
    },
    {
     "name": "stdout",
     "output_type": "stream",
     "text": [
      "Loss after epoch 762: 0.0\n"
     ]
    },
    {
     "name": "stderr",
     "output_type": "stream",
     "text": [
      "INFO - 16:29:31: EPOCH 763 - PROGRESS: at 76.14% examples, 1209744 words/s, in_qsize 13, out_qsize 2\n",
      "INFO - 16:29:31: EPOCH 763: training on 2135928 raw words (1561092 effective words) took 1.3s, 1243596 effective words/s\n"
     ]
    },
    {
     "name": "stdout",
     "output_type": "stream",
     "text": [
      "Loss after epoch 763: 0.0\n"
     ]
    },
    {
     "name": "stderr",
     "output_type": "stream",
     "text": [
      "INFO - 16:29:32: EPOCH 764 - PROGRESS: at 73.95% examples, 1173158 words/s, in_qsize 16, out_qsize 0\n",
      "INFO - 16:29:33: EPOCH 764: training on 2135928 raw words (1560990 effective words) took 1.3s, 1219266 effective words/s\n"
     ]
    },
    {
     "name": "stdout",
     "output_type": "stream",
     "text": [
      "Loss after epoch 764: 0.0\n"
     ]
    },
    {
     "name": "stderr",
     "output_type": "stream",
     "text": [
      "INFO - 16:29:34: EPOCH 765 - PROGRESS: at 77.47% examples, 1238384 words/s, in_qsize 15, out_qsize 0\n",
      "INFO - 16:29:34: EPOCH 765: training on 2135928 raw words (1561988 effective words) took 1.2s, 1263896 effective words/s\n"
     ]
    },
    {
     "name": "stdout",
     "output_type": "stream",
     "text": [
      "Loss after epoch 765: 0.0\n"
     ]
    },
    {
     "name": "stderr",
     "output_type": "stream",
     "text": [
      "INFO - 16:29:35: EPOCH 766 - PROGRESS: at 74.40% examples, 1185494 words/s, in_qsize 13, out_qsize 2\n",
      "INFO - 16:29:35: EPOCH 766: training on 2135928 raw words (1561439 effective words) took 1.3s, 1233815 effective words/s\n"
     ]
    },
    {
     "name": "stdout",
     "output_type": "stream",
     "text": [
      "Loss after epoch 766: 0.0\n"
     ]
    },
    {
     "name": "stderr",
     "output_type": "stream",
     "text": [
      "INFO - 16:29:36: EPOCH 767 - PROGRESS: at 75.71% examples, 1198894 words/s, in_qsize 15, out_qsize 2\n",
      "INFO - 16:29:37: EPOCH 767: training on 2135928 raw words (1560968 effective words) took 1.3s, 1232927 effective words/s\n"
     ]
    },
    {
     "name": "stdout",
     "output_type": "stream",
     "text": [
      "Loss after epoch 767: 0.0\n"
     ]
    },
    {
     "name": "stderr",
     "output_type": "stream",
     "text": [
      "INFO - 16:29:38: EPOCH 768 - PROGRESS: at 76.14% examples, 1211244 words/s, in_qsize 15, out_qsize 0\n",
      "INFO - 16:29:38: EPOCH 768: training on 2135928 raw words (1560616 effective words) took 1.3s, 1242239 effective words/s\n"
     ]
    },
    {
     "name": "stdout",
     "output_type": "stream",
     "text": [
      "Loss after epoch 768: 0.0\n"
     ]
    },
    {
     "name": "stderr",
     "output_type": "stream",
     "text": [
      "INFO - 16:29:39: EPOCH 769 - PROGRESS: at 76.14% examples, 1216365 words/s, in_qsize 15, out_qsize 0\n",
      "INFO - 16:29:39: EPOCH 769: training on 2135928 raw words (1562343 effective words) took 1.2s, 1260223 effective words/s\n"
     ]
    },
    {
     "name": "stdout",
     "output_type": "stream",
     "text": [
      "Loss after epoch 769: 0.0\n"
     ]
    },
    {
     "name": "stderr",
     "output_type": "stream",
     "text": [
      "INFO - 16:29:40: EPOCH 770 - PROGRESS: at 80.08% examples, 1255583 words/s, in_qsize 15, out_qsize 0\n",
      "INFO - 16:29:40: EPOCH 770: training on 2135928 raw words (1561811 effective words) took 1.2s, 1304556 effective words/s\n"
     ]
    },
    {
     "name": "stdout",
     "output_type": "stream",
     "text": [
      "Loss after epoch 770: 0.0\n"
     ]
    },
    {
     "name": "stderr",
     "output_type": "stream",
     "text": [
      "INFO - 16:29:41: EPOCH 771 - PROGRESS: at 80.07% examples, 1270491 words/s, in_qsize 15, out_qsize 0\n",
      "INFO - 16:29:41: EPOCH 771: training on 2135928 raw words (1561117 effective words) took 1.2s, 1297644 effective words/s\n"
     ]
    },
    {
     "name": "stdout",
     "output_type": "stream",
     "text": [
      "Loss after epoch 771: 0.0\n"
     ]
    },
    {
     "name": "stderr",
     "output_type": "stream",
     "text": [
      "INFO - 16:29:42: EPOCH 772 - PROGRESS: at 76.57% examples, 1225451 words/s, in_qsize 15, out_qsize 0\n",
      "INFO - 16:29:43: EPOCH 772: training on 2135928 raw words (1561832 effective words) took 1.2s, 1265703 effective words/s\n"
     ]
    },
    {
     "name": "stdout",
     "output_type": "stream",
     "text": [
      "Loss after epoch 772: 0.0\n"
     ]
    },
    {
     "name": "stderr",
     "output_type": "stream",
     "text": [
      "INFO - 16:29:44: EPOCH 773 - PROGRESS: at 73.57% examples, 1165154 words/s, in_qsize 13, out_qsize 2\n",
      "INFO - 16:29:44: EPOCH 773: training on 2135928 raw words (1560908 effective words) took 1.3s, 1196648 effective words/s\n"
     ]
    },
    {
     "name": "stdout",
     "output_type": "stream",
     "text": [
      "Loss after epoch 773: 0.0\n"
     ]
    },
    {
     "name": "stderr",
     "output_type": "stream",
     "text": [
      "INFO - 16:29:45: EPOCH 774 - PROGRESS: at 71.88% examples, 1140402 words/s, in_qsize 13, out_qsize 2\n",
      "INFO - 16:29:45: EPOCH 774: training on 2135928 raw words (1562003 effective words) took 1.3s, 1183459 effective words/s\n"
     ]
    },
    {
     "name": "stdout",
     "output_type": "stream",
     "text": [
      "Loss after epoch 774: 0.0\n"
     ]
    },
    {
     "name": "stderr",
     "output_type": "stream",
     "text": [
      "INFO - 16:29:46: EPOCH 775 - PROGRESS: at 73.12% examples, 1154984 words/s, in_qsize 14, out_qsize 1\n",
      "INFO - 16:29:47: EPOCH 775: training on 2135928 raw words (1561787 effective words) took 1.3s, 1182496 effective words/s\n"
     ]
    },
    {
     "name": "stdout",
     "output_type": "stream",
     "text": [
      "Loss after epoch 775: 0.0\n"
     ]
    },
    {
     "name": "stderr",
     "output_type": "stream",
     "text": [
      "INFO - 16:29:48: EPOCH 776 - PROGRESS: at 65.11% examples, 1022814 words/s, in_qsize 16, out_qsize 0\n",
      "INFO - 16:29:48: EPOCH 776: training on 2135928 raw words (1561659 effective words) took 1.4s, 1080906 effective words/s\n"
     ]
    },
    {
     "name": "stdout",
     "output_type": "stream",
     "text": [
      "Loss after epoch 776: 0.0\n"
     ]
    },
    {
     "name": "stderr",
     "output_type": "stream",
     "text": [
      "INFO - 16:29:49: EPOCH 777 - PROGRESS: at 73.54% examples, 1160390 words/s, in_qsize 14, out_qsize 2\n",
      "INFO - 16:29:49: EPOCH 777: training on 2135928 raw words (1561017 effective words) took 1.3s, 1174522 effective words/s\n"
     ]
    },
    {
     "name": "stdout",
     "output_type": "stream",
     "text": [
      "Loss after epoch 777: 0.0\n"
     ]
    },
    {
     "name": "stderr",
     "output_type": "stream",
     "text": [
      "INFO - 16:29:50: EPOCH 778 - PROGRESS: at 65.56% examples, 1030644 words/s, in_qsize 15, out_qsize 0\n",
      "INFO - 16:29:51: EPOCH 778: training on 2135928 raw words (1561305 effective words) took 1.4s, 1084779 effective words/s\n"
     ]
    },
    {
     "name": "stdout",
     "output_type": "stream",
     "text": [
      "Loss after epoch 778: 0.0\n"
     ]
    },
    {
     "name": "stderr",
     "output_type": "stream",
     "text": [
      "INFO - 16:29:52: EPOCH 779 - PROGRESS: at 75.27% examples, 1194467 words/s, in_qsize 15, out_qsize 0\n",
      "INFO - 16:29:52: EPOCH 779: training on 2135928 raw words (1560861 effective words) took 1.3s, 1235039 effective words/s\n"
     ]
    },
    {
     "name": "stdout",
     "output_type": "stream",
     "text": [
      "Loss after epoch 779: 0.0\n"
     ]
    },
    {
     "name": "stderr",
     "output_type": "stream",
     "text": [
      "INFO - 16:29:53: EPOCH 780 - PROGRESS: at 66.02% examples, 1028983 words/s, in_qsize 16, out_qsize 1\n",
      "INFO - 16:29:54: EPOCH 780: training on 2135928 raw words (1560825 effective words) took 1.4s, 1081303 effective words/s\n"
     ]
    },
    {
     "name": "stdout",
     "output_type": "stream",
     "text": [
      "Loss after epoch 780: 0.0\n"
     ]
    },
    {
     "name": "stderr",
     "output_type": "stream",
     "text": [
      "INFO - 16:29:55: EPOCH 781 - PROGRESS: at 71.89% examples, 1123128 words/s, in_qsize 14, out_qsize 1\n",
      "INFO - 16:29:55: EPOCH 781: training on 2135928 raw words (1561167 effective words) took 1.4s, 1135428 effective words/s\n"
     ]
    },
    {
     "name": "stdout",
     "output_type": "stream",
     "text": [
      "Loss after epoch 781: 0.0\n"
     ]
    },
    {
     "name": "stderr",
     "output_type": "stream",
     "text": [
      "INFO - 16:29:56: EPOCH 782 - PROGRESS: at 70.21% examples, 1111871 words/s, in_qsize 15, out_qsize 0\n",
      "INFO - 16:29:56: EPOCH 782: training on 2135928 raw words (1560978 effective words) took 1.3s, 1173768 effective words/s\n"
     ]
    },
    {
     "name": "stdout",
     "output_type": "stream",
     "text": [
      "Loss after epoch 782: 0.0\n"
     ]
    },
    {
     "name": "stderr",
     "output_type": "stream",
     "text": [
      "INFO - 16:29:57: EPOCH 783 - PROGRESS: at 67.32% examples, 1057647 words/s, in_qsize 14, out_qsize 1\n",
      "INFO - 16:29:58: EPOCH 783: training on 2135928 raw words (1561410 effective words) took 1.4s, 1098544 effective words/s\n"
     ]
    },
    {
     "name": "stdout",
     "output_type": "stream",
     "text": [
      "Loss after epoch 783: 0.0\n"
     ]
    },
    {
     "name": "stderr",
     "output_type": "stream",
     "text": [
      "INFO - 16:29:59: EPOCH 784 - PROGRESS: at 70.21% examples, 1111743 words/s, in_qsize 15, out_qsize 0\n",
      "INFO - 16:29:59: EPOCH 784: training on 2135928 raw words (1561168 effective words) took 1.3s, 1156832 effective words/s\n"
     ]
    },
    {
     "name": "stdout",
     "output_type": "stream",
     "text": [
      "Loss after epoch 784: 0.0\n"
     ]
    },
    {
     "name": "stderr",
     "output_type": "stream",
     "text": [
      "INFO - 16:30:00: EPOCH 785 - PROGRESS: at 72.72% examples, 1139197 words/s, in_qsize 15, out_qsize 0\n",
      "INFO - 16:30:01: EPOCH 785: training on 2135928 raw words (1560753 effective words) took 1.3s, 1157103 effective words/s\n"
     ]
    },
    {
     "name": "stdout",
     "output_type": "stream",
     "text": [
      "Loss after epoch 785: 0.0\n"
     ]
    },
    {
     "name": "stderr",
     "output_type": "stream",
     "text": [
      "INFO - 16:30:02: EPOCH 786 - PROGRESS: at 73.95% examples, 1176630 words/s, in_qsize 15, out_qsize 1\n",
      "INFO - 16:30:02: EPOCH 786: training on 2135928 raw words (1561374 effective words) took 1.3s, 1196720 effective words/s\n"
     ]
    },
    {
     "name": "stdout",
     "output_type": "stream",
     "text": [
      "Loss after epoch 786: 0.0\n"
     ]
    },
    {
     "name": "stderr",
     "output_type": "stream",
     "text": [
      "INFO - 16:30:03: EPOCH 787 - PROGRESS: at 69.33% examples, 1090031 words/s, in_qsize 16, out_qsize 0\n",
      "INFO - 16:30:03: EPOCH 787: training on 2135928 raw words (1561123 effective words) took 1.4s, 1141780 effective words/s\n"
     ]
    },
    {
     "name": "stdout",
     "output_type": "stream",
     "text": [
      "Loss after epoch 787: 0.0\n"
     ]
    },
    {
     "name": "stderr",
     "output_type": "stream",
     "text": [
      "INFO - 16:30:04: EPOCH 788 - PROGRESS: at 67.32% examples, 1057074 words/s, in_qsize 14, out_qsize 1\n",
      "INFO - 16:30:05: EPOCH 788: training on 2135928 raw words (1560636 effective words) took 1.4s, 1109012 effective words/s\n"
     ]
    },
    {
     "name": "stdout",
     "output_type": "stream",
     "text": [
      "Loss after epoch 788: 0.0\n"
     ]
    },
    {
     "name": "stderr",
     "output_type": "stream",
     "text": [
      "INFO - 16:30:06: EPOCH 789 - PROGRESS: at 71.03% examples, 1124806 words/s, in_qsize 15, out_qsize 0\n",
      "INFO - 16:30:06: EPOCH 789: training on 2135928 raw words (1561252 effective words) took 1.3s, 1164759 effective words/s\n"
     ]
    },
    {
     "name": "stdout",
     "output_type": "stream",
     "text": [
      "Loss after epoch 789: 0.0\n"
     ]
    },
    {
     "name": "stderr",
     "output_type": "stream",
     "text": [
      "INFO - 16:30:07: EPOCH 790 - PROGRESS: at 74.84% examples, 1175113 words/s, in_qsize 15, out_qsize 1\n",
      "INFO - 16:30:07: EPOCH 790: training on 2135928 raw words (1560698 effective words) took 1.3s, 1184838 effective words/s\n"
     ]
    },
    {
     "name": "stdout",
     "output_type": "stream",
     "text": [
      "Loss after epoch 790: 0.0\n"
     ]
    },
    {
     "name": "stderr",
     "output_type": "stream",
     "text": [
      "INFO - 16:30:08: EPOCH 791 - PROGRESS: at 70.21% examples, 1108299 words/s, in_qsize 16, out_qsize 1\n",
      "INFO - 16:30:09: EPOCH 791: training on 2135928 raw words (1560634 effective words) took 1.3s, 1158525 effective words/s\n"
     ]
    },
    {
     "name": "stdout",
     "output_type": "stream",
     "text": [
      "Loss after epoch 791: 0.0\n"
     ]
    },
    {
     "name": "stderr",
     "output_type": "stream",
     "text": [
      "INFO - 16:30:10: EPOCH 792 - PROGRESS: at 72.31% examples, 1147781 words/s, in_qsize 15, out_qsize 1\n",
      "INFO - 16:30:10: EPOCH 792: training on 2135928 raw words (1561430 effective words) took 1.3s, 1179919 effective words/s\n"
     ]
    },
    {
     "name": "stdout",
     "output_type": "stream",
     "text": [
      "Loss after epoch 792: 0.0\n"
     ]
    },
    {
     "name": "stderr",
     "output_type": "stream",
     "text": [
      "INFO - 16:30:11: EPOCH 793 - PROGRESS: at 75.69% examples, 1206331 words/s, in_qsize 15, out_qsize 0\n",
      "INFO - 16:30:11: EPOCH 793: training on 2135928 raw words (1561115 effective words) took 1.2s, 1249175 effective words/s\n"
     ]
    },
    {
     "name": "stdout",
     "output_type": "stream",
     "text": [
      "Loss after epoch 793: 0.0\n"
     ]
    },
    {
     "name": "stderr",
     "output_type": "stream",
     "text": [
      "INFO - 16:30:12: EPOCH 794 - PROGRESS: at 76.14% examples, 1201084 words/s, in_qsize 15, out_qsize 0\n",
      "INFO - 16:30:13: EPOCH 794: training on 2135928 raw words (1561238 effective words) took 1.3s, 1245552 effective words/s\n"
     ]
    },
    {
     "name": "stdout",
     "output_type": "stream",
     "text": [
      "Loss after epoch 794: 0.0\n"
     ]
    },
    {
     "name": "stderr",
     "output_type": "stream",
     "text": [
      "INFO - 16:30:14: EPOCH 795 - PROGRESS: at 69.78% examples, 1104752 words/s, in_qsize 15, out_qsize 0\n",
      "INFO - 16:30:14: EPOCH 795: training on 2135928 raw words (1560962 effective words) took 1.4s, 1136142 effective words/s\n"
     ]
    },
    {
     "name": "stdout",
     "output_type": "stream",
     "text": [
      "Loss after epoch 795: 0.0\n"
     ]
    },
    {
     "name": "stderr",
     "output_type": "stream",
     "text": [
      "INFO - 16:30:15: EPOCH 796 - PROGRESS: at 69.78% examples, 1102313 words/s, in_qsize 16, out_qsize 0\n",
      "INFO - 16:30:15: EPOCH 796: training on 2135928 raw words (1560529 effective words) took 1.4s, 1096591 effective words/s\n"
     ]
    },
    {
     "name": "stdout",
     "output_type": "stream",
     "text": [
      "Loss after epoch 796: 0.0\n"
     ]
    },
    {
     "name": "stderr",
     "output_type": "stream",
     "text": [
      "INFO - 16:30:16: EPOCH 797 - PROGRESS: at 71.03% examples, 1110936 words/s, in_qsize 15, out_qsize 0\n",
      "INFO - 16:30:17: EPOCH 797: training on 2135928 raw words (1560187 effective words) took 1.4s, 1119700 effective words/s\n"
     ]
    },
    {
     "name": "stdout",
     "output_type": "stream",
     "text": [
      "Loss after epoch 797: 0.0\n"
     ]
    },
    {
     "name": "stderr",
     "output_type": "stream",
     "text": [
      "INFO - 16:30:18: EPOCH 798 - PROGRESS: at 69.78% examples, 1103905 words/s, in_qsize 16, out_qsize 1\n",
      "INFO - 16:30:18: EPOCH 798: training on 2135928 raw words (1560912 effective words) took 1.4s, 1152317 effective words/s\n"
     ]
    },
    {
     "name": "stdout",
     "output_type": "stream",
     "text": [
      "Loss after epoch 798: 0.0\n"
     ]
    },
    {
     "name": "stderr",
     "output_type": "stream",
     "text": [
      "INFO - 16:30:19: EPOCH 799 - PROGRESS: at 77.47% examples, 1238249 words/s, in_qsize 15, out_qsize 0\n",
      "INFO - 16:30:19: EPOCH 799: training on 2135928 raw words (1561315 effective words) took 1.2s, 1254807 effective words/s\n"
     ]
    },
    {
     "name": "stdout",
     "output_type": "stream",
     "text": [
      "Loss after epoch 799: 0.0\n"
     ]
    },
    {
     "name": "stderr",
     "output_type": "stream",
     "text": [
      "INFO - 16:30:20: EPOCH 800 - PROGRESS: at 71.89% examples, 1108815 words/s, in_qsize 16, out_qsize 1\n",
      "INFO - 16:30:21: EPOCH 800: training on 2135928 raw words (1560919 effective words) took 1.4s, 1135343 effective words/s\n"
     ]
    },
    {
     "name": "stdout",
     "output_type": "stream",
     "text": [
      "Loss after epoch 800: 0.0\n"
     ]
    },
    {
     "name": "stderr",
     "output_type": "stream",
     "text": [
      "INFO - 16:30:22: EPOCH 801 - PROGRESS: at 71.89% examples, 1134874 words/s, in_qsize 15, out_qsize 0\n",
      "INFO - 16:30:22: EPOCH 801: training on 2135928 raw words (1560354 effective words) took 1.4s, 1118674 effective words/s\n"
     ]
    },
    {
     "name": "stdout",
     "output_type": "stream",
     "text": [
      "Loss after epoch 801: 0.0\n"
     ]
    },
    {
     "name": "stderr",
     "output_type": "stream",
     "text": [
      "INFO - 16:30:23: EPOCH 802 - PROGRESS: at 54.99% examples, 851770 words/s, in_qsize 15, out_qsize 0\n",
      "INFO - 16:30:24: EPOCH 802: training on 2135928 raw words (1561685 effective words) took 1.9s, 823119 effective words/s\n"
     ]
    },
    {
     "name": "stdout",
     "output_type": "stream",
     "text": [
      "Loss after epoch 802: 0.0\n"
     ]
    },
    {
     "name": "stderr",
     "output_type": "stream",
     "text": [
      "INFO - 16:30:25: EPOCH 803 - PROGRESS: at 46.10% examples, 717318 words/s, in_qsize 16, out_qsize 0\n",
      "INFO - 16:30:26: EPOCH 803: training on 2135928 raw words (1561349 effective words) took 1.9s, 831621 effective words/s\n"
     ]
    },
    {
     "name": "stdout",
     "output_type": "stream",
     "text": [
      "Loss after epoch 803: 0.0\n"
     ]
    },
    {
     "name": "stderr",
     "output_type": "stream",
     "text": [
      "INFO - 16:30:27: EPOCH 804 - PROGRESS: at 52.11% examples, 798747 words/s, in_qsize 14, out_qsize 1\n",
      "INFO - 16:30:28: EPOCH 804: training on 2135928 raw words (1560957 effective words) took 1.8s, 885420 effective words/s\n"
     ]
    },
    {
     "name": "stdout",
     "output_type": "stream",
     "text": [
      "Loss after epoch 804: 0.0\n"
     ]
    },
    {
     "name": "stderr",
     "output_type": "stream",
     "text": [
      "INFO - 16:30:29: EPOCH 805 - PROGRESS: at 61.19% examples, 954885 words/s, in_qsize 12, out_qsize 5\n",
      "INFO - 16:30:29: EPOCH 805: training on 2135928 raw words (1561087 effective words) took 1.5s, 1066970 effective words/s\n"
     ]
    },
    {
     "name": "stdout",
     "output_type": "stream",
     "text": [
      "Loss after epoch 805: 0.0\n"
     ]
    },
    {
     "name": "stderr",
     "output_type": "stream",
     "text": [
      "INFO - 16:30:30: EPOCH 806 - PROGRESS: at 70.21% examples, 1113388 words/s, in_qsize 15, out_qsize 0\n",
      "INFO - 16:30:31: EPOCH 806: training on 2135928 raw words (1561147 effective words) took 1.4s, 1138059 effective words/s\n"
     ]
    },
    {
     "name": "stdout",
     "output_type": "stream",
     "text": [
      "Loss after epoch 806: 0.0\n"
     ]
    },
    {
     "name": "stderr",
     "output_type": "stream",
     "text": [
      "INFO - 16:30:32: EPOCH 807 - PROGRESS: at 66.93% examples, 1052395 words/s, in_qsize 15, out_qsize 0\n",
      "INFO - 16:30:32: EPOCH 807: training on 2135928 raw words (1560846 effective words) took 1.4s, 1122297 effective words/s\n"
     ]
    },
    {
     "name": "stdout",
     "output_type": "stream",
     "text": [
      "Loss after epoch 807: 0.0\n"
     ]
    },
    {
     "name": "stderr",
     "output_type": "stream",
     "text": [
      "INFO - 16:30:33: EPOCH 808 - PROGRESS: at 67.74% examples, 1063837 words/s, in_qsize 14, out_qsize 1\n",
      "INFO - 16:30:33: EPOCH 808: training on 2135928 raw words (1561351 effective words) took 1.5s, 1076251 effective words/s\n"
     ]
    },
    {
     "name": "stdout",
     "output_type": "stream",
     "text": [
      "Loss after epoch 808: 0.0\n"
     ]
    },
    {
     "name": "stderr",
     "output_type": "stream",
     "text": [
      "INFO - 16:30:34: EPOCH 809 - PROGRESS: at 63.78% examples, 994328 words/s, in_qsize 15, out_qsize 0\n",
      "INFO - 16:30:35: EPOCH 809: training on 2135928 raw words (1560685 effective words) took 1.5s, 1042681 effective words/s\n"
     ]
    },
    {
     "name": "stdout",
     "output_type": "stream",
     "text": [
      "Loss after epoch 809: 0.0\n"
     ]
    },
    {
     "name": "stderr",
     "output_type": "stream",
     "text": [
      "INFO - 16:30:36: EPOCH 810 - PROGRESS: at 62.50% examples, 975139 words/s, in_qsize 15, out_qsize 0\n",
      "INFO - 16:30:36: EPOCH 810: training on 2135928 raw words (1560881 effective words) took 1.5s, 1050858 effective words/s\n"
     ]
    },
    {
     "name": "stdout",
     "output_type": "stream",
     "text": [
      "Loss after epoch 810: 0.0\n"
     ]
    },
    {
     "name": "stderr",
     "output_type": "stream",
     "text": [
      "INFO - 16:30:37: EPOCH 811 - PROGRESS: at 67.32% examples, 1050806 words/s, in_qsize 16, out_qsize 0\n",
      "INFO - 16:30:38: EPOCH 811: training on 2135928 raw words (1561089 effective words) took 1.5s, 1026664 effective words/s\n"
     ]
    },
    {
     "name": "stdout",
     "output_type": "stream",
     "text": [
      "Loss after epoch 811: 0.0\n"
     ]
    },
    {
     "name": "stderr",
     "output_type": "stream",
     "text": [
      "INFO - 16:30:39: EPOCH 812 - PROGRESS: at 47.02% examples, 721503 words/s, in_qsize 16, out_qsize 0\n",
      "INFO - 16:30:40: EPOCH 812: training on 2135928 raw words (1560667 effective words) took 1.9s, 822261 effective words/s\n"
     ]
    },
    {
     "name": "stdout",
     "output_type": "stream",
     "text": [
      "Loss after epoch 812: 0.0\n"
     ]
    },
    {
     "name": "stderr",
     "output_type": "stream",
     "text": [
      "INFO - 16:30:41: EPOCH 813 - PROGRESS: at 62.50% examples, 978554 words/s, in_qsize 15, out_qsize 0\n",
      "INFO - 16:30:41: EPOCH 813: training on 2135928 raw words (1561478 effective words) took 1.5s, 1024227 effective words/s\n"
     ]
    },
    {
     "name": "stdout",
     "output_type": "stream",
     "text": [
      "Loss after epoch 813: 0.0\n"
     ]
    },
    {
     "name": "stderr",
     "output_type": "stream",
     "text": [
      "INFO - 16:30:42: EPOCH 814 - PROGRESS: at 51.18% examples, 796405 words/s, in_qsize 15, out_qsize 0\n",
      "INFO - 16:30:43: EPOCH 814: training on 2135928 raw words (1561230 effective words) took 1.9s, 837028 effective words/s\n"
     ]
    },
    {
     "name": "stdout",
     "output_type": "stream",
     "text": [
      "Loss after epoch 814: 0.0\n"
     ]
    },
    {
     "name": "stderr",
     "output_type": "stream",
     "text": [
      "INFO - 16:30:44: EPOCH 815 - PROGRESS: at 57.53% examples, 890964 words/s, in_qsize 14, out_qsize 1\n",
      "INFO - 16:30:45: EPOCH 815: training on 2135928 raw words (1560945 effective words) took 1.8s, 889642 effective words/s\n"
     ]
    },
    {
     "name": "stdout",
     "output_type": "stream",
     "text": [
      "Loss after epoch 815: 0.0\n"
     ]
    },
    {
     "name": "stderr",
     "output_type": "stream",
     "text": [
      "INFO - 16:30:46: EPOCH 816 - PROGRESS: at 46.56% examples, 724323 words/s, in_qsize 16, out_qsize 0\n",
      "INFO - 16:30:47: EPOCH 816 - PROGRESS: at 99.44% examples, 775202 words/s, in_qsize 0, out_qsize 3\n",
      "INFO - 16:30:47: EPOCH 816: training on 2135928 raw words (1561138 effective words) took 2.0s, 778589 effective words/s\n"
     ]
    },
    {
     "name": "stdout",
     "output_type": "stream",
     "text": [
      "Loss after epoch 816: 0.0\n"
     ]
    },
    {
     "name": "stderr",
     "output_type": "stream",
     "text": [
      "INFO - 16:30:48: EPOCH 817 - PROGRESS: at 51.67% examples, 804453 words/s, in_qsize 14, out_qsize 1\n",
      "INFO - 16:30:49: EPOCH 817: training on 2135928 raw words (1562154 effective words) took 1.8s, 856125 effective words/s\n"
     ]
    },
    {
     "name": "stdout",
     "output_type": "stream",
     "text": [
      "Loss after epoch 817: 0.0\n"
     ]
    },
    {
     "name": "stderr",
     "output_type": "stream",
     "text": [
      "INFO - 16:30:50: EPOCH 818 - PROGRESS: at 53.48% examples, 827165 words/s, in_qsize 16, out_qsize 2\n",
      "INFO - 16:30:51: EPOCH 818: training on 2135928 raw words (1560984 effective words) took 1.9s, 836164 effective words/s\n"
     ]
    },
    {
     "name": "stdout",
     "output_type": "stream",
     "text": [
      "Loss after epoch 818: 0.0\n"
     ]
    },
    {
     "name": "stderr",
     "output_type": "stream",
     "text": [
      "INFO - 16:30:52: EPOCH 819 - PROGRESS: at 59.81% examples, 931002 words/s, in_qsize 14, out_qsize 1\n",
      "INFO - 16:30:52: EPOCH 819: training on 2135928 raw words (1560799 effective words) took 1.6s, 948993 effective words/s\n"
     ]
    },
    {
     "name": "stdout",
     "output_type": "stream",
     "text": [
      "Loss after epoch 819: 0.0\n"
     ]
    },
    {
     "name": "stderr",
     "output_type": "stream",
     "text": [
      "INFO - 16:30:53: EPOCH 820 - PROGRESS: at 59.35% examples, 927509 words/s, in_qsize 14, out_qsize 1\n",
      "INFO - 16:30:54: EPOCH 820: training on 2135928 raw words (1561033 effective words) took 1.6s, 967191 effective words/s\n"
     ]
    },
    {
     "name": "stdout",
     "output_type": "stream",
     "text": [
      "Loss after epoch 820: 0.0\n"
     ]
    },
    {
     "name": "stderr",
     "output_type": "stream",
     "text": [
      "INFO - 16:30:55: EPOCH 821 - PROGRESS: at 60.74% examples, 940736 words/s, in_qsize 14, out_qsize 1\n",
      "INFO - 16:30:56: EPOCH 821: training on 2135928 raw words (1560647 effective words) took 1.6s, 992291 effective words/s\n"
     ]
    },
    {
     "name": "stdout",
     "output_type": "stream",
     "text": [
      "Loss after epoch 821: 0.0\n"
     ]
    },
    {
     "name": "stderr",
     "output_type": "stream",
     "text": [
      "INFO - 16:30:57: EPOCH 822 - PROGRESS: at 63.35% examples, 994059 words/s, in_qsize 15, out_qsize 0\n",
      "INFO - 16:30:57: EPOCH 822: training on 2135928 raw words (1560562 effective words) took 1.5s, 1016818 effective words/s\n"
     ]
    },
    {
     "name": "stdout",
     "output_type": "stream",
     "text": [
      "Loss after epoch 822: 0.0\n"
     ]
    },
    {
     "name": "stderr",
     "output_type": "stream",
     "text": [
      "INFO - 16:30:58: EPOCH 823 - PROGRESS: at 62.52% examples, 978443 words/s, in_qsize 15, out_qsize 0\n",
      "INFO - 16:30:59: EPOCH 823: training on 2135928 raw words (1560318 effective words) took 1.6s, 1006580 effective words/s\n"
     ]
    },
    {
     "name": "stdout",
     "output_type": "stream",
     "text": [
      "Loss after epoch 823: 0.0\n"
     ]
    },
    {
     "name": "stderr",
     "output_type": "stream",
     "text": [
      "INFO - 16:31:00: EPOCH 824 - PROGRESS: at 62.93% examples, 969837 words/s, in_qsize 14, out_qsize 1\n",
      "INFO - 16:31:00: EPOCH 824: training on 2135928 raw words (1560959 effective words) took 1.6s, 995030 effective words/s\n"
     ]
    },
    {
     "name": "stdout",
     "output_type": "stream",
     "text": [
      "Loss after epoch 824: 0.0\n"
     ]
    },
    {
     "name": "stderr",
     "output_type": "stream",
     "text": [
      "INFO - 16:31:01: EPOCH 825 - PROGRESS: at 62.50% examples, 975713 words/s, in_qsize 15, out_qsize 0\n",
      "INFO - 16:31:02: EPOCH 825: training on 2135928 raw words (1560464 effective words) took 1.5s, 1015171 effective words/s\n"
     ]
    },
    {
     "name": "stdout",
     "output_type": "stream",
     "text": [
      "Loss after epoch 825: 0.0\n"
     ]
    },
    {
     "name": "stderr",
     "output_type": "stream",
     "text": [
      "INFO - 16:31:03: EPOCH 826 - PROGRESS: at 61.61% examples, 964385 words/s, in_qsize 14, out_qsize 3\n",
      "INFO - 16:31:03: EPOCH 826: training on 2135928 raw words (1560664 effective words) took 1.6s, 1001231 effective words/s\n"
     ]
    },
    {
     "name": "stdout",
     "output_type": "stream",
     "text": [
      "Loss after epoch 826: 0.0\n"
     ]
    },
    {
     "name": "stderr",
     "output_type": "stream",
     "text": [
      "INFO - 16:31:04: EPOCH 827 - PROGRESS: at 61.22% examples, 952083 words/s, in_qsize 16, out_qsize 1\n",
      "INFO - 16:31:05: EPOCH 827: training on 2135928 raw words (1561439 effective words) took 1.6s, 981462 effective words/s\n"
     ]
    },
    {
     "name": "stdout",
     "output_type": "stream",
     "text": [
      "Loss after epoch 827: 0.0\n"
     ]
    },
    {
     "name": "stderr",
     "output_type": "stream",
     "text": [
      "INFO - 16:31:06: EPOCH 828 - PROGRESS: at 63.35% examples, 988436 words/s, in_qsize 15, out_qsize 0\n",
      "INFO - 16:31:07: EPOCH 828: training on 2135928 raw words (1560956 effective words) took 1.5s, 1024400 effective words/s\n"
     ]
    },
    {
     "name": "stdout",
     "output_type": "stream",
     "text": [
      "Loss after epoch 828: 0.0\n"
     ]
    },
    {
     "name": "stderr",
     "output_type": "stream",
     "text": [
      "INFO - 16:31:08: EPOCH 829 - PROGRESS: at 64.23% examples, 996599 words/s, in_qsize 16, out_qsize 2\n",
      "INFO - 16:31:08: EPOCH 829: training on 2135928 raw words (1559949 effective words) took 1.5s, 1019388 effective words/s\n"
     ]
    },
    {
     "name": "stdout",
     "output_type": "stream",
     "text": [
      "Loss after epoch 829: 0.0\n"
     ]
    },
    {
     "name": "stderr",
     "output_type": "stream",
     "text": [
      "INFO - 16:31:09: EPOCH 830 - PROGRESS: at 62.93% examples, 987969 words/s, in_qsize 14, out_qsize 1\n",
      "INFO - 16:31:10: EPOCH 830: training on 2135928 raw words (1561421 effective words) took 1.5s, 1025475 effective words/s\n"
     ]
    },
    {
     "name": "stdout",
     "output_type": "stream",
     "text": [
      "Loss after epoch 830: 0.0\n"
     ]
    },
    {
     "name": "stderr",
     "output_type": "stream",
     "text": [
      "INFO - 16:31:11: EPOCH 831 - PROGRESS: at 63.35% examples, 991775 words/s, in_qsize 16, out_qsize 0\n",
      "INFO - 16:31:11: EPOCH 831: training on 2135928 raw words (1560913 effective words) took 1.5s, 1024418 effective words/s\n"
     ]
    },
    {
     "name": "stdout",
     "output_type": "stream",
     "text": [
      "Loss after epoch 831: 0.0\n"
     ]
    },
    {
     "name": "stderr",
     "output_type": "stream",
     "text": [
      "INFO - 16:31:12: EPOCH 832 - PROGRESS: at 63.37% examples, 992768 words/s, in_qsize 15, out_qsize 0\n",
      "INFO - 16:31:13: EPOCH 832: training on 2135928 raw words (1560929 effective words) took 1.6s, 1006273 effective words/s\n"
     ]
    },
    {
     "name": "stdout",
     "output_type": "stream",
     "text": [
      "Loss after epoch 832: 0.0\n"
     ]
    },
    {
     "name": "stderr",
     "output_type": "stream",
     "text": [
      "INFO - 16:31:14: EPOCH 833 - PROGRESS: at 62.93% examples, 973269 words/s, in_qsize 15, out_qsize 0\n",
      "INFO - 16:31:14: EPOCH 833: training on 2135928 raw words (1560549 effective words) took 1.5s, 1016939 effective words/s\n"
     ]
    },
    {
     "name": "stdout",
     "output_type": "stream",
     "text": [
      "Loss after epoch 833: 0.0\n"
     ]
    },
    {
     "name": "stderr",
     "output_type": "stream",
     "text": [
      "INFO - 16:31:15: EPOCH 834 - PROGRESS: at 61.66% examples, 942690 words/s, in_qsize 15, out_qsize 0\n",
      "INFO - 16:31:16: EPOCH 834: training on 2135928 raw words (1561598 effective words) took 1.6s, 989577 effective words/s\n"
     ]
    },
    {
     "name": "stdout",
     "output_type": "stream",
     "text": [
      "Loss after epoch 834: 0.0\n"
     ]
    },
    {
     "name": "stderr",
     "output_type": "stream",
     "text": [
      "INFO - 16:31:17: EPOCH 835 - PROGRESS: at 61.64% examples, 964762 words/s, in_qsize 15, out_qsize 0\n",
      "INFO - 16:31:17: EPOCH 835: training on 2135928 raw words (1560965 effective words) took 1.6s, 998366 effective words/s\n"
     ]
    },
    {
     "name": "stdout",
     "output_type": "stream",
     "text": [
      "Loss after epoch 835: 0.0\n"
     ]
    },
    {
     "name": "stderr",
     "output_type": "stream",
     "text": [
      "INFO - 16:31:18: EPOCH 836 - PROGRESS: at 64.22% examples, 997320 words/s, in_qsize 15, out_qsize 0\n",
      "INFO - 16:31:19: EPOCH 836: training on 2135928 raw words (1560828 effective words) took 1.5s, 1038130 effective words/s\n"
     ]
    },
    {
     "name": "stdout",
     "output_type": "stream",
     "text": [
      "Loss after epoch 836: 0.0\n"
     ]
    },
    {
     "name": "stderr",
     "output_type": "stream",
     "text": [
      "INFO - 16:31:20: EPOCH 837 - PROGRESS: at 65.56% examples, 1028870 words/s, in_qsize 14, out_qsize 1\n",
      "INFO - 16:31:20: EPOCH 837: training on 2135928 raw words (1561676 effective words) took 1.5s, 1051165 effective words/s\n"
     ]
    },
    {
     "name": "stdout",
     "output_type": "stream",
     "text": [
      "Loss after epoch 837: 0.0\n"
     ]
    },
    {
     "name": "stderr",
     "output_type": "stream",
     "text": [
      "INFO - 16:31:21: EPOCH 838 - PROGRESS: at 64.66% examples, 1016798 words/s, in_qsize 15, out_qsize 0\n",
      "INFO - 16:31:22: EPOCH 838: training on 2135928 raw words (1561099 effective words) took 1.5s, 1046034 effective words/s\n"
     ]
    },
    {
     "name": "stdout",
     "output_type": "stream",
     "text": [
      "Loss after epoch 838: 0.0\n"
     ]
    },
    {
     "name": "stderr",
     "output_type": "stream",
     "text": [
      "INFO - 16:31:23: EPOCH 839 - PROGRESS: at 65.56% examples, 1022817 words/s, in_qsize 14, out_qsize 1\n",
      "INFO - 16:31:23: EPOCH 839: training on 2135928 raw words (1561108 effective words) took 1.5s, 1040318 effective words/s\n"
     ]
    },
    {
     "name": "stdout",
     "output_type": "stream",
     "text": [
      "Loss after epoch 839: 0.0\n"
     ]
    },
    {
     "name": "stderr",
     "output_type": "stream",
     "text": [
      "INFO - 16:31:24: EPOCH 840 - PROGRESS: at 60.27% examples, 942995 words/s, in_qsize 14, out_qsize 1\n",
      "INFO - 16:31:25: EPOCH 840: training on 2135928 raw words (1560254 effective words) took 1.6s, 979643 effective words/s\n"
     ]
    },
    {
     "name": "stdout",
     "output_type": "stream",
     "text": [
      "Loss after epoch 840: 0.0\n"
     ]
    },
    {
     "name": "stderr",
     "output_type": "stream",
     "text": [
      "INFO - 16:31:26: EPOCH 841 - PROGRESS: at 64.22% examples, 1000198 words/s, in_qsize 15, out_qsize 0\n",
      "INFO - 16:31:27: EPOCH 841: training on 2135928 raw words (1560876 effective words) took 1.5s, 1028083 effective words/s\n"
     ]
    },
    {
     "name": "stdout",
     "output_type": "stream",
     "text": [
      "Loss after epoch 841: 0.0\n"
     ]
    },
    {
     "name": "stderr",
     "output_type": "stream",
     "text": [
      "INFO - 16:31:28: EPOCH 842 - PROGRESS: at 64.66% examples, 1017791 words/s, in_qsize 14, out_qsize 1\n",
      "INFO - 16:31:28: EPOCH 842: training on 2135928 raw words (1561724 effective words) took 1.5s, 1045057 effective words/s\n"
     ]
    },
    {
     "name": "stdout",
     "output_type": "stream",
     "text": [
      "Loss after epoch 842: 0.0\n"
     ]
    },
    {
     "name": "stderr",
     "output_type": "stream",
     "text": [
      "INFO - 16:31:29: EPOCH 843 - PROGRESS: at 64.67% examples, 1001061 words/s, in_qsize 15, out_qsize 1\n",
      "INFO - 16:31:30: EPOCH 843: training on 2135928 raw words (1561126 effective words) took 1.5s, 1043348 effective words/s\n"
     ]
    },
    {
     "name": "stdout",
     "output_type": "stream",
     "text": [
      "Loss after epoch 843: 0.0\n"
     ]
    },
    {
     "name": "stderr",
     "output_type": "stream",
     "text": [
      "INFO - 16:31:31: EPOCH 844 - PROGRESS: at 61.66% examples, 950991 words/s, in_qsize 14, out_qsize 1\n",
      "INFO - 16:31:31: EPOCH 844: training on 2135928 raw words (1561011 effective words) took 1.6s, 1006094 effective words/s\n"
     ]
    },
    {
     "name": "stdout",
     "output_type": "stream",
     "text": [
      "Loss after epoch 844: 0.0\n"
     ]
    },
    {
     "name": "stderr",
     "output_type": "stream",
     "text": [
      "INFO - 16:31:32: EPOCH 845 - PROGRESS: at 63.36% examples, 994930 words/s, in_qsize 15, out_qsize 0\n",
      "INFO - 16:31:33: EPOCH 845: training on 2135928 raw words (1560942 effective words) took 1.5s, 1027422 effective words/s\n"
     ]
    },
    {
     "name": "stdout",
     "output_type": "stream",
     "text": [
      "Loss after epoch 845: 0.0\n"
     ]
    },
    {
     "name": "stderr",
     "output_type": "stream",
     "text": [
      "INFO - 16:31:34: EPOCH 846 - PROGRESS: at 62.93% examples, 982501 words/s, in_qsize 15, out_qsize 0\n",
      "INFO - 16:31:34: EPOCH 846: training on 2135928 raw words (1561100 effective words) took 1.5s, 1025587 effective words/s\n"
     ]
    },
    {
     "name": "stdout",
     "output_type": "stream",
     "text": [
      "Loss after epoch 846: 0.0\n"
     ]
    },
    {
     "name": "stderr",
     "output_type": "stream",
     "text": [
      "INFO - 16:31:35: EPOCH 847 - PROGRESS: at 63.35% examples, 983137 words/s, in_qsize 14, out_qsize 2\n",
      "INFO - 16:31:36: EPOCH 847: training on 2135928 raw words (1560894 effective words) took 1.5s, 1032541 effective words/s\n"
     ]
    },
    {
     "name": "stdout",
     "output_type": "stream",
     "text": [
      "Loss after epoch 847: 0.0\n"
     ]
    },
    {
     "name": "stderr",
     "output_type": "stream",
     "text": [
      "INFO - 16:31:37: EPOCH 848 - PROGRESS: at 65.56% examples, 1029996 words/s, in_qsize 15, out_qsize 0\n",
      "INFO - 16:31:37: EPOCH 848: training on 2135928 raw words (1562083 effective words) took 1.5s, 1048045 effective words/s\n"
     ]
    },
    {
     "name": "stdout",
     "output_type": "stream",
     "text": [
      "Loss after epoch 848: 0.0\n"
     ]
    },
    {
     "name": "stderr",
     "output_type": "stream",
     "text": [
      "INFO - 16:31:38: EPOCH 849 - PROGRESS: at 63.78% examples, 1002736 words/s, in_qsize 14, out_qsize 1\n",
      "INFO - 16:31:39: EPOCH 849: training on 2135928 raw words (1561034 effective words) took 1.5s, 1033510 effective words/s\n"
     ]
    },
    {
     "name": "stdout",
     "output_type": "stream",
     "text": [
      "Loss after epoch 849: 0.0\n"
     ]
    },
    {
     "name": "stderr",
     "output_type": "stream",
     "text": [
      "INFO - 16:31:40: EPOCH 850 - PROGRESS: at 63.36% examples, 992900 words/s, in_qsize 15, out_qsize 0\n",
      "INFO - 16:31:40: EPOCH 850: training on 2135928 raw words (1560732 effective words) took 1.5s, 1010319 effective words/s\n"
     ]
    },
    {
     "name": "stdout",
     "output_type": "stream",
     "text": [
      "Loss after epoch 850: 0.0\n"
     ]
    },
    {
     "name": "stderr",
     "output_type": "stream",
     "text": [
      "INFO - 16:31:41: EPOCH 851 - PROGRESS: at 65.11% examples, 1009239 words/s, in_qsize 14, out_qsize 1\n",
      "INFO - 16:31:42: EPOCH 851: training on 2135928 raw words (1560894 effective words) took 1.5s, 1033695 effective words/s\n"
     ]
    },
    {
     "name": "stdout",
     "output_type": "stream",
     "text": [
      "Loss after epoch 851: 0.0\n"
     ]
    },
    {
     "name": "stderr",
     "output_type": "stream",
     "text": [
      "INFO - 16:31:43: EPOCH 852 - PROGRESS: at 61.18% examples, 956935 words/s, in_qsize 15, out_qsize 0\n",
      "INFO - 16:31:43: EPOCH 852: training on 2135928 raw words (1560467 effective words) took 1.6s, 998583 effective words/s\n"
     ]
    },
    {
     "name": "stdout",
     "output_type": "stream",
     "text": [
      "Loss after epoch 852: 0.0\n"
     ]
    },
    {
     "name": "stderr",
     "output_type": "stream",
     "text": [
      "INFO - 16:31:44: EPOCH 853 - PROGRESS: at 64.22% examples, 995355 words/s, in_qsize 15, out_qsize 0\n",
      "INFO - 16:31:45: EPOCH 853: training on 2135928 raw words (1561014 effective words) took 1.5s, 1028036 effective words/s\n"
     ]
    },
    {
     "name": "stdout",
     "output_type": "stream",
     "text": [
      "Loss after epoch 853: 0.0\n"
     ]
    },
    {
     "name": "stderr",
     "output_type": "stream",
     "text": [
      "INFO - 16:31:46: EPOCH 854 - PROGRESS: at 61.22% examples, 947487 words/s, in_qsize 15, out_qsize 0\n",
      "INFO - 16:31:47: EPOCH 854: training on 2135928 raw words (1560330 effective words) took 1.6s, 995874 effective words/s\n"
     ]
    },
    {
     "name": "stdout",
     "output_type": "stream",
     "text": [
      "Loss after epoch 854: 0.0\n"
     ]
    },
    {
     "name": "stderr",
     "output_type": "stream",
     "text": [
      "INFO - 16:31:48: EPOCH 855 - PROGRESS: at 64.66% examples, 1000617 words/s, in_qsize 15, out_qsize 0\n",
      "INFO - 16:31:48: EPOCH 855: training on 2135928 raw words (1560298 effective words) took 1.5s, 1037196 effective words/s\n"
     ]
    },
    {
     "name": "stdout",
     "output_type": "stream",
     "text": [
      "Loss after epoch 855: 0.0\n"
     ]
    },
    {
     "name": "stderr",
     "output_type": "stream",
     "text": [
      "INFO - 16:31:49: EPOCH 856 - PROGRESS: at 65.11% examples, 1016484 words/s, in_qsize 15, out_qsize 0\n",
      "INFO - 16:31:50: EPOCH 856: training on 2135928 raw words (1561172 effective words) took 1.5s, 1049266 effective words/s\n"
     ]
    },
    {
     "name": "stdout",
     "output_type": "stream",
     "text": [
      "Loss after epoch 856: 0.0\n"
     ]
    },
    {
     "name": "stderr",
     "output_type": "stream",
     "text": [
      "INFO - 16:31:51: EPOCH 857 - PROGRESS: at 64.67% examples, 1012719 words/s, in_qsize 14, out_qsize 1\n",
      "INFO - 16:31:51: EPOCH 857: training on 2135928 raw words (1561046 effective words) took 1.5s, 1048019 effective words/s\n"
     ]
    },
    {
     "name": "stdout",
     "output_type": "stream",
     "text": [
      "Loss after epoch 857: 0.0\n"
     ]
    },
    {
     "name": "stderr",
     "output_type": "stream",
     "text": [
      "INFO - 16:31:52: EPOCH 858 - PROGRESS: at 62.09% examples, 955440 words/s, in_qsize 15, out_qsize 1\n",
      "INFO - 16:31:53: EPOCH 858: training on 2135928 raw words (1561478 effective words) took 1.6s, 1006108 effective words/s\n"
     ]
    },
    {
     "name": "stdout",
     "output_type": "stream",
     "text": [
      "Loss after epoch 858: 0.0\n"
     ]
    },
    {
     "name": "stderr",
     "output_type": "stream",
     "text": [
      "INFO - 16:31:54: EPOCH 859 - PROGRESS: at 62.94% examples, 986195 words/s, in_qsize 15, out_qsize 0\n",
      "INFO - 16:31:54: EPOCH 859: training on 2135928 raw words (1561632 effective words) took 1.5s, 1046976 effective words/s\n"
     ]
    },
    {
     "name": "stdout",
     "output_type": "stream",
     "text": [
      "Loss after epoch 859: 0.0\n"
     ]
    },
    {
     "name": "stderr",
     "output_type": "stream",
     "text": [
      "INFO - 16:31:55: EPOCH 860 - PROGRESS: at 66.01% examples, 1037825 words/s, in_qsize 16, out_qsize 0\n",
      "INFO - 16:31:56: EPOCH 860: training on 2135928 raw words (1560576 effective words) took 1.5s, 1048589 effective words/s\n"
     ]
    },
    {
     "name": "stdout",
     "output_type": "stream",
     "text": [
      "Loss after epoch 860: 0.0\n"
     ]
    },
    {
     "name": "stderr",
     "output_type": "stream",
     "text": [
      "INFO - 16:31:57: EPOCH 861 - PROGRESS: at 61.65% examples, 950231 words/s, in_qsize 16, out_qsize 0\n",
      "INFO - 16:31:57: EPOCH 861: training on 2135928 raw words (1560939 effective words) took 1.6s, 968786 effective words/s\n"
     ]
    },
    {
     "name": "stdout",
     "output_type": "stream",
     "text": [
      "Loss after epoch 861: 0.0\n"
     ]
    },
    {
     "name": "stderr",
     "output_type": "stream",
     "text": [
      "INFO - 16:31:58: EPOCH 862 - PROGRESS: at 65.56% examples, 1030620 words/s, in_qsize 16, out_qsize 0\n",
      "INFO - 16:31:59: EPOCH 862: training on 2135928 raw words (1560533 effective words) took 1.5s, 1024593 effective words/s\n"
     ]
    },
    {
     "name": "stdout",
     "output_type": "stream",
     "text": [
      "Loss after epoch 862: 0.0\n"
     ]
    },
    {
     "name": "stderr",
     "output_type": "stream",
     "text": [
      "INFO - 16:32:00: EPOCH 863 - PROGRESS: at 62.92% examples, 982340 words/s, in_qsize 16, out_qsize 1\n",
      "INFO - 16:32:00: EPOCH 863: training on 2135928 raw words (1561166 effective words) took 1.5s, 1019519 effective words/s\n"
     ]
    },
    {
     "name": "stdout",
     "output_type": "stream",
     "text": [
      "Loss after epoch 863: 0.0\n"
     ]
    },
    {
     "name": "stderr",
     "output_type": "stream",
     "text": [
      "INFO - 16:32:01: EPOCH 864 - PROGRESS: at 62.50% examples, 980233 words/s, in_qsize 16, out_qsize 0\n",
      "INFO - 16:32:02: EPOCH 864: training on 2135928 raw words (1561323 effective words) took 1.5s, 1014153 effective words/s\n"
     ]
    },
    {
     "name": "stdout",
     "output_type": "stream",
     "text": [
      "Loss after epoch 864: 0.0\n"
     ]
    },
    {
     "name": "stderr",
     "output_type": "stream",
     "text": [
      "INFO - 16:32:03: EPOCH 865 - PROGRESS: at 62.93% examples, 974805 words/s, in_qsize 16, out_qsize 2\n",
      "INFO - 16:32:03: EPOCH 865: training on 2135928 raw words (1561454 effective words) took 1.5s, 1011786 effective words/s\n"
     ]
    },
    {
     "name": "stdout",
     "output_type": "stream",
     "text": [
      "Loss after epoch 865: 0.0\n"
     ]
    },
    {
     "name": "stderr",
     "output_type": "stream",
     "text": [
      "INFO - 16:32:04: EPOCH 866 - PROGRESS: at 60.75% examples, 948753 words/s, in_qsize 13, out_qsize 2\n",
      "INFO - 16:32:05: EPOCH 866: training on 2135928 raw words (1561091 effective words) took 1.6s, 986615 effective words/s\n"
     ]
    },
    {
     "name": "stdout",
     "output_type": "stream",
     "text": [
      "Loss after epoch 866: 0.0\n"
     ]
    },
    {
     "name": "stderr",
     "output_type": "stream",
     "text": [
      "INFO - 16:32:06: EPOCH 867 - PROGRESS: at 62.09% examples, 966503 words/s, in_qsize 14, out_qsize 1\n",
      "INFO - 16:32:07: EPOCH 867: training on 2135928 raw words (1561335 effective words) took 1.5s, 1015560 effective words/s\n"
     ]
    },
    {
     "name": "stdout",
     "output_type": "stream",
     "text": [
      "Loss after epoch 867: 0.0\n"
     ]
    },
    {
     "name": "stderr",
     "output_type": "stream",
     "text": [
      "INFO - 16:32:08: EPOCH 868 - PROGRESS: at 64.22% examples, 1001302 words/s, in_qsize 15, out_qsize 0\n",
      "INFO - 16:32:08: EPOCH 868: training on 2135928 raw words (1560938 effective words) took 1.5s, 1018326 effective words/s\n"
     ]
    },
    {
     "name": "stdout",
     "output_type": "stream",
     "text": [
      "Loss after epoch 868: 0.0\n"
     ]
    },
    {
     "name": "stderr",
     "output_type": "stream",
     "text": [
      "INFO - 16:32:09: EPOCH 869 - PROGRESS: at 64.66% examples, 1013022 words/s, in_qsize 15, out_qsize 0\n",
      "INFO - 16:32:10: EPOCH 869: training on 2135928 raw words (1561673 effective words) took 1.5s, 1041701 effective words/s\n"
     ]
    },
    {
     "name": "stdout",
     "output_type": "stream",
     "text": [
      "Loss after epoch 869: 0.0\n"
     ]
    },
    {
     "name": "stderr",
     "output_type": "stream",
     "text": [
      "INFO - 16:32:11: EPOCH 870 - PROGRESS: at 64.22% examples, 997916 words/s, in_qsize 15, out_qsize 0\n",
      "INFO - 16:32:11: EPOCH 870: training on 2135928 raw words (1561063 effective words) took 1.5s, 1027244 effective words/s\n"
     ]
    },
    {
     "name": "stdout",
     "output_type": "stream",
     "text": [
      "Loss after epoch 870: 0.0\n"
     ]
    },
    {
     "name": "stderr",
     "output_type": "stream",
     "text": [
      "INFO - 16:32:12: EPOCH 871 - PROGRESS: at 63.78% examples, 1000457 words/s, in_qsize 15, out_qsize 0\n",
      "INFO - 16:32:13: EPOCH 871: training on 2135928 raw words (1561235 effective words) took 1.6s, 1006308 effective words/s\n"
     ]
    },
    {
     "name": "stdout",
     "output_type": "stream",
     "text": [
      "Loss after epoch 871: 0.0\n"
     ]
    },
    {
     "name": "stderr",
     "output_type": "stream",
     "text": [
      "INFO - 16:32:14: EPOCH 872 - PROGRESS: at 64.22% examples, 1001565 words/s, in_qsize 14, out_qsize 1\n",
      "INFO - 16:32:14: EPOCH 872: training on 2135928 raw words (1561370 effective words) took 1.5s, 1034885 effective words/s\n"
     ]
    },
    {
     "name": "stdout",
     "output_type": "stream",
     "text": [
      "Loss after epoch 872: 0.0\n"
     ]
    },
    {
     "name": "stderr",
     "output_type": "stream",
     "text": [
      "INFO - 16:32:15: EPOCH 873 - PROGRESS: at 61.17% examples, 939445 words/s, in_qsize 16, out_qsize 5\n",
      "INFO - 16:32:16: EPOCH 873: training on 2135928 raw words (1561046 effective words) took 1.6s, 997077 effective words/s\n"
     ]
    },
    {
     "name": "stdout",
     "output_type": "stream",
     "text": [
      "Loss after epoch 873: 0.0\n"
     ]
    },
    {
     "name": "stderr",
     "output_type": "stream",
     "text": [
      "INFO - 16:32:17: EPOCH 874 - PROGRESS: at 61.66% examples, 960067 words/s, in_qsize 15, out_qsize 0\n",
      "INFO - 16:32:17: EPOCH 874: training on 2135928 raw words (1560913 effective words) took 1.6s, 1000614 effective words/s\n"
     ]
    },
    {
     "name": "stdout",
     "output_type": "stream",
     "text": [
      "Loss after epoch 874: 0.0\n"
     ]
    },
    {
     "name": "stderr",
     "output_type": "stream",
     "text": [
      "INFO - 16:32:18: EPOCH 875 - PROGRESS: at 64.22% examples, 1009695 words/s, in_qsize 14, out_qsize 1\n",
      "INFO - 16:32:19: EPOCH 875: training on 2135928 raw words (1561805 effective words) took 1.5s, 1048234 effective words/s\n"
     ]
    },
    {
     "name": "stdout",
     "output_type": "stream",
     "text": [
      "Loss after epoch 875: 0.0\n"
     ]
    },
    {
     "name": "stderr",
     "output_type": "stream",
     "text": [
      "INFO - 16:32:20: EPOCH 876 - PROGRESS: at 66.01% examples, 1032252 words/s, in_qsize 15, out_qsize 0\n",
      "INFO - 16:32:20: EPOCH 876: training on 2135928 raw words (1560487 effective words) took 1.5s, 1063765 effective words/s\n"
     ]
    },
    {
     "name": "stdout",
     "output_type": "stream",
     "text": [
      "Loss after epoch 876: 0.0\n"
     ]
    },
    {
     "name": "stderr",
     "output_type": "stream",
     "text": [
      "INFO - 16:32:21: EPOCH 877 - PROGRESS: at 64.22% examples, 1006008 words/s, in_qsize 16, out_qsize 1\n",
      "INFO - 16:32:22: EPOCH 877: training on 2135928 raw words (1561208 effective words) took 1.5s, 1044456 effective words/s\n"
     ]
    },
    {
     "name": "stdout",
     "output_type": "stream",
     "text": [
      "Loss after epoch 877: 0.0\n"
     ]
    },
    {
     "name": "stderr",
     "output_type": "stream",
     "text": [
      "INFO - 16:32:23: EPOCH 878 - PROGRESS: at 64.22% examples, 1009103 words/s, in_qsize 15, out_qsize 0\n",
      "INFO - 16:32:23: EPOCH 878: training on 2135928 raw words (1560312 effective words) took 1.5s, 1042725 effective words/s\n"
     ]
    },
    {
     "name": "stdout",
     "output_type": "stream",
     "text": [
      "Loss after epoch 878: 0.0\n"
     ]
    },
    {
     "name": "stderr",
     "output_type": "stream",
     "text": [
      "INFO - 16:32:24: EPOCH 879 - PROGRESS: at 62.51% examples, 974873 words/s, in_qsize 14, out_qsize 1\n",
      "INFO - 16:32:25: EPOCH 879: training on 2135928 raw words (1562016 effective words) took 1.5s, 1022474 effective words/s\n"
     ]
    },
    {
     "name": "stdout",
     "output_type": "stream",
     "text": [
      "Loss after epoch 879: 0.0\n"
     ]
    },
    {
     "name": "stderr",
     "output_type": "stream",
     "text": [
      "INFO - 16:32:26: EPOCH 880 - PROGRESS: at 62.94% examples, 960101 words/s, in_qsize 13, out_qsize 2\n",
      "INFO - 16:32:26: EPOCH 880: training on 2135928 raw words (1560705 effective words) took 1.6s, 998631 effective words/s\n"
     ]
    },
    {
     "name": "stdout",
     "output_type": "stream",
     "text": [
      "Loss after epoch 880: 0.0\n"
     ]
    },
    {
     "name": "stderr",
     "output_type": "stream",
     "text": [
      "INFO - 16:32:27: EPOCH 881 - PROGRESS: at 61.66% examples, 953211 words/s, in_qsize 14, out_qsize 1\n",
      "INFO - 16:32:28: EPOCH 881: training on 2135928 raw words (1561245 effective words) took 1.6s, 1004537 effective words/s\n"
     ]
    },
    {
     "name": "stdout",
     "output_type": "stream",
     "text": [
      "Loss after epoch 881: 0.0\n"
     ]
    },
    {
     "name": "stderr",
     "output_type": "stream",
     "text": [
      "INFO - 16:32:29: EPOCH 882 - PROGRESS: at 64.22% examples, 1001261 words/s, in_qsize 13, out_qsize 2\n",
      "INFO - 16:32:30: EPOCH 882: training on 2135928 raw words (1560758 effective words) took 1.5s, 1034685 effective words/s\n"
     ]
    },
    {
     "name": "stdout",
     "output_type": "stream",
     "text": [
      "Loss after epoch 882: 0.0\n"
     ]
    },
    {
     "name": "stderr",
     "output_type": "stream",
     "text": [
      "INFO - 16:32:31: EPOCH 883 - PROGRESS: at 64.67% examples, 1002110 words/s, in_qsize 14, out_qsize 1\n",
      "INFO - 16:32:31: EPOCH 883: training on 2135928 raw words (1560831 effective words) took 1.5s, 1036929 effective words/s\n"
     ]
    },
    {
     "name": "stdout",
     "output_type": "stream",
     "text": [
      "Loss after epoch 883: 0.0\n"
     ]
    },
    {
     "name": "stderr",
     "output_type": "stream",
     "text": [
      "INFO - 16:32:32: EPOCH 884 - PROGRESS: at 63.35% examples, 985894 words/s, in_qsize 15, out_qsize 0\n",
      "INFO - 16:32:33: EPOCH 884: training on 2135928 raw words (1561315 effective words) took 1.5s, 1027502 effective words/s\n"
     ]
    },
    {
     "name": "stdout",
     "output_type": "stream",
     "text": [
      "Loss after epoch 884: 0.0\n"
     ]
    },
    {
     "name": "stderr",
     "output_type": "stream",
     "text": [
      "INFO - 16:32:34: EPOCH 885 - PROGRESS: at 65.12% examples, 1023610 words/s, in_qsize 15, out_qsize 0\n",
      "INFO - 16:32:34: EPOCH 885: training on 2135928 raw words (1560293 effective words) took 1.5s, 1057609 effective words/s\n"
     ]
    },
    {
     "name": "stdout",
     "output_type": "stream",
     "text": [
      "Loss after epoch 885: 0.0\n"
     ]
    },
    {
     "name": "stderr",
     "output_type": "stream",
     "text": [
      "INFO - 16:32:35: EPOCH 886 - PROGRESS: at 62.93% examples, 983875 words/s, in_qsize 15, out_qsize 0\n",
      "INFO - 16:32:36: EPOCH 886: training on 2135928 raw words (1561317 effective words) took 1.5s, 1021771 effective words/s\n"
     ]
    },
    {
     "name": "stdout",
     "output_type": "stream",
     "text": [
      "Loss after epoch 886: 0.0\n"
     ]
    },
    {
     "name": "stderr",
     "output_type": "stream",
     "text": [
      "INFO - 16:32:37: EPOCH 887 - PROGRESS: at 64.22% examples, 1009289 words/s, in_qsize 15, out_qsize 0\n",
      "INFO - 16:32:37: EPOCH 887: training on 2135928 raw words (1561552 effective words) took 1.5s, 1010772 effective words/s\n"
     ]
    },
    {
     "name": "stdout",
     "output_type": "stream",
     "text": [
      "Loss after epoch 887: 0.0\n"
     ]
    },
    {
     "name": "stderr",
     "output_type": "stream",
     "text": [
      "INFO - 16:32:38: EPOCH 888 - PROGRESS: at 64.66% examples, 1007863 words/s, in_qsize 15, out_qsize 0\n",
      "INFO - 16:32:39: EPOCH 888: training on 2135928 raw words (1561000 effective words) took 1.5s, 1033770 effective words/s\n"
     ]
    },
    {
     "name": "stdout",
     "output_type": "stream",
     "text": [
      "Loss after epoch 888: 0.0\n"
     ]
    },
    {
     "name": "stderr",
     "output_type": "stream",
     "text": [
      "INFO - 16:32:40: EPOCH 889 - PROGRESS: at 63.78% examples, 985436 words/s, in_qsize 15, out_qsize 0\n",
      "INFO - 16:32:40: EPOCH 889: training on 2135928 raw words (1561035 effective words) took 1.5s, 1019109 effective words/s\n"
     ]
    },
    {
     "name": "stdout",
     "output_type": "stream",
     "text": [
      "Loss after epoch 889: 0.0\n"
     ]
    },
    {
     "name": "stderr",
     "output_type": "stream",
     "text": [
      "INFO - 16:32:41: EPOCH 890 - PROGRESS: at 62.52% examples, 969546 words/s, in_qsize 15, out_qsize 0\n",
      "INFO - 16:32:42: EPOCH 890: training on 2135928 raw words (1561031 effective words) took 1.5s, 1018173 effective words/s\n"
     ]
    },
    {
     "name": "stdout",
     "output_type": "stream",
     "text": [
      "Loss after epoch 890: 0.0\n"
     ]
    },
    {
     "name": "stderr",
     "output_type": "stream",
     "text": [
      "INFO - 16:32:43: EPOCH 891 - PROGRESS: at 62.92% examples, 986953 words/s, in_qsize 14, out_qsize 1\n",
      "INFO - 16:32:43: EPOCH 891: training on 2135928 raw words (1560935 effective words) took 1.5s, 1016343 effective words/s\n"
     ]
    },
    {
     "name": "stdout",
     "output_type": "stream",
     "text": [
      "Loss after epoch 891: 0.0\n"
     ]
    },
    {
     "name": "stderr",
     "output_type": "stream",
     "text": [
      "INFO - 16:32:44: EPOCH 892 - PROGRESS: at 61.66% examples, 949405 words/s, in_qsize 13, out_qsize 2\n",
      "INFO - 16:32:45: EPOCH 892: training on 2135928 raw words (1560430 effective words) took 1.6s, 1005930 effective words/s\n"
     ]
    },
    {
     "name": "stdout",
     "output_type": "stream",
     "text": [
      "Loss after epoch 892: 0.0\n"
     ]
    },
    {
     "name": "stderr",
     "output_type": "stream",
     "text": [
      "INFO - 16:32:46: EPOCH 893 - PROGRESS: at 64.67% examples, 1014151 words/s, in_qsize 14, out_qsize 1\n",
      "INFO - 16:32:46: EPOCH 893: training on 2135928 raw words (1560646 effective words) took 1.5s, 1043753 effective words/s\n"
     ]
    },
    {
     "name": "stdout",
     "output_type": "stream",
     "text": [
      "Loss after epoch 893: 0.0\n"
     ]
    },
    {
     "name": "stderr",
     "output_type": "stream",
     "text": [
      "INFO - 16:32:47: EPOCH 894 - PROGRESS: at 63.79% examples, 1001777 words/s, in_qsize 14, out_qsize 1\n",
      "INFO - 16:32:48: EPOCH 894: training on 2135928 raw words (1561131 effective words) took 1.5s, 1046672 effective words/s\n"
     ]
    },
    {
     "name": "stdout",
     "output_type": "stream",
     "text": [
      "Loss after epoch 894: 0.0\n"
     ]
    },
    {
     "name": "stderr",
     "output_type": "stream",
     "text": [
      "INFO - 16:32:49: EPOCH 895 - PROGRESS: at 64.22% examples, 1003564 words/s, in_qsize 14, out_qsize 1\n",
      "INFO - 16:32:49: EPOCH 895: training on 2135928 raw words (1561067 effective words) took 1.6s, 978846 effective words/s\n"
     ]
    },
    {
     "name": "stdout",
     "output_type": "stream",
     "text": [
      "Loss after epoch 895: 0.0\n"
     ]
    },
    {
     "name": "stderr",
     "output_type": "stream",
     "text": [
      "INFO - 16:32:51: EPOCH 896 - PROGRESS: at 60.23% examples, 929665 words/s, in_qsize 16, out_qsize 0\n",
      "INFO - 16:32:51: EPOCH 896: training on 2135928 raw words (1561451 effective words) took 1.6s, 948332 effective words/s\n"
     ]
    },
    {
     "name": "stdout",
     "output_type": "stream",
     "text": [
      "Loss after epoch 896: 0.0\n"
     ]
    },
    {
     "name": "stderr",
     "output_type": "stream",
     "text": [
      "INFO - 16:32:52: EPOCH 897 - PROGRESS: at 59.37% examples, 916538 words/s, in_qsize 16, out_qsize 1\n",
      "INFO - 16:32:53: EPOCH 897: training on 2135928 raw words (1560889 effective words) took 1.6s, 959301 effective words/s\n"
     ]
    },
    {
     "name": "stdout",
     "output_type": "stream",
     "text": [
      "Loss after epoch 897: 0.0\n"
     ]
    },
    {
     "name": "stderr",
     "output_type": "stream",
     "text": [
      "INFO - 16:32:54: EPOCH 898 - PROGRESS: at 60.74% examples, 948973 words/s, in_qsize 15, out_qsize 0\n",
      "INFO - 16:32:54: EPOCH 898: training on 2135928 raw words (1561152 effective words) took 1.6s, 981087 effective words/s\n"
     ]
    },
    {
     "name": "stdout",
     "output_type": "stream",
     "text": [
      "Loss after epoch 898: 0.0\n"
     ]
    },
    {
     "name": "stderr",
     "output_type": "stream",
     "text": [
      "INFO - 16:32:55: EPOCH 899 - PROGRESS: at 63.85% examples, 985127 words/s, in_qsize 15, out_qsize 0\n",
      "INFO - 16:32:56: EPOCH 899: training on 2135928 raw words (1561138 effective words) took 1.5s, 1024372 effective words/s\n"
     ]
    },
    {
     "name": "stdout",
     "output_type": "stream",
     "text": [
      "Loss after epoch 899: 0.0\n"
     ]
    },
    {
     "name": "stderr",
     "output_type": "stream",
     "text": [
      "INFO - 16:32:57: EPOCH 900 - PROGRESS: at 62.51% examples, 969543 words/s, in_qsize 13, out_qsize 2\n",
      "INFO - 16:32:58: EPOCH 900: training on 2135928 raw words (1561259 effective words) took 1.6s, 989620 effective words/s\n"
     ]
    },
    {
     "name": "stdout",
     "output_type": "stream",
     "text": [
      "Loss after epoch 900: 0.0\n"
     ]
    },
    {
     "name": "stderr",
     "output_type": "stream",
     "text": [
      "INFO - 16:32:59: EPOCH 901 - PROGRESS: at 63.78% examples, 996441 words/s, in_qsize 15, out_qsize 0\n",
      "INFO - 16:32:59: EPOCH 901: training on 2135928 raw words (1561578 effective words) took 1.5s, 1036169 effective words/s\n"
     ]
    },
    {
     "name": "stdout",
     "output_type": "stream",
     "text": [
      "Loss after epoch 901: 0.0\n"
     ]
    },
    {
     "name": "stderr",
     "output_type": "stream",
     "text": [
      "INFO - 16:33:00: EPOCH 902 - PROGRESS: at 62.52% examples, 976010 words/s, in_qsize 15, out_qsize 0\n",
      "INFO - 16:33:01: EPOCH 902: training on 2135928 raw words (1561436 effective words) took 1.5s, 1022266 effective words/s\n"
     ]
    },
    {
     "name": "stdout",
     "output_type": "stream",
     "text": [
      "Loss after epoch 902: 0.0\n"
     ]
    },
    {
     "name": "stderr",
     "output_type": "stream",
     "text": [
      "INFO - 16:33:02: EPOCH 903 - PROGRESS: at 57.98% examples, 895404 words/s, in_qsize 15, out_qsize 0\n",
      "INFO - 16:33:02: EPOCH 903: training on 2135928 raw words (1561618 effective words) took 1.8s, 864568 effective words/s\n"
     ]
    },
    {
     "name": "stdout",
     "output_type": "stream",
     "text": [
      "Loss after epoch 903: 0.0\n"
     ]
    },
    {
     "name": "stderr",
     "output_type": "stream",
     "text": [
      "INFO - 16:33:03: EPOCH 904 - PROGRESS: at 49.80% examples, 774002 words/s, in_qsize 15, out_qsize 0\n",
      "INFO - 16:33:04: EPOCH 904: training on 2135928 raw words (1560536 effective words) took 1.8s, 874753 effective words/s\n"
     ]
    },
    {
     "name": "stdout",
     "output_type": "stream",
     "text": [
      "Loss after epoch 904: 0.0\n"
     ]
    },
    {
     "name": "stderr",
     "output_type": "stream",
     "text": [
      "INFO - 16:33:05: EPOCH 905 - PROGRESS: at 67.72% examples, 1055128 words/s, in_qsize 15, out_qsize 0\n",
      "INFO - 16:33:06: EPOCH 905: training on 2135928 raw words (1561271 effective words) took 1.5s, 1025648 effective words/s\n"
     ]
    },
    {
     "name": "stdout",
     "output_type": "stream",
     "text": [
      "Loss after epoch 905: 0.0\n"
     ]
    },
    {
     "name": "stderr",
     "output_type": "stream",
     "text": [
      "INFO - 16:33:07: EPOCH 906 - PROGRESS: at 58.41% examples, 898014 words/s, in_qsize 13, out_qsize 2\n",
      "INFO - 16:33:07: EPOCH 906: training on 2135928 raw words (1561179 effective words) took 1.6s, 984411 effective words/s\n"
     ]
    },
    {
     "name": "stdout",
     "output_type": "stream",
     "text": [
      "Loss after epoch 906: 0.0\n"
     ]
    },
    {
     "name": "stderr",
     "output_type": "stream",
     "text": [
      "INFO - 16:33:08: EPOCH 907 - PROGRESS: at 61.17% examples, 945063 words/s, in_qsize 14, out_qsize 1\n",
      "INFO - 16:33:09: EPOCH 907: training on 2135928 raw words (1561139 effective words) took 1.6s, 986055 effective words/s\n"
     ]
    },
    {
     "name": "stdout",
     "output_type": "stream",
     "text": [
      "Loss after epoch 907: 0.0\n"
     ]
    },
    {
     "name": "stderr",
     "output_type": "stream",
     "text": [
      "INFO - 16:33:10: EPOCH 908 - PROGRESS: at 65.56% examples, 1021263 words/s, in_qsize 16, out_qsize 0\n",
      "INFO - 16:33:10: EPOCH 908: training on 2135928 raw words (1560537 effective words) took 1.4s, 1085889 effective words/s\n"
     ]
    },
    {
     "name": "stdout",
     "output_type": "stream",
     "text": [
      "Loss after epoch 908: 0.0\n"
     ]
    },
    {
     "name": "stderr",
     "output_type": "stream",
     "text": [
      "INFO - 16:33:11: EPOCH 909 - PROGRESS: at 72.72% examples, 1156107 words/s, in_qsize 16, out_qsize 0\n",
      "INFO - 16:33:12: EPOCH 909: training on 2135928 raw words (1560806 effective words) took 1.4s, 1144807 effective words/s\n"
     ]
    },
    {
     "name": "stdout",
     "output_type": "stream",
     "text": [
      "Loss after epoch 909: 0.0\n"
     ]
    },
    {
     "name": "stderr",
     "output_type": "stream",
     "text": [
      "INFO - 16:33:13: EPOCH 910 - PROGRESS: at 73.99% examples, 1175800 words/s, in_qsize 15, out_qsize 0\n",
      "INFO - 16:33:13: EPOCH 910: training on 2135928 raw words (1561445 effective words) took 1.3s, 1161254 effective words/s\n"
     ]
    },
    {
     "name": "stdout",
     "output_type": "stream",
     "text": [
      "Loss after epoch 910: 0.0\n"
     ]
    },
    {
     "name": "stderr",
     "output_type": "stream",
     "text": [
      "INFO - 16:33:14: EPOCH 911 - PROGRESS: at 73.54% examples, 1172650 words/s, in_qsize 15, out_qsize 0\n",
      "INFO - 16:33:14: EPOCH 911: training on 2135928 raw words (1562012 effective words) took 1.4s, 1142637 effective words/s\n"
     ]
    },
    {
     "name": "stdout",
     "output_type": "stream",
     "text": [
      "Loss after epoch 911: 0.0\n"
     ]
    },
    {
     "name": "stderr",
     "output_type": "stream",
     "text": [
      "INFO - 16:33:15: EPOCH 912 - PROGRESS: at 75.69% examples, 1203854 words/s, in_qsize 16, out_qsize 1\n",
      "INFO - 16:33:16: EPOCH 912: training on 2135928 raw words (1561033 effective words) took 1.3s, 1242043 effective words/s\n"
     ]
    },
    {
     "name": "stdout",
     "output_type": "stream",
     "text": [
      "Loss after epoch 912: 0.0\n"
     ]
    },
    {
     "name": "stderr",
     "output_type": "stream",
     "text": [
      "INFO - 16:33:17: EPOCH 913 - PROGRESS: at 77.48% examples, 1236263 words/s, in_qsize 13, out_qsize 2\n",
      "INFO - 16:33:17: EPOCH 913: training on 2135928 raw words (1560911 effective words) took 1.2s, 1269095 effective words/s\n"
     ]
    },
    {
     "name": "stdout",
     "output_type": "stream",
     "text": [
      "Loss after epoch 913: 0.0\n"
     ]
    },
    {
     "name": "stderr",
     "output_type": "stream",
     "text": [
      "INFO - 16:33:18: EPOCH 914 - PROGRESS: at 69.37% examples, 1094692 words/s, in_qsize 13, out_qsize 2\n",
      "INFO - 16:33:18: EPOCH 914: training on 2135928 raw words (1561272 effective words) took 1.4s, 1120496 effective words/s\n"
     ]
    },
    {
     "name": "stdout",
     "output_type": "stream",
     "text": [
      "Loss after epoch 914: 0.0\n"
     ]
    },
    {
     "name": "stderr",
     "output_type": "stream",
     "text": [
      "INFO - 16:33:19: EPOCH 915 - PROGRESS: at 72.30% examples, 1132132 words/s, in_qsize 14, out_qsize 1\n",
      "INFO - 16:33:20: EPOCH 915: training on 2135928 raw words (1561131 effective words) took 1.3s, 1187609 effective words/s\n"
     ]
    },
    {
     "name": "stdout",
     "output_type": "stream",
     "text": [
      "Loss after epoch 915: 0.0\n"
     ]
    },
    {
     "name": "stderr",
     "output_type": "stream",
     "text": [
      "INFO - 16:33:21: EPOCH 916 - PROGRESS: at 74.01% examples, 1176405 words/s, in_qsize 14, out_qsize 1\n",
      "INFO - 16:33:21: EPOCH 916: training on 2135928 raw words (1561401 effective words) took 1.3s, 1178757 effective words/s\n"
     ]
    },
    {
     "name": "stdout",
     "output_type": "stream",
     "text": [
      "Loss after epoch 916: 0.0\n"
     ]
    },
    {
     "name": "stderr",
     "output_type": "stream",
     "text": [
      "INFO - 16:33:22: EPOCH 917 - PROGRESS: at 67.72% examples, 1046578 words/s, in_qsize 14, out_qsize 1\n",
      "INFO - 16:33:22: EPOCH 917: training on 2135928 raw words (1561093 effective words) took 1.4s, 1117571 effective words/s\n"
     ]
    },
    {
     "name": "stdout",
     "output_type": "stream",
     "text": [
      "Loss after epoch 917: 0.0\n"
     ]
    },
    {
     "name": "stderr",
     "output_type": "stream",
     "text": [
      "INFO - 16:33:23: EPOCH 918 - PROGRESS: at 63.78% examples, 977268 words/s, in_qsize 15, out_qsize 0\n",
      "INFO - 16:33:24: EPOCH 918: training on 2135928 raw words (1560575 effective words) took 1.5s, 1044448 effective words/s\n"
     ]
    },
    {
     "name": "stdout",
     "output_type": "stream",
     "text": [
      "Loss after epoch 918: 0.0\n"
     ]
    },
    {
     "name": "stderr",
     "output_type": "stream",
     "text": [
      "INFO - 16:33:25: EPOCH 919 - PROGRESS: at 79.21% examples, 1248461 words/s, in_qsize 15, out_qsize 0\n",
      "INFO - 16:33:25: EPOCH 919: training on 2135928 raw words (1561715 effective words) took 1.2s, 1279109 effective words/s\n"
     ]
    },
    {
     "name": "stdout",
     "output_type": "stream",
     "text": [
      "Loss after epoch 919: 0.0\n"
     ]
    },
    {
     "name": "stderr",
     "output_type": "stream",
     "text": [
      "INFO - 16:33:26: EPOCH 920 - PROGRESS: at 77.00% examples, 1206381 words/s, in_qsize 16, out_qsize 0\n",
      "INFO - 16:33:26: EPOCH 920: training on 2135928 raw words (1560619 effective words) took 1.3s, 1235553 effective words/s\n"
     ]
    },
    {
     "name": "stdout",
     "output_type": "stream",
     "text": [
      "Loss after epoch 920: 0.0\n"
     ]
    },
    {
     "name": "stderr",
     "output_type": "stream",
     "text": [
      "INFO - 16:33:27: EPOCH 921 - PROGRESS: at 77.91% examples, 1247250 words/s, in_qsize 16, out_qsize 0\n",
      "INFO - 16:33:28: EPOCH 921: training on 2135928 raw words (1561648 effective words) took 1.2s, 1269565 effective words/s\n"
     ]
    },
    {
     "name": "stdout",
     "output_type": "stream",
     "text": [
      "Loss after epoch 921: 0.0\n"
     ]
    },
    {
     "name": "stderr",
     "output_type": "stream",
     "text": [
      "INFO - 16:33:29: EPOCH 922 - PROGRESS: at 73.99% examples, 1179581 words/s, in_qsize 13, out_qsize 2\n",
      "INFO - 16:33:29: EPOCH 922: training on 2135928 raw words (1560770 effective words) took 1.3s, 1235451 effective words/s\n"
     ]
    },
    {
     "name": "stdout",
     "output_type": "stream",
     "text": [
      "Loss after epoch 922: 0.0\n"
     ]
    },
    {
     "name": "stderr",
     "output_type": "stream",
     "text": [
      "INFO - 16:33:30: EPOCH 923 - PROGRESS: at 78.34% examples, 1249450 words/s, in_qsize 16, out_qsize 0\n",
      "INFO - 16:33:30: EPOCH 923: training on 2135928 raw words (1560000 effective words) took 1.2s, 1276250 effective words/s\n"
     ]
    },
    {
     "name": "stdout",
     "output_type": "stream",
     "text": [
      "Loss after epoch 923: 0.0\n"
     ]
    },
    {
     "name": "stderr",
     "output_type": "stream",
     "text": [
      "INFO - 16:33:31: EPOCH 924 - PROGRESS: at 74.84% examples, 1188190 words/s, in_qsize 15, out_qsize 0\n",
      "INFO - 16:33:31: EPOCH 924: training on 2135928 raw words (1562045 effective words) took 1.3s, 1238840 effective words/s\n"
     ]
    },
    {
     "name": "stdout",
     "output_type": "stream",
     "text": [
      "Loss after epoch 924: 0.0\n"
     ]
    },
    {
     "name": "stderr",
     "output_type": "stream",
     "text": [
      "INFO - 16:33:32: EPOCH 925 - PROGRESS: at 77.00% examples, 1232531 words/s, in_qsize 16, out_qsize 0\n",
      "INFO - 16:33:33: EPOCH 925: training on 2135928 raw words (1560757 effective words) took 1.2s, 1253984 effective words/s\n"
     ]
    },
    {
     "name": "stdout",
     "output_type": "stream",
     "text": [
      "Loss after epoch 925: 0.0\n"
     ]
    },
    {
     "name": "stderr",
     "output_type": "stream",
     "text": [
      "INFO - 16:33:34: EPOCH 926 - PROGRESS: at 75.26% examples, 1187441 words/s, in_qsize 16, out_qsize 0\n",
      "INFO - 16:33:34: EPOCH 926: training on 2135928 raw words (1561696 effective words) took 1.4s, 1153891 effective words/s\n"
     ]
    },
    {
     "name": "stdout",
     "output_type": "stream",
     "text": [
      "Loss after epoch 926: 0.0\n"
     ]
    },
    {
     "name": "stderr",
     "output_type": "stream",
     "text": [
      "INFO - 16:33:35: EPOCH 927 - PROGRESS: at 66.48% examples, 1035746 words/s, in_qsize 14, out_qsize 1\n",
      "INFO - 16:33:36: EPOCH 927: training on 2135928 raw words (1561084 effective words) took 1.5s, 1061139 effective words/s\n"
     ]
    },
    {
     "name": "stdout",
     "output_type": "stream",
     "text": [
      "Loss after epoch 927: 0.0\n"
     ]
    },
    {
     "name": "stderr",
     "output_type": "stream",
     "text": [
      "INFO - 16:33:37: EPOCH 928 - PROGRESS: at 68.53% examples, 1079014 words/s, in_qsize 15, out_qsize 0\n",
      "INFO - 16:33:37: EPOCH 928: training on 2135928 raw words (1562103 effective words) took 1.4s, 1140950 effective words/s\n"
     ]
    },
    {
     "name": "stdout",
     "output_type": "stream",
     "text": [
      "Loss after epoch 928: 0.0\n"
     ]
    },
    {
     "name": "stderr",
     "output_type": "stream",
     "text": [
      "INFO - 16:33:38: EPOCH 929 - PROGRESS: at 65.11% examples, 1017757 words/s, in_qsize 15, out_qsize 0\n",
      "INFO - 16:33:38: EPOCH 929: training on 2135928 raw words (1560789 effective words) took 1.5s, 1023531 effective words/s\n"
     ]
    },
    {
     "name": "stdout",
     "output_type": "stream",
     "text": [
      "Loss after epoch 929: 0.0\n"
     ]
    },
    {
     "name": "stderr",
     "output_type": "stream",
     "text": [
      "INFO - 16:33:39: EPOCH 930 - PROGRESS: at 63.78% examples, 997373 words/s, in_qsize 14, out_qsize 1\n",
      "INFO - 16:33:40: EPOCH 930: training on 2135928 raw words (1561393 effective words) took 1.5s, 1038249 effective words/s\n"
     ]
    },
    {
     "name": "stdout",
     "output_type": "stream",
     "text": [
      "Loss after epoch 930: 0.0\n"
     ]
    },
    {
     "name": "stderr",
     "output_type": "stream",
     "text": [
      "INFO - 16:33:41: EPOCH 931 - PROGRESS: at 67.72% examples, 1043485 words/s, in_qsize 15, out_qsize 0\n",
      "INFO - 16:33:41: EPOCH 931: training on 2135928 raw words (1561407 effective words) took 1.4s, 1091556 effective words/s\n"
     ]
    },
    {
     "name": "stdout",
     "output_type": "stream",
     "text": [
      "Loss after epoch 931: 0.0\n"
     ]
    },
    {
     "name": "stderr",
     "output_type": "stream",
     "text": [
      "INFO - 16:33:42: EPOCH 932 - PROGRESS: at 71.89% examples, 1127352 words/s, in_qsize 13, out_qsize 2\n",
      "INFO - 16:33:43: EPOCH 932: training on 2135928 raw words (1560864 effective words) took 1.3s, 1181808 effective words/s\n"
     ]
    },
    {
     "name": "stdout",
     "output_type": "stream",
     "text": [
      "Loss after epoch 932: 0.0\n"
     ]
    },
    {
     "name": "stderr",
     "output_type": "stream",
     "text": [
      "INFO - 16:33:44: EPOCH 933 - PROGRESS: at 74.40% examples, 1185318 words/s, in_qsize 15, out_qsize 0\n",
      "INFO - 16:33:44: EPOCH 933: training on 2135928 raw words (1561924 effective words) took 1.3s, 1225335 effective words/s\n"
     ]
    },
    {
     "name": "stdout",
     "output_type": "stream",
     "text": [
      "Loss after epoch 933: 0.0\n"
     ]
    },
    {
     "name": "stderr",
     "output_type": "stream",
     "text": [
      "INFO - 16:33:45: EPOCH 934 - PROGRESS: at 79.65% examples, 1272555 words/s, in_qsize 16, out_qsize 0\n",
      "INFO - 16:33:45: EPOCH 934: training on 2135928 raw words (1561494 effective words) took 1.2s, 1298167 effective words/s\n"
     ]
    },
    {
     "name": "stdout",
     "output_type": "stream",
     "text": [
      "Loss after epoch 934: 0.0\n"
     ]
    },
    {
     "name": "stderr",
     "output_type": "stream",
     "text": [
      "INFO - 16:33:46: EPOCH 935 - PROGRESS: at 78.78% examples, 1256525 words/s, in_qsize 16, out_qsize 1\n",
      "INFO - 16:33:46: EPOCH 935: training on 2135928 raw words (1561827 effective words) took 1.2s, 1297241 effective words/s\n"
     ]
    },
    {
     "name": "stdout",
     "output_type": "stream",
     "text": [
      "Loss after epoch 935: 0.0\n"
     ]
    },
    {
     "name": "stderr",
     "output_type": "stream",
     "text": [
      "INFO - 16:33:47: EPOCH 936 - PROGRESS: at 75.69% examples, 1197991 words/s, in_qsize 15, out_qsize 0\n",
      "INFO - 16:33:48: EPOCH 936: training on 2135928 raw words (1560843 effective words) took 1.3s, 1225113 effective words/s\n"
     ]
    },
    {
     "name": "stdout",
     "output_type": "stream",
     "text": [
      "Loss after epoch 936: 0.0\n"
     ]
    },
    {
     "name": "stderr",
     "output_type": "stream",
     "text": [
      "INFO - 16:33:49: EPOCH 937 - PROGRESS: at 76.57% examples, 1215111 words/s, in_qsize 15, out_qsize 0\n",
      "INFO - 16:33:49: EPOCH 937: training on 2135928 raw words (1561554 effective words) took 1.2s, 1252288 effective words/s\n"
     ]
    },
    {
     "name": "stdout",
     "output_type": "stream",
     "text": [
      "Loss after epoch 937: 0.0\n"
     ]
    },
    {
     "name": "stderr",
     "output_type": "stream",
     "text": [
      "INFO - 16:33:50: EPOCH 938 - PROGRESS: at 78.78% examples, 1247002 words/s, in_qsize 13, out_qsize 2\n",
      "INFO - 16:33:50: EPOCH 938: training on 2135928 raw words (1561343 effective words) took 1.2s, 1284205 effective words/s\n"
     ]
    },
    {
     "name": "stdout",
     "output_type": "stream",
     "text": [
      "Loss after epoch 938: 0.0\n"
     ]
    },
    {
     "name": "stderr",
     "output_type": "stream",
     "text": [
      "INFO - 16:33:51: EPOCH 939 - PROGRESS: at 77.47% examples, 1238991 words/s, in_qsize 14, out_qsize 0\n",
      "INFO - 16:33:51: EPOCH 939: training on 2135928 raw words (1561035 effective words) took 1.2s, 1281709 effective words/s\n"
     ]
    },
    {
     "name": "stdout",
     "output_type": "stream",
     "text": [
      "Loss after epoch 939: 0.0\n"
     ]
    },
    {
     "name": "stderr",
     "output_type": "stream",
     "text": [
      "INFO - 16:33:52: EPOCH 940 - PROGRESS: at 79.21% examples, 1269802 words/s, in_qsize 15, out_qsize 0\n",
      "INFO - 16:33:53: EPOCH 940: training on 2135928 raw words (1561419 effective words) took 1.2s, 1304734 effective words/s\n"
     ]
    },
    {
     "name": "stdout",
     "output_type": "stream",
     "text": [
      "Loss after epoch 940: 0.0\n"
     ]
    },
    {
     "name": "stderr",
     "output_type": "stream",
     "text": [
      "INFO - 16:33:54: EPOCH 941 - PROGRESS: at 80.95% examples, 1277310 words/s, in_qsize 15, out_qsize 0\n",
      "INFO - 16:33:54: EPOCH 941: training on 2135928 raw words (1560513 effective words) took 1.2s, 1314723 effective words/s\n"
     ]
    },
    {
     "name": "stdout",
     "output_type": "stream",
     "text": [
      "Loss after epoch 941: 0.0\n"
     ]
    },
    {
     "name": "stderr",
     "output_type": "stream",
     "text": [
      "INFO - 16:33:55: EPOCH 942 - PROGRESS: at 80.09% examples, 1253855 words/s, in_qsize 15, out_qsize 0\n",
      "INFO - 16:33:55: EPOCH 942: training on 2135928 raw words (1561666 effective words) took 1.2s, 1306322 effective words/s\n"
     ]
    },
    {
     "name": "stdout",
     "output_type": "stream",
     "text": [
      "Loss after epoch 942: 0.0\n"
     ]
    },
    {
     "name": "stderr",
     "output_type": "stream",
     "text": [
      "INFO - 16:33:56: EPOCH 943 - PROGRESS: at 68.93% examples, 1085891 words/s, in_qsize 15, out_qsize 0\n",
      "INFO - 16:33:56: EPOCH 943: training on 2135928 raw words (1560891 effective words) took 1.4s, 1110355 effective words/s\n"
     ]
    },
    {
     "name": "stdout",
     "output_type": "stream",
     "text": [
      "Loss after epoch 943: 0.0\n"
     ]
    },
    {
     "name": "stderr",
     "output_type": "stream",
     "text": [
      "INFO - 16:33:57: EPOCH 944 - PROGRESS: at 62.09% examples, 966589 words/s, in_qsize 15, out_qsize 0\n",
      "INFO - 16:33:58: EPOCH 944: training on 2135928 raw words (1560511 effective words) took 1.5s, 1057213 effective words/s\n"
     ]
    },
    {
     "name": "stdout",
     "output_type": "stream",
     "text": [
      "Loss after epoch 944: 0.0\n"
     ]
    },
    {
     "name": "stderr",
     "output_type": "stream",
     "text": [
      "INFO - 16:33:59: EPOCH 945 - PROGRESS: at 72.30% examples, 1142203 words/s, in_qsize 14, out_qsize 1\n",
      "INFO - 16:33:59: EPOCH 945: training on 2135928 raw words (1560843 effective words) took 1.3s, 1194901 effective words/s\n"
     ]
    },
    {
     "name": "stdout",
     "output_type": "stream",
     "text": [
      "Loss after epoch 945: 0.0\n"
     ]
    },
    {
     "name": "stderr",
     "output_type": "stream",
     "text": [
      "INFO - 16:34:00: EPOCH 946 - PROGRESS: at 73.54% examples, 1162151 words/s, in_qsize 14, out_qsize 1\n",
      "INFO - 16:34:01: EPOCH 946: training on 2135928 raw words (1561747 effective words) took 1.3s, 1221891 effective words/s\n"
     ]
    },
    {
     "name": "stdout",
     "output_type": "stream",
     "text": [
      "Loss after epoch 946: 0.0\n"
     ]
    },
    {
     "name": "stderr",
     "output_type": "stream",
     "text": [
      "INFO - 16:34:02: EPOCH 947 - PROGRESS: at 80.51% examples, 1292132 words/s, in_qsize 16, out_qsize 0\n",
      "INFO - 16:34:02: EPOCH 947: training on 2135928 raw words (1561107 effective words) took 1.2s, 1310462 effective words/s\n"
     ]
    },
    {
     "name": "stdout",
     "output_type": "stream",
     "text": [
      "Loss after epoch 947: 0.0\n"
     ]
    },
    {
     "name": "stderr",
     "output_type": "stream",
     "text": [
      "INFO - 16:34:03: EPOCH 948 - PROGRESS: at 77.90% examples, 1247274 words/s, in_qsize 16, out_qsize 1\n",
      "INFO - 16:34:03: EPOCH 948: training on 2135928 raw words (1560697 effective words) took 1.2s, 1291558 effective words/s\n"
     ]
    },
    {
     "name": "stdout",
     "output_type": "stream",
     "text": [
      "Loss after epoch 948: 0.0\n"
     ]
    },
    {
     "name": "stderr",
     "output_type": "stream",
     "text": [
      "INFO - 16:34:04: EPOCH 949 - PROGRESS: at 80.07% examples, 1280623 words/s, in_qsize 14, out_qsize 1\n",
      "INFO - 16:34:04: EPOCH 949: training on 2135928 raw words (1560570 effective words) took 1.2s, 1309306 effective words/s\n"
     ]
    },
    {
     "name": "stdout",
     "output_type": "stream",
     "text": [
      "Loss after epoch 949: 0.0\n"
     ]
    },
    {
     "name": "stderr",
     "output_type": "stream",
     "text": [
      "INFO - 16:34:05: EPOCH 950 - PROGRESS: at 79.65% examples, 1267864 words/s, in_qsize 15, out_qsize 0\n",
      "INFO - 16:34:05: EPOCH 950: training on 2135928 raw words (1560523 effective words) took 1.2s, 1305857 effective words/s\n"
     ]
    },
    {
     "name": "stdout",
     "output_type": "stream",
     "text": [
      "Loss after epoch 950: 0.0\n"
     ]
    },
    {
     "name": "stderr",
     "output_type": "stream",
     "text": [
      "INFO - 16:34:06: EPOCH 951 - PROGRESS: at 79.21% examples, 1252287 words/s, in_qsize 12, out_qsize 3\n",
      "INFO - 16:34:07: EPOCH 951: training on 2135928 raw words (1560903 effective words) took 1.2s, 1292361 effective words/s\n"
     ]
    },
    {
     "name": "stdout",
     "output_type": "stream",
     "text": [
      "Loss after epoch 951: 0.0\n"
     ]
    },
    {
     "name": "stderr",
     "output_type": "stream",
     "text": [
      "INFO - 16:34:08: EPOCH 952 - PROGRESS: at 80.51% examples, 1270369 words/s, in_qsize 15, out_qsize 0\n",
      "INFO - 16:34:08: EPOCH 952: training on 2135928 raw words (1560662 effective words) took 1.2s, 1310908 effective words/s\n"
     ]
    },
    {
     "name": "stdout",
     "output_type": "stream",
     "text": [
      "Loss after epoch 952: 0.0\n"
     ]
    },
    {
     "name": "stderr",
     "output_type": "stream",
     "text": [
      "INFO - 16:34:09: EPOCH 953 - PROGRESS: at 80.51% examples, 1289902 words/s, in_qsize 16, out_qsize 0\n",
      "INFO - 16:34:09: EPOCH 953: training on 2135928 raw words (1561314 effective words) took 1.2s, 1298187 effective words/s\n"
     ]
    },
    {
     "name": "stdout",
     "output_type": "stream",
     "text": [
      "Loss after epoch 953: 0.0\n"
     ]
    },
    {
     "name": "stderr",
     "output_type": "stream",
     "text": [
      "INFO - 16:34:10: EPOCH 954 - PROGRESS: at 78.35% examples, 1254735 words/s, in_qsize 15, out_qsize 0\n",
      "INFO - 16:34:10: EPOCH 954: training on 2135928 raw words (1561046 effective words) took 1.2s, 1296698 effective words/s\n"
     ]
    },
    {
     "name": "stdout",
     "output_type": "stream",
     "text": [
      "Loss after epoch 954: 0.0\n"
     ]
    },
    {
     "name": "stderr",
     "output_type": "stream",
     "text": [
      "INFO - 16:34:11: EPOCH 955 - PROGRESS: at 80.09% examples, 1259991 words/s, in_qsize 15, out_qsize 0\n",
      "INFO - 16:34:11: EPOCH 955: training on 2135928 raw words (1561018 effective words) took 1.2s, 1295547 effective words/s\n"
     ]
    },
    {
     "name": "stdout",
     "output_type": "stream",
     "text": [
      "Loss after epoch 955: 0.0\n"
     ]
    },
    {
     "name": "stderr",
     "output_type": "stream",
     "text": [
      "INFO - 16:34:12: EPOCH 956 - PROGRESS: at 79.65% examples, 1275182 words/s, in_qsize 15, out_qsize 0\n",
      "INFO - 16:34:13: EPOCH 956: training on 2135928 raw words (1561641 effective words) took 1.2s, 1311912 effective words/s\n"
     ]
    },
    {
     "name": "stdout",
     "output_type": "stream",
     "text": [
      "Loss after epoch 956: 0.0\n"
     ]
    },
    {
     "name": "stderr",
     "output_type": "stream",
     "text": [
      "INFO - 16:34:14: EPOCH 957 - PROGRESS: at 80.08% examples, 1272403 words/s, in_qsize 16, out_qsize 0\n",
      "INFO - 16:34:14: EPOCH 957: training on 2135928 raw words (1561154 effective words) took 1.2s, 1301460 effective words/s\n"
     ]
    },
    {
     "name": "stdout",
     "output_type": "stream",
     "text": [
      "Loss after epoch 957: 0.0\n"
     ]
    },
    {
     "name": "stderr",
     "output_type": "stream",
     "text": [
      "INFO - 16:34:15: EPOCH 958 - PROGRESS: at 76.13% examples, 1210192 words/s, in_qsize 16, out_qsize 1\n",
      "INFO - 16:34:15: EPOCH 958: training on 2135928 raw words (1561427 effective words) took 1.3s, 1229884 effective words/s\n"
     ]
    },
    {
     "name": "stdout",
     "output_type": "stream",
     "text": [
      "Loss after epoch 958: 0.0\n"
     ]
    },
    {
     "name": "stderr",
     "output_type": "stream",
     "text": [
      "INFO - 16:34:16: EPOCH 959 - PROGRESS: at 68.53% examples, 1078004 words/s, in_qsize 15, out_qsize 0\n",
      "INFO - 16:34:17: EPOCH 959: training on 2135928 raw words (1561443 effective words) took 1.4s, 1144797 effective words/s\n"
     ]
    },
    {
     "name": "stdout",
     "output_type": "stream",
     "text": [
      "Loss after epoch 959: 0.0\n"
     ]
    },
    {
     "name": "stderr",
     "output_type": "stream",
     "text": [
      "INFO - 16:34:18: EPOCH 960 - PROGRESS: at 73.95% examples, 1159677 words/s, in_qsize 15, out_qsize 0\n",
      "INFO - 16:34:18: EPOCH 960: training on 2135928 raw words (1561429 effective words) took 1.4s, 1148972 effective words/s\n"
     ]
    },
    {
     "name": "stdout",
     "output_type": "stream",
     "text": [
      "Loss after epoch 960: 0.0\n"
     ]
    },
    {
     "name": "stderr",
     "output_type": "stream",
     "text": [
      "INFO - 16:34:19: EPOCH 961 - PROGRESS: at 71.89% examples, 1138376 words/s, in_qsize 16, out_qsize 1\n",
      "INFO - 16:34:19: EPOCH 961: training on 2135928 raw words (1560880 effective words) took 1.3s, 1182151 effective words/s\n"
     ]
    },
    {
     "name": "stdout",
     "output_type": "stream",
     "text": [
      "Loss after epoch 961: 0.0\n"
     ]
    },
    {
     "name": "stderr",
     "output_type": "stream",
     "text": [
      "INFO - 16:34:20: EPOCH 962 - PROGRESS: at 76.61% examples, 1220221 words/s, in_qsize 15, out_qsize 0\n",
      "INFO - 16:34:20: EPOCH 962: training on 2135928 raw words (1560975 effective words) took 1.2s, 1251664 effective words/s\n"
     ]
    },
    {
     "name": "stdout",
     "output_type": "stream",
     "text": [
      "Loss after epoch 962: 0.0\n"
     ]
    },
    {
     "name": "stderr",
     "output_type": "stream",
     "text": [
      "INFO - 16:34:21: EPOCH 963 - PROGRESS: at 77.00% examples, 1232059 words/s, in_qsize 16, out_qsize 0\n",
      "INFO - 16:34:22: EPOCH 963: training on 2135928 raw words (1560747 effective words) took 1.2s, 1253358 effective words/s\n"
     ]
    },
    {
     "name": "stdout",
     "output_type": "stream",
     "text": [
      "Loss after epoch 963: 0.0\n"
     ]
    },
    {
     "name": "stderr",
     "output_type": "stream",
     "text": [
      "INFO - 16:34:23: EPOCH 964 - PROGRESS: at 73.95% examples, 1180426 words/s, in_qsize 15, out_qsize 0\n",
      "INFO - 16:34:23: EPOCH 964: training on 2135928 raw words (1561325 effective words) took 1.3s, 1222715 effective words/s\n"
     ]
    },
    {
     "name": "stdout",
     "output_type": "stream",
     "text": [
      "Loss after epoch 964: 0.0\n"
     ]
    },
    {
     "name": "stderr",
     "output_type": "stream",
     "text": [
      "INFO - 16:34:24: EPOCH 965 - PROGRESS: at 73.56% examples, 1145976 words/s, in_qsize 15, out_qsize 0\n",
      "INFO - 16:34:24: EPOCH 965: training on 2135928 raw words (1560768 effective words) took 1.3s, 1200180 effective words/s\n"
     ]
    },
    {
     "name": "stdout",
     "output_type": "stream",
     "text": [
      "Loss after epoch 965: 0.0\n"
     ]
    },
    {
     "name": "stderr",
     "output_type": "stream",
     "text": [
      "INFO - 16:34:25: EPOCH 966 - PROGRESS: at 77.04% examples, 1232207 words/s, in_qsize 15, out_qsize 0\n",
      "INFO - 16:34:26: EPOCH 966: training on 2135928 raw words (1560937 effective words) took 1.2s, 1262399 effective words/s\n"
     ]
    },
    {
     "name": "stdout",
     "output_type": "stream",
     "text": [
      "Loss after epoch 966: 0.0\n"
     ]
    },
    {
     "name": "stderr",
     "output_type": "stream",
     "text": [
      "INFO - 16:34:27: EPOCH 967 - PROGRESS: at 69.78% examples, 1104993 words/s, in_qsize 15, out_qsize 0\n",
      "INFO - 16:34:27: EPOCH 967: training on 2135928 raw words (1561448 effective words) took 1.4s, 1152550 effective words/s\n"
     ]
    },
    {
     "name": "stdout",
     "output_type": "stream",
     "text": [
      "Loss after epoch 967: 0.0\n"
     ]
    },
    {
     "name": "stderr",
     "output_type": "stream",
     "text": [
      "INFO - 16:34:28: EPOCH 968 - PROGRESS: at 77.01% examples, 1230700 words/s, in_qsize 14, out_qsize 2\n",
      "INFO - 16:34:28: EPOCH 968: training on 2135928 raw words (1560920 effective words) took 1.2s, 1281999 effective words/s\n"
     ]
    },
    {
     "name": "stdout",
     "output_type": "stream",
     "text": [
      "Loss after epoch 968: 0.0\n"
     ]
    },
    {
     "name": "stderr",
     "output_type": "stream",
     "text": [
      "INFO - 16:34:29: EPOCH 969 - PROGRESS: at 70.62% examples, 1100903 words/s, in_qsize 16, out_qsize 1\n",
      "INFO - 16:34:30: EPOCH 969: training on 2135928 raw words (1560888 effective words) took 1.4s, 1131743 effective words/s\n"
     ]
    },
    {
     "name": "stdout",
     "output_type": "stream",
     "text": [
      "Loss after epoch 969: 0.0\n"
     ]
    },
    {
     "name": "stderr",
     "output_type": "stream",
     "text": [
      "INFO - 16:34:31: EPOCH 970 - PROGRESS: at 68.93% examples, 1090372 words/s, in_qsize 15, out_qsize 0\n",
      "INFO - 16:34:31: EPOCH 970: training on 2135928 raw words (1560884 effective words) took 1.4s, 1143296 effective words/s\n"
     ]
    },
    {
     "name": "stdout",
     "output_type": "stream",
     "text": [
      "Loss after epoch 970: 0.0\n"
     ]
    },
    {
     "name": "stderr",
     "output_type": "stream",
     "text": [
      "INFO - 16:34:32: EPOCH 971 - PROGRESS: at 70.62% examples, 1118638 words/s, in_qsize 15, out_qsize 0\n",
      "INFO - 16:34:32: EPOCH 971: training on 2135928 raw words (1560648 effective words) took 1.4s, 1098547 effective words/s\n"
     ]
    },
    {
     "name": "stdout",
     "output_type": "stream",
     "text": [
      "Loss after epoch 971: 0.0\n"
     ]
    },
    {
     "name": "stderr",
     "output_type": "stream",
     "text": [
      "INFO - 16:34:33: EPOCH 972 - PROGRESS: at 58.90% examples, 913196 words/s, in_qsize 15, out_qsize 0\n",
      "INFO - 16:34:34: EPOCH 972: training on 2135928 raw words (1560938 effective words) took 1.7s, 940803 effective words/s\n"
     ]
    },
    {
     "name": "stdout",
     "output_type": "stream",
     "text": [
      "Loss after epoch 972: 0.0\n"
     ]
    },
    {
     "name": "stderr",
     "output_type": "stream",
     "text": [
      "INFO - 16:34:35: EPOCH 973 - PROGRESS: at 57.08% examples, 886522 words/s, in_qsize 13, out_qsize 2\n",
      "INFO - 16:34:36: EPOCH 973: training on 2135928 raw words (1561097 effective words) took 1.7s, 940670 effective words/s\n"
     ]
    },
    {
     "name": "stdout",
     "output_type": "stream",
     "text": [
      "Loss after epoch 973: 0.0\n"
     ]
    },
    {
     "name": "stderr",
     "output_type": "stream",
     "text": [
      "INFO - 16:34:37: EPOCH 974 - PROGRESS: at 63.78% examples, 997307 words/s, in_qsize 15, out_qsize 0\n",
      "INFO - 16:34:37: EPOCH 974: training on 2135928 raw words (1561331 effective words) took 1.6s, 979966 effective words/s\n"
     ]
    },
    {
     "name": "stdout",
     "output_type": "stream",
     "text": [
      "Loss after epoch 974: 0.0\n"
     ]
    },
    {
     "name": "stderr",
     "output_type": "stream",
     "text": [
      "INFO - 16:34:38: EPOCH 975 - PROGRESS: at 67.32% examples, 1059035 words/s, in_qsize 12, out_qsize 3\n",
      "INFO - 16:34:39: EPOCH 975: training on 2135928 raw words (1560914 effective words) took 1.5s, 1061731 effective words/s\n"
     ]
    },
    {
     "name": "stdout",
     "output_type": "stream",
     "text": [
      "Loss after epoch 975: 0.0\n"
     ]
    },
    {
     "name": "stderr",
     "output_type": "stream",
     "text": [
      "INFO - 16:34:40: EPOCH 976 - PROGRESS: at 59.80% examples, 929179 words/s, in_qsize 15, out_qsize 0\n",
      "INFO - 16:34:40: EPOCH 976: training on 2135928 raw words (1561480 effective words) took 1.5s, 1022383 effective words/s\n"
     ]
    },
    {
     "name": "stdout",
     "output_type": "stream",
     "text": [
      "Loss after epoch 976: 0.0\n"
     ]
    },
    {
     "name": "stderr",
     "output_type": "stream",
     "text": [
      "INFO - 16:34:41: EPOCH 977 - PROGRESS: at 60.75% examples, 942192 words/s, in_qsize 14, out_qsize 1\n",
      "INFO - 16:34:42: EPOCH 977: training on 2135928 raw words (1561084 effective words) took 1.6s, 971509 effective words/s\n"
     ]
    },
    {
     "name": "stdout",
     "output_type": "stream",
     "text": [
      "Loss after epoch 977: 0.0\n"
     ]
    },
    {
     "name": "stderr",
     "output_type": "stream",
     "text": [
      "INFO - 16:34:43: EPOCH 978 - PROGRESS: at 64.22% examples, 1007891 words/s, in_qsize 15, out_qsize 0\n",
      "INFO - 16:34:43: EPOCH 978: training on 2135928 raw words (1561062 effective words) took 1.5s, 1048328 effective words/s\n"
     ]
    },
    {
     "name": "stdout",
     "output_type": "stream",
     "text": [
      "Loss after epoch 978: 0.0\n"
     ]
    },
    {
     "name": "stderr",
     "output_type": "stream",
     "text": [
      "INFO - 16:34:44: EPOCH 979 - PROGRESS: at 68.13% examples, 1074832 words/s, in_qsize 13, out_qsize 2\n",
      "INFO - 16:34:45: EPOCH 979: training on 2135928 raw words (1561150 effective words) took 1.4s, 1124195 effective words/s\n"
     ]
    },
    {
     "name": "stdout",
     "output_type": "stream",
     "text": [
      "Loss after epoch 979: 0.0\n"
     ]
    },
    {
     "name": "stderr",
     "output_type": "stream",
     "text": [
      "INFO - 16:34:46: EPOCH 980 - PROGRESS: at 61.66% examples, 962093 words/s, in_qsize 15, out_qsize 0\n",
      "INFO - 16:34:46: EPOCH 980: training on 2135928 raw words (1560945 effective words) took 1.5s, 1057297 effective words/s\n"
     ]
    },
    {
     "name": "stdout",
     "output_type": "stream",
     "text": [
      "Loss after epoch 980: 0.0\n"
     ]
    },
    {
     "name": "stderr",
     "output_type": "stream",
     "text": [
      "INFO - 16:34:47: EPOCH 981 - PROGRESS: at 75.27% examples, 1202075 words/s, in_qsize 15, out_qsize 0\n",
      "INFO - 16:34:48: EPOCH 981: training on 2135928 raw words (1560943 effective words) took 1.3s, 1226379 effective words/s\n"
     ]
    },
    {
     "name": "stdout",
     "output_type": "stream",
     "text": [
      "Loss after epoch 981: 0.0\n"
     ]
    },
    {
     "name": "stderr",
     "output_type": "stream",
     "text": [
      "INFO - 16:34:49: EPOCH 982 - PROGRESS: at 78.78% examples, 1256511 words/s, in_qsize 14, out_qsize 1\n",
      "INFO - 16:34:49: EPOCH 982: training on 2135928 raw words (1560499 effective words) took 1.2s, 1288032 effective words/s\n"
     ]
    },
    {
     "name": "stdout",
     "output_type": "stream",
     "text": [
      "Loss after epoch 982: 0.0\n"
     ]
    },
    {
     "name": "stderr",
     "output_type": "stream",
     "text": [
      "INFO - 16:34:50: EPOCH 983 - PROGRESS: at 78.34% examples, 1237282 words/s, in_qsize 15, out_qsize 0\n",
      "INFO - 16:34:50: EPOCH 983: training on 2135928 raw words (1561611 effective words) took 1.3s, 1240183 effective words/s\n"
     ]
    },
    {
     "name": "stdout",
     "output_type": "stream",
     "text": [
      "Loss after epoch 983: 0.0\n"
     ]
    },
    {
     "name": "stderr",
     "output_type": "stream",
     "text": [
      "INFO - 16:34:51: EPOCH 984 - PROGRESS: at 70.21% examples, 1107652 words/s, in_qsize 14, out_qsize 1\n",
      "INFO - 16:34:51: EPOCH 984: training on 2135928 raw words (1561303 effective words) took 1.3s, 1166360 effective words/s\n"
     ]
    },
    {
     "name": "stdout",
     "output_type": "stream",
     "text": [
      "Loss after epoch 984: 0.0\n"
     ]
    },
    {
     "name": "stderr",
     "output_type": "stream",
     "text": [
      "INFO - 16:34:52: EPOCH 985 - PROGRESS: at 70.21% examples, 1099790 words/s, in_qsize 14, out_qsize 1\n",
      "INFO - 16:34:53: EPOCH 985: training on 2135928 raw words (1561438 effective words) took 1.4s, 1147570 effective words/s\n"
     ]
    },
    {
     "name": "stdout",
     "output_type": "stream",
     "text": [
      "Loss after epoch 985: 0.0\n"
     ]
    },
    {
     "name": "stderr",
     "output_type": "stream",
     "text": [
      "INFO - 16:34:54: EPOCH 986 - PROGRESS: at 73.54% examples, 1169938 words/s, in_qsize 15, out_qsize 0\n",
      "INFO - 16:34:54: EPOCH 986: training on 2135928 raw words (1561136 effective words) took 1.3s, 1219583 effective words/s\n"
     ]
    },
    {
     "name": "stdout",
     "output_type": "stream",
     "text": [
      "Loss after epoch 986: 0.0\n"
     ]
    },
    {
     "name": "stderr",
     "output_type": "stream",
     "text": [
      "INFO - 16:34:55: EPOCH 987 - PROGRESS: at 74.83% examples, 1179058 words/s, in_qsize 14, out_qsize 1\n",
      "INFO - 16:34:55: EPOCH 987: training on 2135928 raw words (1561316 effective words) took 1.3s, 1177583 effective words/s\n"
     ]
    },
    {
     "name": "stdout",
     "output_type": "stream",
     "text": [
      "Loss after epoch 987: 0.0\n"
     ]
    },
    {
     "name": "stderr",
     "output_type": "stream",
     "text": [
      "INFO - 16:34:56: EPOCH 988 - PROGRESS: at 60.74% examples, 950061 words/s, in_qsize 14, out_qsize 1\n",
      "INFO - 16:34:57: EPOCH 988: training on 2135928 raw words (1561099 effective words) took 1.5s, 1054568 effective words/s\n"
     ]
    },
    {
     "name": "stdout",
     "output_type": "stream",
     "text": [
      "Loss after epoch 988: 0.0\n"
     ]
    },
    {
     "name": "stderr",
     "output_type": "stream",
     "text": [
      "INFO - 16:34:58: EPOCH 989 - PROGRESS: at 66.48% examples, 1021698 words/s, in_qsize 15, out_qsize 0\n",
      "INFO - 16:34:58: EPOCH 989: training on 2135928 raw words (1561117 effective words) took 1.4s, 1118650 effective words/s\n"
     ]
    },
    {
     "name": "stdout",
     "output_type": "stream",
     "text": [
      "Loss after epoch 989: 0.0\n"
     ]
    },
    {
     "name": "stderr",
     "output_type": "stream",
     "text": [
      "INFO - 16:34:59: EPOCH 990 - PROGRESS: at 76.61% examples, 1219673 words/s, in_qsize 15, out_qsize 0\n",
      "INFO - 16:35:00: EPOCH 990: training on 2135928 raw words (1560952 effective words) took 1.2s, 1262731 effective words/s\n"
     ]
    },
    {
     "name": "stdout",
     "output_type": "stream",
     "text": [
      "Loss after epoch 990: 0.0\n"
     ]
    },
    {
     "name": "stderr",
     "output_type": "stream",
     "text": [
      "INFO - 16:35:01: EPOCH 991 - PROGRESS: at 75.69% examples, 1192786 words/s, in_qsize 15, out_qsize 0\n",
      "INFO - 16:35:01: EPOCH 991: training on 2135928 raw words (1561778 effective words) took 1.3s, 1172802 effective words/s\n"
     ]
    },
    {
     "name": "stdout",
     "output_type": "stream",
     "text": [
      "Loss after epoch 991: 0.0\n"
     ]
    },
    {
     "name": "stderr",
     "output_type": "stream",
     "text": [
      "INFO - 16:35:02: EPOCH 992 - PROGRESS: at 64.23% examples, 1008685 words/s, in_qsize 13, out_qsize 2\n",
      "INFO - 16:35:02: EPOCH 992: training on 2135928 raw words (1560899 effective words) took 1.5s, 1032600 effective words/s\n"
     ]
    },
    {
     "name": "stdout",
     "output_type": "stream",
     "text": [
      "Loss after epoch 992: 0.0\n"
     ]
    },
    {
     "name": "stderr",
     "output_type": "stream",
     "text": [
      "INFO - 16:35:03: EPOCH 993 - PROGRESS: at 62.09% examples, 970071 words/s, in_qsize 14, out_qsize 1\n",
      "INFO - 16:35:04: EPOCH 993: training on 2135928 raw words (1560912 effective words) took 1.6s, 987145 effective words/s\n"
     ]
    },
    {
     "name": "stdout",
     "output_type": "stream",
     "text": [
      "Loss after epoch 993: 0.0\n"
     ]
    },
    {
     "name": "stderr",
     "output_type": "stream",
     "text": [
      "INFO - 16:35:05: EPOCH 994 - PROGRESS: at 66.48% examples, 1033755 words/s, in_qsize 15, out_qsize 0\n",
      "INFO - 16:35:06: EPOCH 994: training on 2135928 raw words (1561145 effective words) took 1.5s, 1061689 effective words/s\n"
     ]
    },
    {
     "name": "stdout",
     "output_type": "stream",
     "text": [
      "Loss after epoch 994: 0.0\n"
     ]
    },
    {
     "name": "stderr",
     "output_type": "stream",
     "text": [
      "INFO - 16:35:07: EPOCH 995 - PROGRESS: at 70.22% examples, 1114139 words/s, in_qsize 15, out_qsize 0\n",
      "INFO - 16:35:07: EPOCH 995: training on 2135928 raw words (1561345 effective words) took 1.4s, 1109998 effective words/s\n"
     ]
    },
    {
     "name": "stdout",
     "output_type": "stream",
     "text": [
      "Loss after epoch 995: 0.0\n"
     ]
    },
    {
     "name": "stderr",
     "output_type": "stream",
     "text": [
      "INFO - 16:35:08: EPOCH 996 - PROGRESS: at 70.21% examples, 1098037 words/s, in_qsize 14, out_qsize 1\n",
      "INFO - 16:35:08: EPOCH 996: training on 2135928 raw words (1561493 effective words) took 1.4s, 1133825 effective words/s\n"
     ]
    },
    {
     "name": "stdout",
     "output_type": "stream",
     "text": [
      "Loss after epoch 996: 0.0\n"
     ]
    },
    {
     "name": "stderr",
     "output_type": "stream",
     "text": [
      "INFO - 16:35:09: EPOCH 997 - PROGRESS: at 72.71% examples, 1158635 words/s, in_qsize 16, out_qsize 0\n",
      "INFO - 16:35:10: EPOCH 997: training on 2135928 raw words (1561862 effective words) took 1.3s, 1164061 effective words/s\n"
     ]
    },
    {
     "name": "stdout",
     "output_type": "stream",
     "text": [
      "Loss after epoch 997: 0.0\n"
     ]
    },
    {
     "name": "stderr",
     "output_type": "stream",
     "text": [
      "INFO - 16:35:11: EPOCH 998 - PROGRESS: at 71.46% examples, 1117327 words/s, in_qsize 14, out_qsize 1\n",
      "INFO - 16:35:11: EPOCH 998: training on 2135928 raw words (1562006 effective words) took 1.4s, 1132049 effective words/s\n"
     ]
    },
    {
     "name": "stdout",
     "output_type": "stream",
     "text": [
      "Loss after epoch 998: 0.0\n"
     ]
    },
    {
     "name": "stderr",
     "output_type": "stream",
     "text": [
      "INFO - 16:35:12: EPOCH 999 - PROGRESS: at 77.00% examples, 1220026 words/s, in_qsize 14, out_qsize 1\n",
      "INFO - 16:35:12: EPOCH 999: training on 2135928 raw words (1561010 effective words) took 1.2s, 1264134 effective words/s\n",
      "INFO - 16:35:12: Word2Vec lifecycle event {'msg': 'training on 2135928000 raw words (1561125500 effective words) took 1386.3s, 1126114 effective words/s', 'datetime': '2023-04-09T16:35:12.810574', 'gensim': '4.3.1', 'python': '3.10.7 (main, Mar 10 2023, 10:47:39) [GCC 12.2.0]', 'platform': 'Linux-5.19.0-38-generic-x86_64-with-glibc2.36', 'event': 'train'}\n",
      "INFO - 16:35:12: Word2Vec lifecycle event {'fname_or_handle': 'gutenberg_w2v.hundd.model', 'separately': 'None', 'sep_limit': 10485760, 'ignore': frozenset(), 'datetime': '2023-04-09T16:35:12.819435', 'gensim': '4.3.1', 'python': '3.10.7 (main, Mar 10 2023, 10:47:39) [GCC 12.2.0]', 'platform': 'Linux-5.19.0-38-generic-x86_64-with-glibc2.36', 'event': 'saving'}\n",
      "INFO - 16:35:12: not storing attribute cum_table\n",
      "INFO - 16:35:12: saved gutenberg_w2v.hundd.model\n"
     ]
    },
    {
     "name": "stdout",
     "output_type": "stream",
     "text": [
      "Loss after epoch 999: 0.0\n"
     ]
    },
    {
     "data": {
      "text/plain": [
       "<gensim.models.word2vec.Word2Vec at 0x7f593e2eff40>"
      ]
     },
     "execution_count": 70,
     "metadata": {},
     "output_type": "execute_result"
    }
   ],
   "source": [
    "    # read data/gutenberg.txt in the expected format (tokenized)\n",
    "    f=open(\"../data/tokenized.txt\",\"r\")\n",
    "    sentences =eval(f.read())\n",
    "    \n",
    "   \n",
    "    output_file = \"gutenberg_w2v.hundd.model\"\n",
    "    window = 5\n",
    "    embedding_dim = 100\n",
    "    epochs = 1000\n",
    "    min_word_count = 1\n",
    "\n",
    "    \n",
    "    #Initialize training of our Word2Vec model\n",
    "    \n",
    "    train_w2v_model(\n",
    "        sentences,\n",
    "        output_file,\n",
    "        window,\n",
    "        embedding_dim,\n",
    "        epochs,\n",
    "        min_word_count)\n"
   ]
  },
  {
   "cell_type": "code",
   "execution_count": 71,
   "id": "4da0e634",
   "metadata": {},
   "outputs": [
    {
     "name": "stderr",
     "output_type": "stream",
     "text": [
      "INFO - 16:38:04: loading Word2Vec object from gutenberg_w2v.hundd.model\n",
      "INFO - 16:38:04: loading wv recursively from gutenberg_w2v.hundd.model.wv.* with mmap=None\n",
      "INFO - 16:38:04: setting ignored attribute cum_table to None\n",
      "INFO - 16:38:04: Word2Vec lifecycle event {'fname': 'gutenberg_w2v.hundd.model', 'datetime': '2023-04-09T16:38:04.562415', 'gensim': '4.3.1', 'python': '3.10.7 (main, Mar 10 2023, 10:47:39) [GCC 12.2.0]', 'platform': 'Linux-5.19.0-38-generic-x86_64-with-glibc2.36', 'event': 'loaded'}\n"
     ]
    }
   ],
   "source": [
    "from gensim.models import Word2Vec\n",
    "from gensim.models.callbacks import CallbackAny2Vec\n",
    "\n",
    "gutenberg_w2v = Word2Vec.load(\"gutenberg_w2v.hundd.model\")"
   ]
  },
  {
   "cell_type": "code",
   "execution_count": 72,
   "id": "4b8718d9",
   "metadata": {},
   "outputs": [
    {
     "data": {
      "text/plain": [
       "[('wrist', 0.41208332777023315),\n",
       " ('chattering', 0.37097522616386414),\n",
       " ('poisoning', 0.3655567169189453),\n",
       " ('blasphemous', 0.3634079694747925),\n",
       " ('respects', 0.3589022755622864),\n",
       " ('background', 0.3586043119430542),\n",
       " ('gaming', 0.35375601053237915),\n",
       " ('bondmaid', 0.35101091861724854),\n",
       " ('flea', 0.3493708670139313),\n",
       " ('official', 0.3407439887523651)]"
      ]
     },
     "execution_count": 72,
     "metadata": {},
     "output_type": "execute_result"
    }
   ],
   "source": [
    "gutenberg_w2v.wv.most_similar([\"bible\"])\n"
   ]
  },
  {
   "cell_type": "code",
   "execution_count": 73,
   "id": "ca0e4f88",
   "metadata": {},
   "outputs": [
    {
     "data": {
      "text/plain": [
       "[('temple', 0.5193749666213989),\n",
       " ('letter', 0.5024621486663818),\n",
       " ('written', 0.4837616980075836),\n",
       " ('xxxi', 0.4571343958377838),\n",
       " ('xxix', 0.4514343738555908),\n",
       " ('xxviii', 0.4509105384349823),\n",
       " ('raze', 0.4463414251804352),\n",
       " ('xxvii', 0.44367530941963196),\n",
       " ('xxvi', 0.44024136662483215),\n",
       " ('xxv', 0.4389851987361908)]"
      ]
     },
     "execution_count": 73,
     "metadata": {},
     "output_type": "execute_result"
    }
   ],
   "source": [
    "gutenberg_w2v.wv.most_similar([\"book\"])\n"
   ]
  },
  {
   "cell_type": "code",
   "execution_count": 74,
   "id": "3abc4a30",
   "metadata": {},
   "outputs": [
    {
     "data": {
      "text/plain": [
       "[('table', 0.5522177219390869),\n",
       " ('wall', 0.5242838859558105),\n",
       " ('ground', 0.5070006847381592),\n",
       " ('floor', 0.48273080587387085),\n",
       " ('top', 0.48255008459091187),\n",
       " ('side', 0.4692358374595642),\n",
       " ('road', 0.4652193486690521),\n",
       " ('river', 0.45467159152030945),\n",
       " ('bed', 0.44674766063690186),\n",
       " ('prong', 0.4269567131996155)]"
      ]
     },
     "execution_count": 74,
     "metadata": {},
     "output_type": "execute_result"
    }
   ],
   "source": [
    "gutenberg_w2v.wv.most_similar([\"bank\"])\n"
   ]
  },
  {
   "cell_type": "code",
   "execution_count": 75,
   "id": "d53e9c33",
   "metadata": {},
   "outputs": [
    {
     "data": {
      "text/plain": [
       "[('waters', 0.6603070497512817),\n",
       " ('smoke', 0.51535964012146),\n",
       " ('wine', 0.5144587755203247),\n",
       " ('blood', 0.5082384347915649),\n",
       " ('wood', 0.5064382553100586),\n",
       " ('fire', 0.502826452255249),\n",
       " ('sea', 0.48759520053863525),\n",
       " ('oil', 0.4749191105365753),\n",
       " ('brook', 0.4670550227165222),\n",
       " ('river', 0.4639459550380707)]"
      ]
     },
     "execution_count": 75,
     "metadata": {},
     "output_type": "execute_result"
    }
   ],
   "source": [
    "gutenberg_w2v.wv.most_similar([\"water\"])"
   ]
  },
  {
   "cell_type": "code",
   "execution_count": 76,
   "id": "ba415a4a",
   "metadata": {},
   "outputs": [
    {
     "data": {
      "text/plain": [
       "[('good', 0.5203787088394165),\n",
       " ('sandals', 0.38465842604637146),\n",
       " ('tall', 0.37620219588279724),\n",
       " ('salamander', 0.36862269043922424),\n",
       " ('annum', 0.3675379753112793),\n",
       " ('general', 0.3633454144001007),\n",
       " ('steadiness', 0.3614537715911865),\n",
       " ('generously', 0.36029937863349915),\n",
       " ('tout', 0.3592454493045807),\n",
       " ('plentifully', 0.35233578085899353)]"
      ]
     },
     "execution_count": 76,
     "metadata": {},
     "output_type": "execute_result"
    }
   ],
   "source": [
    "v = gutenberg_w2v.wv[\"tall\"] - gutenberg_w2v.wv[\"taller\"] + gutenberg_w2v.wv[\"good\"]\n",
    "gutenberg_w2v.wv.most_similar(v)"
   ]
  },
  {
   "cell_type": "code",
   "execution_count": 77,
   "id": "d7d9ff74",
   "metadata": {},
   "outputs": [
    {
     "data": {
      "text/plain": [
       "[('kings', 0.6765173673629761),\n",
       " ('girls', 0.6072998642921448),\n",
       " ('men', 0.5271506905555725),\n",
       " ('cities', 0.5166984796524048),\n",
       " ('gadding', 0.4754534661769867),\n",
       " ('children', 0.4682503044605255),\n",
       " ('parts', 0.4442847669124603),\n",
       " ('creatures', 0.4305213391780853),\n",
       " ('women', 0.4282413423061371),\n",
       " ('herat', 0.42636317014694214)]"
      ]
     },
     "execution_count": 77,
     "metadata": {},
     "output_type": "execute_result"
    }
   ],
   "source": [
    "v = gutenberg_w2v.wv[\"girls\"] - gutenberg_w2v.wv[\"queen\"] + gutenberg_w2v.wv[\"kings\"]\n",
    "gutenberg_w2v.wv.most_similar(v)"
   ]
  },
  {
   "cell_type": "code",
   "execution_count": 78,
   "id": "d3fbc61b",
   "metadata": {},
   "outputs": [
    {
     "data": {
      "text/plain": [
       "[('france', 0.6917145252227783),\n",
       " ('london', 0.4423789381980896),\n",
       " ('pacific', 0.40780580043792725),\n",
       " ('actually', 0.37435853481292725),\n",
       " ('peddler', 0.37056171894073486),\n",
       " ('country', 0.36975011229515076),\n",
       " ('benefactresses', 0.3607790172100067),\n",
       " ('guinea', 0.3545003831386566),\n",
       " ('afric', 0.35109561681747437),\n",
       " ('restaurant', 0.34702742099761963)]"
      ]
     },
     "execution_count": 78,
     "metadata": {},
     "output_type": "execute_result"
    }
   ],
   "source": [
    "v = gutenberg_w2v.wv[\"france\"] - gutenberg_w2v.wv[\"paris\"] + gutenberg_w2v.wv[\"london\"]\n",
    "gutenberg_w2v.wv.most_similar(v)"
   ]
  },
  {
   "cell_type": "code",
   "execution_count": 3,
   "id": "2bfc4fcc",
   "metadata": {},
   "outputs": [
    {
     "name": "stderr",
     "output_type": "stream",
     "text": [
      "INFO - 21:23:48: loading projection weights from /home/brewed/Desktop/GoogleNews-vectors-negative300.bin.gz\n",
      "INFO - 21:24:05: KeyedVectors lifecycle event {'msg': 'loaded (1000000, 300) matrix of type float32 from /home/brewed/Desktop/GoogleNews-vectors-negative300.bin.gz', 'binary': True, 'encoding': 'utf8', 'datetime': '2023-04-08T21:24:05.512295', 'gensim': '4.3.1', 'python': '3.10.7 (main, Mar 10 2023, 10:47:39) [GCC 12.2.0]', 'platform': 'Linux-5.19.0-38-generic-x86_64-with-glibc2.36', 'event': 'load_word2vec_format'}\n"
     ]
    }
   ],
   "source": [
    "from gensim.models import KeyedVectors\n",
    "\n",
    "google_model = KeyedVectors.load_word2vec_format('../data/GoogleNews-vectors-negative300.bin.gz', binary=True,\n",
    "limit=1000000)"
   ]
  },
  {
   "cell_type": "code",
   "execution_count": 110,
   "id": "bbbe0867",
   "metadata": {},
   "outputs": [
    {
     "data": {
      "text/plain": [
       "[('Bible', 0.736778199672699),\n",
       " ('bibles', 0.6052598357200623),\n",
       " ('Holy_Bible', 0.5989601612091064),\n",
       " ('scriptures', 0.574568510055542),\n",
       " ('scripture', 0.5697901844978333),\n",
       " ('New_Testament', 0.5638793110847473),\n",
       " ('Scripture', 0.5502957701683044),\n",
       " ('Scriptures', 0.5411645770072937),\n",
       " ('NRSV', 0.5341106057167053),\n",
       " ('Leviticus_##:##-##', 0.5247005224227905)]"
      ]
     },
     "execution_count": 110,
     "metadata": {},
     "output_type": "execute_result"
    }
   ],
   "source": [
    "google_model.most_similar([\"bible\"])"
   ]
  },
  {
   "cell_type": "code",
   "execution_count": 111,
   "id": "c3e729ab",
   "metadata": {},
   "outputs": [
    {
     "data": {
      "text/plain": [
       "[('tome', 0.7485830783843994),\n",
       " ('books', 0.7379177808761597),\n",
       " ('memoir', 0.7302926778793335),\n",
       " ('paperback_edition', 0.6868364214897156),\n",
       " ('autobiography', 0.6741527318954468),\n",
       " ('memoirs', 0.6505153179168701),\n",
       " ('Book', 0.6479282975196838),\n",
       " ('paperback', 0.6471226811408997),\n",
       " ('novels', 0.6341459155082703),\n",
       " ('hardback', 0.6283079981803894)]"
      ]
     },
     "execution_count": 111,
     "metadata": {},
     "output_type": "execute_result"
    }
   ],
   "source": [
    "google_model.most_similar([\"book\"])"
   ]
  },
  {
   "cell_type": "code",
   "execution_count": 112,
   "id": "dc2f01de",
   "metadata": {},
   "outputs": [
    {
     "data": {
      "text/plain": [
       "[('banks', 0.7440759539604187),\n",
       " ('banking', 0.690161406993866),\n",
       " ('Bank', 0.6698698401451111),\n",
       " ('lender', 0.6342284679412842),\n",
       " ('banker', 0.6092953085899353),\n",
       " ('depositors', 0.6031531691551208),\n",
       " ('mortgage_lender', 0.5797975659370422),\n",
       " ('depositor', 0.5716427564620972),\n",
       " ('BofA', 0.5714625120162964),\n",
       " ('Citibank', 0.5589520335197449)]"
      ]
     },
     "execution_count": 112,
     "metadata": {},
     "output_type": "execute_result"
    }
   ],
   "source": [
    "google_model.most_similar([\"bank\"])"
   ]
  },
  {
   "cell_type": "code",
   "execution_count": 113,
   "id": "b08f6bee",
   "metadata": {},
   "outputs": [
    {
     "data": {
      "text/plain": [
       "[('potable_water', 0.6799106001853943),\n",
       " ('Water', 0.6706871390342712),\n",
       " ('sewage', 0.6619377732276917),\n",
       " ('groundwater', 0.6588346362113953),\n",
       " ('Floridan_aquifer', 0.6422534584999084),\n",
       " ('freshwater', 0.6307883262634277),\n",
       " ('potable', 0.6251927614212036),\n",
       " ('wastewater', 0.6212229132652283),\n",
       " ('brackish_groundwater', 0.6206730604171753),\n",
       " ('aquifer', 0.6143589615821838)]"
      ]
     },
     "execution_count": 113,
     "metadata": {},
     "output_type": "execute_result"
    }
   ],
   "source": [
    "google_model.most_similar([\"water\"])"
   ]
  },
  {
   "cell_type": "code",
   "execution_count": 114,
   "id": "97eca520",
   "metadata": {},
   "outputs": [
    {
     "data": {
      "text/plain": [
       "[('boys', 0.6931698322296143),\n",
       " ('girls', 0.6385126709938049),\n",
       " ('kings', 0.4957888424396515),\n",
       " ('men', 0.48680540919303894),\n",
       " ('teenagers', 0.4788475036621094),\n",
       " ('schoolboys', 0.45804113149642944),\n",
       " ('pee_wees', 0.44774994254112244),\n",
       " ('Mitey_Mite', 0.44012460112571716),\n",
       " ('kids', 0.4373849332332611),\n",
       " ('youngsters', 0.43566834926605225)]"
      ]
     },
     "execution_count": 114,
     "metadata": {},
     "output_type": "execute_result"
    }
   ],
   "source": [
    "v = google_model[\"girls\"] - google_model[\"queen\"] + google_model[\"kings\"]\n",
    "google_model.most_similar(v)"
   ]
  },
  {
   "cell_type": "code",
   "execution_count": 168,
   "id": "c2e80310",
   "metadata": {},
   "outputs": [
    {
     "data": {
      "text/plain": [
       "[('good', 0.6434131860733032),\n",
       " ('great', 0.49164238572120667),\n",
       " ('bad', 0.4760521948337555),\n",
       " ('terrific', 0.46986129879951477),\n",
       " ('wonderful', 0.4452008605003357),\n",
       " ('nice', 0.4425136148929596),\n",
       " ('fantastic', 0.43418607115745544),\n",
       " ('decent', 0.4307934641838074),\n",
       " ('excellent', 0.41867733001708984),\n",
       " ('terrible', 0.4151829481124878)]"
      ]
     },
     "execution_count": 168,
     "metadata": {},
     "output_type": "execute_result"
    }
   ],
   "source": [
    "v = google_model[\"tall\"] - google_model[\"taller\"] + google_model[\"good\"]\n",
    "google_model.most_similar(v)"
   ]
  },
  {
   "cell_type": "code",
   "execution_count": 116,
   "id": "66da70a6",
   "metadata": {},
   "outputs": [
    {
     "data": {
      "text/plain": [
       "[('london', 0.754153847694397),\n",
       " ('france', 0.7366582751274109),\n",
       " ('england', 0.600825309753418),\n",
       " ('europe', 0.5708170533180237),\n",
       " ('birmingham', 0.5392330884933472),\n",
       " ('european', 0.5275605916976929),\n",
       " ('newcastle', 0.5263600945472717),\n",
       " ('barcelona', 0.5107599496841431),\n",
       " ('africa', 0.510517418384552),\n",
       " ('spain', 0.5082812905311584)]"
      ]
     },
     "execution_count": 116,
     "metadata": {},
     "output_type": "execute_result"
    }
   ],
   "source": [
    "v = google_model[\"france\"] - google_model[\"paris\"] + google_model[\"london\"]\n",
    "google_model.most_similar(v)"
   ]
  },
  {
   "cell_type": "code",
   "execution_count": 8,
   "id": "6384e3dc",
   "metadata": {},
   "outputs": [
    {
     "name": "stdout",
     "output_type": "stream",
     "text": [
      "(41465, 100)\n",
      "(41465,)\n"
     ]
    }
   ],
   "source": [
    "import numpy as np\n",
    "\n",
    "# Convert to numpy 2d array (n_vocab x vector_size)\n",
    "def to_embeddings_Matrix(model):  \n",
    "    embedding_matrix = np.zeros((len(model.wv), model.vector_size))\n",
    "    word2idx = {}\n",
    "    for i in range(len(model.wv)):\n",
    "        embedding_matrix[i] = model.wv[model.wv.index_to_key[i]] \n",
    "    return embedding_matrix\n",
    "\n",
    "\n",
    "embeddings=to_embeddings_Matrix(gutenberg_w2v)\n",
    "print(np.shape(embeddings))\n",
    "print(np.shape(gutenberg_w2v.wv.index_to_key))"
   ]
  },
  {
   "cell_type": "code",
   "execution_count": 7,
   "id": "b1945bb6",
   "metadata": {},
   "outputs": [],
   "source": [
    "# Put in the data folder, the embeddings and the metadata to load into the data visualization tool\n",
    "\n",
    "import csv\n",
    "with open('../data/embeddings.tsv', 'w', newline='') as f_output:\n",
    "    tsv_output = csv.writer(f_output, delimiter='\\t')\n",
    "    for embedding in embeddings:\n",
    "        tsv_output.writerow(embedding)\n",
    "    \n",
    "with open('../data/metadata.tsv', 'w', newline='') as f_output:\n",
    "    tsv_output = csv.writer(f_output)\n",
    "    for voc_rows in gutenberg_w2v.wv.index_to_key :\n",
    "        tsv_output.writerow([voc_rows])\n",
    "  "
   ]
  },
  {
   "cell_type": "code",
   "execution_count": 5,
   "id": "edef646b",
   "metadata": {},
   "outputs": [],
   "source": [
    "import glob\n",
    "import os\n",
    "import re\n",
    "\n",
    "import numpy as np\n",
    "import sklearn\n",
    "\n",
    "SCRIPT_DIRECTORY = os.path.realpath(os.getcwd())\n",
    "\n",
    "data_dir = os.path.join(SCRIPT_DIRECTORY, \"../data/aclImdb\")\n",
    "train_dir = os.path.join(data_dir, \"train\")\n",
    "test_dir = os.path.join(data_dir, \"test\")\n",
    "pos_train_dir = os.path.join(train_dir, \"pos\")\n",
    "neg_train_dir = os.path.join(train_dir, \"neg\")\n",
    "pos_test_dir = os.path.join(test_dir, \"pos\")\n",
    "neg_test_dir = os.path.join(test_dir, \"neg\")\n",
    "\n",
    "# For memory limitations. These parameters fit in 8GB of RAM.\n",
    "# If you have 16G of RAM you can experiment with the full dataset / W2V\n",
    "MAX_NUM_SAMPLES = 5000\n",
    "# Load first 1M word embeddings. This works because GoogleNews are roughly\n",
    "# sorted from most frequent to least frequent.\n",
    "# It may yield much worse results for other embeddings corpora\n",
    "NUM_W2V_TO_LOAD = 1000000\n",
    "\n",
    "\n",
    "SEED = 42\n",
    "\n",
    "# Fix numpy random seed for reproducibility\n",
    "np.random.seed(SEED)\n",
    "\n",
    "\n",
    "def strip_punctuation(s):\n",
    "    return re.sub(r\"[^a-zA-Z\\s]\", \" \", s)\n",
    "\n",
    "\n",
    "def preprocess(s):\n",
    "    return re.sub(\"\\s+\", \" \", strip_punctuation(s).lower())\n",
    "\n",
    "\n",
    "def tokenize(s):\n",
    "    return s.split(\" \")\n",
    "\n",
    "\n",
    "def preproc_tok(s):\n",
    "    return tokenize(preprocess(s))\n",
    "\n",
    "\n",
    "# Preprocess and tokenize the reviews, it will come out as list of lists \n",
    "def token_proc(t_corpus):\n",
    "    data=[]\n",
    "    for i,ind in enumerate(t_corpus):\n",
    "        proc_t_corpus=preproc_tok(train_corpus[i])\n",
    "        data.append(proc_t_corpus)\n",
    "    \n",
    "    return data\n",
    "\n",
    "\n",
    "def read_samples(folder, preprocess=lambda x: x):\n",
    "    samples = glob.iglob(os.path.join(folder, \"*.txt\"))\n",
    "    data = []\n",
    "\n",
    "    for i, sample in enumerate(samples):\n",
    "        if MAX_NUM_SAMPLES > 0 and i == MAX_NUM_SAMPLES:\n",
    "            break\n",
    "        with open(sample, \"r\") as fd:\n",
    "            x = [preprocess(l) for l in fd][0]\n",
    "            data.append(x)\n",
    "\n",
    "    return data\n",
    "\n",
    "\n",
    "def create_corpus(pos, neg):\n",
    "    corpus = np.array(pos + neg)\n",
    "    y = np.array([1 for _ in pos] + [0 for _ in neg])\n",
    "    indices = np.arange(y.shape[0])\n",
    "    np.random.shuffle(indices)\n",
    "\n",
    "    return list(corpus[indices]), list(y[indices])\n",
    "\n",
    "\n",
    "def extract_nbow(model,train_data,test_data):\n",
    "    \"\"\"Extract neural bag of words representations\"\"\"\n",
    "    \n",
    "    # The training dataset (sentences of the reviews) will be converted to vectors of 100 dimensions \n",
    "    X_train = np.zeros((np.size(train_data), 100))\n",
    "    for row, rev in enumerate(train_data):\n",
    "        words_included = 0\n",
    "\n",
    "        # Tokenize current review\n",
    "        rev_toks = preproc_tok(rev)\n",
    "    \n",
    "        for tok in rev_toks:\n",
    "            if tok in model.wv:\n",
    "                X_train[row] += model.wv[tok]\n",
    "                words_included += 1\n",
    "            \n",
    "        # Get the mean value of each sentence in the embedding space\n",
    "        X_train[row] = X_train[row]/words_included\n",
    "\n",
    "\n",
    "\n",
    "    # The test dataset (sentences of the reviews) will be converted to vectors of 100 dimensions \n",
    "    X_test = np.zeros((np.size(test_data), 100)) \n",
    "    for row, rev in enumerate(test_data):\n",
    "        words_included = 0\n",
    "        \n",
    "        # Tokenize current review\n",
    "        rev_toks = preproc_tok(rev)\n",
    "        for tok in rev_toks:\n",
    "            # For each token check if it has a w2v representation\n",
    "            # and if yes add it.\n",
    "            if tok in model.wv:\n",
    "                X_test[row] += model.wv[tok]\n",
    "                words_included += 1\n",
    "                \n",
    "        # Get the mean value of each sentence in the embedding space\n",
    "        X_test[row] = X_test[row]/words_included\n",
    "\n",
    "    return X_train,X_test\n",
    "\n",
    "    raise NotImplementedError(\"Implement nbow extractor\")\n",
    "\n"
   ]
  },
  {
   "cell_type": "code",
   "execution_count": 6,
   "id": "77e666e7",
   "metadata": {},
   "outputs": [],
   "source": [
    "# Take text and label data from the directories in raw format\n",
    "\n",
    "train_data,train_labels = create_corpus(read_samples(pos_train_dir), read_samples(neg_train_dir))\n",
    "test_data,test_labels = create_corpus(read_samples(pos_test_dir), read_samples(neg_test_dir))\n",
    "\n",
    "\n",
    "# Tokenize each review of our training data to feed into the \"sentences\" argument of our model's traing phase\n",
    "proc_tok_corpus=[]\n",
    "proc_tok_rev=[]\n",
    "for rev in train_data:\n",
    "    proc_tok_rev=preproc_tok(rev)\n",
    "    proc_tok_corpus.append(proc_tok_rev)\n"
   ]
  },
  {
   "cell_type": "code",
   "execution_count": null,
   "id": "ea678c61",
   "metadata": {},
   "outputs": [],
   "source": [
    "from gensim.models import Word2Vec\n",
    "from gensim.models.callbacks import CallbackAny2Vec\n",
    "\n",
    "train_w2v_model(proc_tok_corpus,\n",
    "   \"my_sentiment_w2v.model\",\n",
    "    5,\n",
    "    100,\n",
    "    1000,\n",
    "    1,\n",
    ")"
   ]
  },
  {
   "cell_type": "code",
   "execution_count": 7,
   "id": "5336918a",
   "metadata": {},
   "outputs": [
    {
     "name": "stderr",
     "output_type": "stream",
     "text": [
      "INFO - 15:38:28: loading Word2Vec object from my_sentiment_w2v.model\n",
      "INFO - 15:38:28: loading wv recursively from my_sentiment_w2v.model.wv.* with mmap=None\n",
      "INFO - 15:38:28: setting ignored attribute cum_table to None\n",
      "INFO - 15:38:29: Word2Vec lifecycle event {'fname': 'my_sentiment_w2v.model', 'datetime': '2023-04-09T15:38:29.582308', 'gensim': '4.3.1', 'python': '3.10.7 (main, Mar 10 2023, 10:47:39) [GCC 12.2.0]', 'platform': 'Linux-5.19.0-38-generic-x86_64-with-glibc2.36', 'event': 'loaded'}\n"
     ]
    },
    {
     "name": "stdout",
     "output_type": "stream",
     "text": [
      "(51037, 100)\n"
     ]
    }
   ],
   "source": [
    "import numpy as np\n",
    "\n",
    "\n",
    "my_sentiment_w2v = Word2Vec.load(\"my_sentiment_w2v.model\")\n",
    "\n",
    "\n",
    "# Convert to numpy 2d array (n_vocab x vector_size)\n",
    "def to_embeddings_Matrix(model):  \n",
    "    embedding_matrix = np.zeros((len(model.wv.index_to_key), model.vector_size))\n",
    "    word2idx = {}\n",
    "    for i in range(len(model.wv.index_to_key)):\n",
    "        embedding_matrix[i] = model.wv[model.wv.index_to_key[i]] \n",
    "    return embedding_matrix\n",
    "\n",
    "\n",
    "embeddings_my_sentiment=to_embeddings_Matrix(my_sentiment_w2v)\n",
    "print(np.shape(embeddings_my_sentiment))"
   ]
  },
  {
   "cell_type": "code",
   "execution_count": 58,
   "id": "25847524",
   "metadata": {},
   "outputs": [],
   "source": [
    "# Training and test dataset as neural bag of words for training our model\n",
    "\n",
    "X_train,X_test=extract_nbow(my_sentiment_w2v,train_data,test_data)"
   ]
  },
  {
   "cell_type": "code",
   "execution_count": 59,
   "id": "2e756103",
   "metadata": {},
   "outputs": [],
   "source": [
    "# Training our model with the default Logistic Regression classifier for (maximum) 1000 iterations.\n",
    "from sklearn.linear_model import LogisticRegression\n",
    "\n",
    "clf=LogisticRegression(max_iter=1000).fit(X_train,train_labels)\n"
   ]
  },
  {
   "cell_type": "code",
   "execution_count": 60,
   "id": "5e98bc9d",
   "metadata": {},
   "outputs": [
    {
     "name": "stdout",
     "output_type": "stream",
     "text": [
      "Accuracy: 0.8398\n"
     ]
    }
   ],
   "source": [
    "from sklearn import metrics\n",
    "y_pred = clf.predict(X_test)\n",
    "# Model Accuracy, how often is the classifier correct?\n",
    "print(\"Accuracy:\",metrics.accuracy_score(y_pred,test_labels))\n",
    "\n"
   ]
  },
  {
   "cell_type": "code",
   "execution_count": 43,
   "id": "f2ae6f60",
   "metadata": {},
   "outputs": [
    {
     "name": "stderr",
     "output_type": "stream",
     "text": [
      "INFO - 15:43:26: loading projection weights from /home/brewed/Desktop/GoogleNews-vectors-negative300.bin.gz\n",
      "INFO - 15:43:46: KeyedVectors lifecycle event {'msg': 'loaded (1000000, 300) matrix of type float32 from /home/brewed/Desktop/GoogleNews-vectors-negative300.bin.gz', 'binary': True, 'encoding': 'utf8', 'datetime': '2023-04-09T15:43:46.370001', 'gensim': '4.3.1', 'python': '3.10.7 (main, Mar 10 2023, 10:47:39) [GCC 12.2.0]', 'platform': 'Linux-5.19.0-38-generic-x86_64-with-glibc2.36', 'event': 'load_word2vec_format'}\n"
     ]
    },
    {
     "name": "stdout",
     "output_type": "stream",
     "text": [
      "(1000000, 300)\n"
     ]
    }
   ],
   "source": [
    "# Loading google's model\n",
    "from gensim.models import KeyedVectors\n",
    "google_sentiment_w2v = KeyedVectors.load_word2vec_format('../data/GoogleNews-vectors-negative300.bin.gz', binary=True,\n",
    "limit=1000000)\n",
    "\n",
    "\n",
    "\n",
    "\n",
    "# Extracting the embeddings of google's model\n",
    "embeddings_google_sentiment = np.zeros((len(google_sentiment_w2v.index_to_key), google_sentiment_w2v.vector_size))\n",
    "word2idx = {}\n",
    "for i in range(len(google_sentiment_w2v.index_to_key)):\n",
    "    embeddings_google_sentiment[i] = google_sentiment_w2v[google_sentiment_w2v.index_to_key[i]] \n",
    "\n",
    "print(np.shape(embeddings_google_sentiment))"
   ]
  },
  {
   "cell_type": "code",
   "execution_count": 61,
   "id": "0ffe6dad",
   "metadata": {},
   "outputs": [],
   "source": [
    "# Getting the neural bag of words for google's model\n",
    "\n",
    "X_google_train = np.zeros((np.size(train_data), 300))\n",
    "for row, rev in enumerate(train_data):\n",
    "    words_included = 0\n",
    "    rev_toks = preproc_tok(rev)\n",
    "    \n",
    "    for tok in rev_toks:\n",
    "        if tok in google_sentiment_w2v:\n",
    "            X_google_train[row] += google_sentiment_w2v[tok]\n",
    "            words_included += 1\n",
    "\n",
    "    # Get the mean value\n",
    "    X_google_train[row] = X_google_train[row]/words_included\n",
    "\n",
    "\n",
    "\n",
    "\n",
    "X_google_test = np.zeros((np.size(test_data), 300)) \n",
    "for row, rev in enumerate(test_data):\n",
    "    words_included = 0\n",
    "    # Tokenize current review\n",
    "    rev_toks = preproc_tok(rev)\n",
    "    for tok in rev_toks:\n",
    "        # For each token check if it has a w2v representation\n",
    "        # and if yes add it.\n",
    "        if tok in google_sentiment_w2v:\n",
    "            X_google_test[row] += google_sentiment_w2v[tok]\n",
    "            words_included += 1\n",
    "    # Get the mean value\n",
    "    X_google_test[row] = X_google_test[row]/words_included\n"
   ]
  },
  {
   "cell_type": "code",
   "execution_count": 62,
   "id": "4e81de93",
   "metadata": {},
   "outputs": [],
   "source": [
    "# Training google's model with the default Logistic Regression classifier for (maximum) 1000 iterations.\n",
    "\n",
    "from sklearn.linear_model import LogisticRegression\n",
    "\n",
    "clf_google=LogisticRegression(max_iter=1000).fit(X_google_train,train_labels)\n"
   ]
  },
  {
   "cell_type": "code",
   "execution_count": 63,
   "id": "a310aef1",
   "metadata": {},
   "outputs": [
    {
     "name": "stdout",
     "output_type": "stream",
     "text": [
      "Accuracy: 0.8345\n"
     ]
    }
   ],
   "source": [
    "from sklearn import metrics\n",
    "y_pred_google = clf_google.predict(X_google_test)\n",
    "\n",
    "# Model Accuracy, how often is the classifier correct?\n",
    "print(\"Accuracy:\",metrics.accuracy_score(y_pred_google,test_labels))\n"
   ]
  },
  {
   "cell_type": "code",
   "execution_count": 166,
   "id": "3deeedf8",
   "metadata": {},
   "outputs": [
    {
     "name": "stdout",
     "output_type": "stream",
     "text": [
      "Jeff Garlin's film is filled with heart and laughter. As in Curb Your Enthusiasm, his screen persona is hilarious; but in addition we get to see both warmth and a sense of emotional vulnerability that makes the story universal. While the film chronicles his character's dreams of love, performing success, and weight loss, it will appeal to anyone who dreams of a better life. The supporting cast brings the frustrations and joys of his life to the screen in funny and heartbreaking ways. The simple joys of food, friendship, and trying once again once life has disappointed us are all themes. The use of music is creative and adds to the many pleasures of this film. Any fan of Jeff Garlin's TV appearances must see it! \n",
      "\n",
      " 1 : Positive\n"
     ]
    }
   ],
   "source": [
    "# Example of our model's prediction\n",
    "print(test_data[11],'\\n\\n',y_pred[11],': Positive' if y_pred[11]==1 else ': Negative')"
   ]
  }
 ],
 "metadata": {
  "kernelspec": {
   "display_name": "Python 3 (ipykernel)",
   "language": "python",
   "name": "python3"
  },
  "language_info": {
   "codemirror_mode": {
    "name": "ipython",
    "version": 3
   },
   "file_extension": ".py",
   "mimetype": "text/x-python",
   "name": "python",
   "nbconvert_exporter": "python",
   "pygments_lexer": "ipython3",
   "version": "3.10.7"
  }
 },
 "nbformat": 4,
 "nbformat_minor": 5
}
