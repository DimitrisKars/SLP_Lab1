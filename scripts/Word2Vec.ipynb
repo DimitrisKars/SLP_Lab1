{
 "cells": [
  {
   "cell_type": "code",
   "execution_count": 1,
   "id": "40682a80",
   "metadata": {
    "scrolled": false
   },
   "outputs": [],
   "source": [
    "#We use gensim 4.3.1, refer to below cells where we point to the differences between 3.8.3 and 4.3.1\n",
    "# Info from https://github.com/RaRe-Technologies/gensim/wiki/Migrating-from-Gensim-3.x-to-4\n",
    "\n",
    "\n",
    "\n",
    "import logging\n",
    "import multiprocessing\n",
    "import os\n",
    "\n",
    "from gensim.models import Word2Vec\n",
    "from gensim.models.callbacks import CallbackAny2Vec\n",
    "\n",
    "# Enable gensim logging\n",
    "logging.basicConfig(\n",
    "    format=\"%(levelname)s - %(asctime)s: %(message)s\",\n",
    "    datefmt=\"%H:%M:%S\",\n",
    "    level=logging.INFO,\n",
    ")\n",
    "\n",
    "\n",
    "class W2VLossLogger(CallbackAny2Vec):\n",
    "    \"\"\"Callback to print loss after each epoch\n",
    "    use by passing model.train(..., callbacks=[W2VLossLogger()])\n",
    "    \"\"\"\n",
    "\n",
    "    def __init__(self):\n",
    "        self.epoch = 0\n",
    "        \n",
    "\n",
    "    def on_epoch_end(self, model):\n",
    "        loss = model.get_latest_training_loss()\n",
    "\n",
    "        if self.epoch == 0:\n",
    "            print(\"Loss after epoch {}: {}\".format(self.epoch, loss))\n",
    "        else:\n",
    "            print(\n",
    "                \"Loss after epoch {}: {}\".format(\n",
    "                    self.epoch, loss - self.loss_previous_step\n",
    "                )\n",
    "            )\n",
    "        self.epoch += 1\n",
    "        self.loss_previous_step = loss\n",
    "\n",
    "\n",
    "def train_w2v_model(\n",
    "    sentences,\n",
    "    output_file,\n",
    "    window,\n",
    "    embedding_dim,\n",
    "    epochs,\n",
    "    min_word_count,\n",
    "):\n",
    "    \n",
    "\n",
    "    \"\"\"Train a word2vec model based on given sentences.\n",
    "    Args:\n",
    "        sentences list[list[str]]: List of sentences. Each element contains a list with the words\n",
    "            in the current sentence\n",
    "        output_file (str): Path to save the trained w2v model\n",
    "        window (int): w2v context size\n",
    "        embedding_dim (int): w2v vector dimension\n",
    "        epochs (int): How many epochs should the training run\n",
    "        min_word_count (int): Ignore words that appear less than min_word_count times\n",
    "    \"\"\"\n",
    "    workers = multiprocessing.cpu_count()\n",
    "    \n",
    "    # TODO: Instantiate gensim.models.Word2Vec class\n",
    "    model = Word2Vec(sentences=sentences, vector_size=embedding_dim, window=window, min_count=min_word_count, workers=multiprocessing.cpu_count())\n",
    "    model.build_vocab(sentences, progress_per=10000)\n",
    "    # TODO: Build model vocabulary using sentences\n",
    "    # TODO: Train word2vec model\n",
    "    model.train(sentences, total_examples=model.corpus_count,epochs=epochs,callbacks=[W2VLossLogger()])\n",
    "    # Save trained model\n",
    "    model.save(output_file)\n",
    "    # model.save(output_file)\n",
    "\n",
    "    \n",
    "\n",
    "    return model\n",
    "    \n",
    "\n",
    "\n"
   ]
  },
  {
   "cell_type": "code",
   "execution_count": 3,
   "id": "8de3a900",
   "metadata": {},
   "outputs": [
    {
     "name": "stderr",
     "output_type": "stream",
     "text": [
      "INFO - 21:32:31: collecting all words and their counts\n",
      "INFO - 21:32:31: PROGRESS: at sentence #0, processed 0 words, keeping 0 word types\n",
      "INFO - 21:32:31: PROGRESS: at sentence #10000, processed 113516 words, keeping 6065 word types\n",
      "INFO - 21:32:31: PROGRESS: at sentence #20000, processed 227311 words, keeping 8492 word types\n",
      "INFO - 21:32:31: PROGRESS: at sentence #30000, processed 324672 words, keeping 9841 word types\n",
      "INFO - 21:32:31: PROGRESS: at sentence #40000, processed 427445 words, keeping 11779 word types\n",
      "INFO - 21:32:31: PROGRESS: at sentence #50000, processed 537208 words, keeping 13110 word types\n",
      "INFO - 21:32:31: PROGRESS: at sentence #60000, processed 647741 words, keeping 14312 word types\n",
      "INFO - 21:32:31: PROGRESS: at sentence #70000, processed 751694 words, keeping 16043 word types\n",
      "INFO - 21:32:31: PROGRESS: at sentence #80000, processed 847983 words, keeping 16837 word types\n",
      "INFO - 21:32:31: PROGRESS: at sentence #90000, processed 957413 words, keeping 17332 word types\n",
      "INFO - 21:32:31: PROGRESS: at sentence #100000, processed 1063629 words, keeping 17986 word types\n",
      "INFO - 21:32:31: PROGRESS: at sentence #110000, processed 1164106 words, keeping 19045 word types\n",
      "INFO - 21:32:31: PROGRESS: at sentence #120000, processed 1276772 words, keeping 21274 word types\n",
      "INFO - 21:32:31: PROGRESS: at sentence #130000, processed 1385166 words, keeping 24315 word types\n",
      "INFO - 21:32:31: PROGRESS: at sentence #140000, processed 1496887 words, keeping 26028 word types\n",
      "INFO - 21:32:31: PROGRESS: at sentence #150000, processed 1613459 words, keeping 27039 word types\n",
      "INFO - 21:32:31: PROGRESS: at sentence #160000, processed 1725670 words, keeping 30107 word types\n",
      "INFO - 21:32:32: PROGRESS: at sentence #170000, processed 1837438 words, keeping 32790 word types\n",
      "INFO - 21:32:32: PROGRESS: at sentence #180000, processed 1920527 words, keeping 34578 word types\n",
      "INFO - 21:32:32: PROGRESS: at sentence #190000, processed 1996263 words, keeping 37997 word types\n",
      "INFO - 21:32:32: PROGRESS: at sentence #200000, processed 2084641 words, keeping 40487 word types\n",
      "INFO - 21:32:32: collected 41465 word types from a corpus of 2135928 raw words and 205767 sentences\n",
      "INFO - 21:32:32: Creating a fresh vocabulary\n",
      "INFO - 21:32:32: Word2Vec lifecycle event {'msg': 'effective_min_count=1 retains 41465 unique words (100.00% of original 41465, drops 0)', 'datetime': '2023-04-17T21:32:32.367356', 'gensim': '4.3.1', 'python': '3.10.7 (main, Mar 10 2023, 10:47:39) [GCC 12.2.0]', 'platform': 'Linux-5.19.0-38-generic-x86_64-with-glibc2.36', 'event': 'prepare_vocab'}\n",
      "INFO - 21:32:32: Word2Vec lifecycle event {'msg': 'effective_min_count=1 leaves 2135928 word corpus (100.00% of original 2135928, drops 0)', 'datetime': '2023-04-17T21:32:32.368194', 'gensim': '4.3.1', 'python': '3.10.7 (main, Mar 10 2023, 10:47:39) [GCC 12.2.0]', 'platform': 'Linux-5.19.0-38-generic-x86_64-with-glibc2.36', 'event': 'prepare_vocab'}\n",
      "INFO - 21:32:32: deleting the raw counts dictionary of 41465 items\n",
      "INFO - 21:32:32: sample=0.001 downsamples 56 most-common words\n",
      "INFO - 21:32:32: Word2Vec lifecycle event {'msg': 'downsampling leaves estimated 1561117.1381724994 word corpus (73.1%% of prior 2135928)', 'datetime': '2023-04-17T21:32:32.775766', 'gensim': '4.3.1', 'python': '3.10.7 (main, Mar 10 2023, 10:47:39) [GCC 12.2.0]', 'platform': 'Linux-5.19.0-38-generic-x86_64-with-glibc2.36', 'event': 'prepare_vocab'}\n",
      "INFO - 21:32:33: estimated required memory for 41465 words and 100 dimensions: 53904500 bytes\n",
      "INFO - 21:32:33: resetting layer weights\n",
      "INFO - 21:32:33: Word2Vec lifecycle event {'update': False, 'trim_rule': 'None', 'datetime': '2023-04-17T21:32:33.335413', 'gensim': '4.3.1', 'python': '3.10.7 (main, Mar 10 2023, 10:47:39) [GCC 12.2.0]', 'platform': 'Linux-5.19.0-38-generic-x86_64-with-glibc2.36', 'event': 'build_vocab'}\n",
      "INFO - 21:32:33: Word2Vec lifecycle event {'msg': 'training model with 8 workers on 41465 vocabulary and 100 features, using sg=0 hs=0 sample=0.001 negative=5 window=5 shrink_windows=True', 'datetime': '2023-04-17T21:32:33.336381', 'gensim': '4.3.1', 'python': '3.10.7 (main, Mar 10 2023, 10:47:39) [GCC 12.2.0]', 'platform': 'Linux-5.19.0-38-generic-x86_64-with-glibc2.36', 'event': 'train'}\n",
      "INFO - 21:32:34: EPOCH 0 - PROGRESS: at 69.33% examples, 1074999 words/s, in_qsize 16, out_qsize 0\n",
      "INFO - 21:32:34: EPOCH 0: training on 2135928 raw words (1561171 effective words) took 1.5s, 1068836 effective words/s\n",
      "INFO - 21:32:35: EPOCH 1 - PROGRESS: at 62.09% examples, 964540 words/s, in_qsize 16, out_qsize 0\n",
      "INFO - 21:32:36: EPOCH 1: training on 2135928 raw words (1561426 effective words) took 1.6s, 980806 effective words/s\n",
      "INFO - 21:32:37: EPOCH 2 - PROGRESS: at 61.22% examples, 955131 words/s, in_qsize 15, out_qsize 0\n",
      "INFO - 21:32:37: EPOCH 2: training on 2135928 raw words (1561045 effective words) took 1.6s, 1004849 effective words/s\n",
      "INFO - 21:32:39: EPOCH 3 - PROGRESS: at 61.66% examples, 949383 words/s, in_qsize 16, out_qsize 0\n",
      "INFO - 21:32:39: EPOCH 3: training on 2135928 raw words (1561885 effective words) took 1.5s, 1015664 effective words/s\n",
      "INFO - 21:32:40: EPOCH 4 - PROGRESS: at 66.01% examples, 1037527 words/s, in_qsize 15, out_qsize 0\n",
      "INFO - 21:32:40: EPOCH 4: training on 2135928 raw words (1560874 effective words) took 1.5s, 1075061 effective words/s\n",
      "INFO - 21:32:40: Word2Vec lifecycle event {'msg': 'training on 10679640 raw words (7806401 effective words) took 7.6s, 1021005 effective words/s', 'datetime': '2023-04-17T21:32:40.983211', 'gensim': '4.3.1', 'python': '3.10.7 (main, Mar 10 2023, 10:47:39) [GCC 12.2.0]', 'platform': 'Linux-5.19.0-38-generic-x86_64-with-glibc2.36', 'event': 'train'}\n",
      "INFO - 21:32:40: Word2Vec lifecycle event {'params': 'Word2Vec<vocab=41465, vector_size=100, alpha=0.025>', 'datetime': '2023-04-17T21:32:40.984074', 'gensim': '4.3.1', 'python': '3.10.7 (main, Mar 10 2023, 10:47:39) [GCC 12.2.0]', 'platform': 'Linux-5.19.0-38-generic-x86_64-with-glibc2.36', 'event': 'created'}\n",
      "INFO - 21:32:40: collecting all words and their counts\n",
      "INFO - 21:32:40: PROGRESS: at sentence #0, processed 0 words, keeping 0 word types\n",
      "INFO - 21:32:41: PROGRESS: at sentence #10000, processed 113516 words, keeping 6065 word types\n",
      "INFO - 21:32:41: PROGRESS: at sentence #20000, processed 227311 words, keeping 8492 word types\n",
      "INFO - 21:32:41: PROGRESS: at sentence #30000, processed 324672 words, keeping 9841 word types\n",
      "INFO - 21:32:41: PROGRESS: at sentence #40000, processed 427445 words, keeping 11779 word types\n",
      "INFO - 21:32:41: PROGRESS: at sentence #50000, processed 537208 words, keeping 13110 word types\n",
      "INFO - 21:32:41: PROGRESS: at sentence #60000, processed 647741 words, keeping 14312 word types\n",
      "INFO - 21:32:41: PROGRESS: at sentence #70000, processed 751694 words, keeping 16043 word types\n",
      "INFO - 21:32:41: PROGRESS: at sentence #80000, processed 847983 words, keeping 16837 word types\n",
      "INFO - 21:32:41: PROGRESS: at sentence #90000, processed 957413 words, keeping 17332 word types\n",
      "INFO - 21:32:41: PROGRESS: at sentence #100000, processed 1063629 words, keeping 17986 word types\n",
      "INFO - 21:32:41: PROGRESS: at sentence #110000, processed 1164106 words, keeping 19045 word types\n",
      "INFO - 21:32:41: PROGRESS: at sentence #120000, processed 1276772 words, keeping 21274 word types\n",
      "INFO - 21:32:41: PROGRESS: at sentence #130000, processed 1385166 words, keeping 24315 word types\n",
      "INFO - 21:32:41: PROGRESS: at sentence #140000, processed 1496887 words, keeping 26028 word types\n",
      "INFO - 21:32:41: PROGRESS: at sentence #150000, processed 1613459 words, keeping 27039 word types\n",
      "INFO - 21:32:41: PROGRESS: at sentence #160000, processed 1725670 words, keeping 30107 word types\n",
      "INFO - 21:32:41: PROGRESS: at sentence #170000, processed 1837438 words, keeping 32790 word types\n",
      "INFO - 21:32:41: PROGRESS: at sentence #180000, processed 1920527 words, keeping 34578 word types\n",
      "INFO - 21:32:41: PROGRESS: at sentence #190000, processed 1996263 words, keeping 37997 word types\n",
      "INFO - 21:32:41: PROGRESS: at sentence #200000, processed 2084641 words, keeping 40487 word types\n",
      "INFO - 21:32:41: collected 41465 word types from a corpus of 2135928 raw words and 205767 sentences\n",
      "INFO - 21:32:41: Creating a fresh vocabulary\n"
     ]
    },
    {
     "name": "stderr",
     "output_type": "stream",
     "text": [
      "INFO - 21:32:41: Word2Vec lifecycle event {'msg': 'effective_min_count=1 retains 41465 unique words (100.00% of original 41465, drops 0)', 'datetime': '2023-04-17T21:32:41.938240', 'gensim': '4.3.1', 'python': '3.10.7 (main, Mar 10 2023, 10:47:39) [GCC 12.2.0]', 'platform': 'Linux-5.19.0-38-generic-x86_64-with-glibc2.36', 'event': 'prepare_vocab'}\n",
      "INFO - 21:32:41: Word2Vec lifecycle event {'msg': 'effective_min_count=1 leaves 2135928 word corpus (100.00% of original 2135928, drops 0)', 'datetime': '2023-04-17T21:32:41.939416', 'gensim': '4.3.1', 'python': '3.10.7 (main, Mar 10 2023, 10:47:39) [GCC 12.2.0]', 'platform': 'Linux-5.19.0-38-generic-x86_64-with-glibc2.36', 'event': 'prepare_vocab'}\n",
      "INFO - 21:32:42: deleting the raw counts dictionary of 41465 items\n",
      "INFO - 21:32:42: sample=0.001 downsamples 56 most-common words\n",
      "INFO - 21:32:42: Word2Vec lifecycle event {'msg': 'downsampling leaves estimated 1561117.1381724994 word corpus (73.1%% of prior 2135928)', 'datetime': '2023-04-17T21:32:42.266329', 'gensim': '4.3.1', 'python': '3.10.7 (main, Mar 10 2023, 10:47:39) [GCC 12.2.0]', 'platform': 'Linux-5.19.0-38-generic-x86_64-with-glibc2.36', 'event': 'prepare_vocab'}\n",
      "WARNING - 21:32:42: sorting after vectors have been allocated is expensive & error-prone\n",
      "INFO - 21:32:42: estimated required memory for 41465 words and 100 dimensions: 53904500 bytes\n",
      "INFO - 21:32:42: resetting layer weights\n",
      "INFO - 21:32:42: Word2Vec lifecycle event {'update': False, 'trim_rule': 'None', 'datetime': '2023-04-17T21:32:42.812388', 'gensim': '4.3.1', 'python': '3.10.7 (main, Mar 10 2023, 10:47:39) [GCC 12.2.0]', 'platform': 'Linux-5.19.0-38-generic-x86_64-with-glibc2.36', 'event': 'build_vocab'}\n",
      "WARNING - 21:32:42: Effective 'alpha' higher than previous training cycles\n",
      "INFO - 21:32:42: Word2Vec lifecycle event {'msg': 'training model with 8 workers on 41465 vocabulary and 100 features, using sg=0 hs=0 sample=0.001 negative=5 window=5 shrink_windows=True', 'datetime': '2023-04-17T21:32:42.814508', 'gensim': '4.3.1', 'python': '3.10.7 (main, Mar 10 2023, 10:47:39) [GCC 12.2.0]', 'platform': 'Linux-5.19.0-38-generic-x86_64-with-glibc2.36', 'event': 'train'}\n",
      "INFO - 21:32:43: EPOCH 0 - PROGRESS: at 64.23% examples, 1005230 words/s, in_qsize 15, out_qsize 0\n",
      "INFO - 21:32:44: EPOCH 0: training on 2135928 raw words (1561880 effective words) took 1.5s, 1029604 effective words/s\n"
     ]
    },
    {
     "name": "stdout",
     "output_type": "stream",
     "text": [
      "Loss after epoch 0: 0.0\n"
     ]
    },
    {
     "name": "stderr",
     "output_type": "stream",
     "text": [
      "INFO - 21:32:45: EPOCH 1 - PROGRESS: at 62.93% examples, 986687 words/s, in_qsize 15, out_qsize 0\n",
      "INFO - 21:32:45: EPOCH 1: training on 2135928 raw words (1560621 effective words) took 1.5s, 1043614 effective words/s\n"
     ]
    },
    {
     "name": "stdout",
     "output_type": "stream",
     "text": [
      "Loss after epoch 1: 0.0\n"
     ]
    },
    {
     "name": "stderr",
     "output_type": "stream",
     "text": [
      "INFO - 21:32:46: EPOCH 2 - PROGRESS: at 62.09% examples, 960126 words/s, in_qsize 15, out_qsize 0\n",
      "INFO - 21:32:47: EPOCH 2: training on 2135928 raw words (1560381 effective words) took 1.5s, 1018847 effective words/s\n"
     ]
    },
    {
     "name": "stdout",
     "output_type": "stream",
     "text": [
      "Loss after epoch 2: 0.0\n"
     ]
    },
    {
     "name": "stderr",
     "output_type": "stream",
     "text": [
      "INFO - 21:32:48: EPOCH 3 - PROGRESS: at 64.66% examples, 1016573 words/s, in_qsize 15, out_qsize 0\n",
      "INFO - 21:32:48: EPOCH 3: training on 2135928 raw words (1561581 effective words) took 1.5s, 1063850 effective words/s\n"
     ]
    },
    {
     "name": "stdout",
     "output_type": "stream",
     "text": [
      "Loss after epoch 3: 0.0\n"
     ]
    },
    {
     "name": "stderr",
     "output_type": "stream",
     "text": [
      "INFO - 21:32:49: EPOCH 4 - PROGRESS: at 70.21% examples, 1106880 words/s, in_qsize 13, out_qsize 2\n",
      "INFO - 21:32:50: EPOCH 4: training on 2135928 raw words (1561633 effective words) took 1.4s, 1131503 effective words/s\n"
     ]
    },
    {
     "name": "stdout",
     "output_type": "stream",
     "text": [
      "Loss after epoch 4: 0.0\n"
     ]
    },
    {
     "name": "stderr",
     "output_type": "stream",
     "text": [
      "INFO - 21:32:51: EPOCH 5 - PROGRESS: at 68.98% examples, 1064845 words/s, in_qsize 15, out_qsize 0\n",
      "INFO - 21:32:51: EPOCH 5: training on 2135928 raw words (1560989 effective words) took 1.4s, 1113788 effective words/s\n"
     ]
    },
    {
     "name": "stdout",
     "output_type": "stream",
     "text": [
      "Loss after epoch 5: 0.0\n"
     ]
    },
    {
     "name": "stderr",
     "output_type": "stream",
     "text": [
      "INFO - 21:32:52: EPOCH 6 - PROGRESS: at 68.93% examples, 1090182 words/s, in_qsize 16, out_qsize 0\n",
      "INFO - 21:32:53: EPOCH 6: training on 2135928 raw words (1560069 effective words) took 1.4s, 1122922 effective words/s\n"
     ]
    },
    {
     "name": "stdout",
     "output_type": "stream",
     "text": [
      "Loss after epoch 6: 0.0\n"
     ]
    },
    {
     "name": "stderr",
     "output_type": "stream",
     "text": [
      "INFO - 21:32:54: EPOCH 7 - PROGRESS: at 71.04% examples, 1117384 words/s, in_qsize 15, out_qsize 0\n",
      "INFO - 21:32:54: EPOCH 7: training on 2135928 raw words (1561227 effective words) took 1.4s, 1154977 effective words/s\n"
     ]
    },
    {
     "name": "stdout",
     "output_type": "stream",
     "text": [
      "Loss after epoch 7: 0.0\n"
     ]
    },
    {
     "name": "stderr",
     "output_type": "stream",
     "text": [
      "INFO - 21:32:55: EPOCH 8 - PROGRESS: at 70.21% examples, 1109195 words/s, in_qsize 16, out_qsize 0\n",
      "INFO - 21:32:55: EPOCH 8: training on 2135928 raw words (1560824 effective words) took 1.3s, 1159796 effective words/s\n"
     ]
    },
    {
     "name": "stdout",
     "output_type": "stream",
     "text": [
      "Loss after epoch 8: 0.0\n"
     ]
    },
    {
     "name": "stderr",
     "output_type": "stream",
     "text": [
      "INFO - 21:32:56: EPOCH 9 - PROGRESS: at 69.77% examples, 1102750 words/s, in_qsize 14, out_qsize 1\n",
      "INFO - 21:32:57: EPOCH 9: training on 2135928 raw words (1560927 effective words) took 1.4s, 1130330 effective words/s\n"
     ]
    },
    {
     "name": "stdout",
     "output_type": "stream",
     "text": [
      "Loss after epoch 9: 0.0\n"
     ]
    },
    {
     "name": "stderr",
     "output_type": "stream",
     "text": [
      "INFO - 21:32:58: EPOCH 10 - PROGRESS: at 66.93% examples, 1045050 words/s, in_qsize 14, out_qsize 1\n",
      "INFO - 21:32:58: EPOCH 10: training on 2135928 raw words (1561005 effective words) took 1.5s, 1076218 effective words/s\n"
     ]
    },
    {
     "name": "stdout",
     "output_type": "stream",
     "text": [
      "Loss after epoch 10: 0.0\n"
     ]
    },
    {
     "name": "stderr",
     "output_type": "stream",
     "text": [
      "INFO - 21:32:59: EPOCH 11 - PROGRESS: at 56.21% examples, 870416 words/s, in_qsize 14, out_qsize 2\n",
      "INFO - 21:33:00: EPOCH 11: training on 2135928 raw words (1561538 effective words) took 1.7s, 941847 effective words/s\n"
     ]
    },
    {
     "name": "stdout",
     "output_type": "stream",
     "text": [
      "Loss after epoch 11: 0.0\n"
     ]
    },
    {
     "name": "stderr",
     "output_type": "stream",
     "text": [
      "INFO - 21:33:01: EPOCH 12 - PROGRESS: at 55.40% examples, 855017 words/s, in_qsize 15, out_qsize 0\n",
      "INFO - 21:33:01: EPOCH 12: training on 2135928 raw words (1560146 effective words) took 1.7s, 933397 effective words/s\n"
     ]
    },
    {
     "name": "stdout",
     "output_type": "stream",
     "text": [
      "Loss after epoch 12: 0.0\n"
     ]
    },
    {
     "name": "stderr",
     "output_type": "stream",
     "text": [
      "INFO - 21:33:02: EPOCH 13 - PROGRESS: at 66.01% examples, 1037590 words/s, in_qsize 15, out_qsize 0\n",
      "INFO - 21:33:03: EPOCH 13: training on 2135928 raw words (1561359 effective words) took 1.5s, 1065064 effective words/s\n"
     ]
    },
    {
     "name": "stdout",
     "output_type": "stream",
     "text": [
      "Loss after epoch 13: 0.0\n"
     ]
    },
    {
     "name": "stderr",
     "output_type": "stream",
     "text": [
      "INFO - 21:33:04: EPOCH 14 - PROGRESS: at 68.13% examples, 1073204 words/s, in_qsize 15, out_qsize 0\n",
      "INFO - 21:33:04: EPOCH 14: training on 2135928 raw words (1561480 effective words) took 1.4s, 1086390 effective words/s\n"
     ]
    },
    {
     "name": "stdout",
     "output_type": "stream",
     "text": [
      "Loss after epoch 14: 0.0\n"
     ]
    },
    {
     "name": "stderr",
     "output_type": "stream",
     "text": [
      "INFO - 21:33:05: EPOCH 15 - PROGRESS: at 67.72% examples, 1067491 words/s, in_qsize 16, out_qsize 0\n",
      "INFO - 21:33:06: EPOCH 15: training on 2135928 raw words (1560373 effective words) took 1.4s, 1098381 effective words/s\n"
     ]
    },
    {
     "name": "stdout",
     "output_type": "stream",
     "text": [
      "Loss after epoch 15: 0.0\n"
     ]
    },
    {
     "name": "stderr",
     "output_type": "stream",
     "text": [
      "INFO - 21:33:07: EPOCH 16 - PROGRESS: at 68.13% examples, 1069995 words/s, in_qsize 15, out_qsize 0\n",
      "INFO - 21:33:07: EPOCH 16: training on 2135928 raw words (1561748 effective words) took 1.4s, 1119039 effective words/s\n"
     ]
    },
    {
     "name": "stdout",
     "output_type": "stream",
     "text": [
      "Loss after epoch 16: 0.0\n"
     ]
    },
    {
     "name": "stderr",
     "output_type": "stream",
     "text": [
      "INFO - 21:33:08: EPOCH 17 - PROGRESS: at 72.30% examples, 1149049 words/s, in_qsize 16, out_qsize 1\n",
      "INFO - 21:33:09: EPOCH 17: training on 2135928 raw words (1560989 effective words) took 1.3s, 1164939 effective words/s\n"
     ]
    },
    {
     "name": "stdout",
     "output_type": "stream",
     "text": [
      "Loss after epoch 17: 0.0\n"
     ]
    },
    {
     "name": "stderr",
     "output_type": "stream",
     "text": [
      "INFO - 21:33:10: EPOCH 18 - PROGRESS: at 61.22% examples, 956978 words/s, in_qsize 13, out_qsize 2\n",
      "INFO - 21:33:10: EPOCH 18: training on 2135928 raw words (1561179 effective words) took 1.5s, 1019096 effective words/s\n"
     ]
    },
    {
     "name": "stdout",
     "output_type": "stream",
     "text": [
      "Loss after epoch 18: 0.0\n"
     ]
    },
    {
     "name": "stderr",
     "output_type": "stream",
     "text": [
      "INFO - 21:33:11: EPOCH 19 - PROGRESS: at 64.22% examples, 991995 words/s, in_qsize 15, out_qsize 0\n",
      "INFO - 21:33:12: EPOCH 19: training on 2135928 raw words (1561174 effective words) took 1.5s, 1042500 effective words/s\n"
     ]
    },
    {
     "name": "stdout",
     "output_type": "stream",
     "text": [
      "Loss after epoch 19: 0.0\n"
     ]
    },
    {
     "name": "stderr",
     "output_type": "stream",
     "text": [
      "INFO - 21:33:13: EPOCH 20 - PROGRESS: at 64.22% examples, 1006935 words/s, in_qsize 15, out_qsize 0\n",
      "INFO - 21:33:13: EPOCH 20: training on 2135928 raw words (1561273 effective words) took 1.5s, 1071857 effective words/s\n"
     ]
    },
    {
     "name": "stdout",
     "output_type": "stream",
     "text": [
      "Loss after epoch 20: 0.0\n"
     ]
    },
    {
     "name": "stderr",
     "output_type": "stream",
     "text": [
      "INFO - 21:33:14: EPOCH 21 - PROGRESS: at 65.56% examples, 1031036 words/s, in_qsize 16, out_qsize 0\n",
      "INFO - 21:33:15: EPOCH 21: training on 2135928 raw words (1561777 effective words) took 1.5s, 1059453 effective words/s\n"
     ]
    },
    {
     "name": "stdout",
     "output_type": "stream",
     "text": [
      "Loss after epoch 21: 0.0\n"
     ]
    },
    {
     "name": "stderr",
     "output_type": "stream",
     "text": [
      "INFO - 21:33:16: EPOCH 22 - PROGRESS: at 65.11% examples, 1012545 words/s, in_qsize 14, out_qsize 1\n",
      "INFO - 21:33:16: EPOCH 22: training on 2135928 raw words (1561225 effective words) took 1.6s, 1000977 effective words/s\n"
     ]
    },
    {
     "name": "stdout",
     "output_type": "stream",
     "text": [
      "Loss after epoch 22: 0.0\n"
     ]
    },
    {
     "name": "stderr",
     "output_type": "stream",
     "text": [
      "INFO - 21:33:17: EPOCH 23 - PROGRESS: at 63.35% examples, 992493 words/s, in_qsize 15, out_qsize 0\n",
      "INFO - 21:33:18: EPOCH 23: training on 2135928 raw words (1561484 effective words) took 1.5s, 1051042 effective words/s\n"
     ]
    },
    {
     "name": "stdout",
     "output_type": "stream",
     "text": [
      "Loss after epoch 23: 0.0\n"
     ]
    },
    {
     "name": "stderr",
     "output_type": "stream",
     "text": [
      "INFO - 21:33:19: EPOCH 24 - PROGRESS: at 59.37% examples, 917506 words/s, in_qsize 16, out_qsize 0\n",
      "INFO - 21:33:19: EPOCH 24: training on 2135928 raw words (1560414 effective words) took 1.6s, 1006345 effective words/s\n"
     ]
    },
    {
     "name": "stdout",
     "output_type": "stream",
     "text": [
      "Loss after epoch 24: 0.0\n"
     ]
    },
    {
     "name": "stderr",
     "output_type": "stream",
     "text": [
      "INFO - 21:33:20: EPOCH 25 - PROGRESS: at 59.35% examples, 922212 words/s, in_qsize 15, out_qsize 0\n",
      "INFO - 21:33:21: EPOCH 25: training on 2135928 raw words (1560846 effective words) took 1.6s, 952408 effective words/s\n"
     ]
    },
    {
     "name": "stdout",
     "output_type": "stream",
     "text": [
      "Loss after epoch 25: 0.0\n"
     ]
    },
    {
     "name": "stderr",
     "output_type": "stream",
     "text": [
      "INFO - 21:33:22: EPOCH 26 - PROGRESS: at 65.56% examples, 1026021 words/s, in_qsize 15, out_qsize 0\n",
      "INFO - 21:33:22: EPOCH 26: training on 2135928 raw words (1560828 effective words) took 1.5s, 1029741 effective words/s\n"
     ]
    },
    {
     "name": "stdout",
     "output_type": "stream",
     "text": [
      "Loss after epoch 26: 0.0\n"
     ]
    },
    {
     "name": "stderr",
     "output_type": "stream",
     "text": [
      "INFO - 21:33:23: EPOCH 27 - PROGRESS: at 65.56% examples, 1026148 words/s, in_qsize 15, out_qsize 0\n",
      "INFO - 21:33:24: EPOCH 27: training on 2135928 raw words (1561286 effective words) took 1.5s, 1045804 effective words/s\n"
     ]
    },
    {
     "name": "stdout",
     "output_type": "stream",
     "text": [
      "Loss after epoch 27: 0.0\n"
     ]
    },
    {
     "name": "stderr",
     "output_type": "stream",
     "text": [
      "INFO - 21:33:25: EPOCH 28 - PROGRESS: at 65.13% examples, 1015748 words/s, in_qsize 15, out_qsize 1\n",
      "INFO - 21:33:25: EPOCH 28: training on 2135928 raw words (1561163 effective words) took 1.5s, 1044997 effective words/s\n"
     ]
    },
    {
     "name": "stdout",
     "output_type": "stream",
     "text": [
      "Loss after epoch 28: 0.0\n"
     ]
    },
    {
     "name": "stderr",
     "output_type": "stream",
     "text": [
      "INFO - 21:33:26: EPOCH 29 - PROGRESS: at 60.74% examples, 950950 words/s, in_qsize 15, out_qsize 0\n",
      "INFO - 21:33:27: EPOCH 29: training on 2135928 raw words (1561266 effective words) took 1.5s, 1025912 effective words/s\n"
     ]
    },
    {
     "name": "stdout",
     "output_type": "stream",
     "text": [
      "Loss after epoch 29: 0.0\n"
     ]
    },
    {
     "name": "stderr",
     "output_type": "stream",
     "text": [
      "INFO - 21:33:28: EPOCH 30 - PROGRESS: at 62.09% examples, 960492 words/s, in_qsize 15, out_qsize 0\n",
      "INFO - 21:33:28: EPOCH 30: training on 2135928 raw words (1561034 effective words) took 1.6s, 1004907 effective words/s\n"
     ]
    },
    {
     "name": "stdout",
     "output_type": "stream",
     "text": [
      "Loss after epoch 30: 0.0\n"
     ]
    },
    {
     "name": "stderr",
     "output_type": "stream",
     "text": [
      "INFO - 21:33:29: EPOCH 31 - PROGRESS: at 71.03% examples, 1120125 words/s, in_qsize 15, out_qsize 0\n",
      "INFO - 21:33:30: EPOCH 31: training on 2135928 raw words (1560993 effective words) took 1.4s, 1094265 effective words/s\n"
     ]
    },
    {
     "name": "stdout",
     "output_type": "stream",
     "text": [
      "Loss after epoch 31: 0.0\n"
     ]
    },
    {
     "name": "stderr",
     "output_type": "stream",
     "text": [
      "INFO - 21:33:31: EPOCH 32 - PROGRESS: at 71.46% examples, 1129859 words/s, in_qsize 14, out_qsize 3\n",
      "INFO - 21:33:31: EPOCH 32: training on 2135928 raw words (1561161 effective words) took 1.4s, 1108699 effective words/s\n"
     ]
    },
    {
     "name": "stdout",
     "output_type": "stream",
     "text": [
      "Loss after epoch 32: 0.0\n"
     ]
    },
    {
     "name": "stderr",
     "output_type": "stream",
     "text": [
      "INFO - 21:33:32: EPOCH 33 - PROGRESS: at 66.87% examples, 1039607 words/s, in_qsize 15, out_qsize 0\n",
      "INFO - 21:33:33: EPOCH 33: training on 2135928 raw words (1560499 effective words) took 1.4s, 1098750 effective words/s\n"
     ]
    },
    {
     "name": "stdout",
     "output_type": "stream",
     "text": [
      "Loss after epoch 33: 0.0\n"
     ]
    },
    {
     "name": "stderr",
     "output_type": "stream",
     "text": [
      "INFO - 21:33:34: EPOCH 34 - PROGRESS: at 71.89% examples, 1141909 words/s, in_qsize 15, out_qsize 0\n",
      "INFO - 21:33:34: EPOCH 34: training on 2135928 raw words (1561321 effective words) took 1.3s, 1179340 effective words/s\n"
     ]
    },
    {
     "name": "stdout",
     "output_type": "stream",
     "text": [
      "Loss after epoch 34: 0.0\n"
     ]
    },
    {
     "name": "stderr",
     "output_type": "stream",
     "text": [
      "INFO - 21:33:35: EPOCH 35 - PROGRESS: at 74.40% examples, 1186938 words/s, in_qsize 16, out_qsize 0\n",
      "INFO - 21:33:35: EPOCH 35: training on 2135928 raw words (1561317 effective words) took 1.3s, 1206772 effective words/s\n"
     ]
    },
    {
     "name": "stdout",
     "output_type": "stream",
     "text": [
      "Loss after epoch 35: 0.0\n"
     ]
    },
    {
     "name": "stderr",
     "output_type": "stream",
     "text": [
      "INFO - 21:33:36: EPOCH 36 - PROGRESS: at 70.64% examples, 1118420 words/s, in_qsize 14, out_qsize 1\n",
      "INFO - 21:33:37: EPOCH 36: training on 2135928 raw words (1561634 effective words) took 1.4s, 1155160 effective words/s\n"
     ]
    },
    {
     "name": "stdout",
     "output_type": "stream",
     "text": [
      "Loss after epoch 36: 0.0\n"
     ]
    },
    {
     "name": "stderr",
     "output_type": "stream",
     "text": [
      "INFO - 21:33:38: EPOCH 37 - PROGRESS: at 72.72% examples, 1148286 words/s, in_qsize 14, out_qsize 1\n",
      "INFO - 21:33:38: EPOCH 37: training on 2135928 raw words (1561229 effective words) took 1.3s, 1165768 effective words/s\n"
     ]
    },
    {
     "name": "stdout",
     "output_type": "stream",
     "text": [
      "Loss after epoch 37: 0.0\n"
     ]
    },
    {
     "name": "stderr",
     "output_type": "stream",
     "text": [
      "INFO - 21:33:39: EPOCH 38 - PROGRESS: at 70.62% examples, 1119951 words/s, in_qsize 15, out_qsize 0\n",
      "INFO - 21:33:39: EPOCH 38: training on 2135928 raw words (1560329 effective words) took 1.4s, 1154237 effective words/s\n"
     ]
    },
    {
     "name": "stdout",
     "output_type": "stream",
     "text": [
      "Loss after epoch 38: 0.0\n"
     ]
    },
    {
     "name": "stderr",
     "output_type": "stream",
     "text": [
      "INFO - 21:33:40: EPOCH 39 - PROGRESS: at 72.30% examples, 1143439 words/s, in_qsize 14, out_qsize 1\n",
      "INFO - 21:33:41: EPOCH 39: training on 2135928 raw words (1561563 effective words) took 1.3s, 1169615 effective words/s\n"
     ]
    },
    {
     "name": "stdout",
     "output_type": "stream",
     "text": [
      "Loss after epoch 39: 0.0\n"
     ]
    },
    {
     "name": "stderr",
     "output_type": "stream",
     "text": [
      "INFO - 21:33:42: EPOCH 40 - PROGRESS: at 68.14% examples, 1067229 words/s, in_qsize 15, out_qsize 0\n",
      "INFO - 21:33:42: EPOCH 40: training on 2135928 raw words (1560705 effective words) took 1.4s, 1117270 effective words/s\n"
     ]
    },
    {
     "name": "stdout",
     "output_type": "stream",
     "text": [
      "Loss after epoch 40: 0.0\n"
     ]
    },
    {
     "name": "stderr",
     "output_type": "stream",
     "text": [
      "INFO - 21:33:43: EPOCH 41 - PROGRESS: at 70.21% examples, 1101832 words/s, in_qsize 16, out_qsize 1\n",
      "INFO - 21:33:44: EPOCH 41: training on 2135928 raw words (1561692 effective words) took 1.4s, 1149599 effective words/s\n"
     ]
    },
    {
     "name": "stdout",
     "output_type": "stream",
     "text": [
      "Loss after epoch 41: 0.0\n"
     ]
    },
    {
     "name": "stderr",
     "output_type": "stream",
     "text": [
      "INFO - 21:33:45: EPOCH 42 - PROGRESS: at 70.60% examples, 1115080 words/s, in_qsize 15, out_qsize 0\n",
      "INFO - 21:33:45: EPOCH 42: training on 2135928 raw words (1561092 effective words) took 1.3s, 1160213 effective words/s\n"
     ]
    },
    {
     "name": "stdout",
     "output_type": "stream",
     "text": [
      "Loss after epoch 42: 0.0\n"
     ]
    },
    {
     "name": "stderr",
     "output_type": "stream",
     "text": [
      "INFO - 21:33:46: EPOCH 43 - PROGRESS: at 73.54% examples, 1172309 words/s, in_qsize 16, out_qsize 0\n",
      "INFO - 21:33:46: EPOCH 43: training on 2135928 raw words (1560993 effective words) took 1.3s, 1184692 effective words/s\n"
     ]
    },
    {
     "name": "stdout",
     "output_type": "stream",
     "text": [
      "Loss after epoch 43: 0.0\n"
     ]
    },
    {
     "name": "stderr",
     "output_type": "stream",
     "text": [
      "INFO - 21:33:47: EPOCH 44 - PROGRESS: at 74.40% examples, 1177767 words/s, in_qsize 15, out_qsize 0\n",
      "INFO - 21:33:48: EPOCH 44: training on 2135928 raw words (1560713 effective words) took 1.3s, 1206299 effective words/s\n"
     ]
    },
    {
     "name": "stdout",
     "output_type": "stream",
     "text": [
      "Loss after epoch 44: 0.0\n"
     ]
    },
    {
     "name": "stderr",
     "output_type": "stream",
     "text": [
      "INFO - 21:33:49: EPOCH 45 - PROGRESS: at 71.46% examples, 1135704 words/s, in_qsize 15, out_qsize 0\n",
      "INFO - 21:33:49: EPOCH 45: training on 2135928 raw words (1561243 effective words) took 1.3s, 1174860 effective words/s\n"
     ]
    },
    {
     "name": "stdout",
     "output_type": "stream",
     "text": [
      "Loss after epoch 45: 0.0\n"
     ]
    },
    {
     "name": "stderr",
     "output_type": "stream",
     "text": [
      "INFO - 21:33:50: EPOCH 46 - PROGRESS: at 72.72% examples, 1158027 words/s, in_qsize 15, out_qsize 0\n",
      "INFO - 21:33:50: EPOCH 46: training on 2135928 raw words (1561543 effective words) took 1.3s, 1172412 effective words/s\n"
     ]
    },
    {
     "name": "stdout",
     "output_type": "stream",
     "text": [
      "Loss after epoch 46: 0.0\n"
     ]
    },
    {
     "name": "stderr",
     "output_type": "stream",
     "text": [
      "INFO - 21:33:51: EPOCH 47 - PROGRESS: at 72.72% examples, 1144239 words/s, in_qsize 15, out_qsize 1\n",
      "INFO - 21:33:52: EPOCH 47: training on 2135928 raw words (1561153 effective words) took 1.3s, 1171447 effective words/s\n"
     ]
    },
    {
     "name": "stdout",
     "output_type": "stream",
     "text": [
      "Loss after epoch 47: 0.0\n"
     ]
    },
    {
     "name": "stderr",
     "output_type": "stream",
     "text": [
      "INFO - 21:33:53: EPOCH 48 - PROGRESS: at 71.89% examples, 1142040 words/s, in_qsize 15, out_qsize 0\n",
      "INFO - 21:33:53: EPOCH 48: training on 2135928 raw words (1561293 effective words) took 1.3s, 1167295 effective words/s\n"
     ]
    },
    {
     "name": "stdout",
     "output_type": "stream",
     "text": [
      "Loss after epoch 48: 0.0\n"
     ]
    },
    {
     "name": "stderr",
     "output_type": "stream",
     "text": [
      "INFO - 21:33:54: EPOCH 49 - PROGRESS: at 71.05% examples, 1113145 words/s, in_qsize 15, out_qsize 0\n",
      "INFO - 21:33:54: EPOCH 49: training on 2135928 raw words (1561058 effective words) took 1.3s, 1157082 effective words/s\n"
     ]
    },
    {
     "name": "stdout",
     "output_type": "stream",
     "text": [
      "Loss after epoch 49: 0.0\n"
     ]
    },
    {
     "name": "stderr",
     "output_type": "stream",
     "text": [
      "INFO - 21:33:55: EPOCH 50 - PROGRESS: at 71.89% examples, 1132251 words/s, in_qsize 15, out_qsize 0\n",
      "INFO - 21:33:56: EPOCH 50: training on 2135928 raw words (1561172 effective words) took 1.3s, 1161584 effective words/s\n"
     ]
    },
    {
     "name": "stdout",
     "output_type": "stream",
     "text": [
      "Loss after epoch 50: 0.0\n"
     ]
    },
    {
     "name": "stderr",
     "output_type": "stream",
     "text": [
      "INFO - 21:33:57: EPOCH 51 - PROGRESS: at 71.49% examples, 1130694 words/s, in_qsize 15, out_qsize 0\n",
      "INFO - 21:33:57: EPOCH 51: training on 2135928 raw words (1561236 effective words) took 1.3s, 1161616 effective words/s\n"
     ]
    },
    {
     "name": "stdout",
     "output_type": "stream",
     "text": [
      "Loss after epoch 51: 0.0\n"
     ]
    },
    {
     "name": "stderr",
     "output_type": "stream",
     "text": [
      "INFO - 21:33:58: EPOCH 52 - PROGRESS: at 73.13% examples, 1165445 words/s, in_qsize 16, out_qsize 0\n",
      "INFO - 21:33:58: EPOCH 52: training on 2135928 raw words (1560825 effective words) took 1.3s, 1189100 effective words/s\n"
     ]
    },
    {
     "name": "stdout",
     "output_type": "stream",
     "text": [
      "Loss after epoch 52: 0.0\n"
     ]
    },
    {
     "name": "stderr",
     "output_type": "stream",
     "text": [
      "INFO - 21:33:59: EPOCH 53 - PROGRESS: at 73.17% examples, 1151844 words/s, in_qsize 15, out_qsize 0\n",
      "INFO - 21:34:00: EPOCH 53: training on 2135928 raw words (1560801 effective words) took 1.3s, 1181521 effective words/s\n"
     ]
    },
    {
     "name": "stdout",
     "output_type": "stream",
     "text": [
      "Loss after epoch 53: 0.0\n"
     ]
    },
    {
     "name": "stderr",
     "output_type": "stream",
     "text": [
      "INFO - 21:34:01: EPOCH 54 - PROGRESS: at 73.13% examples, 1160085 words/s, in_qsize 15, out_qsize 0\n",
      "INFO - 21:34:01: EPOCH 54: training on 2135928 raw words (1560915 effective words) took 1.3s, 1188325 effective words/s\n"
     ]
    },
    {
     "name": "stdout",
     "output_type": "stream",
     "text": [
      "Loss after epoch 54: 0.0\n"
     ]
    },
    {
     "name": "stderr",
     "output_type": "stream",
     "text": [
      "INFO - 21:34:02: EPOCH 55 - PROGRESS: at 69.38% examples, 1094582 words/s, in_qsize 15, out_qsize 0\n",
      "INFO - 21:34:02: EPOCH 55: training on 2135928 raw words (1561123 effective words) took 1.4s, 1143984 effective words/s\n"
     ]
    },
    {
     "name": "stdout",
     "output_type": "stream",
     "text": [
      "Loss after epoch 55: 0.0\n"
     ]
    },
    {
     "name": "stderr",
     "output_type": "stream",
     "text": [
      "INFO - 21:34:03: EPOCH 56 - PROGRESS: at 70.64% examples, 1093267 words/s, in_qsize 15, out_qsize 0\n",
      "INFO - 21:34:04: EPOCH 56: training on 2135928 raw words (1561258 effective words) took 1.4s, 1137051 effective words/s\n"
     ]
    },
    {
     "name": "stdout",
     "output_type": "stream",
     "text": [
      "Loss after epoch 56: 0.0\n"
     ]
    },
    {
     "name": "stderr",
     "output_type": "stream",
     "text": [
      "INFO - 21:34:05: EPOCH 57 - PROGRESS: at 71.03% examples, 1126337 words/s, in_qsize 15, out_qsize 0\n",
      "INFO - 21:34:05: EPOCH 57: training on 2135928 raw words (1561032 effective words) took 1.4s, 1149406 effective words/s\n"
     ]
    },
    {
     "name": "stdout",
     "output_type": "stream",
     "text": [
      "Loss after epoch 57: 0.0\n"
     ]
    },
    {
     "name": "stderr",
     "output_type": "stream",
     "text": [
      "INFO - 21:34:06: EPOCH 58 - PROGRESS: at 72.72% examples, 1158527 words/s, in_qsize 16, out_qsize 0\n",
      "INFO - 21:34:06: EPOCH 58: training on 2135928 raw words (1561299 effective words) took 1.3s, 1164140 effective words/s\n"
     ]
    },
    {
     "name": "stdout",
     "output_type": "stream",
     "text": [
      "Loss after epoch 58: 0.0\n"
     ]
    },
    {
     "name": "stderr",
     "output_type": "stream",
     "text": [
      "INFO - 21:34:07: EPOCH 59 - PROGRESS: at 72.72% examples, 1151332 words/s, in_qsize 15, out_qsize 0\n",
      "INFO - 21:34:08: EPOCH 59: training on 2135928 raw words (1560276 effective words) took 1.3s, 1174521 effective words/s\n"
     ]
    },
    {
     "name": "stdout",
     "output_type": "stream",
     "text": [
      "Loss after epoch 59: 0.0\n"
     ]
    },
    {
     "name": "stderr",
     "output_type": "stream",
     "text": [
      "INFO - 21:34:09: EPOCH 60 - PROGRESS: at 72.72% examples, 1151979 words/s, in_qsize 14, out_qsize 1\n",
      "INFO - 21:34:09: EPOCH 60: training on 2135928 raw words (1561171 effective words) took 1.3s, 1178223 effective words/s\n"
     ]
    },
    {
     "name": "stdout",
     "output_type": "stream",
     "text": [
      "Loss after epoch 60: 0.0\n"
     ]
    },
    {
     "name": "stderr",
     "output_type": "stream",
     "text": [
      "INFO - 21:34:10: EPOCH 61 - PROGRESS: at 70.63% examples, 1114283 words/s, in_qsize 15, out_qsize 0\n",
      "INFO - 21:34:10: EPOCH 61: training on 2135928 raw words (1560447 effective words) took 1.3s, 1158793 effective words/s\n"
     ]
    },
    {
     "name": "stdout",
     "output_type": "stream",
     "text": [
      "Loss after epoch 61: 0.0\n"
     ]
    },
    {
     "name": "stderr",
     "output_type": "stream",
     "text": [
      "INFO - 21:34:12: EPOCH 62 - PROGRESS: at 71.89% examples, 1132723 words/s, in_qsize 15, out_qsize 0\n",
      "INFO - 21:34:12: EPOCH 62: training on 2135928 raw words (1561535 effective words) took 1.3s, 1173348 effective words/s\n"
     ]
    },
    {
     "name": "stdout",
     "output_type": "stream",
     "text": [
      "Loss after epoch 62: 0.0\n"
     ]
    },
    {
     "name": "stderr",
     "output_type": "stream",
     "text": [
      "INFO - 21:34:13: EPOCH 63 - PROGRESS: at 70.21% examples, 1113749 words/s, in_qsize 16, out_qsize 0\n",
      "INFO - 21:34:13: EPOCH 63: training on 2135928 raw words (1561158 effective words) took 1.4s, 1146539 effective words/s\n"
     ]
    },
    {
     "name": "stdout",
     "output_type": "stream",
     "text": [
      "Loss after epoch 63: 0.0\n"
     ]
    },
    {
     "name": "stderr",
     "output_type": "stream",
     "text": [
      "INFO - 21:34:14: EPOCH 64 - PROGRESS: at 71.89% examples, 1143676 words/s, in_qsize 15, out_qsize 0\n",
      "INFO - 21:34:15: EPOCH 64: training on 2135928 raw words (1561131 effective words) took 1.3s, 1179554 effective words/s\n"
     ]
    },
    {
     "name": "stdout",
     "output_type": "stream",
     "text": [
      "Loss after epoch 64: 0.0\n"
     ]
    },
    {
     "name": "stderr",
     "output_type": "stream",
     "text": [
      "INFO - 21:34:16: EPOCH 65 - PROGRESS: at 68.93% examples, 1080125 words/s, in_qsize 16, out_qsize 2\n",
      "INFO - 21:34:16: EPOCH 65: training on 2135928 raw words (1561273 effective words) took 1.4s, 1128899 effective words/s\n"
     ]
    },
    {
     "name": "stdout",
     "output_type": "stream",
     "text": [
      "Loss after epoch 65: 0.0\n"
     ]
    },
    {
     "name": "stderr",
     "output_type": "stream",
     "text": [
      "INFO - 21:34:17: EPOCH 66 - PROGRESS: at 72.72% examples, 1153484 words/s, in_qsize 15, out_qsize 1\n",
      "INFO - 21:34:17: EPOCH 66: training on 2135928 raw words (1561335 effective words) took 1.3s, 1179840 effective words/s\n"
     ]
    },
    {
     "name": "stdout",
     "output_type": "stream",
     "text": [
      "Loss after epoch 66: 0.0\n"
     ]
    },
    {
     "name": "stderr",
     "output_type": "stream",
     "text": [
      "INFO - 21:34:18: EPOCH 67 - PROGRESS: at 71.89% examples, 1139812 words/s, in_qsize 15, out_qsize 0\n",
      "INFO - 21:34:19: EPOCH 67: training on 2135928 raw words (1560135 effective words) took 1.3s, 1166500 effective words/s\n"
     ]
    },
    {
     "name": "stdout",
     "output_type": "stream",
     "text": [
      "Loss after epoch 67: 0.0\n"
     ]
    },
    {
     "name": "stderr",
     "output_type": "stream",
     "text": [
      "INFO - 21:34:20: EPOCH 68 - PROGRESS: at 72.31% examples, 1143399 words/s, in_qsize 14, out_qsize 1\n",
      "INFO - 21:34:20: EPOCH 68: training on 2135928 raw words (1561417 effective words) took 1.3s, 1183107 effective words/s\n"
     ]
    },
    {
     "name": "stdout",
     "output_type": "stream",
     "text": [
      "Loss after epoch 68: 0.0\n"
     ]
    },
    {
     "name": "stderr",
     "output_type": "stream",
     "text": [
      "INFO - 21:34:21: EPOCH 69 - PROGRESS: at 71.89% examples, 1140605 words/s, in_qsize 15, out_qsize 0\n",
      "INFO - 21:34:21: EPOCH 69: training on 2135928 raw words (1561958 effective words) took 1.3s, 1171654 effective words/s\n"
     ]
    },
    {
     "name": "stdout",
     "output_type": "stream",
     "text": [
      "Loss after epoch 69: 0.0\n"
     ]
    },
    {
     "name": "stderr",
     "output_type": "stream",
     "text": [
      "INFO - 21:34:22: EPOCH 70 - PROGRESS: at 72.71% examples, 1157519 words/s, in_qsize 15, out_qsize 0\n",
      "INFO - 21:34:23: EPOCH 70: training on 2135928 raw words (1561624 effective words) took 1.3s, 1176036 effective words/s\n"
     ]
    },
    {
     "name": "stdout",
     "output_type": "stream",
     "text": [
      "Loss after epoch 70: 0.0\n"
     ]
    },
    {
     "name": "stderr",
     "output_type": "stream",
     "text": [
      "INFO - 21:34:24: EPOCH 71 - PROGRESS: at 71.03% examples, 1127928 words/s, in_qsize 15, out_qsize 0\n",
      "INFO - 21:34:24: EPOCH 71: training on 2135928 raw words (1562049 effective words) took 1.3s, 1162326 effective words/s\n"
     ]
    },
    {
     "name": "stdout",
     "output_type": "stream",
     "text": [
      "Loss after epoch 71: 0.0\n"
     ]
    },
    {
     "name": "stderr",
     "output_type": "stream",
     "text": [
      "INFO - 21:34:25: EPOCH 72 - PROGRESS: at 72.72% examples, 1150696 words/s, in_qsize 15, out_qsize 0\n",
      "INFO - 21:34:25: EPOCH 72: training on 2135928 raw words (1560841 effective words) took 1.3s, 1176841 effective words/s\n"
     ]
    },
    {
     "name": "stdout",
     "output_type": "stream",
     "text": [
      "Loss after epoch 72: 0.0\n"
     ]
    },
    {
     "name": "stderr",
     "output_type": "stream",
     "text": [
      "INFO - 21:34:26: EPOCH 73 - PROGRESS: at 70.21% examples, 1113311 words/s, in_qsize 15, out_qsize 0\n",
      "INFO - 21:34:27: EPOCH 73: training on 2135928 raw words (1561260 effective words) took 1.4s, 1140214 effective words/s\n"
     ]
    },
    {
     "name": "stdout",
     "output_type": "stream",
     "text": [
      "Loss after epoch 73: 0.0\n"
     ]
    },
    {
     "name": "stderr",
     "output_type": "stream",
     "text": [
      "INFO - 21:34:28: EPOCH 74 - PROGRESS: at 71.89% examples, 1140998 words/s, in_qsize 14, out_qsize 1\n",
      "INFO - 21:34:28: EPOCH 74: training on 2135928 raw words (1560684 effective words) took 1.3s, 1163610 effective words/s\n"
     ]
    },
    {
     "name": "stdout",
     "output_type": "stream",
     "text": [
      "Loss after epoch 74: 0.0\n"
     ]
    },
    {
     "name": "stderr",
     "output_type": "stream",
     "text": [
      "INFO - 21:34:29: EPOCH 75 - PROGRESS: at 71.46% examples, 1130275 words/s, in_qsize 15, out_qsize 0\n",
      "INFO - 21:34:29: EPOCH 75: training on 2135928 raw words (1560996 effective words) took 1.3s, 1157187 effective words/s\n"
     ]
    },
    {
     "name": "stdout",
     "output_type": "stream",
     "text": [
      "Loss after epoch 75: 0.0\n"
     ]
    },
    {
     "name": "stderr",
     "output_type": "stream",
     "text": [
      "INFO - 21:34:30: EPOCH 76 - PROGRESS: at 72.72% examples, 1145953 words/s, in_qsize 16, out_qsize 1\n",
      "INFO - 21:34:31: EPOCH 76: training on 2135928 raw words (1560395 effective words) took 1.3s, 1190273 effective words/s\n"
     ]
    },
    {
     "name": "stdout",
     "output_type": "stream",
     "text": [
      "Loss after epoch 76: 0.0\n"
     ]
    },
    {
     "name": "stderr",
     "output_type": "stream",
     "text": [
      "INFO - 21:34:32: EPOCH 77 - PROGRESS: at 71.46% examples, 1123292 words/s, in_qsize 15, out_qsize 2\n",
      "INFO - 21:34:32: EPOCH 77: training on 2135928 raw words (1560381 effective words) took 1.3s, 1158371 effective words/s\n"
     ]
    },
    {
     "name": "stdout",
     "output_type": "stream",
     "text": [
      "Loss after epoch 77: 0.0\n"
     ]
    },
    {
     "name": "stderr",
     "output_type": "stream",
     "text": [
      "INFO - 21:34:33: EPOCH 78 - PROGRESS: at 68.14% examples, 1073763 words/s, in_qsize 14, out_qsize 1\n",
      "INFO - 21:34:33: EPOCH 78: training on 2135928 raw words (1560853 effective words) took 1.4s, 1131136 effective words/s\n"
     ]
    },
    {
     "name": "stdout",
     "output_type": "stream",
     "text": [
      "Loss after epoch 78: 0.0\n"
     ]
    },
    {
     "name": "stderr",
     "output_type": "stream",
     "text": [
      "INFO - 21:34:34: EPOCH 79 - PROGRESS: at 73.13% examples, 1161884 words/s, in_qsize 15, out_qsize 0\n",
      "INFO - 21:34:35: EPOCH 79: training on 2135928 raw words (1560595 effective words) took 1.3s, 1183314 effective words/s\n"
     ]
    },
    {
     "name": "stdout",
     "output_type": "stream",
     "text": [
      "Loss after epoch 79: 0.0\n"
     ]
    },
    {
     "name": "stderr",
     "output_type": "stream",
     "text": [
      "INFO - 21:34:36: EPOCH 80 - PROGRESS: at 72.30% examples, 1151727 words/s, in_qsize 15, out_qsize 0\n",
      "INFO - 21:34:36: EPOCH 80: training on 2135928 raw words (1561456 effective words) took 1.3s, 1168637 effective words/s\n"
     ]
    },
    {
     "name": "stdout",
     "output_type": "stream",
     "text": [
      "Loss after epoch 80: 0.0\n"
     ]
    },
    {
     "name": "stderr",
     "output_type": "stream",
     "text": [
      "INFO - 21:34:37: EPOCH 81 - PROGRESS: at 72.72% examples, 1155062 words/s, in_qsize 15, out_qsize 0\n",
      "INFO - 21:34:37: EPOCH 81: training on 2135928 raw words (1560812 effective words) took 1.3s, 1169437 effective words/s\n"
     ]
    },
    {
     "name": "stdout",
     "output_type": "stream",
     "text": [
      "Loss after epoch 81: 0.0\n"
     ]
    },
    {
     "name": "stderr",
     "output_type": "stream",
     "text": [
      "INFO - 21:34:38: EPOCH 82 - PROGRESS: at 71.89% examples, 1142136 words/s, in_qsize 15, out_qsize 0\n",
      "INFO - 21:34:39: EPOCH 82: training on 2135928 raw words (1560933 effective words) took 1.3s, 1168213 effective words/s\n"
     ]
    },
    {
     "name": "stdout",
     "output_type": "stream",
     "text": [
      "Loss after epoch 82: 0.0\n"
     ]
    },
    {
     "name": "stderr",
     "output_type": "stream",
     "text": [
      "INFO - 21:34:40: EPOCH 83 - PROGRESS: at 72.72% examples, 1137832 words/s, in_qsize 15, out_qsize 0\n",
      "INFO - 21:34:40: EPOCH 83: training on 2135928 raw words (1560596 effective words) took 1.3s, 1173579 effective words/s\n"
     ]
    },
    {
     "name": "stdout",
     "output_type": "stream",
     "text": [
      "Loss after epoch 83: 0.0\n"
     ]
    },
    {
     "name": "stderr",
     "output_type": "stream",
     "text": [
      "INFO - 21:34:41: EPOCH 84 - PROGRESS: at 73.95% examples, 1160744 words/s, in_qsize 16, out_qsize 0\n",
      "INFO - 21:34:41: EPOCH 84: training on 2135928 raw words (1561370 effective words) took 1.3s, 1192364 effective words/s\n"
     ]
    },
    {
     "name": "stdout",
     "output_type": "stream",
     "text": [
      "Loss after epoch 84: 0.0\n"
     ]
    },
    {
     "name": "stderr",
     "output_type": "stream",
     "text": [
      "INFO - 21:34:43: EPOCH 85 - PROGRESS: at 71.05% examples, 1122113 words/s, in_qsize 16, out_qsize 1\n",
      "INFO - 21:34:43: EPOCH 85: training on 2135928 raw words (1560876 effective words) took 1.4s, 1145961 effective words/s\n"
     ]
    },
    {
     "name": "stdout",
     "output_type": "stream",
     "text": [
      "Loss after epoch 85: 0.0\n"
     ]
    },
    {
     "name": "stderr",
     "output_type": "stream",
     "text": [
      "INFO - 21:34:44: EPOCH 86 - PROGRESS: at 71.89% examples, 1125095 words/s, in_qsize 15, out_qsize 0\n",
      "INFO - 21:34:44: EPOCH 86: training on 2135928 raw words (1562186 effective words) took 1.3s, 1168280 effective words/s\n"
     ]
    },
    {
     "name": "stdout",
     "output_type": "stream",
     "text": [
      "Loss after epoch 86: 0.0\n"
     ]
    },
    {
     "name": "stderr",
     "output_type": "stream",
     "text": [
      "INFO - 21:34:45: EPOCH 87 - PROGRESS: at 71.89% examples, 1122724 words/s, in_qsize 15, out_qsize 0\n",
      "INFO - 21:34:46: EPOCH 87: training on 2135928 raw words (1561944 effective words) took 1.4s, 1154351 effective words/s\n"
     ]
    },
    {
     "name": "stdout",
     "output_type": "stream",
     "text": [
      "Loss after epoch 87: 0.0\n"
     ]
    },
    {
     "name": "stderr",
     "output_type": "stream",
     "text": [
      "INFO - 21:34:47: EPOCH 88 - PROGRESS: at 73.54% examples, 1157702 words/s, in_qsize 14, out_qsize 1\n",
      "INFO - 21:34:47: EPOCH 88: training on 2135928 raw words (1561383 effective words) took 1.3s, 1189623 effective words/s\n"
     ]
    },
    {
     "name": "stdout",
     "output_type": "stream",
     "text": [
      "Loss after epoch 88: 0.0\n"
     ]
    },
    {
     "name": "stderr",
     "output_type": "stream",
     "text": [
      "INFO - 21:34:48: EPOCH 89 - PROGRESS: at 73.54% examples, 1171076 words/s, in_qsize 15, out_qsize 0\n",
      "INFO - 21:34:48: EPOCH 89: training on 2135928 raw words (1560748 effective words) took 1.3s, 1177873 effective words/s\n"
     ]
    },
    {
     "name": "stdout",
     "output_type": "stream",
     "text": [
      "Loss after epoch 89: 0.0\n"
     ]
    },
    {
     "name": "stderr",
     "output_type": "stream",
     "text": [
      "INFO - 21:34:49: EPOCH 90 - PROGRESS: at 71.05% examples, 1099767 words/s, in_qsize 15, out_qsize 0\n",
      "INFO - 21:34:50: EPOCH 90: training on 2135928 raw words (1561091 effective words) took 1.3s, 1159844 effective words/s\n"
     ]
    },
    {
     "name": "stdout",
     "output_type": "stream",
     "text": [
      "Loss after epoch 90: 0.0\n"
     ]
    },
    {
     "name": "stderr",
     "output_type": "stream",
     "text": [
      "INFO - 21:34:51: EPOCH 91 - PROGRESS: at 73.13% examples, 1163301 words/s, in_qsize 16, out_qsize 0\n",
      "INFO - 21:34:51: EPOCH 91: training on 2135928 raw words (1560642 effective words) took 1.3s, 1187129 effective words/s\n"
     ]
    },
    {
     "name": "stdout",
     "output_type": "stream",
     "text": [
      "Loss after epoch 91: 0.0\n"
     ]
    },
    {
     "name": "stderr",
     "output_type": "stream",
     "text": [
      "INFO - 21:34:52: EPOCH 92 - PROGRESS: at 71.89% examples, 1141430 words/s, in_qsize 15, out_qsize 0\n",
      "INFO - 21:34:52: EPOCH 92: training on 2135928 raw words (1560567 effective words) took 1.4s, 1154496 effective words/s\n"
     ]
    },
    {
     "name": "stdout",
     "output_type": "stream",
     "text": [
      "Loss after epoch 92: 0.0\n"
     ]
    },
    {
     "name": "stderr",
     "output_type": "stream",
     "text": [
      "INFO - 21:34:53: EPOCH 93 - PROGRESS: at 71.46% examples, 1125010 words/s, in_qsize 15, out_qsize 0\n",
      "INFO - 21:34:54: EPOCH 93: training on 2135928 raw words (1560757 effective words) took 1.4s, 1154387 effective words/s\n"
     ]
    },
    {
     "name": "stdout",
     "output_type": "stream",
     "text": [
      "Loss after epoch 93: 0.0\n"
     ]
    },
    {
     "name": "stderr",
     "output_type": "stream",
     "text": [
      "INFO - 21:34:55: EPOCH 94 - PROGRESS: at 73.12% examples, 1162283 words/s, in_qsize 15, out_qsize 0\n",
      "INFO - 21:34:55: EPOCH 94: training on 2135928 raw words (1561201 effective words) took 1.3s, 1184876 effective words/s\n"
     ]
    },
    {
     "name": "stdout",
     "output_type": "stream",
     "text": [
      "Loss after epoch 94: 0.0\n"
     ]
    },
    {
     "name": "stderr",
     "output_type": "stream",
     "text": [
      "INFO - 21:34:56: EPOCH 95 - PROGRESS: at 73.12% examples, 1160096 words/s, in_qsize 16, out_qsize 0\n",
      "INFO - 21:34:56: EPOCH 95: training on 2135928 raw words (1561014 effective words) took 1.3s, 1172436 effective words/s\n"
     ]
    },
    {
     "name": "stdout",
     "output_type": "stream",
     "text": [
      "Loss after epoch 95: 0.0\n"
     ]
    },
    {
     "name": "stderr",
     "output_type": "stream",
     "text": [
      "INFO - 21:34:57: EPOCH 96 - PROGRESS: at 72.72% examples, 1147458 words/s, in_qsize 15, out_qsize 0\n",
      "INFO - 21:34:58: EPOCH 96: training on 2135928 raw words (1560991 effective words) took 1.3s, 1166534 effective words/s\n"
     ]
    },
    {
     "name": "stdout",
     "output_type": "stream",
     "text": [
      "Loss after epoch 96: 0.0\n"
     ]
    },
    {
     "name": "stderr",
     "output_type": "stream",
     "text": [
      "INFO - 21:34:59: EPOCH 97 - PROGRESS: at 73.54% examples, 1149949 words/s, in_qsize 16, out_qsize 2\n",
      "INFO - 21:34:59: EPOCH 97: training on 2135928 raw words (1561557 effective words) took 1.3s, 1191533 effective words/s\n"
     ]
    },
    {
     "name": "stdout",
     "output_type": "stream",
     "text": [
      "Loss after epoch 97: 0.0\n"
     ]
    },
    {
     "name": "stderr",
     "output_type": "stream",
     "text": [
      "INFO - 21:35:00: EPOCH 98 - PROGRESS: at 69.78% examples, 1100677 words/s, in_qsize 16, out_qsize 1\n",
      "INFO - 21:35:00: EPOCH 98: training on 2135928 raw words (1561864 effective words) took 1.4s, 1138434 effective words/s\n"
     ]
    },
    {
     "name": "stdout",
     "output_type": "stream",
     "text": [
      "Loss after epoch 98: 0.0\n"
     ]
    },
    {
     "name": "stderr",
     "output_type": "stream",
     "text": [
      "INFO - 21:35:01: EPOCH 99 - PROGRESS: at 72.30% examples, 1137705 words/s, in_qsize 14, out_qsize 1\n",
      "INFO - 21:35:02: EPOCH 99: training on 2135928 raw words (1560699 effective words) took 1.3s, 1167421 effective words/s\n"
     ]
    },
    {
     "name": "stdout",
     "output_type": "stream",
     "text": [
      "Loss after epoch 99: 0.0\n"
     ]
    },
    {
     "name": "stderr",
     "output_type": "stream",
     "text": [
      "INFO - 21:35:03: EPOCH 100 - PROGRESS: at 73.54% examples, 1169607 words/s, in_qsize 15, out_qsize 0\n",
      "INFO - 21:35:03: EPOCH 100: training on 2135928 raw words (1561022 effective words) took 1.3s, 1180517 effective words/s\n"
     ]
    },
    {
     "name": "stdout",
     "output_type": "stream",
     "text": [
      "Loss after epoch 100: 0.0\n"
     ]
    },
    {
     "name": "stderr",
     "output_type": "stream",
     "text": [
      "INFO - 21:35:04: EPOCH 101 - PROGRESS: at 68.53% examples, 1075394 words/s, in_qsize 15, out_qsize 0\n",
      "INFO - 21:35:04: EPOCH 101: training on 2135928 raw words (1560762 effective words) took 1.4s, 1133193 effective words/s\n"
     ]
    },
    {
     "name": "stdout",
     "output_type": "stream",
     "text": [
      "Loss after epoch 101: 0.0\n"
     ]
    },
    {
     "name": "stderr",
     "output_type": "stream",
     "text": [
      "INFO - 21:35:05: EPOCH 102 - PROGRESS: at 71.89% examples, 1142945 words/s, in_qsize 15, out_qsize 0\n",
      "INFO - 21:35:06: EPOCH 102: training on 2135928 raw words (1561143 effective words) took 1.3s, 1191360 effective words/s\n"
     ]
    },
    {
     "name": "stdout",
     "output_type": "stream",
     "text": [
      "Loss after epoch 102: 0.0\n"
     ]
    },
    {
     "name": "stderr",
     "output_type": "stream",
     "text": [
      "INFO - 21:35:07: EPOCH 103 - PROGRESS: at 71.89% examples, 1143993 words/s, in_qsize 16, out_qsize 0\n",
      "INFO - 21:35:07: EPOCH 103: training on 2135928 raw words (1561334 effective words) took 1.3s, 1169143 effective words/s\n"
     ]
    },
    {
     "name": "stdout",
     "output_type": "stream",
     "text": [
      "Loss after epoch 103: 0.0\n"
     ]
    },
    {
     "name": "stderr",
     "output_type": "stream",
     "text": [
      "INFO - 21:35:08: EPOCH 104 - PROGRESS: at 73.54% examples, 1171457 words/s, in_qsize 15, out_qsize 0\n",
      "INFO - 21:35:08: EPOCH 104: training on 2135928 raw words (1561966 effective words) took 1.3s, 1190152 effective words/s\n"
     ]
    },
    {
     "name": "stdout",
     "output_type": "stream",
     "text": [
      "Loss after epoch 104: 0.0\n"
     ]
    },
    {
     "name": "stderr",
     "output_type": "stream",
     "text": [
      "INFO - 21:35:09: EPOCH 105 - PROGRESS: at 71.03% examples, 1127616 words/s, in_qsize 16, out_qsize 0\n",
      "INFO - 21:35:10: EPOCH 105: training on 2135928 raw words (1561401 effective words) took 1.3s, 1166770 effective words/s\n"
     ]
    },
    {
     "name": "stdout",
     "output_type": "stream",
     "text": [
      "Loss after epoch 105: 0.0\n"
     ]
    },
    {
     "name": "stderr",
     "output_type": "stream",
     "text": [
      "INFO - 21:35:11: EPOCH 106 - PROGRESS: at 71.03% examples, 1115274 words/s, in_qsize 15, out_qsize 0\n",
      "INFO - 21:35:11: EPOCH 106: training on 2135928 raw words (1560765 effective words) took 1.4s, 1148961 effective words/s\n"
     ]
    },
    {
     "name": "stdout",
     "output_type": "stream",
     "text": [
      "Loss after epoch 106: 0.0\n"
     ]
    },
    {
     "name": "stderr",
     "output_type": "stream",
     "text": [
      "INFO - 21:35:12: EPOCH 107 - PROGRESS: at 71.05% examples, 1127512 words/s, in_qsize 14, out_qsize 1\n",
      "INFO - 21:35:12: EPOCH 107: training on 2135928 raw words (1560526 effective words) took 1.3s, 1159026 effective words/s\n"
     ]
    },
    {
     "name": "stdout",
     "output_type": "stream",
     "text": [
      "Loss after epoch 107: 0.0\n"
     ]
    },
    {
     "name": "stderr",
     "output_type": "stream",
     "text": [
      "INFO - 21:35:13: EPOCH 108 - PROGRESS: at 71.03% examples, 1127205 words/s, in_qsize 15, out_qsize 0\n",
      "INFO - 21:35:14: EPOCH 108: training on 2135928 raw words (1561082 effective words) took 1.4s, 1147718 effective words/s\n"
     ]
    },
    {
     "name": "stdout",
     "output_type": "stream",
     "text": [
      "Loss after epoch 108: 0.0\n"
     ]
    },
    {
     "name": "stderr",
     "output_type": "stream",
     "text": [
      "INFO - 21:35:15: EPOCH 109 - PROGRESS: at 72.31% examples, 1151147 words/s, in_qsize 15, out_qsize 0\n",
      "INFO - 21:35:15: EPOCH 109: training on 2135928 raw words (1561037 effective words) took 1.3s, 1167449 effective words/s\n"
     ]
    },
    {
     "name": "stdout",
     "output_type": "stream",
     "text": [
      "Loss after epoch 109: 0.0\n"
     ]
    },
    {
     "name": "stderr",
     "output_type": "stream",
     "text": [
      "INFO - 21:35:16: EPOCH 110 - PROGRESS: at 73.17% examples, 1138716 words/s, in_qsize 15, out_qsize 0\n",
      "INFO - 21:35:17: EPOCH 110: training on 2135928 raw words (1561141 effective words) took 1.3s, 1175777 effective words/s\n"
     ]
    },
    {
     "name": "stdout",
     "output_type": "stream",
     "text": [
      "Loss after epoch 110: 0.0\n"
     ]
    },
    {
     "name": "stderr",
     "output_type": "stream",
     "text": [
      "INFO - 21:35:18: EPOCH 111 - PROGRESS: at 70.19% examples, 1110692 words/s, in_qsize 15, out_qsize 0\n",
      "INFO - 21:35:18: EPOCH 111: training on 2135928 raw words (1560679 effective words) took 1.4s, 1155199 effective words/s\n"
     ]
    },
    {
     "name": "stdout",
     "output_type": "stream",
     "text": [
      "Loss after epoch 111: 0.0\n"
     ]
    },
    {
     "name": "stderr",
     "output_type": "stream",
     "text": [
      "INFO - 21:35:19: EPOCH 112 - PROGRESS: at 72.71% examples, 1148080 words/s, in_qsize 15, out_qsize 0\n",
      "INFO - 21:35:19: EPOCH 112: training on 2135928 raw words (1560934 effective words) took 1.3s, 1188426 effective words/s\n"
     ]
    },
    {
     "name": "stdout",
     "output_type": "stream",
     "text": [
      "Loss after epoch 112: 0.0\n"
     ]
    },
    {
     "name": "stderr",
     "output_type": "stream",
     "text": [
      "INFO - 21:35:20: EPOCH 113 - PROGRESS: at 70.21% examples, 1113216 words/s, in_qsize 15, out_qsize 0\n",
      "INFO - 21:35:21: EPOCH 113: training on 2135928 raw words (1561495 effective words) took 1.4s, 1154335 effective words/s\n"
     ]
    },
    {
     "name": "stdout",
     "output_type": "stream",
     "text": [
      "Loss after epoch 113: 0.0\n"
     ]
    },
    {
     "name": "stderr",
     "output_type": "stream",
     "text": [
      "INFO - 21:35:22: EPOCH 114 - PROGRESS: at 68.93% examples, 1090428 words/s, in_qsize 14, out_qsize 1\n",
      "INFO - 21:35:22: EPOCH 114: training on 2135928 raw words (1561885 effective words) took 1.4s, 1150630 effective words/s\n"
     ]
    },
    {
     "name": "stdout",
     "output_type": "stream",
     "text": [
      "Loss after epoch 114: 0.0\n"
     ]
    },
    {
     "name": "stderr",
     "output_type": "stream",
     "text": [
      "INFO - 21:35:23: EPOCH 115 - PROGRESS: at 71.46% examples, 1133309 words/s, in_qsize 15, out_qsize 0\n",
      "INFO - 21:35:23: EPOCH 115: training on 2135928 raw words (1561144 effective words) took 1.3s, 1177084 effective words/s\n"
     ]
    },
    {
     "name": "stdout",
     "output_type": "stream",
     "text": [
      "Loss after epoch 115: 0.0\n"
     ]
    },
    {
     "name": "stderr",
     "output_type": "stream",
     "text": [
      "INFO - 21:35:24: EPOCH 116 - PROGRESS: at 71.46% examples, 1135094 words/s, in_qsize 15, out_qsize 0\n",
      "INFO - 21:35:25: EPOCH 116: training on 2135928 raw words (1561132 effective words) took 1.3s, 1176756 effective words/s\n"
     ]
    },
    {
     "name": "stdout",
     "output_type": "stream",
     "text": [
      "Loss after epoch 116: 0.0\n"
     ]
    },
    {
     "name": "stderr",
     "output_type": "stream",
     "text": [
      "INFO - 21:35:26: EPOCH 117 - PROGRESS: at 72.71% examples, 1140523 words/s, in_qsize 16, out_qsize 0\n",
      "INFO - 21:35:26: EPOCH 117: training on 2135928 raw words (1560962 effective words) took 1.3s, 1171823 effective words/s\n"
     ]
    },
    {
     "name": "stdout",
     "output_type": "stream",
     "text": [
      "Loss after epoch 117: 0.0\n"
     ]
    },
    {
     "name": "stderr",
     "output_type": "stream",
     "text": [
      "INFO - 21:35:27: EPOCH 118 - PROGRESS: at 73.97% examples, 1178263 words/s, in_qsize 16, out_qsize 0\n",
      "INFO - 21:35:27: EPOCH 118: training on 2135928 raw words (1560854 effective words) took 1.3s, 1215559 effective words/s\n"
     ]
    },
    {
     "name": "stdout",
     "output_type": "stream",
     "text": [
      "Loss after epoch 118: 0.0\n"
     ]
    },
    {
     "name": "stderr",
     "output_type": "stream",
     "text": [
      "INFO - 21:35:28: EPOCH 119 - PROGRESS: at 73.95% examples, 1171831 words/s, in_qsize 16, out_qsize 0\n",
      "INFO - 21:35:29: EPOCH 119: training on 2135928 raw words (1560801 effective words) took 1.3s, 1186462 effective words/s\n"
     ]
    },
    {
     "name": "stdout",
     "output_type": "stream",
     "text": [
      "Loss after epoch 119: 0.0\n"
     ]
    },
    {
     "name": "stderr",
     "output_type": "stream",
     "text": [
      "INFO - 21:35:30: EPOCH 120 - PROGRESS: at 71.89% examples, 1144683 words/s, in_qsize 15, out_qsize 0\n",
      "INFO - 21:35:30: EPOCH 120: training on 2135928 raw words (1561736 effective words) took 1.3s, 1183594 effective words/s\n"
     ]
    },
    {
     "name": "stdout",
     "output_type": "stream",
     "text": [
      "Loss after epoch 120: 0.0\n"
     ]
    },
    {
     "name": "stderr",
     "output_type": "stream",
     "text": [
      "INFO - 21:35:31: EPOCH 121 - PROGRESS: at 72.31% examples, 1150936 words/s, in_qsize 16, out_qsize 0\n",
      "INFO - 21:35:31: EPOCH 121: training on 2135928 raw words (1561504 effective words) took 1.3s, 1177828 effective words/s\n"
     ]
    },
    {
     "name": "stdout",
     "output_type": "stream",
     "text": [
      "Loss after epoch 121: 0.0\n"
     ]
    },
    {
     "name": "stderr",
     "output_type": "stream",
     "text": [
      "INFO - 21:35:32: EPOCH 122 - PROGRESS: at 72.31% examples, 1147355 words/s, in_qsize 15, out_qsize 0\n",
      "INFO - 21:35:33: EPOCH 122: training on 2135928 raw words (1560627 effective words) took 1.3s, 1156497 effective words/s\n"
     ]
    },
    {
     "name": "stdout",
     "output_type": "stream",
     "text": [
      "Loss after epoch 122: 0.0\n"
     ]
    },
    {
     "name": "stderr",
     "output_type": "stream",
     "text": [
      "INFO - 21:35:34: EPOCH 123 - PROGRESS: at 72.30% examples, 1145142 words/s, in_qsize 15, out_qsize 0\n",
      "INFO - 21:35:34: EPOCH 123: training on 2135928 raw words (1561213 effective words) took 1.3s, 1179790 effective words/s\n"
     ]
    },
    {
     "name": "stdout",
     "output_type": "stream",
     "text": [
      "Loss after epoch 123: 0.0\n"
     ]
    },
    {
     "name": "stderr",
     "output_type": "stream",
     "text": [
      "INFO - 21:35:35: EPOCH 124 - PROGRESS: at 72.31% examples, 1150211 words/s, in_qsize 15, out_qsize 0\n",
      "INFO - 21:35:35: EPOCH 124: training on 2135928 raw words (1561493 effective words) took 1.3s, 1167699 effective words/s\n"
     ]
    },
    {
     "name": "stdout",
     "output_type": "stream",
     "text": [
      "Loss after epoch 124: 0.0\n"
     ]
    },
    {
     "name": "stderr",
     "output_type": "stream",
     "text": [
      "INFO - 21:35:36: EPOCH 125 - PROGRESS: at 73.99% examples, 1168456 words/s, in_qsize 16, out_qsize 1\n",
      "INFO - 21:35:37: EPOCH 125: training on 2135928 raw words (1561151 effective words) took 1.3s, 1191876 effective words/s\n"
     ]
    },
    {
     "name": "stdout",
     "output_type": "stream",
     "text": [
      "Loss after epoch 125: 0.0\n"
     ]
    },
    {
     "name": "stderr",
     "output_type": "stream",
     "text": [
      "INFO - 21:35:38: EPOCH 126 - PROGRESS: at 72.72% examples, 1151168 words/s, in_qsize 12, out_qsize 3\n",
      "INFO - 21:35:38: EPOCH 126: training on 2135928 raw words (1560944 effective words) took 1.3s, 1192677 effective words/s\n"
     ]
    },
    {
     "name": "stdout",
     "output_type": "stream",
     "text": [
      "Loss after epoch 126: 0.0\n"
     ]
    },
    {
     "name": "stderr",
     "output_type": "stream",
     "text": [
      "INFO - 21:35:39: EPOCH 127 - PROGRESS: at 74.40% examples, 1172392 words/s, in_qsize 16, out_qsize 0\n",
      "INFO - 21:35:39: EPOCH 127: training on 2135928 raw words (1561722 effective words) took 1.3s, 1190434 effective words/s\n"
     ]
    },
    {
     "name": "stdout",
     "output_type": "stream",
     "text": [
      "Loss after epoch 127: 0.0\n"
     ]
    },
    {
     "name": "stderr",
     "output_type": "stream",
     "text": [
      "INFO - 21:35:40: EPOCH 128 - PROGRESS: at 71.06% examples, 1125205 words/s, in_qsize 15, out_qsize 0\n",
      "INFO - 21:35:41: EPOCH 128: training on 2135928 raw words (1561423 effective words) took 1.3s, 1166948 effective words/s\n"
     ]
    },
    {
     "name": "stdout",
     "output_type": "stream",
     "text": [
      "Loss after epoch 128: 0.0\n"
     ]
    },
    {
     "name": "stderr",
     "output_type": "stream",
     "text": [
      "INFO - 21:35:42: EPOCH 129 - PROGRESS: at 72.31% examples, 1144225 words/s, in_qsize 15, out_qsize 0\n",
      "INFO - 21:35:42: EPOCH 129: training on 2135928 raw words (1560371 effective words) took 1.3s, 1174189 effective words/s\n"
     ]
    },
    {
     "name": "stdout",
     "output_type": "stream",
     "text": [
      "Loss after epoch 129: 0.0\n"
     ]
    },
    {
     "name": "stderr",
     "output_type": "stream",
     "text": [
      "INFO - 21:35:43: EPOCH 130 - PROGRESS: at 71.46% examples, 1133783 words/s, in_qsize 15, out_qsize 0\n",
      "INFO - 21:35:43: EPOCH 130: training on 2135928 raw words (1561200 effective words) took 1.3s, 1157493 effective words/s\n"
     ]
    },
    {
     "name": "stdout",
     "output_type": "stream",
     "text": [
      "Loss after epoch 130: 0.0\n"
     ]
    },
    {
     "name": "stderr",
     "output_type": "stream",
     "text": [
      "INFO - 21:35:44: EPOCH 131 - PROGRESS: at 70.62% examples, 1120818 words/s, in_qsize 15, out_qsize 0\n",
      "INFO - 21:35:45: EPOCH 131: training on 2135928 raw words (1561216 effective words) took 1.4s, 1138515 effective words/s\n"
     ]
    },
    {
     "name": "stdout",
     "output_type": "stream",
     "text": [
      "Loss after epoch 131: 0.0\n"
     ]
    },
    {
     "name": "stderr",
     "output_type": "stream",
     "text": [
      "INFO - 21:35:46: EPOCH 132 - PROGRESS: at 72.30% examples, 1148808 words/s, in_qsize 15, out_qsize 0\n",
      "INFO - 21:35:46: EPOCH 132: training on 2135928 raw words (1560306 effective words) took 1.3s, 1175610 effective words/s\n"
     ]
    },
    {
     "name": "stdout",
     "output_type": "stream",
     "text": [
      "Loss after epoch 132: 0.0\n"
     ]
    },
    {
     "name": "stderr",
     "output_type": "stream",
     "text": [
      "INFO - 21:35:47: EPOCH 133 - PROGRESS: at 72.31% examples, 1145097 words/s, in_qsize 15, out_qsize 0\n",
      "INFO - 21:35:47: EPOCH 133: training on 2135928 raw words (1561007 effective words) took 1.3s, 1166218 effective words/s\n"
     ]
    },
    {
     "name": "stdout",
     "output_type": "stream",
     "text": [
      "Loss after epoch 133: 0.0\n"
     ]
    },
    {
     "name": "stderr",
     "output_type": "stream",
     "text": [
      "INFO - 21:35:48: EPOCH 134 - PROGRESS: at 73.54% examples, 1167273 words/s, in_qsize 15, out_qsize 0\n",
      "INFO - 21:35:49: EPOCH 134: training on 2135928 raw words (1561288 effective words) took 1.3s, 1188032 effective words/s\n"
     ]
    },
    {
     "name": "stdout",
     "output_type": "stream",
     "text": [
      "Loss after epoch 134: 0.0\n"
     ]
    },
    {
     "name": "stderr",
     "output_type": "stream",
     "text": [
      "INFO - 21:35:50: EPOCH 135 - PROGRESS: at 73.12% examples, 1161204 words/s, in_qsize 16, out_qsize 0\n",
      "INFO - 21:35:50: EPOCH 135: training on 2135928 raw words (1561103 effective words) took 1.3s, 1192180 effective words/s\n"
     ]
    },
    {
     "name": "stdout",
     "output_type": "stream",
     "text": [
      "Loss after epoch 135: 0.0\n"
     ]
    },
    {
     "name": "stderr",
     "output_type": "stream",
     "text": [
      "INFO - 21:35:51: EPOCH 136 - PROGRESS: at 74.84% examples, 1193371 words/s, in_qsize 15, out_qsize 0\n",
      "INFO - 21:35:51: EPOCH 136: training on 2135928 raw words (1561199 effective words) took 1.3s, 1211344 effective words/s\n"
     ]
    },
    {
     "name": "stdout",
     "output_type": "stream",
     "text": [
      "Loss after epoch 136: 0.0\n"
     ]
    },
    {
     "name": "stderr",
     "output_type": "stream",
     "text": [
      "INFO - 21:35:52: EPOCH 137 - PROGRESS: at 73.54% examples, 1150498 words/s, in_qsize 15, out_qsize 1\n",
      "INFO - 21:35:53: EPOCH 137: training on 2135928 raw words (1561410 effective words) took 1.3s, 1187302 effective words/s\n"
     ]
    },
    {
     "name": "stdout",
     "output_type": "stream",
     "text": [
      "Loss after epoch 137: 0.0\n"
     ]
    },
    {
     "name": "stderr",
     "output_type": "stream",
     "text": [
      "INFO - 21:35:54: EPOCH 138 - PROGRESS: at 73.96% examples, 1162495 words/s, in_qsize 15, out_qsize 0\n",
      "INFO - 21:35:54: EPOCH 138: training on 2135928 raw words (1561135 effective words) took 1.3s, 1191783 effective words/s\n"
     ]
    },
    {
     "name": "stdout",
     "output_type": "stream",
     "text": [
      "Loss after epoch 138: 0.0\n"
     ]
    },
    {
     "name": "stderr",
     "output_type": "stream",
     "text": [
      "INFO - 21:35:55: EPOCH 139 - PROGRESS: at 70.21% examples, 1107098 words/s, in_qsize 15, out_qsize 0\n",
      "INFO - 21:35:55: EPOCH 139: training on 2135928 raw words (1560935 effective words) took 1.4s, 1136722 effective words/s\n"
     ]
    },
    {
     "name": "stdout",
     "output_type": "stream",
     "text": [
      "Loss after epoch 139: 0.0\n"
     ]
    },
    {
     "name": "stderr",
     "output_type": "stream",
     "text": [
      "INFO - 21:35:56: EPOCH 140 - PROGRESS: at 71.89% examples, 1135341 words/s, in_qsize 16, out_qsize 0\n",
      "INFO - 21:35:57: EPOCH 140: training on 2135928 raw words (1561601 effective words) took 1.3s, 1177588 effective words/s\n"
     ]
    },
    {
     "name": "stdout",
     "output_type": "stream",
     "text": [
      "Loss after epoch 140: 0.0\n"
     ]
    },
    {
     "name": "stderr",
     "output_type": "stream",
     "text": [
      "INFO - 21:35:58: EPOCH 141 - PROGRESS: at 72.31% examples, 1142495 words/s, in_qsize 15, out_qsize 0\n",
      "INFO - 21:35:58: EPOCH 141: training on 2135928 raw words (1560881 effective words) took 1.3s, 1167656 effective words/s\n"
     ]
    },
    {
     "name": "stdout",
     "output_type": "stream",
     "text": [
      "Loss after epoch 141: 0.0\n"
     ]
    },
    {
     "name": "stderr",
     "output_type": "stream",
     "text": [
      "INFO - 21:35:59: EPOCH 142 - PROGRESS: at 71.03% examples, 1120874 words/s, in_qsize 15, out_qsize 1\n",
      "INFO - 21:35:59: EPOCH 142: training on 2135928 raw words (1560576 effective words) took 1.3s, 1158073 effective words/s\n"
     ]
    },
    {
     "name": "stdout",
     "output_type": "stream",
     "text": [
      "Loss after epoch 142: 0.0\n"
     ]
    },
    {
     "name": "stderr",
     "output_type": "stream",
     "text": [
      "INFO - 21:36:00: EPOCH 143 - PROGRESS: at 73.97% examples, 1172572 words/s, in_qsize 16, out_qsize 0\n",
      "INFO - 21:36:01: EPOCH 143: training on 2135928 raw words (1561110 effective words) took 1.3s, 1198193 effective words/s\n"
     ]
    },
    {
     "name": "stdout",
     "output_type": "stream",
     "text": [
      "Loss after epoch 143: 0.0\n"
     ]
    },
    {
     "name": "stderr",
     "output_type": "stream",
     "text": [
      "INFO - 21:36:02: EPOCH 144 - PROGRESS: at 73.54% examples, 1166317 words/s, in_qsize 15, out_qsize 0\n",
      "INFO - 21:36:02: EPOCH 144: training on 2135928 raw words (1561519 effective words) took 1.3s, 1191336 effective words/s\n"
     ]
    },
    {
     "name": "stdout",
     "output_type": "stream",
     "text": [
      "Loss after epoch 144: 0.0\n"
     ]
    },
    {
     "name": "stderr",
     "output_type": "stream",
     "text": [
      "INFO - 21:36:03: EPOCH 145 - PROGRESS: at 72.72% examples, 1153409 words/s, in_qsize 14, out_qsize 1\n",
      "INFO - 21:36:03: EPOCH 145: training on 2135928 raw words (1561591 effective words) took 1.3s, 1180826 effective words/s\n"
     ]
    },
    {
     "name": "stdout",
     "output_type": "stream",
     "text": [
      "Loss after epoch 145: 0.0\n"
     ]
    },
    {
     "name": "stderr",
     "output_type": "stream",
     "text": [
      "INFO - 21:36:04: EPOCH 146 - PROGRESS: at 71.46% examples, 1122118 words/s, in_qsize 16, out_qsize 2\n",
      "INFO - 21:36:05: EPOCH 146: training on 2135928 raw words (1561216 effective words) took 1.3s, 1163695 effective words/s\n"
     ]
    },
    {
     "name": "stdout",
     "output_type": "stream",
     "text": [
      "Loss after epoch 146: 0.0\n"
     ]
    },
    {
     "name": "stderr",
     "output_type": "stream",
     "text": [
      "INFO - 21:36:06: EPOCH 147 - PROGRESS: at 66.93% examples, 1046874 words/s, in_qsize 15, out_qsize 0\n",
      "INFO - 21:36:06: EPOCH 147: training on 2135928 raw words (1560770 effective words) took 1.4s, 1120808 effective words/s\n"
     ]
    },
    {
     "name": "stdout",
     "output_type": "stream",
     "text": [
      "Loss after epoch 147: 0.0\n"
     ]
    },
    {
     "name": "stderr",
     "output_type": "stream",
     "text": [
      "INFO - 21:36:07: EPOCH 148 - PROGRESS: at 74.39% examples, 1168827 words/s, in_qsize 14, out_qsize 1\n",
      "INFO - 21:36:07: EPOCH 148: training on 2135928 raw words (1561140 effective words) took 1.3s, 1197640 effective words/s\n"
     ]
    },
    {
     "name": "stdout",
     "output_type": "stream",
     "text": [
      "Loss after epoch 148: 0.0\n"
     ]
    },
    {
     "name": "stderr",
     "output_type": "stream",
     "text": [
      "INFO - 21:36:08: EPOCH 149 - PROGRESS: at 71.89% examples, 1138787 words/s, in_qsize 14, out_qsize 1\n",
      "INFO - 21:36:09: EPOCH 149: training on 2135928 raw words (1561698 effective words) took 1.3s, 1175286 effective words/s\n"
     ]
    },
    {
     "name": "stdout",
     "output_type": "stream",
     "text": [
      "Loss after epoch 149: 0.0\n"
     ]
    },
    {
     "name": "stderr",
     "output_type": "stream",
     "text": [
      "INFO - 21:36:10: EPOCH 150 - PROGRESS: at 71.89% examples, 1143355 words/s, in_qsize 15, out_qsize 0\n",
      "INFO - 21:36:10: EPOCH 150: training on 2135928 raw words (1561362 effective words) took 1.3s, 1184952 effective words/s\n"
     ]
    },
    {
     "name": "stdout",
     "output_type": "stream",
     "text": [
      "Loss after epoch 150: 0.0\n"
     ]
    },
    {
     "name": "stderr",
     "output_type": "stream",
     "text": [
      "INFO - 21:36:11: EPOCH 151 - PROGRESS: at 73.12% examples, 1157748 words/s, in_qsize 15, out_qsize 0\n",
      "INFO - 21:36:11: EPOCH 151: training on 2135928 raw words (1560583 effective words) took 1.3s, 1177300 effective words/s\n"
     ]
    },
    {
     "name": "stdout",
     "output_type": "stream",
     "text": [
      "Loss after epoch 151: 0.0\n"
     ]
    },
    {
     "name": "stderr",
     "output_type": "stream",
     "text": [
      "INFO - 21:36:12: EPOCH 152 - PROGRESS: at 72.30% examples, 1147914 words/s, in_qsize 14, out_qsize 1\n",
      "INFO - 21:36:13: EPOCH 152: training on 2135928 raw words (1561697 effective words) took 1.3s, 1164066 effective words/s\n"
     ]
    },
    {
     "name": "stdout",
     "output_type": "stream",
     "text": [
      "Loss after epoch 152: 0.0\n"
     ]
    },
    {
     "name": "stderr",
     "output_type": "stream",
     "text": [
      "INFO - 21:36:14: EPOCH 153 - PROGRESS: at 72.31% examples, 1148963 words/s, in_qsize 15, out_qsize 0\n",
      "INFO - 21:36:14: EPOCH 153: training on 2135928 raw words (1560681 effective words) took 1.3s, 1188062 effective words/s\n"
     ]
    },
    {
     "name": "stdout",
     "output_type": "stream",
     "text": [
      "Loss after epoch 153: 0.0\n"
     ]
    },
    {
     "name": "stderr",
     "output_type": "stream",
     "text": [
      "INFO - 21:36:15: EPOCH 154 - PROGRESS: at 71.89% examples, 1140497 words/s, in_qsize 15, out_qsize 0\n",
      "INFO - 21:36:15: EPOCH 154: training on 2135928 raw words (1561402 effective words) took 1.3s, 1171406 effective words/s\n"
     ]
    },
    {
     "name": "stdout",
     "output_type": "stream",
     "text": [
      "Loss after epoch 154: 0.0\n"
     ]
    },
    {
     "name": "stderr",
     "output_type": "stream",
     "text": [
      "INFO - 21:36:16: EPOCH 155 - PROGRESS: at 71.46% examples, 1124783 words/s, in_qsize 16, out_qsize 0\n",
      "INFO - 21:36:17: EPOCH 155: training on 2135928 raw words (1561714 effective words) took 1.4s, 1151584 effective words/s\n"
     ]
    },
    {
     "name": "stdout",
     "output_type": "stream",
     "text": [
      "Loss after epoch 155: 0.0\n"
     ]
    },
    {
     "name": "stderr",
     "output_type": "stream",
     "text": [
      "INFO - 21:36:18: EPOCH 156 - PROGRESS: at 72.31% examples, 1149690 words/s, in_qsize 16, out_qsize 1\n",
      "INFO - 21:36:18: EPOCH 156: training on 2135928 raw words (1560747 effective words) took 1.3s, 1194799 effective words/s\n"
     ]
    },
    {
     "name": "stdout",
     "output_type": "stream",
     "text": [
      "Loss after epoch 156: 0.0\n"
     ]
    },
    {
     "name": "stderr",
     "output_type": "stream",
     "text": [
      "INFO - 21:36:19: EPOCH 157 - PROGRESS: at 72.30% examples, 1144205 words/s, in_qsize 16, out_qsize 0\n",
      "INFO - 21:36:19: EPOCH 157: training on 2135928 raw words (1560494 effective words) took 1.3s, 1172379 effective words/s\n"
     ]
    },
    {
     "name": "stdout",
     "output_type": "stream",
     "text": [
      "Loss after epoch 157: 0.0\n"
     ]
    },
    {
     "name": "stderr",
     "output_type": "stream",
     "text": [
      "INFO - 21:36:20: EPOCH 158 - PROGRESS: at 73.54% examples, 1168166 words/s, in_qsize 15, out_qsize 1\n",
      "INFO - 21:36:21: EPOCH 158: training on 2135928 raw words (1561054 effective words) took 1.3s, 1186549 effective words/s\n"
     ]
    },
    {
     "name": "stdout",
     "output_type": "stream",
     "text": [
      "Loss after epoch 158: 0.0\n"
     ]
    },
    {
     "name": "stderr",
     "output_type": "stream",
     "text": [
      "INFO - 21:36:22: EPOCH 159 - PROGRESS: at 71.89% examples, 1135820 words/s, in_qsize 15, out_qsize 0\n",
      "INFO - 21:36:22: EPOCH 159: training on 2135928 raw words (1561297 effective words) took 1.3s, 1185323 effective words/s\n"
     ]
    },
    {
     "name": "stdout",
     "output_type": "stream",
     "text": [
      "Loss after epoch 159: 0.0\n"
     ]
    },
    {
     "name": "stderr",
     "output_type": "stream",
     "text": [
      "INFO - 21:36:23: EPOCH 160 - PROGRESS: at 70.21% examples, 1100053 words/s, in_qsize 15, out_qsize 0\n",
      "INFO - 21:36:23: EPOCH 160: training on 2135928 raw words (1560824 effective words) took 1.4s, 1139256 effective words/s\n"
     ]
    },
    {
     "name": "stdout",
     "output_type": "stream",
     "text": [
      "Loss after epoch 160: 0.0\n"
     ]
    },
    {
     "name": "stderr",
     "output_type": "stream",
     "text": [
      "INFO - 21:36:24: EPOCH 161 - PROGRESS: at 73.17% examples, 1156104 words/s, in_qsize 14, out_qsize 2\n",
      "INFO - 21:36:25: EPOCH 161: training on 2135928 raw words (1562167 effective words) took 1.3s, 1196523 effective words/s\n"
     ]
    },
    {
     "name": "stdout",
     "output_type": "stream",
     "text": [
      "Loss after epoch 161: 0.0\n"
     ]
    },
    {
     "name": "stderr",
     "output_type": "stream",
     "text": [
      "INFO - 21:36:26: EPOCH 162 - PROGRESS: at 71.04% examples, 1122341 words/s, in_qsize 16, out_qsize 0\n",
      "INFO - 21:36:26: EPOCH 162: training on 2135928 raw words (1560553 effective words) took 1.3s, 1160966 effective words/s\n"
     ]
    },
    {
     "name": "stdout",
     "output_type": "stream",
     "text": [
      "Loss after epoch 162: 0.0\n"
     ]
    },
    {
     "name": "stderr",
     "output_type": "stream",
     "text": [
      "INFO - 21:36:27: EPOCH 163 - PROGRESS: at 72.30% examples, 1136812 words/s, in_qsize 16, out_qsize 0\n",
      "INFO - 21:36:28: EPOCH 163: training on 2135928 raw words (1561011 effective words) took 1.4s, 1154925 effective words/s\n"
     ]
    },
    {
     "name": "stdout",
     "output_type": "stream",
     "text": [
      "Loss after epoch 163: 0.0\n"
     ]
    },
    {
     "name": "stderr",
     "output_type": "stream",
     "text": [
      "INFO - 21:36:29: EPOCH 164 - PROGRESS: at 73.54% examples, 1168983 words/s, in_qsize 16, out_qsize 0\n",
      "INFO - 21:36:29: EPOCH 164: training on 2135928 raw words (1560924 effective words) took 1.3s, 1192677 effective words/s\n"
     ]
    },
    {
     "name": "stdout",
     "output_type": "stream",
     "text": [
      "Loss after epoch 164: 0.0\n"
     ]
    },
    {
     "name": "stderr",
     "output_type": "stream",
     "text": [
      "INFO - 21:36:30: EPOCH 165 - PROGRESS: at 73.15% examples, 1160398 words/s, in_qsize 12, out_qsize 3\n",
      "INFO - 21:36:30: EPOCH 165: training on 2135928 raw words (1561644 effective words) took 1.3s, 1193191 effective words/s\n"
     ]
    },
    {
     "name": "stdout",
     "output_type": "stream",
     "text": [
      "Loss after epoch 165: 0.0\n"
     ]
    },
    {
     "name": "stderr",
     "output_type": "stream",
     "text": [
      "INFO - 21:36:31: EPOCH 166 - PROGRESS: at 72.71% examples, 1156312 words/s, in_qsize 16, out_qsize 3\n",
      "INFO - 21:36:31: EPOCH 166: training on 2135928 raw words (1561206 effective words) took 1.3s, 1200287 effective words/s\n"
     ]
    },
    {
     "name": "stdout",
     "output_type": "stream",
     "text": [
      "Loss after epoch 166: 0.0\n"
     ]
    },
    {
     "name": "stderr",
     "output_type": "stream",
     "text": [
      "INFO - 21:36:32: EPOCH 167 - PROGRESS: at 74.83% examples, 1168567 words/s, in_qsize 14, out_qsize 1\n",
      "INFO - 21:36:33: EPOCH 167: training on 2135928 raw words (1559981 effective words) took 1.3s, 1205025 effective words/s\n"
     ]
    },
    {
     "name": "stdout",
     "output_type": "stream",
     "text": [
      "Loss after epoch 167: 0.0\n"
     ]
    },
    {
     "name": "stderr",
     "output_type": "stream",
     "text": [
      "INFO - 21:36:34: EPOCH 168 - PROGRESS: at 73.12% examples, 1162085 words/s, in_qsize 16, out_qsize 0\n",
      "INFO - 21:36:34: EPOCH 168: training on 2135928 raw words (1561662 effective words) took 1.3s, 1190119 effective words/s\n"
     ]
    },
    {
     "name": "stdout",
     "output_type": "stream",
     "text": [
      "Loss after epoch 168: 0.0\n"
     ]
    },
    {
     "name": "stderr",
     "output_type": "stream",
     "text": [
      "INFO - 21:36:35: EPOCH 169 - PROGRESS: at 71.89% examples, 1134421 words/s, in_qsize 15, out_qsize 0\n",
      "INFO - 21:36:35: EPOCH 169: training on 2135928 raw words (1561062 effective words) took 1.3s, 1170781 effective words/s\n"
     ]
    },
    {
     "name": "stdout",
     "output_type": "stream",
     "text": [
      "Loss after epoch 169: 0.0\n"
     ]
    },
    {
     "name": "stderr",
     "output_type": "stream",
     "text": [
      "INFO - 21:36:36: EPOCH 170 - PROGRESS: at 71.03% examples, 1126991 words/s, in_qsize 15, out_qsize 0\n",
      "INFO - 21:36:37: EPOCH 170: training on 2135928 raw words (1561061 effective words) took 1.4s, 1147328 effective words/s\n"
     ]
    },
    {
     "name": "stdout",
     "output_type": "stream",
     "text": [
      "Loss after epoch 170: 0.0\n"
     ]
    },
    {
     "name": "stderr",
     "output_type": "stream",
     "text": [
      "INFO - 21:36:38: EPOCH 171 - PROGRESS: at 72.71% examples, 1157823 words/s, in_qsize 15, out_qsize 0\n",
      "INFO - 21:36:38: EPOCH 171: training on 2135928 raw words (1560635 effective words) took 1.3s, 1193013 effective words/s\n"
     ]
    },
    {
     "name": "stdout",
     "output_type": "stream",
     "text": [
      "Loss after epoch 171: 0.0\n"
     ]
    },
    {
     "name": "stderr",
     "output_type": "stream",
     "text": [
      "INFO - 21:36:39: EPOCH 172 - PROGRESS: at 69.38% examples, 1096845 words/s, in_qsize 14, out_qsize 1\n",
      "INFO - 21:36:39: EPOCH 172: training on 2135928 raw words (1561339 effective words) took 1.4s, 1144251 effective words/s\n"
     ]
    },
    {
     "name": "stdout",
     "output_type": "stream",
     "text": [
      "Loss after epoch 172: 0.0\n"
     ]
    },
    {
     "name": "stderr",
     "output_type": "stream",
     "text": [
      "INFO - 21:36:40: EPOCH 173 - PROGRESS: at 72.71% examples, 1156449 words/s, in_qsize 16, out_qsize 1\n",
      "INFO - 21:36:41: EPOCH 173: training on 2135928 raw words (1561106 effective words) took 1.3s, 1177764 effective words/s\n"
     ]
    },
    {
     "name": "stdout",
     "output_type": "stream",
     "text": [
      "Loss after epoch 173: 0.0\n"
     ]
    },
    {
     "name": "stderr",
     "output_type": "stream",
     "text": [
      "INFO - 21:36:42: EPOCH 174 - PROGRESS: at 71.46% examples, 1129837 words/s, in_qsize 15, out_qsize 0\n",
      "INFO - 21:36:42: EPOCH 174: training on 2135928 raw words (1560355 effective words) took 1.3s, 1180512 effective words/s\n"
     ]
    },
    {
     "name": "stdout",
     "output_type": "stream",
     "text": [
      "Loss after epoch 174: 0.0\n"
     ]
    },
    {
     "name": "stderr",
     "output_type": "stream",
     "text": [
      "INFO - 21:36:43: EPOCH 175 - PROGRESS: at 71.46% examples, 1121289 words/s, in_qsize 16, out_qsize 1\n",
      "INFO - 21:36:44: EPOCH 175: training on 2135928 raw words (1560511 effective words) took 1.4s, 1150194 effective words/s\n"
     ]
    },
    {
     "name": "stdout",
     "output_type": "stream",
     "text": [
      "Loss after epoch 175: 0.0\n"
     ]
    },
    {
     "name": "stderr",
     "output_type": "stream",
     "text": [
      "INFO - 21:36:45: EPOCH 176 - PROGRESS: at 73.12% examples, 1158783 words/s, in_qsize 15, out_qsize 0\n",
      "INFO - 21:36:45: EPOCH 176: training on 2135928 raw words (1561208 effective words) took 1.3s, 1190451 effective words/s\n"
     ]
    },
    {
     "name": "stdout",
     "output_type": "stream",
     "text": [
      "Loss after epoch 176: 0.0\n"
     ]
    },
    {
     "name": "stderr",
     "output_type": "stream",
     "text": [
      "INFO - 21:36:46: EPOCH 177 - PROGRESS: at 71.46% examples, 1134253 words/s, in_qsize 15, out_qsize 0\n",
      "INFO - 21:36:46: EPOCH 177: training on 2135928 raw words (1560930 effective words) took 1.3s, 1163594 effective words/s\n"
     ]
    },
    {
     "name": "stdout",
     "output_type": "stream",
     "text": [
      "Loss after epoch 177: 0.0\n"
     ]
    },
    {
     "name": "stderr",
     "output_type": "stream",
     "text": [
      "INFO - 21:36:47: EPOCH 178 - PROGRESS: at 71.47% examples, 1135896 words/s, in_qsize 14, out_qsize 1\n",
      "INFO - 21:36:48: EPOCH 178: training on 2135928 raw words (1560834 effective words) took 1.3s, 1179697 effective words/s\n"
     ]
    },
    {
     "name": "stdout",
     "output_type": "stream",
     "text": [
      "Loss after epoch 178: 0.0\n"
     ]
    },
    {
     "name": "stderr",
     "output_type": "stream",
     "text": [
      "INFO - 21:36:49: EPOCH 179 - PROGRESS: at 74.84% examples, 1170201 words/s, in_qsize 15, out_qsize 0\n",
      "INFO - 21:36:49: EPOCH 179: training on 2135928 raw words (1560152 effective words) took 1.3s, 1200059 effective words/s\n"
     ]
    },
    {
     "name": "stdout",
     "output_type": "stream",
     "text": [
      "Loss after epoch 179: 0.0\n"
     ]
    },
    {
     "name": "stderr",
     "output_type": "stream",
     "text": [
      "INFO - 21:36:50: EPOCH 180 - PROGRESS: at 70.62% examples, 1118639 words/s, in_qsize 16, out_qsize 0\n",
      "INFO - 21:36:50: EPOCH 180: training on 2135928 raw words (1561214 effective words) took 1.4s, 1152740 effective words/s\n"
     ]
    },
    {
     "name": "stdout",
     "output_type": "stream",
     "text": [
      "Loss after epoch 180: 0.0\n"
     ]
    },
    {
     "name": "stderr",
     "output_type": "stream",
     "text": [
      "INFO - 21:36:51: EPOCH 181 - PROGRESS: at 71.46% examples, 1133614 words/s, in_qsize 16, out_qsize 0\n",
      "INFO - 21:36:52: EPOCH 181: training on 2135928 raw words (1561441 effective words) took 1.3s, 1171726 effective words/s\n"
     ]
    },
    {
     "name": "stdout",
     "output_type": "stream",
     "text": [
      "Loss after epoch 181: 0.0\n"
     ]
    },
    {
     "name": "stderr",
     "output_type": "stream",
     "text": [
      "INFO - 21:36:53: EPOCH 182 - PROGRESS: at 70.63% examples, 1097971 words/s, in_qsize 15, out_qsize 0\n",
      "INFO - 21:36:53: EPOCH 182: training on 2135928 raw words (1560453 effective words) took 1.4s, 1140783 effective words/s\n"
     ]
    },
    {
     "name": "stdout",
     "output_type": "stream",
     "text": [
      "Loss after epoch 182: 0.0\n"
     ]
    },
    {
     "name": "stderr",
     "output_type": "stream",
     "text": [
      "INFO - 21:36:54: EPOCH 183 - PROGRESS: at 73.54% examples, 1150507 words/s, in_qsize 14, out_qsize 1\n",
      "INFO - 21:36:54: EPOCH 183: training on 2135928 raw words (1561639 effective words) took 1.3s, 1180695 effective words/s\n"
     ]
    },
    {
     "name": "stdout",
     "output_type": "stream",
     "text": [
      "Loss after epoch 183: 0.0\n"
     ]
    },
    {
     "name": "stderr",
     "output_type": "stream",
     "text": [
      "INFO - 21:36:55: EPOCH 184 - PROGRESS: at 71.05% examples, 1127241 words/s, in_qsize 15, out_qsize 0\n",
      "INFO - 21:36:56: EPOCH 184: training on 2135928 raw words (1560751 effective words) took 1.3s, 1160387 effective words/s\n"
     ]
    },
    {
     "name": "stdout",
     "output_type": "stream",
     "text": [
      "Loss after epoch 184: 0.0\n"
     ]
    },
    {
     "name": "stderr",
     "output_type": "stream",
     "text": [
      "INFO - 21:36:57: EPOCH 185 - PROGRESS: at 70.62% examples, 1112252 words/s, in_qsize 16, out_qsize 1\n",
      "INFO - 21:36:57: EPOCH 185: training on 2135928 raw words (1561329 effective words) took 1.3s, 1158780 effective words/s\n"
     ]
    },
    {
     "name": "stdout",
     "output_type": "stream",
     "text": [
      "Loss after epoch 185: 0.0\n"
     ]
    },
    {
     "name": "stderr",
     "output_type": "stream",
     "text": [
      "INFO - 21:36:58: EPOCH 186 - PROGRESS: at 71.88% examples, 1128751 words/s, in_qsize 15, out_qsize 0\n",
      "INFO - 21:36:58: EPOCH 186: training on 2135928 raw words (1561114 effective words) took 1.3s, 1159417 effective words/s\n"
     ]
    },
    {
     "name": "stdout",
     "output_type": "stream",
     "text": [
      "Loss after epoch 186: 0.0\n"
     ]
    },
    {
     "name": "stderr",
     "output_type": "stream",
     "text": [
      "INFO - 21:36:59: EPOCH 187 - PROGRESS: at 73.12% examples, 1149217 words/s, in_qsize 14, out_qsize 1\n",
      "INFO - 21:37:00: EPOCH 187: training on 2135928 raw words (1561118 effective words) took 1.3s, 1179947 effective words/s\n"
     ]
    },
    {
     "name": "stdout",
     "output_type": "stream",
     "text": [
      "Loss after epoch 187: 0.0\n"
     ]
    },
    {
     "name": "stderr",
     "output_type": "stream",
     "text": [
      "INFO - 21:37:01: EPOCH 188 - PROGRESS: at 68.98% examples, 1080674 words/s, in_qsize 15, out_qsize 0\n",
      "INFO - 21:37:01: EPOCH 188: training on 2135928 raw words (1560365 effective words) took 1.4s, 1120240 effective words/s\n"
     ]
    },
    {
     "name": "stdout",
     "output_type": "stream",
     "text": [
      "Loss after epoch 188: 0.0\n"
     ]
    },
    {
     "name": "stderr",
     "output_type": "stream",
     "text": [
      "INFO - 21:37:02: EPOCH 189 - PROGRESS: at 73.54% examples, 1172315 words/s, in_qsize 15, out_qsize 0\n",
      "INFO - 21:37:02: EPOCH 189: training on 2135928 raw words (1560519 effective words) took 1.3s, 1204218 effective words/s\n"
     ]
    },
    {
     "name": "stdout",
     "output_type": "stream",
     "text": [
      "Loss after epoch 189: 0.0\n"
     ]
    },
    {
     "name": "stderr",
     "output_type": "stream",
     "text": [
      "INFO - 21:37:03: EPOCH 190 - PROGRESS: at 71.88% examples, 1142238 words/s, in_qsize 15, out_qsize 1\n",
      "INFO - 21:37:04: EPOCH 190: training on 2135928 raw words (1561496 effective words) took 1.3s, 1177879 effective words/s\n"
     ]
    },
    {
     "name": "stdout",
     "output_type": "stream",
     "text": [
      "Loss after epoch 190: 0.0\n"
     ]
    },
    {
     "name": "stderr",
     "output_type": "stream",
     "text": [
      "INFO - 21:37:05: EPOCH 191 - PROGRESS: at 72.30% examples, 1122741 words/s, in_qsize 15, out_qsize 0\n",
      "INFO - 21:37:05: EPOCH 191: training on 2135928 raw words (1560520 effective words) took 1.3s, 1164676 effective words/s\n"
     ]
    },
    {
     "name": "stdout",
     "output_type": "stream",
     "text": [
      "Loss after epoch 191: 0.0\n"
     ]
    },
    {
     "name": "stderr",
     "output_type": "stream",
     "text": [
      "INFO - 21:37:06: EPOCH 192 - PROGRESS: at 73.99% examples, 1175813 words/s, in_qsize 16, out_qsize 1\n",
      "INFO - 21:37:06: EPOCH 192: training on 2135928 raw words (1560193 effective words) took 1.3s, 1181086 effective words/s\n"
     ]
    },
    {
     "name": "stdout",
     "output_type": "stream",
     "text": [
      "Loss after epoch 192: 0.0\n"
     ]
    },
    {
     "name": "stderr",
     "output_type": "stream",
     "text": [
      "INFO - 21:37:07: EPOCH 193 - PROGRESS: at 71.47% examples, 1130811 words/s, in_qsize 15, out_qsize 0\n",
      "INFO - 21:37:08: EPOCH 193: training on 2135928 raw words (1560515 effective words) took 1.3s, 1177808 effective words/s\n"
     ]
    },
    {
     "name": "stdout",
     "output_type": "stream",
     "text": [
      "Loss after epoch 193: 0.0\n"
     ]
    },
    {
     "name": "stderr",
     "output_type": "stream",
     "text": [
      "INFO - 21:37:09: EPOCH 194 - PROGRESS: at 73.54% examples, 1170075 words/s, in_qsize 15, out_qsize 0\n",
      "INFO - 21:37:09: EPOCH 194: training on 2135928 raw words (1561512 effective words) took 1.3s, 1199939 effective words/s\n"
     ]
    },
    {
     "name": "stdout",
     "output_type": "stream",
     "text": [
      "Loss after epoch 194: 0.0\n"
     ]
    },
    {
     "name": "stderr",
     "output_type": "stream",
     "text": [
      "INFO - 21:37:10: EPOCH 195 - PROGRESS: at 72.31% examples, 1149099 words/s, in_qsize 15, out_qsize 0\n",
      "INFO - 21:37:10: EPOCH 195: training on 2135928 raw words (1560800 effective words) took 1.3s, 1174087 effective words/s\n"
     ]
    },
    {
     "name": "stdout",
     "output_type": "stream",
     "text": [
      "Loss after epoch 195: 0.0\n"
     ]
    },
    {
     "name": "stderr",
     "output_type": "stream",
     "text": [
      "INFO - 21:37:11: EPOCH 196 - PROGRESS: at 73.13% examples, 1141153 words/s, in_qsize 16, out_qsize 1\n",
      "INFO - 21:37:12: EPOCH 196: training on 2135928 raw words (1561400 effective words) took 1.3s, 1164688 effective words/s\n"
     ]
    },
    {
     "name": "stdout",
     "output_type": "stream",
     "text": [
      "Loss after epoch 196: 0.0\n"
     ]
    },
    {
     "name": "stderr",
     "output_type": "stream",
     "text": [
      "INFO - 21:37:13: EPOCH 197 - PROGRESS: at 73.12% examples, 1157812 words/s, in_qsize 15, out_qsize 0\n",
      "INFO - 21:37:13: EPOCH 197: training on 2135928 raw words (1560858 effective words) took 1.3s, 1177537 effective words/s\n"
     ]
    },
    {
     "name": "stdout",
     "output_type": "stream",
     "text": [
      "Loss after epoch 197: 0.0\n"
     ]
    },
    {
     "name": "stderr",
     "output_type": "stream",
     "text": [
      "INFO - 21:37:14: EPOCH 198 - PROGRESS: at 71.89% examples, 1141887 words/s, in_qsize 16, out_qsize 0\n",
      "INFO - 21:37:14: EPOCH 198: training on 2135928 raw words (1561404 effective words) took 1.3s, 1167436 effective words/s\n"
     ]
    },
    {
     "name": "stdout",
     "output_type": "stream",
     "text": [
      "Loss after epoch 198: 0.0\n"
     ]
    },
    {
     "name": "stderr",
     "output_type": "stream",
     "text": [
      "INFO - 21:37:15: EPOCH 199 - PROGRESS: at 72.72% examples, 1151136 words/s, in_qsize 16, out_qsize 0\n",
      "INFO - 21:37:16: EPOCH 199: training on 2135928 raw words (1560928 effective words) took 1.3s, 1171397 effective words/s\n"
     ]
    },
    {
     "name": "stdout",
     "output_type": "stream",
     "text": [
      "Loss after epoch 199: 0.0\n"
     ]
    },
    {
     "name": "stderr",
     "output_type": "stream",
     "text": [
      "INFO - 21:37:17: EPOCH 200 - PROGRESS: at 73.15% examples, 1161008 words/s, in_qsize 15, out_qsize 0\n",
      "INFO - 21:37:17: EPOCH 200: training on 2135928 raw words (1560987 effective words) took 1.3s, 1158657 effective words/s\n"
     ]
    },
    {
     "name": "stdout",
     "output_type": "stream",
     "text": [
      "Loss after epoch 200: 0.0\n"
     ]
    },
    {
     "name": "stderr",
     "output_type": "stream",
     "text": [
      "INFO - 21:37:18: EPOCH 201 - PROGRESS: at 64.66% examples, 1000878 words/s, in_qsize 15, out_qsize 0\n",
      "INFO - 21:37:19: EPOCH 201: training on 2135928 raw words (1561226 effective words) took 1.4s, 1090571 effective words/s\n"
     ]
    },
    {
     "name": "stdout",
     "output_type": "stream",
     "text": [
      "Loss after epoch 201: 0.0\n"
     ]
    },
    {
     "name": "stderr",
     "output_type": "stream",
     "text": [
      "INFO - 21:37:20: EPOCH 202 - PROGRESS: at 73.12% examples, 1162940 words/s, in_qsize 15, out_qsize 0\n",
      "INFO - 21:37:20: EPOCH 202: training on 2135928 raw words (1561066 effective words) took 1.3s, 1200798 effective words/s\n"
     ]
    },
    {
     "name": "stdout",
     "output_type": "stream",
     "text": [
      "Loss after epoch 202: 0.0\n"
     ]
    },
    {
     "name": "stderr",
     "output_type": "stream",
     "text": [
      "INFO - 21:37:21: EPOCH 203 - PROGRESS: at 72.30% examples, 1145837 words/s, in_qsize 16, out_qsize 0\n",
      "INFO - 21:37:21: EPOCH 203: training on 2135928 raw words (1561026 effective words) took 1.3s, 1178894 effective words/s\n"
     ]
    },
    {
     "name": "stdout",
     "output_type": "stream",
     "text": [
      "Loss after epoch 203: 0.0\n"
     ]
    },
    {
     "name": "stderr",
     "output_type": "stream",
     "text": [
      "INFO - 21:37:22: EPOCH 204 - PROGRESS: at 71.89% examples, 1142664 words/s, in_qsize 16, out_qsize 1\n",
      "INFO - 21:37:23: EPOCH 204: training on 2135928 raw words (1561253 effective words) took 1.4s, 1154126 effective words/s\n"
     ]
    },
    {
     "name": "stdout",
     "output_type": "stream",
     "text": [
      "Loss after epoch 204: 0.0\n"
     ]
    },
    {
     "name": "stderr",
     "output_type": "stream",
     "text": [
      "INFO - 21:37:24: EPOCH 205 - PROGRESS: at 71.89% examples, 1138803 words/s, in_qsize 16, out_qsize 0\n",
      "INFO - 21:37:24: EPOCH 205: training on 2135928 raw words (1561482 effective words) took 1.3s, 1177113 effective words/s\n"
     ]
    },
    {
     "name": "stdout",
     "output_type": "stream",
     "text": [
      "Loss after epoch 205: 0.0\n"
     ]
    },
    {
     "name": "stderr",
     "output_type": "stream",
     "text": [
      "INFO - 21:37:25: EPOCH 206 - PROGRESS: at 73.13% examples, 1146919 words/s, in_qsize 15, out_qsize 0\n",
      "INFO - 21:37:25: EPOCH 206: training on 2135928 raw words (1560930 effective words) took 1.3s, 1176250 effective words/s\n"
     ]
    },
    {
     "name": "stdout",
     "output_type": "stream",
     "text": [
      "Loss after epoch 206: 0.0\n"
     ]
    },
    {
     "name": "stderr",
     "output_type": "stream",
     "text": [
      "INFO - 21:37:26: EPOCH 207 - PROGRESS: at 73.53% examples, 1172485 words/s, in_qsize 16, out_qsize 0\n",
      "INFO - 21:37:27: EPOCH 207: training on 2135928 raw words (1560727 effective words) took 1.3s, 1194400 effective words/s\n"
     ]
    },
    {
     "name": "stdout",
     "output_type": "stream",
     "text": [
      "Loss after epoch 207: 0.0\n"
     ]
    },
    {
     "name": "stderr",
     "output_type": "stream",
     "text": [
      "INFO - 21:37:28: EPOCH 208 - PROGRESS: at 72.31% examples, 1148513 words/s, in_qsize 16, out_qsize 0\n",
      "INFO - 21:37:28: EPOCH 208: training on 2135928 raw words (1561380 effective words) took 1.3s, 1186593 effective words/s\n"
     ]
    },
    {
     "name": "stdout",
     "output_type": "stream",
     "text": [
      "Loss after epoch 208: 0.0\n"
     ]
    },
    {
     "name": "stderr",
     "output_type": "stream",
     "text": [
      "INFO - 21:37:29: EPOCH 209 - PROGRESS: at 73.54% examples, 1167573 words/s, in_qsize 15, out_qsize 0\n",
      "INFO - 21:37:29: EPOCH 209: training on 2135928 raw words (1561974 effective words) took 1.3s, 1194325 effective words/s\n"
     ]
    },
    {
     "name": "stdout",
     "output_type": "stream",
     "text": [
      "Loss after epoch 209: 0.0\n"
     ]
    },
    {
     "name": "stderr",
     "output_type": "stream",
     "text": [
      "INFO - 21:37:30: EPOCH 210 - PROGRESS: at 74.38% examples, 1162819 words/s, in_qsize 15, out_qsize 0\n",
      "INFO - 21:37:30: EPOCH 210: training on 2135928 raw words (1561237 effective words) took 1.3s, 1210044 effective words/s\n"
     ]
    },
    {
     "name": "stdout",
     "output_type": "stream",
     "text": [
      "Loss after epoch 210: 0.0\n"
     ]
    },
    {
     "name": "stderr",
     "output_type": "stream",
     "text": [
      "INFO - 21:37:31: EPOCH 211 - PROGRESS: at 73.54% examples, 1164834 words/s, in_qsize 15, out_qsize 1\n",
      "INFO - 21:37:32: EPOCH 211: training on 2135928 raw words (1560506 effective words) took 1.3s, 1207585 effective words/s\n"
     ]
    },
    {
     "name": "stdout",
     "output_type": "stream",
     "text": [
      "Loss after epoch 211: 0.0\n"
     ]
    },
    {
     "name": "stderr",
     "output_type": "stream",
     "text": [
      "INFO - 21:37:33: EPOCH 212 - PROGRESS: at 72.72% examples, 1154457 words/s, in_qsize 14, out_qsize 1\n",
      "INFO - 21:37:33: EPOCH 212: training on 2135928 raw words (1559947 effective words) took 1.3s, 1180113 effective words/s\n"
     ]
    },
    {
     "name": "stdout",
     "output_type": "stream",
     "text": [
      "Loss after epoch 212: 0.0\n"
     ]
    },
    {
     "name": "stderr",
     "output_type": "stream",
     "text": [
      "INFO - 21:37:34: EPOCH 213 - PROGRESS: at 69.33% examples, 1094691 words/s, in_qsize 15, out_qsize 0\n",
      "INFO - 21:37:34: EPOCH 213: training on 2135928 raw words (1561036 effective words) took 1.4s, 1143102 effective words/s\n"
     ]
    },
    {
     "name": "stdout",
     "output_type": "stream",
     "text": [
      "Loss after epoch 213: 0.0\n"
     ]
    },
    {
     "name": "stderr",
     "output_type": "stream",
     "text": [
      "INFO - 21:37:35: EPOCH 214 - PROGRESS: at 71.46% examples, 1132476 words/s, in_qsize 13, out_qsize 2\n",
      "INFO - 21:37:36: EPOCH 214: training on 2135928 raw words (1561650 effective words) took 1.3s, 1164600 effective words/s\n"
     ]
    },
    {
     "name": "stdout",
     "output_type": "stream",
     "text": [
      "Loss after epoch 214: 0.0\n"
     ]
    },
    {
     "name": "stderr",
     "output_type": "stream",
     "text": [
      "INFO - 21:37:37: EPOCH 215 - PROGRESS: at 73.54% examples, 1173485 words/s, in_qsize 15, out_qsize 0\n",
      "INFO - 21:37:37: EPOCH 215: training on 2135928 raw words (1561267 effective words) took 1.3s, 1170569 effective words/s\n"
     ]
    },
    {
     "name": "stdout",
     "output_type": "stream",
     "text": [
      "Loss after epoch 215: 0.0\n"
     ]
    },
    {
     "name": "stderr",
     "output_type": "stream",
     "text": [
      "INFO - 21:37:38: EPOCH 216 - PROGRESS: at 71.89% examples, 1140758 words/s, in_qsize 14, out_qsize 1\n",
      "INFO - 21:37:38: EPOCH 216: training on 2135928 raw words (1561280 effective words) took 1.3s, 1177343 effective words/s\n"
     ]
    },
    {
     "name": "stdout",
     "output_type": "stream",
     "text": [
      "Loss after epoch 216: 0.0\n"
     ]
    },
    {
     "name": "stderr",
     "output_type": "stream",
     "text": [
      "INFO - 21:37:40: EPOCH 217 - PROGRESS: at 70.64% examples, 1117430 words/s, in_qsize 14, out_qsize 1\n",
      "INFO - 21:37:40: EPOCH 217: training on 2135928 raw words (1561677 effective words) took 1.3s, 1160705 effective words/s\n"
     ]
    },
    {
     "name": "stdout",
     "output_type": "stream",
     "text": [
      "Loss after epoch 217: 0.0\n"
     ]
    },
    {
     "name": "stderr",
     "output_type": "stream",
     "text": [
      "INFO - 21:37:41: EPOCH 218 - PROGRESS: at 73.95% examples, 1173631 words/s, in_qsize 16, out_qsize 0\n",
      "INFO - 21:37:41: EPOCH 218: training on 2135928 raw words (1560396 effective words) took 1.3s, 1187221 effective words/s\n"
     ]
    },
    {
     "name": "stdout",
     "output_type": "stream",
     "text": [
      "Loss after epoch 218: 0.0\n"
     ]
    },
    {
     "name": "stderr",
     "output_type": "stream",
     "text": [
      "INFO - 21:37:42: EPOCH 219 - PROGRESS: at 73.54% examples, 1163577 words/s, in_qsize 16, out_qsize 1\n",
      "INFO - 21:37:42: EPOCH 219: training on 2135928 raw words (1561118 effective words) took 1.3s, 1205215 effective words/s\n"
     ]
    },
    {
     "name": "stdout",
     "output_type": "stream",
     "text": [
      "Loss after epoch 219: 0.0\n"
     ]
    },
    {
     "name": "stderr",
     "output_type": "stream",
     "text": [
      "INFO - 21:37:43: EPOCH 220 - PROGRESS: at 72.31% examples, 1149310 words/s, in_qsize 15, out_qsize 0\n",
      "INFO - 21:37:44: EPOCH 220: training on 2135928 raw words (1561340 effective words) took 1.3s, 1175687 effective words/s\n"
     ]
    },
    {
     "name": "stdout",
     "output_type": "stream",
     "text": [
      "Loss after epoch 220: 0.0\n"
     ]
    },
    {
     "name": "stderr",
     "output_type": "stream",
     "text": [
      "INFO - 21:37:45: EPOCH 221 - PROGRESS: at 70.62% examples, 1116099 words/s, in_qsize 15, out_qsize 0\n",
      "INFO - 21:37:45: EPOCH 221: training on 2135928 raw words (1561552 effective words) took 1.4s, 1151945 effective words/s\n"
     ]
    },
    {
     "name": "stdout",
     "output_type": "stream",
     "text": [
      "Loss after epoch 221: 0.0\n"
     ]
    },
    {
     "name": "stderr",
     "output_type": "stream",
     "text": [
      "INFO - 21:37:46: EPOCH 222 - PROGRESS: at 72.72% examples, 1147176 words/s, in_qsize 15, out_qsize 0\n",
      "INFO - 21:37:47: EPOCH 222: training on 2135928 raw words (1561143 effective words) took 1.3s, 1185862 effective words/s\n"
     ]
    },
    {
     "name": "stdout",
     "output_type": "stream",
     "text": [
      "Loss after epoch 222: 0.0\n"
     ]
    },
    {
     "name": "stderr",
     "output_type": "stream",
     "text": [
      "INFO - 21:37:48: EPOCH 223 - PROGRESS: at 71.03% examples, 1108917 words/s, in_qsize 15, out_qsize 0\n",
      "INFO - 21:37:48: EPOCH 223: training on 2135928 raw words (1560863 effective words) took 1.3s, 1161028 effective words/s\n"
     ]
    },
    {
     "name": "stdout",
     "output_type": "stream",
     "text": [
      "Loss after epoch 223: 0.0\n"
     ]
    },
    {
     "name": "stderr",
     "output_type": "stream",
     "text": [
      "INFO - 21:37:49: EPOCH 224 - PROGRESS: at 72.30% examples, 1143020 words/s, in_qsize 15, out_qsize 1\n",
      "INFO - 21:37:49: EPOCH 224: training on 2135928 raw words (1560865 effective words) took 1.3s, 1183071 effective words/s\n"
     ]
    },
    {
     "name": "stdout",
     "output_type": "stream",
     "text": [
      "Loss after epoch 224: 0.0\n"
     ]
    },
    {
     "name": "stderr",
     "output_type": "stream",
     "text": [
      "INFO - 21:37:50: EPOCH 225 - PROGRESS: at 73.95% examples, 1168667 words/s, in_qsize 14, out_qsize 1\n",
      "INFO - 21:37:51: EPOCH 225: training on 2135928 raw words (1561066 effective words) took 1.3s, 1192008 effective words/s\n"
     ]
    },
    {
     "name": "stdout",
     "output_type": "stream",
     "text": [
      "Loss after epoch 225: 0.0\n"
     ]
    },
    {
     "name": "stderr",
     "output_type": "stream",
     "text": [
      "INFO - 21:37:52: EPOCH 226 - PROGRESS: at 74.40% examples, 1168628 words/s, in_qsize 15, out_qsize 0\n",
      "INFO - 21:37:52: EPOCH 226: training on 2135928 raw words (1561626 effective words) took 1.3s, 1186012 effective words/s\n"
     ]
    },
    {
     "name": "stdout",
     "output_type": "stream",
     "text": [
      "Loss after epoch 226: 0.0\n"
     ]
    },
    {
     "name": "stderr",
     "output_type": "stream",
     "text": [
      "INFO - 21:37:53: EPOCH 227 - PROGRESS: at 73.54% examples, 1169125 words/s, in_qsize 15, out_qsize 0\n",
      "INFO - 21:37:53: EPOCH 227: training on 2135928 raw words (1561614 effective words) took 1.3s, 1189473 effective words/s\n"
     ]
    },
    {
     "name": "stdout",
     "output_type": "stream",
     "text": [
      "Loss after epoch 227: 0.0\n"
     ]
    },
    {
     "name": "stderr",
     "output_type": "stream",
     "text": [
      "INFO - 21:37:54: EPOCH 228 - PROGRESS: at 73.95% examples, 1172452 words/s, in_qsize 16, out_qsize 0\n",
      "INFO - 21:37:54: EPOCH 228: training on 2135928 raw words (1560743 effective words) took 1.3s, 1186428 effective words/s\n"
     ]
    },
    {
     "name": "stdout",
     "output_type": "stream",
     "text": [
      "Loss after epoch 228: 0.0\n"
     ]
    },
    {
     "name": "stderr",
     "output_type": "stream",
     "text": [
      "INFO - 21:37:55: EPOCH 229 - PROGRESS: at 71.03% examples, 1118317 words/s, in_qsize 16, out_qsize 0\n",
      "INFO - 21:37:56: EPOCH 229: training on 2135928 raw words (1560671 effective words) took 1.4s, 1137323 effective words/s\n"
     ]
    },
    {
     "name": "stdout",
     "output_type": "stream",
     "text": [
      "Loss after epoch 229: 0.0\n"
     ]
    },
    {
     "name": "stderr",
     "output_type": "stream",
     "text": [
      "INFO - 21:37:57: EPOCH 230 - PROGRESS: at 72.71% examples, 1155950 words/s, in_qsize 14, out_qsize 1\n",
      "INFO - 21:37:57: EPOCH 230: training on 2135928 raw words (1560393 effective words) took 1.3s, 1187306 effective words/s\n"
     ]
    },
    {
     "name": "stdout",
     "output_type": "stream",
     "text": [
      "Loss after epoch 230: 0.0\n"
     ]
    },
    {
     "name": "stderr",
     "output_type": "stream",
     "text": [
      "INFO - 21:37:58: EPOCH 231 - PROGRESS: at 69.77% examples, 1100578 words/s, in_qsize 16, out_qsize 1\n",
      "INFO - 21:37:59: EPOCH 231: training on 2135928 raw words (1560513 effective words) took 1.4s, 1154984 effective words/s\n"
     ]
    },
    {
     "name": "stdout",
     "output_type": "stream",
     "text": [
      "Loss after epoch 231: 0.0\n"
     ]
    },
    {
     "name": "stderr",
     "output_type": "stream",
     "text": [
      "INFO - 21:38:00: EPOCH 232 - PROGRESS: at 72.29% examples, 1141531 words/s, in_qsize 15, out_qsize 0\n",
      "INFO - 21:38:00: EPOCH 232: training on 2135928 raw words (1560657 effective words) took 1.3s, 1176048 effective words/s\n"
     ]
    },
    {
     "name": "stdout",
     "output_type": "stream",
     "text": [
      "Loss after epoch 232: 0.0\n"
     ]
    },
    {
     "name": "stderr",
     "output_type": "stream",
     "text": [
      "INFO - 21:38:01: EPOCH 233 - PROGRESS: at 74.84% examples, 1175601 words/s, in_qsize 15, out_qsize 0\n",
      "INFO - 21:38:01: EPOCH 233: training on 2135928 raw words (1561488 effective words) took 1.3s, 1202350 effective words/s\n"
     ]
    },
    {
     "name": "stdout",
     "output_type": "stream",
     "text": [
      "Loss after epoch 233: 0.0\n"
     ]
    },
    {
     "name": "stderr",
     "output_type": "stream",
     "text": [
      "INFO - 21:38:02: EPOCH 234 - PROGRESS: at 66.48% examples, 1046110 words/s, in_qsize 14, out_qsize 1\n",
      "INFO - 21:38:03: EPOCH 234: training on 2135928 raw words (1561706 effective words) took 1.5s, 1042756 effective words/s\n"
     ]
    },
    {
     "name": "stdout",
     "output_type": "stream",
     "text": [
      "Loss after epoch 234: 0.0\n"
     ]
    },
    {
     "name": "stderr",
     "output_type": "stream",
     "text": [
      "INFO - 21:38:04: EPOCH 235 - PROGRESS: at 60.70% examples, 949023 words/s, in_qsize 16, out_qsize 0\n",
      "INFO - 21:38:04: EPOCH 235: training on 2135928 raw words (1561630 effective words) took 1.5s, 1027458 effective words/s\n"
     ]
    },
    {
     "name": "stdout",
     "output_type": "stream",
     "text": [
      "Loss after epoch 235: 0.0\n"
     ]
    },
    {
     "name": "stderr",
     "output_type": "stream",
     "text": [
      "INFO - 21:38:05: EPOCH 236 - PROGRESS: at 65.11% examples, 1011011 words/s, in_qsize 15, out_qsize 0\n",
      "INFO - 21:38:06: EPOCH 236: training on 2135928 raw words (1561087 effective words) took 1.5s, 1051795 effective words/s\n"
     ]
    },
    {
     "name": "stdout",
     "output_type": "stream",
     "text": [
      "Loss after epoch 236: 0.0\n"
     ]
    },
    {
     "name": "stderr",
     "output_type": "stream",
     "text": [
      "INFO - 21:38:07: EPOCH 237 - PROGRESS: at 59.80% examples, 915815 words/s, in_qsize 15, out_qsize 0\n",
      "INFO - 21:38:07: EPOCH 237: training on 2135928 raw words (1561742 effective words) took 1.6s, 985817 effective words/s\n"
     ]
    },
    {
     "name": "stdout",
     "output_type": "stream",
     "text": [
      "Loss after epoch 237: 0.0\n"
     ]
    },
    {
     "name": "stderr",
     "output_type": "stream",
     "text": [
      "INFO - 21:38:08: EPOCH 238 - PROGRESS: at 69.81% examples, 1096067 words/s, in_qsize 16, out_qsize 0\n",
      "INFO - 21:38:09: EPOCH 238: training on 2135928 raw words (1561684 effective words) took 1.4s, 1139652 effective words/s\n"
     ]
    },
    {
     "name": "stdout",
     "output_type": "stream",
     "text": [
      "Loss after epoch 238: 0.0\n"
     ]
    },
    {
     "name": "stderr",
     "output_type": "stream",
     "text": [
      "INFO - 21:38:10: EPOCH 239 - PROGRESS: at 72.31% examples, 1139481 words/s, in_qsize 16, out_qsize 0\n",
      "INFO - 21:38:10: EPOCH 239: training on 2135928 raw words (1560554 effective words) took 1.3s, 1181560 effective words/s\n"
     ]
    },
    {
     "name": "stdout",
     "output_type": "stream",
     "text": [
      "Loss after epoch 239: 0.0\n"
     ]
    },
    {
     "name": "stderr",
     "output_type": "stream",
     "text": [
      "INFO - 21:38:11: EPOCH 240 - PROGRESS: at 72.31% examples, 1144492 words/s, in_qsize 16, out_qsize 0\n",
      "INFO - 21:38:11: EPOCH 240: training on 2135928 raw words (1561137 effective words) took 1.3s, 1176654 effective words/s\n"
     ]
    },
    {
     "name": "stdout",
     "output_type": "stream",
     "text": [
      "Loss after epoch 240: 0.0\n"
     ]
    },
    {
     "name": "stderr",
     "output_type": "stream",
     "text": [
      "INFO - 21:38:12: EPOCH 241 - PROGRESS: at 74.82% examples, 1177466 words/s, in_qsize 15, out_qsize 0\n",
      "INFO - 21:38:13: EPOCH 241: training on 2135928 raw words (1561320 effective words) took 1.3s, 1208186 effective words/s\n"
     ]
    },
    {
     "name": "stdout",
     "output_type": "stream",
     "text": [
      "Loss after epoch 241: 0.0\n"
     ]
    },
    {
     "name": "stderr",
     "output_type": "stream",
     "text": [
      "INFO - 21:38:14: EPOCH 242 - PROGRESS: at 72.31% examples, 1148904 words/s, in_qsize 16, out_qsize 0\n",
      "INFO - 21:38:14: EPOCH 242: training on 2135928 raw words (1560256 effective words) took 1.3s, 1182169 effective words/s\n"
     ]
    },
    {
     "name": "stdout",
     "output_type": "stream",
     "text": [
      "Loss after epoch 242: 0.0\n"
     ]
    },
    {
     "name": "stderr",
     "output_type": "stream",
     "text": [
      "INFO - 21:38:15: EPOCH 243 - PROGRESS: at 71.89% examples, 1141278 words/s, in_qsize 16, out_qsize 1\n",
      "INFO - 21:38:15: EPOCH 243: training on 2135928 raw words (1560990 effective words) took 1.3s, 1177906 effective words/s\n"
     ]
    },
    {
     "name": "stdout",
     "output_type": "stream",
     "text": [
      "Loss after epoch 243: 0.0\n"
     ]
    },
    {
     "name": "stderr",
     "output_type": "stream",
     "text": [
      "INFO - 21:38:16: EPOCH 244 - PROGRESS: at 73.12% examples, 1158849 words/s, in_qsize 16, out_qsize 0\n",
      "INFO - 21:38:17: EPOCH 244: training on 2135928 raw words (1561595 effective words) took 1.3s, 1195096 effective words/s\n"
     ]
    },
    {
     "name": "stdout",
     "output_type": "stream",
     "text": [
      "Loss after epoch 244: 0.0\n"
     ]
    },
    {
     "name": "stderr",
     "output_type": "stream",
     "text": [
      "INFO - 21:38:18: EPOCH 245 - PROGRESS: at 71.03% examples, 1126026 words/s, in_qsize 15, out_qsize 0\n",
      "INFO - 21:38:18: EPOCH 245: training on 2135928 raw words (1561405 effective words) took 1.3s, 1160445 effective words/s\n"
     ]
    },
    {
     "name": "stdout",
     "output_type": "stream",
     "text": [
      "Loss after epoch 245: 0.0\n"
     ]
    },
    {
     "name": "stderr",
     "output_type": "stream",
     "text": [
      "INFO - 21:38:19: EPOCH 246 - PROGRESS: at 72.30% examples, 1140311 words/s, in_qsize 16, out_qsize 2\n",
      "INFO - 21:38:19: EPOCH 246: training on 2135928 raw words (1561488 effective words) took 1.3s, 1185029 effective words/s\n"
     ]
    },
    {
     "name": "stdout",
     "output_type": "stream",
     "text": [
      "Loss after epoch 246: 0.0\n"
     ]
    },
    {
     "name": "stderr",
     "output_type": "stream",
     "text": [
      "INFO - 21:38:20: EPOCH 247 - PROGRESS: at 71.46% examples, 1134351 words/s, in_qsize 14, out_qsize 1\n",
      "INFO - 21:38:21: EPOCH 247: training on 2135928 raw words (1561197 effective words) took 1.3s, 1183206 effective words/s\n"
     ]
    },
    {
     "name": "stdout",
     "output_type": "stream",
     "text": [
      "Loss after epoch 247: 0.0\n"
     ]
    },
    {
     "name": "stderr",
     "output_type": "stream",
     "text": [
      "INFO - 21:38:22: EPOCH 248 - PROGRESS: at 72.29% examples, 1148129 words/s, in_qsize 13, out_qsize 2\n",
      "INFO - 21:38:22: EPOCH 248: training on 2135928 raw words (1561100 effective words) took 1.3s, 1172020 effective words/s\n"
     ]
    },
    {
     "name": "stdout",
     "output_type": "stream",
     "text": [
      "Loss after epoch 248: 0.0\n"
     ]
    },
    {
     "name": "stderr",
     "output_type": "stream",
     "text": [
      "INFO - 21:38:23: EPOCH 249 - PROGRESS: at 74.40% examples, 1182940 words/s, in_qsize 15, out_qsize 0\n",
      "INFO - 21:38:23: EPOCH 249: training on 2135928 raw words (1560500 effective words) took 1.3s, 1186075 effective words/s\n"
     ]
    },
    {
     "name": "stdout",
     "output_type": "stream",
     "text": [
      "Loss after epoch 249: 0.0\n"
     ]
    },
    {
     "name": "stderr",
     "output_type": "stream",
     "text": [
      "INFO - 21:38:24: EPOCH 250 - PROGRESS: at 73.95% examples, 1178290 words/s, in_qsize 16, out_qsize 0\n",
      "INFO - 21:38:25: EPOCH 250: training on 2135928 raw words (1561702 effective words) took 1.3s, 1201912 effective words/s\n"
     ]
    },
    {
     "name": "stdout",
     "output_type": "stream",
     "text": [
      "Loss after epoch 250: 0.0\n"
     ]
    },
    {
     "name": "stderr",
     "output_type": "stream",
     "text": [
      "INFO - 21:38:26: EPOCH 251 - PROGRESS: at 73.95% examples, 1177855 words/s, in_qsize 15, out_qsize 1\n",
      "INFO - 21:38:26: EPOCH 251: training on 2135928 raw words (1561234 effective words) took 1.3s, 1207769 effective words/s\n"
     ]
    },
    {
     "name": "stdout",
     "output_type": "stream",
     "text": [
      "Loss after epoch 251: 0.0\n"
     ]
    },
    {
     "name": "stderr",
     "output_type": "stream",
     "text": [
      "INFO - 21:38:27: EPOCH 252 - PROGRESS: at 73.95% examples, 1173578 words/s, in_qsize 16, out_qsize 0\n",
      "INFO - 21:38:27: EPOCH 252: training on 2135928 raw words (1561384 effective words) took 1.3s, 1184375 effective words/s\n"
     ]
    },
    {
     "name": "stdout",
     "output_type": "stream",
     "text": [
      "Loss after epoch 252: 0.0\n"
     ]
    },
    {
     "name": "stderr",
     "output_type": "stream",
     "text": [
      "INFO - 21:38:28: EPOCH 253 - PROGRESS: at 72.31% examples, 1140008 words/s, in_qsize 14, out_qsize 1\n",
      "INFO - 21:38:29: EPOCH 253: training on 2135928 raw words (1559953 effective words) took 1.4s, 1144079 effective words/s\n"
     ]
    },
    {
     "name": "stdout",
     "output_type": "stream",
     "text": [
      "Loss after epoch 253: 0.0\n"
     ]
    },
    {
     "name": "stderr",
     "output_type": "stream",
     "text": [
      "INFO - 21:38:30: EPOCH 254 - PROGRESS: at 73.17% examples, 1157783 words/s, in_qsize 15, out_qsize 0\n",
      "INFO - 21:38:30: EPOCH 254: training on 2135928 raw words (1560648 effective words) took 1.3s, 1195864 effective words/s\n"
     ]
    },
    {
     "name": "stdout",
     "output_type": "stream",
     "text": [
      "Loss after epoch 254: 0.0\n"
     ]
    },
    {
     "name": "stderr",
     "output_type": "stream",
     "text": [
      "INFO - 21:38:31: EPOCH 255 - PROGRESS: at 72.70% examples, 1157943 words/s, in_qsize 15, out_qsize 0\n",
      "INFO - 21:38:31: EPOCH 255: training on 2135928 raw words (1561416 effective words) took 1.3s, 1200747 effective words/s\n"
     ]
    },
    {
     "name": "stdout",
     "output_type": "stream",
     "text": [
      "Loss after epoch 255: 0.0\n"
     ]
    },
    {
     "name": "stderr",
     "output_type": "stream",
     "text": [
      "INFO - 21:38:32: EPOCH 256 - PROGRESS: at 70.63% examples, 1119219 words/s, in_qsize 13, out_qsize 2\n",
      "INFO - 21:38:33: EPOCH 256: training on 2135928 raw words (1560604 effective words) took 1.3s, 1168863 effective words/s\n"
     ]
    },
    {
     "name": "stdout",
     "output_type": "stream",
     "text": [
      "Loss after epoch 256: 0.0\n"
     ]
    },
    {
     "name": "stderr",
     "output_type": "stream",
     "text": [
      "INFO - 21:38:34: EPOCH 257 - PROGRESS: at 73.12% examples, 1153801 words/s, in_qsize 16, out_qsize 0\n",
      "INFO - 21:38:34: EPOCH 257: training on 2135928 raw words (1561557 effective words) took 1.3s, 1189854 effective words/s\n"
     ]
    },
    {
     "name": "stdout",
     "output_type": "stream",
     "text": [
      "Loss after epoch 257: 0.0\n"
     ]
    },
    {
     "name": "stderr",
     "output_type": "stream",
     "text": [
      "INFO - 21:38:35: EPOCH 258 - PROGRESS: at 73.12% examples, 1141837 words/s, in_qsize 15, out_qsize 1\n",
      "INFO - 21:38:35: EPOCH 258: training on 2135928 raw words (1561522 effective words) took 1.3s, 1170623 effective words/s\n"
     ]
    },
    {
     "name": "stdout",
     "output_type": "stream",
     "text": [
      "Loss after epoch 258: 0.0\n"
     ]
    },
    {
     "name": "stderr",
     "output_type": "stream",
     "text": [
      "INFO - 21:38:36: EPOCH 259 - PROGRESS: at 73.12% examples, 1140206 words/s, in_qsize 15, out_qsize 0\n",
      "INFO - 21:38:37: EPOCH 259: training on 2135928 raw words (1561913 effective words) took 1.3s, 1178471 effective words/s\n"
     ]
    },
    {
     "name": "stdout",
     "output_type": "stream",
     "text": [
      "Loss after epoch 259: 0.0\n"
     ]
    },
    {
     "name": "stderr",
     "output_type": "stream",
     "text": [
      "INFO - 21:38:38: EPOCH 260 - PROGRESS: at 71.87% examples, 1139677 words/s, in_qsize 15, out_qsize 2\n",
      "INFO - 21:38:38: EPOCH 260: training on 2135928 raw words (1561059 effective words) took 1.3s, 1168464 effective words/s\n"
     ]
    },
    {
     "name": "stdout",
     "output_type": "stream",
     "text": [
      "Loss after epoch 260: 0.0\n"
     ]
    },
    {
     "name": "stderr",
     "output_type": "stream",
     "text": [
      "INFO - 21:38:39: EPOCH 261 - PROGRESS: at 71.46% examples, 1128218 words/s, in_qsize 15, out_qsize 0\n",
      "INFO - 21:38:39: EPOCH 261: training on 2135928 raw words (1560315 effective words) took 1.4s, 1146903 effective words/s\n"
     ]
    },
    {
     "name": "stdout",
     "output_type": "stream",
     "text": [
      "Loss after epoch 261: 0.0\n"
     ]
    },
    {
     "name": "stderr",
     "output_type": "stream",
     "text": [
      "INFO - 21:38:40: EPOCH 262 - PROGRESS: at 70.62% examples, 1119240 words/s, in_qsize 16, out_qsize 0\n",
      "INFO - 21:38:41: EPOCH 262: training on 2135928 raw words (1561414 effective words) took 1.4s, 1142765 effective words/s\n"
     ]
    },
    {
     "name": "stdout",
     "output_type": "stream",
     "text": [
      "Loss after epoch 262: 0.0\n"
     ]
    },
    {
     "name": "stderr",
     "output_type": "stream",
     "text": [
      "INFO - 21:38:42: EPOCH 263 - PROGRESS: at 71.89% examples, 1140921 words/s, in_qsize 15, out_qsize 0\n",
      "INFO - 21:38:42: EPOCH 263: training on 2135928 raw words (1562043 effective words) took 1.3s, 1177787 effective words/s\n"
     ]
    },
    {
     "name": "stdout",
     "output_type": "stream",
     "text": [
      "Loss after epoch 263: 0.0\n"
     ]
    },
    {
     "name": "stderr",
     "output_type": "stream",
     "text": [
      "INFO - 21:38:43: EPOCH 264 - PROGRESS: at 72.31% examples, 1136640 words/s, in_qsize 15, out_qsize 0\n",
      "INFO - 21:38:43: EPOCH 264: training on 2135928 raw words (1561188 effective words) took 1.3s, 1173171 effective words/s\n"
     ]
    },
    {
     "name": "stdout",
     "output_type": "stream",
     "text": [
      "Loss after epoch 264: 0.0\n"
     ]
    },
    {
     "name": "stderr",
     "output_type": "stream",
     "text": [
      "INFO - 21:38:44: EPOCH 265 - PROGRESS: at 71.89% examples, 1141947 words/s, in_qsize 15, out_qsize 0\n",
      "INFO - 21:38:45: EPOCH 265: training on 2135928 raw words (1561227 effective words) took 1.3s, 1161623 effective words/s\n"
     ]
    },
    {
     "name": "stdout",
     "output_type": "stream",
     "text": [
      "Loss after epoch 265: 0.0\n"
     ]
    },
    {
     "name": "stderr",
     "output_type": "stream",
     "text": [
      "INFO - 21:38:46: EPOCH 266 - PROGRESS: at 73.54% examples, 1169084 words/s, in_qsize 16, out_qsize 0\n",
      "INFO - 21:38:46: EPOCH 266: training on 2135928 raw words (1560986 effective words) took 1.3s, 1176285 effective words/s\n"
     ]
    },
    {
     "name": "stdout",
     "output_type": "stream",
     "text": [
      "Loss after epoch 266: 0.0\n"
     ]
    },
    {
     "name": "stderr",
     "output_type": "stream",
     "text": [
      "INFO - 21:38:47: EPOCH 267 - PROGRESS: at 71.89% examples, 1128867 words/s, in_qsize 15, out_qsize 3\n",
      "INFO - 21:38:47: EPOCH 267: training on 2135928 raw words (1560920 effective words) took 1.3s, 1165676 effective words/s\n"
     ]
    },
    {
     "name": "stdout",
     "output_type": "stream",
     "text": [
      "Loss after epoch 267: 0.0\n"
     ]
    },
    {
     "name": "stderr",
     "output_type": "stream",
     "text": [
      "INFO - 21:38:48: EPOCH 268 - PROGRESS: at 73.54% examples, 1163096 words/s, in_qsize 16, out_qsize 0\n",
      "INFO - 21:38:49: EPOCH 268: training on 2135928 raw words (1560784 effective words) took 1.3s, 1188786 effective words/s\n"
     ]
    },
    {
     "name": "stdout",
     "output_type": "stream",
     "text": [
      "Loss after epoch 268: 0.0\n"
     ]
    },
    {
     "name": "stderr",
     "output_type": "stream",
     "text": [
      "INFO - 21:38:50: EPOCH 269 - PROGRESS: at 71.45% examples, 1121091 words/s, in_qsize 15, out_qsize 0\n",
      "INFO - 21:38:50: EPOCH 269: training on 2135928 raw words (1560654 effective words) took 1.3s, 1168443 effective words/s\n"
     ]
    },
    {
     "name": "stdout",
     "output_type": "stream",
     "text": [
      "Loss after epoch 269: 0.0\n"
     ]
    },
    {
     "name": "stderr",
     "output_type": "stream",
     "text": [
      "INFO - 21:38:51: EPOCH 270 - PROGRESS: at 69.77% examples, 1100808 words/s, in_qsize 16, out_qsize 3\n",
      "INFO - 21:38:51: EPOCH 270: training on 2135928 raw words (1561423 effective words) took 1.4s, 1144261 effective words/s\n"
     ]
    },
    {
     "name": "stdout",
     "output_type": "stream",
     "text": [
      "Loss after epoch 270: 0.0\n"
     ]
    },
    {
     "name": "stderr",
     "output_type": "stream",
     "text": [
      "INFO - 21:38:52: EPOCH 271 - PROGRESS: at 74.40% examples, 1173399 words/s, in_qsize 14, out_qsize 1\n",
      "INFO - 21:38:53: EPOCH 271: training on 2135928 raw words (1560736 effective words) took 1.3s, 1208167 effective words/s\n"
     ]
    },
    {
     "name": "stdout",
     "output_type": "stream",
     "text": [
      "Loss after epoch 271: 0.0\n"
     ]
    },
    {
     "name": "stderr",
     "output_type": "stream",
     "text": [
      "INFO - 21:38:54: EPOCH 272 - PROGRESS: at 72.76% examples, 1133599 words/s, in_qsize 14, out_qsize 3\n",
      "INFO - 21:38:54: EPOCH 272: training on 2135928 raw words (1561621 effective words) took 1.3s, 1176339 effective words/s\n"
     ]
    },
    {
     "name": "stdout",
     "output_type": "stream",
     "text": [
      "Loss after epoch 272: 0.0\n"
     ]
    },
    {
     "name": "stderr",
     "output_type": "stream",
     "text": [
      "INFO - 21:38:55: EPOCH 273 - PROGRESS: at 72.71% examples, 1157032 words/s, in_qsize 16, out_qsize 0\n",
      "INFO - 21:38:55: EPOCH 273: training on 2135928 raw words (1560876 effective words) took 1.3s, 1185363 effective words/s\n"
     ]
    },
    {
     "name": "stdout",
     "output_type": "stream",
     "text": [
      "Loss after epoch 273: 0.0\n"
     ]
    },
    {
     "name": "stderr",
     "output_type": "stream",
     "text": [
      "INFO - 21:38:56: EPOCH 274 - PROGRESS: at 73.95% examples, 1172063 words/s, in_qsize 16, out_qsize 0\n",
      "INFO - 21:38:57: EPOCH 274: training on 2135928 raw words (1560461 effective words) took 1.3s, 1197885 effective words/s\n"
     ]
    },
    {
     "name": "stdout",
     "output_type": "stream",
     "text": [
      "Loss after epoch 274: 0.0\n"
     ]
    },
    {
     "name": "stderr",
     "output_type": "stream",
     "text": [
      "INFO - 21:38:58: EPOCH 275 - PROGRESS: at 73.95% examples, 1176230 words/s, in_qsize 16, out_qsize 0\n",
      "INFO - 21:38:58: EPOCH 275: training on 2135928 raw words (1561332 effective words) took 1.3s, 1196874 effective words/s\n"
     ]
    },
    {
     "name": "stdout",
     "output_type": "stream",
     "text": [
      "Loss after epoch 275: 0.0\n"
     ]
    },
    {
     "name": "stderr",
     "output_type": "stream",
     "text": [
      "INFO - 21:38:59: EPOCH 276 - PROGRESS: at 72.72% examples, 1144773 words/s, in_qsize 15, out_qsize 0\n",
      "INFO - 21:38:59: EPOCH 276: training on 2135928 raw words (1560852 effective words) took 1.3s, 1179020 effective words/s\n"
     ]
    },
    {
     "name": "stdout",
     "output_type": "stream",
     "text": [
      "Loss after epoch 276: 0.0\n"
     ]
    },
    {
     "name": "stderr",
     "output_type": "stream",
     "text": [
      "INFO - 21:39:00: EPOCH 277 - PROGRESS: at 72.29% examples, 1141414 words/s, in_qsize 16, out_qsize 0\n",
      "INFO - 21:39:01: EPOCH 277: training on 2135928 raw words (1561510 effective words) took 1.3s, 1184629 effective words/s\n"
     ]
    },
    {
     "name": "stdout",
     "output_type": "stream",
     "text": [
      "Loss after epoch 277: 0.0\n"
     ]
    },
    {
     "name": "stderr",
     "output_type": "stream",
     "text": [
      "INFO - 21:39:02: EPOCH 278 - PROGRESS: at 71.03% examples, 1127054 words/s, in_qsize 16, out_qsize 0\n",
      "INFO - 21:39:02: EPOCH 278: training on 2135928 raw words (1561941 effective words) took 1.3s, 1165534 effective words/s\n"
     ]
    },
    {
     "name": "stdout",
     "output_type": "stream",
     "text": [
      "Loss after epoch 278: 0.0\n"
     ]
    },
    {
     "name": "stderr",
     "output_type": "stream",
     "text": [
      "INFO - 21:39:03: EPOCH 279 - PROGRESS: at 73.54% examples, 1168913 words/s, in_qsize 15, out_qsize 0\n",
      "INFO - 21:39:03: EPOCH 279: training on 2135928 raw words (1560795 effective words) took 1.3s, 1188459 effective words/s\n"
     ]
    },
    {
     "name": "stdout",
     "output_type": "stream",
     "text": [
      "Loss after epoch 279: 0.0\n"
     ]
    },
    {
     "name": "stderr",
     "output_type": "stream",
     "text": [
      "INFO - 21:39:04: EPOCH 280 - PROGRESS: at 72.31% examples, 1147384 words/s, in_qsize 15, out_qsize 0\n",
      "INFO - 21:39:05: EPOCH 280: training on 2135928 raw words (1561816 effective words) took 1.3s, 1167501 effective words/s\n"
     ]
    },
    {
     "name": "stdout",
     "output_type": "stream",
     "text": [
      "Loss after epoch 280: 0.0\n"
     ]
    },
    {
     "name": "stderr",
     "output_type": "stream",
     "text": [
      "INFO - 21:39:06: EPOCH 281 - PROGRESS: at 72.31% examples, 1138824 words/s, in_qsize 15, out_qsize 0\n",
      "INFO - 21:39:06: EPOCH 281: training on 2135928 raw words (1561064 effective words) took 1.3s, 1160454 effective words/s\n"
     ]
    },
    {
     "name": "stdout",
     "output_type": "stream",
     "text": [
      "Loss after epoch 281: 0.0\n"
     ]
    },
    {
     "name": "stderr",
     "output_type": "stream",
     "text": [
      "INFO - 21:39:07: EPOCH 282 - PROGRESS: at 71.89% examples, 1141703 words/s, in_qsize 15, out_qsize 0\n",
      "INFO - 21:39:07: EPOCH 282: training on 2135928 raw words (1561391 effective words) took 1.3s, 1186490 effective words/s\n"
     ]
    },
    {
     "name": "stdout",
     "output_type": "stream",
     "text": [
      "Loss after epoch 282: 0.0\n"
     ]
    },
    {
     "name": "stderr",
     "output_type": "stream",
     "text": [
      "INFO - 21:39:08: EPOCH 283 - PROGRESS: at 72.30% examples, 1150600 words/s, in_qsize 15, out_qsize 0\n",
      "INFO - 21:39:09: EPOCH 283: training on 2135928 raw words (1560798 effective words) took 1.3s, 1173305 effective words/s\n"
     ]
    },
    {
     "name": "stdout",
     "output_type": "stream",
     "text": [
      "Loss after epoch 283: 0.0\n"
     ]
    },
    {
     "name": "stderr",
     "output_type": "stream",
     "text": [
      "INFO - 21:39:10: EPOCH 284 - PROGRESS: at 70.62% examples, 1114512 words/s, in_qsize 15, out_qsize 0\n",
      "INFO - 21:39:10: EPOCH 284: training on 2135928 raw words (1560585 effective words) took 1.3s, 1171269 effective words/s\n"
     ]
    },
    {
     "name": "stdout",
     "output_type": "stream",
     "text": [
      "Loss after epoch 284: 0.0\n"
     ]
    },
    {
     "name": "stderr",
     "output_type": "stream",
     "text": [
      "INFO - 21:39:11: EPOCH 285 - PROGRESS: at 71.88% examples, 1134072 words/s, in_qsize 15, out_qsize 0\n",
      "INFO - 21:39:11: EPOCH 285: training on 2135928 raw words (1561337 effective words) took 1.3s, 1177593 effective words/s\n"
     ]
    },
    {
     "name": "stdout",
     "output_type": "stream",
     "text": [
      "Loss after epoch 285: 0.0\n"
     ]
    },
    {
     "name": "stderr",
     "output_type": "stream",
     "text": [
      "INFO - 21:39:12: EPOCH 286 - PROGRESS: at 71.05% examples, 1124392 words/s, in_qsize 15, out_qsize 0\n",
      "INFO - 21:39:13: EPOCH 286: training on 2135928 raw words (1561460 effective words) took 1.4s, 1144676 effective words/s\n"
     ]
    },
    {
     "name": "stdout",
     "output_type": "stream",
     "text": [
      "Loss after epoch 286: 0.0\n"
     ]
    },
    {
     "name": "stderr",
     "output_type": "stream",
     "text": [
      "INFO - 21:39:14: EPOCH 287 - PROGRESS: at 71.44% examples, 1132039 words/s, in_qsize 15, out_qsize 2\n",
      "INFO - 21:39:14: EPOCH 287: training on 2135928 raw words (1560684 effective words) took 1.3s, 1182385 effective words/s\n"
     ]
    },
    {
     "name": "stdout",
     "output_type": "stream",
     "text": [
      "Loss after epoch 287: 0.0\n"
     ]
    },
    {
     "name": "stderr",
     "output_type": "stream",
     "text": [
      "INFO - 21:39:15: EPOCH 288 - PROGRESS: at 71.46% examples, 1135505 words/s, in_qsize 15, out_qsize 0\n",
      "INFO - 21:39:15: EPOCH 288: training on 2135928 raw words (1561390 effective words) took 1.3s, 1170122 effective words/s\n"
     ]
    },
    {
     "name": "stdout",
     "output_type": "stream",
     "text": [
      "Loss after epoch 288: 0.0\n"
     ]
    },
    {
     "name": "stderr",
     "output_type": "stream",
     "text": [
      "INFO - 21:39:16: EPOCH 289 - PROGRESS: at 72.30% examples, 1147433 words/s, in_qsize 15, out_qsize 2\n",
      "INFO - 21:39:17: EPOCH 289: training on 2135928 raw words (1560896 effective words) took 1.3s, 1187393 effective words/s\n"
     ]
    },
    {
     "name": "stdout",
     "output_type": "stream",
     "text": [
      "Loss after epoch 289: 0.0\n"
     ]
    },
    {
     "name": "stderr",
     "output_type": "stream",
     "text": [
      "INFO - 21:39:18: EPOCH 290 - PROGRESS: at 74.40% examples, 1186601 words/s, in_qsize 14, out_qsize 1\n",
      "INFO - 21:39:18: EPOCH 290: training on 2135928 raw words (1561585 effective words) took 1.3s, 1213433 effective words/s\n"
     ]
    },
    {
     "name": "stdout",
     "output_type": "stream",
     "text": [
      "Loss after epoch 290: 0.0\n"
     ]
    },
    {
     "name": "stderr",
     "output_type": "stream",
     "text": [
      "INFO - 21:39:19: EPOCH 291 - PROGRESS: at 72.72% examples, 1155288 words/s, in_qsize 15, out_qsize 0\n",
      "INFO - 21:39:19: EPOCH 291: training on 2135928 raw words (1561349 effective words) took 1.3s, 1179152 effective words/s\n"
     ]
    },
    {
     "name": "stdout",
     "output_type": "stream",
     "text": [
      "Loss after epoch 291: 0.0\n"
     ]
    },
    {
     "name": "stderr",
     "output_type": "stream",
     "text": [
      "INFO - 21:39:20: EPOCH 292 - PROGRESS: at 68.93% examples, 1088189 words/s, in_qsize 14, out_qsize 1\n",
      "INFO - 21:39:21: EPOCH 292: training on 2135928 raw words (1560886 effective words) took 1.4s, 1142821 effective words/s\n"
     ]
    },
    {
     "name": "stdout",
     "output_type": "stream",
     "text": [
      "Loss after epoch 292: 0.0\n"
     ]
    },
    {
     "name": "stderr",
     "output_type": "stream",
     "text": [
      "INFO - 21:39:22: EPOCH 293 - PROGRESS: at 73.54% examples, 1150436 words/s, in_qsize 15, out_qsize 0\n",
      "INFO - 21:39:22: EPOCH 293: training on 2135928 raw words (1561728 effective words) took 1.3s, 1187302 effective words/s\n"
     ]
    },
    {
     "name": "stdout",
     "output_type": "stream",
     "text": [
      "Loss after epoch 293: 0.0\n"
     ]
    },
    {
     "name": "stderr",
     "output_type": "stream",
     "text": [
      "INFO - 21:39:23: EPOCH 294 - PROGRESS: at 73.12% examples, 1137934 words/s, in_qsize 16, out_qsize 2\n",
      "INFO - 21:39:23: EPOCH 294: training on 2135928 raw words (1561496 effective words) took 1.3s, 1173277 effective words/s\n"
     ]
    },
    {
     "name": "stdout",
     "output_type": "stream",
     "text": [
      "Loss after epoch 294: 0.0\n"
     ]
    },
    {
     "name": "stderr",
     "output_type": "stream",
     "text": [
      "INFO - 21:39:24: EPOCH 295 - PROGRESS: at 73.12% examples, 1149750 words/s, in_qsize 16, out_qsize 2\n",
      "INFO - 21:39:25: EPOCH 295: training on 2135928 raw words (1561294 effective words) took 1.3s, 1181509 effective words/s\n"
     ]
    },
    {
     "name": "stdout",
     "output_type": "stream",
     "text": [
      "Loss after epoch 295: 0.0\n"
     ]
    },
    {
     "name": "stderr",
     "output_type": "stream",
     "text": [
      "INFO - 21:39:26: EPOCH 296 - PROGRESS: at 72.71% examples, 1145588 words/s, in_qsize 15, out_qsize 0\n",
      "INFO - 21:39:26: EPOCH 296: training on 2135928 raw words (1560439 effective words) took 1.3s, 1185547 effective words/s\n"
     ]
    },
    {
     "name": "stdout",
     "output_type": "stream",
     "text": [
      "Loss after epoch 296: 0.0\n"
     ]
    },
    {
     "name": "stderr",
     "output_type": "stream",
     "text": [
      "INFO - 21:39:27: EPOCH 297 - PROGRESS: at 73.12% examples, 1165378 words/s, in_qsize 16, out_qsize 0\n",
      "INFO - 21:39:27: EPOCH 297: training on 2135928 raw words (1561504 effective words) took 1.3s, 1170601 effective words/s\n"
     ]
    },
    {
     "name": "stdout",
     "output_type": "stream",
     "text": [
      "Loss after epoch 297: 0.0\n"
     ]
    },
    {
     "name": "stderr",
     "output_type": "stream",
     "text": [
      "INFO - 21:39:28: EPOCH 298 - PROGRESS: at 73.14% examples, 1155872 words/s, in_qsize 15, out_qsize 2\n",
      "INFO - 21:39:29: EPOCH 298: training on 2135928 raw words (1561239 effective words) took 1.3s, 1191309 effective words/s\n"
     ]
    },
    {
     "name": "stdout",
     "output_type": "stream",
     "text": [
      "Loss after epoch 298: 0.0\n"
     ]
    },
    {
     "name": "stderr",
     "output_type": "stream",
     "text": [
      "INFO - 21:39:30: EPOCH 299 - PROGRESS: at 72.29% examples, 1149050 words/s, in_qsize 15, out_qsize 1\n",
      "INFO - 21:39:30: EPOCH 299: training on 2135928 raw words (1561320 effective words) took 1.3s, 1166122 effective words/s\n"
     ]
    },
    {
     "name": "stdout",
     "output_type": "stream",
     "text": [
      "Loss after epoch 299: 0.0\n"
     ]
    },
    {
     "name": "stderr",
     "output_type": "stream",
     "text": [
      "INFO - 21:39:31: EPOCH 300 - PROGRESS: at 73.95% examples, 1168488 words/s, in_qsize 16, out_qsize 1\n",
      "INFO - 21:39:31: EPOCH 300: training on 2135928 raw words (1561536 effective words) took 1.3s, 1203564 effective words/s\n"
     ]
    },
    {
     "name": "stdout",
     "output_type": "stream",
     "text": [
      "Loss after epoch 300: 0.0\n"
     ]
    },
    {
     "name": "stderr",
     "output_type": "stream",
     "text": [
      "INFO - 21:39:32: EPOCH 301 - PROGRESS: at 72.29% examples, 1144858 words/s, in_qsize 13, out_qsize 2\n",
      "INFO - 21:39:33: EPOCH 301: training on 2135928 raw words (1560203 effective words) took 1.3s, 1176871 effective words/s\n"
     ]
    },
    {
     "name": "stdout",
     "output_type": "stream",
     "text": [
      "Loss after epoch 301: 0.0\n"
     ]
    },
    {
     "name": "stderr",
     "output_type": "stream",
     "text": [
      "INFO - 21:39:34: EPOCH 302 - PROGRESS: at 73.95% examples, 1164555 words/s, in_qsize 16, out_qsize 0\n",
      "INFO - 21:39:34: EPOCH 302: training on 2135928 raw words (1561752 effective words) took 1.3s, 1185969 effective words/s\n"
     ]
    },
    {
     "name": "stdout",
     "output_type": "stream",
     "text": [
      "Loss after epoch 302: 0.0\n"
     ]
    },
    {
     "name": "stderr",
     "output_type": "stream",
     "text": [
      "INFO - 21:39:35: EPOCH 303 - PROGRESS: at 71.46% examples, 1130026 words/s, in_qsize 15, out_qsize 0\n",
      "INFO - 21:39:35: EPOCH 303: training on 2135928 raw words (1560916 effective words) took 1.4s, 1145420 effective words/s\n"
     ]
    },
    {
     "name": "stdout",
     "output_type": "stream",
     "text": [
      "Loss after epoch 303: 0.0\n"
     ]
    },
    {
     "name": "stderr",
     "output_type": "stream",
     "text": [
      "INFO - 21:39:36: EPOCH 304 - PROGRESS: at 70.59% examples, 1110612 words/s, in_qsize 14, out_qsize 1\n",
      "INFO - 21:39:37: EPOCH 304: training on 2135928 raw words (1560910 effective words) took 1.4s, 1106130 effective words/s\n"
     ]
    },
    {
     "name": "stdout",
     "output_type": "stream",
     "text": [
      "Loss after epoch 304: 0.0\n"
     ]
    },
    {
     "name": "stderr",
     "output_type": "stream",
     "text": [
      "INFO - 21:39:38: EPOCH 305 - PROGRESS: at 67.32% examples, 1049273 words/s, in_qsize 15, out_qsize 0\n",
      "INFO - 21:39:38: EPOCH 305: training on 2135928 raw words (1561240 effective words) took 1.4s, 1079622 effective words/s\n"
     ]
    },
    {
     "name": "stdout",
     "output_type": "stream",
     "text": [
      "Loss after epoch 305: 0.0\n"
     ]
    },
    {
     "name": "stderr",
     "output_type": "stream",
     "text": [
      "INFO - 21:39:39: EPOCH 306 - PROGRESS: at 68.53% examples, 1063822 words/s, in_qsize 14, out_qsize 2\n",
      "INFO - 21:39:40: EPOCH 306: training on 2135928 raw words (1561027 effective words) took 1.4s, 1083058 effective words/s\n"
     ]
    },
    {
     "name": "stdout",
     "output_type": "stream",
     "text": [
      "Loss after epoch 306: 0.0\n"
     ]
    },
    {
     "name": "stderr",
     "output_type": "stream",
     "text": [
      "INFO - 21:39:41: EPOCH 307 - PROGRESS: at 65.11% examples, 1024092 words/s, in_qsize 14, out_qsize 1\n",
      "INFO - 21:39:41: EPOCH 307: training on 2135928 raw words (1560911 effective words) took 1.5s, 1040580 effective words/s\n"
     ]
    },
    {
     "name": "stdout",
     "output_type": "stream",
     "text": [
      "Loss after epoch 307: 0.0\n"
     ]
    },
    {
     "name": "stderr",
     "output_type": "stream",
     "text": [
      "INFO - 21:39:42: EPOCH 308 - PROGRESS: at 65.11% examples, 1024352 words/s, in_qsize 15, out_qsize 0\n",
      "INFO - 21:39:43: EPOCH 308: training on 2135928 raw words (1560882 effective words) took 1.4s, 1090694 effective words/s\n"
     ]
    },
    {
     "name": "stdout",
     "output_type": "stream",
     "text": [
      "Loss after epoch 308: 0.0\n"
     ]
    },
    {
     "name": "stderr",
     "output_type": "stream",
     "text": [
      "INFO - 21:39:44: EPOCH 309 - PROGRESS: at 71.03% examples, 1106138 words/s, in_qsize 15, out_qsize 0\n",
      "INFO - 21:39:44: EPOCH 309: training on 2135928 raw words (1561528 effective words) took 1.4s, 1150745 effective words/s\n"
     ]
    },
    {
     "name": "stdout",
     "output_type": "stream",
     "text": [
      "Loss after epoch 309: 0.0\n"
     ]
    },
    {
     "name": "stderr",
     "output_type": "stream",
     "text": [
      "INFO - 21:39:45: EPOCH 310 - PROGRESS: at 72.70% examples, 1152848 words/s, in_qsize 14, out_qsize 1\n",
      "INFO - 21:39:45: EPOCH 310: training on 2135928 raw words (1561218 effective words) took 1.3s, 1171443 effective words/s\n"
     ]
    },
    {
     "name": "stdout",
     "output_type": "stream",
     "text": [
      "Loss after epoch 310: 0.0\n"
     ]
    },
    {
     "name": "stderr",
     "output_type": "stream",
     "text": [
      "INFO - 21:39:46: EPOCH 311 - PROGRESS: at 71.88% examples, 1125856 words/s, in_qsize 15, out_qsize 2\n",
      "INFO - 21:39:47: EPOCH 311: training on 2135928 raw words (1560683 effective words) took 1.3s, 1170175 effective words/s\n"
     ]
    },
    {
     "name": "stdout",
     "output_type": "stream",
     "text": [
      "Loss after epoch 311: 0.0\n"
     ]
    },
    {
     "name": "stderr",
     "output_type": "stream",
     "text": [
      "INFO - 21:39:48: EPOCH 312 - PROGRESS: at 71.46% examples, 1136434 words/s, in_qsize 15, out_qsize 0\n",
      "INFO - 21:39:48: EPOCH 312: training on 2135928 raw words (1561227 effective words) took 1.3s, 1172618 effective words/s\n"
     ]
    },
    {
     "name": "stdout",
     "output_type": "stream",
     "text": [
      "Loss after epoch 312: 0.0\n"
     ]
    },
    {
     "name": "stderr",
     "output_type": "stream",
     "text": [
      "INFO - 21:39:49: EPOCH 313 - PROGRESS: at 71.03% examples, 1127178 words/s, in_qsize 15, out_qsize 0\n",
      "INFO - 21:39:49: EPOCH 313: training on 2135928 raw words (1560578 effective words) took 1.3s, 1172273 effective words/s\n"
     ]
    },
    {
     "name": "stdout",
     "output_type": "stream",
     "text": [
      "Loss after epoch 313: 0.0\n"
     ]
    },
    {
     "name": "stderr",
     "output_type": "stream",
     "text": [
      "INFO - 21:39:50: EPOCH 314 - PROGRESS: at 69.77% examples, 1101126 words/s, in_qsize 15, out_qsize 0\n",
      "INFO - 21:39:51: EPOCH 314: training on 2135928 raw words (1560576 effective words) took 1.4s, 1139527 effective words/s\n"
     ]
    },
    {
     "name": "stdout",
     "output_type": "stream",
     "text": [
      "Loss after epoch 314: 0.0\n"
     ]
    },
    {
     "name": "stderr",
     "output_type": "stream",
     "text": [
      "INFO - 21:39:52: EPOCH 315 - PROGRESS: at 69.33% examples, 1095685 words/s, in_qsize 16, out_qsize 0\n",
      "INFO - 21:39:52: EPOCH 315: training on 2135928 raw words (1561024 effective words) took 1.4s, 1109027 effective words/s\n"
     ]
    },
    {
     "name": "stdout",
     "output_type": "stream",
     "text": [
      "Loss after epoch 315: 0.0\n"
     ]
    },
    {
     "name": "stderr",
     "output_type": "stream",
     "text": [
      "INFO - 21:39:53: EPOCH 316 - PROGRESS: at 66.01% examples, 1036894 words/s, in_qsize 16, out_qsize 0\n",
      "INFO - 21:39:54: EPOCH 316: training on 2135928 raw words (1561614 effective words) took 1.5s, 1067600 effective words/s\n"
     ]
    },
    {
     "name": "stdout",
     "output_type": "stream",
     "text": [
      "Loss after epoch 316: 0.0\n"
     ]
    },
    {
     "name": "stderr",
     "output_type": "stream",
     "text": [
      "INFO - 21:39:55: EPOCH 317 - PROGRESS: at 64.22% examples, 1008687 words/s, in_qsize 15, out_qsize 0\n",
      "INFO - 21:39:55: EPOCH 317: training on 2135928 raw words (1560845 effective words) took 1.5s, 1052040 effective words/s\n"
     ]
    },
    {
     "name": "stdout",
     "output_type": "stream",
     "text": [
      "Loss after epoch 317: 0.0\n"
     ]
    },
    {
     "name": "stderr",
     "output_type": "stream",
     "text": [
      "INFO - 21:39:56: EPOCH 318 - PROGRESS: at 64.66% examples, 1007109 words/s, in_qsize 15, out_qsize 0\n",
      "INFO - 21:39:57: EPOCH 318: training on 2135928 raw words (1560697 effective words) took 1.5s, 1037051 effective words/s\n"
     ]
    },
    {
     "name": "stdout",
     "output_type": "stream",
     "text": [
      "Loss after epoch 318: 0.0\n"
     ]
    },
    {
     "name": "stderr",
     "output_type": "stream",
     "text": [
      "INFO - 21:39:58: EPOCH 319 - PROGRESS: at 66.48% examples, 1042014 words/s, in_qsize 15, out_qsize 0\n",
      "INFO - 21:39:58: EPOCH 319: training on 2135928 raw words (1562024 effective words) took 1.5s, 1070063 effective words/s\n"
     ]
    },
    {
     "name": "stdout",
     "output_type": "stream",
     "text": [
      "Loss after epoch 319: 0.0\n"
     ]
    },
    {
     "name": "stderr",
     "output_type": "stream",
     "text": [
      "INFO - 21:39:59: EPOCH 320 - PROGRESS: at 63.79% examples, 991316 words/s, in_qsize 14, out_qsize 2\n",
      "INFO - 21:40:00: EPOCH 320: training on 2135928 raw words (1561273 effective words) took 1.5s, 1067649 effective words/s\n"
     ]
    },
    {
     "name": "stdout",
     "output_type": "stream",
     "text": [
      "Loss after epoch 320: 0.0\n"
     ]
    },
    {
     "name": "stderr",
     "output_type": "stream",
     "text": [
      "INFO - 21:40:01: EPOCH 321 - PROGRESS: at 61.62% examples, 965967 words/s, in_qsize 16, out_qsize 0\n",
      "INFO - 21:40:01: EPOCH 321: training on 2135928 raw words (1561118 effective words) took 1.5s, 1015161 effective words/s\n"
     ]
    },
    {
     "name": "stdout",
     "output_type": "stream",
     "text": [
      "Loss after epoch 321: 0.0\n"
     ]
    },
    {
     "name": "stderr",
     "output_type": "stream",
     "text": [
      "INFO - 21:40:02: EPOCH 322 - PROGRESS: at 63.35% examples, 993335 words/s, in_qsize 15, out_qsize 1\n",
      "INFO - 21:40:03: EPOCH 322: training on 2135928 raw words (1561525 effective words) took 1.5s, 1026897 effective words/s\n"
     ]
    },
    {
     "name": "stdout",
     "output_type": "stream",
     "text": [
      "Loss after epoch 322: 0.0\n"
     ]
    },
    {
     "name": "stderr",
     "output_type": "stream",
     "text": [
      "INFO - 21:40:04: EPOCH 323 - PROGRESS: at 62.94% examples, 965623 words/s, in_qsize 13, out_qsize 2\n",
      "INFO - 21:40:04: EPOCH 323: training on 2135928 raw words (1560834 effective words) took 1.5s, 1029874 effective words/s\n"
     ]
    },
    {
     "name": "stdout",
     "output_type": "stream",
     "text": [
      "Loss after epoch 323: 0.0\n"
     ]
    },
    {
     "name": "stderr",
     "output_type": "stream",
     "text": [
      "INFO - 21:40:05: EPOCH 324 - PROGRESS: at 66.01% examples, 1028431 words/s, in_qsize 15, out_qsize 0\n",
      "INFO - 21:40:06: EPOCH 324: training on 2135928 raw words (1559957 effective words) took 1.5s, 1060175 effective words/s\n"
     ]
    },
    {
     "name": "stdout",
     "output_type": "stream",
     "text": [
      "Loss after epoch 324: 0.0\n"
     ]
    },
    {
     "name": "stderr",
     "output_type": "stream",
     "text": [
      "INFO - 21:40:07: EPOCH 325 - PROGRESS: at 65.56% examples, 1021281 words/s, in_qsize 15, out_qsize 0\n",
      "INFO - 21:40:07: EPOCH 325: training on 2135928 raw words (1560606 effective words) took 1.5s, 1036954 effective words/s\n"
     ]
    },
    {
     "name": "stdout",
     "output_type": "stream",
     "text": [
      "Loss after epoch 325: 0.0\n"
     ]
    },
    {
     "name": "stderr",
     "output_type": "stream",
     "text": [
      "INFO - 21:40:08: EPOCH 326 - PROGRESS: at 63.78% examples, 996952 words/s, in_qsize 15, out_qsize 0\n",
      "INFO - 21:40:09: EPOCH 326: training on 2135928 raw words (1560912 effective words) took 1.5s, 1069878 effective words/s\n"
     ]
    },
    {
     "name": "stdout",
     "output_type": "stream",
     "text": [
      "Loss after epoch 326: 0.0\n"
     ]
    },
    {
     "name": "stderr",
     "output_type": "stream",
     "text": [
      "INFO - 21:40:10: EPOCH 327 - PROGRESS: at 72.31% examples, 1149590 words/s, in_qsize 15, out_qsize 0\n",
      "INFO - 21:40:10: EPOCH 327: training on 2135928 raw words (1561768 effective words) took 1.3s, 1169504 effective words/s\n"
     ]
    },
    {
     "name": "stdout",
     "output_type": "stream",
     "text": [
      "Loss after epoch 327: 0.0\n"
     ]
    },
    {
     "name": "stderr",
     "output_type": "stream",
     "text": [
      "INFO - 21:40:11: EPOCH 328 - PROGRESS: at 70.64% examples, 1116104 words/s, in_qsize 11, out_qsize 4\n",
      "INFO - 21:40:11: EPOCH 328: training on 2135928 raw words (1561607 effective words) took 1.3s, 1160690 effective words/s\n"
     ]
    },
    {
     "name": "stdout",
     "output_type": "stream",
     "text": [
      "Loss after epoch 328: 0.0\n"
     ]
    },
    {
     "name": "stderr",
     "output_type": "stream",
     "text": [
      "INFO - 21:40:12: EPOCH 329 - PROGRESS: at 74.39% examples, 1159177 words/s, in_qsize 14, out_qsize 1\n",
      "INFO - 21:40:13: EPOCH 329: training on 2135928 raw words (1560929 effective words) took 1.3s, 1201002 effective words/s\n"
     ]
    },
    {
     "name": "stdout",
     "output_type": "stream",
     "text": [
      "Loss after epoch 329: 0.0\n"
     ]
    },
    {
     "name": "stderr",
     "output_type": "stream",
     "text": [
      "INFO - 21:40:14: EPOCH 330 - PROGRESS: at 71.89% examples, 1138091 words/s, in_qsize 16, out_qsize 0\n",
      "INFO - 21:40:14: EPOCH 330: training on 2135928 raw words (1560444 effective words) took 1.3s, 1173455 effective words/s\n"
     ]
    },
    {
     "name": "stdout",
     "output_type": "stream",
     "text": [
      "Loss after epoch 330: 0.0\n"
     ]
    },
    {
     "name": "stderr",
     "output_type": "stream",
     "text": [
      "INFO - 21:40:15: EPOCH 331 - PROGRESS: at 71.04% examples, 1124535 words/s, in_qsize 15, out_qsize 0\n",
      "INFO - 21:40:15: EPOCH 331: training on 2135928 raw words (1560625 effective words) took 1.3s, 1161385 effective words/s\n"
     ]
    },
    {
     "name": "stdout",
     "output_type": "stream",
     "text": [
      "Loss after epoch 331: 0.0\n"
     ]
    },
    {
     "name": "stderr",
     "output_type": "stream",
     "text": [
      "INFO - 21:40:16: EPOCH 332 - PROGRESS: at 71.05% examples, 1121571 words/s, in_qsize 15, out_qsize 0\n",
      "INFO - 21:40:17: EPOCH 332: training on 2135928 raw words (1560406 effective words) took 1.4s, 1152471 effective words/s\n"
     ]
    },
    {
     "name": "stdout",
     "output_type": "stream",
     "text": [
      "Loss after epoch 332: 0.0\n"
     ]
    },
    {
     "name": "stderr",
     "output_type": "stream",
     "text": [
      "INFO - 21:40:18: EPOCH 333 - PROGRESS: at 71.03% examples, 1128582 words/s, in_qsize 15, out_qsize 0\n",
      "INFO - 21:40:18: EPOCH 333: training on 2135928 raw words (1561122 effective words) took 1.3s, 1159111 effective words/s\n"
     ]
    },
    {
     "name": "stdout",
     "output_type": "stream",
     "text": [
      "Loss after epoch 333: 0.0\n"
     ]
    },
    {
     "name": "stderr",
     "output_type": "stream",
     "text": [
      "INFO - 21:40:19: EPOCH 334 - PROGRESS: at 71.46% examples, 1120619 words/s, in_qsize 16, out_qsize 0\n",
      "INFO - 21:40:20: EPOCH 334: training on 2135928 raw words (1560868 effective words) took 1.3s, 1157135 effective words/s\n"
     ]
    },
    {
     "name": "stdout",
     "output_type": "stream",
     "text": [
      "Loss after epoch 334: 0.0\n"
     ]
    },
    {
     "name": "stderr",
     "output_type": "stream",
     "text": [
      "INFO - 21:40:21: EPOCH 335 - PROGRESS: at 71.89% examples, 1143333 words/s, in_qsize 14, out_qsize 1\n",
      "INFO - 21:40:21: EPOCH 335: training on 2135928 raw words (1560987 effective words) took 1.3s, 1182155 effective words/s\n"
     ]
    },
    {
     "name": "stdout",
     "output_type": "stream",
     "text": [
      "Loss after epoch 335: 0.0\n"
     ]
    },
    {
     "name": "stderr",
     "output_type": "stream",
     "text": [
      "INFO - 21:40:22: EPOCH 336 - PROGRESS: at 70.62% examples, 1108319 words/s, in_qsize 15, out_qsize 0\n",
      "INFO - 21:40:22: EPOCH 336: training on 2135928 raw words (1561241 effective words) took 1.3s, 1160216 effective words/s\n"
     ]
    },
    {
     "name": "stdout",
     "output_type": "stream",
     "text": [
      "Loss after epoch 336: 0.0\n"
     ]
    },
    {
     "name": "stderr",
     "output_type": "stream",
     "text": [
      "INFO - 21:40:23: EPOCH 337 - PROGRESS: at 72.72% examples, 1151384 words/s, in_qsize 15, out_qsize 0\n",
      "INFO - 21:40:24: EPOCH 337: training on 2135928 raw words (1560748 effective words) took 1.3s, 1198860 effective words/s\n"
     ]
    },
    {
     "name": "stdout",
     "output_type": "stream",
     "text": [
      "Loss after epoch 337: 0.0\n"
     ]
    },
    {
     "name": "stderr",
     "output_type": "stream",
     "text": [
      "INFO - 21:40:25: EPOCH 338 - PROGRESS: at 71.89% examples, 1142786 words/s, in_qsize 16, out_qsize 1\n",
      "INFO - 21:40:25: EPOCH 338: training on 2135928 raw words (1561611 effective words) took 1.3s, 1172838 effective words/s\n"
     ]
    },
    {
     "name": "stdout",
     "output_type": "stream",
     "text": [
      "Loss after epoch 338: 0.0\n"
     ]
    },
    {
     "name": "stderr",
     "output_type": "stream",
     "text": [
      "INFO - 21:40:26: EPOCH 339 - PROGRESS: at 71.89% examples, 1143897 words/s, in_qsize 15, out_qsize 0\n",
      "INFO - 21:40:26: EPOCH 339: training on 2135928 raw words (1561347 effective words) took 1.3s, 1177699 effective words/s\n"
     ]
    },
    {
     "name": "stdout",
     "output_type": "stream",
     "text": [
      "Loss after epoch 339: 0.0\n"
     ]
    },
    {
     "name": "stderr",
     "output_type": "stream",
     "text": [
      "INFO - 21:40:27: EPOCH 340 - PROGRESS: at 73.95% examples, 1177428 words/s, in_qsize 16, out_qsize 0\n",
      "INFO - 21:40:28: EPOCH 340: training on 2135928 raw words (1561180 effective words) took 1.3s, 1190314 effective words/s\n"
     ]
    },
    {
     "name": "stdout",
     "output_type": "stream",
     "text": [
      "Loss after epoch 340: 0.0\n"
     ]
    },
    {
     "name": "stderr",
     "output_type": "stream",
     "text": [
      "INFO - 21:40:29: EPOCH 341 - PROGRESS: at 71.89% examples, 1135075 words/s, in_qsize 14, out_qsize 2\n",
      "INFO - 21:40:29: EPOCH 341: training on 2135928 raw words (1560846 effective words) took 1.3s, 1167494 effective words/s\n"
     ]
    },
    {
     "name": "stdout",
     "output_type": "stream",
     "text": [
      "Loss after epoch 341: 0.0\n"
     ]
    },
    {
     "name": "stderr",
     "output_type": "stream",
     "text": [
      "INFO - 21:40:30: EPOCH 342 - PROGRESS: at 69.37% examples, 1098915 words/s, in_qsize 15, out_qsize 0\n",
      "INFO - 21:40:30: EPOCH 342: training on 2135928 raw words (1561171 effective words) took 1.4s, 1147284 effective words/s\n"
     ]
    },
    {
     "name": "stdout",
     "output_type": "stream",
     "text": [
      "Loss after epoch 342: 0.0\n"
     ]
    },
    {
     "name": "stderr",
     "output_type": "stream",
     "text": [
      "INFO - 21:40:31: EPOCH 343 - PROGRESS: at 72.30% examples, 1150031 words/s, in_qsize 14, out_qsize 1\n",
      "INFO - 21:40:32: EPOCH 343: training on 2135928 raw words (1561059 effective words) took 1.3s, 1158701 effective words/s\n"
     ]
    },
    {
     "name": "stdout",
     "output_type": "stream",
     "text": [
      "Loss after epoch 343: 0.0\n"
     ]
    },
    {
     "name": "stderr",
     "output_type": "stream",
     "text": [
      "INFO - 21:40:33: EPOCH 344 - PROGRESS: at 69.78% examples, 1099121 words/s, in_qsize 15, out_qsize 0\n",
      "INFO - 21:40:33: EPOCH 344: training on 2135928 raw words (1560419 effective words) took 1.4s, 1154979 effective words/s\n"
     ]
    },
    {
     "name": "stdout",
     "output_type": "stream",
     "text": [
      "Loss after epoch 344: 0.0\n"
     ]
    },
    {
     "name": "stderr",
     "output_type": "stream",
     "text": [
      "INFO - 21:40:34: EPOCH 345 - PROGRESS: at 73.12% examples, 1164937 words/s, in_qsize 15, out_qsize 0\n",
      "INFO - 21:40:34: EPOCH 345: training on 2135928 raw words (1560288 effective words) took 1.3s, 1182528 effective words/s\n"
     ]
    },
    {
     "name": "stdout",
     "output_type": "stream",
     "text": [
      "Loss after epoch 345: 0.0\n"
     ]
    },
    {
     "name": "stderr",
     "output_type": "stream",
     "text": [
      "INFO - 21:40:35: EPOCH 346 - PROGRESS: at 73.57% examples, 1163014 words/s, in_qsize 16, out_qsize 1\n",
      "INFO - 21:40:36: EPOCH 346: training on 2135928 raw words (1560858 effective words) took 1.3s, 1189911 effective words/s\n"
     ]
    },
    {
     "name": "stdout",
     "output_type": "stream",
     "text": [
      "Loss after epoch 346: 0.0\n"
     ]
    },
    {
     "name": "stderr",
     "output_type": "stream",
     "text": [
      "INFO - 21:40:37: EPOCH 347 - PROGRESS: at 72.72% examples, 1158155 words/s, in_qsize 14, out_qsize 1\n",
      "INFO - 21:40:37: EPOCH 347: training on 2135928 raw words (1561135 effective words) took 1.3s, 1180152 effective words/s\n"
     ]
    },
    {
     "name": "stdout",
     "output_type": "stream",
     "text": [
      "Loss after epoch 347: 0.0\n"
     ]
    },
    {
     "name": "stderr",
     "output_type": "stream",
     "text": [
      "INFO - 21:40:38: EPOCH 348 - PROGRESS: at 72.30% examples, 1140416 words/s, in_qsize 15, out_qsize 0\n",
      "INFO - 21:40:38: EPOCH 348: training on 2135928 raw words (1561451 effective words) took 1.3s, 1166175 effective words/s\n"
     ]
    },
    {
     "name": "stdout",
     "output_type": "stream",
     "text": [
      "Loss after epoch 348: 0.0\n"
     ]
    },
    {
     "name": "stderr",
     "output_type": "stream",
     "text": [
      "INFO - 21:40:39: EPOCH 349 - PROGRESS: at 72.29% examples, 1140559 words/s, in_qsize 14, out_qsize 1\n",
      "INFO - 21:40:40: EPOCH 349: training on 2135928 raw words (1561450 effective words) took 1.3s, 1178171 effective words/s\n"
     ]
    },
    {
     "name": "stdout",
     "output_type": "stream",
     "text": [
      "Loss after epoch 349: 0.0\n"
     ]
    },
    {
     "name": "stderr",
     "output_type": "stream",
     "text": [
      "INFO - 21:40:41: EPOCH 350 - PROGRESS: at 70.21% examples, 1104344 words/s, in_qsize 14, out_qsize 1\n",
      "INFO - 21:40:41: EPOCH 350: training on 2135928 raw words (1561346 effective words) took 1.4s, 1154499 effective words/s\n"
     ]
    },
    {
     "name": "stdout",
     "output_type": "stream",
     "text": [
      "Loss after epoch 350: 0.0\n"
     ]
    },
    {
     "name": "stderr",
     "output_type": "stream",
     "text": [
      "INFO - 21:40:42: EPOCH 351 - PROGRESS: at 70.63% examples, 1119326 words/s, in_qsize 15, out_qsize 0\n",
      "INFO - 21:40:42: EPOCH 351: training on 2135928 raw words (1561346 effective words) took 1.4s, 1136004 effective words/s\n"
     ]
    },
    {
     "name": "stdout",
     "output_type": "stream",
     "text": [
      "Loss after epoch 351: 0.0\n"
     ]
    },
    {
     "name": "stderr",
     "output_type": "stream",
     "text": [
      "INFO - 21:40:43: EPOCH 352 - PROGRESS: at 71.89% examples, 1141392 words/s, in_qsize 14, out_qsize 1\n",
      "INFO - 21:40:44: EPOCH 352: training on 2135928 raw words (1560669 effective words) took 1.3s, 1186472 effective words/s\n"
     ]
    },
    {
     "name": "stdout",
     "output_type": "stream",
     "text": [
      "Loss after epoch 352: 0.0\n"
     ]
    },
    {
     "name": "stderr",
     "output_type": "stream",
     "text": [
      "INFO - 21:40:45: EPOCH 353 - PROGRESS: at 71.89% examples, 1132859 words/s, in_qsize 14, out_qsize 1\n",
      "INFO - 21:40:45: EPOCH 353: training on 2135928 raw words (1561206 effective words) took 1.3s, 1161583 effective words/s\n"
     ]
    },
    {
     "name": "stdout",
     "output_type": "stream",
     "text": [
      "Loss after epoch 353: 0.0\n"
     ]
    },
    {
     "name": "stderr",
     "output_type": "stream",
     "text": [
      "INFO - 21:40:46: EPOCH 354 - PROGRESS: at 71.05% examples, 1127231 words/s, in_qsize 16, out_qsize 0\n",
      "INFO - 21:40:46: EPOCH 354: training on 2135928 raw words (1562092 effective words) took 1.3s, 1159293 effective words/s\n"
     ]
    },
    {
     "name": "stdout",
     "output_type": "stream",
     "text": [
      "Loss after epoch 354: 0.0\n"
     ]
    },
    {
     "name": "stderr",
     "output_type": "stream",
     "text": [
      "INFO - 21:40:47: EPOCH 355 - PROGRESS: at 71.46% examples, 1129588 words/s, in_qsize 15, out_qsize 0\n",
      "INFO - 21:40:48: EPOCH 355: training on 2135928 raw words (1560409 effective words) took 1.4s, 1155264 effective words/s\n"
     ]
    },
    {
     "name": "stdout",
     "output_type": "stream",
     "text": [
      "Loss after epoch 355: 0.0\n"
     ]
    },
    {
     "name": "stderr",
     "output_type": "stream",
     "text": [
      "INFO - 21:40:49: EPOCH 356 - PROGRESS: at 72.31% examples, 1144694 words/s, in_qsize 16, out_qsize 1\n",
      "INFO - 21:40:49: EPOCH 356: training on 2135928 raw words (1560947 effective words) took 1.3s, 1174953 effective words/s\n"
     ]
    },
    {
     "name": "stdout",
     "output_type": "stream",
     "text": [
      "Loss after epoch 356: 0.0\n"
     ]
    },
    {
     "name": "stderr",
     "output_type": "stream",
     "text": [
      "INFO - 21:40:50: EPOCH 357 - PROGRESS: at 71.46% examples, 1132061 words/s, in_qsize 16, out_qsize 0\n",
      "INFO - 21:40:50: EPOCH 357: training on 2135928 raw words (1561572 effective words) took 1.3s, 1170307 effective words/s\n"
     ]
    },
    {
     "name": "stdout",
     "output_type": "stream",
     "text": [
      "Loss after epoch 357: 0.0\n"
     ]
    },
    {
     "name": "stderr",
     "output_type": "stream",
     "text": [
      "INFO - 21:40:51: EPOCH 358 - PROGRESS: at 70.62% examples, 1117431 words/s, in_qsize 15, out_qsize 0\n",
      "INFO - 21:40:52: EPOCH 358: training on 2135928 raw words (1560803 effective words) took 1.4s, 1147289 effective words/s\n"
     ]
    },
    {
     "name": "stdout",
     "output_type": "stream",
     "text": [
      "Loss after epoch 358: 0.0\n"
     ]
    },
    {
     "name": "stderr",
     "output_type": "stream",
     "text": [
      "INFO - 21:40:53: EPOCH 359 - PROGRESS: at 68.97% examples, 1089189 words/s, in_qsize 15, out_qsize 0\n",
      "INFO - 21:40:53: EPOCH 359: training on 2135928 raw words (1560053 effective words) took 1.4s, 1129780 effective words/s\n"
     ]
    },
    {
     "name": "stdout",
     "output_type": "stream",
     "text": [
      "Loss after epoch 359: 0.0\n"
     ]
    },
    {
     "name": "stderr",
     "output_type": "stream",
     "text": [
      "INFO - 21:40:54: EPOCH 360 - PROGRESS: at 71.89% examples, 1143223 words/s, in_qsize 15, out_qsize 0\n",
      "INFO - 21:40:55: EPOCH 360: training on 2135928 raw words (1561034 effective words) took 1.3s, 1168175 effective words/s\n"
     ]
    },
    {
     "name": "stdout",
     "output_type": "stream",
     "text": [
      "Loss after epoch 360: 0.0\n"
     ]
    },
    {
     "name": "stderr",
     "output_type": "stream",
     "text": [
      "INFO - 21:40:56: EPOCH 361 - PROGRESS: at 71.46% examples, 1131708 words/s, in_qsize 16, out_qsize 2\n",
      "INFO - 21:40:56: EPOCH 361: training on 2135928 raw words (1561680 effective words) took 1.3s, 1173275 effective words/s\n"
     ]
    },
    {
     "name": "stdout",
     "output_type": "stream",
     "text": [
      "Loss after epoch 361: 0.0\n"
     ]
    },
    {
     "name": "stderr",
     "output_type": "stream",
     "text": [
      "INFO - 21:40:57: EPOCH 362 - PROGRESS: at 72.72% examples, 1152741 words/s, in_qsize 15, out_qsize 0\n",
      "INFO - 21:40:57: EPOCH 362: training on 2135928 raw words (1561875 effective words) took 1.3s, 1177730 effective words/s\n"
     ]
    },
    {
     "name": "stdout",
     "output_type": "stream",
     "text": [
      "Loss after epoch 362: 0.0\n"
     ]
    },
    {
     "name": "stderr",
     "output_type": "stream",
     "text": [
      "INFO - 21:40:58: EPOCH 363 - PROGRESS: at 73.95% examples, 1173830 words/s, in_qsize 16, out_qsize 1\n",
      "INFO - 21:40:59: EPOCH 363: training on 2135928 raw words (1560251 effective words) took 1.3s, 1201831 effective words/s\n"
     ]
    },
    {
     "name": "stdout",
     "output_type": "stream",
     "text": [
      "Loss after epoch 363: 0.0\n"
     ]
    },
    {
     "name": "stderr",
     "output_type": "stream",
     "text": [
      "INFO - 21:41:00: EPOCH 364 - PROGRESS: at 72.31% examples, 1147258 words/s, in_qsize 15, out_qsize 0\n",
      "INFO - 21:41:00: EPOCH 364: training on 2135928 raw words (1561028 effective words) took 1.3s, 1161968 effective words/s\n"
     ]
    },
    {
     "name": "stdout",
     "output_type": "stream",
     "text": [
      "Loss after epoch 364: 0.0\n"
     ]
    },
    {
     "name": "stderr",
     "output_type": "stream",
     "text": [
      "INFO - 21:41:01: EPOCH 365 - PROGRESS: at 72.27% examples, 1141461 words/s, in_qsize 16, out_qsize 0\n",
      "INFO - 21:41:01: EPOCH 365: training on 2135928 raw words (1560810 effective words) took 1.3s, 1173907 effective words/s\n"
     ]
    },
    {
     "name": "stdout",
     "output_type": "stream",
     "text": [
      "Loss after epoch 365: 0.0\n"
     ]
    },
    {
     "name": "stderr",
     "output_type": "stream",
     "text": [
      "INFO - 21:41:02: EPOCH 366 - PROGRESS: at 68.93% examples, 1084952 words/s, in_qsize 15, out_qsize 0\n",
      "INFO - 21:41:03: EPOCH 366: training on 2135928 raw words (1560658 effective words) took 1.4s, 1107898 effective words/s\n"
     ]
    },
    {
     "name": "stdout",
     "output_type": "stream",
     "text": [
      "Loss after epoch 366: 0.0\n"
     ]
    },
    {
     "name": "stderr",
     "output_type": "stream",
     "text": [
      "INFO - 21:41:04: EPOCH 367 - PROGRESS: at 72.72% examples, 1146834 words/s, in_qsize 15, out_qsize 0\n",
      "INFO - 21:41:04: EPOCH 367: training on 2135928 raw words (1560870 effective words) took 1.3s, 1180409 effective words/s\n"
     ]
    },
    {
     "name": "stdout",
     "output_type": "stream",
     "text": [
      "Loss after epoch 367: 0.0\n"
     ]
    },
    {
     "name": "stderr",
     "output_type": "stream",
     "text": [
      "INFO - 21:41:05: EPOCH 368 - PROGRESS: at 71.46% examples, 1120562 words/s, in_qsize 14, out_qsize 1\n",
      "INFO - 21:41:05: EPOCH 368: training on 2135928 raw words (1561328 effective words) took 1.3s, 1159283 effective words/s\n"
     ]
    },
    {
     "name": "stdout",
     "output_type": "stream",
     "text": [
      "Loss after epoch 368: 0.0\n"
     ]
    },
    {
     "name": "stderr",
     "output_type": "stream",
     "text": [
      "INFO - 21:41:06: EPOCH 369 - PROGRESS: at 71.46% examples, 1134738 words/s, in_qsize 15, out_qsize 0\n",
      "INFO - 21:41:07: EPOCH 369: training on 2135928 raw words (1560720 effective words) took 1.3s, 1174738 effective words/s\n"
     ]
    },
    {
     "name": "stdout",
     "output_type": "stream",
     "text": [
      "Loss after epoch 369: 0.0\n"
     ]
    },
    {
     "name": "stderr",
     "output_type": "stream",
     "text": [
      "INFO - 21:41:08: EPOCH 370 - PROGRESS: at 71.46% examples, 1127598 words/s, in_qsize 15, out_qsize 0\n",
      "INFO - 21:41:08: EPOCH 370: training on 2135928 raw words (1560765 effective words) took 1.3s, 1163743 effective words/s\n"
     ]
    },
    {
     "name": "stdout",
     "output_type": "stream",
     "text": [
      "Loss after epoch 370: 0.0\n"
     ]
    },
    {
     "name": "stderr",
     "output_type": "stream",
     "text": [
      "INFO - 21:41:09: EPOCH 371 - PROGRESS: at 72.72% examples, 1144766 words/s, in_qsize 15, out_qsize 0\n",
      "INFO - 21:41:09: EPOCH 371: training on 2135928 raw words (1560644 effective words) took 1.3s, 1176549 effective words/s\n"
     ]
    },
    {
     "name": "stdout",
     "output_type": "stream",
     "text": [
      "Loss after epoch 371: 0.0\n"
     ]
    },
    {
     "name": "stderr",
     "output_type": "stream",
     "text": [
      "INFO - 21:41:10: EPOCH 372 - PROGRESS: at 71.46% examples, 1125414 words/s, in_qsize 16, out_qsize 0\n",
      "INFO - 21:41:11: EPOCH 372: training on 2135928 raw words (1560604 effective words) took 1.4s, 1133239 effective words/s\n"
     ]
    },
    {
     "name": "stdout",
     "output_type": "stream",
     "text": [
      "Loss after epoch 372: 0.0\n"
     ]
    },
    {
     "name": "stderr",
     "output_type": "stream",
     "text": [
      "INFO - 21:41:12: EPOCH 373 - PROGRESS: at 67.72% examples, 1065117 words/s, in_qsize 15, out_qsize 0\n",
      "INFO - 21:41:12: EPOCH 373: training on 2135928 raw words (1559784 effective words) took 1.5s, 1075059 effective words/s\n"
     ]
    },
    {
     "name": "stdout",
     "output_type": "stream",
     "text": [
      "Loss after epoch 373: 0.0\n"
     ]
    },
    {
     "name": "stderr",
     "output_type": "stream",
     "text": [
      "INFO - 21:41:13: EPOCH 374 - PROGRESS: at 59.82% examples, 926612 words/s, in_qsize 16, out_qsize 0\n",
      "INFO - 21:41:14: EPOCH 374: training on 2135928 raw words (1561008 effective words) took 1.6s, 993502 effective words/s\n"
     ]
    },
    {
     "name": "stdout",
     "output_type": "stream",
     "text": [
      "Loss after epoch 374: 0.0\n"
     ]
    },
    {
     "name": "stderr",
     "output_type": "stream",
     "text": [
      "INFO - 21:41:15: EPOCH 375 - PROGRESS: at 70.21% examples, 1104912 words/s, in_qsize 15, out_qsize 0\n",
      "INFO - 21:41:15: EPOCH 375: training on 2135928 raw words (1561539 effective words) took 1.4s, 1147447 effective words/s\n"
     ]
    },
    {
     "name": "stdout",
     "output_type": "stream",
     "text": [
      "Loss after epoch 375: 0.0\n"
     ]
    },
    {
     "name": "stderr",
     "output_type": "stream",
     "text": [
      "INFO - 21:41:16: EPOCH 376 - PROGRESS: at 72.30% examples, 1134880 words/s, in_qsize 15, out_qsize 0\n",
      "INFO - 21:41:17: EPOCH 376: training on 2135928 raw words (1561463 effective words) took 1.3s, 1170013 effective words/s\n"
     ]
    },
    {
     "name": "stdout",
     "output_type": "stream",
     "text": [
      "Loss after epoch 376: 0.0\n"
     ]
    },
    {
     "name": "stderr",
     "output_type": "stream",
     "text": [
      "INFO - 21:41:18: EPOCH 377 - PROGRESS: at 71.89% examples, 1123186 words/s, in_qsize 16, out_qsize 0\n",
      "INFO - 21:41:18: EPOCH 377: training on 2135928 raw words (1560957 effective words) took 1.3s, 1162643 effective words/s\n"
     ]
    },
    {
     "name": "stdout",
     "output_type": "stream",
     "text": [
      "Loss after epoch 377: 0.0\n"
     ]
    },
    {
     "name": "stderr",
     "output_type": "stream",
     "text": [
      "INFO - 21:41:19: EPOCH 378 - PROGRESS: at 71.46% examples, 1133866 words/s, in_qsize 15, out_qsize 0\n",
      "INFO - 21:41:19: EPOCH 378: training on 2135928 raw words (1561876 effective words) took 1.3s, 1171829 effective words/s\n"
     ]
    },
    {
     "name": "stdout",
     "output_type": "stream",
     "text": [
      "Loss after epoch 378: 0.0\n"
     ]
    },
    {
     "name": "stderr",
     "output_type": "stream",
     "text": [
      "INFO - 21:41:20: EPOCH 379 - PROGRESS: at 71.89% examples, 1143607 words/s, in_qsize 14, out_qsize 1\n",
      "INFO - 21:41:21: EPOCH 379: training on 2135928 raw words (1561053 effective words) took 1.3s, 1170832 effective words/s\n"
     ]
    },
    {
     "name": "stdout",
     "output_type": "stream",
     "text": [
      "Loss after epoch 379: 0.0\n"
     ]
    },
    {
     "name": "stderr",
     "output_type": "stream",
     "text": [
      "INFO - 21:41:22: EPOCH 380 - PROGRESS: at 72.72% examples, 1157724 words/s, in_qsize 15, out_qsize 0\n",
      "INFO - 21:41:22: EPOCH 380: training on 2135928 raw words (1560629 effective words) took 1.3s, 1184879 effective words/s\n"
     ]
    },
    {
     "name": "stdout",
     "output_type": "stream",
     "text": [
      "Loss after epoch 380: 0.0\n"
     ]
    },
    {
     "name": "stderr",
     "output_type": "stream",
     "text": [
      "INFO - 21:41:23: EPOCH 381 - PROGRESS: at 73.54% examples, 1153452 words/s, in_qsize 16, out_qsize 0\n",
      "INFO - 21:41:23: EPOCH 381: training on 2135928 raw words (1560954 effective words) took 1.3s, 1183147 effective words/s\n"
     ]
    },
    {
     "name": "stdout",
     "output_type": "stream",
     "text": [
      "Loss after epoch 381: 0.0\n"
     ]
    },
    {
     "name": "stderr",
     "output_type": "stream",
     "text": [
      "INFO - 21:41:24: EPOCH 382 - PROGRESS: at 71.05% examples, 1127096 words/s, in_qsize 15, out_qsize 0\n",
      "INFO - 21:41:25: EPOCH 382: training on 2135928 raw words (1561042 effective words) took 1.4s, 1138505 effective words/s\n"
     ]
    },
    {
     "name": "stdout",
     "output_type": "stream",
     "text": [
      "Loss after epoch 382: 0.0\n"
     ]
    },
    {
     "name": "stderr",
     "output_type": "stream",
     "text": [
      "INFO - 21:41:26: EPOCH 383 - PROGRESS: at 70.18% examples, 1110669 words/s, in_qsize 14, out_qsize 1\n",
      "INFO - 21:41:26: EPOCH 383: training on 2135928 raw words (1560978 effective words) took 1.4s, 1150574 effective words/s\n"
     ]
    },
    {
     "name": "stdout",
     "output_type": "stream",
     "text": [
      "Loss after epoch 383: 0.0\n"
     ]
    },
    {
     "name": "stderr",
     "output_type": "stream",
     "text": [
      "INFO - 21:41:27: EPOCH 384 - PROGRESS: at 71.89% examples, 1142875 words/s, in_qsize 16, out_qsize 1\n",
      "INFO - 21:41:27: EPOCH 384: training on 2135928 raw words (1560560 effective words) took 1.3s, 1170977 effective words/s\n"
     ]
    },
    {
     "name": "stdout",
     "output_type": "stream",
     "text": [
      "Loss after epoch 384: 0.0\n"
     ]
    },
    {
     "name": "stderr",
     "output_type": "stream",
     "text": [
      "INFO - 21:41:28: EPOCH 385 - PROGRESS: at 72.72% examples, 1155597 words/s, in_qsize 15, out_qsize 0\n",
      "INFO - 21:41:29: EPOCH 385: training on 2135928 raw words (1561394 effective words) took 1.3s, 1180827 effective words/s\n"
     ]
    },
    {
     "name": "stdout",
     "output_type": "stream",
     "text": [
      "Loss after epoch 385: 0.0\n"
     ]
    },
    {
     "name": "stderr",
     "output_type": "stream",
     "text": [
      "INFO - 21:41:30: EPOCH 386 - PROGRESS: at 72.72% examples, 1141161 words/s, in_qsize 14, out_qsize 1\n",
      "INFO - 21:41:30: EPOCH 386: training on 2135928 raw words (1561361 effective words) took 1.3s, 1178687 effective words/s\n"
     ]
    },
    {
     "name": "stdout",
     "output_type": "stream",
     "text": [
      "Loss after epoch 386: 0.0\n"
     ]
    },
    {
     "name": "stderr",
     "output_type": "stream",
     "text": [
      "INFO - 21:41:31: EPOCH 387 - PROGRESS: at 71.89% examples, 1136490 words/s, in_qsize 16, out_qsize 0\n",
      "INFO - 21:41:31: EPOCH 387: training on 2135928 raw words (1561498 effective words) took 1.3s, 1162413 effective words/s\n"
     ]
    },
    {
     "name": "stdout",
     "output_type": "stream",
     "text": [
      "Loss after epoch 387: 0.0\n"
     ]
    },
    {
     "name": "stderr",
     "output_type": "stream",
     "text": [
      "INFO - 21:41:32: EPOCH 388 - PROGRESS: at 73.12% examples, 1161821 words/s, in_qsize 15, out_qsize 0\n",
      "INFO - 21:41:33: EPOCH 388: training on 2135928 raw words (1561163 effective words) took 1.3s, 1177271 effective words/s\n"
     ]
    },
    {
     "name": "stdout",
     "output_type": "stream",
     "text": [
      "Loss after epoch 388: 0.0\n"
     ]
    },
    {
     "name": "stderr",
     "output_type": "stream",
     "text": [
      "INFO - 21:41:34: EPOCH 389 - PROGRESS: at 71.03% examples, 1127439 words/s, in_qsize 15, out_qsize 0\n",
      "INFO - 21:41:34: EPOCH 389: training on 2135928 raw words (1561392 effective words) took 1.4s, 1151575 effective words/s\n"
     ]
    },
    {
     "name": "stdout",
     "output_type": "stream",
     "text": [
      "Loss after epoch 389: 0.0\n"
     ]
    },
    {
     "name": "stderr",
     "output_type": "stream",
     "text": [
      "INFO - 21:41:35: EPOCH 390 - PROGRESS: at 73.95% examples, 1153571 words/s, in_qsize 15, out_qsize 2\n",
      "INFO - 21:41:35: EPOCH 390: training on 2135928 raw words (1561006 effective words) took 1.3s, 1172532 effective words/s\n"
     ]
    },
    {
     "name": "stdout",
     "output_type": "stream",
     "text": [
      "Loss after epoch 390: 0.0\n"
     ]
    },
    {
     "name": "stderr",
     "output_type": "stream",
     "text": [
      "INFO - 21:41:36: EPOCH 391 - PROGRESS: at 71.46% examples, 1132539 words/s, in_qsize 15, out_qsize 0\n",
      "INFO - 21:41:37: EPOCH 391: training on 2135928 raw words (1562148 effective words) took 1.4s, 1154611 effective words/s\n"
     ]
    },
    {
     "name": "stdout",
     "output_type": "stream",
     "text": [
      "Loss after epoch 391: 0.0\n"
     ]
    },
    {
     "name": "stderr",
     "output_type": "stream",
     "text": [
      "INFO - 21:41:38: EPOCH 392 - PROGRESS: at 72.30% examples, 1151594 words/s, in_qsize 15, out_qsize 0\n",
      "INFO - 21:41:38: EPOCH 392: training on 2135928 raw words (1561366 effective words) took 1.3s, 1177058 effective words/s\n"
     ]
    },
    {
     "name": "stdout",
     "output_type": "stream",
     "text": [
      "Loss after epoch 392: 0.0\n"
     ]
    },
    {
     "name": "stderr",
     "output_type": "stream",
     "text": [
      "INFO - 21:41:39: EPOCH 393 - PROGRESS: at 70.21% examples, 1109869 words/s, in_qsize 16, out_qsize 1\n",
      "INFO - 21:41:39: EPOCH 393: training on 2135928 raw words (1561225 effective words) took 1.3s, 1156914 effective words/s\n"
     ]
    },
    {
     "name": "stdout",
     "output_type": "stream",
     "text": [
      "Loss after epoch 393: 0.0\n"
     ]
    },
    {
     "name": "stderr",
     "output_type": "stream",
     "text": [
      "INFO - 21:41:40: EPOCH 394 - PROGRESS: at 71.05% examples, 1127718 words/s, in_qsize 14, out_qsize 1\n",
      "INFO - 21:41:41: EPOCH 394: training on 2135928 raw words (1561027 effective words) took 1.4s, 1155975 effective words/s\n"
     ]
    },
    {
     "name": "stdout",
     "output_type": "stream",
     "text": [
      "Loss after epoch 394: 0.0\n"
     ]
    },
    {
     "name": "stderr",
     "output_type": "stream",
     "text": [
      "INFO - 21:41:42: EPOCH 395 - PROGRESS: at 71.89% examples, 1133449 words/s, in_qsize 15, out_qsize 0\n",
      "INFO - 21:41:42: EPOCH 395: training on 2135928 raw words (1561021 effective words) took 1.3s, 1175664 effective words/s\n"
     ]
    },
    {
     "name": "stdout",
     "output_type": "stream",
     "text": [
      "Loss after epoch 395: 0.0\n"
     ]
    },
    {
     "name": "stderr",
     "output_type": "stream",
     "text": [
      "INFO - 21:41:43: EPOCH 396 - PROGRESS: at 69.38% examples, 1098240 words/s, in_qsize 15, out_qsize 0\n",
      "INFO - 21:41:43: EPOCH 396: training on 2135928 raw words (1560959 effective words) took 1.4s, 1145093 effective words/s\n"
     ]
    },
    {
     "name": "stdout",
     "output_type": "stream",
     "text": [
      "Loss after epoch 396: 0.0\n"
     ]
    },
    {
     "name": "stderr",
     "output_type": "stream",
     "text": [
      "INFO - 21:41:45: EPOCH 397 - PROGRESS: at 72.71% examples, 1139627 words/s, in_qsize 15, out_qsize 1\n",
      "INFO - 21:41:45: EPOCH 397: training on 2135928 raw words (1560836 effective words) took 1.3s, 1179312 effective words/s\n"
     ]
    },
    {
     "name": "stdout",
     "output_type": "stream",
     "text": [
      "Loss after epoch 397: 0.0\n"
     ]
    },
    {
     "name": "stderr",
     "output_type": "stream",
     "text": [
      "INFO - 21:41:46: EPOCH 398 - PROGRESS: at 73.12% examples, 1163625 words/s, in_qsize 15, out_qsize 0\n",
      "INFO - 21:41:46: EPOCH 398: training on 2135928 raw words (1560815 effective words) took 1.3s, 1178873 effective words/s\n"
     ]
    },
    {
     "name": "stdout",
     "output_type": "stream",
     "text": [
      "Loss after epoch 398: 0.0\n"
     ]
    },
    {
     "name": "stderr",
     "output_type": "stream",
     "text": [
      "INFO - 21:41:47: EPOCH 399 - PROGRESS: at 69.33% examples, 1096625 words/s, in_qsize 16, out_qsize 1\n",
      "INFO - 21:41:48: EPOCH 399: training on 2135928 raw words (1560307 effective words) took 1.4s, 1141870 effective words/s\n"
     ]
    },
    {
     "name": "stdout",
     "output_type": "stream",
     "text": [
      "Loss after epoch 399: 0.0\n"
     ]
    },
    {
     "name": "stderr",
     "output_type": "stream",
     "text": [
      "INFO - 21:41:49: EPOCH 400 - PROGRESS: at 71.03% examples, 1127317 words/s, in_qsize 13, out_qsize 2\n",
      "INFO - 21:41:49: EPOCH 400: training on 2135928 raw words (1560890 effective words) took 1.3s, 1175028 effective words/s\n"
     ]
    },
    {
     "name": "stdout",
     "output_type": "stream",
     "text": [
      "Loss after epoch 400: 0.0\n"
     ]
    },
    {
     "name": "stderr",
     "output_type": "stream",
     "text": [
      "INFO - 21:41:50: EPOCH 401 - PROGRESS: at 73.13% examples, 1158189 words/s, in_qsize 15, out_qsize 0\n",
      "INFO - 21:41:50: EPOCH 401: training on 2135928 raw words (1561548 effective words) took 1.3s, 1189400 effective words/s\n"
     ]
    },
    {
     "name": "stdout",
     "output_type": "stream",
     "text": [
      "Loss after epoch 401: 0.0\n"
     ]
    },
    {
     "name": "stderr",
     "output_type": "stream",
     "text": [
      "INFO - 21:41:51: EPOCH 402 - PROGRESS: at 71.46% examples, 1130642 words/s, in_qsize 15, out_qsize 0\n",
      "INFO - 21:41:52: EPOCH 402: training on 2135928 raw words (1561009 effective words) took 1.4s, 1154587 effective words/s\n"
     ]
    },
    {
     "name": "stdout",
     "output_type": "stream",
     "text": [
      "Loss after epoch 402: 0.0\n"
     ]
    },
    {
     "name": "stderr",
     "output_type": "stream",
     "text": [
      "INFO - 21:41:53: EPOCH 403 - PROGRESS: at 70.63% examples, 1120933 words/s, in_qsize 13, out_qsize 2\n",
      "INFO - 21:41:53: EPOCH 403: training on 2135928 raw words (1560827 effective words) took 1.3s, 1156860 effective words/s\n"
     ]
    },
    {
     "name": "stdout",
     "output_type": "stream",
     "text": [
      "Loss after epoch 403: 0.0\n"
     ]
    },
    {
     "name": "stderr",
     "output_type": "stream",
     "text": [
      "INFO - 21:41:54: EPOCH 404 - PROGRESS: at 71.46% examples, 1127516 words/s, in_qsize 16, out_qsize 0\n",
      "INFO - 21:41:54: EPOCH 404: training on 2135928 raw words (1561323 effective words) took 1.3s, 1169893 effective words/s\n"
     ]
    },
    {
     "name": "stdout",
     "output_type": "stream",
     "text": [
      "Loss after epoch 404: 0.0\n"
     ]
    },
    {
     "name": "stderr",
     "output_type": "stream",
     "text": [
      "INFO - 21:41:55: EPOCH 405 - PROGRESS: at 71.06% examples, 1124257 words/s, in_qsize 15, out_qsize 1\n",
      "INFO - 21:41:56: EPOCH 405: training on 2135928 raw words (1560835 effective words) took 1.3s, 1166139 effective words/s\n"
     ]
    },
    {
     "name": "stdout",
     "output_type": "stream",
     "text": [
      "Loss after epoch 405: 0.0\n"
     ]
    },
    {
     "name": "stderr",
     "output_type": "stream",
     "text": [
      "INFO - 21:41:57: EPOCH 406 - PROGRESS: at 72.30% examples, 1134777 words/s, in_qsize 15, out_qsize 0\n",
      "INFO - 21:41:57: EPOCH 406: training on 2135928 raw words (1561409 effective words) took 1.3s, 1163982 effective words/s\n"
     ]
    },
    {
     "name": "stdout",
     "output_type": "stream",
     "text": [
      "Loss after epoch 406: 0.0\n"
     ]
    },
    {
     "name": "stderr",
     "output_type": "stream",
     "text": [
      "INFO - 21:41:58: EPOCH 407 - PROGRESS: at 68.93% examples, 1089527 words/s, in_qsize 14, out_qsize 1\n",
      "INFO - 21:41:58: EPOCH 407: training on 2135928 raw words (1560246 effective words) took 1.4s, 1138611 effective words/s\n"
     ]
    },
    {
     "name": "stdout",
     "output_type": "stream",
     "text": [
      "Loss after epoch 407: 0.0\n"
     ]
    },
    {
     "name": "stderr",
     "output_type": "stream",
     "text": [
      "INFO - 21:41:59: EPOCH 408 - PROGRESS: at 72.31% examples, 1145249 words/s, in_qsize 15, out_qsize 0\n",
      "INFO - 21:42:00: EPOCH 408: training on 2135928 raw words (1560867 effective words) took 1.3s, 1190619 effective words/s\n"
     ]
    },
    {
     "name": "stdout",
     "output_type": "stream",
     "text": [
      "Loss after epoch 408: 0.0\n"
     ]
    },
    {
     "name": "stderr",
     "output_type": "stream",
     "text": [
      "INFO - 21:42:01: EPOCH 409 - PROGRESS: at 66.02% examples, 1031890 words/s, in_qsize 15, out_qsize 0\n",
      "INFO - 21:42:01: EPOCH 409: training on 2135928 raw words (1560939 effective words) took 1.5s, 1060738 effective words/s\n"
     ]
    },
    {
     "name": "stdout",
     "output_type": "stream",
     "text": [
      "Loss after epoch 409: 0.0\n"
     ]
    },
    {
     "name": "stderr",
     "output_type": "stream",
     "text": [
      "INFO - 21:42:02: EPOCH 410 - PROGRESS: at 68.53% examples, 1078536 words/s, in_qsize 16, out_qsize 0\n",
      "INFO - 21:42:03: EPOCH 410: training on 2135928 raw words (1560790 effective words) took 1.4s, 1104901 effective words/s\n"
     ]
    },
    {
     "name": "stdout",
     "output_type": "stream",
     "text": [
      "Loss after epoch 410: 0.0\n"
     ]
    },
    {
     "name": "stderr",
     "output_type": "stream",
     "text": [
      "INFO - 21:42:04: EPOCH 411 - PROGRESS: at 65.11% examples, 1025056 words/s, in_qsize 15, out_qsize 0\n",
      "INFO - 21:42:04: EPOCH 411: training on 2135928 raw words (1561897 effective words) took 1.5s, 1073727 effective words/s\n"
     ]
    },
    {
     "name": "stdout",
     "output_type": "stream",
     "text": [
      "Loss after epoch 411: 0.0\n"
     ]
    },
    {
     "name": "stderr",
     "output_type": "stream",
     "text": [
      "INFO - 21:42:05: EPOCH 412 - PROGRESS: at 69.74% examples, 1086539 words/s, in_qsize 13, out_qsize 2\n",
      "INFO - 21:42:05: EPOCH 412: training on 2135928 raw words (1560628 effective words) took 1.4s, 1109676 effective words/s\n"
     ]
    },
    {
     "name": "stdout",
     "output_type": "stream",
     "text": [
      "Loss after epoch 412: 0.0\n"
     ]
    },
    {
     "name": "stderr",
     "output_type": "stream",
     "text": [
      "INFO - 21:42:06: EPOCH 413 - PROGRESS: at 65.11% examples, 1017145 words/s, in_qsize 14, out_qsize 1\n",
      "INFO - 21:42:07: EPOCH 413: training on 2135928 raw words (1560732 effective words) took 1.4s, 1079279 effective words/s\n"
     ]
    },
    {
     "name": "stdout",
     "output_type": "stream",
     "text": [
      "Loss after epoch 413: 0.0\n"
     ]
    },
    {
     "name": "stderr",
     "output_type": "stream",
     "text": [
      "INFO - 21:42:08: EPOCH 414 - PROGRESS: at 71.03% examples, 1121852 words/s, in_qsize 15, out_qsize 0\n",
      "INFO - 21:42:08: EPOCH 414: training on 2135928 raw words (1560869 effective words) took 1.4s, 1128543 effective words/s\n"
     ]
    },
    {
     "name": "stdout",
     "output_type": "stream",
     "text": [
      "Loss after epoch 414: 0.0\n"
     ]
    },
    {
     "name": "stderr",
     "output_type": "stream",
     "text": [
      "INFO - 21:42:09: EPOCH 415 - PROGRESS: at 62.93% examples, 966044 words/s, in_qsize 13, out_qsize 2\n",
      "INFO - 21:42:10: EPOCH 415: training on 2135928 raw words (1560854 effective words) took 1.5s, 1028400 effective words/s\n"
     ]
    },
    {
     "name": "stdout",
     "output_type": "stream",
     "text": [
      "Loss after epoch 415: 0.0\n"
     ]
    },
    {
     "name": "stderr",
     "output_type": "stream",
     "text": [
      "INFO - 21:42:11: EPOCH 416 - PROGRESS: at 64.22% examples, 994733 words/s, in_qsize 15, out_qsize 0\n",
      "INFO - 21:42:11: EPOCH 416: training on 2135928 raw words (1561174 effective words) took 1.5s, 1053903 effective words/s\n"
     ]
    },
    {
     "name": "stdout",
     "output_type": "stream",
     "text": [
      "Loss after epoch 416: 0.0\n"
     ]
    },
    {
     "name": "stderr",
     "output_type": "stream",
     "text": [
      "INFO - 21:42:12: EPOCH 417 - PROGRESS: at 70.63% examples, 1119274 words/s, in_qsize 16, out_qsize 0\n",
      "INFO - 21:42:13: EPOCH 417: training on 2135928 raw words (1561549 effective words) took 1.4s, 1134601 effective words/s\n"
     ]
    },
    {
     "name": "stdout",
     "output_type": "stream",
     "text": [
      "Loss after epoch 417: 0.0\n"
     ]
    },
    {
     "name": "stderr",
     "output_type": "stream",
     "text": [
      "INFO - 21:42:14: EPOCH 418 - PROGRESS: at 68.53% examples, 1079079 words/s, in_qsize 15, out_qsize 0\n",
      "INFO - 21:42:14: EPOCH 418: training on 2135928 raw words (1561484 effective words) took 1.4s, 1094886 effective words/s\n"
     ]
    },
    {
     "name": "stdout",
     "output_type": "stream",
     "text": [
      "Loss after epoch 418: 0.0\n"
     ]
    },
    {
     "name": "stderr",
     "output_type": "stream",
     "text": [
      "INFO - 21:42:15: EPOCH 419 - PROGRESS: at 70.62% examples, 1112516 words/s, in_qsize 14, out_qsize 1\n",
      "INFO - 21:42:15: EPOCH 419: training on 2135928 raw words (1561123 effective words) took 1.4s, 1145839 effective words/s\n"
     ]
    },
    {
     "name": "stdout",
     "output_type": "stream",
     "text": [
      "Loss after epoch 419: 0.0\n"
     ]
    },
    {
     "name": "stderr",
     "output_type": "stream",
     "text": [
      "INFO - 21:42:17: EPOCH 420 - PROGRESS: at 58.44% examples, 907526 words/s, in_qsize 16, out_qsize 0\n",
      "INFO - 21:42:17: EPOCH 420: training on 2135928 raw words (1561282 effective words) took 1.7s, 911762 effective words/s\n"
     ]
    },
    {
     "name": "stdout",
     "output_type": "stream",
     "text": [
      "Loss after epoch 420: 0.0\n"
     ]
    },
    {
     "name": "stderr",
     "output_type": "stream",
     "text": [
      "INFO - 21:42:18: EPOCH 421 - PROGRESS: at 64.22% examples, 1009545 words/s, in_qsize 16, out_qsize 0\n",
      "INFO - 21:42:19: EPOCH 421: training on 2135928 raw words (1560718 effective words) took 1.5s, 1020436 effective words/s\n"
     ]
    },
    {
     "name": "stdout",
     "output_type": "stream",
     "text": [
      "Loss after epoch 421: 0.0\n"
     ]
    },
    {
     "name": "stderr",
     "output_type": "stream",
     "text": [
      "INFO - 21:42:20: EPOCH 422 - PROGRESS: at 57.96% examples, 894945 words/s, in_qsize 14, out_qsize 1\n",
      "INFO - 21:42:20: EPOCH 422: training on 2135928 raw words (1561220 effective words) took 1.6s, 958240 effective words/s\n"
     ]
    },
    {
     "name": "stdout",
     "output_type": "stream",
     "text": [
      "Loss after epoch 422: 0.0\n"
     ]
    },
    {
     "name": "stderr",
     "output_type": "stream",
     "text": [
      "INFO - 21:42:21: EPOCH 423 - PROGRESS: at 67.73% examples, 1049626 words/s, in_qsize 15, out_qsize 0\n",
      "INFO - 21:42:22: EPOCH 423: training on 2135928 raw words (1560809 effective words) took 1.4s, 1078862 effective words/s\n"
     ]
    },
    {
     "name": "stdout",
     "output_type": "stream",
     "text": [
      "Loss after epoch 423: 0.0\n"
     ]
    },
    {
     "name": "stderr",
     "output_type": "stream",
     "text": [
      "INFO - 21:42:23: EPOCH 424 - PROGRESS: at 70.21% examples, 1114103 words/s, in_qsize 16, out_qsize 0\n",
      "INFO - 21:42:23: EPOCH 424: training on 2135928 raw words (1561424 effective words) took 1.4s, 1109736 effective words/s\n"
     ]
    },
    {
     "name": "stdout",
     "output_type": "stream",
     "text": [
      "Loss after epoch 424: 0.0\n"
     ]
    },
    {
     "name": "stderr",
     "output_type": "stream",
     "text": [
      "INFO - 21:42:24: EPOCH 425 - PROGRESS: at 62.94% examples, 969355 words/s, in_qsize 15, out_qsize 0\n",
      "INFO - 21:42:25: EPOCH 425: training on 2135928 raw words (1561204 effective words) took 1.6s, 1006787 effective words/s\n"
     ]
    },
    {
     "name": "stdout",
     "output_type": "stream",
     "text": [
      "Loss after epoch 425: 0.0\n"
     ]
    },
    {
     "name": "stderr",
     "output_type": "stream",
     "text": [
      "INFO - 21:42:26: EPOCH 426 - PROGRESS: at 62.51% examples, 977175 words/s, in_qsize 15, out_qsize 0\n",
      "INFO - 21:42:26: EPOCH 426: training on 2135928 raw words (1561321 effective words) took 1.5s, 1059112 effective words/s\n"
     ]
    },
    {
     "name": "stdout",
     "output_type": "stream",
     "text": [
      "Loss after epoch 426: 0.0\n"
     ]
    },
    {
     "name": "stderr",
     "output_type": "stream",
     "text": [
      "INFO - 21:42:27: EPOCH 427 - PROGRESS: at 69.78% examples, 1103386 words/s, in_qsize 15, out_qsize 0\n",
      "INFO - 21:42:28: EPOCH 427: training on 2135928 raw words (1560514 effective words) took 1.4s, 1128931 effective words/s\n"
     ]
    },
    {
     "name": "stdout",
     "output_type": "stream",
     "text": [
      "Loss after epoch 427: 0.0\n"
     ]
    },
    {
     "name": "stderr",
     "output_type": "stream",
     "text": [
      "INFO - 21:42:29: EPOCH 428 - PROGRESS: at 66.93% examples, 1037488 words/s, in_qsize 16, out_qsize 2\n",
      "INFO - 21:42:29: EPOCH 428: training on 2135928 raw words (1560939 effective words) took 1.5s, 1046537 effective words/s\n"
     ]
    },
    {
     "name": "stdout",
     "output_type": "stream",
     "text": [
      "Loss after epoch 428: 0.0\n"
     ]
    },
    {
     "name": "stderr",
     "output_type": "stream",
     "text": [
      "INFO - 21:42:30: EPOCH 429 - PROGRESS: at 64.66% examples, 1016765 words/s, in_qsize 16, out_qsize 0\n",
      "INFO - 21:42:31: EPOCH 429: training on 2135928 raw words (1561344 effective words) took 1.6s, 954228 effective words/s\n"
     ]
    },
    {
     "name": "stdout",
     "output_type": "stream",
     "text": [
      "Loss after epoch 429: 0.0\n"
     ]
    },
    {
     "name": "stderr",
     "output_type": "stream",
     "text": [
      "INFO - 21:42:32: EPOCH 430 - PROGRESS: at 63.35% examples, 977327 words/s, in_qsize 15, out_qsize 0\n",
      "INFO - 21:42:32: EPOCH 430: training on 2135928 raw words (1560549 effective words) took 1.6s, 998282 effective words/s\n"
     ]
    },
    {
     "name": "stdout",
     "output_type": "stream",
     "text": [
      "Loss after epoch 430: 0.0\n"
     ]
    },
    {
     "name": "stderr",
     "output_type": "stream",
     "text": [
      "INFO - 21:42:33: EPOCH 431 - PROGRESS: at 50.74% examples, 776705 words/s, in_qsize 16, out_qsize 2\n",
      "INFO - 21:42:34: EPOCH 431: training on 2135928 raw words (1560862 effective words) took 1.7s, 893735 effective words/s\n"
     ]
    },
    {
     "name": "stdout",
     "output_type": "stream",
     "text": [
      "Loss after epoch 431: 0.0\n"
     ]
    },
    {
     "name": "stderr",
     "output_type": "stream",
     "text": [
      "INFO - 21:42:35: EPOCH 432 - PROGRESS: at 63.79% examples, 980596 words/s, in_qsize 15, out_qsize 3\n",
      "INFO - 21:42:36: EPOCH 432: training on 2135928 raw words (1560665 effective words) took 1.5s, 1045820 effective words/s\n"
     ]
    },
    {
     "name": "stdout",
     "output_type": "stream",
     "text": [
      "Loss after epoch 432: 0.0\n"
     ]
    },
    {
     "name": "stderr",
     "output_type": "stream",
     "text": [
      "INFO - 21:42:37: EPOCH 433 - PROGRESS: at 71.89% examples, 1143646 words/s, in_qsize 15, out_qsize 0\n",
      "INFO - 21:42:37: EPOCH 433: training on 2135928 raw words (1561235 effective words) took 1.4s, 1134001 effective words/s\n"
     ]
    },
    {
     "name": "stdout",
     "output_type": "stream",
     "text": [
      "Loss after epoch 433: 0.0\n"
     ]
    },
    {
     "name": "stderr",
     "output_type": "stream",
     "text": [
      "INFO - 21:42:38: EPOCH 434 - PROGRESS: at 69.35% examples, 1097833 words/s, in_qsize 11, out_qsize 4\n",
      "INFO - 21:42:38: EPOCH 434: training on 2135928 raw words (1561291 effective words) took 1.4s, 1149881 effective words/s\n"
     ]
    },
    {
     "name": "stdout",
     "output_type": "stream",
     "text": [
      "Loss after epoch 434: 0.0\n"
     ]
    },
    {
     "name": "stderr",
     "output_type": "stream",
     "text": [
      "INFO - 21:42:39: EPOCH 435 - PROGRESS: at 72.31% examples, 1141778 words/s, in_qsize 15, out_qsize 0\n",
      "INFO - 21:42:40: EPOCH 435: training on 2135928 raw words (1561169 effective words) took 1.3s, 1177765 effective words/s\n"
     ]
    },
    {
     "name": "stdout",
     "output_type": "stream",
     "text": [
      "Loss after epoch 435: 0.0\n"
     ]
    },
    {
     "name": "stderr",
     "output_type": "stream",
     "text": [
      "INFO - 21:42:41: EPOCH 436 - PROGRESS: at 72.72% examples, 1144426 words/s, in_qsize 15, out_qsize 0\n",
      "INFO - 21:42:41: EPOCH 436: training on 2135928 raw words (1561503 effective words) took 1.3s, 1178331 effective words/s\n"
     ]
    },
    {
     "name": "stdout",
     "output_type": "stream",
     "text": [
      "Loss after epoch 436: 0.0\n"
     ]
    },
    {
     "name": "stderr",
     "output_type": "stream",
     "text": [
      "INFO - 21:42:42: EPOCH 437 - PROGRESS: at 70.63% examples, 1108353 words/s, in_qsize 15, out_qsize 0\n",
      "INFO - 21:42:43: EPOCH 437: training on 2135928 raw words (1560872 effective words) took 1.4s, 1099132 effective words/s\n"
     ]
    },
    {
     "name": "stdout",
     "output_type": "stream",
     "text": [
      "Loss after epoch 437: 0.0\n"
     ]
    },
    {
     "name": "stderr",
     "output_type": "stream",
     "text": [
      "INFO - 21:42:44: EPOCH 438 - PROGRESS: at 66.01% examples, 1033862 words/s, in_qsize 14, out_qsize 1\n",
      "INFO - 21:42:44: EPOCH 438: training on 2135928 raw words (1561125 effective words) took 1.5s, 1047721 effective words/s\n"
     ]
    },
    {
     "name": "stdout",
     "output_type": "stream",
     "text": [
      "Loss after epoch 438: 0.0\n"
     ]
    },
    {
     "name": "stderr",
     "output_type": "stream",
     "text": [
      "INFO - 21:42:45: EPOCH 439 - PROGRESS: at 66.48% examples, 1025792 words/s, in_qsize 15, out_qsize 0\n",
      "INFO - 21:42:46: EPOCH 439: training on 2135928 raw words (1561154 effective words) took 1.5s, 1040008 effective words/s\n"
     ]
    },
    {
     "name": "stdout",
     "output_type": "stream",
     "text": [
      "Loss after epoch 439: 0.0\n"
     ]
    },
    {
     "name": "stderr",
     "output_type": "stream",
     "text": [
      "INFO - 21:42:47: EPOCH 440 - PROGRESS: at 69.33% examples, 1096341 words/s, in_qsize 15, out_qsize 0\n",
      "INFO - 21:42:47: EPOCH 440: training on 2135928 raw words (1561500 effective words) took 1.5s, 1072111 effective words/s\n"
     ]
    },
    {
     "name": "stdout",
     "output_type": "stream",
     "text": [
      "Loss after epoch 440: 0.0\n"
     ]
    },
    {
     "name": "stderr",
     "output_type": "stream",
     "text": [
      "INFO - 21:42:48: EPOCH 441 - PROGRESS: at 65.11% examples, 1020658 words/s, in_qsize 16, out_qsize 0\n",
      "INFO - 21:42:48: EPOCH 441: training on 2135928 raw words (1561190 effective words) took 1.5s, 1067252 effective words/s\n"
     ]
    },
    {
     "name": "stdout",
     "output_type": "stream",
     "text": [
      "Loss after epoch 441: 0.0\n"
     ]
    },
    {
     "name": "stderr",
     "output_type": "stream",
     "text": [
      "INFO - 21:42:50: EPOCH 442 - PROGRESS: at 62.52% examples, 978095 words/s, in_qsize 16, out_qsize 0\n",
      "INFO - 21:42:50: EPOCH 442: training on 2135928 raw words (1561373 effective words) took 1.6s, 959205 effective words/s\n"
     ]
    },
    {
     "name": "stdout",
     "output_type": "stream",
     "text": [
      "Loss after epoch 442: 0.0\n"
     ]
    },
    {
     "name": "stderr",
     "output_type": "stream",
     "text": [
      "INFO - 21:42:51: EPOCH 443 - PROGRESS: at 54.57% examples, 846878 words/s, in_qsize 16, out_qsize 0\n",
      "INFO - 21:42:52: EPOCH 443: training on 2135928 raw words (1560643 effective words) took 1.7s, 913189 effective words/s\n"
     ]
    },
    {
     "name": "stdout",
     "output_type": "stream",
     "text": [
      "Loss after epoch 443: 0.0\n"
     ]
    },
    {
     "name": "stderr",
     "output_type": "stream",
     "text": [
      "INFO - 21:42:53: EPOCH 444 - PROGRESS: at 63.36% examples, 994697 words/s, in_qsize 14, out_qsize 1\n",
      "INFO - 21:42:53: EPOCH 444: training on 2135928 raw words (1561091 effective words) took 1.5s, 1046125 effective words/s\n"
     ]
    },
    {
     "name": "stdout",
     "output_type": "stream",
     "text": [
      "Loss after epoch 444: 0.0\n"
     ]
    },
    {
     "name": "stderr",
     "output_type": "stream",
     "text": [
      "INFO - 21:42:54: EPOCH 445 - PROGRESS: at 60.27% examples, 936458 words/s, in_qsize 15, out_qsize 0\n",
      "INFO - 21:42:55: EPOCH 445: training on 2135928 raw words (1560987 effective words) took 1.7s, 943789 effective words/s\n"
     ]
    },
    {
     "name": "stdout",
     "output_type": "stream",
     "text": [
      "Loss after epoch 445: 0.0\n"
     ]
    },
    {
     "name": "stderr",
     "output_type": "stream",
     "text": [
      "INFO - 21:42:56: EPOCH 446 - PROGRESS: at 62.52% examples, 980986 words/s, in_qsize 16, out_qsize 0\n",
      "INFO - 21:42:57: EPOCH 446: training on 2135928 raw words (1561237 effective words) took 1.5s, 1029484 effective words/s\n"
     ]
    },
    {
     "name": "stdout",
     "output_type": "stream",
     "text": [
      "Loss after epoch 446: 0.0\n"
     ]
    },
    {
     "name": "stderr",
     "output_type": "stream",
     "text": [
      "INFO - 21:42:58: EPOCH 447 - PROGRESS: at 58.41% examples, 904733 words/s, in_qsize 15, out_qsize 0\n",
      "INFO - 21:42:58: EPOCH 447: training on 2135928 raw words (1561702 effective words) took 1.8s, 879212 effective words/s\n"
     ]
    },
    {
     "name": "stdout",
     "output_type": "stream",
     "text": [
      "Loss after epoch 447: 0.0\n"
     ]
    },
    {
     "name": "stderr",
     "output_type": "stream",
     "text": [
      "INFO - 21:42:59: EPOCH 448 - PROGRESS: at 57.06% examples, 888712 words/s, in_qsize 15, out_qsize 0\n",
      "INFO - 21:43:00: EPOCH 448: training on 2135928 raw words (1560667 effective words) took 1.6s, 996079 effective words/s\n"
     ]
    },
    {
     "name": "stdout",
     "output_type": "stream",
     "text": [
      "Loss after epoch 448: 0.0\n"
     ]
    },
    {
     "name": "stderr",
     "output_type": "stream",
     "text": [
      "INFO - 21:43:01: EPOCH 449 - PROGRESS: at 68.14% examples, 1077090 words/s, in_qsize 15, out_qsize 1\n",
      "INFO - 21:43:01: EPOCH 449: training on 2135928 raw words (1561661 effective words) took 1.4s, 1132698 effective words/s\n"
     ]
    },
    {
     "name": "stdout",
     "output_type": "stream",
     "text": [
      "Loss after epoch 449: 0.0\n"
     ]
    },
    {
     "name": "stderr",
     "output_type": "stream",
     "text": [
      "INFO - 21:43:02: EPOCH 450 - PROGRESS: at 62.94% examples, 982245 words/s, in_qsize 13, out_qsize 2\n",
      "INFO - 21:43:03: EPOCH 450: training on 2135928 raw words (1561296 effective words) took 1.5s, 1030346 effective words/s\n"
     ]
    },
    {
     "name": "stdout",
     "output_type": "stream",
     "text": [
      "Loss after epoch 450: 0.0\n"
     ]
    },
    {
     "name": "stderr",
     "output_type": "stream",
     "text": [
      "INFO - 21:43:04: EPOCH 451 - PROGRESS: at 62.93% examples, 977131 words/s, in_qsize 16, out_qsize 1\n",
      "INFO - 21:43:04: EPOCH 451: training on 2135928 raw words (1561494 effective words) took 1.5s, 1021476 effective words/s\n"
     ]
    },
    {
     "name": "stdout",
     "output_type": "stream",
     "text": [
      "Loss after epoch 451: 0.0\n"
     ]
    },
    {
     "name": "stderr",
     "output_type": "stream",
     "text": [
      "INFO - 21:43:05: EPOCH 452 - PROGRESS: at 61.22% examples, 956221 words/s, in_qsize 14, out_qsize 1\n",
      "INFO - 21:43:06: EPOCH 452: training on 2135928 raw words (1561362 effective words) took 1.5s, 1018763 effective words/s\n"
     ]
    },
    {
     "name": "stdout",
     "output_type": "stream",
     "text": [
      "Loss after epoch 452: 0.0\n"
     ]
    },
    {
     "name": "stderr",
     "output_type": "stream",
     "text": [
      "INFO - 21:43:07: EPOCH 453 - PROGRESS: at 65.56% examples, 1018559 words/s, in_qsize 15, out_qsize 0\n",
      "INFO - 21:43:07: EPOCH 453: training on 2135928 raw words (1561586 effective words) took 1.5s, 1063149 effective words/s\n"
     ]
    },
    {
     "name": "stdout",
     "output_type": "stream",
     "text": [
      "Loss after epoch 453: 0.0\n"
     ]
    },
    {
     "name": "stderr",
     "output_type": "stream",
     "text": [
      "INFO - 21:43:08: EPOCH 454 - PROGRESS: at 69.78% examples, 1100487 words/s, in_qsize 16, out_qsize 1\n",
      "INFO - 21:43:09: EPOCH 454: training on 2135928 raw words (1561453 effective words) took 1.4s, 1120040 effective words/s\n"
     ]
    },
    {
     "name": "stdout",
     "output_type": "stream",
     "text": [
      "Loss after epoch 454: 0.0\n"
     ]
    },
    {
     "name": "stderr",
     "output_type": "stream",
     "text": [
      "INFO - 21:43:10: EPOCH 455 - PROGRESS: at 63.78% examples, 993951 words/s, in_qsize 15, out_qsize 0\n",
      "INFO - 21:43:10: EPOCH 455: training on 2135928 raw words (1561082 effective words) took 1.5s, 1021736 effective words/s\n"
     ]
    },
    {
     "name": "stdout",
     "output_type": "stream",
     "text": [
      "Loss after epoch 455: 0.0\n"
     ]
    },
    {
     "name": "stderr",
     "output_type": "stream",
     "text": [
      "INFO - 21:43:11: EPOCH 456 - PROGRESS: at 62.08% examples, 959925 words/s, in_qsize 16, out_qsize 1\n",
      "INFO - 21:43:12: EPOCH 456: training on 2135928 raw words (1561167 effective words) took 1.5s, 1013492 effective words/s\n"
     ]
    },
    {
     "name": "stdout",
     "output_type": "stream",
     "text": [
      "Loss after epoch 456: 0.0\n"
     ]
    },
    {
     "name": "stderr",
     "output_type": "stream",
     "text": [
      "INFO - 21:43:13: EPOCH 457 - PROGRESS: at 66.93% examples, 1048590 words/s, in_qsize 15, out_qsize 0\n",
      "INFO - 21:43:13: EPOCH 457: training on 2135928 raw words (1560402 effective words) took 1.5s, 1061294 effective words/s\n"
     ]
    },
    {
     "name": "stdout",
     "output_type": "stream",
     "text": [
      "Loss after epoch 457: 0.0\n"
     ]
    },
    {
     "name": "stderr",
     "output_type": "stream",
     "text": [
      "INFO - 21:43:14: EPOCH 458 - PROGRESS: at 60.77% examples, 942102 words/s, in_qsize 15, out_qsize 0\n",
      "INFO - 21:43:15: EPOCH 458: training on 2135928 raw words (1561264 effective words) took 1.6s, 973124 effective words/s\n"
     ]
    },
    {
     "name": "stdout",
     "output_type": "stream",
     "text": [
      "Loss after epoch 458: 0.0\n"
     ]
    },
    {
     "name": "stderr",
     "output_type": "stream",
     "text": [
      "INFO - 21:43:16: EPOCH 459 - PROGRESS: at 64.23% examples, 994386 words/s, in_qsize 15, out_qsize 0\n",
      "INFO - 21:43:16: EPOCH 459: training on 2135928 raw words (1561351 effective words) took 1.5s, 1019934 effective words/s\n"
     ]
    },
    {
     "name": "stdout",
     "output_type": "stream",
     "text": [
      "Loss after epoch 459: 0.0\n"
     ]
    },
    {
     "name": "stderr",
     "output_type": "stream",
     "text": [
      "INFO - 21:43:18: EPOCH 460 - PROGRESS: at 66.46% examples, 1042008 words/s, in_qsize 14, out_qsize 1\n",
      "INFO - 21:43:18: EPOCH 460: training on 2135928 raw words (1561029 effective words) took 1.4s, 1110270 effective words/s\n"
     ]
    },
    {
     "name": "stdout",
     "output_type": "stream",
     "text": [
      "Loss after epoch 460: 0.0\n"
     ]
    },
    {
     "name": "stderr",
     "output_type": "stream",
     "text": [
      "INFO - 21:43:19: EPOCH 461 - PROGRESS: at 68.93% examples, 1085669 words/s, in_qsize 15, out_qsize 0\n",
      "INFO - 21:43:19: EPOCH 461: training on 2135928 raw words (1561667 effective words) took 1.4s, 1140439 effective words/s\n"
     ]
    },
    {
     "name": "stdout",
     "output_type": "stream",
     "text": [
      "Loss after epoch 461: 0.0\n"
     ]
    },
    {
     "name": "stderr",
     "output_type": "stream",
     "text": [
      "INFO - 21:43:20: EPOCH 462 - PROGRESS: at 74.40% examples, 1176335 words/s, in_qsize 16, out_qsize 0\n",
      "INFO - 21:43:21: EPOCH 462: training on 2135928 raw words (1561635 effective words) took 1.3s, 1195847 effective words/s\n"
     ]
    },
    {
     "name": "stdout",
     "output_type": "stream",
     "text": [
      "Loss after epoch 462: 0.0\n"
     ]
    },
    {
     "name": "stderr",
     "output_type": "stream",
     "text": [
      "INFO - 21:43:22: EPOCH 463 - PROGRESS: at 72.31% examples, 1149578 words/s, in_qsize 16, out_qsize 0\n",
      "INFO - 21:43:22: EPOCH 463: training on 2135928 raw words (1560803 effective words) took 1.3s, 1171621 effective words/s\n"
     ]
    },
    {
     "name": "stdout",
     "output_type": "stream",
     "text": [
      "Loss after epoch 463: 0.0\n"
     ]
    },
    {
     "name": "stderr",
     "output_type": "stream",
     "text": [
      "INFO - 21:43:23: EPOCH 464 - PROGRESS: at 71.46% examples, 1133528 words/s, in_qsize 15, out_qsize 0\n",
      "INFO - 21:43:23: EPOCH 464: training on 2135928 raw words (1561775 effective words) took 1.3s, 1169554 effective words/s\n"
     ]
    },
    {
     "name": "stdout",
     "output_type": "stream",
     "text": [
      "Loss after epoch 464: 0.0\n"
     ]
    },
    {
     "name": "stderr",
     "output_type": "stream",
     "text": [
      "INFO - 21:43:24: EPOCH 465 - PROGRESS: at 73.54% examples, 1171991 words/s, in_qsize 15, out_qsize 0\n",
      "INFO - 21:43:25: EPOCH 465: training on 2135928 raw words (1561547 effective words) took 1.3s, 1198159 effective words/s\n"
     ]
    },
    {
     "name": "stdout",
     "output_type": "stream",
     "text": [
      "Loss after epoch 465: 0.0\n"
     ]
    },
    {
     "name": "stderr",
     "output_type": "stream",
     "text": [
      "INFO - 21:43:26: EPOCH 466 - PROGRESS: at 69.34% examples, 1097102 words/s, in_qsize 15, out_qsize 0\n",
      "INFO - 21:43:26: EPOCH 466: training on 2135928 raw words (1560688 effective words) took 1.4s, 1147693 effective words/s\n"
     ]
    },
    {
     "name": "stdout",
     "output_type": "stream",
     "text": [
      "Loss after epoch 466: 0.0\n"
     ]
    },
    {
     "name": "stderr",
     "output_type": "stream",
     "text": [
      "INFO - 21:43:27: EPOCH 467 - PROGRESS: at 71.89% examples, 1142686 words/s, in_qsize 15, out_qsize 1\n",
      "INFO - 21:43:27: EPOCH 467: training on 2135928 raw words (1561376 effective words) took 1.3s, 1172022 effective words/s\n"
     ]
    },
    {
     "name": "stdout",
     "output_type": "stream",
     "text": [
      "Loss after epoch 467: 0.0\n"
     ]
    },
    {
     "name": "stderr",
     "output_type": "stream",
     "text": [
      "INFO - 21:43:28: EPOCH 468 - PROGRESS: at 75.26% examples, 1175691 words/s, in_qsize 15, out_qsize 0\n",
      "INFO - 21:43:29: EPOCH 468: training on 2135928 raw words (1561048 effective words) took 1.3s, 1219767 effective words/s\n"
     ]
    },
    {
     "name": "stdout",
     "output_type": "stream",
     "text": [
      "Loss after epoch 468: 0.0\n"
     ]
    },
    {
     "name": "stderr",
     "output_type": "stream",
     "text": [
      "INFO - 21:43:30: EPOCH 469 - PROGRESS: at 73.54% examples, 1151759 words/s, in_qsize 15, out_qsize 0\n",
      "INFO - 21:43:30: EPOCH 469: training on 2135928 raw words (1560917 effective words) took 1.3s, 1195281 effective words/s\n"
     ]
    },
    {
     "name": "stdout",
     "output_type": "stream",
     "text": [
      "Loss after epoch 469: 0.0\n"
     ]
    },
    {
     "name": "stderr",
     "output_type": "stream",
     "text": [
      "INFO - 21:43:31: EPOCH 470 - PROGRESS: at 72.71% examples, 1155919 words/s, in_qsize 14, out_qsize 1\n",
      "INFO - 21:43:31: EPOCH 470: training on 2135928 raw words (1560365 effective words) took 1.3s, 1184296 effective words/s\n"
     ]
    },
    {
     "name": "stdout",
     "output_type": "stream",
     "text": [
      "Loss after epoch 470: 0.0\n"
     ]
    },
    {
     "name": "stderr",
     "output_type": "stream",
     "text": [
      "INFO - 21:43:32: EPOCH 471 - PROGRESS: at 72.71% examples, 1154984 words/s, in_qsize 15, out_qsize 0\n",
      "INFO - 21:43:33: EPOCH 471: training on 2135928 raw words (1560594 effective words) took 1.3s, 1177033 effective words/s\n"
     ]
    },
    {
     "name": "stdout",
     "output_type": "stream",
     "text": [
      "Loss after epoch 471: 0.0\n"
     ]
    },
    {
     "name": "stderr",
     "output_type": "stream",
     "text": [
      "INFO - 21:43:34: EPOCH 472 - PROGRESS: at 72.72% examples, 1157398 words/s, in_qsize 15, out_qsize 0\n",
      "INFO - 21:43:34: EPOCH 472: training on 2135928 raw words (1561147 effective words) took 1.3s, 1187837 effective words/s\n"
     ]
    },
    {
     "name": "stdout",
     "output_type": "stream",
     "text": [
      "Loss after epoch 472: 0.0\n"
     ]
    },
    {
     "name": "stderr",
     "output_type": "stream",
     "text": [
      "INFO - 21:43:35: EPOCH 473 - PROGRESS: at 72.72% examples, 1142838 words/s, in_qsize 15, out_qsize 0\n",
      "INFO - 21:43:35: EPOCH 473: training on 2135928 raw words (1561200 effective words) took 1.3s, 1191121 effective words/s\n"
     ]
    },
    {
     "name": "stdout",
     "output_type": "stream",
     "text": [
      "Loss after epoch 473: 0.0\n"
     ]
    },
    {
     "name": "stderr",
     "output_type": "stream",
     "text": [
      "INFO - 21:43:36: EPOCH 474 - PROGRESS: at 66.87% examples, 1045759 words/s, in_qsize 14, out_qsize 1\n",
      "INFO - 21:43:37: EPOCH 474: training on 2135928 raw words (1560914 effective words) took 1.5s, 1053433 effective words/s\n"
     ]
    },
    {
     "name": "stdout",
     "output_type": "stream",
     "text": [
      "Loss after epoch 474: 0.0\n"
     ]
    },
    {
     "name": "stderr",
     "output_type": "stream",
     "text": [
      "INFO - 21:43:38: EPOCH 475 - PROGRESS: at 65.95% examples, 1039394 words/s, in_qsize 15, out_qsize 0\n",
      "INFO - 21:43:38: EPOCH 475: training on 2135928 raw words (1561232 effective words) took 1.4s, 1108120 effective words/s\n"
     ]
    },
    {
     "name": "stdout",
     "output_type": "stream",
     "text": [
      "Loss after epoch 475: 0.0\n"
     ]
    },
    {
     "name": "stderr",
     "output_type": "stream",
     "text": [
      "INFO - 21:43:39: EPOCH 476 - PROGRESS: at 70.63% examples, 1116771 words/s, in_qsize 15, out_qsize 0\n",
      "INFO - 21:43:39: EPOCH 476: training on 2135928 raw words (1561465 effective words) took 1.3s, 1164417 effective words/s\n"
     ]
    },
    {
     "name": "stdout",
     "output_type": "stream",
     "text": [
      "Loss after epoch 476: 0.0\n"
     ]
    },
    {
     "name": "stderr",
     "output_type": "stream",
     "text": [
      "INFO - 21:43:41: EPOCH 477 - PROGRESS: at 73.55% examples, 1156138 words/s, in_qsize 14, out_qsize 1\n",
      "INFO - 21:43:41: EPOCH 477: training on 2135928 raw words (1561573 effective words) took 1.3s, 1190863 effective words/s\n"
     ]
    },
    {
     "name": "stdout",
     "output_type": "stream",
     "text": [
      "Loss after epoch 477: 0.0\n"
     ]
    },
    {
     "name": "stderr",
     "output_type": "stream",
     "text": [
      "INFO - 21:43:42: EPOCH 478 - PROGRESS: at 73.95% examples, 1172577 words/s, in_qsize 16, out_qsize 0\n",
      "INFO - 21:43:42: EPOCH 478: training on 2135928 raw words (1560946 effective words) took 1.3s, 1194028 effective words/s\n"
     ]
    },
    {
     "name": "stdout",
     "output_type": "stream",
     "text": [
      "Loss after epoch 478: 0.0\n"
     ]
    },
    {
     "name": "stderr",
     "output_type": "stream",
     "text": [
      "INFO - 21:43:43: EPOCH 479 - PROGRESS: at 70.63% examples, 1116002 words/s, in_qsize 15, out_qsize 0\n",
      "INFO - 21:43:44: EPOCH 479: training on 2135928 raw words (1561384 effective words) took 1.4s, 1143229 effective words/s\n"
     ]
    },
    {
     "name": "stdout",
     "output_type": "stream",
     "text": [
      "Loss after epoch 479: 0.0\n"
     ]
    },
    {
     "name": "stderr",
     "output_type": "stream",
     "text": [
      "INFO - 21:43:45: EPOCH 480 - PROGRESS: at 72.31% examples, 1150130 words/s, in_qsize 15, out_qsize 0\n",
      "INFO - 21:43:45: EPOCH 480: training on 2135928 raw words (1560585 effective words) took 1.3s, 1158688 effective words/s\n"
     ]
    },
    {
     "name": "stdout",
     "output_type": "stream",
     "text": [
      "Loss after epoch 480: 0.0\n"
     ]
    },
    {
     "name": "stderr",
     "output_type": "stream",
     "text": [
      "INFO - 21:43:46: EPOCH 481 - PROGRESS: at 73.54% examples, 1161457 words/s, in_qsize 15, out_qsize 0\n",
      "INFO - 21:43:46: EPOCH 481: training on 2135928 raw words (1560867 effective words) took 1.3s, 1169180 effective words/s\n"
     ]
    },
    {
     "name": "stdout",
     "output_type": "stream",
     "text": [
      "Loss after epoch 481: 0.0\n"
     ]
    },
    {
     "name": "stderr",
     "output_type": "stream",
     "text": [
      "INFO - 21:43:47: EPOCH 482 - PROGRESS: at 73.99% examples, 1160134 words/s, in_qsize 15, out_qsize 0\n",
      "INFO - 21:43:48: EPOCH 482: training on 2135928 raw words (1560697 effective words) took 1.3s, 1178928 effective words/s\n"
     ]
    },
    {
     "name": "stdout",
     "output_type": "stream",
     "text": [
      "Loss after epoch 482: 0.0\n"
     ]
    },
    {
     "name": "stderr",
     "output_type": "stream",
     "text": [
      "INFO - 21:43:49: EPOCH 483 - PROGRESS: at 74.40% examples, 1183712 words/s, in_qsize 16, out_qsize 0\n",
      "INFO - 21:43:49: EPOCH 483: training on 2135928 raw words (1561332 effective words) took 1.3s, 1203081 effective words/s\n"
     ]
    },
    {
     "name": "stdout",
     "output_type": "stream",
     "text": [
      "Loss after epoch 483: 0.0\n"
     ]
    },
    {
     "name": "stderr",
     "output_type": "stream",
     "text": [
      "INFO - 21:43:50: EPOCH 484 - PROGRESS: at 71.89% examples, 1129030 words/s, in_qsize 15, out_qsize 1\n",
      "INFO - 21:43:50: EPOCH 484: training on 2135928 raw words (1560657 effective words) took 1.4s, 1149143 effective words/s\n"
     ]
    },
    {
     "name": "stdout",
     "output_type": "stream",
     "text": [
      "Loss after epoch 484: 0.0\n"
     ]
    },
    {
     "name": "stderr",
     "output_type": "stream",
     "text": [
      "INFO - 21:43:51: EPOCH 485 - PROGRESS: at 63.80% examples, 979409 words/s, in_qsize 13, out_qsize 2\n",
      "INFO - 21:43:52: EPOCH 485: training on 2135928 raw words (1561598 effective words) took 1.5s, 1021526 effective words/s\n"
     ]
    },
    {
     "name": "stdout",
     "output_type": "stream",
     "text": [
      "Loss after epoch 485: 0.0\n"
     ]
    },
    {
     "name": "stderr",
     "output_type": "stream",
     "text": [
      "INFO - 21:43:53: EPOCH 486 - PROGRESS: at 64.22% examples, 1008513 words/s, in_qsize 15, out_qsize 0\n",
      "INFO - 21:43:53: EPOCH 486: training on 2135928 raw words (1561561 effective words) took 1.5s, 1048490 effective words/s\n"
     ]
    },
    {
     "name": "stdout",
     "output_type": "stream",
     "text": [
      "Loss after epoch 486: 0.0\n"
     ]
    },
    {
     "name": "stderr",
     "output_type": "stream",
     "text": [
      "INFO - 21:43:54: EPOCH 487 - PROGRESS: at 65.56% examples, 1019291 words/s, in_qsize 15, out_qsize 0\n",
      "INFO - 21:43:55: EPOCH 487: training on 2135928 raw words (1561401 effective words) took 1.5s, 1074907 effective words/s\n"
     ]
    },
    {
     "name": "stdout",
     "output_type": "stream",
     "text": [
      "Loss after epoch 487: 0.0\n"
     ]
    },
    {
     "name": "stderr",
     "output_type": "stream",
     "text": [
      "INFO - 21:43:56: EPOCH 488 - PROGRESS: at 64.67% examples, 1002036 words/s, in_qsize 14, out_qsize 1\n",
      "INFO - 21:43:56: EPOCH 488: training on 2135928 raw words (1560210 effective words) took 1.5s, 1067034 effective words/s\n"
     ]
    },
    {
     "name": "stdout",
     "output_type": "stream",
     "text": [
      "Loss after epoch 488: 0.0\n"
     ]
    },
    {
     "name": "stderr",
     "output_type": "stream",
     "text": [
      "INFO - 21:43:57: EPOCH 489 - PROGRESS: at 64.22% examples, 1006301 words/s, in_qsize 16, out_qsize 0\n",
      "INFO - 21:43:58: EPOCH 489: training on 2135928 raw words (1560925 effective words) took 1.5s, 1050468 effective words/s\n"
     ]
    },
    {
     "name": "stdout",
     "output_type": "stream",
     "text": [
      "Loss after epoch 489: 0.0\n"
     ]
    },
    {
     "name": "stderr",
     "output_type": "stream",
     "text": [
      "INFO - 21:43:59: EPOCH 490 - PROGRESS: at 64.67% examples, 1010342 words/s, in_qsize 15, out_qsize 0\n",
      "INFO - 21:43:59: EPOCH 490: training on 2135928 raw words (1561643 effective words) took 1.4s, 1085131 effective words/s\n"
     ]
    },
    {
     "name": "stdout",
     "output_type": "stream",
     "text": [
      "Loss after epoch 490: 0.0\n"
     ]
    },
    {
     "name": "stderr",
     "output_type": "stream",
     "text": [
      "INFO - 21:44:00: EPOCH 491 - PROGRESS: at 68.52% examples, 1078357 words/s, in_qsize 15, out_qsize 1\n",
      "INFO - 21:44:00: EPOCH 491: training on 2135928 raw words (1561250 effective words) took 1.4s, 1148259 effective words/s\n"
     ]
    },
    {
     "name": "stdout",
     "output_type": "stream",
     "text": [
      "Loss after epoch 491: 0.0\n"
     ]
    },
    {
     "name": "stderr",
     "output_type": "stream",
     "text": [
      "INFO - 21:44:02: EPOCH 492 - PROGRESS: at 69.78% examples, 1101085 words/s, in_qsize 13, out_qsize 2\n",
      "INFO - 21:44:02: EPOCH 492: training on 2135928 raw words (1561349 effective words) took 1.4s, 1131419 effective words/s\n"
     ]
    },
    {
     "name": "stdout",
     "output_type": "stream",
     "text": [
      "Loss after epoch 492: 0.0\n"
     ]
    },
    {
     "name": "stderr",
     "output_type": "stream",
     "text": [
      "INFO - 21:44:03: EPOCH 493 - PROGRESS: at 73.95% examples, 1165944 words/s, in_qsize 15, out_qsize 0\n",
      "INFO - 21:44:03: EPOCH 493: training on 2135928 raw words (1560865 effective words) took 1.3s, 1178888 effective words/s\n"
     ]
    },
    {
     "name": "stdout",
     "output_type": "stream",
     "text": [
      "Loss after epoch 493: 0.0\n"
     ]
    },
    {
     "name": "stderr",
     "output_type": "stream",
     "text": [
      "INFO - 21:44:04: EPOCH 494 - PROGRESS: at 73.95% examples, 1172674 words/s, in_qsize 16, out_qsize 1\n",
      "INFO - 21:44:05: EPOCH 494: training on 2135928 raw words (1560330 effective words) took 1.3s, 1206420 effective words/s\n"
     ]
    },
    {
     "name": "stdout",
     "output_type": "stream",
     "text": [
      "Loss after epoch 494: 0.0\n"
     ]
    },
    {
     "name": "stderr",
     "output_type": "stream",
     "text": [
      "INFO - 21:44:06: EPOCH 495 - PROGRESS: at 72.30% examples, 1151794 words/s, in_qsize 15, out_qsize 1\n",
      "INFO - 21:44:06: EPOCH 495: training on 2135928 raw words (1561837 effective words) took 1.3s, 1196673 effective words/s\n"
     ]
    },
    {
     "name": "stdout",
     "output_type": "stream",
     "text": [
      "Loss after epoch 495: 0.0\n"
     ]
    },
    {
     "name": "stderr",
     "output_type": "stream",
     "text": [
      "INFO - 21:44:07: EPOCH 496 - PROGRESS: at 71.03% examples, 1123910 words/s, in_qsize 16, out_qsize 0\n",
      "INFO - 21:44:07: EPOCH 496: training on 2135928 raw words (1560876 effective words) took 1.3s, 1166429 effective words/s\n"
     ]
    },
    {
     "name": "stdout",
     "output_type": "stream",
     "text": [
      "Loss after epoch 496: 0.0\n"
     ]
    },
    {
     "name": "stderr",
     "output_type": "stream",
     "text": [
      "INFO - 21:44:08: EPOCH 497 - PROGRESS: at 72.72% examples, 1151208 words/s, in_qsize 15, out_qsize 0\n",
      "INFO - 21:44:09: EPOCH 497: training on 2135928 raw words (1561566 effective words) took 1.3s, 1168256 effective words/s\n"
     ]
    },
    {
     "name": "stdout",
     "output_type": "stream",
     "text": [
      "Loss after epoch 497: 0.0\n"
     ]
    },
    {
     "name": "stderr",
     "output_type": "stream",
     "text": [
      "INFO - 21:44:10: EPOCH 498 - PROGRESS: at 70.62% examples, 1115887 words/s, in_qsize 16, out_qsize 0\n",
      "INFO - 21:44:10: EPOCH 498: training on 2135928 raw words (1561702 effective words) took 1.4s, 1152986 effective words/s\n"
     ]
    },
    {
     "name": "stdout",
     "output_type": "stream",
     "text": [
      "Loss after epoch 498: 0.0\n"
     ]
    },
    {
     "name": "stderr",
     "output_type": "stream",
     "text": [
      "INFO - 21:44:11: EPOCH 499 - PROGRESS: at 73.54% examples, 1161381 words/s, in_qsize 16, out_qsize 0\n",
      "INFO - 21:44:11: EPOCH 499: training on 2135928 raw words (1561081 effective words) took 1.3s, 1184619 effective words/s\n"
     ]
    },
    {
     "name": "stdout",
     "output_type": "stream",
     "text": [
      "Loss after epoch 499: 0.0\n"
     ]
    },
    {
     "name": "stderr",
     "output_type": "stream",
     "text": [
      "INFO - 21:44:12: EPOCH 500 - PROGRESS: at 70.63% examples, 1119462 words/s, in_qsize 14, out_qsize 1\n",
      "INFO - 21:44:13: EPOCH 500: training on 2135928 raw words (1561598 effective words) took 1.3s, 1168113 effective words/s\n"
     ]
    },
    {
     "name": "stdout",
     "output_type": "stream",
     "text": [
      "Loss after epoch 500: 0.0\n"
     ]
    },
    {
     "name": "stderr",
     "output_type": "stream",
     "text": [
      "INFO - 21:44:14: EPOCH 501 - PROGRESS: at 72.31% examples, 1144882 words/s, in_qsize 15, out_qsize 0\n",
      "INFO - 21:44:14: EPOCH 501: training on 2135928 raw words (1561532 effective words) took 1.3s, 1175677 effective words/s\n"
     ]
    },
    {
     "name": "stdout",
     "output_type": "stream",
     "text": [
      "Loss after epoch 501: 0.0\n"
     ]
    },
    {
     "name": "stderr",
     "output_type": "stream",
     "text": [
      "INFO - 21:44:15: EPOCH 502 - PROGRESS: at 72.72% examples, 1158588 words/s, in_qsize 15, out_qsize 0\n",
      "INFO - 21:44:15: EPOCH 502: training on 2135928 raw words (1561374 effective words) took 1.3s, 1174440 effective words/s\n"
     ]
    },
    {
     "name": "stdout",
     "output_type": "stream",
     "text": [
      "Loss after epoch 502: 0.0\n"
     ]
    },
    {
     "name": "stderr",
     "output_type": "stream",
     "text": [
      "INFO - 21:44:16: EPOCH 503 - PROGRESS: at 64.66% examples, 1004709 words/s, in_qsize 14, out_qsize 1\n",
      "INFO - 21:44:17: EPOCH 503: training on 2135928 raw words (1561254 effective words) took 1.5s, 1032386 effective words/s\n"
     ]
    },
    {
     "name": "stdout",
     "output_type": "stream",
     "text": [
      "Loss after epoch 503: 0.0\n"
     ]
    },
    {
     "name": "stderr",
     "output_type": "stream",
     "text": [
      "INFO - 21:44:18: EPOCH 504 - PROGRESS: at 64.67% examples, 1017459 words/s, in_qsize 16, out_qsize 0\n",
      "INFO - 21:44:18: EPOCH 504: training on 2135928 raw words (1561184 effective words) took 1.5s, 1055077 effective words/s\n"
     ]
    },
    {
     "name": "stdout",
     "output_type": "stream",
     "text": [
      "Loss after epoch 504: 0.0\n"
     ]
    },
    {
     "name": "stderr",
     "output_type": "stream",
     "text": [
      "INFO - 21:44:19: EPOCH 505 - PROGRESS: at 61.66% examples, 963087 words/s, in_qsize 15, out_qsize 0\n",
      "INFO - 21:44:20: EPOCH 505: training on 2135928 raw words (1560948 effective words) took 1.6s, 984921 effective words/s\n"
     ]
    },
    {
     "name": "stdout",
     "output_type": "stream",
     "text": [
      "Loss after epoch 505: 0.0\n"
     ]
    },
    {
     "name": "stderr",
     "output_type": "stream",
     "text": [
      "INFO - 21:44:21: EPOCH 506 - PROGRESS: at 64.22% examples, 999952 words/s, in_qsize 14, out_qsize 1\n",
      "INFO - 21:44:21: EPOCH 506: training on 2135928 raw words (1561122 effective words) took 1.5s, 1029300 effective words/s\n"
     ]
    },
    {
     "name": "stdout",
     "output_type": "stream",
     "text": [
      "Loss after epoch 506: 0.0\n"
     ]
    },
    {
     "name": "stderr",
     "output_type": "stream",
     "text": [
      "INFO - 21:44:22: EPOCH 507 - PROGRESS: at 64.66% examples, 1002392 words/s, in_qsize 15, out_qsize 0\n",
      "INFO - 21:44:23: EPOCH 507: training on 2135928 raw words (1561303 effective words) took 1.4s, 1078529 effective words/s\n"
     ]
    },
    {
     "name": "stdout",
     "output_type": "stream",
     "text": [
      "Loss after epoch 507: 0.0\n"
     ]
    },
    {
     "name": "stderr",
     "output_type": "stream",
     "text": [
      "INFO - 21:44:24: EPOCH 508 - PROGRESS: at 67.72% examples, 1068792 words/s, in_qsize 15, out_qsize 0\n",
      "INFO - 21:44:24: EPOCH 508: training on 2135928 raw words (1561320 effective words) took 1.4s, 1115906 effective words/s\n"
     ]
    },
    {
     "name": "stdout",
     "output_type": "stream",
     "text": [
      "Loss after epoch 508: 0.0\n"
     ]
    },
    {
     "name": "stderr",
     "output_type": "stream",
     "text": [
      "INFO - 21:44:25: EPOCH 509 - PROGRESS: at 74.38% examples, 1176788 words/s, in_qsize 15, out_qsize 0\n",
      "INFO - 21:44:26: EPOCH 509: training on 2135928 raw words (1560424 effective words) took 1.3s, 1200330 effective words/s\n"
     ]
    },
    {
     "name": "stdout",
     "output_type": "stream",
     "text": [
      "Loss after epoch 509: 0.0\n"
     ]
    },
    {
     "name": "stderr",
     "output_type": "stream",
     "text": [
      "INFO - 21:44:27: EPOCH 510 - PROGRESS: at 73.54% examples, 1164009 words/s, in_qsize 16, out_qsize 1\n",
      "INFO - 21:44:27: EPOCH 510: training on 2135928 raw words (1561276 effective words) took 1.3s, 1187675 effective words/s\n"
     ]
    },
    {
     "name": "stdout",
     "output_type": "stream",
     "text": [
      "Loss after epoch 510: 0.0\n"
     ]
    },
    {
     "name": "stderr",
     "output_type": "stream",
     "text": [
      "INFO - 21:44:28: EPOCH 511 - PROGRESS: at 71.03% examples, 1122814 words/s, in_qsize 16, out_qsize 0\n",
      "INFO - 21:44:28: EPOCH 511: training on 2135928 raw words (1561299 effective words) took 1.3s, 1172751 effective words/s\n"
     ]
    },
    {
     "name": "stdout",
     "output_type": "stream",
     "text": [
      "Loss after epoch 511: 0.0\n"
     ]
    },
    {
     "name": "stderr",
     "output_type": "stream",
     "text": [
      "INFO - 21:44:29: EPOCH 512 - PROGRESS: at 72.72% examples, 1158227 words/s, in_qsize 15, out_qsize 0\n",
      "INFO - 21:44:30: EPOCH 512: training on 2135928 raw words (1561129 effective words) took 1.3s, 1195687 effective words/s\n"
     ]
    },
    {
     "name": "stdout",
     "output_type": "stream",
     "text": [
      "Loss after epoch 512: 0.0\n"
     ]
    },
    {
     "name": "stderr",
     "output_type": "stream",
     "text": [
      "INFO - 21:44:31: EPOCH 513 - PROGRESS: at 73.54% examples, 1160372 words/s, in_qsize 15, out_qsize 0\n",
      "INFO - 21:44:31: EPOCH 513: training on 2135928 raw words (1560810 effective words) took 1.3s, 1198185 effective words/s\n"
     ]
    },
    {
     "name": "stdout",
     "output_type": "stream",
     "text": [
      "Loss after epoch 513: 0.0\n"
     ]
    },
    {
     "name": "stderr",
     "output_type": "stream",
     "text": [
      "INFO - 21:44:32: EPOCH 514 - PROGRESS: at 66.01% examples, 1038857 words/s, in_qsize 15, out_qsize 0\n",
      "INFO - 21:44:32: EPOCH 514: training on 2135928 raw words (1561223 effective words) took 1.5s, 1056409 effective words/s\n"
     ]
    },
    {
     "name": "stdout",
     "output_type": "stream",
     "text": [
      "Loss after epoch 514: 0.0\n"
     ]
    },
    {
     "name": "stderr",
     "output_type": "stream",
     "text": [
      "INFO - 21:44:33: EPOCH 515 - PROGRESS: at 62.52% examples, 980860 words/s, in_qsize 15, out_qsize 0\n",
      "INFO - 21:44:34: EPOCH 515: training on 2135928 raw words (1561200 effective words) took 1.5s, 1061037 effective words/s\n"
     ]
    },
    {
     "name": "stdout",
     "output_type": "stream",
     "text": [
      "Loss after epoch 515: 0.0\n"
     ]
    },
    {
     "name": "stderr",
     "output_type": "stream",
     "text": [
      "INFO - 21:44:35: EPOCH 516 - PROGRESS: at 71.46% examples, 1122249 words/s, in_qsize 14, out_qsize 1\n",
      "INFO - 21:44:35: EPOCH 516: training on 2135928 raw words (1560897 effective words) took 1.3s, 1172875 effective words/s\n"
     ]
    },
    {
     "name": "stdout",
     "output_type": "stream",
     "text": [
      "Loss after epoch 516: 0.0\n"
     ]
    },
    {
     "name": "stderr",
     "output_type": "stream",
     "text": [
      "INFO - 21:44:36: EPOCH 517 - PROGRESS: at 69.33% examples, 1085405 words/s, in_qsize 15, out_qsize 0\n",
      "INFO - 21:44:37: EPOCH 517: training on 2135928 raw words (1561134 effective words) took 1.4s, 1124493 effective words/s\n"
     ]
    },
    {
     "name": "stdout",
     "output_type": "stream",
     "text": [
      "Loss after epoch 517: 0.0\n"
     ]
    },
    {
     "name": "stderr",
     "output_type": "stream",
     "text": [
      "INFO - 21:44:38: EPOCH 518 - PROGRESS: at 69.78% examples, 1096063 words/s, in_qsize 14, out_qsize 2\n",
      "INFO - 21:44:38: EPOCH 518: training on 2135928 raw words (1561087 effective words) took 1.4s, 1154795 effective words/s\n"
     ]
    },
    {
     "name": "stdout",
     "output_type": "stream",
     "text": [
      "Loss after epoch 518: 0.0\n"
     ]
    },
    {
     "name": "stderr",
     "output_type": "stream",
     "text": [
      "INFO - 21:44:39: EPOCH 519 - PROGRESS: at 66.87% examples, 1048998 words/s, in_qsize 15, out_qsize 0\n",
      "INFO - 21:44:39: EPOCH 519: training on 2135928 raw words (1561598 effective words) took 1.4s, 1096111 effective words/s\n"
     ]
    },
    {
     "name": "stdout",
     "output_type": "stream",
     "text": [
      "Loss after epoch 519: 0.0\n"
     ]
    },
    {
     "name": "stderr",
     "output_type": "stream",
     "text": [
      "INFO - 21:44:40: EPOCH 520 - PROGRESS: at 60.74% examples, 949232 words/s, in_qsize 15, out_qsize 0\n",
      "INFO - 21:44:41: EPOCH 520: training on 2135928 raw words (1561325 effective words) took 1.6s, 984314 effective words/s\n"
     ]
    },
    {
     "name": "stdout",
     "output_type": "stream",
     "text": [
      "Loss after epoch 520: 0.0\n"
     ]
    },
    {
     "name": "stderr",
     "output_type": "stream",
     "text": [
      "INFO - 21:44:42: EPOCH 521 - PROGRESS: at 52.58% examples, 811431 words/s, in_qsize 15, out_qsize 2\n",
      "INFO - 21:44:43: EPOCH 521: training on 2135928 raw words (1560397 effective words) took 1.7s, 904348 effective words/s\n"
     ]
    },
    {
     "name": "stdout",
     "output_type": "stream",
     "text": [
      "Loss after epoch 521: 0.0\n"
     ]
    },
    {
     "name": "stderr",
     "output_type": "stream",
     "text": [
      "INFO - 21:44:44: EPOCH 522 - PROGRESS: at 69.33% examples, 1089950 words/s, in_qsize 15, out_qsize 0\n",
      "INFO - 21:44:44: EPOCH 522: training on 2135928 raw words (1561126 effective words) took 1.4s, 1128782 effective words/s\n"
     ]
    },
    {
     "name": "stdout",
     "output_type": "stream",
     "text": [
      "Loss after epoch 522: 0.0\n"
     ]
    },
    {
     "name": "stderr",
     "output_type": "stream",
     "text": [
      "INFO - 21:44:45: EPOCH 523 - PROGRESS: at 68.93% examples, 1073398 words/s, in_qsize 15, out_qsize 0\n",
      "INFO - 21:44:46: EPOCH 523: training on 2135928 raw words (1561024 effective words) took 1.4s, 1092131 effective words/s\n"
     ]
    },
    {
     "name": "stdout",
     "output_type": "stream",
     "text": [
      "Loss after epoch 523: 0.0\n"
     ]
    },
    {
     "name": "stderr",
     "output_type": "stream",
     "text": [
      "INFO - 21:44:47: EPOCH 524 - PROGRESS: at 66.01% examples, 1029748 words/s, in_qsize 16, out_qsize 0\n",
      "INFO - 21:44:47: EPOCH 524: training on 2135928 raw words (1560423 effective words) took 1.5s, 1007621 effective words/s\n"
     ]
    },
    {
     "name": "stdout",
     "output_type": "stream",
     "text": [
      "Loss after epoch 524: 0.0\n"
     ]
    },
    {
     "name": "stderr",
     "output_type": "stream",
     "text": [
      "INFO - 21:44:48: EPOCH 525 - PROGRESS: at 65.11% examples, 1022373 words/s, in_qsize 16, out_qsize 1\n",
      "INFO - 21:44:49: EPOCH 525: training on 2135928 raw words (1561633 effective words) took 1.5s, 1050241 effective words/s\n"
     ]
    },
    {
     "name": "stdout",
     "output_type": "stream",
     "text": [
      "Loss after epoch 525: 0.0\n"
     ]
    },
    {
     "name": "stderr",
     "output_type": "stream",
     "text": [
      "INFO - 21:44:50: EPOCH 526 - PROGRESS: at 68.53% examples, 1083976 words/s, in_qsize 16, out_qsize 0\n",
      "INFO - 21:44:50: EPOCH 526: training on 2135928 raw words (1561323 effective words) took 1.4s, 1128682 effective words/s\n"
     ]
    },
    {
     "name": "stdout",
     "output_type": "stream",
     "text": [
      "Loss after epoch 526: 0.0\n"
     ]
    },
    {
     "name": "stderr",
     "output_type": "stream",
     "text": [
      "INFO - 21:44:51: EPOCH 527 - PROGRESS: at 65.11% examples, 1021365 words/s, in_qsize 15, out_qsize 2\n",
      "INFO - 21:44:51: EPOCH 527: training on 2135928 raw words (1561448 effective words) took 1.5s, 1035446 effective words/s\n"
     ]
    },
    {
     "name": "stdout",
     "output_type": "stream",
     "text": [
      "Loss after epoch 527: 0.0\n"
     ]
    },
    {
     "name": "stderr",
     "output_type": "stream",
     "text": [
      "INFO - 21:44:52: EPOCH 528 - PROGRESS: at 62.92% examples, 985649 words/s, in_qsize 16, out_qsize 2\n",
      "INFO - 21:44:53: EPOCH 528: training on 2135928 raw words (1560564 effective words) took 1.5s, 1038648 effective words/s\n"
     ]
    },
    {
     "name": "stdout",
     "output_type": "stream",
     "text": [
      "Loss after epoch 528: 0.0\n"
     ]
    },
    {
     "name": "stderr",
     "output_type": "stream",
     "text": [
      "INFO - 21:44:54: EPOCH 529 - PROGRESS: at 63.35% examples, 988653 words/s, in_qsize 15, out_qsize 0\n",
      "INFO - 21:44:54: EPOCH 529: training on 2135928 raw words (1560773 effective words) took 1.5s, 1073993 effective words/s\n"
     ]
    },
    {
     "name": "stdout",
     "output_type": "stream",
     "text": [
      "Loss after epoch 529: 0.0\n"
     ]
    },
    {
     "name": "stderr",
     "output_type": "stream",
     "text": [
      "INFO - 21:44:55: EPOCH 530 - PROGRESS: at 69.77% examples, 1104375 words/s, in_qsize 15, out_qsize 0\n",
      "INFO - 21:44:56: EPOCH 530: training on 2135928 raw words (1560455 effective words) took 1.3s, 1156536 effective words/s\n"
     ]
    },
    {
     "name": "stdout",
     "output_type": "stream",
     "text": [
      "Loss after epoch 530: 0.0\n"
     ]
    },
    {
     "name": "stderr",
     "output_type": "stream",
     "text": [
      "INFO - 21:44:57: EPOCH 531 - PROGRESS: at 72.72% examples, 1145266 words/s, in_qsize 15, out_qsize 0\n",
      "INFO - 21:44:57: EPOCH 531: training on 2135928 raw words (1560911 effective words) took 1.4s, 1139376 effective words/s\n"
     ]
    },
    {
     "name": "stdout",
     "output_type": "stream",
     "text": [
      "Loss after epoch 531: 0.0\n"
     ]
    },
    {
     "name": "stderr",
     "output_type": "stream",
     "text": [
      "INFO - 21:44:58: EPOCH 532 - PROGRESS: at 66.93% examples, 1048849 words/s, in_qsize 16, out_qsize 0\n",
      "INFO - 21:44:59: EPOCH 532: training on 2135928 raw words (1560942 effective words) took 1.4s, 1090632 effective words/s\n"
     ]
    },
    {
     "name": "stdout",
     "output_type": "stream",
     "text": [
      "Loss after epoch 532: 0.0\n"
     ]
    },
    {
     "name": "stderr",
     "output_type": "stream",
     "text": [
      "INFO - 21:45:00: EPOCH 533 - PROGRESS: at 68.13% examples, 1052210 words/s, in_qsize 15, out_qsize 0\n",
      "INFO - 21:45:00: EPOCH 533: training on 2135928 raw words (1561037 effective words) took 1.5s, 1015582 effective words/s\n"
     ]
    },
    {
     "name": "stdout",
     "output_type": "stream",
     "text": [
      "Loss after epoch 533: 0.0\n"
     ]
    },
    {
     "name": "stderr",
     "output_type": "stream",
     "text": [
      "INFO - 21:45:01: EPOCH 534 - PROGRESS: at 61.22% examples, 946796 words/s, in_qsize 16, out_qsize 1\n",
      "INFO - 21:45:02: EPOCH 534: training on 2135928 raw words (1560424 effective words) took 1.5s, 1008761 effective words/s\n"
     ]
    },
    {
     "name": "stdout",
     "output_type": "stream",
     "text": [
      "Loss after epoch 534: 0.0\n"
     ]
    },
    {
     "name": "stderr",
     "output_type": "stream",
     "text": [
      "INFO - 21:45:03: EPOCH 535 - PROGRESS: at 69.33% examples, 1089536 words/s, in_qsize 15, out_qsize 0\n",
      "INFO - 21:45:03: EPOCH 535: training on 2135928 raw words (1560794 effective words) took 1.4s, 1130946 effective words/s\n"
     ]
    },
    {
     "name": "stdout",
     "output_type": "stream",
     "text": [
      "Loss after epoch 535: 0.0\n"
     ]
    },
    {
     "name": "stderr",
     "output_type": "stream",
     "text": [
      "INFO - 21:45:04: EPOCH 536 - PROGRESS: at 68.12% examples, 1066821 words/s, in_qsize 15, out_qsize 0\n",
      "INFO - 21:45:05: EPOCH 536: training on 2135928 raw words (1561103 effective words) took 1.5s, 1065860 effective words/s\n"
     ]
    },
    {
     "name": "stdout",
     "output_type": "stream",
     "text": [
      "Loss after epoch 536: 0.0\n"
     ]
    },
    {
     "name": "stderr",
     "output_type": "stream",
     "text": [
      "INFO - 21:45:06: EPOCH 537 - PROGRESS: at 63.35% examples, 994943 words/s, in_qsize 14, out_qsize 1\n",
      "INFO - 21:45:06: EPOCH 537: training on 2135928 raw words (1560789 effective words) took 1.7s, 944184 effective words/s\n"
     ]
    },
    {
     "name": "stdout",
     "output_type": "stream",
     "text": [
      "Loss after epoch 537: 0.0\n"
     ]
    },
    {
     "name": "stderr",
     "output_type": "stream",
     "text": [
      "INFO - 21:45:07: EPOCH 538 - PROGRESS: at 57.98% examples, 885930 words/s, in_qsize 15, out_qsize 0\n",
      "INFO - 21:45:08: EPOCH 538: training on 2135928 raw words (1560178 effective words) took 1.6s, 973136 effective words/s\n"
     ]
    },
    {
     "name": "stdout",
     "output_type": "stream",
     "text": [
      "Loss after epoch 538: 0.0\n"
     ]
    },
    {
     "name": "stderr",
     "output_type": "stream",
     "text": [
      "INFO - 21:45:09: EPOCH 539 - PROGRESS: at 69.78% examples, 1100710 words/s, in_qsize 16, out_qsize 1\n",
      "INFO - 21:45:09: EPOCH 539: training on 2135928 raw words (1560958 effective words) took 1.4s, 1111259 effective words/s\n"
     ]
    },
    {
     "name": "stdout",
     "output_type": "stream",
     "text": [
      "Loss after epoch 539: 0.0\n"
     ]
    },
    {
     "name": "stderr",
     "output_type": "stream",
     "text": [
      "INFO - 21:45:10: EPOCH 540 - PROGRESS: at 64.66% examples, 1017321 words/s, in_qsize 16, out_qsize 2\n",
      "INFO - 21:45:11: EPOCH 540: training on 2135928 raw words (1561101 effective words) took 1.5s, 1063728 effective words/s\n"
     ]
    },
    {
     "name": "stdout",
     "output_type": "stream",
     "text": [
      "Loss after epoch 540: 0.0\n"
     ]
    },
    {
     "name": "stderr",
     "output_type": "stream",
     "text": [
      "INFO - 21:45:12: EPOCH 541 - PROGRESS: at 67.72% examples, 1047990 words/s, in_qsize 15, out_qsize 0\n",
      "INFO - 21:45:12: EPOCH 541: training on 2135928 raw words (1561402 effective words) took 1.4s, 1113233 effective words/s\n"
     ]
    },
    {
     "name": "stdout",
     "output_type": "stream",
     "text": [
      "Loss after epoch 541: 0.0\n"
     ]
    },
    {
     "name": "stderr",
     "output_type": "stream",
     "text": [
      "INFO - 21:45:13: EPOCH 542 - PROGRESS: at 73.56% examples, 1171658 words/s, in_qsize 14, out_qsize 1\n",
      "INFO - 21:45:14: EPOCH 542: training on 2135928 raw words (1561495 effective words) took 1.3s, 1186838 effective words/s\n"
     ]
    },
    {
     "name": "stdout",
     "output_type": "stream",
     "text": [
      "Loss after epoch 542: 0.0\n"
     ]
    },
    {
     "name": "stderr",
     "output_type": "stream",
     "text": [
      "INFO - 21:45:15: EPOCH 543 - PROGRESS: at 66.93% examples, 1043168 words/s, in_qsize 15, out_qsize 0\n",
      "INFO - 21:45:15: EPOCH 543: training on 2135928 raw words (1560990 effective words) took 1.4s, 1078579 effective words/s\n"
     ]
    },
    {
     "name": "stdout",
     "output_type": "stream",
     "text": [
      "Loss after epoch 543: 0.0\n"
     ]
    },
    {
     "name": "stderr",
     "output_type": "stream",
     "text": [
      "INFO - 21:45:16: EPOCH 544 - PROGRESS: at 67.74% examples, 1059402 words/s, in_qsize 15, out_qsize 0\n",
      "INFO - 21:45:16: EPOCH 544: training on 2135928 raw words (1561349 effective words) took 1.4s, 1096294 effective words/s\n"
     ]
    },
    {
     "name": "stdout",
     "output_type": "stream",
     "text": [
      "Loss after epoch 544: 0.0\n"
     ]
    },
    {
     "name": "stderr",
     "output_type": "stream",
     "text": [
      "INFO - 21:45:17: EPOCH 545 - PROGRESS: at 68.93% examples, 1091039 words/s, in_qsize 14, out_qsize 1\n",
      "INFO - 21:45:18: EPOCH 545: training on 2135928 raw words (1560726 effective words) took 1.4s, 1104306 effective words/s\n"
     ]
    },
    {
     "name": "stdout",
     "output_type": "stream",
     "text": [
      "Loss after epoch 545: 0.0\n"
     ]
    },
    {
     "name": "stderr",
     "output_type": "stream",
     "text": [
      "INFO - 21:45:19: EPOCH 546 - PROGRESS: at 65.11% examples, 1020094 words/s, in_qsize 15, out_qsize 0\n",
      "INFO - 21:45:19: EPOCH 546: training on 2135928 raw words (1561508 effective words) took 1.5s, 1062345 effective words/s\n"
     ]
    },
    {
     "name": "stdout",
     "output_type": "stream",
     "text": [
      "Loss after epoch 546: 0.0\n"
     ]
    },
    {
     "name": "stderr",
     "output_type": "stream",
     "text": [
      "INFO - 21:45:20: EPOCH 547 - PROGRESS: at 68.53% examples, 1067853 words/s, in_qsize 14, out_qsize 1\n",
      "INFO - 21:45:21: EPOCH 547: training on 2135928 raw words (1560853 effective words) took 1.4s, 1104371 effective words/s\n"
     ]
    },
    {
     "name": "stdout",
     "output_type": "stream",
     "text": [
      "Loss after epoch 547: 0.0\n"
     ]
    },
    {
     "name": "stderr",
     "output_type": "stream",
     "text": [
      "INFO - 21:45:22: EPOCH 548 - PROGRESS: at 68.93% examples, 1084484 words/s, in_qsize 16, out_qsize 0\n",
      "INFO - 21:45:22: EPOCH 548: training on 2135928 raw words (1560635 effective words) took 1.4s, 1125040 effective words/s\n"
     ]
    },
    {
     "name": "stdout",
     "output_type": "stream",
     "text": [
      "Loss after epoch 548: 0.0\n"
     ]
    },
    {
     "name": "stderr",
     "output_type": "stream",
     "text": [
      "INFO - 21:45:23: EPOCH 549 - PROGRESS: at 66.48% examples, 1032435 words/s, in_qsize 14, out_qsize 1\n",
      "INFO - 21:45:24: EPOCH 549: training on 2135928 raw words (1560820 effective words) took 1.5s, 1056643 effective words/s\n"
     ]
    },
    {
     "name": "stdout",
     "output_type": "stream",
     "text": [
      "Loss after epoch 549: 0.0\n"
     ]
    },
    {
     "name": "stderr",
     "output_type": "stream",
     "text": [
      "INFO - 21:45:25: EPOCH 550 - PROGRESS: at 65.11% examples, 1023850 words/s, in_qsize 14, out_qsize 1\n",
      "INFO - 21:45:25: EPOCH 550: training on 2135928 raw words (1561270 effective words) took 1.5s, 1069033 effective words/s\n"
     ]
    },
    {
     "name": "stdout",
     "output_type": "stream",
     "text": [
      "Loss after epoch 550: 0.0\n"
     ]
    },
    {
     "name": "stderr",
     "output_type": "stream",
     "text": [
      "INFO - 21:45:26: EPOCH 551 - PROGRESS: at 61.66% examples, 942901 words/s, in_qsize 15, out_qsize 0\n",
      "INFO - 21:45:27: EPOCH 551: training on 2135928 raw words (1560623 effective words) took 1.6s, 979800 effective words/s\n"
     ]
    },
    {
     "name": "stdout",
     "output_type": "stream",
     "text": [
      "Loss after epoch 551: 0.0\n"
     ]
    },
    {
     "name": "stderr",
     "output_type": "stream",
     "text": [
      "INFO - 21:45:28: EPOCH 552 - PROGRESS: at 65.56% examples, 1030495 words/s, in_qsize 15, out_qsize 0\n",
      "INFO - 21:45:28: EPOCH 552: training on 2135928 raw words (1561106 effective words) took 1.5s, 1035803 effective words/s\n"
     ]
    },
    {
     "name": "stdout",
     "output_type": "stream",
     "text": [
      "Loss after epoch 552: 0.0\n"
     ]
    },
    {
     "name": "stderr",
     "output_type": "stream",
     "text": [
      "INFO - 21:45:29: EPOCH 553 - PROGRESS: at 59.82% examples, 934200 words/s, in_qsize 15, out_qsize 0\n",
      "INFO - 21:45:30: EPOCH 553: training on 2135928 raw words (1561701 effective words) took 1.6s, 989962 effective words/s\n"
     ]
    },
    {
     "name": "stdout",
     "output_type": "stream",
     "text": [
      "Loss after epoch 553: 0.0\n"
     ]
    },
    {
     "name": "stderr",
     "output_type": "stream",
     "text": [
      "INFO - 21:45:31: EPOCH 554 - PROGRESS: at 68.14% examples, 1073710 words/s, in_qsize 15, out_qsize 0\n",
      "INFO - 21:45:31: EPOCH 554: training on 2135928 raw words (1561646 effective words) took 1.4s, 1080876 effective words/s\n"
     ]
    },
    {
     "name": "stdout",
     "output_type": "stream",
     "text": [
      "Loss after epoch 554: 0.0\n"
     ]
    },
    {
     "name": "stderr",
     "output_type": "stream",
     "text": [
      "INFO - 21:45:32: EPOCH 555 - PROGRESS: at 64.22% examples, 1006536 words/s, in_qsize 14, out_qsize 1\n",
      "INFO - 21:45:33: EPOCH 555: training on 2135928 raw words (1561260 effective words) took 1.5s, 1046502 effective words/s\n"
     ]
    },
    {
     "name": "stdout",
     "output_type": "stream",
     "text": [
      "Loss after epoch 555: 0.0\n"
     ]
    },
    {
     "name": "stderr",
     "output_type": "stream",
     "text": [
      "INFO - 21:45:34: EPOCH 556 - PROGRESS: at 67.32% examples, 1047365 words/s, in_qsize 15, out_qsize 0\n",
      "INFO - 21:45:34: EPOCH 556: training on 2135928 raw words (1561457 effective words) took 1.4s, 1103331 effective words/s\n"
     ]
    },
    {
     "name": "stdout",
     "output_type": "stream",
     "text": [
      "Loss after epoch 556: 0.0\n"
     ]
    },
    {
     "name": "stderr",
     "output_type": "stream",
     "text": [
      "INFO - 21:45:35: EPOCH 557 - PROGRESS: at 66.01% examples, 1033842 words/s, in_qsize 13, out_qsize 2\n",
      "INFO - 21:45:36: EPOCH 557: training on 2135928 raw words (1561333 effective words) took 1.4s, 1083006 effective words/s\n"
     ]
    },
    {
     "name": "stdout",
     "output_type": "stream",
     "text": [
      "Loss after epoch 557: 0.0\n"
     ]
    },
    {
     "name": "stderr",
     "output_type": "stream",
     "text": [
      "INFO - 21:45:37: EPOCH 558 - PROGRESS: at 70.21% examples, 1105089 words/s, in_qsize 15, out_qsize 0\n",
      "INFO - 21:45:37: EPOCH 558: training on 2135928 raw words (1560657 effective words) took 1.4s, 1112911 effective words/s\n"
     ]
    },
    {
     "name": "stdout",
     "output_type": "stream",
     "text": [
      "Loss after epoch 558: 0.0\n"
     ]
    },
    {
     "name": "stderr",
     "output_type": "stream",
     "text": [
      "INFO - 21:45:38: EPOCH 559 - PROGRESS: at 63.78% examples, 1001420 words/s, in_qsize 16, out_qsize 0\n",
      "INFO - 21:45:38: EPOCH 559: training on 2135928 raw words (1561224 effective words) took 1.5s, 1066964 effective words/s\n"
     ]
    },
    {
     "name": "stdout",
     "output_type": "stream",
     "text": [
      "Loss after epoch 559: 0.0\n"
     ]
    },
    {
     "name": "stderr",
     "output_type": "stream",
     "text": [
      "INFO - 21:45:40: EPOCH 560 - PROGRESS: at 69.38% examples, 1081866 words/s, in_qsize 15, out_qsize 0\n",
      "INFO - 21:45:40: EPOCH 560: training on 2135928 raw words (1561266 effective words) took 1.4s, 1105953 effective words/s\n"
     ]
    },
    {
     "name": "stdout",
     "output_type": "stream",
     "text": [
      "Loss after epoch 560: 0.0\n"
     ]
    },
    {
     "name": "stderr",
     "output_type": "stream",
     "text": [
      "INFO - 21:45:41: EPOCH 561 - PROGRESS: at 63.35% examples, 982487 words/s, in_qsize 15, out_qsize 0\n",
      "INFO - 21:45:41: EPOCH 561: training on 2135928 raw words (1560940 effective words) took 1.6s, 998531 effective words/s\n"
     ]
    },
    {
     "name": "stdout",
     "output_type": "stream",
     "text": [
      "Loss after epoch 561: 0.0\n"
     ]
    },
    {
     "name": "stderr",
     "output_type": "stream",
     "text": [
      "INFO - 21:45:43: EPOCH 562 - PROGRESS: at 71.04% examples, 1127374 words/s, in_qsize 14, out_qsize 1\n",
      "INFO - 21:45:43: EPOCH 562: training on 2135928 raw words (1560924 effective words) took 1.4s, 1134028 effective words/s\n"
     ]
    },
    {
     "name": "stdout",
     "output_type": "stream",
     "text": [
      "Loss after epoch 562: 0.0\n"
     ]
    },
    {
     "name": "stderr",
     "output_type": "stream",
     "text": [
      "INFO - 21:45:44: EPOCH 563 - PROGRESS: at 58.44% examples, 904664 words/s, in_qsize 14, out_qsize 1\n",
      "INFO - 21:45:45: EPOCH 563: training on 2135928 raw words (1561648 effective words) took 1.7s, 898035 effective words/s\n"
     ]
    },
    {
     "name": "stdout",
     "output_type": "stream",
     "text": [
      "Loss after epoch 563: 0.0\n"
     ]
    },
    {
     "name": "stderr",
     "output_type": "stream",
     "text": [
      "INFO - 21:45:46: EPOCH 564 - PROGRESS: at 61.66% examples, 962296 words/s, in_qsize 15, out_qsize 0\n",
      "INFO - 21:45:46: EPOCH 564: training on 2135928 raw words (1560865 effective words) took 1.6s, 983008 effective words/s\n"
     ]
    },
    {
     "name": "stdout",
     "output_type": "stream",
     "text": [
      "Loss after epoch 564: 0.0\n"
     ]
    },
    {
     "name": "stderr",
     "output_type": "stream",
     "text": [
      "INFO - 21:45:47: EPOCH 565 - PROGRESS: at 56.73% examples, 883426 words/s, in_qsize 16, out_qsize 0\n",
      "INFO - 21:45:48: EPOCH 565: training on 2135928 raw words (1561118 effective words) took 1.7s, 910259 effective words/s\n"
     ]
    },
    {
     "name": "stdout",
     "output_type": "stream",
     "text": [
      "Loss after epoch 565: 0.0\n"
     ]
    },
    {
     "name": "stderr",
     "output_type": "stream",
     "text": [
      "INFO - 21:45:49: EPOCH 566 - PROGRESS: at 55.00% examples, 854603 words/s, in_qsize 15, out_qsize 0\n",
      "INFO - 21:45:50: EPOCH 566: training on 2135928 raw words (1561411 effective words) took 1.8s, 883496 effective words/s\n"
     ]
    },
    {
     "name": "stdout",
     "output_type": "stream",
     "text": [
      "Loss after epoch 566: 0.0\n"
     ]
    },
    {
     "name": "stderr",
     "output_type": "stream",
     "text": [
      "INFO - 21:45:51: EPOCH 567 - PROGRESS: at 65.11% examples, 1019673 words/s, in_qsize 15, out_qsize 3\n",
      "INFO - 21:45:51: EPOCH 567: training on 2135928 raw words (1561754 effective words) took 1.5s, 1050676 effective words/s\n"
     ]
    },
    {
     "name": "stdout",
     "output_type": "stream",
     "text": [
      "Loss after epoch 567: 0.0\n"
     ]
    },
    {
     "name": "stderr",
     "output_type": "stream",
     "text": [
      "INFO - 21:45:52: EPOCH 568 - PROGRESS: at 68.12% examples, 1076778 words/s, in_qsize 14, out_qsize 1\n",
      "INFO - 21:45:53: EPOCH 568: training on 2135928 raw words (1561777 effective words) took 1.4s, 1123709 effective words/s\n"
     ]
    },
    {
     "name": "stdout",
     "output_type": "stream",
     "text": [
      "Loss after epoch 568: 0.0\n"
     ]
    },
    {
     "name": "stderr",
     "output_type": "stream",
     "text": [
      "INFO - 21:45:54: EPOCH 569 - PROGRESS: at 70.63% examples, 1121602 words/s, in_qsize 14, out_qsize 1\n",
      "INFO - 21:45:54: EPOCH 569: training on 2135928 raw words (1561400 effective words) took 1.4s, 1108304 effective words/s\n"
     ]
    },
    {
     "name": "stdout",
     "output_type": "stream",
     "text": [
      "Loss after epoch 569: 0.0\n"
     ]
    },
    {
     "name": "stderr",
     "output_type": "stream",
     "text": [
      "INFO - 21:45:55: EPOCH 570 - PROGRESS: at 57.52% examples, 887031 words/s, in_qsize 16, out_qsize 0\n",
      "INFO - 21:45:56: EPOCH 570: training on 2135928 raw words (1561634 effective words) took 1.7s, 942708 effective words/s\n"
     ]
    },
    {
     "name": "stdout",
     "output_type": "stream",
     "text": [
      "Loss after epoch 570: 0.0\n"
     ]
    },
    {
     "name": "stderr",
     "output_type": "stream",
     "text": [
      "INFO - 21:45:57: EPOCH 571 - PROGRESS: at 60.74% examples, 937950 words/s, in_qsize 16, out_qsize 0\n",
      "INFO - 21:45:57: EPOCH 571: training on 2135928 raw words (1561850 effective words) took 1.6s, 987404 effective words/s\n"
     ]
    },
    {
     "name": "stdout",
     "output_type": "stream",
     "text": [
      "Loss after epoch 571: 0.0\n"
     ]
    },
    {
     "name": "stderr",
     "output_type": "stream",
     "text": [
      "INFO - 21:45:58: EPOCH 572 - PROGRESS: at 59.80% examples, 932750 words/s, in_qsize 16, out_qsize 1\n",
      "INFO - 21:45:59: EPOCH 572: training on 2135928 raw words (1562059 effective words) took 1.7s, 903852 effective words/s\n"
     ]
    },
    {
     "name": "stdout",
     "output_type": "stream",
     "text": [
      "Loss after epoch 572: 0.0\n"
     ]
    },
    {
     "name": "stderr",
     "output_type": "stream",
     "text": [
      "INFO - 21:46:00: EPOCH 573 - PROGRESS: at 51.20% examples, 781118 words/s, in_qsize 14, out_qsize 1\n",
      "INFO - 21:46:01: EPOCH 573: training on 2135928 raw words (1561300 effective words) took 1.8s, 883257 effective words/s\n"
     ]
    },
    {
     "name": "stdout",
     "output_type": "stream",
     "text": [
      "Loss after epoch 573: 0.0\n"
     ]
    },
    {
     "name": "stderr",
     "output_type": "stream",
     "text": [
      "INFO - 21:46:02: EPOCH 574 - PROGRESS: at 64.66% examples, 1014616 words/s, in_qsize 14, out_qsize 1\n",
      "INFO - 21:46:02: EPOCH 574: training on 2135928 raw words (1561194 effective words) took 1.5s, 1029812 effective words/s\n"
     ]
    },
    {
     "name": "stdout",
     "output_type": "stream",
     "text": [
      "Loss after epoch 574: 0.0\n"
     ]
    },
    {
     "name": "stderr",
     "output_type": "stream",
     "text": [
      "INFO - 21:46:03: EPOCH 575 - PROGRESS: at 60.27% examples, 930161 words/s, in_qsize 14, out_qsize 1\n",
      "INFO - 21:46:04: EPOCH 575: training on 2135928 raw words (1561544 effective words) took 1.7s, 929930 effective words/s\n"
     ]
    },
    {
     "name": "stdout",
     "output_type": "stream",
     "text": [
      "Loss after epoch 575: 0.0\n"
     ]
    },
    {
     "name": "stderr",
     "output_type": "stream",
     "text": [
      "INFO - 21:46:05: EPOCH 576 - PROGRESS: at 59.80% examples, 930880 words/s, in_qsize 16, out_qsize 0\n",
      "INFO - 21:46:06: EPOCH 576: training on 2135928 raw words (1561553 effective words) took 1.6s, 981316 effective words/s\n"
     ]
    },
    {
     "name": "stdout",
     "output_type": "stream",
     "text": [
      "Loss after epoch 576: 0.0\n"
     ]
    },
    {
     "name": "stderr",
     "output_type": "stream",
     "text": [
      "INFO - 21:46:07: EPOCH 577 - PROGRESS: at 58.90% examples, 920518 words/s, in_qsize 14, out_qsize 1\n",
      "INFO - 21:46:07: EPOCH 577: training on 2135928 raw words (1560873 effective words) took 1.7s, 892886 effective words/s\n"
     ]
    },
    {
     "name": "stdout",
     "output_type": "stream",
     "text": [
      "Loss after epoch 577: 0.0\n"
     ]
    },
    {
     "name": "stderr",
     "output_type": "stream",
     "text": [
      "INFO - 21:46:08: EPOCH 578 - PROGRESS: at 57.96% examples, 890769 words/s, in_qsize 14, out_qsize 1\n",
      "INFO - 21:46:09: EPOCH 578: training on 2135928 raw words (1561186 effective words) took 1.7s, 934306 effective words/s\n"
     ]
    },
    {
     "name": "stdout",
     "output_type": "stream",
     "text": [
      "Loss after epoch 578: 0.0\n"
     ]
    },
    {
     "name": "stderr",
     "output_type": "stream",
     "text": [
      "INFO - 21:46:10: EPOCH 579 - PROGRESS: at 57.96% examples, 889581 words/s, in_qsize 15, out_qsize 0\n",
      "INFO - 21:46:11: EPOCH 579: training on 2135928 raw words (1560974 effective words) took 1.7s, 903031 effective words/s\n"
     ]
    },
    {
     "name": "stdout",
     "output_type": "stream",
     "text": [
      "Loss after epoch 579: 0.0\n"
     ]
    },
    {
     "name": "stderr",
     "output_type": "stream",
     "text": [
      "INFO - 21:46:12: EPOCH 580 - PROGRESS: at 63.80% examples, 986058 words/s, in_qsize 15, out_qsize 1\n",
      "INFO - 21:46:12: EPOCH 580: training on 2135928 raw words (1561326 effective words) took 1.5s, 1013359 effective words/s\n"
     ]
    },
    {
     "name": "stdout",
     "output_type": "stream",
     "text": [
      "Loss after epoch 580: 0.0\n"
     ]
    },
    {
     "name": "stderr",
     "output_type": "stream",
     "text": [
      "INFO - 21:46:13: EPOCH 581 - PROGRESS: at 58.41% examples, 911889 words/s, in_qsize 15, out_qsize 0\n",
      "INFO - 21:46:14: EPOCH 581: training on 2135928 raw words (1561280 effective words) took 1.6s, 969561 effective words/s\n"
     ]
    },
    {
     "name": "stdout",
     "output_type": "stream",
     "text": [
      "Loss after epoch 581: 0.0\n"
     ]
    },
    {
     "name": "stderr",
     "output_type": "stream",
     "text": [
      "INFO - 21:46:15: EPOCH 582 - PROGRESS: at 62.50% examples, 964149 words/s, in_qsize 15, out_qsize 0\n",
      "INFO - 21:46:16: EPOCH 582: training on 2135928 raw words (1561779 effective words) took 1.6s, 966875 effective words/s\n"
     ]
    },
    {
     "name": "stdout",
     "output_type": "stream",
     "text": [
      "Loss after epoch 582: 0.0\n"
     ]
    },
    {
     "name": "stderr",
     "output_type": "stream",
     "text": [
      "INFO - 21:46:17: EPOCH 583 - PROGRESS: at 57.06% examples, 883895 words/s, in_qsize 14, out_qsize 1\n",
      "INFO - 21:46:17: EPOCH 583: training on 2135928 raw words (1560884 effective words) took 1.6s, 970287 effective words/s\n"
     ]
    },
    {
     "name": "stdout",
     "output_type": "stream",
     "text": [
      "Loss after epoch 583: 0.0\n"
     ]
    },
    {
     "name": "stderr",
     "output_type": "stream",
     "text": [
      "INFO - 21:46:18: EPOCH 584 - PROGRESS: at 57.96% examples, 896570 words/s, in_qsize 15, out_qsize 2\n",
      "INFO - 21:46:19: EPOCH 584: training on 2135928 raw words (1560921 effective words) took 1.6s, 966340 effective words/s\n"
     ]
    },
    {
     "name": "stdout",
     "output_type": "stream",
     "text": [
      "Loss after epoch 584: 0.0\n"
     ]
    },
    {
     "name": "stderr",
     "output_type": "stream",
     "text": [
      "INFO - 21:46:20: EPOCH 585 - PROGRESS: at 57.06% examples, 888237 words/s, in_qsize 16, out_qsize 0\n",
      "INFO - 21:46:21: EPOCH 585: training on 2135928 raw words (1561044 effective words) took 1.8s, 873951 effective words/s\n"
     ]
    },
    {
     "name": "stdout",
     "output_type": "stream",
     "text": [
      "Loss after epoch 585: 0.0\n"
     ]
    },
    {
     "name": "stderr",
     "output_type": "stream",
     "text": [
      "INFO - 21:46:22: EPOCH 586 - PROGRESS: at 58.89% examples, 899750 words/s, in_qsize 15, out_qsize 0\n",
      "INFO - 21:46:22: EPOCH 586: training on 2135928 raw words (1561233 effective words) took 1.7s, 932015 effective words/s\n"
     ]
    },
    {
     "name": "stdout",
     "output_type": "stream",
     "text": [
      "Loss after epoch 586: 0.0\n"
     ]
    },
    {
     "name": "stderr",
     "output_type": "stream",
     "text": [
      "INFO - 21:46:23: EPOCH 587 - PROGRESS: at 56.23% examples, 869515 words/s, in_qsize 16, out_qsize 2\n",
      "INFO - 21:46:24: EPOCH 587: training on 2135928 raw words (1561376 effective words) took 1.8s, 890012 effective words/s\n"
     ]
    },
    {
     "name": "stdout",
     "output_type": "stream",
     "text": [
      "Loss after epoch 587: 0.0\n"
     ]
    },
    {
     "name": "stderr",
     "output_type": "stream",
     "text": [
      "INFO - 21:46:25: EPOCH 588 - PROGRESS: at 57.06% examples, 885098 words/s, in_qsize 15, out_qsize 0\n",
      "INFO - 21:46:26: EPOCH 588: training on 2135928 raw words (1560715 effective words) took 1.7s, 932143 effective words/s\n"
     ]
    },
    {
     "name": "stdout",
     "output_type": "stream",
     "text": [
      "Loss after epoch 588: 0.0\n"
     ]
    },
    {
     "name": "stderr",
     "output_type": "stream",
     "text": [
      "INFO - 21:46:27: EPOCH 589 - PROGRESS: at 48.88% examples, 752622 words/s, in_qsize 16, out_qsize 2\n",
      "INFO - 21:46:28: EPOCH 589: training on 2135928 raw words (1560835 effective words) took 1.9s, 826602 effective words/s\n"
     ]
    },
    {
     "name": "stdout",
     "output_type": "stream",
     "text": [
      "Loss after epoch 589: 0.0\n"
     ]
    },
    {
     "name": "stderr",
     "output_type": "stream",
     "text": [
      "INFO - 21:46:29: EPOCH 590 - PROGRESS: at 52.13% examples, 809906 words/s, in_qsize 15, out_qsize 0\n",
      "INFO - 21:46:30: EPOCH 590: training on 2135928 raw words (1561284 effective words) took 1.9s, 833268 effective words/s\n"
     ]
    },
    {
     "name": "stdout",
     "output_type": "stream",
     "text": [
      "Loss after epoch 590: 0.0\n"
     ]
    },
    {
     "name": "stderr",
     "output_type": "stream",
     "text": [
      "INFO - 21:46:31: EPOCH 591 - PROGRESS: at 49.80% examples, 768214 words/s, in_qsize 15, out_qsize 0\n",
      "INFO - 21:46:31: EPOCH 591: training on 2135928 raw words (1560215 effective words) took 1.9s, 827489 effective words/s\n"
     ]
    },
    {
     "name": "stdout",
     "output_type": "stream",
     "text": [
      "Loss after epoch 591: 0.0\n"
     ]
    },
    {
     "name": "stderr",
     "output_type": "stream",
     "text": [
      "INFO - 21:46:32: EPOCH 592 - PROGRESS: at 50.26% examples, 782188 words/s, in_qsize 15, out_qsize 0\n",
      "INFO - 21:46:33: EPOCH 592: training on 2135928 raw words (1561373 effective words) took 1.8s, 853511 effective words/s\n"
     ]
    },
    {
     "name": "stdout",
     "output_type": "stream",
     "text": [
      "Loss after epoch 592: 0.0\n"
     ]
    },
    {
     "name": "stderr",
     "output_type": "stream",
     "text": [
      "INFO - 21:46:34: EPOCH 593 - PROGRESS: at 59.82% examples, 915859 words/s, in_qsize 16, out_qsize 2\n",
      "INFO - 21:46:35: EPOCH 593: training on 2135928 raw words (1561089 effective words) took 1.6s, 967560 effective words/s\n"
     ]
    },
    {
     "name": "stdout",
     "output_type": "stream",
     "text": [
      "Loss after epoch 593: 0.0\n"
     ]
    },
    {
     "name": "stderr",
     "output_type": "stream",
     "text": [
      "INFO - 21:46:36: EPOCH 594 - PROGRESS: at 64.22% examples, 996792 words/s, in_qsize 16, out_qsize 3\n",
      "INFO - 21:46:36: EPOCH 594: training on 2135928 raw words (1560738 effective words) took 1.5s, 1012327 effective words/s\n"
     ]
    },
    {
     "name": "stdout",
     "output_type": "stream",
     "text": [
      "Loss after epoch 594: 0.0\n"
     ]
    },
    {
     "name": "stderr",
     "output_type": "stream",
     "text": [
      "INFO - 21:46:38: EPOCH 595 - PROGRESS: at 64.66% examples, 997677 words/s, in_qsize 15, out_qsize 0\n",
      "INFO - 21:46:38: EPOCH 595: training on 2135928 raw words (1561659 effective words) took 1.5s, 1015079 effective words/s\n"
     ]
    },
    {
     "name": "stdout",
     "output_type": "stream",
     "text": [
      "Loss after epoch 595: 0.0\n"
     ]
    },
    {
     "name": "stderr",
     "output_type": "stream",
     "text": [
      "INFO - 21:46:39: EPOCH 596 - PROGRESS: at 58.44% examples, 911212 words/s, in_qsize 16, out_qsize 0\n",
      "INFO - 21:46:40: EPOCH 596: training on 2135928 raw words (1560373 effective words) took 1.6s, 955443 effective words/s\n"
     ]
    },
    {
     "name": "stdout",
     "output_type": "stream",
     "text": [
      "Loss after epoch 596: 0.0\n"
     ]
    },
    {
     "name": "stderr",
     "output_type": "stream",
     "text": [
      "INFO - 21:46:41: EPOCH 597 - PROGRESS: at 57.10% examples, 876140 words/s, in_qsize 15, out_qsize 2\n",
      "INFO - 21:46:41: EPOCH 597: training on 2135928 raw words (1560997 effective words) took 1.7s, 911564 effective words/s\n"
     ]
    },
    {
     "name": "stdout",
     "output_type": "stream",
     "text": [
      "Loss after epoch 597: 0.0\n"
     ]
    },
    {
     "name": "stderr",
     "output_type": "stream",
     "text": [
      "INFO - 21:46:42: EPOCH 598 - PROGRESS: at 55.81% examples, 852956 words/s, in_qsize 15, out_qsize 0\n",
      "INFO - 21:46:43: EPOCH 598: training on 2135928 raw words (1560657 effective words) took 1.7s, 916297 effective words/s\n"
     ]
    },
    {
     "name": "stdout",
     "output_type": "stream",
     "text": [
      "Loss after epoch 598: 0.0\n"
     ]
    },
    {
     "name": "stderr",
     "output_type": "stream",
     "text": [
      "INFO - 21:46:44: EPOCH 599 - PROGRESS: at 60.27% examples, 926843 words/s, in_qsize 14, out_qsize 1\n",
      "INFO - 21:46:45: EPOCH 599: training on 2135928 raw words (1560952 effective words) took 1.6s, 1003675 effective words/s\n"
     ]
    },
    {
     "name": "stdout",
     "output_type": "stream",
     "text": [
      "Loss after epoch 599: 0.0\n"
     ]
    },
    {
     "name": "stderr",
     "output_type": "stream",
     "text": [
      "INFO - 21:46:46: EPOCH 600 - PROGRESS: at 63.35% examples, 990165 words/s, in_qsize 15, out_qsize 0\n",
      "INFO - 21:46:46: EPOCH 600: training on 2135928 raw words (1561774 effective words) took 1.5s, 1032936 effective words/s\n"
     ]
    },
    {
     "name": "stdout",
     "output_type": "stream",
     "text": [
      "Loss after epoch 600: 0.0\n"
     ]
    },
    {
     "name": "stderr",
     "output_type": "stream",
     "text": [
      "INFO - 21:46:47: EPOCH 601 - PROGRESS: at 64.22% examples, 992818 words/s, in_qsize 16, out_qsize 1\n",
      "INFO - 21:46:48: EPOCH 601: training on 2135928 raw words (1561249 effective words) took 1.5s, 1046341 effective words/s\n"
     ]
    },
    {
     "name": "stdout",
     "output_type": "stream",
     "text": [
      "Loss after epoch 601: 0.0\n"
     ]
    },
    {
     "name": "stderr",
     "output_type": "stream",
     "text": [
      "INFO - 21:46:49: EPOCH 602 - PROGRESS: at 66.02% examples, 1037713 words/s, in_qsize 14, out_qsize 1\n",
      "INFO - 21:46:49: EPOCH 602: training on 2135928 raw words (1561029 effective words) took 1.5s, 1063469 effective words/s\n"
     ]
    },
    {
     "name": "stdout",
     "output_type": "stream",
     "text": [
      "Loss after epoch 602: 0.0\n"
     ]
    },
    {
     "name": "stderr",
     "output_type": "stream",
     "text": [
      "INFO - 21:46:50: EPOCH 603 - PROGRESS: at 64.23% examples, 993332 words/s, in_qsize 14, out_qsize 1\n",
      "INFO - 21:46:51: EPOCH 603: training on 2135928 raw words (1561855 effective words) took 1.5s, 1024383 effective words/s\n"
     ]
    },
    {
     "name": "stdout",
     "output_type": "stream",
     "text": [
      "Loss after epoch 603: 0.0\n"
     ]
    },
    {
     "name": "stderr",
     "output_type": "stream",
     "text": [
      "INFO - 21:46:52: EPOCH 604 - PROGRESS: at 64.67% examples, 1013471 words/s, in_qsize 15, out_qsize 0\n",
      "INFO - 21:46:52: EPOCH 604: training on 2135928 raw words (1561124 effective words) took 1.5s, 1059966 effective words/s\n"
     ]
    },
    {
     "name": "stdout",
     "output_type": "stream",
     "text": [
      "Loss after epoch 604: 0.0\n"
     ]
    },
    {
     "name": "stderr",
     "output_type": "stream",
     "text": [
      "INFO - 21:46:53: EPOCH 605 - PROGRESS: at 64.66% examples, 1015399 words/s, in_qsize 14, out_qsize 1\n",
      "INFO - 21:46:54: EPOCH 605: training on 2135928 raw words (1561719 effective words) took 1.5s, 1058045 effective words/s\n"
     ]
    },
    {
     "name": "stdout",
     "output_type": "stream",
     "text": [
      "Loss after epoch 605: 0.0\n"
     ]
    },
    {
     "name": "stderr",
     "output_type": "stream",
     "text": [
      "INFO - 21:46:55: EPOCH 606 - PROGRESS: at 61.22% examples, 950956 words/s, in_qsize 15, out_qsize 0\n",
      "INFO - 21:46:55: EPOCH 606: training on 2135928 raw words (1561213 effective words) took 1.6s, 1002980 effective words/s\n"
     ]
    },
    {
     "name": "stdout",
     "output_type": "stream",
     "text": [
      "Loss after epoch 606: 0.0\n"
     ]
    },
    {
     "name": "stderr",
     "output_type": "stream",
     "text": [
      "INFO - 21:46:56: EPOCH 607 - PROGRESS: at 66.48% examples, 1033994 words/s, in_qsize 16, out_qsize 0\n",
      "INFO - 21:46:57: EPOCH 607: training on 2135928 raw words (1561664 effective words) took 1.5s, 1071074 effective words/s\n"
     ]
    },
    {
     "name": "stdout",
     "output_type": "stream",
     "text": [
      "Loss after epoch 607: 0.0\n"
     ]
    },
    {
     "name": "stderr",
     "output_type": "stream",
     "text": [
      "INFO - 21:46:58: EPOCH 608 - PROGRESS: at 65.11% examples, 1021626 words/s, in_qsize 15, out_qsize 0\n",
      "INFO - 21:46:58: EPOCH 608: training on 2135928 raw words (1560759 effective words) took 1.5s, 1055632 effective words/s\n"
     ]
    },
    {
     "name": "stdout",
     "output_type": "stream",
     "text": [
      "Loss after epoch 608: 0.0\n"
     ]
    },
    {
     "name": "stderr",
     "output_type": "stream",
     "text": [
      "INFO - 21:46:59: EPOCH 609 - PROGRESS: at 63.36% examples, 995227 words/s, in_qsize 16, out_qsize 0\n",
      "INFO - 21:47:00: EPOCH 609: training on 2135928 raw words (1561587 effective words) took 1.5s, 1040835 effective words/s\n"
     ]
    },
    {
     "name": "stdout",
     "output_type": "stream",
     "text": [
      "Loss after epoch 609: 0.0\n"
     ]
    },
    {
     "name": "stderr",
     "output_type": "stream",
     "text": [
      "INFO - 21:47:01: EPOCH 610 - PROGRESS: at 66.01% examples, 1039611 words/s, in_qsize 15, out_qsize 0\n",
      "INFO - 21:47:01: EPOCH 610: training on 2135928 raw words (1561906 effective words) took 1.5s, 1039022 effective words/s\n"
     ]
    },
    {
     "name": "stdout",
     "output_type": "stream",
     "text": [
      "Loss after epoch 610: 0.0\n"
     ]
    },
    {
     "name": "stderr",
     "output_type": "stream",
     "text": [
      "INFO - 21:47:02: EPOCH 611 - PROGRESS: at 66.01% examples, 1038859 words/s, in_qsize 15, out_qsize 0\n",
      "INFO - 21:47:03: EPOCH 611: training on 2135928 raw words (1561508 effective words) took 1.5s, 1052114 effective words/s\n"
     ]
    },
    {
     "name": "stdout",
     "output_type": "stream",
     "text": [
      "Loss after epoch 611: 0.0\n"
     ]
    },
    {
     "name": "stderr",
     "output_type": "stream",
     "text": [
      "INFO - 21:47:04: EPOCH 612 - PROGRESS: at 59.82% examples, 924372 words/s, in_qsize 14, out_qsize 1\n",
      "INFO - 21:47:04: EPOCH 612: training on 2135928 raw words (1560717 effective words) took 1.6s, 970225 effective words/s\n"
     ]
    },
    {
     "name": "stdout",
     "output_type": "stream",
     "text": [
      "Loss after epoch 612: 0.0\n"
     ]
    },
    {
     "name": "stderr",
     "output_type": "stream",
     "text": [
      "INFO - 21:47:05: EPOCH 613 - PROGRESS: at 62.09% examples, 970019 words/s, in_qsize 15, out_qsize 0\n",
      "INFO - 21:47:06: EPOCH 613: training on 2135928 raw words (1560964 effective words) took 1.6s, 993860 effective words/s\n"
     ]
    },
    {
     "name": "stdout",
     "output_type": "stream",
     "text": [
      "Loss after epoch 613: 0.0\n"
     ]
    },
    {
     "name": "stderr",
     "output_type": "stream",
     "text": [
      "INFO - 21:47:07: EPOCH 614 - PROGRESS: at 64.22% examples, 1010048 words/s, in_qsize 16, out_qsize 0\n",
      "INFO - 21:47:07: EPOCH 614: training on 2135928 raw words (1561471 effective words) took 1.5s, 1032978 effective words/s\n"
     ]
    },
    {
     "name": "stdout",
     "output_type": "stream",
     "text": [
      "Loss after epoch 614: 0.0\n"
     ]
    },
    {
     "name": "stderr",
     "output_type": "stream",
     "text": [
      "INFO - 21:47:08: EPOCH 615 - PROGRESS: at 63.79% examples, 995399 words/s, in_qsize 15, out_qsize 0\n",
      "INFO - 21:47:09: EPOCH 615: training on 2135928 raw words (1561204 effective words) took 1.5s, 1039311 effective words/s\n"
     ]
    },
    {
     "name": "stdout",
     "output_type": "stream",
     "text": [
      "Loss after epoch 615: 0.0\n"
     ]
    },
    {
     "name": "stderr",
     "output_type": "stream",
     "text": [
      "INFO - 21:47:10: EPOCH 616 - PROGRESS: at 63.79% examples, 995614 words/s, in_qsize 16, out_qsize 2\n",
      "INFO - 21:47:10: EPOCH 616: training on 2135928 raw words (1561637 effective words) took 1.5s, 1050309 effective words/s\n"
     ]
    },
    {
     "name": "stdout",
     "output_type": "stream",
     "text": [
      "Loss after epoch 616: 0.0\n"
     ]
    },
    {
     "name": "stderr",
     "output_type": "stream",
     "text": [
      "INFO - 21:47:11: EPOCH 617 - PROGRESS: at 64.66% examples, 1016311 words/s, in_qsize 15, out_qsize 0\n",
      "INFO - 21:47:12: EPOCH 617: training on 2135928 raw words (1560717 effective words) took 1.5s, 1046724 effective words/s\n"
     ]
    },
    {
     "name": "stdout",
     "output_type": "stream",
     "text": [
      "Loss after epoch 617: 0.0\n"
     ]
    },
    {
     "name": "stderr",
     "output_type": "stream",
     "text": [
      "INFO - 21:47:13: EPOCH 618 - PROGRESS: at 65.11% examples, 1019922 words/s, in_qsize 15, out_qsize 0\n",
      "INFO - 21:47:13: EPOCH 618: training on 2135928 raw words (1560377 effective words) took 1.5s, 1059374 effective words/s\n"
     ]
    },
    {
     "name": "stdout",
     "output_type": "stream",
     "text": [
      "Loss after epoch 618: 0.0\n"
     ]
    },
    {
     "name": "stderr",
     "output_type": "stream",
     "text": [
      "INFO - 21:47:14: EPOCH 619 - PROGRESS: at 64.22% examples, 1007804 words/s, in_qsize 15, out_qsize 0\n",
      "INFO - 21:47:15: EPOCH 619: training on 2135928 raw words (1561918 effective words) took 1.5s, 1042767 effective words/s\n"
     ]
    },
    {
     "name": "stdout",
     "output_type": "stream",
     "text": [
      "Loss after epoch 619: 0.0\n"
     ]
    },
    {
     "name": "stderr",
     "output_type": "stream",
     "text": [
      "INFO - 21:47:16: EPOCH 620 - PROGRESS: at 65.56% examples, 1027491 words/s, in_qsize 15, out_qsize 0\n",
      "INFO - 21:47:16: EPOCH 620: training on 2135928 raw words (1561335 effective words) took 1.5s, 1018050 effective words/s\n"
     ]
    },
    {
     "name": "stdout",
     "output_type": "stream",
     "text": [
      "Loss after epoch 620: 0.0\n"
     ]
    },
    {
     "name": "stderr",
     "output_type": "stream",
     "text": [
      "INFO - 21:47:17: EPOCH 621 - PROGRESS: at 62.94% examples, 988648 words/s, in_qsize 14, out_qsize 1\n",
      "INFO - 21:47:18: EPOCH 621: training on 2135928 raw words (1562238 effective words) took 1.5s, 1022363 effective words/s\n"
     ]
    },
    {
     "name": "stdout",
     "output_type": "stream",
     "text": [
      "Loss after epoch 621: 0.0\n"
     ]
    },
    {
     "name": "stderr",
     "output_type": "stream",
     "text": [
      "INFO - 21:47:19: EPOCH 622 - PROGRESS: at 64.66% examples, 1005993 words/s, in_qsize 16, out_qsize 0\n",
      "INFO - 21:47:20: EPOCH 622: training on 2135928 raw words (1561309 effective words) took 1.5s, 1032576 effective words/s\n"
     ]
    },
    {
     "name": "stdout",
     "output_type": "stream",
     "text": [
      "Loss after epoch 622: 0.0\n"
     ]
    },
    {
     "name": "stderr",
     "output_type": "stream",
     "text": [
      "INFO - 21:47:21: EPOCH 623 - PROGRESS: at 65.56% examples, 1021009 words/s, in_qsize 16, out_qsize 1\n",
      "INFO - 21:47:21: EPOCH 623: training on 2135928 raw words (1561002 effective words) took 1.5s, 1064414 effective words/s\n"
     ]
    },
    {
     "name": "stdout",
     "output_type": "stream",
     "text": [
      "Loss after epoch 623: 0.0\n"
     ]
    },
    {
     "name": "stderr",
     "output_type": "stream",
     "text": [
      "INFO - 21:47:22: EPOCH 624 - PROGRESS: at 62.93% examples, 967856 words/s, in_qsize 15, out_qsize 0\n",
      "INFO - 21:47:23: EPOCH 624: training on 2135928 raw words (1561080 effective words) took 1.5s, 1016669 effective words/s\n"
     ]
    },
    {
     "name": "stdout",
     "output_type": "stream",
     "text": [
      "Loss after epoch 624: 0.0\n"
     ]
    },
    {
     "name": "stderr",
     "output_type": "stream",
     "text": [
      "INFO - 21:47:24: EPOCH 625 - PROGRESS: at 65.57% examples, 1027155 words/s, in_qsize 16, out_qsize 1\n",
      "INFO - 21:47:24: EPOCH 625: training on 2135928 raw words (1561492 effective words) took 1.5s, 1051113 effective words/s\n"
     ]
    },
    {
     "name": "stdout",
     "output_type": "stream",
     "text": [
      "Loss after epoch 625: 0.0\n"
     ]
    },
    {
     "name": "stderr",
     "output_type": "stream",
     "text": [
      "INFO - 21:47:25: EPOCH 626 - PROGRESS: at 61.66% examples, 961236 words/s, in_qsize 14, out_qsize 1\n",
      "INFO - 21:47:26: EPOCH 626: training on 2135928 raw words (1561016 effective words) took 1.6s, 1003257 effective words/s\n"
     ]
    },
    {
     "name": "stdout",
     "output_type": "stream",
     "text": [
      "Loss after epoch 626: 0.0\n"
     ]
    },
    {
     "name": "stderr",
     "output_type": "stream",
     "text": [
      "INFO - 21:47:27: EPOCH 627 - PROGRESS: at 64.22% examples, 999180 words/s, in_qsize 14, out_qsize 1\n",
      "INFO - 21:47:27: EPOCH 627: training on 2135928 raw words (1560722 effective words) took 1.5s, 1023673 effective words/s\n"
     ]
    },
    {
     "name": "stdout",
     "output_type": "stream",
     "text": [
      "Loss after epoch 627: 0.0\n"
     ]
    },
    {
     "name": "stderr",
     "output_type": "stream",
     "text": [
      "INFO - 21:47:28: EPOCH 628 - PROGRESS: at 62.09% examples, 972429 words/s, in_qsize 15, out_qsize 0\n",
      "INFO - 21:47:29: EPOCH 628: training on 2135928 raw words (1560733 effective words) took 1.5s, 1019639 effective words/s\n"
     ]
    },
    {
     "name": "stdout",
     "output_type": "stream",
     "text": [
      "Loss after epoch 628: 0.0\n"
     ]
    },
    {
     "name": "stderr",
     "output_type": "stream",
     "text": [
      "INFO - 21:47:30: EPOCH 629 - PROGRESS: at 64.22% examples, 1004336 words/s, in_qsize 14, out_qsize 1\n",
      "INFO - 21:47:30: EPOCH 629: training on 2135928 raw words (1561267 effective words) took 1.5s, 1050825 effective words/s\n"
     ]
    },
    {
     "name": "stdout",
     "output_type": "stream",
     "text": [
      "Loss after epoch 629: 0.0\n"
     ]
    },
    {
     "name": "stderr",
     "output_type": "stream",
     "text": [
      "INFO - 21:47:31: EPOCH 630 - PROGRESS: at 63.78% examples, 998061 words/s, in_qsize 14, out_qsize 1\n",
      "INFO - 21:47:32: EPOCH 630: training on 2135928 raw words (1560658 effective words) took 1.5s, 1023238 effective words/s\n"
     ]
    },
    {
     "name": "stdout",
     "output_type": "stream",
     "text": [
      "Loss after epoch 630: 0.0\n"
     ]
    },
    {
     "name": "stderr",
     "output_type": "stream",
     "text": [
      "INFO - 21:47:33: EPOCH 631 - PROGRESS: at 64.66% examples, 1017187 words/s, in_qsize 15, out_qsize 0\n",
      "INFO - 21:47:33: EPOCH 631: training on 2135928 raw words (1560892 effective words) took 1.5s, 1051491 effective words/s\n"
     ]
    },
    {
     "name": "stdout",
     "output_type": "stream",
     "text": [
      "Loss after epoch 631: 0.0\n"
     ]
    },
    {
     "name": "stderr",
     "output_type": "stream",
     "text": [
      "INFO - 21:47:34: EPOCH 632 - PROGRESS: at 64.22% examples, 1007788 words/s, in_qsize 15, out_qsize 0\n",
      "INFO - 21:47:35: EPOCH 632: training on 2135928 raw words (1561537 effective words) took 1.5s, 1034816 effective words/s\n"
     ]
    },
    {
     "name": "stdout",
     "output_type": "stream",
     "text": [
      "Loss after epoch 632: 0.0\n"
     ]
    },
    {
     "name": "stderr",
     "output_type": "stream",
     "text": [
      "INFO - 21:47:36: EPOCH 633 - PROGRESS: at 63.79% examples, 989231 words/s, in_qsize 15, out_qsize 0\n",
      "INFO - 21:47:36: EPOCH 633: training on 2135928 raw words (1561182 effective words) took 1.5s, 1050514 effective words/s\n"
     ]
    },
    {
     "name": "stdout",
     "output_type": "stream",
     "text": [
      "Loss after epoch 633: 0.0\n"
     ]
    },
    {
     "name": "stderr",
     "output_type": "stream",
     "text": [
      "INFO - 21:47:37: EPOCH 634 - PROGRESS: at 67.33% examples, 1039287 words/s, in_qsize 16, out_qsize 0\n",
      "INFO - 21:47:38: EPOCH 634: training on 2135928 raw words (1561246 effective words) took 1.4s, 1078923 effective words/s\n"
     ]
    },
    {
     "name": "stdout",
     "output_type": "stream",
     "text": [
      "Loss after epoch 634: 0.0\n"
     ]
    },
    {
     "name": "stderr",
     "output_type": "stream",
     "text": [
      "INFO - 21:47:39: EPOCH 635 - PROGRESS: at 62.09% examples, 970728 words/s, in_qsize 15, out_qsize 0\n",
      "INFO - 21:47:39: EPOCH 635: training on 2135928 raw words (1561243 effective words) took 1.5s, 1031788 effective words/s\n"
     ]
    },
    {
     "name": "stdout",
     "output_type": "stream",
     "text": [
      "Loss after epoch 635: 0.0\n"
     ]
    },
    {
     "name": "stderr",
     "output_type": "stream",
     "text": [
      "INFO - 21:47:40: EPOCH 636 - PROGRESS: at 66.93% examples, 1031367 words/s, in_qsize 16, out_qsize 2\n",
      "INFO - 21:47:41: EPOCH 636: training on 2135928 raw words (1560974 effective words) took 1.4s, 1081680 effective words/s\n"
     ]
    },
    {
     "name": "stdout",
     "output_type": "stream",
     "text": [
      "Loss after epoch 636: 0.0\n"
     ]
    },
    {
     "name": "stderr",
     "output_type": "stream",
     "text": [
      "INFO - 21:47:42: EPOCH 637 - PROGRESS: at 65.56% examples, 1020885 words/s, in_qsize 15, out_qsize 0\n",
      "INFO - 21:47:42: EPOCH 637: training on 2135928 raw words (1560879 effective words) took 1.5s, 1053982 effective words/s\n"
     ]
    },
    {
     "name": "stdout",
     "output_type": "stream",
     "text": [
      "Loss after epoch 637: 0.0\n"
     ]
    },
    {
     "name": "stderr",
     "output_type": "stream",
     "text": [
      "INFO - 21:47:43: EPOCH 638 - PROGRESS: at 66.48% examples, 1047047 words/s, in_qsize 15, out_qsize 0\n",
      "INFO - 21:47:44: EPOCH 638: training on 2135928 raw words (1561196 effective words) took 1.5s, 1063403 effective words/s\n"
     ]
    },
    {
     "name": "stdout",
     "output_type": "stream",
     "text": [
      "Loss after epoch 638: 0.0\n"
     ]
    },
    {
     "name": "stderr",
     "output_type": "stream",
     "text": [
      "INFO - 21:47:45: EPOCH 639 - PROGRESS: at 63.78% examples, 998426 words/s, in_qsize 16, out_qsize 1\n",
      "INFO - 21:47:45: EPOCH 639: training on 2135928 raw words (1562232 effective words) took 1.5s, 1054905 effective words/s\n"
     ]
    },
    {
     "name": "stdout",
     "output_type": "stream",
     "text": [
      "Loss after epoch 639: 0.0\n"
     ]
    },
    {
     "name": "stderr",
     "output_type": "stream",
     "text": [
      "INFO - 21:47:46: EPOCH 640 - PROGRESS: at 62.50% examples, 972006 words/s, in_qsize 15, out_qsize 0\n",
      "INFO - 21:47:47: EPOCH 640: training on 2135928 raw words (1560969 effective words) took 1.5s, 1014377 effective words/s\n"
     ]
    },
    {
     "name": "stdout",
     "output_type": "stream",
     "text": [
      "Loss after epoch 640: 0.0\n"
     ]
    },
    {
     "name": "stderr",
     "output_type": "stream",
     "text": [
      "INFO - 21:47:48: EPOCH 641 - PROGRESS: at 62.09% examples, 963545 words/s, in_qsize 12, out_qsize 3\n",
      "INFO - 21:47:48: EPOCH 641: training on 2135928 raw words (1560791 effective words) took 1.5s, 1018716 effective words/s\n"
     ]
    },
    {
     "name": "stdout",
     "output_type": "stream",
     "text": [
      "Loss after epoch 641: 0.0\n"
     ]
    },
    {
     "name": "stderr",
     "output_type": "stream",
     "text": [
      "INFO - 21:47:49: EPOCH 642 - PROGRESS: at 66.01% examples, 1037599 words/s, in_qsize 16, out_qsize 0\n",
      "INFO - 21:47:50: EPOCH 642: training on 2135928 raw words (1560735 effective words) took 1.5s, 1011846 effective words/s\n"
     ]
    },
    {
     "name": "stdout",
     "output_type": "stream",
     "text": [
      "Loss after epoch 642: 0.0\n"
     ]
    },
    {
     "name": "stderr",
     "output_type": "stream",
     "text": [
      "INFO - 21:47:51: EPOCH 643 - PROGRESS: at 63.78% examples, 996138 words/s, in_qsize 15, out_qsize 0\n",
      "INFO - 21:47:51: EPOCH 643: training on 2135928 raw words (1560970 effective words) took 1.5s, 1015784 effective words/s\n"
     ]
    },
    {
     "name": "stdout",
     "output_type": "stream",
     "text": [
      "Loss after epoch 643: 0.0\n"
     ]
    },
    {
     "name": "stderr",
     "output_type": "stream",
     "text": [
      "INFO - 21:47:52: EPOCH 644 - PROGRESS: at 63.35% examples, 988105 words/s, in_qsize 16, out_qsize 0\n",
      "INFO - 21:47:53: EPOCH 644: training on 2135928 raw words (1561522 effective words) took 1.5s, 1008427 effective words/s\n"
     ]
    },
    {
     "name": "stdout",
     "output_type": "stream",
     "text": [
      "Loss after epoch 644: 0.0\n"
     ]
    },
    {
     "name": "stderr",
     "output_type": "stream",
     "text": [
      "INFO - 21:47:54: EPOCH 645 - PROGRESS: at 64.22% examples, 997445 words/s, in_qsize 13, out_qsize 2\n",
      "INFO - 21:47:54: EPOCH 645: training on 2135928 raw words (1560539 effective words) took 1.5s, 1046821 effective words/s\n"
     ]
    },
    {
     "name": "stdout",
     "output_type": "stream",
     "text": [
      "Loss after epoch 645: 0.0\n"
     ]
    },
    {
     "name": "stderr",
     "output_type": "stream",
     "text": [
      "INFO - 21:47:55: EPOCH 646 - PROGRESS: at 65.56% examples, 1017283 words/s, in_qsize 15, out_qsize 0\n",
      "INFO - 21:47:56: EPOCH 646: training on 2135928 raw words (1560370 effective words) took 1.5s, 1050533 effective words/s\n"
     ]
    },
    {
     "name": "stdout",
     "output_type": "stream",
     "text": [
      "Loss after epoch 646: 0.0\n"
     ]
    },
    {
     "name": "stderr",
     "output_type": "stream",
     "text": [
      "INFO - 21:47:57: EPOCH 647 - PROGRESS: at 65.11% examples, 1007922 words/s, in_qsize 16, out_qsize 1\n",
      "INFO - 21:47:57: EPOCH 647: training on 2135928 raw words (1560448 effective words) took 1.5s, 1056775 effective words/s\n"
     ]
    },
    {
     "name": "stdout",
     "output_type": "stream",
     "text": [
      "Loss after epoch 647: 0.0\n"
     ]
    },
    {
     "name": "stderr",
     "output_type": "stream",
     "text": [
      "INFO - 21:47:58: EPOCH 648 - PROGRESS: at 66.48% examples, 1041342 words/s, in_qsize 16, out_qsize 0\n",
      "INFO - 21:47:59: EPOCH 648: training on 2135928 raw words (1561060 effective words) took 1.5s, 1067831 effective words/s\n"
     ]
    },
    {
     "name": "stdout",
     "output_type": "stream",
     "text": [
      "Loss after epoch 648: 0.0\n"
     ]
    },
    {
     "name": "stderr",
     "output_type": "stream",
     "text": [
      "INFO - 21:48:00: EPOCH 649 - PROGRESS: at 65.11% examples, 1023045 words/s, in_qsize 16, out_qsize 0\n",
      "INFO - 21:48:00: EPOCH 649: training on 2135928 raw words (1560721 effective words) took 1.5s, 1052625 effective words/s\n"
     ]
    },
    {
     "name": "stdout",
     "output_type": "stream",
     "text": [
      "Loss after epoch 649: 0.0\n"
     ]
    },
    {
     "name": "stderr",
     "output_type": "stream",
     "text": [
      "INFO - 21:48:01: EPOCH 650 - PROGRESS: at 63.37% examples, 985926 words/s, in_qsize 15, out_qsize 0\n",
      "INFO - 21:48:02: EPOCH 650: training on 2135928 raw words (1561472 effective words) took 1.5s, 1036816 effective words/s\n"
     ]
    },
    {
     "name": "stdout",
     "output_type": "stream",
     "text": [
      "Loss after epoch 650: 0.0\n"
     ]
    },
    {
     "name": "stderr",
     "output_type": "stream",
     "text": [
      "INFO - 21:48:03: EPOCH 651 - PROGRESS: at 66.02% examples, 1026828 words/s, in_qsize 16, out_qsize 1\n",
      "INFO - 21:48:03: EPOCH 651: training on 2135928 raw words (1560965 effective words) took 1.5s, 1070814 effective words/s\n"
     ]
    },
    {
     "name": "stdout",
     "output_type": "stream",
     "text": [
      "Loss after epoch 651: 0.0\n"
     ]
    },
    {
     "name": "stderr",
     "output_type": "stream",
     "text": [
      "INFO - 21:48:04: EPOCH 652 - PROGRESS: at 65.11% examples, 1023708 words/s, in_qsize 15, out_qsize 0\n",
      "INFO - 21:48:05: EPOCH 652: training on 2135928 raw words (1561970 effective words) took 1.5s, 1065445 effective words/s\n"
     ]
    },
    {
     "name": "stdout",
     "output_type": "stream",
     "text": [
      "Loss after epoch 652: 0.0\n"
     ]
    },
    {
     "name": "stderr",
     "output_type": "stream",
     "text": [
      "INFO - 21:48:06: EPOCH 653 - PROGRESS: at 64.66% examples, 1006629 words/s, in_qsize 15, out_qsize 0\n",
      "INFO - 21:48:06: EPOCH 653: training on 2135928 raw words (1561345 effective words) took 1.5s, 1058019 effective words/s\n"
     ]
    },
    {
     "name": "stdout",
     "output_type": "stream",
     "text": [
      "Loss after epoch 653: 0.0\n"
     ]
    },
    {
     "name": "stderr",
     "output_type": "stream",
     "text": [
      "INFO - 21:48:07: EPOCH 654 - PROGRESS: at 64.66% examples, 1006490 words/s, in_qsize 15, out_qsize 0\n",
      "INFO - 21:48:08: EPOCH 654: training on 2135928 raw words (1561432 effective words) took 1.5s, 1029558 effective words/s\n"
     ]
    },
    {
     "name": "stdout",
     "output_type": "stream",
     "text": [
      "Loss after epoch 654: 0.0\n"
     ]
    },
    {
     "name": "stderr",
     "output_type": "stream",
     "text": [
      "INFO - 21:48:09: EPOCH 655 - PROGRESS: at 62.94% examples, 976677 words/s, in_qsize 16, out_qsize 3\n",
      "INFO - 21:48:09: EPOCH 655: training on 2135928 raw words (1561313 effective words) took 1.5s, 1013723 effective words/s\n"
     ]
    },
    {
     "name": "stdout",
     "output_type": "stream",
     "text": [
      "Loss after epoch 655: 0.0\n"
     ]
    },
    {
     "name": "stderr",
     "output_type": "stream",
     "text": [
      "INFO - 21:48:10: EPOCH 656 - PROGRESS: at 65.11% examples, 1023881 words/s, in_qsize 15, out_qsize 0\n",
      "INFO - 21:48:11: EPOCH 656: training on 2135928 raw words (1561236 effective words) took 1.5s, 1069692 effective words/s\n"
     ]
    },
    {
     "name": "stdout",
     "output_type": "stream",
     "text": [
      "Loss after epoch 656: 0.0\n"
     ]
    },
    {
     "name": "stderr",
     "output_type": "stream",
     "text": [
      "INFO - 21:48:12: EPOCH 657 - PROGRESS: at 62.09% examples, 966137 words/s, in_qsize 15, out_qsize 0\n",
      "INFO - 21:48:12: EPOCH 657: training on 2135928 raw words (1560944 effective words) took 1.5s, 1022208 effective words/s\n"
     ]
    },
    {
     "name": "stdout",
     "output_type": "stream",
     "text": [
      "Loss after epoch 657: 0.0\n"
     ]
    },
    {
     "name": "stderr",
     "output_type": "stream",
     "text": [
      "INFO - 21:48:13: EPOCH 658 - PROGRESS: at 64.22% examples, 1009366 words/s, in_qsize 15, out_qsize 0\n",
      "INFO - 21:48:14: EPOCH 658: training on 2135928 raw words (1561028 effective words) took 1.5s, 1051920 effective words/s\n"
     ]
    },
    {
     "name": "stdout",
     "output_type": "stream",
     "text": [
      "Loss after epoch 658: 0.0\n"
     ]
    },
    {
     "name": "stderr",
     "output_type": "stream",
     "text": [
      "INFO - 21:48:15: EPOCH 659 - PROGRESS: at 64.22% examples, 1004133 words/s, in_qsize 15, out_qsize 0\n",
      "INFO - 21:48:15: EPOCH 659: training on 2135928 raw words (1561276 effective words) took 1.5s, 1025511 effective words/s\n"
     ]
    },
    {
     "name": "stdout",
     "output_type": "stream",
     "text": [
      "Loss after epoch 659: 0.0\n"
     ]
    },
    {
     "name": "stderr",
     "output_type": "stream",
     "text": [
      "INFO - 21:48:16: EPOCH 660 - PROGRESS: at 65.11% examples, 1011113 words/s, in_qsize 15, out_qsize 0\n",
      "INFO - 21:48:17: EPOCH 660: training on 2135928 raw words (1560615 effective words) took 1.5s, 1052178 effective words/s\n"
     ]
    },
    {
     "name": "stdout",
     "output_type": "stream",
     "text": [
      "Loss after epoch 660: 0.0\n"
     ]
    },
    {
     "name": "stderr",
     "output_type": "stream",
     "text": [
      "INFO - 21:48:18: EPOCH 661 - PROGRESS: at 66.40% examples, 1029101 words/s, in_qsize 13, out_qsize 2\n",
      "INFO - 21:48:18: EPOCH 661: training on 2135928 raw words (1560158 effective words) took 1.5s, 1060670 effective words/s\n"
     ]
    },
    {
     "name": "stdout",
     "output_type": "stream",
     "text": [
      "Loss after epoch 661: 0.0\n"
     ]
    },
    {
     "name": "stderr",
     "output_type": "stream",
     "text": [
      "INFO - 21:48:19: EPOCH 662 - PROGRESS: at 66.01% examples, 1033328 words/s, in_qsize 16, out_qsize 0\n",
      "INFO - 21:48:20: EPOCH 662: training on 2135928 raw words (1560531 effective words) took 1.5s, 1065784 effective words/s\n"
     ]
    },
    {
     "name": "stdout",
     "output_type": "stream",
     "text": [
      "Loss after epoch 662: 0.0\n"
     ]
    },
    {
     "name": "stderr",
     "output_type": "stream",
     "text": [
      "INFO - 21:48:21: EPOCH 663 - PROGRESS: at 65.11% examples, 1014705 words/s, in_qsize 16, out_qsize 1\n",
      "INFO - 21:48:21: EPOCH 663: training on 2135928 raw words (1560804 effective words) took 1.5s, 1060726 effective words/s\n"
     ]
    },
    {
     "name": "stdout",
     "output_type": "stream",
     "text": [
      "Loss after epoch 663: 0.0\n"
     ]
    },
    {
     "name": "stderr",
     "output_type": "stream",
     "text": [
      "INFO - 21:48:22: EPOCH 664 - PROGRESS: at 65.11% examples, 1015582 words/s, in_qsize 15, out_qsize 0\n",
      "INFO - 21:48:23: EPOCH 664: training on 2135928 raw words (1561175 effective words) took 1.5s, 1026167 effective words/s\n"
     ]
    },
    {
     "name": "stdout",
     "output_type": "stream",
     "text": [
      "Loss after epoch 664: 0.0\n"
     ]
    },
    {
     "name": "stderr",
     "output_type": "stream",
     "text": [
      "INFO - 21:48:24: EPOCH 665 - PROGRESS: at 63.37% examples, 987181 words/s, in_qsize 16, out_qsize 0\n",
      "INFO - 21:48:24: EPOCH 665: training on 2135928 raw words (1560518 effective words) took 1.5s, 1028689 effective words/s\n"
     ]
    },
    {
     "name": "stdout",
     "output_type": "stream",
     "text": [
      "Loss after epoch 665: 0.0\n"
     ]
    },
    {
     "name": "stderr",
     "output_type": "stream",
     "text": [
      "INFO - 21:48:25: EPOCH 666 - PROGRESS: at 65.11% examples, 1024121 words/s, in_qsize 15, out_qsize 0\n",
      "INFO - 21:48:26: EPOCH 666: training on 2135928 raw words (1561912 effective words) took 1.5s, 1044782 effective words/s\n"
     ]
    },
    {
     "name": "stdout",
     "output_type": "stream",
     "text": [
      "Loss after epoch 666: 0.0\n"
     ]
    },
    {
     "name": "stderr",
     "output_type": "stream",
     "text": [
      "INFO - 21:48:27: EPOCH 667 - PROGRESS: at 66.46% examples, 1027204 words/s, in_qsize 15, out_qsize 0\n",
      "INFO - 21:48:27: EPOCH 667: training on 2135928 raw words (1560727 effective words) took 1.5s, 1062203 effective words/s\n"
     ]
    },
    {
     "name": "stdout",
     "output_type": "stream",
     "text": [
      "Loss after epoch 667: 0.0\n"
     ]
    },
    {
     "name": "stderr",
     "output_type": "stream",
     "text": [
      "INFO - 21:48:28: EPOCH 668 - PROGRESS: at 58.44% examples, 909010 words/s, in_qsize 15, out_qsize 0\n",
      "INFO - 21:48:29: EPOCH 668: training on 2135928 raw words (1561465 effective words) took 1.7s, 945804 effective words/s\n"
     ]
    },
    {
     "name": "stdout",
     "output_type": "stream",
     "text": [
      "Loss after epoch 668: 0.0\n"
     ]
    },
    {
     "name": "stderr",
     "output_type": "stream",
     "text": [
      "INFO - 21:48:30: EPOCH 669 - PROGRESS: at 59.35% examples, 927798 words/s, in_qsize 16, out_qsize 0\n",
      "INFO - 21:48:31: EPOCH 669: training on 2135928 raw words (1560939 effective words) took 1.6s, 961941 effective words/s\n"
     ]
    },
    {
     "name": "stdout",
     "output_type": "stream",
     "text": [
      "Loss after epoch 669: 0.0\n"
     ]
    },
    {
     "name": "stderr",
     "output_type": "stream",
     "text": [
      "INFO - 21:48:32: EPOCH 670 - PROGRESS: at 57.52% examples, 893533 words/s, in_qsize 15, out_qsize 1\n",
      "INFO - 21:48:32: EPOCH 670: training on 2135928 raw words (1561872 effective words) took 1.7s, 925093 effective words/s\n"
     ]
    },
    {
     "name": "stdout",
     "output_type": "stream",
     "text": [
      "Loss after epoch 670: 0.0\n"
     ]
    },
    {
     "name": "stderr",
     "output_type": "stream",
     "text": [
      "INFO - 21:48:33: EPOCH 671 - PROGRESS: at 58.90% examples, 918564 words/s, in_qsize 15, out_qsize 0\n",
      "INFO - 21:48:34: EPOCH 671: training on 2135928 raw words (1561444 effective words) took 1.6s, 949262 effective words/s\n"
     ]
    },
    {
     "name": "stdout",
     "output_type": "stream",
     "text": [
      "Loss after epoch 671: 0.0\n"
     ]
    },
    {
     "name": "stderr",
     "output_type": "stream",
     "text": [
      "INFO - 21:48:35: EPOCH 672 - PROGRESS: at 59.35% examples, 927292 words/s, in_qsize 15, out_qsize 0\n",
      "INFO - 21:48:36: EPOCH 672: training on 2135928 raw words (1560571 effective words) took 1.6s, 956947 effective words/s\n"
     ]
    },
    {
     "name": "stdout",
     "output_type": "stream",
     "text": [
      "Loss after epoch 672: 0.0\n"
     ]
    },
    {
     "name": "stderr",
     "output_type": "stream",
     "text": [
      "INFO - 21:48:37: EPOCH 673 - PROGRESS: at 57.52% examples, 885936 words/s, in_qsize 14, out_qsize 1\n",
      "INFO - 21:48:37: EPOCH 673: training on 2135928 raw words (1561434 effective words) took 1.6s, 954511 effective words/s\n"
     ]
    },
    {
     "name": "stdout",
     "output_type": "stream",
     "text": [
      "Loss after epoch 673: 0.0\n"
     ]
    },
    {
     "name": "stderr",
     "output_type": "stream",
     "text": [
      "INFO - 21:48:38: EPOCH 674 - PROGRESS: at 64.22% examples, 998347 words/s, in_qsize 14, out_qsize 1\n",
      "INFO - 21:48:39: EPOCH 674: training on 2135928 raw words (1560809 effective words) took 1.5s, 1025522 effective words/s\n"
     ]
    },
    {
     "name": "stdout",
     "output_type": "stream",
     "text": [
      "Loss after epoch 674: 0.0\n"
     ]
    },
    {
     "name": "stderr",
     "output_type": "stream",
     "text": [
      "INFO - 21:48:40: EPOCH 675 - PROGRESS: at 60.29% examples, 933663 words/s, in_qsize 13, out_qsize 2\n",
      "INFO - 21:48:40: EPOCH 675: training on 2135928 raw words (1561159 effective words) took 1.6s, 952071 effective words/s\n"
     ]
    },
    {
     "name": "stdout",
     "output_type": "stream",
     "text": [
      "Loss after epoch 675: 0.0\n"
     ]
    },
    {
     "name": "stderr",
     "output_type": "stream",
     "text": [
      "INFO - 21:48:41: EPOCH 676 - PROGRESS: at 59.35% examples, 925933 words/s, in_qsize 15, out_qsize 0\n",
      "INFO - 21:48:42: EPOCH 676: training on 2135928 raw words (1561073 effective words) took 1.6s, 949560 effective words/s\n"
     ]
    },
    {
     "name": "stdout",
     "output_type": "stream",
     "text": [
      "Loss after epoch 676: 0.0\n"
     ]
    },
    {
     "name": "stderr",
     "output_type": "stream",
     "text": [
      "INFO - 21:48:43: EPOCH 677 - PROGRESS: at 62.50% examples, 974935 words/s, in_qsize 15, out_qsize 0\n",
      "INFO - 21:48:44: EPOCH 677: training on 2135928 raw words (1560731 effective words) took 1.6s, 995623 effective words/s\n"
     ]
    },
    {
     "name": "stdout",
     "output_type": "stream",
     "text": [
      "Loss after epoch 677: 0.0\n"
     ]
    },
    {
     "name": "stderr",
     "output_type": "stream",
     "text": [
      "INFO - 21:48:45: EPOCH 678 - PROGRESS: at 61.65% examples, 966157 words/s, in_qsize 16, out_qsize 0\n",
      "INFO - 21:48:45: EPOCH 678: training on 2135928 raw words (1561613 effective words) took 1.5s, 1021000 effective words/s\n"
     ]
    },
    {
     "name": "stdout",
     "output_type": "stream",
     "text": [
      "Loss after epoch 678: 0.0\n"
     ]
    },
    {
     "name": "stderr",
     "output_type": "stream",
     "text": [
      "INFO - 21:48:46: EPOCH 679 - PROGRESS: at 65.11% examples, 1021014 words/s, in_qsize 16, out_qsize 1\n",
      "INFO - 21:48:47: EPOCH 679: training on 2135928 raw words (1560960 effective words) took 1.5s, 1058729 effective words/s\n"
     ]
    },
    {
     "name": "stdout",
     "output_type": "stream",
     "text": [
      "Loss after epoch 679: 0.0\n"
     ]
    },
    {
     "name": "stderr",
     "output_type": "stream",
     "text": [
      "INFO - 21:48:48: EPOCH 680 - PROGRESS: at 65.56% examples, 1016246 words/s, in_qsize 16, out_qsize 1\n",
      "INFO - 21:48:48: EPOCH 680: training on 2135928 raw words (1560476 effective words) took 1.5s, 1059200 effective words/s\n"
     ]
    },
    {
     "name": "stdout",
     "output_type": "stream",
     "text": [
      "Loss after epoch 680: 0.0\n"
     ]
    },
    {
     "name": "stderr",
     "output_type": "stream",
     "text": [
      "INFO - 21:48:49: EPOCH 681 - PROGRESS: at 63.78% examples, 996488 words/s, in_qsize 16, out_qsize 0\n",
      "INFO - 21:48:50: EPOCH 681: training on 2135928 raw words (1561376 effective words) took 1.5s, 1041891 effective words/s\n"
     ]
    },
    {
     "name": "stdout",
     "output_type": "stream",
     "text": [
      "Loss after epoch 681: 0.0\n"
     ]
    },
    {
     "name": "stderr",
     "output_type": "stream",
     "text": [
      "INFO - 21:48:51: EPOCH 682 - PROGRESS: at 66.93% examples, 1050064 words/s, in_qsize 15, out_qsize 0\n",
      "INFO - 21:48:51: EPOCH 682: training on 2135928 raw words (1560206 effective words) took 1.4s, 1082721 effective words/s\n"
     ]
    },
    {
     "name": "stdout",
     "output_type": "stream",
     "text": [
      "Loss after epoch 682: 0.0\n"
     ]
    },
    {
     "name": "stderr",
     "output_type": "stream",
     "text": [
      "INFO - 21:48:52: EPOCH 683 - PROGRESS: at 66.87% examples, 1035711 words/s, in_qsize 15, out_qsize 0\n",
      "INFO - 21:48:53: EPOCH 683: training on 2135928 raw words (1560590 effective words) took 1.5s, 1072211 effective words/s\n"
     ]
    },
    {
     "name": "stdout",
     "output_type": "stream",
     "text": [
      "Loss after epoch 683: 0.0\n"
     ]
    },
    {
     "name": "stderr",
     "output_type": "stream",
     "text": [
      "INFO - 21:48:54: EPOCH 684 - PROGRESS: at 64.22% examples, 1005323 words/s, in_qsize 15, out_qsize 0\n",
      "INFO - 21:48:54: EPOCH 684: training on 2135928 raw words (1560796 effective words) took 1.5s, 1050476 effective words/s\n"
     ]
    },
    {
     "name": "stdout",
     "output_type": "stream",
     "text": [
      "Loss after epoch 684: 0.0\n"
     ]
    },
    {
     "name": "stderr",
     "output_type": "stream",
     "text": [
      "INFO - 21:48:55: EPOCH 685 - PROGRESS: at 62.46% examples, 972335 words/s, in_qsize 14, out_qsize 1\n",
      "INFO - 21:48:56: EPOCH 685: training on 2135928 raw words (1562775 effective words) took 1.6s, 985488 effective words/s\n"
     ]
    },
    {
     "name": "stdout",
     "output_type": "stream",
     "text": [
      "Loss after epoch 685: 0.0\n"
     ]
    },
    {
     "name": "stderr",
     "output_type": "stream",
     "text": [
      "INFO - 21:48:57: EPOCH 686 - PROGRESS: at 63.35% examples, 993217 words/s, in_qsize 16, out_qsize 1\n",
      "INFO - 21:48:57: EPOCH 686: training on 2135928 raw words (1561526 effective words) took 1.5s, 1033633 effective words/s\n"
     ]
    },
    {
     "name": "stdout",
     "output_type": "stream",
     "text": [
      "Loss after epoch 686: 0.0\n"
     ]
    },
    {
     "name": "stderr",
     "output_type": "stream",
     "text": [
      "INFO - 21:48:58: EPOCH 687 - PROGRESS: at 66.48% examples, 1039219 words/s, in_qsize 15, out_qsize 0\n",
      "INFO - 21:48:59: EPOCH 687: training on 2135928 raw words (1561509 effective words) took 1.5s, 1069022 effective words/s\n"
     ]
    },
    {
     "name": "stdout",
     "output_type": "stream",
     "text": [
      "Loss after epoch 687: 0.0\n"
     ]
    },
    {
     "name": "stderr",
     "output_type": "stream",
     "text": [
      "INFO - 21:49:00: EPOCH 688 - PROGRESS: at 67.33% examples, 1058803 words/s, in_qsize 16, out_qsize 0\n",
      "INFO - 21:49:00: EPOCH 688: training on 2135928 raw words (1561171 effective words) took 1.4s, 1083897 effective words/s\n"
     ]
    },
    {
     "name": "stdout",
     "output_type": "stream",
     "text": [
      "Loss after epoch 688: 0.0\n"
     ]
    },
    {
     "name": "stderr",
     "output_type": "stream",
     "text": [
      "INFO - 21:49:01: EPOCH 689 - PROGRESS: at 65.11% examples, 1023638 words/s, in_qsize 15, out_qsize 0\n",
      "INFO - 21:49:02: EPOCH 689: training on 2135928 raw words (1561159 effective words) took 1.5s, 1057823 effective words/s\n"
     ]
    },
    {
     "name": "stdout",
     "output_type": "stream",
     "text": [
      "Loss after epoch 689: 0.0\n"
     ]
    },
    {
     "name": "stderr",
     "output_type": "stream",
     "text": [
      "INFO - 21:49:03: EPOCH 690 - PROGRESS: at 65.58% examples, 1028718 words/s, in_qsize 16, out_qsize 2\n",
      "INFO - 21:49:03: EPOCH 690: training on 2135928 raw words (1560944 effective words) took 1.5s, 1051341 effective words/s\n"
     ]
    },
    {
     "name": "stdout",
     "output_type": "stream",
     "text": [
      "Loss after epoch 690: 0.0\n"
     ]
    },
    {
     "name": "stderr",
     "output_type": "stream",
     "text": [
      "INFO - 21:49:04: EPOCH 691 - PROGRESS: at 62.52% examples, 953719 words/s, in_qsize 15, out_qsize 0\n",
      "INFO - 21:49:05: EPOCH 691: training on 2135928 raw words (1560951 effective words) took 1.5s, 1023396 effective words/s\n"
     ]
    },
    {
     "name": "stdout",
     "output_type": "stream",
     "text": [
      "Loss after epoch 691: 0.0\n"
     ]
    },
    {
     "name": "stderr",
     "output_type": "stream",
     "text": [
      "INFO - 21:49:06: EPOCH 692 - PROGRESS: at 64.22% examples, 997534 words/s, in_qsize 13, out_qsize 2\n",
      "INFO - 21:49:06: EPOCH 692: training on 2135928 raw words (1562497 effective words) took 1.5s, 1033998 effective words/s\n"
     ]
    },
    {
     "name": "stdout",
     "output_type": "stream",
     "text": [
      "Loss after epoch 692: 0.0\n"
     ]
    },
    {
     "name": "stderr",
     "output_type": "stream",
     "text": [
      "INFO - 21:49:07: EPOCH 693 - PROGRESS: at 62.09% examples, 962238 words/s, in_qsize 12, out_qsize 3\n",
      "INFO - 21:49:08: EPOCH 693: training on 2135928 raw words (1560946 effective words) took 1.5s, 1032105 effective words/s\n"
     ]
    },
    {
     "name": "stdout",
     "output_type": "stream",
     "text": [
      "Loss after epoch 693: 0.0\n"
     ]
    },
    {
     "name": "stderr",
     "output_type": "stream",
     "text": [
      "INFO - 21:49:09: EPOCH 694 - PROGRESS: at 66.01% examples, 1038184 words/s, in_qsize 14, out_qsize 1\n",
      "INFO - 21:49:09: EPOCH 694: training on 2135928 raw words (1560823 effective words) took 1.5s, 1048029 effective words/s\n"
     ]
    },
    {
     "name": "stdout",
     "output_type": "stream",
     "text": [
      "Loss after epoch 694: 0.0\n"
     ]
    },
    {
     "name": "stderr",
     "output_type": "stream",
     "text": [
      "INFO - 21:49:10: EPOCH 695 - PROGRESS: at 66.01% examples, 1032035 words/s, in_qsize 14, out_qsize 1\n",
      "INFO - 21:49:11: EPOCH 695: training on 2135928 raw words (1560974 effective words) took 1.5s, 1059714 effective words/s\n"
     ]
    },
    {
     "name": "stdout",
     "output_type": "stream",
     "text": [
      "Loss after epoch 695: 0.0\n"
     ]
    },
    {
     "name": "stderr",
     "output_type": "stream",
     "text": [
      "INFO - 21:49:12: EPOCH 696 - PROGRESS: at 64.67% examples, 1017112 words/s, in_qsize 15, out_qsize 0\n",
      "INFO - 21:49:12: EPOCH 696: training on 2135928 raw words (1561889 effective words) took 1.5s, 1051676 effective words/s\n"
     ]
    },
    {
     "name": "stdout",
     "output_type": "stream",
     "text": [
      "Loss after epoch 696: 0.0\n"
     ]
    },
    {
     "name": "stderr",
     "output_type": "stream",
     "text": [
      "INFO - 21:49:13: EPOCH 697 - PROGRESS: at 64.66% examples, 1015981 words/s, in_qsize 14, out_qsize 1\n",
      "INFO - 21:49:14: EPOCH 697: training on 2135928 raw words (1560826 effective words) took 1.5s, 1049401 effective words/s\n"
     ]
    },
    {
     "name": "stdout",
     "output_type": "stream",
     "text": [
      "Loss after epoch 697: 0.0\n"
     ]
    },
    {
     "name": "stderr",
     "output_type": "stream",
     "text": [
      "INFO - 21:49:15: EPOCH 698 - PROGRESS: at 62.52% examples, 972245 words/s, in_qsize 15, out_qsize 0\n",
      "INFO - 21:49:15: EPOCH 698: training on 2135928 raw words (1561377 effective words) took 1.5s, 1021784 effective words/s\n"
     ]
    },
    {
     "name": "stdout",
     "output_type": "stream",
     "text": [
      "Loss after epoch 698: 0.0\n"
     ]
    },
    {
     "name": "stderr",
     "output_type": "stream",
     "text": [
      "INFO - 21:49:16: EPOCH 699 - PROGRESS: at 63.80% examples, 996277 words/s, in_qsize 14, out_qsize 1\n",
      "INFO - 21:49:17: EPOCH 699: training on 2135928 raw words (1560629 effective words) took 1.5s, 1022895 effective words/s\n"
     ]
    },
    {
     "name": "stdout",
     "output_type": "stream",
     "text": [
      "Loss after epoch 699: 0.0\n"
     ]
    },
    {
     "name": "stderr",
     "output_type": "stream",
     "text": [
      "INFO - 21:49:18: EPOCH 700 - PROGRESS: at 60.27% examples, 929954 words/s, in_qsize 14, out_qsize 1\n",
      "INFO - 21:49:18: EPOCH 700: training on 2135928 raw words (1561054 effective words) took 1.6s, 981628 effective words/s\n"
     ]
    },
    {
     "name": "stdout",
     "output_type": "stream",
     "text": [
      "Loss after epoch 700: 0.0\n"
     ]
    },
    {
     "name": "stderr",
     "output_type": "stream",
     "text": [
      "INFO - 21:49:19: EPOCH 701 - PROGRESS: at 64.25% examples, 1008135 words/s, in_qsize 12, out_qsize 3\n",
      "INFO - 21:49:20: EPOCH 701: training on 2135928 raw words (1561212 effective words) took 1.5s, 1047778 effective words/s\n"
     ]
    },
    {
     "name": "stdout",
     "output_type": "stream",
     "text": [
      "Loss after epoch 701: 0.0\n"
     ]
    },
    {
     "name": "stderr",
     "output_type": "stream",
     "text": [
      "INFO - 21:49:21: EPOCH 702 - PROGRESS: at 64.66% examples, 1012964 words/s, in_qsize 15, out_qsize 0\n",
      "INFO - 21:49:21: EPOCH 702: training on 2135928 raw words (1561097 effective words) took 1.5s, 1035807 effective words/s\n"
     ]
    },
    {
     "name": "stdout",
     "output_type": "stream",
     "text": [
      "Loss after epoch 702: 0.0\n"
     ]
    },
    {
     "name": "stderr",
     "output_type": "stream",
     "text": [
      "INFO - 21:49:22: EPOCH 703 - PROGRESS: at 65.56% examples, 1017276 words/s, in_qsize 15, out_qsize 0\n",
      "INFO - 21:49:23: EPOCH 703: training on 2135928 raw words (1560374 effective words) took 1.5s, 1049541 effective words/s\n"
     ]
    },
    {
     "name": "stdout",
     "output_type": "stream",
     "text": [
      "Loss after epoch 703: 0.0\n"
     ]
    },
    {
     "name": "stderr",
     "output_type": "stream",
     "text": [
      "INFO - 21:49:24: EPOCH 704 - PROGRESS: at 62.93% examples, 984806 words/s, in_qsize 16, out_qsize 0\n",
      "INFO - 21:49:24: EPOCH 704: training on 2135928 raw words (1560683 effective words) took 1.5s, 1014174 effective words/s\n"
     ]
    },
    {
     "name": "stdout",
     "output_type": "stream",
     "text": [
      "Loss after epoch 704: 0.0\n"
     ]
    },
    {
     "name": "stderr",
     "output_type": "stream",
     "text": [
      "INFO - 21:49:25: EPOCH 705 - PROGRESS: at 67.34% examples, 1039515 words/s, in_qsize 14, out_qsize 1\n",
      "INFO - 21:49:26: EPOCH 705: training on 2135928 raw words (1560874 effective words) took 1.4s, 1084675 effective words/s\n"
     ]
    },
    {
     "name": "stdout",
     "output_type": "stream",
     "text": [
      "Loss after epoch 705: 0.0\n"
     ]
    },
    {
     "name": "stderr",
     "output_type": "stream",
     "text": [
      "INFO - 21:49:27: EPOCH 706 - PROGRESS: at 65.11% examples, 1022979 words/s, in_qsize 14, out_qsize 1\n",
      "INFO - 21:49:27: EPOCH 706: training on 2135928 raw words (1561159 effective words) took 1.5s, 1060743 effective words/s\n"
     ]
    },
    {
     "name": "stdout",
     "output_type": "stream",
     "text": [
      "Loss after epoch 706: 0.0\n"
     ]
    },
    {
     "name": "stderr",
     "output_type": "stream",
     "text": [
      "INFO - 21:49:28: EPOCH 707 - PROGRESS: at 66.46% examples, 1031296 words/s, in_qsize 15, out_qsize 0\n",
      "INFO - 21:49:29: EPOCH 707: training on 2135928 raw words (1560864 effective words) took 1.5s, 1044503 effective words/s\n"
     ]
    },
    {
     "name": "stdout",
     "output_type": "stream",
     "text": [
      "Loss after epoch 707: 0.0\n"
     ]
    },
    {
     "name": "stderr",
     "output_type": "stream",
     "text": [
      "INFO - 21:49:30: EPOCH 708 - PROGRESS: at 66.01% examples, 1031956 words/s, in_qsize 15, out_qsize 0\n",
      "INFO - 21:49:30: EPOCH 708: training on 2135928 raw words (1561115 effective words) took 1.4s, 1079978 effective words/s\n"
     ]
    },
    {
     "name": "stdout",
     "output_type": "stream",
     "text": [
      "Loss after epoch 708: 0.0\n"
     ]
    },
    {
     "name": "stderr",
     "output_type": "stream",
     "text": [
      "INFO - 21:49:31: EPOCH 709 - PROGRESS: at 64.22% examples, 1008792 words/s, in_qsize 14, out_qsize 1\n",
      "INFO - 21:49:32: EPOCH 709: training on 2135928 raw words (1561353 effective words) took 1.5s, 1045510 effective words/s\n"
     ]
    },
    {
     "name": "stdout",
     "output_type": "stream",
     "text": [
      "Loss after epoch 709: 0.0\n"
     ]
    },
    {
     "name": "stderr",
     "output_type": "stream",
     "text": [
      "INFO - 21:49:33: EPOCH 710 - PROGRESS: at 65.56% examples, 1022516 words/s, in_qsize 15, out_qsize 0\n",
      "INFO - 21:49:33: EPOCH 710: training on 2135928 raw words (1561818 effective words) took 1.5s, 1049527 effective words/s\n"
     ]
    },
    {
     "name": "stdout",
     "output_type": "stream",
     "text": [
      "Loss after epoch 710: 0.0\n"
     ]
    },
    {
     "name": "stderr",
     "output_type": "stream",
     "text": [
      "INFO - 21:49:34: EPOCH 711 - PROGRESS: at 63.79% examples, 990313 words/s, in_qsize 15, out_qsize 0\n",
      "INFO - 21:49:35: EPOCH 711: training on 2135928 raw words (1560635 effective words) took 1.5s, 1028438 effective words/s\n"
     ]
    },
    {
     "name": "stdout",
     "output_type": "stream",
     "text": [
      "Loss after epoch 711: 0.0\n"
     ]
    },
    {
     "name": "stderr",
     "output_type": "stream",
     "text": [
      "INFO - 21:49:36: EPOCH 712 - PROGRESS: at 66.01% examples, 1015094 words/s, in_qsize 16, out_qsize 0\n",
      "INFO - 21:49:36: EPOCH 712: training on 2135928 raw words (1561009 effective words) took 1.5s, 1056245 effective words/s\n"
     ]
    },
    {
     "name": "stdout",
     "output_type": "stream",
     "text": [
      "Loss after epoch 712: 0.0\n"
     ]
    },
    {
     "name": "stderr",
     "output_type": "stream",
     "text": [
      "INFO - 21:49:37: EPOCH 713 - PROGRESS: at 65.11% examples, 1021223 words/s, in_qsize 15, out_qsize 0\n",
      "INFO - 21:49:38: EPOCH 713: training on 2135928 raw words (1561126 effective words) took 1.5s, 1043005 effective words/s\n"
     ]
    },
    {
     "name": "stdout",
     "output_type": "stream",
     "text": [
      "Loss after epoch 713: 0.0\n"
     ]
    },
    {
     "name": "stderr",
     "output_type": "stream",
     "text": [
      "INFO - 21:49:39: EPOCH 714 - PROGRESS: at 63.35% examples, 995111 words/s, in_qsize 15, out_qsize 0\n",
      "INFO - 21:49:39: EPOCH 714: training on 2135928 raw words (1560915 effective words) took 1.6s, 998292 effective words/s\n"
     ]
    },
    {
     "name": "stdout",
     "output_type": "stream",
     "text": [
      "Loss after epoch 714: 0.0\n"
     ]
    },
    {
     "name": "stderr",
     "output_type": "stream",
     "text": [
      "INFO - 21:49:40: EPOCH 715 - PROGRESS: at 62.93% examples, 982900 words/s, in_qsize 16, out_qsize 0\n",
      "INFO - 21:49:41: EPOCH 715: training on 2135928 raw words (1560223 effective words) took 1.5s, 1031913 effective words/s\n"
     ]
    },
    {
     "name": "stdout",
     "output_type": "stream",
     "text": [
      "Loss after epoch 715: 0.0\n"
     ]
    },
    {
     "name": "stderr",
     "output_type": "stream",
     "text": [
      "INFO - 21:49:42: EPOCH 716 - PROGRESS: at 57.99% examples, 897277 words/s, in_qsize 16, out_qsize 0\n",
      "INFO - 21:49:43: EPOCH 716: training on 2135928 raw words (1561689 effective words) took 1.7s, 915594 effective words/s\n"
     ]
    },
    {
     "name": "stdout",
     "output_type": "stream",
     "text": [
      "Loss after epoch 716: 0.0\n"
     ]
    },
    {
     "name": "stderr",
     "output_type": "stream",
     "text": [
      "INFO - 21:49:44: EPOCH 717 - PROGRESS: at 56.20% examples, 866789 words/s, in_qsize 15, out_qsize 0\n",
      "INFO - 21:49:44: EPOCH 717: training on 2135928 raw words (1561092 effective words) took 1.7s, 913115 effective words/s\n"
     ]
    },
    {
     "name": "stdout",
     "output_type": "stream",
     "text": [
      "Loss after epoch 717: 0.0\n"
     ]
    },
    {
     "name": "stderr",
     "output_type": "stream",
     "text": [
      "INFO - 21:49:45: EPOCH 718 - PROGRESS: at 61.66% examples, 962748 words/s, in_qsize 16, out_qsize 0\n",
      "INFO - 21:49:46: EPOCH 718: training on 2135928 raw words (1562009 effective words) took 1.6s, 983978 effective words/s\n"
     ]
    },
    {
     "name": "stdout",
     "output_type": "stream",
     "text": [
      "Loss after epoch 718: 0.0\n"
     ]
    },
    {
     "name": "stderr",
     "output_type": "stream",
     "text": [
      "INFO - 21:49:47: EPOCH 719 - PROGRESS: at 64.22% examples, 1005501 words/s, in_qsize 15, out_qsize 0\n",
      "INFO - 21:49:47: EPOCH 719: training on 2135928 raw words (1561022 effective words) took 1.5s, 1038124 effective words/s\n"
     ]
    },
    {
     "name": "stdout",
     "output_type": "stream",
     "text": [
      "Loss after epoch 719: 0.0\n"
     ]
    },
    {
     "name": "stderr",
     "output_type": "stream",
     "text": [
      "INFO - 21:49:48: EPOCH 720 - PROGRESS: at 65.57% examples, 1031760 words/s, in_qsize 15, out_qsize 0\n",
      "INFO - 21:49:49: EPOCH 720: training on 2135928 raw words (1560791 effective words) took 1.5s, 1054291 effective words/s\n"
     ]
    },
    {
     "name": "stdout",
     "output_type": "stream",
     "text": [
      "Loss after epoch 720: 0.0\n"
     ]
    },
    {
     "name": "stderr",
     "output_type": "stream",
     "text": [
      "INFO - 21:49:50: EPOCH 721 - PROGRESS: at 64.22% examples, 1001936 words/s, in_qsize 14, out_qsize 1\n",
      "INFO - 21:49:50: EPOCH 721: training on 2135928 raw words (1561817 effective words) took 1.5s, 1026952 effective words/s\n"
     ]
    },
    {
     "name": "stdout",
     "output_type": "stream",
     "text": [
      "Loss after epoch 721: 0.0\n"
     ]
    },
    {
     "name": "stderr",
     "output_type": "stream",
     "text": [
      "INFO - 21:49:51: EPOCH 722 - PROGRESS: at 64.66% examples, 1004729 words/s, in_qsize 15, out_qsize 0\n",
      "INFO - 21:49:52: EPOCH 722: training on 2135928 raw words (1561728 effective words) took 1.5s, 1044443 effective words/s\n"
     ]
    },
    {
     "name": "stdout",
     "output_type": "stream",
     "text": [
      "Loss after epoch 722: 0.0\n"
     ]
    },
    {
     "name": "stderr",
     "output_type": "stream",
     "text": [
      "INFO - 21:49:53: EPOCH 723 - PROGRESS: at 65.11% examples, 1020588 words/s, in_qsize 15, out_qsize 0\n",
      "INFO - 21:49:53: EPOCH 723: training on 2135928 raw words (1561786 effective words) took 1.5s, 1057252 effective words/s\n"
     ]
    },
    {
     "name": "stdout",
     "output_type": "stream",
     "text": [
      "Loss after epoch 723: 0.0\n"
     ]
    },
    {
     "name": "stderr",
     "output_type": "stream",
     "text": [
      "INFO - 21:49:54: EPOCH 724 - PROGRESS: at 66.02% examples, 1039274 words/s, in_qsize 16, out_qsize 0\n",
      "INFO - 21:49:55: EPOCH 724: training on 2135928 raw words (1561435 effective words) took 1.5s, 1068548 effective words/s\n"
     ]
    },
    {
     "name": "stdout",
     "output_type": "stream",
     "text": [
      "Loss after epoch 724: 0.0\n"
     ]
    },
    {
     "name": "stderr",
     "output_type": "stream",
     "text": [
      "INFO - 21:49:56: EPOCH 725 - PROGRESS: at 63.80% examples, 992791 words/s, in_qsize 15, out_qsize 0\n",
      "INFO - 21:49:56: EPOCH 725: training on 2135928 raw words (1561381 effective words) took 1.5s, 1036871 effective words/s\n"
     ]
    },
    {
     "name": "stdout",
     "output_type": "stream",
     "text": [
      "Loss after epoch 725: 0.0\n"
     ]
    },
    {
     "name": "stderr",
     "output_type": "stream",
     "text": [
      "INFO - 21:49:57: EPOCH 726 - PROGRESS: at 65.56% examples, 1032974 words/s, in_qsize 16, out_qsize 0\n",
      "INFO - 21:49:58: EPOCH 726: training on 2135928 raw words (1561191 effective words) took 1.5s, 1047856 effective words/s\n"
     ]
    },
    {
     "name": "stdout",
     "output_type": "stream",
     "text": [
      "Loss after epoch 726: 0.0\n"
     ]
    },
    {
     "name": "stderr",
     "output_type": "stream",
     "text": [
      "INFO - 21:49:59: EPOCH 727 - PROGRESS: at 65.11% examples, 1022244 words/s, in_qsize 15, out_qsize 0\n",
      "INFO - 21:49:59: EPOCH 727: training on 2135928 raw words (1560624 effective words) took 1.5s, 1047157 effective words/s\n"
     ]
    },
    {
     "name": "stdout",
     "output_type": "stream",
     "text": [
      "Loss after epoch 727: 0.0\n"
     ]
    },
    {
     "name": "stderr",
     "output_type": "stream",
     "text": [
      "INFO - 21:50:00: EPOCH 728 - PROGRESS: at 66.01% examples, 1025356 words/s, in_qsize 14, out_qsize 1\n",
      "INFO - 21:50:01: EPOCH 728: training on 2135928 raw words (1561046 effective words) took 1.5s, 1054144 effective words/s\n"
     ]
    },
    {
     "name": "stdout",
     "output_type": "stream",
     "text": [
      "Loss after epoch 728: 0.0\n"
     ]
    },
    {
     "name": "stderr",
     "output_type": "stream",
     "text": [
      "INFO - 21:50:02: EPOCH 729 - PROGRESS: at 60.27% examples, 937050 words/s, in_qsize 16, out_qsize 1\n",
      "INFO - 21:50:02: EPOCH 729: training on 2135928 raw words (1562056 effective words) took 1.5s, 1008497 effective words/s\n"
     ]
    },
    {
     "name": "stdout",
     "output_type": "stream",
     "text": [
      "Loss after epoch 729: 0.0\n"
     ]
    },
    {
     "name": "stderr",
     "output_type": "stream",
     "text": [
      "INFO - 21:50:04: EPOCH 730 - PROGRESS: at 64.22% examples, 1005109 words/s, in_qsize 15, out_qsize 0\n",
      "INFO - 21:50:04: EPOCH 730: training on 2135928 raw words (1561523 effective words) took 1.5s, 1047432 effective words/s\n"
     ]
    },
    {
     "name": "stdout",
     "output_type": "stream",
     "text": [
      "Loss after epoch 730: 0.0\n"
     ]
    },
    {
     "name": "stderr",
     "output_type": "stream",
     "text": [
      "INFO - 21:50:05: EPOCH 731 - PROGRESS: at 66.93% examples, 1046349 words/s, in_qsize 14, out_qsize 1\n",
      "INFO - 21:50:05: EPOCH 731: training on 2135928 raw words (1561455 effective words) took 1.5s, 1063648 effective words/s\n"
     ]
    },
    {
     "name": "stdout",
     "output_type": "stream",
     "text": [
      "Loss after epoch 731: 0.0\n"
     ]
    },
    {
     "name": "stderr",
     "output_type": "stream",
     "text": [
      "INFO - 21:50:06: EPOCH 732 - PROGRESS: at 64.24% examples, 1004443 words/s, in_qsize 14, out_qsize 1\n",
      "INFO - 21:50:07: EPOCH 732: training on 2135928 raw words (1560457 effective words) took 1.5s, 1049938 effective words/s\n"
     ]
    },
    {
     "name": "stdout",
     "output_type": "stream",
     "text": [
      "Loss after epoch 732: 0.0\n"
     ]
    },
    {
     "name": "stderr",
     "output_type": "stream",
     "text": [
      "INFO - 21:50:08: EPOCH 733 - PROGRESS: at 66.48% examples, 1046561 words/s, in_qsize 16, out_qsize 1\n",
      "INFO - 21:50:08: EPOCH 733: training on 2135928 raw words (1561434 effective words) took 1.5s, 1070165 effective words/s\n"
     ]
    },
    {
     "name": "stdout",
     "output_type": "stream",
     "text": [
      "Loss after epoch 733: 0.0\n"
     ]
    },
    {
     "name": "stderr",
     "output_type": "stream",
     "text": [
      "INFO - 21:50:09: EPOCH 734 - PROGRESS: at 66.01% examples, 1037436 words/s, in_qsize 16, out_qsize 0\n",
      "INFO - 21:50:10: EPOCH 734: training on 2135928 raw words (1561303 effective words) took 1.5s, 1073867 effective words/s\n"
     ]
    },
    {
     "name": "stdout",
     "output_type": "stream",
     "text": [
      "Loss after epoch 734: 0.0\n"
     ]
    },
    {
     "name": "stderr",
     "output_type": "stream",
     "text": [
      "INFO - 21:50:11: EPOCH 735 - PROGRESS: at 66.02% examples, 1033716 words/s, in_qsize 14, out_qsize 2\n",
      "INFO - 21:50:11: EPOCH 735: training on 2135928 raw words (1560856 effective words) took 1.5s, 1058865 effective words/s\n"
     ]
    },
    {
     "name": "stdout",
     "output_type": "stream",
     "text": [
      "Loss after epoch 735: 0.0\n"
     ]
    },
    {
     "name": "stderr",
     "output_type": "stream",
     "text": [
      "INFO - 21:50:12: EPOCH 736 - PROGRESS: at 63.79% examples, 998641 words/s, in_qsize 15, out_qsize 0\n",
      "INFO - 21:50:13: EPOCH 736: training on 2135928 raw words (1561210 effective words) took 1.6s, 968719 effective words/s\n"
     ]
    },
    {
     "name": "stdout",
     "output_type": "stream",
     "text": [
      "Loss after epoch 736: 0.0\n"
     ]
    },
    {
     "name": "stderr",
     "output_type": "stream",
     "text": [
      "INFO - 21:50:14: EPOCH 737 - PROGRESS: at 60.29% examples, 931741 words/s, in_qsize 14, out_qsize 1\n",
      "INFO - 21:50:15: EPOCH 737: training on 2135928 raw words (1560910 effective words) took 1.6s, 975673 effective words/s\n"
     ]
    },
    {
     "name": "stdout",
     "output_type": "stream",
     "text": [
      "Loss after epoch 737: 0.0\n"
     ]
    },
    {
     "name": "stderr",
     "output_type": "stream",
     "text": [
      "INFO - 21:50:16: EPOCH 738 - PROGRESS: at 62.09% examples, 961521 words/s, in_qsize 16, out_qsize 0\n",
      "INFO - 21:50:16: EPOCH 738: training on 2135928 raw words (1561391 effective words) took 1.6s, 1005393 effective words/s\n"
     ]
    },
    {
     "name": "stdout",
     "output_type": "stream",
     "text": [
      "Loss after epoch 738: 0.0\n"
     ]
    },
    {
     "name": "stderr",
     "output_type": "stream",
     "text": [
      "INFO - 21:50:17: EPOCH 739 - PROGRESS: at 67.72% examples, 1065598 words/s, in_qsize 15, out_qsize 0\n",
      "INFO - 21:50:18: EPOCH 739: training on 2135928 raw words (1561738 effective words) took 1.4s, 1087302 effective words/s\n"
     ]
    },
    {
     "name": "stdout",
     "output_type": "stream",
     "text": [
      "Loss after epoch 739: 0.0\n"
     ]
    },
    {
     "name": "stderr",
     "output_type": "stream",
     "text": [
      "INFO - 21:50:19: EPOCH 740 - PROGRESS: at 66.01% examples, 1032948 words/s, in_qsize 16, out_qsize 1\n",
      "INFO - 21:50:19: EPOCH 740: training on 2135928 raw words (1561108 effective words) took 1.5s, 1069927 effective words/s\n"
     ]
    },
    {
     "name": "stdout",
     "output_type": "stream",
     "text": [
      "Loss after epoch 740: 0.0\n"
     ]
    },
    {
     "name": "stderr",
     "output_type": "stream",
     "text": [
      "INFO - 21:50:20: EPOCH 741 - PROGRESS: at 64.24% examples, 1007702 words/s, in_qsize 16, out_qsize 1\n",
      "INFO - 21:50:21: EPOCH 741: training on 2135928 raw words (1560289 effective words) took 1.5s, 1044679 effective words/s\n"
     ]
    },
    {
     "name": "stdout",
     "output_type": "stream",
     "text": [
      "Loss after epoch 741: 0.0\n"
     ]
    },
    {
     "name": "stderr",
     "output_type": "stream",
     "text": [
      "INFO - 21:50:22: EPOCH 742 - PROGRESS: at 62.93% examples, 987214 words/s, in_qsize 15, out_qsize 0\n",
      "INFO - 21:50:22: EPOCH 742: training on 2135928 raw words (1561430 effective words) took 1.5s, 1045642 effective words/s\n"
     ]
    },
    {
     "name": "stdout",
     "output_type": "stream",
     "text": [
      "Loss after epoch 742: 0.0\n"
     ]
    },
    {
     "name": "stderr",
     "output_type": "stream",
     "text": [
      "INFO - 21:50:23: EPOCH 743 - PROGRESS: at 62.93% examples, 973320 words/s, in_qsize 16, out_qsize 0\n",
      "INFO - 21:50:24: EPOCH 743: training on 2135928 raw words (1561409 effective words) took 1.6s, 980870 effective words/s\n"
     ]
    },
    {
     "name": "stdout",
     "output_type": "stream",
     "text": [
      "Loss after epoch 743: 0.0\n"
     ]
    },
    {
     "name": "stderr",
     "output_type": "stream",
     "text": [
      "INFO - 21:50:25: EPOCH 744 - PROGRESS: at 64.66% examples, 1015719 words/s, in_qsize 15, out_qsize 0\n",
      "INFO - 21:50:25: EPOCH 744: training on 2135928 raw words (1560911 effective words) took 1.5s, 1049890 effective words/s\n"
     ]
    },
    {
     "name": "stdout",
     "output_type": "stream",
     "text": [
      "Loss after epoch 744: 0.0\n"
     ]
    },
    {
     "name": "stderr",
     "output_type": "stream",
     "text": [
      "INFO - 21:50:26: EPOCH 745 - PROGRESS: at 63.35% examples, 981599 words/s, in_qsize 16, out_qsize 0\n",
      "INFO - 21:50:27: EPOCH 745: training on 2135928 raw words (1561010 effective words) took 1.5s, 1013066 effective words/s\n"
     ]
    },
    {
     "name": "stdout",
     "output_type": "stream",
     "text": [
      "Loss after epoch 745: 0.0\n"
     ]
    },
    {
     "name": "stderr",
     "output_type": "stream",
     "text": [
      "INFO - 21:50:28: EPOCH 746 - PROGRESS: at 64.22% examples, 995957 words/s, in_qsize 14, out_qsize 1\n",
      "INFO - 21:50:28: EPOCH 746: training on 2135928 raw words (1561118 effective words) took 1.5s, 1037986 effective words/s\n"
     ]
    },
    {
     "name": "stdout",
     "output_type": "stream",
     "text": [
      "Loss after epoch 746: 0.0\n"
     ]
    },
    {
     "name": "stderr",
     "output_type": "stream",
     "text": [
      "INFO - 21:50:29: EPOCH 747 - PROGRESS: at 65.11% examples, 1020041 words/s, in_qsize 14, out_qsize 1\n",
      "INFO - 21:50:30: EPOCH 747: training on 2135928 raw words (1560860 effective words) took 1.5s, 1049008 effective words/s\n"
     ]
    },
    {
     "name": "stdout",
     "output_type": "stream",
     "text": [
      "Loss after epoch 747: 0.0\n"
     ]
    },
    {
     "name": "stderr",
     "output_type": "stream",
     "text": [
      "INFO - 21:50:31: EPOCH 748 - PROGRESS: at 65.11% examples, 1024400 words/s, in_qsize 14, out_qsize 0\n",
      "INFO - 21:50:31: EPOCH 748: training on 2135928 raw words (1561022 effective words) took 1.5s, 1063322 effective words/s\n"
     ]
    },
    {
     "name": "stdout",
     "output_type": "stream",
     "text": [
      "Loss after epoch 748: 0.0\n"
     ]
    },
    {
     "name": "stderr",
     "output_type": "stream",
     "text": [
      "INFO - 21:50:32: EPOCH 749 - PROGRESS: at 65.56% examples, 1025416 words/s, in_qsize 14, out_qsize 1\n",
      "INFO - 21:50:33: EPOCH 749: training on 2135928 raw words (1561715 effective words) took 1.5s, 1057955 effective words/s\n"
     ]
    },
    {
     "name": "stdout",
     "output_type": "stream",
     "text": [
      "Loss after epoch 749: 0.0\n"
     ]
    },
    {
     "name": "stderr",
     "output_type": "stream",
     "text": [
      "INFO - 21:50:34: EPOCH 750 - PROGRESS: at 66.93% examples, 1048940 words/s, in_qsize 16, out_qsize 0\n",
      "INFO - 21:50:34: EPOCH 750: training on 2135928 raw words (1561145 effective words) took 1.5s, 1073813 effective words/s\n"
     ]
    },
    {
     "name": "stdout",
     "output_type": "stream",
     "text": [
      "Loss after epoch 750: 0.0\n"
     ]
    },
    {
     "name": "stderr",
     "output_type": "stream",
     "text": [
      "INFO - 21:50:35: EPOCH 751 - PROGRESS: at 62.93% examples, 980949 words/s, in_qsize 14, out_qsize 1\n",
      "INFO - 21:50:36: EPOCH 751: training on 2135928 raw words (1560836 effective words) took 1.5s, 1020802 effective words/s\n"
     ]
    },
    {
     "name": "stdout",
     "output_type": "stream",
     "text": [
      "Loss after epoch 751: 0.0\n"
     ]
    },
    {
     "name": "stderr",
     "output_type": "stream",
     "text": [
      "INFO - 21:50:37: EPOCH 752 - PROGRESS: at 57.96% examples, 906348 words/s, in_qsize 16, out_qsize 0\n",
      "INFO - 21:50:37: EPOCH 752: training on 2135928 raw words (1561471 effective words) took 1.7s, 930926 effective words/s\n"
     ]
    },
    {
     "name": "stdout",
     "output_type": "stream",
     "text": [
      "Loss after epoch 752: 0.0\n"
     ]
    },
    {
     "name": "stderr",
     "output_type": "stream",
     "text": [
      "INFO - 21:50:38: EPOCH 753 - PROGRESS: at 62.93% examples, 977318 words/s, in_qsize 15, out_qsize 0\n",
      "INFO - 21:50:39: EPOCH 753: training on 2135928 raw words (1560495 effective words) took 1.6s, 973729 effective words/s\n"
     ]
    },
    {
     "name": "stdout",
     "output_type": "stream",
     "text": [
      "Loss after epoch 753: 0.0\n"
     ]
    },
    {
     "name": "stderr",
     "output_type": "stream",
     "text": [
      "INFO - 21:50:40: EPOCH 754 - PROGRESS: at 55.40% examples, 861999 words/s, in_qsize 15, out_qsize 0\n",
      "INFO - 21:50:41: EPOCH 754: training on 2135928 raw words (1561242 effective words) took 1.6s, 949448 effective words/s\n"
     ]
    },
    {
     "name": "stdout",
     "output_type": "stream",
     "text": [
      "Loss after epoch 754: 0.0\n"
     ]
    },
    {
     "name": "stderr",
     "output_type": "stream",
     "text": [
      "INFO - 21:50:42: EPOCH 755 - PROGRESS: at 59.35% examples, 918830 words/s, in_qsize 15, out_qsize 1\n",
      "INFO - 21:50:42: EPOCH 755: training on 2135928 raw words (1561248 effective words) took 1.6s, 962696 effective words/s\n"
     ]
    },
    {
     "name": "stdout",
     "output_type": "stream",
     "text": [
      "Loss after epoch 755: 0.0\n"
     ]
    },
    {
     "name": "stderr",
     "output_type": "stream",
     "text": [
      "INFO - 21:50:43: EPOCH 756 - PROGRESS: at 58.44% examples, 904149 words/s, in_qsize 15, out_qsize 0\n",
      "INFO - 21:50:44: EPOCH 756: training on 2135928 raw words (1561388 effective words) took 1.6s, 962258 effective words/s\n"
     ]
    },
    {
     "name": "stdout",
     "output_type": "stream",
     "text": [
      "Loss after epoch 756: 0.0\n"
     ]
    },
    {
     "name": "stderr",
     "output_type": "stream",
     "text": [
      "INFO - 21:50:45: EPOCH 757 - PROGRESS: at 60.74% examples, 949065 words/s, in_qsize 14, out_qsize 1\n",
      "INFO - 21:50:46: EPOCH 757: training on 2135928 raw words (1560702 effective words) took 1.6s, 977443 effective words/s\n"
     ]
    },
    {
     "name": "stdout",
     "output_type": "stream",
     "text": [
      "Loss after epoch 757: 0.0\n"
     ]
    },
    {
     "name": "stderr",
     "output_type": "stream",
     "text": [
      "INFO - 21:50:47: EPOCH 758 - PROGRESS: at 63.37% examples, 980344 words/s, in_qsize 15, out_qsize 0\n",
      "INFO - 21:50:47: EPOCH 758: training on 2135928 raw words (1561296 effective words) took 1.5s, 1016697 effective words/s\n"
     ]
    },
    {
     "name": "stdout",
     "output_type": "stream",
     "text": [
      "Loss after epoch 758: 0.0\n"
     ]
    },
    {
     "name": "stderr",
     "output_type": "stream",
     "text": [
      "INFO - 21:50:48: EPOCH 759 - PROGRESS: at 63.79% examples, 989367 words/s, in_qsize 14, out_qsize 1\n",
      "INFO - 21:50:49: EPOCH 759: training on 2135928 raw words (1561290 effective words) took 1.5s, 1031480 effective words/s\n"
     ]
    },
    {
     "name": "stdout",
     "output_type": "stream",
     "text": [
      "Loss after epoch 759: 0.0\n"
     ]
    },
    {
     "name": "stderr",
     "output_type": "stream",
     "text": [
      "INFO - 21:50:50: EPOCH 760 - PROGRESS: at 64.22% examples, 1008637 words/s, in_qsize 15, out_qsize 0\n",
      "INFO - 21:50:50: EPOCH 760: training on 2135928 raw words (1561592 effective words) took 1.5s, 1030232 effective words/s\n"
     ]
    },
    {
     "name": "stdout",
     "output_type": "stream",
     "text": [
      "Loss after epoch 760: 0.0\n"
     ]
    },
    {
     "name": "stderr",
     "output_type": "stream",
     "text": [
      "INFO - 21:50:51: EPOCH 761 - PROGRESS: at 65.11% examples, 1021426 words/s, in_qsize 15, out_qsize 0\n",
      "INFO - 21:50:52: EPOCH 761: training on 2135928 raw words (1560307 effective words) took 1.5s, 1048619 effective words/s\n"
     ]
    },
    {
     "name": "stdout",
     "output_type": "stream",
     "text": [
      "Loss after epoch 761: 0.0\n"
     ]
    },
    {
     "name": "stderr",
     "output_type": "stream",
     "text": [
      "INFO - 21:50:53: EPOCH 762 - PROGRESS: at 63.78% examples, 997412 words/s, in_qsize 15, out_qsize 0\n",
      "INFO - 21:50:53: EPOCH 762: training on 2135928 raw words (1561376 effective words) took 1.5s, 1037344 effective words/s\n"
     ]
    },
    {
     "name": "stdout",
     "output_type": "stream",
     "text": [
      "Loss after epoch 762: 0.0\n"
     ]
    },
    {
     "name": "stderr",
     "output_type": "stream",
     "text": [
      "INFO - 21:50:54: EPOCH 763 - PROGRESS: at 66.93% examples, 1038353 words/s, in_qsize 15, out_qsize 0\n",
      "INFO - 21:50:55: EPOCH 763: training on 2135928 raw words (1561495 effective words) took 1.4s, 1078725 effective words/s\n"
     ]
    },
    {
     "name": "stdout",
     "output_type": "stream",
     "text": [
      "Loss after epoch 763: 0.0\n"
     ]
    },
    {
     "name": "stderr",
     "output_type": "stream",
     "text": [
      "INFO - 21:50:56: EPOCH 764 - PROGRESS: at 60.30% examples, 943539 words/s, in_qsize 16, out_qsize 2\n",
      "INFO - 21:50:56: EPOCH 764: training on 2135928 raw words (1561148 effective words) took 1.5s, 1009503 effective words/s\n"
     ]
    },
    {
     "name": "stdout",
     "output_type": "stream",
     "text": [
      "Loss after epoch 764: 0.0\n"
     ]
    },
    {
     "name": "stderr",
     "output_type": "stream",
     "text": [
      "INFO - 21:50:57: EPOCH 765 - PROGRESS: at 61.22% examples, 948635 words/s, in_qsize 16, out_qsize 2\n",
      "INFO - 21:50:58: EPOCH 765: training on 2135928 raw words (1561117 effective words) took 1.5s, 1012348 effective words/s\n"
     ]
    },
    {
     "name": "stdout",
     "output_type": "stream",
     "text": [
      "Loss after epoch 765: 0.0\n"
     ]
    },
    {
     "name": "stderr",
     "output_type": "stream",
     "text": [
      "INFO - 21:50:59: EPOCH 766 - PROGRESS: at 63.35% examples, 980934 words/s, in_qsize 15, out_qsize 0\n",
      "INFO - 21:50:59: EPOCH 766: training on 2135928 raw words (1561750 effective words) took 1.5s, 1029493 effective words/s\n"
     ]
    },
    {
     "name": "stdout",
     "output_type": "stream",
     "text": [
      "Loss after epoch 766: 0.0\n"
     ]
    },
    {
     "name": "stderr",
     "output_type": "stream",
     "text": [
      "INFO - 21:51:00: EPOCH 767 - PROGRESS: at 65.56% examples, 1026458 words/s, in_qsize 14, out_qsize 1\n",
      "INFO - 21:51:01: EPOCH 767: training on 2135928 raw words (1560521 effective words) took 1.5s, 1054399 effective words/s\n"
     ]
    },
    {
     "name": "stdout",
     "output_type": "stream",
     "text": [
      "Loss after epoch 767: 0.0\n"
     ]
    },
    {
     "name": "stderr",
     "output_type": "stream",
     "text": [
      "INFO - 21:51:02: EPOCH 768 - PROGRESS: at 64.66% examples, 1012160 words/s, in_qsize 15, out_qsize 0\n",
      "INFO - 21:51:02: EPOCH 768: training on 2135928 raw words (1561716 effective words) took 1.5s, 1061636 effective words/s\n"
     ]
    },
    {
     "name": "stdout",
     "output_type": "stream",
     "text": [
      "Loss after epoch 768: 0.0\n"
     ]
    },
    {
     "name": "stderr",
     "output_type": "stream",
     "text": [
      "INFO - 21:51:03: EPOCH 769 - PROGRESS: at 65.11% examples, 1024002 words/s, in_qsize 15, out_qsize 0\n",
      "INFO - 21:51:04: EPOCH 769: training on 2135928 raw words (1560987 effective words) took 1.5s, 1047339 effective words/s\n"
     ]
    },
    {
     "name": "stdout",
     "output_type": "stream",
     "text": [
      "Loss after epoch 769: 0.0\n"
     ]
    },
    {
     "name": "stderr",
     "output_type": "stream",
     "text": [
      "INFO - 21:51:05: EPOCH 770 - PROGRESS: at 66.01% examples, 1036082 words/s, in_qsize 16, out_qsize 0\n",
      "INFO - 21:51:05: EPOCH 770: training on 2135928 raw words (1560696 effective words) took 1.5s, 1061200 effective words/s\n"
     ]
    },
    {
     "name": "stdout",
     "output_type": "stream",
     "text": [
      "Loss after epoch 770: 0.0\n"
     ]
    },
    {
     "name": "stderr",
     "output_type": "stream",
     "text": [
      "INFO - 21:51:06: EPOCH 771 - PROGRESS: at 65.11% examples, 1021451 words/s, in_qsize 15, out_qsize 0\n",
      "INFO - 21:51:07: EPOCH 771: training on 2135928 raw words (1561197 effective words) took 1.5s, 1039237 effective words/s\n"
     ]
    },
    {
     "name": "stdout",
     "output_type": "stream",
     "text": [
      "Loss after epoch 771: 0.0\n"
     ]
    },
    {
     "name": "stderr",
     "output_type": "stream",
     "text": [
      "INFO - 21:51:08: EPOCH 772 - PROGRESS: at 60.27% examples, 924128 words/s, in_qsize 15, out_qsize 0\n",
      "INFO - 21:51:08: EPOCH 772: training on 2135928 raw words (1560181 effective words) took 1.6s, 997407 effective words/s\n"
     ]
    },
    {
     "name": "stdout",
     "output_type": "stream",
     "text": [
      "Loss after epoch 772: 0.0\n"
     ]
    },
    {
     "name": "stderr",
     "output_type": "stream",
     "text": [
      "INFO - 21:51:09: EPOCH 773 - PROGRESS: at 64.22% examples, 1002601 words/s, in_qsize 16, out_qsize 0\n",
      "INFO - 21:51:10: EPOCH 773: training on 2135928 raw words (1560647 effective words) took 1.5s, 1038891 effective words/s\n"
     ]
    },
    {
     "name": "stdout",
     "output_type": "stream",
     "text": [
      "Loss after epoch 773: 0.0\n"
     ]
    },
    {
     "name": "stderr",
     "output_type": "stream",
     "text": [
      "INFO - 21:51:11: EPOCH 774 - PROGRESS: at 63.78% examples, 998818 words/s, in_qsize 15, out_qsize 0\n",
      "INFO - 21:51:11: EPOCH 774: training on 2135928 raw words (1561570 effective words) took 1.5s, 1037044 effective words/s\n"
     ]
    },
    {
     "name": "stdout",
     "output_type": "stream",
     "text": [
      "Loss after epoch 774: 0.0\n"
     ]
    },
    {
     "name": "stderr",
     "output_type": "stream",
     "text": [
      "INFO - 21:51:12: EPOCH 775 - PROGRESS: at 62.93% examples, 984253 words/s, in_qsize 16, out_qsize 0\n",
      "INFO - 21:51:13: EPOCH 775: training on 2135928 raw words (1562031 effective words) took 1.5s, 1030470 effective words/s\n"
     ]
    },
    {
     "name": "stdout",
     "output_type": "stream",
     "text": [
      "Loss after epoch 775: 0.0\n"
     ]
    },
    {
     "name": "stderr",
     "output_type": "stream",
     "text": [
      "INFO - 21:51:14: EPOCH 776 - PROGRESS: at 64.67% examples, 1014613 words/s, in_qsize 13, out_qsize 2\n",
      "INFO - 21:51:14: EPOCH 776: training on 2135928 raw words (1560904 effective words) took 1.5s, 1062868 effective words/s\n"
     ]
    },
    {
     "name": "stdout",
     "output_type": "stream",
     "text": [
      "Loss after epoch 776: 0.0\n"
     ]
    },
    {
     "name": "stderr",
     "output_type": "stream",
     "text": [
      "INFO - 21:51:15: EPOCH 777 - PROGRESS: at 65.11% examples, 1024332 words/s, in_qsize 14, out_qsize 1\n",
      "INFO - 21:51:16: EPOCH 777: training on 2135928 raw words (1560841 effective words) took 1.5s, 1050367 effective words/s\n"
     ]
    },
    {
     "name": "stdout",
     "output_type": "stream",
     "text": [
      "Loss after epoch 777: 0.0\n"
     ]
    },
    {
     "name": "stderr",
     "output_type": "stream",
     "text": [
      "INFO - 21:51:17: EPOCH 778 - PROGRESS: at 65.11% examples, 1016739 words/s, in_qsize 16, out_qsize 0\n",
      "INFO - 21:51:17: EPOCH 778: training on 2135928 raw words (1562364 effective words) took 1.5s, 1042903 effective words/s\n"
     ]
    },
    {
     "name": "stdout",
     "output_type": "stream",
     "text": [
      "Loss after epoch 778: 0.0\n"
     ]
    },
    {
     "name": "stderr",
     "output_type": "stream",
     "text": [
      "INFO - 21:51:18: EPOCH 779 - PROGRESS: at 61.65% examples, 960278 words/s, in_qsize 15, out_qsize 0\n",
      "INFO - 21:51:19: EPOCH 779: training on 2135928 raw words (1561383 effective words) took 1.6s, 1000520 effective words/s\n"
     ]
    },
    {
     "name": "stdout",
     "output_type": "stream",
     "text": [
      "Loss after epoch 779: 0.0\n"
     ]
    },
    {
     "name": "stderr",
     "output_type": "stream",
     "text": [
      "INFO - 21:51:20: EPOCH 780 - PROGRESS: at 65.56% examples, 1030114 words/s, in_qsize 16, out_qsize 0\n",
      "INFO - 21:51:20: EPOCH 780: training on 2135928 raw words (1560658 effective words) took 1.5s, 1059720 effective words/s\n"
     ]
    },
    {
     "name": "stdout",
     "output_type": "stream",
     "text": [
      "Loss after epoch 780: 0.0\n"
     ]
    },
    {
     "name": "stderr",
     "output_type": "stream",
     "text": [
      "INFO - 21:51:21: EPOCH 781 - PROGRESS: at 65.95% examples, 1023194 words/s, in_qsize 15, out_qsize 0\n",
      "INFO - 21:51:22: EPOCH 781: training on 2135928 raw words (1561661 effective words) took 1.5s, 1056376 effective words/s\n"
     ]
    },
    {
     "name": "stdout",
     "output_type": "stream",
     "text": [
      "Loss after epoch 781: 0.0\n"
     ]
    },
    {
     "name": "stderr",
     "output_type": "stream",
     "text": [
      "INFO - 21:51:23: EPOCH 782 - PROGRESS: at 64.22% examples, 1007329 words/s, in_qsize 15, out_qsize 1\n",
      "INFO - 21:51:23: EPOCH 782: training on 2135928 raw words (1560492 effective words) took 1.5s, 1053941 effective words/s\n"
     ]
    },
    {
     "name": "stdout",
     "output_type": "stream",
     "text": [
      "Loss after epoch 782: 0.0\n"
     ]
    },
    {
     "name": "stderr",
     "output_type": "stream",
     "text": [
      "INFO - 21:51:24: EPOCH 783 - PROGRESS: at 66.02% examples, 1034820 words/s, in_qsize 14, out_qsize 1\n",
      "INFO - 21:51:25: EPOCH 783: training on 2135928 raw words (1561041 effective words) took 1.5s, 1062088 effective words/s\n"
     ]
    },
    {
     "name": "stdout",
     "output_type": "stream",
     "text": [
      "Loss after epoch 783: 0.0\n"
     ]
    },
    {
     "name": "stderr",
     "output_type": "stream",
     "text": [
      "INFO - 21:51:26: EPOCH 784 - PROGRESS: at 60.27% examples, 939870 words/s, in_qsize 15, out_qsize 0\n",
      "INFO - 21:51:26: EPOCH 784: training on 2135928 raw words (1561578 effective words) took 1.6s, 948391 effective words/s\n"
     ]
    },
    {
     "name": "stdout",
     "output_type": "stream",
     "text": [
      "Loss after epoch 784: 0.0\n"
     ]
    },
    {
     "name": "stderr",
     "output_type": "stream",
     "text": [
      "INFO - 21:51:27: EPOCH 785 - PROGRESS: at 60.27% examples, 940114 words/s, in_qsize 16, out_qsize 0\n",
      "INFO - 21:51:28: EPOCH 785: training on 2135928 raw words (1561426 effective words) took 1.6s, 984474 effective words/s\n"
     ]
    },
    {
     "name": "stdout",
     "output_type": "stream",
     "text": [
      "Loss after epoch 785: 0.0\n"
     ]
    },
    {
     "name": "stderr",
     "output_type": "stream",
     "text": [
      "INFO - 21:51:29: EPOCH 786 - PROGRESS: at 57.06% examples, 891177 words/s, in_qsize 15, out_qsize 0\n",
      "INFO - 21:51:30: EPOCH 786: training on 2135928 raw words (1561536 effective words) took 1.6s, 975340 effective words/s\n"
     ]
    },
    {
     "name": "stdout",
     "output_type": "stream",
     "text": [
      "Loss after epoch 786: 0.0\n"
     ]
    },
    {
     "name": "stderr",
     "output_type": "stream",
     "text": [
      "INFO - 21:51:31: EPOCH 787 - PROGRESS: at 64.25% examples, 1010055 words/s, in_qsize 15, out_qsize 0\n",
      "INFO - 21:51:31: EPOCH 787: training on 2135928 raw words (1561305 effective words) took 1.5s, 1031246 effective words/s\n"
     ]
    },
    {
     "name": "stdout",
     "output_type": "stream",
     "text": [
      "Loss after epoch 787: 0.0\n"
     ]
    },
    {
     "name": "stderr",
     "output_type": "stream",
     "text": [
      "INFO - 21:51:32: EPOCH 788 - PROGRESS: at 61.22% examples, 956737 words/s, in_qsize 15, out_qsize 0\n",
      "INFO - 21:51:33: EPOCH 788: training on 2135928 raw words (1561095 effective words) took 1.5s, 1027787 effective words/s\n"
     ]
    },
    {
     "name": "stdout",
     "output_type": "stream",
     "text": [
      "Loss after epoch 788: 0.0\n"
     ]
    },
    {
     "name": "stderr",
     "output_type": "stream",
     "text": [
      "INFO - 21:51:34: EPOCH 789 - PROGRESS: at 65.11% examples, 1019007 words/s, in_qsize 16, out_qsize 1\n",
      "INFO - 21:51:34: EPOCH 789: training on 2135928 raw words (1560900 effective words) took 1.5s, 1008557 effective words/s\n"
     ]
    },
    {
     "name": "stdout",
     "output_type": "stream",
     "text": [
      "Loss after epoch 789: 0.0\n"
     ]
    },
    {
     "name": "stderr",
     "output_type": "stream",
     "text": [
      "INFO - 21:51:35: EPOCH 790 - PROGRESS: at 59.35% examples, 908979 words/s, in_qsize 16, out_qsize 2\n",
      "INFO - 21:51:36: EPOCH 790: training on 2135928 raw words (1561063 effective words) took 1.6s, 953255 effective words/s\n"
     ]
    },
    {
     "name": "stdout",
     "output_type": "stream",
     "text": [
      "Loss after epoch 790: 0.0\n"
     ]
    },
    {
     "name": "stderr",
     "output_type": "stream",
     "text": [
      "INFO - 21:51:37: EPOCH 791 - PROGRESS: at 59.80% examples, 923284 words/s, in_qsize 14, out_qsize 2\n",
      "INFO - 21:51:38: EPOCH 791: training on 2135928 raw words (1560960 effective words) took 1.6s, 974431 effective words/s\n"
     ]
    },
    {
     "name": "stdout",
     "output_type": "stream",
     "text": [
      "Loss after epoch 791: 0.0\n"
     ]
    },
    {
     "name": "stderr",
     "output_type": "stream",
     "text": [
      "INFO - 21:51:39: EPOCH 792 - PROGRESS: at 62.94% examples, 980702 words/s, in_qsize 14, out_qsize 1\n",
      "INFO - 21:51:39: EPOCH 792: training on 2135928 raw words (1561294 effective words) took 1.5s, 1028742 effective words/s\n"
     ]
    },
    {
     "name": "stdout",
     "output_type": "stream",
     "text": [
      "Loss after epoch 792: 0.0\n"
     ]
    },
    {
     "name": "stderr",
     "output_type": "stream",
     "text": [
      "INFO - 21:51:40: EPOCH 793 - PROGRESS: at 64.66% examples, 1015234 words/s, in_qsize 16, out_qsize 0\n",
      "INFO - 21:51:41: EPOCH 793: training on 2135928 raw words (1560814 effective words) took 1.5s, 1023850 effective words/s\n"
     ]
    },
    {
     "name": "stdout",
     "output_type": "stream",
     "text": [
      "Loss after epoch 793: 0.0\n"
     ]
    },
    {
     "name": "stderr",
     "output_type": "stream",
     "text": [
      "INFO - 21:51:42: EPOCH 794 - PROGRESS: at 65.56% examples, 1032193 words/s, in_qsize 15, out_qsize 0\n",
      "INFO - 21:51:42: EPOCH 794: training on 2135928 raw words (1561766 effective words) took 1.5s, 1052197 effective words/s\n"
     ]
    },
    {
     "name": "stdout",
     "output_type": "stream",
     "text": [
      "Loss after epoch 794: 0.0\n"
     ]
    },
    {
     "name": "stderr",
     "output_type": "stream",
     "text": [
      "INFO - 21:51:43: EPOCH 795 - PROGRESS: at 63.35% examples, 991053 words/s, in_qsize 14, out_qsize 1\n",
      "INFO - 21:51:44: EPOCH 795: training on 2135928 raw words (1561043 effective words) took 1.5s, 1014534 effective words/s\n"
     ]
    },
    {
     "name": "stdout",
     "output_type": "stream",
     "text": [
      "Loss after epoch 795: 0.0\n"
     ]
    },
    {
     "name": "stderr",
     "output_type": "stream",
     "text": [
      "INFO - 21:51:45: EPOCH 796 - PROGRESS: at 64.22% examples, 1005321 words/s, in_qsize 15, out_qsize 0\n",
      "INFO - 21:51:45: EPOCH 796: training on 2135928 raw words (1561364 effective words) took 1.5s, 1041448 effective words/s\n"
     ]
    },
    {
     "name": "stdout",
     "output_type": "stream",
     "text": [
      "Loss after epoch 796: 0.0\n"
     ]
    },
    {
     "name": "stderr",
     "output_type": "stream",
     "text": [
      "INFO - 21:51:46: EPOCH 797 - PROGRESS: at 63.35% examples, 986687 words/s, in_qsize 15, out_qsize 1\n",
      "INFO - 21:51:47: EPOCH 797: training on 2135928 raw words (1560398 effective words) took 1.5s, 1029480 effective words/s\n"
     ]
    },
    {
     "name": "stdout",
     "output_type": "stream",
     "text": [
      "Loss after epoch 797: 0.0\n"
     ]
    },
    {
     "name": "stderr",
     "output_type": "stream",
     "text": [
      "INFO - 21:51:48: EPOCH 798 - PROGRESS: at 64.22% examples, 1001979 words/s, in_qsize 15, out_qsize 3\n",
      "INFO - 21:51:48: EPOCH 798: training on 2135928 raw words (1560894 effective words) took 1.5s, 1052902 effective words/s\n"
     ]
    },
    {
     "name": "stdout",
     "output_type": "stream",
     "text": [
      "Loss after epoch 798: 0.0\n"
     ]
    },
    {
     "name": "stderr",
     "output_type": "stream",
     "text": [
      "INFO - 21:51:49: EPOCH 799 - PROGRESS: at 64.66% examples, 1008468 words/s, in_qsize 16, out_qsize 0\n",
      "INFO - 21:51:50: EPOCH 799: training on 2135928 raw words (1561972 effective words) took 1.5s, 1043762 effective words/s\n"
     ]
    },
    {
     "name": "stdout",
     "output_type": "stream",
     "text": [
      "Loss after epoch 799: 0.0\n"
     ]
    },
    {
     "name": "stderr",
     "output_type": "stream",
     "text": [
      "INFO - 21:51:51: EPOCH 800 - PROGRESS: at 65.11% examples, 1022597 words/s, in_qsize 16, out_qsize 0\n",
      "INFO - 21:51:51: EPOCH 800: training on 2135928 raw words (1561049 effective words) took 1.5s, 1033799 effective words/s\n"
     ]
    },
    {
     "name": "stdout",
     "output_type": "stream",
     "text": [
      "Loss after epoch 800: 0.0\n"
     ]
    },
    {
     "name": "stderr",
     "output_type": "stream",
     "text": [
      "INFO - 21:51:52: EPOCH 801 - PROGRESS: at 62.94% examples, 979671 words/s, in_qsize 15, out_qsize 0\n",
      "INFO - 21:51:53: EPOCH 801: training on 2135928 raw words (1561044 effective words) took 1.5s, 1041210 effective words/s\n"
     ]
    },
    {
     "name": "stdout",
     "output_type": "stream",
     "text": [
      "Loss after epoch 801: 0.0\n"
     ]
    },
    {
     "name": "stderr",
     "output_type": "stream",
     "text": [
      "INFO - 21:51:54: EPOCH 802 - PROGRESS: at 64.22% examples, 1007140 words/s, in_qsize 15, out_qsize 0\n",
      "INFO - 21:51:54: EPOCH 802: training on 2135928 raw words (1561383 effective words) took 1.5s, 1041936 effective words/s\n"
     ]
    },
    {
     "name": "stdout",
     "output_type": "stream",
     "text": [
      "Loss after epoch 802: 0.0\n"
     ]
    },
    {
     "name": "stderr",
     "output_type": "stream",
     "text": [
      "INFO - 21:51:55: EPOCH 803 - PROGRESS: at 66.48% examples, 1036031 words/s, in_qsize 15, out_qsize 0\n",
      "INFO - 21:51:56: EPOCH 803: training on 2135928 raw words (1560597 effective words) took 1.5s, 1067051 effective words/s\n"
     ]
    },
    {
     "name": "stdout",
     "output_type": "stream",
     "text": [
      "Loss after epoch 803: 0.0\n"
     ]
    },
    {
     "name": "stderr",
     "output_type": "stream",
     "text": [
      "INFO - 21:51:57: EPOCH 804 - PROGRESS: at 66.48% examples, 1034539 words/s, in_qsize 16, out_qsize 0\n",
      "INFO - 21:51:57: EPOCH 804: training on 2135928 raw words (1561509 effective words) took 1.5s, 1073537 effective words/s\n"
     ]
    },
    {
     "name": "stdout",
     "output_type": "stream",
     "text": [
      "Loss after epoch 804: 0.0\n"
     ]
    },
    {
     "name": "stderr",
     "output_type": "stream",
     "text": [
      "INFO - 21:51:58: EPOCH 805 - PROGRESS: at 65.56% examples, 1021676 words/s, in_qsize 15, out_qsize 0\n",
      "INFO - 21:51:59: EPOCH 805: training on 2135928 raw words (1560608 effective words) took 1.5s, 1058286 effective words/s\n"
     ]
    },
    {
     "name": "stdout",
     "output_type": "stream",
     "text": [
      "Loss after epoch 805: 0.0\n"
     ]
    },
    {
     "name": "stderr",
     "output_type": "stream",
     "text": [
      "INFO - 21:52:00: EPOCH 806 - PROGRESS: at 65.56% examples, 1019060 words/s, in_qsize 16, out_qsize 1\n",
      "INFO - 21:52:00: EPOCH 806: training on 2135928 raw words (1560846 effective words) took 1.5s, 1061843 effective words/s\n"
     ]
    },
    {
     "name": "stdout",
     "output_type": "stream",
     "text": [
      "Loss after epoch 806: 0.0\n"
     ]
    },
    {
     "name": "stderr",
     "output_type": "stream",
     "text": [
      "INFO - 21:52:01: EPOCH 807 - PROGRESS: at 66.02% examples, 1036114 words/s, in_qsize 13, out_qsize 2\n",
      "INFO - 21:52:02: EPOCH 807: training on 2135928 raw words (1561356 effective words) took 1.4s, 1084443 effective words/s\n"
     ]
    },
    {
     "name": "stdout",
     "output_type": "stream",
     "text": [
      "Loss after epoch 807: 0.0\n"
     ]
    },
    {
     "name": "stderr",
     "output_type": "stream",
     "text": [
      "INFO - 21:52:03: EPOCH 808 - PROGRESS: at 63.35% examples, 995257 words/s, in_qsize 15, out_qsize 0\n",
      "INFO - 21:52:03: EPOCH 808: training on 2135928 raw words (1561718 effective words) took 1.5s, 1036871 effective words/s\n"
     ]
    },
    {
     "name": "stdout",
     "output_type": "stream",
     "text": [
      "Loss after epoch 808: 0.0\n"
     ]
    },
    {
     "name": "stderr",
     "output_type": "stream",
     "text": [
      "INFO - 21:52:04: EPOCH 809 - PROGRESS: at 66.48% examples, 1040627 words/s, in_qsize 15, out_qsize 0\n",
      "INFO - 21:52:05: EPOCH 809: training on 2135928 raw words (1561053 effective words) took 1.5s, 1072421 effective words/s\n"
     ]
    },
    {
     "name": "stdout",
     "output_type": "stream",
     "text": [
      "Loss after epoch 809: 0.0\n"
     ]
    },
    {
     "name": "stderr",
     "output_type": "stream",
     "text": [
      "INFO - 21:52:06: EPOCH 810 - PROGRESS: at 65.56% examples, 1030538 words/s, in_qsize 14, out_qsize 1\n",
      "INFO - 21:52:06: EPOCH 810: training on 2135928 raw words (1560874 effective words) took 1.5s, 1047029 effective words/s\n"
     ]
    },
    {
     "name": "stdout",
     "output_type": "stream",
     "text": [
      "Loss after epoch 810: 0.0\n"
     ]
    },
    {
     "name": "stderr",
     "output_type": "stream",
     "text": [
      "INFO - 21:52:07: EPOCH 811 - PROGRESS: at 64.67% examples, 1009291 words/s, in_qsize 16, out_qsize 0\n",
      "INFO - 21:52:08: EPOCH 811: training on 2135928 raw words (1560730 effective words) took 1.5s, 1047730 effective words/s\n"
     ]
    },
    {
     "name": "stdout",
     "output_type": "stream",
     "text": [
      "Loss after epoch 811: 0.0\n"
     ]
    },
    {
     "name": "stderr",
     "output_type": "stream",
     "text": [
      "INFO - 21:52:09: EPOCH 812 - PROGRESS: at 59.35% examples, 925408 words/s, in_qsize 16, out_qsize 0\n",
      "INFO - 21:52:09: EPOCH 812: training on 2135928 raw words (1561027 effective words) took 1.5s, 1008871 effective words/s\n"
     ]
    },
    {
     "name": "stdout",
     "output_type": "stream",
     "text": [
      "Loss after epoch 812: 0.0\n"
     ]
    },
    {
     "name": "stderr",
     "output_type": "stream",
     "text": [
      "INFO - 21:52:10: EPOCH 813 - PROGRESS: at 66.01% examples, 1035718 words/s, in_qsize 16, out_qsize 0\n",
      "INFO - 21:52:11: EPOCH 813: training on 2135928 raw words (1560330 effective words) took 1.5s, 1073003 effective words/s\n"
     ]
    },
    {
     "name": "stdout",
     "output_type": "stream",
     "text": [
      "Loss after epoch 813: 0.0\n"
     ]
    },
    {
     "name": "stderr",
     "output_type": "stream",
     "text": [
      "INFO - 21:52:12: EPOCH 814 - PROGRESS: at 66.46% examples, 1031353 words/s, in_qsize 14, out_qsize 1\n",
      "INFO - 21:52:12: EPOCH 814: training on 2135928 raw words (1561146 effective words) took 1.5s, 1061891 effective words/s\n"
     ]
    },
    {
     "name": "stdout",
     "output_type": "stream",
     "text": [
      "Loss after epoch 814: 0.0\n"
     ]
    },
    {
     "name": "stderr",
     "output_type": "stream",
     "text": [
      "INFO - 21:52:13: EPOCH 815 - PROGRESS: at 65.11% examples, 1016463 words/s, in_qsize 16, out_qsize 2\n",
      "INFO - 21:52:14: EPOCH 815: training on 2135928 raw words (1561788 effective words) took 1.5s, 1037709 effective words/s\n"
     ]
    },
    {
     "name": "stdout",
     "output_type": "stream",
     "text": [
      "Loss after epoch 815: 0.0\n"
     ]
    },
    {
     "name": "stderr",
     "output_type": "stream",
     "text": [
      "INFO - 21:52:15: EPOCH 816 - PROGRESS: at 64.66% examples, 1011559 words/s, in_qsize 16, out_qsize 0\n",
      "INFO - 21:52:15: EPOCH 816: training on 2135928 raw words (1560613 effective words) took 1.5s, 1053391 effective words/s\n"
     ]
    },
    {
     "name": "stdout",
     "output_type": "stream",
     "text": [
      "Loss after epoch 816: 0.0\n"
     ]
    },
    {
     "name": "stderr",
     "output_type": "stream",
     "text": [
      "INFO - 21:52:16: EPOCH 817 - PROGRESS: at 66.01% examples, 1035304 words/s, in_qsize 14, out_qsize 1\n",
      "INFO - 21:52:17: EPOCH 817: training on 2135928 raw words (1561297 effective words) took 1.5s, 1074414 effective words/s\n"
     ]
    },
    {
     "name": "stdout",
     "output_type": "stream",
     "text": [
      "Loss after epoch 817: 0.0\n"
     ]
    },
    {
     "name": "stderr",
     "output_type": "stream",
     "text": [
      "INFO - 21:52:18: EPOCH 818 - PROGRESS: at 66.48% examples, 1043990 words/s, in_qsize 16, out_qsize 0\n",
      "INFO - 21:52:18: EPOCH 818: training on 2135928 raw words (1561093 effective words) took 1.5s, 1056655 effective words/s\n"
     ]
    },
    {
     "name": "stdout",
     "output_type": "stream",
     "text": [
      "Loss after epoch 818: 0.0\n"
     ]
    },
    {
     "name": "stderr",
     "output_type": "stream",
     "text": [
      "INFO - 21:52:19: EPOCH 819 - PROGRESS: at 64.22% examples, 995340 words/s, in_qsize 15, out_qsize 0\n",
      "INFO - 21:52:20: EPOCH 819: training on 2135928 raw words (1560765 effective words) took 1.5s, 1025730 effective words/s\n"
     ]
    },
    {
     "name": "stdout",
     "output_type": "stream",
     "text": [
      "Loss after epoch 819: 0.0\n"
     ]
    },
    {
     "name": "stderr",
     "output_type": "stream",
     "text": [
      "INFO - 21:52:21: EPOCH 820 - PROGRESS: at 62.94% examples, 970189 words/s, in_qsize 13, out_qsize 2\n",
      "INFO - 21:52:21: EPOCH 820: training on 2135928 raw words (1560987 effective words) took 1.5s, 1030914 effective words/s\n"
     ]
    },
    {
     "name": "stdout",
     "output_type": "stream",
     "text": [
      "Loss after epoch 820: 0.0\n"
     ]
    },
    {
     "name": "stderr",
     "output_type": "stream",
     "text": [
      "INFO - 21:52:22: EPOCH 821 - PROGRESS: at 66.87% examples, 1043582 words/s, in_qsize 16, out_qsize 0\n",
      "INFO - 21:52:23: EPOCH 821: training on 2135928 raw words (1561442 effective words) took 1.5s, 1066953 effective words/s\n"
     ]
    },
    {
     "name": "stdout",
     "output_type": "stream",
     "text": [
      "Loss after epoch 821: 0.0\n"
     ]
    },
    {
     "name": "stderr",
     "output_type": "stream",
     "text": [
      "INFO - 21:52:24: EPOCH 822 - PROGRESS: at 66.46% examples, 1040238 words/s, in_qsize 13, out_qsize 2\n",
      "INFO - 21:52:24: EPOCH 822: training on 2135928 raw words (1561304 effective words) took 1.5s, 1069109 effective words/s\n"
     ]
    },
    {
     "name": "stdout",
     "output_type": "stream",
     "text": [
      "Loss after epoch 822: 0.0\n"
     ]
    },
    {
     "name": "stderr",
     "output_type": "stream",
     "text": [
      "INFO - 21:52:25: EPOCH 823 - PROGRESS: at 63.79% examples, 994930 words/s, in_qsize 16, out_qsize 1\n",
      "INFO - 21:52:26: EPOCH 823: training on 2135928 raw words (1560792 effective words) took 1.5s, 1042934 effective words/s\n"
     ]
    },
    {
     "name": "stdout",
     "output_type": "stream",
     "text": [
      "Loss after epoch 823: 0.0\n"
     ]
    },
    {
     "name": "stderr",
     "output_type": "stream",
     "text": [
      "INFO - 21:52:27: EPOCH 824 - PROGRESS: at 66.01% examples, 1021483 words/s, in_qsize 15, out_qsize 0\n",
      "INFO - 21:52:27: EPOCH 824: training on 2135928 raw words (1561434 effective words) took 1.5s, 1043910 effective words/s\n"
     ]
    },
    {
     "name": "stdout",
     "output_type": "stream",
     "text": [
      "Loss after epoch 824: 0.0\n"
     ]
    },
    {
     "name": "stderr",
     "output_type": "stream",
     "text": [
      "INFO - 21:52:28: EPOCH 825 - PROGRESS: at 63.80% examples, 999967 words/s, in_qsize 16, out_qsize 0\n",
      "INFO - 21:52:29: EPOCH 825: training on 2135928 raw words (1561113 effective words) took 1.5s, 1051513 effective words/s\n"
     ]
    },
    {
     "name": "stdout",
     "output_type": "stream",
     "text": [
      "Loss after epoch 825: 0.0\n"
     ]
    },
    {
     "name": "stderr",
     "output_type": "stream",
     "text": [
      "INFO - 21:52:30: EPOCH 826 - PROGRESS: at 62.93% examples, 987864 words/s, in_qsize 16, out_qsize 1\n",
      "INFO - 21:52:30: EPOCH 826: training on 2135928 raw words (1561521 effective words) took 1.5s, 1015709 effective words/s\n"
     ]
    },
    {
     "name": "stdout",
     "output_type": "stream",
     "text": [
      "Loss after epoch 826: 0.0\n"
     ]
    },
    {
     "name": "stderr",
     "output_type": "stream",
     "text": [
      "INFO - 21:52:31: EPOCH 827 - PROGRESS: at 66.46% examples, 1036109 words/s, in_qsize 14, out_qsize 1\n",
      "INFO - 21:52:32: EPOCH 827: training on 2135928 raw words (1561105 effective words) took 1.5s, 1058047 effective words/s\n"
     ]
    },
    {
     "name": "stdout",
     "output_type": "stream",
     "text": [
      "Loss after epoch 827: 0.0\n"
     ]
    },
    {
     "name": "stderr",
     "output_type": "stream",
     "text": [
      "INFO - 21:52:33: EPOCH 828 - PROGRESS: at 63.78% examples, 1002259 words/s, in_qsize 15, out_qsize 0\n",
      "INFO - 21:52:33: EPOCH 828: training on 2135928 raw words (1561088 effective words) took 1.5s, 1044917 effective words/s\n"
     ]
    },
    {
     "name": "stdout",
     "output_type": "stream",
     "text": [
      "Loss after epoch 828: 0.0\n"
     ]
    },
    {
     "name": "stderr",
     "output_type": "stream",
     "text": [
      "INFO - 21:52:34: EPOCH 829 - PROGRESS: at 60.27% examples, 942364 words/s, in_qsize 15, out_qsize 0\n",
      "INFO - 21:52:35: EPOCH 829: training on 2135928 raw words (1561045 effective words) took 1.6s, 953850 effective words/s\n"
     ]
    },
    {
     "name": "stdout",
     "output_type": "stream",
     "text": [
      "Loss after epoch 829: 0.0\n"
     ]
    },
    {
     "name": "stderr",
     "output_type": "stream",
     "text": [
      "INFO - 21:52:36: EPOCH 830 - PROGRESS: at 55.40% examples, 847989 words/s, in_qsize 15, out_qsize 0\n",
      "INFO - 21:52:36: EPOCH 830: training on 2135928 raw words (1560468 effective words) took 1.7s, 921339 effective words/s\n"
     ]
    },
    {
     "name": "stdout",
     "output_type": "stream",
     "text": [
      "Loss after epoch 830: 0.0\n"
     ]
    },
    {
     "name": "stderr",
     "output_type": "stream",
     "text": [
      "INFO - 21:52:37: EPOCH 831 - PROGRESS: at 65.11% examples, 1012952 words/s, in_qsize 14, out_qsize 1\n",
      "INFO - 21:52:38: EPOCH 831: training on 2135928 raw words (1560753 effective words) took 1.5s, 1036155 effective words/s\n"
     ]
    },
    {
     "name": "stdout",
     "output_type": "stream",
     "text": [
      "Loss after epoch 831: 0.0\n"
     ]
    },
    {
     "name": "stderr",
     "output_type": "stream",
     "text": [
      "INFO - 21:52:39: EPOCH 832 - PROGRESS: at 63.35% examples, 995333 words/s, in_qsize 15, out_qsize 0\n",
      "INFO - 21:52:39: EPOCH 832: training on 2135928 raw words (1561274 effective words) took 1.5s, 1033977 effective words/s\n"
     ]
    },
    {
     "name": "stdout",
     "output_type": "stream",
     "text": [
      "Loss after epoch 832: 0.0\n"
     ]
    },
    {
     "name": "stderr",
     "output_type": "stream",
     "text": [
      "INFO - 21:52:40: EPOCH 833 - PROGRESS: at 66.02% examples, 1035284 words/s, in_qsize 16, out_qsize 0\n",
      "INFO - 21:52:41: EPOCH 833: training on 2135928 raw words (1560819 effective words) took 1.5s, 1059433 effective words/s\n"
     ]
    },
    {
     "name": "stdout",
     "output_type": "stream",
     "text": [
      "Loss after epoch 833: 0.0\n"
     ]
    },
    {
     "name": "stderr",
     "output_type": "stream",
     "text": [
      "INFO - 21:52:42: EPOCH 834 - PROGRESS: at 66.93% examples, 1054558 words/s, in_qsize 15, out_qsize 0\n",
      "INFO - 21:52:42: EPOCH 834: training on 2135928 raw words (1560997 effective words) took 1.5s, 1062859 effective words/s\n"
     ]
    },
    {
     "name": "stdout",
     "output_type": "stream",
     "text": [
      "Loss after epoch 834: 0.0\n"
     ]
    },
    {
     "name": "stderr",
     "output_type": "stream",
     "text": [
      "INFO - 21:52:43: EPOCH 835 - PROGRESS: at 63.36% examples, 964549 words/s, in_qsize 14, out_qsize 1\n",
      "INFO - 21:52:44: EPOCH 835: training on 2135928 raw words (1561971 effective words) took 1.5s, 1026288 effective words/s\n"
     ]
    },
    {
     "name": "stdout",
     "output_type": "stream",
     "text": [
      "Loss after epoch 835: 0.0\n"
     ]
    },
    {
     "name": "stderr",
     "output_type": "stream",
     "text": [
      "INFO - 21:52:45: EPOCH 836 - PROGRESS: at 65.11% examples, 1021716 words/s, in_qsize 15, out_qsize 0\n",
      "INFO - 21:52:45: EPOCH 836: training on 2135928 raw words (1560891 effective words) took 1.5s, 1046559 effective words/s\n"
     ]
    },
    {
     "name": "stdout",
     "output_type": "stream",
     "text": [
      "Loss after epoch 836: 0.0\n"
     ]
    },
    {
     "name": "stderr",
     "output_type": "stream",
     "text": [
      "INFO - 21:52:46: EPOCH 837 - PROGRESS: at 60.70% examples, 929608 words/s, in_qsize 13, out_qsize 2\n",
      "INFO - 21:52:47: EPOCH 837: training on 2135928 raw words (1560823 effective words) took 1.6s, 986560 effective words/s\n"
     ]
    },
    {
     "name": "stdout",
     "output_type": "stream",
     "text": [
      "Loss after epoch 837: 0.0\n"
     ]
    },
    {
     "name": "stderr",
     "output_type": "stream",
     "text": [
      "INFO - 21:52:48: EPOCH 838 - PROGRESS: at 65.11% examples, 1017213 words/s, in_qsize 16, out_qsize 0\n",
      "INFO - 21:52:49: EPOCH 838: training on 2135928 raw words (1560839 effective words) took 1.5s, 1047478 effective words/s\n"
     ]
    },
    {
     "name": "stdout",
     "output_type": "stream",
     "text": [
      "Loss after epoch 838: 0.0\n"
     ]
    },
    {
     "name": "stderr",
     "output_type": "stream",
     "text": [
      "INFO - 21:52:50: EPOCH 839 - PROGRESS: at 61.66% examples, 962477 words/s, in_qsize 15, out_qsize 0\n",
      "INFO - 21:52:50: EPOCH 839: training on 2135928 raw words (1561251 effective words) took 1.5s, 1009080 effective words/s\n"
     ]
    },
    {
     "name": "stdout",
     "output_type": "stream",
     "text": [
      "Loss after epoch 839: 0.0\n"
     ]
    },
    {
     "name": "stderr",
     "output_type": "stream",
     "text": [
      "INFO - 21:52:51: EPOCH 840 - PROGRESS: at 63.80% examples, 999021 words/s, in_qsize 14, out_qsize 1\n",
      "INFO - 21:52:52: EPOCH 840: training on 2135928 raw words (1560991 effective words) took 1.5s, 1035571 effective words/s\n"
     ]
    },
    {
     "name": "stdout",
     "output_type": "stream",
     "text": [
      "Loss after epoch 840: 0.0\n"
     ]
    },
    {
     "name": "stderr",
     "output_type": "stream",
     "text": [
      "INFO - 21:52:53: EPOCH 841 - PROGRESS: at 63.35% examples, 993884 words/s, in_qsize 15, out_qsize 0\n",
      "INFO - 21:52:53: EPOCH 841: training on 2135928 raw words (1560446 effective words) took 1.5s, 1041728 effective words/s\n"
     ]
    },
    {
     "name": "stdout",
     "output_type": "stream",
     "text": [
      "Loss after epoch 841: 0.0\n"
     ]
    },
    {
     "name": "stderr",
     "output_type": "stream",
     "text": [
      "INFO - 21:52:54: EPOCH 842 - PROGRESS: at 60.74% examples, 947332 words/s, in_qsize 15, out_qsize 0\n",
      "INFO - 21:52:55: EPOCH 842: training on 2135928 raw words (1561309 effective words) took 1.6s, 986309 effective words/s\n"
     ]
    },
    {
     "name": "stdout",
     "output_type": "stream",
     "text": [
      "Loss after epoch 842: 0.0\n"
     ]
    },
    {
     "name": "stderr",
     "output_type": "stream",
     "text": [
      "INFO - 21:52:56: EPOCH 843 - PROGRESS: at 63.35% examples, 994288 words/s, in_qsize 15, out_qsize 0\n",
      "INFO - 21:52:56: EPOCH 843: training on 2135928 raw words (1560944 effective words) took 1.6s, 969660 effective words/s\n"
     ]
    },
    {
     "name": "stdout",
     "output_type": "stream",
     "text": [
      "Loss after epoch 843: 0.0\n"
     ]
    },
    {
     "name": "stderr",
     "output_type": "stream",
     "text": [
      "INFO - 21:52:57: EPOCH 844 - PROGRESS: at 60.74% examples, 945828 words/s, in_qsize 15, out_qsize 1\n",
      "INFO - 21:52:58: EPOCH 844: training on 2135928 raw words (1562067 effective words) took 1.6s, 972290 effective words/s\n"
     ]
    },
    {
     "name": "stdout",
     "output_type": "stream",
     "text": [
      "Loss after epoch 844: 0.0\n"
     ]
    },
    {
     "name": "stderr",
     "output_type": "stream",
     "text": [
      "INFO - 21:52:59: EPOCH 845 - PROGRESS: at 61.60% examples, 955739 words/s, in_qsize 14, out_qsize 1\n",
      "INFO - 21:52:59: EPOCH 845: training on 2135928 raw words (1560809 effective words) took 1.5s, 1019376 effective words/s\n"
     ]
    },
    {
     "name": "stdout",
     "output_type": "stream",
     "text": [
      "Loss after epoch 845: 0.0\n"
     ]
    },
    {
     "name": "stderr",
     "output_type": "stream",
     "text": [
      "INFO - 21:53:00: EPOCH 846 - PROGRESS: at 63.81% examples, 1000438 words/s, in_qsize 16, out_qsize 0\n",
      "INFO - 21:53:01: EPOCH 846: training on 2135928 raw words (1561245 effective words) took 1.5s, 1051714 effective words/s\n"
     ]
    },
    {
     "name": "stdout",
     "output_type": "stream",
     "text": [
      "Loss after epoch 846: 0.0\n"
     ]
    },
    {
     "name": "stderr",
     "output_type": "stream",
     "text": [
      "INFO - 21:53:02: EPOCH 847 - PROGRESS: at 65.56% examples, 1030372 words/s, in_qsize 15, out_qsize 0\n",
      "INFO - 21:53:02: EPOCH 847: training on 2135928 raw words (1561633 effective words) took 1.5s, 1063179 effective words/s\n"
     ]
    },
    {
     "name": "stdout",
     "output_type": "stream",
     "text": [
      "Loss after epoch 847: 0.0\n"
     ]
    },
    {
     "name": "stderr",
     "output_type": "stream",
     "text": [
      "INFO - 21:53:03: EPOCH 848 - PROGRESS: at 63.78% examples, 994362 words/s, in_qsize 15, out_qsize 0\n",
      "INFO - 21:53:04: EPOCH 848: training on 2135928 raw words (1561167 effective words) took 1.5s, 1049720 effective words/s\n"
     ]
    },
    {
     "name": "stdout",
     "output_type": "stream",
     "text": [
      "Loss after epoch 848: 0.0\n"
     ]
    },
    {
     "name": "stderr",
     "output_type": "stream",
     "text": [
      "INFO - 21:53:05: EPOCH 849 - PROGRESS: at 66.01% examples, 1018359 words/s, in_qsize 16, out_qsize 0\n",
      "INFO - 21:53:05: EPOCH 849: training on 2135928 raw words (1560697 effective words) took 1.5s, 1059509 effective words/s\n"
     ]
    },
    {
     "name": "stdout",
     "output_type": "stream",
     "text": [
      "Loss after epoch 849: 0.0\n"
     ]
    },
    {
     "name": "stderr",
     "output_type": "stream",
     "text": [
      "INFO - 21:53:06: EPOCH 850 - PROGRESS: at 65.56% examples, 1029803 words/s, in_qsize 15, out_qsize 0\n",
      "INFO - 21:53:07: EPOCH 850: training on 2135928 raw words (1561675 effective words) took 1.5s, 1067512 effective words/s\n"
     ]
    },
    {
     "name": "stdout",
     "output_type": "stream",
     "text": [
      "Loss after epoch 850: 0.0\n"
     ]
    },
    {
     "name": "stderr",
     "output_type": "stream",
     "text": [
      "INFO - 21:53:08: EPOCH 851 - PROGRESS: at 66.02% examples, 1032256 words/s, in_qsize 15, out_qsize 1\n",
      "INFO - 21:53:08: EPOCH 851: training on 2135928 raw words (1560788 effective words) took 1.5s, 1047115 effective words/s\n"
     ]
    },
    {
     "name": "stdout",
     "output_type": "stream",
     "text": [
      "Loss after epoch 851: 0.0\n"
     ]
    },
    {
     "name": "stderr",
     "output_type": "stream",
     "text": [
      "INFO - 21:53:09: EPOCH 852 - PROGRESS: at 63.35% examples, 990987 words/s, in_qsize 15, out_qsize 0\n",
      "INFO - 21:53:10: EPOCH 852: training on 2135928 raw words (1561007 effective words) took 1.5s, 1016193 effective words/s\n"
     ]
    },
    {
     "name": "stdout",
     "output_type": "stream",
     "text": [
      "Loss after epoch 852: 0.0\n"
     ]
    },
    {
     "name": "stderr",
     "output_type": "stream",
     "text": [
      "INFO - 21:53:11: EPOCH 853 - PROGRESS: at 64.22% examples, 990412 words/s, in_qsize 15, out_qsize 0\n",
      "INFO - 21:53:11: EPOCH 853: training on 2135928 raw words (1561011 effective words) took 1.5s, 1037984 effective words/s\n"
     ]
    },
    {
     "name": "stdout",
     "output_type": "stream",
     "text": [
      "Loss after epoch 853: 0.0\n"
     ]
    },
    {
     "name": "stderr",
     "output_type": "stream",
     "text": [
      "INFO - 21:53:12: EPOCH 854 - PROGRESS: at 65.11% examples, 1008504 words/s, in_qsize 15, out_qsize 0\n",
      "INFO - 21:53:13: EPOCH 854: training on 2135928 raw words (1561277 effective words) took 1.6s, 1004216 effective words/s\n"
     ]
    },
    {
     "name": "stdout",
     "output_type": "stream",
     "text": [
      "Loss after epoch 854: 0.0\n"
     ]
    },
    {
     "name": "stderr",
     "output_type": "stream",
     "text": [
      "INFO - 21:53:14: EPOCH 855 - PROGRESS: at 55.79% examples, 865374 words/s, in_qsize 14, out_qsize 1\n",
      "INFO - 21:53:15: EPOCH 855: training on 2135928 raw words (1561233 effective words) took 1.7s, 936780 effective words/s\n"
     ]
    },
    {
     "name": "stdout",
     "output_type": "stream",
     "text": [
      "Loss after epoch 855: 0.0\n"
     ]
    },
    {
     "name": "stderr",
     "output_type": "stream",
     "text": [
      "INFO - 21:53:16: EPOCH 856 - PROGRESS: at 56.62% examples, 880526 words/s, in_qsize 15, out_qsize 0\n",
      "INFO - 21:53:16: EPOCH 856: training on 2135928 raw words (1561361 effective words) took 1.6s, 951004 effective words/s\n"
     ]
    },
    {
     "name": "stdout",
     "output_type": "stream",
     "text": [
      "Loss after epoch 856: 0.0\n"
     ]
    },
    {
     "name": "stderr",
     "output_type": "stream",
     "text": [
      "INFO - 21:53:17: EPOCH 857 - PROGRESS: at 63.80% examples, 985899 words/s, in_qsize 13, out_qsize 2\n",
      "INFO - 21:53:18: EPOCH 857: training on 2135928 raw words (1560935 effective words) took 1.6s, 975297 effective words/s\n"
     ]
    },
    {
     "name": "stdout",
     "output_type": "stream",
     "text": [
      "Loss after epoch 857: 0.0\n"
     ]
    },
    {
     "name": "stderr",
     "output_type": "stream",
     "text": [
      "INFO - 21:53:19: EPOCH 858 - PROGRESS: at 59.35% examples, 921280 words/s, in_qsize 16, out_qsize 0\n",
      "INFO - 21:53:20: EPOCH 858: training on 2135928 raw words (1560861 effective words) took 1.7s, 944808 effective words/s\n"
     ]
    },
    {
     "name": "stdout",
     "output_type": "stream",
     "text": [
      "Loss after epoch 858: 0.0\n"
     ]
    },
    {
     "name": "stderr",
     "output_type": "stream",
     "text": [
      "INFO - 21:53:21: EPOCH 859 - PROGRESS: at 58.41% examples, 904948 words/s, in_qsize 16, out_qsize 0\n",
      "INFO - 21:53:21: EPOCH 859: training on 2135928 raw words (1561282 effective words) took 1.6s, 980434 effective words/s\n"
     ]
    },
    {
     "name": "stdout",
     "output_type": "stream",
     "text": [
      "Loss after epoch 859: 0.0\n"
     ]
    },
    {
     "name": "stderr",
     "output_type": "stream",
     "text": [
      "INFO - 21:53:22: EPOCH 860 - PROGRESS: at 66.48% examples, 1046895 words/s, in_qsize 15, out_qsize 0\n",
      "INFO - 21:53:23: EPOCH 860: training on 2135928 raw words (1561365 effective words) took 1.5s, 1074147 effective words/s\n"
     ]
    },
    {
     "name": "stdout",
     "output_type": "stream",
     "text": [
      "Loss after epoch 860: 0.0\n"
     ]
    },
    {
     "name": "stderr",
     "output_type": "stream",
     "text": [
      "INFO - 21:53:24: EPOCH 861 - PROGRESS: at 65.13% examples, 1014173 words/s, in_qsize 15, out_qsize 0\n",
      "INFO - 21:53:24: EPOCH 861: training on 2135928 raw words (1561496 effective words) took 1.5s, 1056643 effective words/s\n"
     ]
    },
    {
     "name": "stdout",
     "output_type": "stream",
     "text": [
      "Loss after epoch 861: 0.0\n"
     ]
    },
    {
     "name": "stderr",
     "output_type": "stream",
     "text": [
      "INFO - 21:53:25: EPOCH 862 - PROGRESS: at 67.74% examples, 1049518 words/s, in_qsize 15, out_qsize 0\n",
      "INFO - 21:53:26: EPOCH 862: training on 2135928 raw words (1561049 effective words) took 1.4s, 1079965 effective words/s\n"
     ]
    },
    {
     "name": "stdout",
     "output_type": "stream",
     "text": [
      "Loss after epoch 862: 0.0\n"
     ]
    },
    {
     "name": "stderr",
     "output_type": "stream",
     "text": [
      "INFO - 21:53:27: EPOCH 863 - PROGRESS: at 65.11% examples, 1011540 words/s, in_qsize 13, out_qsize 2\n",
      "INFO - 21:53:27: EPOCH 863: training on 2135928 raw words (1560795 effective words) took 1.5s, 1059720 effective words/s\n"
     ]
    },
    {
     "name": "stdout",
     "output_type": "stream",
     "text": [
      "Loss after epoch 863: 0.0\n"
     ]
    },
    {
     "name": "stderr",
     "output_type": "stream",
     "text": [
      "INFO - 21:53:28: EPOCH 864 - PROGRESS: at 65.56% examples, 1031695 words/s, in_qsize 15, out_qsize 0\n",
      "INFO - 21:53:29: EPOCH 864: training on 2135928 raw words (1560664 effective words) took 1.5s, 1059193 effective words/s\n"
     ]
    },
    {
     "name": "stdout",
     "output_type": "stream",
     "text": [
      "Loss after epoch 864: 0.0\n"
     ]
    },
    {
     "name": "stderr",
     "output_type": "stream",
     "text": [
      "INFO - 21:53:30: EPOCH 865 - PROGRESS: at 65.56% examples, 1022016 words/s, in_qsize 14, out_qsize 1\n",
      "INFO - 21:53:30: EPOCH 865: training on 2135928 raw words (1560531 effective words) took 1.5s, 1052690 effective words/s\n"
     ]
    },
    {
     "name": "stdout",
     "output_type": "stream",
     "text": [
      "Loss after epoch 865: 0.0\n"
     ]
    },
    {
     "name": "stderr",
     "output_type": "stream",
     "text": [
      "INFO - 21:53:31: EPOCH 866 - PROGRESS: at 61.17% examples, 938526 words/s, in_qsize 14, out_qsize 1\n",
      "INFO - 21:53:32: EPOCH 866: training on 2135928 raw words (1560804 effective words) took 1.6s, 999961 effective words/s\n"
     ]
    },
    {
     "name": "stdout",
     "output_type": "stream",
     "text": [
      "Loss after epoch 866: 0.0\n"
     ]
    },
    {
     "name": "stderr",
     "output_type": "stream",
     "text": [
      "INFO - 21:53:33: EPOCH 867 - PROGRESS: at 60.74% examples, 949925 words/s, in_qsize 14, out_qsize 1\n",
      "INFO - 21:53:33: EPOCH 867: training on 2135928 raw words (1561489 effective words) took 1.6s, 983211 effective words/s\n"
     ]
    },
    {
     "name": "stdout",
     "output_type": "stream",
     "text": [
      "Loss after epoch 867: 0.0\n"
     ]
    },
    {
     "name": "stderr",
     "output_type": "stream",
     "text": [
      "INFO - 21:53:34: EPOCH 868 - PROGRESS: at 63.78% examples, 1001330 words/s, in_qsize 15, out_qsize 0\n",
      "INFO - 21:53:35: EPOCH 868: training on 2135928 raw words (1561138 effective words) took 1.5s, 1028695 effective words/s\n"
     ]
    },
    {
     "name": "stdout",
     "output_type": "stream",
     "text": [
      "Loss after epoch 868: 0.0\n"
     ]
    },
    {
     "name": "stderr",
     "output_type": "stream",
     "text": [
      "INFO - 21:53:36: EPOCH 869 - PROGRESS: at 63.36% examples, 990573 words/s, in_qsize 15, out_qsize 0\n",
      "INFO - 21:53:36: EPOCH 869: training on 2135928 raw words (1561020 effective words) took 1.5s, 1035892 effective words/s\n"
     ]
    },
    {
     "name": "stdout",
     "output_type": "stream",
     "text": [
      "Loss after epoch 869: 0.0\n"
     ]
    },
    {
     "name": "stderr",
     "output_type": "stream",
     "text": [
      "INFO - 21:53:37: EPOCH 870 - PROGRESS: at 63.78% examples, 1002124 words/s, in_qsize 15, out_qsize 1\n",
      "INFO - 21:53:38: EPOCH 870: training on 2135928 raw words (1561359 effective words) took 1.5s, 1045980 effective words/s\n"
     ]
    },
    {
     "name": "stdout",
     "output_type": "stream",
     "text": [
      "Loss after epoch 870: 0.0\n"
     ]
    },
    {
     "name": "stderr",
     "output_type": "stream",
     "text": [
      "INFO - 21:53:39: EPOCH 871 - PROGRESS: at 64.66% examples, 1015529 words/s, in_qsize 16, out_qsize 0\n",
      "INFO - 21:53:39: EPOCH 871: training on 2135928 raw words (1561164 effective words) took 1.5s, 1061934 effective words/s\n"
     ]
    },
    {
     "name": "stdout",
     "output_type": "stream",
     "text": [
      "Loss after epoch 871: 0.0\n"
     ]
    },
    {
     "name": "stderr",
     "output_type": "stream",
     "text": [
      "INFO - 21:53:40: EPOCH 872 - PROGRESS: at 64.22% examples, 997092 words/s, in_qsize 15, out_qsize 0\n",
      "INFO - 21:53:41: EPOCH 872: training on 2135928 raw words (1561410 effective words) took 1.5s, 1021401 effective words/s\n"
     ]
    },
    {
     "name": "stdout",
     "output_type": "stream",
     "text": [
      "Loss after epoch 872: 0.0\n"
     ]
    },
    {
     "name": "stderr",
     "output_type": "stream",
     "text": [
      "INFO - 21:53:42: EPOCH 873 - PROGRESS: at 62.50% examples, 962110 words/s, in_qsize 16, out_qsize 0\n",
      "INFO - 21:53:42: EPOCH 873: training on 2135928 raw words (1561469 effective words) took 1.5s, 1018089 effective words/s\n"
     ]
    },
    {
     "name": "stdout",
     "output_type": "stream",
     "text": [
      "Loss after epoch 873: 0.0\n"
     ]
    },
    {
     "name": "stderr",
     "output_type": "stream",
     "text": [
      "INFO - 21:53:43: EPOCH 874 - PROGRESS: at 65.56% examples, 1013680 words/s, in_qsize 15, out_qsize 0\n",
      "INFO - 21:53:44: EPOCH 874: training on 2135928 raw words (1561503 effective words) took 1.5s, 1045083 effective words/s\n"
     ]
    },
    {
     "name": "stdout",
     "output_type": "stream",
     "text": [
      "Loss after epoch 874: 0.0\n"
     ]
    },
    {
     "name": "stderr",
     "output_type": "stream",
     "text": [
      "INFO - 21:53:45: EPOCH 875 - PROGRESS: at 66.01% examples, 1032900 words/s, in_qsize 15, out_qsize 0\n",
      "INFO - 21:53:45: EPOCH 875: training on 2135928 raw words (1561430 effective words) took 1.5s, 1065718 effective words/s\n"
     ]
    },
    {
     "name": "stdout",
     "output_type": "stream",
     "text": [
      "Loss after epoch 875: 0.0\n"
     ]
    },
    {
     "name": "stderr",
     "output_type": "stream",
     "text": [
      "INFO - 21:53:46: EPOCH 876 - PROGRESS: at 65.56% examples, 1030281 words/s, in_qsize 14, out_qsize 1\n",
      "INFO - 21:53:47: EPOCH 876: training on 2135928 raw words (1561303 effective words) took 1.5s, 1055003 effective words/s\n"
     ]
    },
    {
     "name": "stdout",
     "output_type": "stream",
     "text": [
      "Loss after epoch 876: 0.0\n"
     ]
    },
    {
     "name": "stderr",
     "output_type": "stream",
     "text": [
      "INFO - 21:53:48: EPOCH 877 - PROGRESS: at 65.11% examples, 1024466 words/s, in_qsize 14, out_qsize 1\n",
      "INFO - 21:53:48: EPOCH 877: training on 2135928 raw words (1561223 effective words) took 1.5s, 1064424 effective words/s\n"
     ]
    },
    {
     "name": "stdout",
     "output_type": "stream",
     "text": [
      "Loss after epoch 877: 0.0\n"
     ]
    },
    {
     "name": "stderr",
     "output_type": "stream",
     "text": [
      "INFO - 21:53:49: EPOCH 878 - PROGRESS: at 64.22% examples, 1005645 words/s, in_qsize 16, out_qsize 0\n",
      "INFO - 21:53:50: EPOCH 878: training on 2135928 raw words (1561002 effective words) took 1.5s, 1048783 effective words/s\n"
     ]
    },
    {
     "name": "stdout",
     "output_type": "stream",
     "text": [
      "Loss after epoch 878: 0.0\n"
     ]
    },
    {
     "name": "stderr",
     "output_type": "stream",
     "text": [
      "INFO - 21:53:51: EPOCH 879 - PROGRESS: at 62.94% examples, 973794 words/s, in_qsize 15, out_qsize 0\n",
      "INFO - 21:53:51: EPOCH 879: training on 2135928 raw words (1560612 effective words) took 1.5s, 1022611 effective words/s\n"
     ]
    },
    {
     "name": "stdout",
     "output_type": "stream",
     "text": [
      "Loss after epoch 879: 0.0\n"
     ]
    },
    {
     "name": "stderr",
     "output_type": "stream",
     "text": [
      "INFO - 21:53:52: EPOCH 880 - PROGRESS: at 63.37% examples, 964615 words/s, in_qsize 15, out_qsize 0\n",
      "INFO - 21:53:53: EPOCH 880: training on 2135928 raw words (1561065 effective words) took 1.6s, 996944 effective words/s\n"
     ]
    },
    {
     "name": "stdout",
     "output_type": "stream",
     "text": [
      "Loss after epoch 880: 0.0\n"
     ]
    },
    {
     "name": "stderr",
     "output_type": "stream",
     "text": [
      "INFO - 21:53:54: EPOCH 881 - PROGRESS: at 63.35% examples, 993202 words/s, in_qsize 16, out_qsize 0\n",
      "INFO - 21:53:54: EPOCH 881: training on 2135928 raw words (1560602 effective words) took 1.5s, 1026070 effective words/s\n"
     ]
    },
    {
     "name": "stdout",
     "output_type": "stream",
     "text": [
      "Loss after epoch 881: 0.0\n"
     ]
    },
    {
     "name": "stderr",
     "output_type": "stream",
     "text": [
      "INFO - 21:53:55: EPOCH 882 - PROGRESS: at 64.22% examples, 1004221 words/s, in_qsize 15, out_qsize 0\n",
      "INFO - 21:53:56: EPOCH 882: training on 2135928 raw words (1561749 effective words) took 1.5s, 1039364 effective words/s\n"
     ]
    },
    {
     "name": "stdout",
     "output_type": "stream",
     "text": [
      "Loss after epoch 882: 0.0\n"
     ]
    },
    {
     "name": "stderr",
     "output_type": "stream",
     "text": [
      "INFO - 21:53:57: EPOCH 883 - PROGRESS: at 62.50% examples, 978692 words/s, in_qsize 14, out_qsize 2\n",
      "INFO - 21:53:57: EPOCH 883: training on 2135928 raw words (1561250 effective words) took 1.5s, 1029659 effective words/s\n"
     ]
    },
    {
     "name": "stdout",
     "output_type": "stream",
     "text": [
      "Loss after epoch 883: 0.0\n"
     ]
    },
    {
     "name": "stderr",
     "output_type": "stream",
     "text": [
      "INFO - 21:53:59: EPOCH 884 - PROGRESS: at 64.22% examples, 1005695 words/s, in_qsize 14, out_qsize 1\n",
      "INFO - 21:53:59: EPOCH 884: training on 2135928 raw words (1560778 effective words) took 1.5s, 1053485 effective words/s\n"
     ]
    },
    {
     "name": "stdout",
     "output_type": "stream",
     "text": [
      "Loss after epoch 884: 0.0\n"
     ]
    },
    {
     "name": "stderr",
     "output_type": "stream",
     "text": [
      "INFO - 21:54:00: EPOCH 885 - PROGRESS: at 64.22% examples, 1010878 words/s, in_qsize 15, out_qsize 0\n",
      "INFO - 21:54:00: EPOCH 885: training on 2135928 raw words (1561675 effective words) took 1.5s, 1041600 effective words/s\n"
     ]
    },
    {
     "name": "stdout",
     "output_type": "stream",
     "text": [
      "Loss after epoch 885: 0.0\n"
     ]
    },
    {
     "name": "stderr",
     "output_type": "stream",
     "text": [
      "INFO - 21:54:02: EPOCH 886 - PROGRESS: at 64.22% examples, 1006462 words/s, in_qsize 15, out_qsize 0\n",
      "INFO - 21:54:02: EPOCH 886: training on 2135928 raw words (1561256 effective words) took 1.5s, 1058953 effective words/s\n"
     ]
    },
    {
     "name": "stdout",
     "output_type": "stream",
     "text": [
      "Loss after epoch 886: 0.0\n"
     ]
    },
    {
     "name": "stderr",
     "output_type": "stream",
     "text": [
      "INFO - 21:54:03: EPOCH 887 - PROGRESS: at 65.11% examples, 1022988 words/s, in_qsize 14, out_qsize 1\n",
      "INFO - 21:54:03: EPOCH 887: training on 2135928 raw words (1560843 effective words) took 1.5s, 1045510 effective words/s\n"
     ]
    },
    {
     "name": "stdout",
     "output_type": "stream",
     "text": [
      "Loss after epoch 887: 0.0\n"
     ]
    },
    {
     "name": "stderr",
     "output_type": "stream",
     "text": [
      "INFO - 21:54:04: EPOCH 888 - PROGRESS: at 63.80% examples, 1001496 words/s, in_qsize 15, out_qsize 0\n",
      "INFO - 21:54:05: EPOCH 888: training on 2135928 raw words (1561083 effective words) took 1.5s, 1037618 effective words/s\n"
     ]
    },
    {
     "name": "stdout",
     "output_type": "stream",
     "text": [
      "Loss after epoch 888: 0.0\n"
     ]
    },
    {
     "name": "stderr",
     "output_type": "stream",
     "text": [
      "INFO - 21:54:06: EPOCH 889 - PROGRESS: at 64.66% examples, 1000160 words/s, in_qsize 15, out_qsize 0\n",
      "INFO - 21:54:06: EPOCH 889: training on 2135928 raw words (1560770 effective words) took 1.5s, 1046373 effective words/s\n"
     ]
    },
    {
     "name": "stdout",
     "output_type": "stream",
     "text": [
      "Loss after epoch 889: 0.0\n"
     ]
    },
    {
     "name": "stderr",
     "output_type": "stream",
     "text": [
      "INFO - 21:54:08: EPOCH 890 - PROGRESS: at 65.11% examples, 1023944 words/s, in_qsize 15, out_qsize 0\n",
      "INFO - 21:54:08: EPOCH 890: training on 2135928 raw words (1561535 effective words) took 1.5s, 1046216 effective words/s\n"
     ]
    },
    {
     "name": "stdout",
     "output_type": "stream",
     "text": [
      "Loss after epoch 890: 0.0\n"
     ]
    },
    {
     "name": "stderr",
     "output_type": "stream",
     "text": [
      "INFO - 21:54:09: EPOCH 891 - PROGRESS: at 64.22% examples, 998042 words/s, in_qsize 14, out_qsize 1\n",
      "INFO - 21:54:09: EPOCH 891: training on 2135928 raw words (1560696 effective words) took 1.5s, 1047670 effective words/s\n"
     ]
    },
    {
     "name": "stdout",
     "output_type": "stream",
     "text": [
      "Loss after epoch 891: 0.0\n"
     ]
    },
    {
     "name": "stderr",
     "output_type": "stream",
     "text": [
      "INFO - 21:54:11: EPOCH 892 - PROGRESS: at 64.67% examples, 1001259 words/s, in_qsize 15, out_qsize 0\n",
      "INFO - 21:54:11: EPOCH 892: training on 2135928 raw words (1561317 effective words) took 1.5s, 1042921 effective words/s\n"
     ]
    },
    {
     "name": "stdout",
     "output_type": "stream",
     "text": [
      "Loss after epoch 892: 0.0\n"
     ]
    },
    {
     "name": "stderr",
     "output_type": "stream",
     "text": [
      "INFO - 21:54:12: EPOCH 893 - PROGRESS: at 64.66% examples, 1015321 words/s, in_qsize 16, out_qsize 0\n",
      "INFO - 21:54:12: EPOCH 893: training on 2135928 raw words (1561549 effective words) took 1.5s, 1051826 effective words/s\n"
     ]
    },
    {
     "name": "stdout",
     "output_type": "stream",
     "text": [
      "Loss after epoch 893: 0.0\n"
     ]
    },
    {
     "name": "stderr",
     "output_type": "stream",
     "text": [
      "INFO - 21:54:14: EPOCH 894 - PROGRESS: at 64.22% examples, 1000421 words/s, in_qsize 15, out_qsize 0\n",
      "INFO - 21:54:14: EPOCH 894: training on 2135928 raw words (1561163 effective words) took 1.5s, 1030302 effective words/s\n"
     ]
    },
    {
     "name": "stdout",
     "output_type": "stream",
     "text": [
      "Loss after epoch 894: 0.0\n"
     ]
    },
    {
     "name": "stderr",
     "output_type": "stream",
     "text": [
      "INFO - 21:54:15: EPOCH 895 - PROGRESS: at 61.66% examples, 960232 words/s, in_qsize 15, out_qsize 0\n",
      "INFO - 21:54:16: EPOCH 895: training on 2135928 raw words (1560944 effective words) took 1.5s, 1007143 effective words/s\n"
     ]
    },
    {
     "name": "stdout",
     "output_type": "stream",
     "text": [
      "Loss after epoch 895: 0.0\n"
     ]
    },
    {
     "name": "stderr",
     "output_type": "stream",
     "text": [
      "INFO - 21:54:17: EPOCH 896 - PROGRESS: at 62.50% examples, 976228 words/s, in_qsize 14, out_qsize 1\n",
      "INFO - 21:54:17: EPOCH 896: training on 2135928 raw words (1560829 effective words) took 1.5s, 1023017 effective words/s\n"
     ]
    },
    {
     "name": "stdout",
     "output_type": "stream",
     "text": [
      "Loss after epoch 896: 0.0\n"
     ]
    },
    {
     "name": "stderr",
     "output_type": "stream",
     "text": [
      "INFO - 21:54:18: EPOCH 897 - PROGRESS: at 62.92% examples, 972859 words/s, in_qsize 15, out_qsize 0\n",
      "INFO - 21:54:19: EPOCH 897: training on 2135928 raw words (1560795 effective words) took 1.5s, 1012095 effective words/s\n"
     ]
    },
    {
     "name": "stdout",
     "output_type": "stream",
     "text": [
      "Loss after epoch 897: 0.0\n"
     ]
    },
    {
     "name": "stderr",
     "output_type": "stream",
     "text": [
      "INFO - 21:54:20: EPOCH 898 - PROGRESS: at 63.78% examples, 999923 words/s, in_qsize 14, out_qsize 2\n",
      "INFO - 21:54:20: EPOCH 898: training on 2135928 raw words (1560839 effective words) took 1.5s, 1034686 effective words/s\n"
     ]
    },
    {
     "name": "stdout",
     "output_type": "stream",
     "text": [
      "Loss after epoch 898: 0.0\n"
     ]
    },
    {
     "name": "stderr",
     "output_type": "stream",
     "text": [
      "INFO - 21:54:21: EPOCH 899 - PROGRESS: at 62.09% examples, 967689 words/s, in_qsize 15, out_qsize 0\n",
      "INFO - 21:54:22: EPOCH 899: training on 2135928 raw words (1561227 effective words) took 1.6s, 1003029 effective words/s\n"
     ]
    },
    {
     "name": "stdout",
     "output_type": "stream",
     "text": [
      "Loss after epoch 899: 0.0\n"
     ]
    },
    {
     "name": "stderr",
     "output_type": "stream",
     "text": [
      "INFO - 21:54:23: EPOCH 900 - PROGRESS: at 62.92% examples, 984598 words/s, in_qsize 15, out_qsize 0\n",
      "INFO - 21:54:23: EPOCH 900: training on 2135928 raw words (1560601 effective words) took 1.5s, 1034597 effective words/s\n"
     ]
    },
    {
     "name": "stdout",
     "output_type": "stream",
     "text": [
      "Loss after epoch 900: 0.0\n"
     ]
    },
    {
     "name": "stderr",
     "output_type": "stream",
     "text": [
      "INFO - 21:54:24: EPOCH 901 - PROGRESS: at 64.66% examples, 1011749 words/s, in_qsize 15, out_qsize 0\n",
      "INFO - 21:54:25: EPOCH 901: training on 2135928 raw words (1561571 effective words) took 1.5s, 1027254 effective words/s\n"
     ]
    },
    {
     "name": "stdout",
     "output_type": "stream",
     "text": [
      "Loss after epoch 901: 0.0\n"
     ]
    },
    {
     "name": "stderr",
     "output_type": "stream",
     "text": [
      "INFO - 21:54:26: EPOCH 902 - PROGRESS: at 60.27% examples, 935949 words/s, in_qsize 16, out_qsize 0\n",
      "INFO - 21:54:26: EPOCH 902: training on 2135928 raw words (1560566 effective words) took 1.5s, 1009264 effective words/s\n"
     ]
    },
    {
     "name": "stdout",
     "output_type": "stream",
     "text": [
      "Loss after epoch 902: 0.0\n"
     ]
    },
    {
     "name": "stderr",
     "output_type": "stream",
     "text": [
      "INFO - 21:54:27: EPOCH 903 - PROGRESS: at 65.11% examples, 1018869 words/s, in_qsize 15, out_qsize 0\n",
      "INFO - 21:54:28: EPOCH 903: training on 2135928 raw words (1560930 effective words) took 1.5s, 1060179 effective words/s\n"
     ]
    },
    {
     "name": "stdout",
     "output_type": "stream",
     "text": [
      "Loss after epoch 903: 0.0\n"
     ]
    },
    {
     "name": "stderr",
     "output_type": "stream",
     "text": [
      "INFO - 21:54:29: EPOCH 904 - PROGRESS: at 65.56% examples, 1019340 words/s, in_qsize 15, out_qsize 0\n",
      "INFO - 21:54:29: EPOCH 904: training on 2135928 raw words (1560980 effective words) took 1.5s, 1065359 effective words/s\n"
     ]
    },
    {
     "name": "stdout",
     "output_type": "stream",
     "text": [
      "Loss after epoch 904: 0.0\n"
     ]
    },
    {
     "name": "stderr",
     "output_type": "stream",
     "text": [
      "INFO - 21:54:30: EPOCH 905 - PROGRESS: at 65.11% examples, 1019490 words/s, in_qsize 14, out_qsize 2\n",
      "INFO - 21:54:31: EPOCH 905: training on 2135928 raw words (1561185 effective words) took 1.5s, 1052981 effective words/s\n"
     ]
    },
    {
     "name": "stdout",
     "output_type": "stream",
     "text": [
      "Loss after epoch 905: 0.0\n"
     ]
    },
    {
     "name": "stderr",
     "output_type": "stream",
     "text": [
      "INFO - 21:54:32: EPOCH 906 - PROGRESS: at 65.58% examples, 1021083 words/s, in_qsize 15, out_qsize 0\n",
      "INFO - 21:54:32: EPOCH 906: training on 2135928 raw words (1560683 effective words) took 1.5s, 1043374 effective words/s\n"
     ]
    },
    {
     "name": "stdout",
     "output_type": "stream",
     "text": [
      "Loss after epoch 906: 0.0\n"
     ]
    },
    {
     "name": "stderr",
     "output_type": "stream",
     "text": [
      "INFO - 21:54:33: EPOCH 907 - PROGRESS: at 66.01% examples, 1031035 words/s, in_qsize 13, out_qsize 2\n",
      "INFO - 21:54:34: EPOCH 907: training on 2135928 raw words (1561229 effective words) took 1.5s, 1059998 effective words/s\n"
     ]
    },
    {
     "name": "stdout",
     "output_type": "stream",
     "text": [
      "Loss after epoch 907: 0.0\n"
     ]
    },
    {
     "name": "stderr",
     "output_type": "stream",
     "text": [
      "INFO - 21:54:35: EPOCH 908 - PROGRESS: at 64.67% examples, 1015331 words/s, in_qsize 16, out_qsize 1\n",
      "INFO - 21:54:35: EPOCH 908: training on 2135928 raw words (1560540 effective words) took 1.5s, 1060372 effective words/s\n"
     ]
    },
    {
     "name": "stdout",
     "output_type": "stream",
     "text": [
      "Loss after epoch 908: 0.0\n"
     ]
    },
    {
     "name": "stderr",
     "output_type": "stream",
     "text": [
      "INFO - 21:54:36: EPOCH 909 - PROGRESS: at 64.66% examples, 999883 words/s, in_qsize 15, out_qsize 0\n",
      "INFO - 21:54:37: EPOCH 909: training on 2135928 raw words (1560612 effective words) took 1.5s, 1016535 effective words/s\n"
     ]
    },
    {
     "name": "stdout",
     "output_type": "stream",
     "text": [
      "Loss after epoch 909: 0.0\n"
     ]
    },
    {
     "name": "stderr",
     "output_type": "stream",
     "text": [
      "INFO - 21:54:38: EPOCH 910 - PROGRESS: at 64.66% examples, 1007697 words/s, in_qsize 15, out_qsize 0\n",
      "INFO - 21:54:38: EPOCH 910: training on 2135928 raw words (1561331 effective words) took 1.5s, 1047191 effective words/s\n"
     ]
    },
    {
     "name": "stdout",
     "output_type": "stream",
     "text": [
      "Loss after epoch 910: 0.0\n"
     ]
    },
    {
     "name": "stderr",
     "output_type": "stream",
     "text": [
      "INFO - 21:54:39: EPOCH 911 - PROGRESS: at 62.51% examples, 974928 words/s, in_qsize 15, out_qsize 0\n",
      "INFO - 21:54:40: EPOCH 911: training on 2135928 raw words (1561323 effective words) took 1.5s, 1016943 effective words/s\n"
     ]
    },
    {
     "name": "stdout",
     "output_type": "stream",
     "text": [
      "Loss after epoch 911: 0.0\n"
     ]
    },
    {
     "name": "stderr",
     "output_type": "stream",
     "text": [
      "INFO - 21:54:41: EPOCH 912 - PROGRESS: at 65.56% examples, 1020895 words/s, in_qsize 15, out_qsize 0\n",
      "INFO - 21:54:41: EPOCH 912: training on 2135928 raw words (1561529 effective words) took 1.5s, 1063862 effective words/s\n"
     ]
    },
    {
     "name": "stdout",
     "output_type": "stream",
     "text": [
      "Loss after epoch 912: 0.0\n"
     ]
    },
    {
     "name": "stderr",
     "output_type": "stream",
     "text": [
      "INFO - 21:54:42: EPOCH 913 - PROGRESS: at 63.35% examples, 991811 words/s, in_qsize 16, out_qsize 0\n",
      "INFO - 21:54:43: EPOCH 913: training on 2135928 raw words (1560791 effective words) took 1.5s, 1026688 effective words/s\n"
     ]
    },
    {
     "name": "stdout",
     "output_type": "stream",
     "text": [
      "Loss after epoch 913: 0.0\n"
     ]
    },
    {
     "name": "stderr",
     "output_type": "stream",
     "text": [
      "INFO - 21:54:44: EPOCH 914 - PROGRESS: at 63.79% examples, 980473 words/s, in_qsize 13, out_qsize 2\n",
      "INFO - 21:54:44: EPOCH 914: training on 2135928 raw words (1561127 effective words) took 1.5s, 1035777 effective words/s\n"
     ]
    },
    {
     "name": "stdout",
     "output_type": "stream",
     "text": [
      "Loss after epoch 914: 0.0\n"
     ]
    },
    {
     "name": "stderr",
     "output_type": "stream",
     "text": [
      "INFO - 21:54:45: EPOCH 915 - PROGRESS: at 65.56% examples, 1023545 words/s, in_qsize 16, out_qsize 2\n",
      "INFO - 21:54:46: EPOCH 915: training on 2135928 raw words (1561048 effective words) took 1.5s, 1055498 effective words/s\n"
     ]
    },
    {
     "name": "stdout",
     "output_type": "stream",
     "text": [
      "Loss after epoch 915: 0.0\n"
     ]
    },
    {
     "name": "stderr",
     "output_type": "stream",
     "text": [
      "INFO - 21:54:47: EPOCH 916 - PROGRESS: at 66.48% examples, 1023049 words/s, in_qsize 16, out_qsize 0\n",
      "INFO - 21:54:47: EPOCH 916: training on 2135928 raw words (1560468 effective words) took 1.5s, 1048926 effective words/s\n"
     ]
    },
    {
     "name": "stdout",
     "output_type": "stream",
     "text": [
      "Loss after epoch 916: 0.0\n"
     ]
    },
    {
     "name": "stderr",
     "output_type": "stream",
     "text": [
      "INFO - 21:54:48: EPOCH 917 - PROGRESS: at 62.94% examples, 978217 words/s, in_qsize 15, out_qsize 0\n",
      "INFO - 21:54:49: EPOCH 917: training on 2135928 raw words (1560926 effective words) took 1.5s, 1037833 effective words/s\n"
     ]
    },
    {
     "name": "stdout",
     "output_type": "stream",
     "text": [
      "Loss after epoch 917: 0.0\n"
     ]
    },
    {
     "name": "stderr",
     "output_type": "stream",
     "text": [
      "INFO - 21:54:50: EPOCH 918 - PROGRESS: at 66.93% examples, 1046182 words/s, in_qsize 16, out_qsize 0\n",
      "INFO - 21:54:50: EPOCH 918: training on 2135928 raw words (1561213 effective words) took 1.4s, 1076916 effective words/s\n"
     ]
    },
    {
     "name": "stdout",
     "output_type": "stream",
     "text": [
      "Loss after epoch 918: 0.0\n"
     ]
    },
    {
     "name": "stderr",
     "output_type": "stream",
     "text": [
      "INFO - 21:54:51: EPOCH 919 - PROGRESS: at 65.11% examples, 1014518 words/s, in_qsize 15, out_qsize 0\n",
      "INFO - 21:54:52: EPOCH 919: training on 2135928 raw words (1560735 effective words) took 1.5s, 1055407 effective words/s\n"
     ]
    },
    {
     "name": "stdout",
     "output_type": "stream",
     "text": [
      "Loss after epoch 919: 0.0\n"
     ]
    },
    {
     "name": "stderr",
     "output_type": "stream",
     "text": [
      "INFO - 21:54:53: EPOCH 920 - PROGRESS: at 62.94% examples, 983419 words/s, in_qsize 15, out_qsize 0\n",
      "INFO - 21:54:53: EPOCH 920: training on 2135928 raw words (1561638 effective words) took 1.6s, 1001968 effective words/s\n"
     ]
    },
    {
     "name": "stdout",
     "output_type": "stream",
     "text": [
      "Loss after epoch 920: 0.0\n"
     ]
    },
    {
     "name": "stderr",
     "output_type": "stream",
     "text": [
      "INFO - 21:54:54: EPOCH 921 - PROGRESS: at 59.35% examples, 920803 words/s, in_qsize 14, out_qsize 1\n",
      "INFO - 21:54:55: EPOCH 921: training on 2135928 raw words (1560240 effective words) took 1.6s, 990805 effective words/s\n"
     ]
    },
    {
     "name": "stdout",
     "output_type": "stream",
     "text": [
      "Loss after epoch 921: 0.0\n"
     ]
    },
    {
     "name": "stderr",
     "output_type": "stream",
     "text": [
      "INFO - 21:54:56: EPOCH 922 - PROGRESS: at 57.06% examples, 880718 words/s, in_qsize 15, out_qsize 0\n",
      "INFO - 21:54:57: EPOCH 922: training on 2135928 raw words (1561577 effective words) took 1.7s, 904085 effective words/s\n"
     ]
    },
    {
     "name": "stdout",
     "output_type": "stream",
     "text": [
      "Loss after epoch 922: 0.0\n"
     ]
    },
    {
     "name": "stderr",
     "output_type": "stream",
     "text": [
      "INFO - 21:54:58: EPOCH 923 - PROGRESS: at 61.66% examples, 963979 words/s, in_qsize 15, out_qsize 0\n",
      "INFO - 21:54:58: EPOCH 923: training on 2135928 raw words (1560769 effective words) took 1.6s, 975147 effective words/s\n"
     ]
    },
    {
     "name": "stdout",
     "output_type": "stream",
     "text": [
      "Loss after epoch 923: 0.0\n"
     ]
    },
    {
     "name": "stderr",
     "output_type": "stream",
     "text": [
      "INFO - 21:54:59: EPOCH 924 - PROGRESS: at 60.27% examples, 940399 words/s, in_qsize 16, out_qsize 1\n",
      "INFO - 21:55:00: EPOCH 924: training on 2135928 raw words (1560546 effective words) took 1.6s, 984437 effective words/s\n"
     ]
    },
    {
     "name": "stdout",
     "output_type": "stream",
     "text": [
      "Loss after epoch 924: 0.0\n"
     ]
    },
    {
     "name": "stderr",
     "output_type": "stream",
     "text": [
      "INFO - 21:55:01: EPOCH 925 - PROGRESS: at 65.57% examples, 1008263 words/s, in_qsize 14, out_qsize 1\n",
      "INFO - 21:55:01: EPOCH 925: training on 2135928 raw words (1560434 effective words) took 1.5s, 1031234 effective words/s\n"
     ]
    },
    {
     "name": "stdout",
     "output_type": "stream",
     "text": [
      "Loss after epoch 925: 0.0\n"
     ]
    },
    {
     "name": "stderr",
     "output_type": "stream",
     "text": [
      "INFO - 21:55:02: EPOCH 926 - PROGRESS: at 55.83% examples, 864036 words/s, in_qsize 15, out_qsize 0\n",
      "INFO - 21:55:03: EPOCH 926: training on 2135928 raw words (1561585 effective words) took 1.7s, 914696 effective words/s\n"
     ]
    },
    {
     "name": "stdout",
     "output_type": "stream",
     "text": [
      "Loss after epoch 926: 0.0\n"
     ]
    },
    {
     "name": "stderr",
     "output_type": "stream",
     "text": [
      "INFO - 21:55:04: EPOCH 927 - PROGRESS: at 59.80% examples, 934224 words/s, in_qsize 15, out_qsize 0\n",
      "INFO - 21:55:05: EPOCH 927: training on 2135928 raw words (1560789 effective words) took 1.6s, 952446 effective words/s\n"
     ]
    },
    {
     "name": "stdout",
     "output_type": "stream",
     "text": [
      "Loss after epoch 927: 0.0\n"
     ]
    },
    {
     "name": "stderr",
     "output_type": "stream",
     "text": [
      "INFO - 21:55:06: EPOCH 928 - PROGRESS: at 58.42% examples, 897465 words/s, in_qsize 16, out_qsize 1\n",
      "INFO - 21:55:06: EPOCH 928: training on 2135928 raw words (1560478 effective words) took 1.7s, 945327 effective words/s\n"
     ]
    },
    {
     "name": "stdout",
     "output_type": "stream",
     "text": [
      "Loss after epoch 928: 0.0\n"
     ]
    },
    {
     "name": "stderr",
     "output_type": "stream",
     "text": [
      "INFO - 21:55:07: EPOCH 929 - PROGRESS: at 60.74% examples, 943094 words/s, in_qsize 14, out_qsize 1\n",
      "INFO - 21:55:08: EPOCH 929: training on 2135928 raw words (1560550 effective words) took 1.6s, 962685 effective words/s\n"
     ]
    },
    {
     "name": "stdout",
     "output_type": "stream",
     "text": [
      "Loss after epoch 929: 0.0\n"
     ]
    },
    {
     "name": "stderr",
     "output_type": "stream",
     "text": [
      "INFO - 21:55:09: EPOCH 930 - PROGRESS: at 61.22% examples, 958290 words/s, in_qsize 15, out_qsize 0\n",
      "INFO - 21:55:10: EPOCH 930: training on 2135928 raw words (1561255 effective words) took 1.6s, 962007 effective words/s\n"
     ]
    },
    {
     "name": "stdout",
     "output_type": "stream",
     "text": [
      "Loss after epoch 930: 0.0\n"
     ]
    },
    {
     "name": "stderr",
     "output_type": "stream",
     "text": [
      "INFO - 21:55:11: EPOCH 931 - PROGRESS: at 64.66% examples, 1013952 words/s, in_qsize 15, out_qsize 0\n",
      "INFO - 21:55:11: EPOCH 931: training on 2135928 raw words (1560153 effective words) took 1.5s, 1052950 effective words/s\n"
     ]
    },
    {
     "name": "stdout",
     "output_type": "stream",
     "text": [
      "Loss after epoch 931: 0.0\n"
     ]
    },
    {
     "name": "stderr",
     "output_type": "stream",
     "text": [
      "INFO - 21:55:12: EPOCH 932 - PROGRESS: at 64.22% examples, 991144 words/s, in_qsize 15, out_qsize 0\n",
      "INFO - 21:55:13: EPOCH 932: training on 2135928 raw words (1560699 effective words) took 1.5s, 1044930 effective words/s\n"
     ]
    },
    {
     "name": "stdout",
     "output_type": "stream",
     "text": [
      "Loss after epoch 932: 0.0\n"
     ]
    },
    {
     "name": "stderr",
     "output_type": "stream",
     "text": [
      "INFO - 21:55:14: EPOCH 933 - PROGRESS: at 63.35% examples, 993968 words/s, in_qsize 14, out_qsize 1\n",
      "INFO - 21:55:14: EPOCH 933: training on 2135928 raw words (1560645 effective words) took 1.5s, 1036689 effective words/s\n"
     ]
    },
    {
     "name": "stdout",
     "output_type": "stream",
     "text": [
      "Loss after epoch 933: 0.0\n"
     ]
    },
    {
     "name": "stderr",
     "output_type": "stream",
     "text": [
      "INFO - 21:55:15: EPOCH 934 - PROGRESS: at 63.80% examples, 991094 words/s, in_qsize 15, out_qsize 0\n",
      "INFO - 21:55:16: EPOCH 934: training on 2135928 raw words (1561057 effective words) took 1.5s, 1038337 effective words/s\n"
     ]
    },
    {
     "name": "stdout",
     "output_type": "stream",
     "text": [
      "Loss after epoch 934: 0.0\n"
     ]
    },
    {
     "name": "stderr",
     "output_type": "stream",
     "text": [
      "INFO - 21:55:17: EPOCH 935 - PROGRESS: at 64.66% examples, 1016682 words/s, in_qsize 16, out_qsize 0\n",
      "INFO - 21:55:17: EPOCH 935: training on 2135928 raw words (1561090 effective words) took 1.5s, 1051071 effective words/s\n"
     ]
    },
    {
     "name": "stdout",
     "output_type": "stream",
     "text": [
      "Loss after epoch 935: 0.0\n"
     ]
    },
    {
     "name": "stderr",
     "output_type": "stream",
     "text": [
      "INFO - 21:55:18: EPOCH 936 - PROGRESS: at 65.56% examples, 1029490 words/s, in_qsize 15, out_qsize 0\n",
      "INFO - 21:55:19: EPOCH 936: training on 2135928 raw words (1560793 effective words) took 1.5s, 1053812 effective words/s\n"
     ]
    },
    {
     "name": "stdout",
     "output_type": "stream",
     "text": [
      "Loss after epoch 936: 0.0\n"
     ]
    },
    {
     "name": "stderr",
     "output_type": "stream",
     "text": [
      "INFO - 21:55:20: EPOCH 937 - PROGRESS: at 63.35% examples, 982713 words/s, in_qsize 16, out_qsize 2\n",
      "INFO - 21:55:20: EPOCH 937: training on 2135928 raw words (1561503 effective words) took 1.5s, 1020143 effective words/s\n"
     ]
    },
    {
     "name": "stdout",
     "output_type": "stream",
     "text": [
      "Loss after epoch 937: 0.0\n"
     ]
    },
    {
     "name": "stderr",
     "output_type": "stream",
     "text": [
      "INFO - 21:55:21: EPOCH 938 - PROGRESS: at 64.22% examples, 997814 words/s, in_qsize 16, out_qsize 0\n",
      "INFO - 21:55:22: EPOCH 938: training on 2135928 raw words (1561147 effective words) took 1.5s, 1045885 effective words/s\n"
     ]
    },
    {
     "name": "stdout",
     "output_type": "stream",
     "text": [
      "Loss after epoch 938: 0.0\n"
     ]
    },
    {
     "name": "stderr",
     "output_type": "stream",
     "text": [
      "INFO - 21:55:23: EPOCH 939 - PROGRESS: at 65.58% examples, 1023432 words/s, in_qsize 15, out_qsize 0\n",
      "INFO - 21:55:23: EPOCH 939: training on 2135928 raw words (1561211 effective words) took 1.5s, 1027376 effective words/s\n"
     ]
    },
    {
     "name": "stdout",
     "output_type": "stream",
     "text": [
      "Loss after epoch 939: 0.0\n"
     ]
    },
    {
     "name": "stderr",
     "output_type": "stream",
     "text": [
      "INFO - 21:55:24: EPOCH 940 - PROGRESS: at 66.01% examples, 1023445 words/s, in_qsize 15, out_qsize 0\n",
      "INFO - 21:55:25: EPOCH 940: training on 2135928 raw words (1560410 effective words) took 1.5s, 1057743 effective words/s\n"
     ]
    },
    {
     "name": "stdout",
     "output_type": "stream",
     "text": [
      "Loss after epoch 940: 0.0\n"
     ]
    },
    {
     "name": "stderr",
     "output_type": "stream",
     "text": [
      "INFO - 21:55:26: EPOCH 941 - PROGRESS: at 65.56% examples, 1019642 words/s, in_qsize 15, out_qsize 0\n",
      "INFO - 21:55:26: EPOCH 941: training on 2135928 raw words (1561470 effective words) took 1.5s, 1014744 effective words/s\n"
     ]
    },
    {
     "name": "stdout",
     "output_type": "stream",
     "text": [
      "Loss after epoch 941: 0.0\n"
     ]
    },
    {
     "name": "stderr",
     "output_type": "stream",
     "text": [
      "INFO - 21:55:27: EPOCH 942 - PROGRESS: at 59.80% examples, 935732 words/s, in_qsize 15, out_qsize 0\n",
      "INFO - 21:55:28: EPOCH 942: training on 2135928 raw words (1560579 effective words) took 1.6s, 958789 effective words/s\n"
     ]
    },
    {
     "name": "stdout",
     "output_type": "stream",
     "text": [
      "Loss after epoch 942: 0.0\n"
     ]
    },
    {
     "name": "stderr",
     "output_type": "stream",
     "text": [
      "INFO - 21:55:29: EPOCH 943 - PROGRESS: at 63.35% examples, 983675 words/s, in_qsize 16, out_qsize 0\n",
      "INFO - 21:55:30: EPOCH 943: training on 2135928 raw words (1560842 effective words) took 1.5s, 1025189 effective words/s\n"
     ]
    },
    {
     "name": "stdout",
     "output_type": "stream",
     "text": [
      "Loss after epoch 943: 0.0\n"
     ]
    },
    {
     "name": "stderr",
     "output_type": "stream",
     "text": [
      "INFO - 21:55:31: EPOCH 944 - PROGRESS: at 65.56% examples, 1029737 words/s, in_qsize 15, out_qsize 0\n",
      "INFO - 21:55:31: EPOCH 944: training on 2135928 raw words (1561496 effective words) took 1.5s, 1061506 effective words/s\n"
     ]
    },
    {
     "name": "stdout",
     "output_type": "stream",
     "text": [
      "Loss after epoch 944: 0.0\n"
     ]
    },
    {
     "name": "stderr",
     "output_type": "stream",
     "text": [
      "INFO - 21:55:32: EPOCH 945 - PROGRESS: at 61.66% examples, 960613 words/s, in_qsize 15, out_qsize 0\n",
      "INFO - 21:55:33: EPOCH 945: training on 2135928 raw words (1561567 effective words) took 1.5s, 1027932 effective words/s\n"
     ]
    },
    {
     "name": "stdout",
     "output_type": "stream",
     "text": [
      "Loss after epoch 945: 0.0\n"
     ]
    },
    {
     "name": "stderr",
     "output_type": "stream",
     "text": [
      "INFO - 21:55:34: EPOCH 946 - PROGRESS: at 63.78% examples, 1001227 words/s, in_qsize 16, out_qsize 0\n",
      "INFO - 21:55:34: EPOCH 946: training on 2135928 raw words (1560764 effective words) took 1.5s, 1044512 effective words/s\n"
     ]
    },
    {
     "name": "stdout",
     "output_type": "stream",
     "text": [
      "Loss after epoch 946: 0.0\n"
     ]
    },
    {
     "name": "stderr",
     "output_type": "stream",
     "text": [
      "INFO - 21:55:35: EPOCH 947 - PROGRESS: at 66.87% examples, 1046483 words/s, in_qsize 15, out_qsize 0\n",
      "INFO - 21:55:36: EPOCH 947: training on 2135928 raw words (1561304 effective words) took 1.5s, 1074993 effective words/s\n"
     ]
    },
    {
     "name": "stdout",
     "output_type": "stream",
     "text": [
      "Loss after epoch 947: 0.0\n"
     ]
    },
    {
     "name": "stderr",
     "output_type": "stream",
     "text": [
      "INFO - 21:55:37: EPOCH 948 - PROGRESS: at 65.11% examples, 1020474 words/s, in_qsize 15, out_qsize 0\n",
      "INFO - 21:55:37: EPOCH 948: training on 2135928 raw words (1560619 effective words) took 1.5s, 1053462 effective words/s\n"
     ]
    },
    {
     "name": "stdout",
     "output_type": "stream",
     "text": [
      "Loss after epoch 948: 0.0\n"
     ]
    },
    {
     "name": "stderr",
     "output_type": "stream",
     "text": [
      "INFO - 21:55:38: EPOCH 949 - PROGRESS: at 65.11% examples, 1022421 words/s, in_qsize 15, out_qsize 0\n",
      "INFO - 21:55:38: EPOCH 949: training on 2135928 raw words (1561455 effective words) took 1.5s, 1054482 effective words/s\n"
     ]
    },
    {
     "name": "stdout",
     "output_type": "stream",
     "text": [
      "Loss after epoch 949: 0.0\n"
     ]
    },
    {
     "name": "stderr",
     "output_type": "stream",
     "text": [
      "INFO - 21:55:39: EPOCH 950 - PROGRESS: at 63.79% examples, 1000953 words/s, in_qsize 15, out_qsize 0\n",
      "INFO - 21:55:40: EPOCH 950: training on 2135928 raw words (1561233 effective words) took 1.5s, 1023053 effective words/s\n"
     ]
    },
    {
     "name": "stdout",
     "output_type": "stream",
     "text": [
      "Loss after epoch 950: 0.0\n"
     ]
    },
    {
     "name": "stderr",
     "output_type": "stream",
     "text": [
      "INFO - 21:55:41: EPOCH 951 - PROGRESS: at 63.78% examples, 980541 words/s, in_qsize 15, out_qsize 0\n",
      "INFO - 21:55:42: EPOCH 951: training on 2135928 raw words (1561190 effective words) took 1.6s, 967671 effective words/s\n"
     ]
    },
    {
     "name": "stdout",
     "output_type": "stream",
     "text": [
      "Loss after epoch 951: 0.0\n"
     ]
    },
    {
     "name": "stderr",
     "output_type": "stream",
     "text": [
      "INFO - 21:55:43: EPOCH 952 - PROGRESS: at 55.00% examples, 845828 words/s, in_qsize 14, out_qsize 1\n",
      "INFO - 21:55:43: EPOCH 952: training on 2135928 raw words (1561517 effective words) took 1.7s, 898314 effective words/s\n"
     ]
    },
    {
     "name": "stdout",
     "output_type": "stream",
     "text": [
      "Loss after epoch 952: 0.0\n"
     ]
    },
    {
     "name": "stderr",
     "output_type": "stream",
     "text": [
      "INFO - 21:55:44: EPOCH 953 - PROGRESS: at 57.96% examples, 899800 words/s, in_qsize 15, out_qsize 0\n",
      "INFO - 21:55:45: EPOCH 953: training on 2135928 raw words (1561141 effective words) took 1.6s, 962237 effective words/s\n"
     ]
    },
    {
     "name": "stdout",
     "output_type": "stream",
     "text": [
      "Loss after epoch 953: 0.0\n"
     ]
    },
    {
     "name": "stderr",
     "output_type": "stream",
     "text": [
      "INFO - 21:55:46: EPOCH 954 - PROGRESS: at 62.09% examples, 964702 words/s, in_qsize 15, out_qsize 0\n",
      "INFO - 21:55:47: EPOCH 954: training on 2135928 raw words (1560549 effective words) took 1.6s, 1005099 effective words/s\n"
     ]
    },
    {
     "name": "stdout",
     "output_type": "stream",
     "text": [
      "Loss after epoch 954: 0.0\n"
     ]
    },
    {
     "name": "stderr",
     "output_type": "stream",
     "text": [
      "INFO - 21:55:48: EPOCH 955 - PROGRESS: at 56.63% examples, 883205 words/s, in_qsize 16, out_qsize 1\n",
      "INFO - 21:55:48: EPOCH 955: training on 2135928 raw words (1561432 effective words) took 1.7s, 924163 effective words/s\n"
     ]
    },
    {
     "name": "stdout",
     "output_type": "stream",
     "text": [
      "Loss after epoch 955: 0.0\n"
     ]
    },
    {
     "name": "stderr",
     "output_type": "stream",
     "text": [
      "INFO - 21:55:49: EPOCH 956 - PROGRESS: at 60.27% examples, 941982 words/s, in_qsize 16, out_qsize 0\n",
      "INFO - 21:55:50: EPOCH 956: training on 2135928 raw words (1561120 effective words) took 1.6s, 973664 effective words/s\n"
     ]
    },
    {
     "name": "stdout",
     "output_type": "stream",
     "text": [
      "Loss after epoch 956: 0.0\n"
     ]
    },
    {
     "name": "stderr",
     "output_type": "stream",
     "text": [
      "INFO - 21:55:51: EPOCH 957 - PROGRESS: at 63.78% examples, 1002070 words/s, in_qsize 15, out_qsize 0\n",
      "INFO - 21:55:51: EPOCH 957: training on 2135928 raw words (1561513 effective words) took 1.5s, 1032201 effective words/s\n"
     ]
    },
    {
     "name": "stdout",
     "output_type": "stream",
     "text": [
      "Loss after epoch 957: 0.0\n"
     ]
    },
    {
     "name": "stderr",
     "output_type": "stream",
     "text": [
      "INFO - 21:55:52: EPOCH 958 - PROGRESS: at 65.11% examples, 1024517 words/s, in_qsize 16, out_qsize 1\n",
      "INFO - 21:55:53: EPOCH 958: training on 2135928 raw words (1560160 effective words) took 1.5s, 1058424 effective words/s\n"
     ]
    },
    {
     "name": "stdout",
     "output_type": "stream",
     "text": [
      "Loss after epoch 958: 0.0\n"
     ]
    },
    {
     "name": "stderr",
     "output_type": "stream",
     "text": [
      "INFO - 21:55:54: EPOCH 959 - PROGRESS: at 60.27% examples, 936081 words/s, in_qsize 15, out_qsize 0\n",
      "INFO - 21:55:54: EPOCH 959: training on 2135928 raw words (1560400 effective words) took 1.6s, 990296 effective words/s\n"
     ]
    },
    {
     "name": "stdout",
     "output_type": "stream",
     "text": [
      "Loss after epoch 959: 0.0\n"
     ]
    },
    {
     "name": "stderr",
     "output_type": "stream",
     "text": [
      "INFO - 21:55:55: EPOCH 960 - PROGRESS: at 66.01% examples, 1039439 words/s, in_qsize 15, out_qsize 0\n",
      "INFO - 21:55:56: EPOCH 960: training on 2135928 raw words (1561614 effective words) took 1.5s, 1064760 effective words/s\n"
     ]
    },
    {
     "name": "stdout",
     "output_type": "stream",
     "text": [
      "Loss after epoch 960: 0.0\n"
     ]
    },
    {
     "name": "stderr",
     "output_type": "stream",
     "text": [
      "INFO - 21:55:57: EPOCH 961 - PROGRESS: at 67.32% examples, 1043693 words/s, in_qsize 15, out_qsize 0\n",
      "INFO - 21:55:57: EPOCH 961: training on 2135928 raw words (1560707 effective words) took 1.5s, 1057357 effective words/s\n"
     ]
    },
    {
     "name": "stdout",
     "output_type": "stream",
     "text": [
      "Loss after epoch 961: 0.0\n"
     ]
    },
    {
     "name": "stderr",
     "output_type": "stream",
     "text": [
      "INFO - 21:55:58: EPOCH 962 - PROGRESS: at 64.67% examples, 989465 words/s, in_qsize 15, out_qsize 0\n",
      "INFO - 21:55:59: EPOCH 962: training on 2135928 raw words (1560650 effective words) took 1.5s, 1039642 effective words/s\n"
     ]
    },
    {
     "name": "stdout",
     "output_type": "stream",
     "text": [
      "Loss after epoch 962: 0.0\n"
     ]
    },
    {
     "name": "stderr",
     "output_type": "stream",
     "text": [
      "INFO - 21:56:00: EPOCH 963 - PROGRESS: at 66.01% examples, 1020006 words/s, in_qsize 15, out_qsize 0\n",
      "INFO - 21:56:00: EPOCH 963: training on 2135928 raw words (1560071 effective words) took 1.5s, 1062308 effective words/s\n"
     ]
    },
    {
     "name": "stdout",
     "output_type": "stream",
     "text": [
      "Loss after epoch 963: 0.0\n"
     ]
    },
    {
     "name": "stderr",
     "output_type": "stream",
     "text": [
      "INFO - 21:56:01: EPOCH 964 - PROGRESS: at 65.13% examples, 1019941 words/s, in_qsize 15, out_qsize 0\n",
      "INFO - 21:56:02: EPOCH 964: training on 2135928 raw words (1561471 effective words) took 1.5s, 1055081 effective words/s\n"
     ]
    },
    {
     "name": "stdout",
     "output_type": "stream",
     "text": [
      "Loss after epoch 964: 0.0\n"
     ]
    },
    {
     "name": "stderr",
     "output_type": "stream",
     "text": [
      "INFO - 21:56:03: EPOCH 965 - PROGRESS: at 64.66% examples, 1013390 words/s, in_qsize 15, out_qsize 0\n",
      "INFO - 21:56:03: EPOCH 965: training on 2135928 raw words (1560826 effective words) took 1.5s, 1042488 effective words/s\n"
     ]
    },
    {
     "name": "stdout",
     "output_type": "stream",
     "text": [
      "Loss after epoch 965: 0.0\n"
     ]
    },
    {
     "name": "stderr",
     "output_type": "stream",
     "text": [
      "INFO - 21:56:04: EPOCH 966 - PROGRESS: at 62.93% examples, 984854 words/s, in_qsize 16, out_qsize 1\n",
      "INFO - 21:56:05: EPOCH 966: training on 2135928 raw words (1561124 effective words) took 1.5s, 1015008 effective words/s\n"
     ]
    },
    {
     "name": "stdout",
     "output_type": "stream",
     "text": [
      "Loss after epoch 966: 0.0\n"
     ]
    },
    {
     "name": "stderr",
     "output_type": "stream",
     "text": [
      "INFO - 21:56:06: EPOCH 967 - PROGRESS: at 62.93% examples, 983128 words/s, in_qsize 15, out_qsize 0\n",
      "INFO - 21:56:06: EPOCH 967: training on 2135928 raw words (1561491 effective words) took 1.5s, 1039991 effective words/s\n"
     ]
    },
    {
     "name": "stdout",
     "output_type": "stream",
     "text": [
      "Loss after epoch 967: 0.0\n"
     ]
    },
    {
     "name": "stderr",
     "output_type": "stream",
     "text": [
      "INFO - 21:56:08: EPOCH 968 - PROGRESS: at 62.93% examples, 971395 words/s, in_qsize 15, out_qsize 0\n",
      "INFO - 21:56:08: EPOCH 968: training on 2135928 raw words (1560825 effective words) took 1.5s, 1019676 effective words/s\n"
     ]
    },
    {
     "name": "stdout",
     "output_type": "stream",
     "text": [
      "Loss after epoch 968: 0.0\n"
     ]
    },
    {
     "name": "stderr",
     "output_type": "stream",
     "text": [
      "INFO - 21:56:09: EPOCH 969 - PROGRESS: at 63.78% examples, 998020 words/s, in_qsize 14, out_qsize 1\n",
      "INFO - 21:56:10: EPOCH 969: training on 2135928 raw words (1560304 effective words) took 1.5s, 1033213 effective words/s\n"
     ]
    },
    {
     "name": "stdout",
     "output_type": "stream",
     "text": [
      "Loss after epoch 969: 0.0\n"
     ]
    },
    {
     "name": "stderr",
     "output_type": "stream",
     "text": [
      "INFO - 21:56:11: EPOCH 970 - PROGRESS: at 66.48% examples, 1037622 words/s, in_qsize 16, out_qsize 1\n",
      "INFO - 21:56:11: EPOCH 970: training on 2135928 raw words (1560680 effective words) took 1.5s, 1073241 effective words/s\n"
     ]
    },
    {
     "name": "stdout",
     "output_type": "stream",
     "text": [
      "Loss after epoch 970: 0.0\n"
     ]
    },
    {
     "name": "stderr",
     "output_type": "stream",
     "text": [
      "INFO - 21:56:12: EPOCH 971 - PROGRESS: at 64.22% examples, 998348 words/s, in_qsize 16, out_qsize 1\n",
      "INFO - 21:56:13: EPOCH 971: training on 2135928 raw words (1560854 effective words) took 1.5s, 1033830 effective words/s\n"
     ]
    },
    {
     "name": "stdout",
     "output_type": "stream",
     "text": [
      "Loss after epoch 971: 0.0\n"
     ]
    },
    {
     "name": "stderr",
     "output_type": "stream",
     "text": [
      "INFO - 21:56:14: EPOCH 972 - PROGRESS: at 66.01% examples, 1024561 words/s, in_qsize 16, out_qsize 0\n",
      "INFO - 21:56:14: EPOCH 972: training on 2135928 raw words (1560981 effective words) took 1.5s, 1070682 effective words/s\n"
     ]
    },
    {
     "name": "stdout",
     "output_type": "stream",
     "text": [
      "Loss after epoch 972: 0.0\n"
     ]
    },
    {
     "name": "stderr",
     "output_type": "stream",
     "text": [
      "INFO - 21:56:15: EPOCH 973 - PROGRESS: at 65.56% examples, 1026176 words/s, in_qsize 16, out_qsize 2\n",
      "INFO - 21:56:16: EPOCH 973: training on 2135928 raw words (1561200 effective words) took 1.5s, 1042070 effective words/s\n"
     ]
    },
    {
     "name": "stdout",
     "output_type": "stream",
     "text": [
      "Loss after epoch 973: 0.0\n"
     ]
    },
    {
     "name": "stderr",
     "output_type": "stream",
     "text": [
      "INFO - 21:56:17: EPOCH 974 - PROGRESS: at 62.52% examples, 980065 words/s, in_qsize 15, out_qsize 0\n",
      "INFO - 21:56:17: EPOCH 974: training on 2135928 raw words (1560923 effective words) took 1.5s, 1037652 effective words/s\n"
     ]
    },
    {
     "name": "stdout",
     "output_type": "stream",
     "text": [
      "Loss after epoch 974: 0.0\n"
     ]
    },
    {
     "name": "stderr",
     "output_type": "stream",
     "text": [
      "INFO - 21:56:18: EPOCH 975 - PROGRESS: at 65.11% examples, 1019351 words/s, in_qsize 15, out_qsize 0\n",
      "INFO - 21:56:19: EPOCH 975: training on 2135928 raw words (1561452 effective words) took 1.5s, 1056556 effective words/s\n"
     ]
    },
    {
     "name": "stdout",
     "output_type": "stream",
     "text": [
      "Loss after epoch 975: 0.0\n"
     ]
    },
    {
     "name": "stderr",
     "output_type": "stream",
     "text": [
      "INFO - 21:56:20: EPOCH 976 - PROGRESS: at 64.66% examples, 1012029 words/s, in_qsize 16, out_qsize 2\n",
      "INFO - 21:56:20: EPOCH 976: training on 2135928 raw words (1560793 effective words) took 1.5s, 1048622 effective words/s\n"
     ]
    },
    {
     "name": "stdout",
     "output_type": "stream",
     "text": [
      "Loss after epoch 976: 0.0\n"
     ]
    },
    {
     "name": "stderr",
     "output_type": "stream",
     "text": [
      "INFO - 21:56:21: EPOCH 977 - PROGRESS: at 57.06% examples, 872741 words/s, in_qsize 15, out_qsize 0\n",
      "INFO - 21:56:22: EPOCH 977: training on 2135928 raw words (1561278 effective words) took 1.7s, 908583 effective words/s\n"
     ]
    },
    {
     "name": "stdout",
     "output_type": "stream",
     "text": [
      "Loss after epoch 977: 0.0\n"
     ]
    },
    {
     "name": "stderr",
     "output_type": "stream",
     "text": [
      "INFO - 21:56:23: EPOCH 978 - PROGRESS: at 58.44% examples, 912500 words/s, in_qsize 16, out_qsize 0\n",
      "INFO - 21:56:23: EPOCH 978: training on 2135928 raw words (1560945 effective words) took 1.7s, 936833 effective words/s\n"
     ]
    },
    {
     "name": "stdout",
     "output_type": "stream",
     "text": [
      "Loss after epoch 978: 0.0\n"
     ]
    },
    {
     "name": "stderr",
     "output_type": "stream",
     "text": [
      "INFO - 21:56:24: EPOCH 979 - PROGRESS: at 59.35% examples, 913027 words/s, in_qsize 16, out_qsize 0\n",
      "INFO - 21:56:25: EPOCH 979: training on 2135928 raw words (1560801 effective words) took 1.6s, 983805 effective words/s\n"
     ]
    },
    {
     "name": "stdout",
     "output_type": "stream",
     "text": [
      "Loss after epoch 979: 0.0\n"
     ]
    },
    {
     "name": "stderr",
     "output_type": "stream",
     "text": [
      "INFO - 21:56:26: EPOCH 980 - PROGRESS: at 61.17% examples, 955099 words/s, in_qsize 15, out_qsize 0\n",
      "INFO - 21:56:27: EPOCH 980: training on 2135928 raw words (1560192 effective words) took 1.6s, 975636 effective words/s\n"
     ]
    },
    {
     "name": "stdout",
     "output_type": "stream",
     "text": [
      "Loss after epoch 980: 0.0\n"
     ]
    },
    {
     "name": "stderr",
     "output_type": "stream",
     "text": [
      "INFO - 21:56:28: EPOCH 981 - PROGRESS: at 67.32% examples, 1052321 words/s, in_qsize 14, out_qsize 1\n",
      "INFO - 21:56:28: EPOCH 981: training on 2135928 raw words (1560499 effective words) took 1.4s, 1085317 effective words/s\n"
     ]
    },
    {
     "name": "stdout",
     "output_type": "stream",
     "text": [
      "Loss after epoch 981: 0.0\n"
     ]
    },
    {
     "name": "stderr",
     "output_type": "stream",
     "text": [
      "INFO - 21:56:29: EPOCH 982 - PROGRESS: at 66.93% examples, 1053152 words/s, in_qsize 14, out_qsize 1\n",
      "INFO - 21:56:29: EPOCH 982: training on 2135928 raw words (1561259 effective words) took 1.4s, 1099981 effective words/s\n"
     ]
    },
    {
     "name": "stdout",
     "output_type": "stream",
     "text": [
      "Loss after epoch 982: 0.0\n"
     ]
    },
    {
     "name": "stderr",
     "output_type": "stream",
     "text": [
      "INFO - 21:56:31: EPOCH 983 - PROGRESS: at 62.93% examples, 986324 words/s, in_qsize 15, out_qsize 0\n",
      "INFO - 21:56:31: EPOCH 983: training on 2135928 raw words (1560490 effective words) took 1.5s, 1022332 effective words/s\n"
     ]
    },
    {
     "name": "stdout",
     "output_type": "stream",
     "text": [
      "Loss after epoch 983: 0.0\n"
     ]
    },
    {
     "name": "stderr",
     "output_type": "stream",
     "text": [
      "INFO - 21:56:32: EPOCH 984 - PROGRESS: at 63.35% examples, 994052 words/s, in_qsize 15, out_qsize 0\n",
      "INFO - 21:56:33: EPOCH 984: training on 2135928 raw words (1561048 effective words) took 1.5s, 1040099 effective words/s\n"
     ]
    },
    {
     "name": "stdout",
     "output_type": "stream",
     "text": [
      "Loss after epoch 984: 0.0\n"
     ]
    },
    {
     "name": "stderr",
     "output_type": "stream",
     "text": [
      "INFO - 21:56:34: EPOCH 985 - PROGRESS: at 65.12% examples, 1020121 words/s, in_qsize 15, out_qsize 2\n",
      "INFO - 21:56:34: EPOCH 985: training on 2135928 raw words (1559912 effective words) took 1.6s, 958584 effective words/s\n"
     ]
    },
    {
     "name": "stdout",
     "output_type": "stream",
     "text": [
      "Loss after epoch 985: 0.0\n"
     ]
    },
    {
     "name": "stderr",
     "output_type": "stream",
     "text": [
      "INFO - 21:56:35: EPOCH 986 - PROGRESS: at 62.50% examples, 976983 words/s, in_qsize 15, out_qsize 0\n",
      "INFO - 21:56:36: EPOCH 986: training on 2135928 raw words (1561429 effective words) took 1.6s, 972514 effective words/s\n"
     ]
    },
    {
     "name": "stdout",
     "output_type": "stream",
     "text": [
      "Loss after epoch 986: 0.0\n"
     ]
    },
    {
     "name": "stderr",
     "output_type": "stream",
     "text": [
      "INFO - 21:56:37: EPOCH 987 - PROGRESS: at 58.00% examples, 903632 words/s, in_qsize 14, out_qsize 2\n",
      "INFO - 21:56:38: EPOCH 987: training on 2135928 raw words (1560917 effective words) took 1.7s, 916048 effective words/s\n"
     ]
    },
    {
     "name": "stdout",
     "output_type": "stream",
     "text": [
      "Loss after epoch 987: 0.0\n"
     ]
    },
    {
     "name": "stderr",
     "output_type": "stream",
     "text": [
      "INFO - 21:56:39: EPOCH 988 - PROGRESS: at 58.90% examples, 915676 words/s, in_qsize 14, out_qsize 1\n",
      "INFO - 21:56:39: EPOCH 988: training on 2135928 raw words (1560620 effective words) took 1.6s, 965337 effective words/s\n"
     ]
    },
    {
     "name": "stdout",
     "output_type": "stream",
     "text": [
      "Loss after epoch 988: 0.0\n"
     ]
    },
    {
     "name": "stderr",
     "output_type": "stream",
     "text": [
      "INFO - 21:56:40: EPOCH 989 - PROGRESS: at 64.22% examples, 1005030 words/s, in_qsize 16, out_qsize 0\n",
      "INFO - 21:56:41: EPOCH 989: training on 2135928 raw words (1561805 effective words) took 1.5s, 1048479 effective words/s\n"
     ]
    },
    {
     "name": "stdout",
     "output_type": "stream",
     "text": [
      "Loss after epoch 989: 0.0\n"
     ]
    },
    {
     "name": "stderr",
     "output_type": "stream",
     "text": [
      "INFO - 21:56:42: EPOCH 990 - PROGRESS: at 65.56% examples, 1021638 words/s, in_qsize 16, out_qsize 1\n",
      "INFO - 21:56:42: EPOCH 990: training on 2135928 raw words (1561176 effective words) took 1.5s, 1047124 effective words/s\n"
     ]
    },
    {
     "name": "stdout",
     "output_type": "stream",
     "text": [
      "Loss after epoch 990: 0.0\n"
     ]
    },
    {
     "name": "stderr",
     "output_type": "stream",
     "text": [
      "INFO - 21:56:43: EPOCH 991 - PROGRESS: at 62.93% examples, 975520 words/s, in_qsize 15, out_qsize 0\n",
      "INFO - 21:56:44: EPOCH 991: training on 2135928 raw words (1560820 effective words) took 1.5s, 1029323 effective words/s\n"
     ]
    },
    {
     "name": "stdout",
     "output_type": "stream",
     "text": [
      "Loss after epoch 991: 0.0\n"
     ]
    },
    {
     "name": "stderr",
     "output_type": "stream",
     "text": [
      "INFO - 21:56:45: EPOCH 992 - PROGRESS: at 66.01% examples, 1037215 words/s, in_qsize 16, out_qsize 0\n",
      "INFO - 21:56:45: EPOCH 992: training on 2135928 raw words (1560859 effective words) took 1.5s, 1057035 effective words/s\n"
     ]
    },
    {
     "name": "stdout",
     "output_type": "stream",
     "text": [
      "Loss after epoch 992: 0.0\n"
     ]
    },
    {
     "name": "stderr",
     "output_type": "stream",
     "text": [
      "INFO - 21:56:46: EPOCH 993 - PROGRESS: at 66.40% examples, 1039778 words/s, in_qsize 14, out_qsize 1\n",
      "INFO - 21:56:47: EPOCH 993: training on 2135928 raw words (1561196 effective words) took 1.4s, 1081970 effective words/s\n"
     ]
    },
    {
     "name": "stdout",
     "output_type": "stream",
     "text": [
      "Loss after epoch 993: 0.0\n"
     ]
    },
    {
     "name": "stderr",
     "output_type": "stream",
     "text": [
      "INFO - 21:56:48: EPOCH 994 - PROGRESS: at 65.58% examples, 1030680 words/s, in_qsize 14, out_qsize 1\n",
      "INFO - 21:56:48: EPOCH 994: training on 2135928 raw words (1561143 effective words) took 1.5s, 1063494 effective words/s\n"
     ]
    },
    {
     "name": "stdout",
     "output_type": "stream",
     "text": [
      "Loss after epoch 994: 0.0\n"
     ]
    },
    {
     "name": "stderr",
     "output_type": "stream",
     "text": [
      "INFO - 21:56:49: EPOCH 995 - PROGRESS: at 62.93% examples, 973576 words/s, in_qsize 15, out_qsize 0\n",
      "INFO - 21:56:50: EPOCH 995: training on 2135928 raw words (1561524 effective words) took 1.5s, 1020231 effective words/s\n"
     ]
    },
    {
     "name": "stdout",
     "output_type": "stream",
     "text": [
      "Loss after epoch 995: 0.0\n"
     ]
    },
    {
     "name": "stderr",
     "output_type": "stream",
     "text": [
      "INFO - 21:56:51: EPOCH 996 - PROGRESS: at 64.66% examples, 1005048 words/s, in_qsize 15, out_qsize 0\n",
      "INFO - 21:56:51: EPOCH 996: training on 2135928 raw words (1561360 effective words) took 1.5s, 1032486 effective words/s\n"
     ]
    },
    {
     "name": "stdout",
     "output_type": "stream",
     "text": [
      "Loss after epoch 996: 0.0\n"
     ]
    },
    {
     "name": "stderr",
     "output_type": "stream",
     "text": [
      "INFO - 21:56:52: EPOCH 997 - PROGRESS: at 62.93% examples, 988192 words/s, in_qsize 16, out_qsize 0\n",
      "INFO - 21:56:53: EPOCH 997: training on 2135928 raw words (1561140 effective words) took 1.5s, 1025777 effective words/s\n"
     ]
    },
    {
     "name": "stdout",
     "output_type": "stream",
     "text": [
      "Loss after epoch 997: 0.0\n"
     ]
    },
    {
     "name": "stderr",
     "output_type": "stream",
     "text": [
      "INFO - 21:56:54: EPOCH 998 - PROGRESS: at 63.36% examples, 992274 words/s, in_qsize 14, out_qsize 1\n",
      "INFO - 21:56:54: EPOCH 998: training on 2135928 raw words (1560177 effective words) took 1.5s, 1025024 effective words/s\n"
     ]
    },
    {
     "name": "stdout",
     "output_type": "stream",
     "text": [
      "Loss after epoch 998: 0.0\n"
     ]
    },
    {
     "name": "stderr",
     "output_type": "stream",
     "text": [
      "INFO - 21:56:55: EPOCH 999 - PROGRESS: at 65.56% examples, 1027752 words/s, in_qsize 14, out_qsize 1\n",
      "INFO - 21:56:56: EPOCH 999: training on 2135928 raw words (1560852 effective words) took 1.5s, 1036492 effective words/s\n",
      "INFO - 21:56:56: Word2Vec lifecycle event {'msg': 'training on 2135928000 raw words (1561096720 effective words) took 1453.4s, 1074096 effective words/s', 'datetime': '2023-04-17T21:56:56.220821', 'gensim': '4.3.1', 'python': '3.10.7 (main, Mar 10 2023, 10:47:39) [GCC 12.2.0]', 'platform': 'Linux-5.19.0-38-generic-x86_64-with-glibc2.36', 'event': 'train'}\n",
      "INFO - 21:56:56: Word2Vec lifecycle event {'fname_or_handle': 'gutenberg_w2v.hundd.model', 'separately': 'None', 'sep_limit': 10485760, 'ignore': frozenset(), 'datetime': '2023-04-17T21:56:56.221672', 'gensim': '4.3.1', 'python': '3.10.7 (main, Mar 10 2023, 10:47:39) [GCC 12.2.0]', 'platform': 'Linux-5.19.0-38-generic-x86_64-with-glibc2.36', 'event': 'saving'}\n",
      "INFO - 21:56:56: not storing attribute cum_table\n",
      "INFO - 21:56:56: saved gutenberg_w2v.hundd.model\n"
     ]
    },
    {
     "name": "stdout",
     "output_type": "stream",
     "text": [
      "Loss after epoch 999: 0.0\n"
     ]
    },
    {
     "data": {
      "text/plain": [
       "<gensim.models.word2vec.Word2Vec at 0x7f8d341ce770>"
      ]
     },
     "execution_count": 3,
     "metadata": {},
     "output_type": "execute_result"
    }
   ],
   "source": [
    "    # read data/tokenized.txt in the expected format (tokenized), the given .py assumes sentences \n",
    "    # to be between commas, full stops , colons\n",
    "  \n",
    "    f=open(\"../data/tokenized.txt\",\"r\")\n",
    "    sentences = eval(f.read())\n",
    "    \n",
    "   \n",
    "   \n",
    "    output_file = \"gutenberg_w2v.hundd.model\"\n",
    "    window = 5\n",
    "    embedding_dim = 100\n",
    "    epochs = 1000\n",
    "    min_word_count = 1\n",
    "\n",
    "    \n",
    "    #Initialize training of our Word2Vec model\n",
    "    \n",
    "    train_w2v_model(\n",
    "        sentences,\n",
    "        output_file,\n",
    "        window,\n",
    "        embedding_dim,\n",
    "        epochs,\n",
    "        min_word_count)\n"
   ]
  },
  {
   "cell_type": "code",
   "execution_count": 4,
   "id": "4da0e634",
   "metadata": {},
   "outputs": [
    {
     "name": "stderr",
     "output_type": "stream",
     "text": [
      "INFO - 21:56:56: loading Word2Vec object from gutenberg_w2v.hundd.model\n",
      "INFO - 21:56:56: loading wv recursively from gutenberg_w2v.hundd.model.wv.* with mmap=None\n",
      "INFO - 21:56:56: setting ignored attribute cum_table to None\n",
      "INFO - 21:56:56: Word2Vec lifecycle event {'fname': 'gutenberg_w2v.hundd.model', 'datetime': '2023-04-17T21:56:56.895657', 'gensim': '4.3.1', 'python': '3.10.7 (main, Mar 10 2023, 10:47:39) [GCC 12.2.0]', 'platform': 'Linux-5.19.0-38-generic-x86_64-with-glibc2.36', 'event': 'loaded'}\n"
     ]
    }
   ],
   "source": [
    "from gensim.models import Word2Vec\n",
    "from gensim.models.callbacks import CallbackAny2Vec\n",
    "\n",
    "gutenberg_w2v = Word2Vec.load(\"gutenberg_w2v.hundd.model\")"
   ]
  },
  {
   "cell_type": "code",
   "execution_count": 5,
   "id": "4b8718d9",
   "metadata": {},
   "outputs": [
    {
     "data": {
      "text/plain": [
       "[('cruse', 0.4230939745903015),\n",
       " ('outflew', 0.3934471309185028),\n",
       " ('alp', 0.3694061040878296),\n",
       " ('deepe', 0.36196044087409973),\n",
       " ('respects', 0.3594804108142853),\n",
       " ('hebrew', 0.3580142557621002),\n",
       " ('unconditional', 0.35441309213638306),\n",
       " ('poz', 0.35352784395217896),\n",
       " ('blossomes', 0.34931862354278564),\n",
       " ('wrist', 0.3456970751285553)]"
      ]
     },
     "execution_count": 5,
     "metadata": {},
     "output_type": "execute_result"
    }
   ],
   "source": [
    "# From gensim 3.8.3 to 4.3.1\n",
    "#methods like most_similar(), wmdistance(), doesnt_match(), similarity(), & others moved to KeyedVectors\n",
    "\n",
    "gutenberg_w2v.wv.most_similar([\"bible\"])\n"
   ]
  },
  {
   "cell_type": "code",
   "execution_count": 6,
   "id": "ca0e4f88",
   "metadata": {},
   "outputs": [
    {
     "data": {
      "text/plain": [
       "[('written', 0.4847974479198456),\n",
       " ('letter', 0.4832255244255066),\n",
       " ('temple', 0.4784655272960663),\n",
       " ('commandment', 0.4700920283794403),\n",
       " ('canyon', 0.45958346128463745),\n",
       " ('platte', 0.45333385467529297),\n",
       " ('chapter', 0.4482264518737793),\n",
       " ('law', 0.4439494013786316),\n",
       " ('xxxi', 0.44043880701065063),\n",
       " ('raze', 0.4348662495613098)]"
      ]
     },
     "execution_count": 6,
     "metadata": {},
     "output_type": "execute_result"
    }
   ],
   "source": [
    "gutenberg_w2v.wv.most_similar([\"book\"])\n"
   ]
  },
  {
   "cell_type": "code",
   "execution_count": 7,
   "id": "3abc4a30",
   "metadata": {},
   "outputs": [
    {
     "data": {
      "text/plain": [
       "[('table', 0.5232029557228088),\n",
       " ('river', 0.5193374156951904),\n",
       " ('wall', 0.5189679265022278),\n",
       " ('top', 0.4989376664161682),\n",
       " ('ground', 0.49750757217407227),\n",
       " ('side', 0.4839741587638855),\n",
       " ('floor', 0.4768306612968445),\n",
       " ('pool', 0.464548259973526),\n",
       " ('bed', 0.45822805166244507),\n",
       " ('road', 0.4388516843318939)]"
      ]
     },
     "execution_count": 7,
     "metadata": {},
     "output_type": "execute_result"
    }
   ],
   "source": [
    "gutenberg_w2v.wv.most_similar([\"bank\"])\n"
   ]
  },
  {
   "cell_type": "code",
   "execution_count": 8,
   "id": "d53e9c33",
   "metadata": {},
   "outputs": [
    {
     "data": {
      "text/plain": [
       "[('waters', 0.6442087888717651),\n",
       " ('wine', 0.5252000689506531),\n",
       " ('river', 0.5205385088920593),\n",
       " ('sea', 0.49453791975975037),\n",
       " ('brook', 0.48951736092567444),\n",
       " ('wood', 0.4837614595890045),\n",
       " ('hole', 0.48339301347732544),\n",
       " ('fire', 0.4796072542667389),\n",
       " ('fish', 0.4758266508579254),\n",
       " ('blood', 0.4717975854873657)]"
      ]
     },
     "execution_count": 8,
     "metadata": {},
     "output_type": "execute_result"
    }
   ],
   "source": [
    "gutenberg_w2v.wv.most_similar([\"water\"])"
   ]
  },
  {
   "cell_type": "code",
   "execution_count": 9,
   "id": "ba415a4a",
   "metadata": {},
   "outputs": [
    {
     "data": {
      "text/plain": [
       "[('good', 0.49565547704696655),\n",
       " ('tall', 0.40484604239463806),\n",
       " ('sandals', 0.40013793110847473),\n",
       " ('degrading', 0.3844241499900818),\n",
       " ('mug', 0.3696046471595764),\n",
       " ('handsome', 0.3665642738342285),\n",
       " ('annum', 0.34520527720451355),\n",
       " ('carowses', 0.34474867582321167),\n",
       " ('fine', 0.344740629196167),\n",
       " ('smitest', 0.34069135785102844)]"
      ]
     },
     "execution_count": 9,
     "metadata": {},
     "output_type": "execute_result"
    }
   ],
   "source": [
    "#Changed the order to tall, taller, good to make more sense to our analysis\n",
    "v = gutenberg_w2v.wv[\"tall\"] - gutenberg_w2v.wv[\"taller\"] + gutenberg_w2v.wv[\"good\"]\n",
    "gutenberg_w2v.wv.most_similar(v)"
   ]
  },
  {
   "cell_type": "code",
   "execution_count": 10,
   "id": "d7d9ff74",
   "metadata": {},
   "outputs": [
    {
     "data": {
      "text/plain": [
       "[('kings', 0.6132789254188538),\n",
       " ('girls', 0.5802538990974426),\n",
       " ('parts', 0.5393166542053223),\n",
       " ('men', 0.5291672348976135),\n",
       " ('daughters', 0.5042534470558167),\n",
       " ('cities', 0.4786427319049835),\n",
       " ('captains', 0.4443863332271576),\n",
       " ('transgressions', 0.4316120445728302),\n",
       " ('women', 0.4312399923801422),\n",
       " ('dwellings', 0.4219844937324524)]"
      ]
     },
     "execution_count": 10,
     "metadata": {},
     "output_type": "execute_result"
    }
   ],
   "source": [
    "v = gutenberg_w2v.wv[\"girls\"] - gutenberg_w2v.wv[\"queen\"] + gutenberg_w2v.wv[\"kings\"]\n",
    "gutenberg_w2v.wv.most_similar(v)"
   ]
  },
  {
   "cell_type": "code",
   "execution_count": 11,
   "id": "d3fbc61b",
   "metadata": {},
   "outputs": [
    {
     "data": {
      "text/plain": [
       "[('france', 0.6760346293449402),\n",
       " ('london', 0.4226206839084625),\n",
       " ('gurry', 0.38846683502197266),\n",
       " ('inferiorities', 0.38765254616737366),\n",
       " ('inn', 0.3871302306652069),\n",
       " ('cursorily', 0.3728111684322357),\n",
       " ('country', 0.3700534701347351),\n",
       " ('castle', 0.36541950702667236),\n",
       " ('imprint', 0.3461597263813019),\n",
       " ('bay', 0.3451634347438812)]"
      ]
     },
     "execution_count": 11,
     "metadata": {},
     "output_type": "execute_result"
    }
   ],
   "source": [
    "v = gutenberg_w2v.wv[\"france\"] - gutenberg_w2v.wv[\"paris\"] + gutenberg_w2v.wv[\"london\"]\n",
    "gutenberg_w2v.wv.most_similar(v)"
   ]
  },
  {
   "cell_type": "code",
   "execution_count": 12,
   "id": "2bfc4fcc",
   "metadata": {},
   "outputs": [
    {
     "name": "stderr",
     "output_type": "stream",
     "text": [
      "INFO - 21:56:57: loading projection weights from ../data/GoogleNews-vectors-negative300.bin.gz\n",
      "INFO - 21:57:26: KeyedVectors lifecycle event {'msg': 'loaded (1000000, 300) matrix of type float32 from ../data/GoogleNews-vectors-negative300.bin.gz', 'binary': True, 'encoding': 'utf8', 'datetime': '2023-04-17T21:57:26.289675', 'gensim': '4.3.1', 'python': '3.10.7 (main, Mar 10 2023, 10:47:39) [GCC 12.2.0]', 'platform': 'Linux-5.19.0-38-generic-x86_64-with-glibc2.36', 'event': 'load_word2vec_format'}\n"
     ]
    }
   ],
   "source": [
    "from gensim.models import KeyedVectors\n",
    "\n",
    "google_model = KeyedVectors.load_word2vec_format('../data/GoogleNews-vectors-negative300.bin.gz', binary=True,\n",
    "limit=1000000)"
   ]
  },
  {
   "cell_type": "code",
   "execution_count": 13,
   "id": "bbbe0867",
   "metadata": {},
   "outputs": [
    {
     "data": {
      "text/plain": [
       "[('Bible', 0.736778199672699),\n",
       " ('bibles', 0.6052598357200623),\n",
       " ('Holy_Bible', 0.5989601612091064),\n",
       " ('scriptures', 0.574568510055542),\n",
       " ('scripture', 0.5697901844978333),\n",
       " ('New_Testament', 0.5638793110847473),\n",
       " ('Scripture', 0.5502957701683044),\n",
       " ('Scriptures', 0.5411645770072937),\n",
       " ('NRSV', 0.5341106057167053),\n",
       " ('Leviticus_##:##-##', 0.5247005224227905)]"
      ]
     },
     "execution_count": 13,
     "metadata": {},
     "output_type": "execute_result"
    }
   ],
   "source": [
    "google_model.most_similar([\"bible\"])"
   ]
  },
  {
   "cell_type": "code",
   "execution_count": 14,
   "id": "c3e729ab",
   "metadata": {},
   "outputs": [
    {
     "data": {
      "text/plain": [
       "[('tome', 0.7485830783843994),\n",
       " ('books', 0.7379177808761597),\n",
       " ('memoir', 0.7302926778793335),\n",
       " ('paperback_edition', 0.6868364214897156),\n",
       " ('autobiography', 0.6741527318954468),\n",
       " ('memoirs', 0.6505153179168701),\n",
       " ('Book', 0.6479282975196838),\n",
       " ('paperback', 0.6471226811408997),\n",
       " ('novels', 0.6341459155082703),\n",
       " ('hardback', 0.6283079981803894)]"
      ]
     },
     "execution_count": 14,
     "metadata": {},
     "output_type": "execute_result"
    }
   ],
   "source": [
    "google_model.most_similar([\"book\"])"
   ]
  },
  {
   "cell_type": "code",
   "execution_count": 15,
   "id": "dc2f01de",
   "metadata": {},
   "outputs": [
    {
     "data": {
      "text/plain": [
       "[('banks', 0.7440759539604187),\n",
       " ('banking', 0.690161406993866),\n",
       " ('Bank', 0.6698698401451111),\n",
       " ('lender', 0.6342284679412842),\n",
       " ('banker', 0.6092953085899353),\n",
       " ('depositors', 0.6031531691551208),\n",
       " ('mortgage_lender', 0.5797975659370422),\n",
       " ('depositor', 0.5716427564620972),\n",
       " ('BofA', 0.5714625120162964),\n",
       " ('Citibank', 0.5589520335197449)]"
      ]
     },
     "execution_count": 15,
     "metadata": {},
     "output_type": "execute_result"
    }
   ],
   "source": [
    "google_model.most_similar([\"bank\"])"
   ]
  },
  {
   "cell_type": "code",
   "execution_count": 16,
   "id": "b08f6bee",
   "metadata": {},
   "outputs": [
    {
     "data": {
      "text/plain": [
       "[('potable_water', 0.6799106001853943),\n",
       " ('Water', 0.6706871390342712),\n",
       " ('sewage', 0.6619377732276917),\n",
       " ('groundwater', 0.6588346362113953),\n",
       " ('Floridan_aquifer', 0.6422534584999084),\n",
       " ('freshwater', 0.6307883262634277),\n",
       " ('potable', 0.6251927614212036),\n",
       " ('wastewater', 0.6212229132652283),\n",
       " ('brackish_groundwater', 0.6206730604171753),\n",
       " ('aquifer', 0.6143589615821838)]"
      ]
     },
     "execution_count": 16,
     "metadata": {},
     "output_type": "execute_result"
    }
   ],
   "source": [
    "google_model.most_similar([\"water\"])"
   ]
  },
  {
   "cell_type": "code",
   "execution_count": 17,
   "id": "97eca520",
   "metadata": {},
   "outputs": [
    {
     "data": {
      "text/plain": [
       "[('boys', 0.6931698322296143),\n",
       " ('girls', 0.6385126709938049),\n",
       " ('kings', 0.4957888424396515),\n",
       " ('men', 0.48680540919303894),\n",
       " ('teenagers', 0.4788475036621094),\n",
       " ('schoolboys', 0.45804113149642944),\n",
       " ('pee_wees', 0.44774994254112244),\n",
       " ('Mitey_Mite', 0.44012460112571716),\n",
       " ('kids', 0.4373849332332611),\n",
       " ('youngsters', 0.43566834926605225)]"
      ]
     },
     "execution_count": 17,
     "metadata": {},
     "output_type": "execute_result"
    }
   ],
   "source": [
    "v = google_model[\"girls\"] - google_model[\"queen\"] + google_model[\"kings\"]\n",
    "google_model.most_similar(v)"
   ]
  },
  {
   "cell_type": "code",
   "execution_count": 18,
   "id": "c2e80310",
   "metadata": {},
   "outputs": [
    {
     "data": {
      "text/plain": [
       "[('good', 0.6434131860733032),\n",
       " ('great', 0.49164238572120667),\n",
       " ('bad', 0.4760521948337555),\n",
       " ('terrific', 0.46986129879951477),\n",
       " ('wonderful', 0.4452008605003357),\n",
       " ('nice', 0.4425136148929596),\n",
       " ('fantastic', 0.43418607115745544),\n",
       " ('decent', 0.4307934641838074),\n",
       " ('excellent', 0.41867733001708984),\n",
       " ('terrible', 0.4151829481124878)]"
      ]
     },
     "execution_count": 18,
     "metadata": {},
     "output_type": "execute_result"
    }
   ],
   "source": [
    "#Changed the order to tall, taller, good to make more sense to our analysis\n",
    "v = google_model[\"tall\"] - google_model[\"taller\"] + google_model[\"good\"]\n",
    "google_model.most_similar(v)"
   ]
  },
  {
   "cell_type": "code",
   "execution_count": 19,
   "id": "66da70a6",
   "metadata": {},
   "outputs": [
    {
     "data": {
      "text/plain": [
       "[('london', 0.754153847694397),\n",
       " ('france', 0.7366582751274109),\n",
       " ('england', 0.600825309753418),\n",
       " ('europe', 0.5708170533180237),\n",
       " ('birmingham', 0.5392330884933472),\n",
       " ('european', 0.5275605916976929),\n",
       " ('newcastle', 0.5263600945472717),\n",
       " ('barcelona', 0.5107599496841431),\n",
       " ('africa', 0.510517418384552),\n",
       " ('spain', 0.5082812905311584)]"
      ]
     },
     "execution_count": 19,
     "metadata": {},
     "output_type": "execute_result"
    }
   ],
   "source": [
    "v = google_model[\"france\"] - google_model[\"paris\"] + google_model[\"london\"]\n",
    "google_model.most_similar(v)"
   ]
  },
  {
   "cell_type": "code",
   "execution_count": 20,
   "id": "6384e3dc",
   "metadata": {},
   "outputs": [
    {
     "name": "stdout",
     "output_type": "stream",
     "text": [
      "(41465, 100)\n",
      "(41465,)\n"
     ]
    }
   ],
   "source": [
    "import numpy as np\n",
    "\n",
    "# Convert to numpy 2d array (n_vocab x vector_size)\n",
    "def to_embeddings_Matrix(model):  \n",
    "    embedding_matrix = np.zeros((len(model.wv), model.vector_size))\n",
    "    word2idx = {}\n",
    "    for i in range(len(model.wv)):\n",
    "        embedding_matrix[i] = model.wv[model.wv.index_to_key[i]] # NOTE: index2word was deceprated after gensim 3.8.3\n",
    "        # and was replaced by index_to_key more on\n",
    "        #https://github.com/RaRe-Technologies/gensim/wiki/Migrating-from-Gensim-3.x-to-4\n",
    "        \n",
    "    return embedding_matrix\n",
    "\n",
    "\n",
    "embeddings=to_embeddings_Matrix(gutenberg_w2v)\n",
    "print(np.shape(embeddings))\n",
    "print(np.shape(gutenberg_w2v.wv.index_to_key))"
   ]
  },
  {
   "cell_type": "code",
   "execution_count": 21,
   "id": "b1945bb6",
   "metadata": {},
   "outputs": [],
   "source": [
    "# Put in the data folder, the embeddings and the metadata to load into the data visualization tool\n",
    "\n",
    "import csv\n",
    "with open('../data/embeddings.tsv', 'w', newline='') as f_output:\n",
    "    tsv_output = csv.writer(f_output, delimiter='\\t')\n",
    "    for embedding in embeddings:\n",
    "        tsv_output.writerow(embedding)\n",
    "    \n",
    "with open('../data/metadata.tsv', 'w', newline='') as f_output:\n",
    "    tsv_output = csv.writer(f_output)\n",
    "    for voc_rows in gutenberg_w2v.wv.index_to_key :\n",
    "        tsv_output.writerow([voc_rows])\n",
    "  \n",
    "\n",
    "# NOTE: index2word was deceprated after gensim 3.8.3\n",
    "        # and was replaced by index_to_key more on\n",
    "        #https://github.com/RaRe-Technologies/gensim/wiki/Migrating-from-Gensim-3.x-to-4"
   ]
  },
  {
   "cell_type": "code",
   "execution_count": 22,
   "id": "edef646b",
   "metadata": {},
   "outputs": [],
   "source": [
    "import glob\n",
    "import os\n",
    "import re\n",
    "\n",
    "import numpy as np\n",
    "import sklearn\n",
    "\n",
    "SCRIPT_DIRECTORY = os.path.realpath(os.getcwd())\n",
    "\n",
    "data_dir = os.path.join(SCRIPT_DIRECTORY, \"../data/aclImdb\")\n",
    "train_dir = os.path.join(data_dir, \"train\")\n",
    "test_dir = os.path.join(data_dir, \"test\")\n",
    "pos_train_dir = os.path.join(train_dir, \"pos\")\n",
    "neg_train_dir = os.path.join(train_dir, \"neg\")\n",
    "pos_test_dir = os.path.join(test_dir, \"pos\")\n",
    "neg_test_dir = os.path.join(test_dir, \"neg\")\n",
    "\n",
    "# For memory limitations. These parameters fit in 8GB of RAM.\n",
    "# If you have 16G of RAM you can experiment with the full dataset / W2V\n",
    "MAX_NUM_SAMPLES = 5000\n",
    "# Load first 1M word embeddings. This works because GoogleNews are roughly\n",
    "# sorted from most frequent to least frequent.\n",
    "# It may yield much worse results for other embeddings corpora\n",
    "NUM_W2V_TO_LOAD = 1000000\n",
    "\n",
    "\n",
    "SEED = 42\n",
    "\n",
    "# Fix numpy random seed for reproducibility\n",
    "np.random.seed(SEED)\n",
    "\n",
    "\n",
    "def strip_punctuation(s):\n",
    "    return re.sub(r\"[^a-zA-Z\\s]\", \" \", s)\n",
    "\n",
    "\n",
    "def preprocess(s):\n",
    "    return re.sub(\"\\s+\", \" \", strip_punctuation(s).lower())\n",
    "\n",
    "\n",
    "def tokenize(s):\n",
    "    return s.split(\" \")\n",
    "\n",
    "\n",
    "def preproc_tok(s):\n",
    "    return tokenize(preprocess(s))\n",
    "\n",
    "\n",
    "# Preprocess and tokenize the reviews, it will come out as list of lists \n",
    "def token_proc(t_corpus):\n",
    "    data=[]\n",
    "    for i,ind in enumerate(t_corpus):\n",
    "        proc_t_corpus=preproc_tok(train_data[i])\n",
    "        data.append(proc_t_corpus)\n",
    "    \n",
    "    return data\n",
    "\n",
    "\n",
    "def read_samples(folder, preprocess=lambda x: x):\n",
    "    samples = glob.iglob(os.path.join(folder, \"*.txt\"))\n",
    "    data = []\n",
    "\n",
    "    for i, sample in enumerate(samples):\n",
    "        if MAX_NUM_SAMPLES > 0 and i == MAX_NUM_SAMPLES:\n",
    "            break\n",
    "        with open(sample, \"r\") as fd:\n",
    "            x = [preprocess(l) for l in fd][0]\n",
    "            data.append(x)\n",
    "\n",
    "    return data\n",
    "\n",
    "\n",
    "def create_corpus(pos, neg):\n",
    "    corpus = np.array(pos + neg)\n",
    "    y = np.array([1 for _ in pos] + [0 for _ in neg])\n",
    "    indices = np.arange(y.shape[0])\n",
    "    np.random.shuffle(indices)\n",
    "\n",
    "    return list(corpus[indices]), list(y[indices])\n",
    "\n",
    "\n",
    "def extract_nbow(model,train_data,test_data):\n",
    "    \"\"\"Extract neural bag of words representations\"\"\"\n",
    "    \n",
    "    # The training dataset (sentences of the reviews) will be converted to vectors of 100 dimensions \n",
    "    X_train = np.zeros((np.size(train_data), 100))\n",
    "    for row, rev in enumerate(train_data):\n",
    "        words_included = 0\n",
    "\n",
    "        # Tokenize current review\n",
    "        rev_toks = preproc_tok(rev)\n",
    "    \n",
    "        for tok in rev_toks:\n",
    "            if tok in model.wv:\n",
    "                X_train[row] += model.wv[tok]\n",
    "                words_included += 1\n",
    "            \n",
    "        # Get the mean value of each review in the embedding space\n",
    "        X_train[row] = X_train[row]/words_included\n",
    "\n",
    "\n",
    "\n",
    "    # The test dataset (sentences of the reviews) will be converted to vectors of 100 dimensions \n",
    "    X_test = np.zeros((np.size(test_data), 100)) \n",
    "    for row, rev in enumerate(test_data):\n",
    "        words_included = 0\n",
    "        \n",
    "#         Tokenize current review\n",
    "        rev_toks = preproc_tok(rev)\n",
    "        for tok in rev_toks:\n",
    "            # For each token check if it has a w2v representation\n",
    "            # and if yes add it.\n",
    "            if tok in model.wv:\n",
    "                X_test[row] += model.wv[tok]\n",
    "                words_included += 1\n",
    "                \n",
    "        # Get the mean value of each review in the embedding space\n",
    "        X_test[row] = X_test[row]/words_included\n",
    "\n",
    "    return X_train,X_test\n",
    "\n",
    "    raise NotImplementedError(\"Implement nbow extractor\")\n",
    "\n"
   ]
  },
  {
   "cell_type": "code",
   "execution_count": 23,
   "id": "77e666e7",
   "metadata": {},
   "outputs": [],
   "source": [
    "# Take text and label data from the directories in raw format\n",
    "train_data,train_labels = create_corpus(read_samples(pos_train_dir,preprocess), read_samples(neg_train_dir,preprocess))\n",
    "test_data,test_labels = create_corpus(read_samples(pos_test_dir,preprocess), read_samples(neg_test_dir,preprocess))\n",
    "\n",
    "\n"
   ]
  },
  {
   "cell_type": "code",
   "execution_count": 24,
   "id": "ea678c61",
   "metadata": {},
   "outputs": [],
   "source": [
    "# from gensim.models import Word2Vec\n",
    "# from gensim.models.callbacks import CallbackAny2Vec\n",
    "\n",
    "# train_w2v_model(review_to_sentence(train_data),\"my_sentiment_w2v.model\",5,100,1000,1,)"
   ]
  },
  {
   "cell_type": "code",
   "execution_count": 25,
   "id": "5336918a",
   "metadata": {},
   "outputs": [
    {
     "name": "stderr",
     "output_type": "stream",
     "text": [
      "INFO - 21:57:47: loading Word2Vec object from gutenberg_w2v.hundd.model\n",
      "INFO - 21:57:47: loading wv recursively from gutenberg_w2v.hundd.model.wv.* with mmap=None\n",
      "INFO - 21:57:47: setting ignored attribute cum_table to None\n",
      "INFO - 21:57:47: Word2Vec lifecycle event {'fname': 'gutenberg_w2v.hundd.model', 'datetime': '2023-04-17T21:57:47.662084', 'gensim': '4.3.1', 'python': '3.10.7 (main, Mar 10 2023, 10:47:39) [GCC 12.2.0]', 'platform': 'Linux-5.19.0-38-generic-x86_64-with-glibc2.36', 'event': 'loaded'}\n"
     ]
    },
    {
     "name": "stdout",
     "output_type": "stream",
     "text": [
      "(41465, 100)\n"
     ]
    }
   ],
   "source": [
    "import numpy as np\n",
    "\n",
    "\n",
    "my_sentiment_w2v = Word2Vec.load(\"gutenberg_w2v.hundd.model\")\n",
    "\n",
    "\n",
    "# Convert to numpy 2d array (n_vocab x vector_size)\n",
    "def to_embeddings_Matrix(model):  \n",
    "    embedding_matrix = np.zeros((len(model.wv), model.vector_size))\n",
    "    word2idx = {}\n",
    "    \n",
    "    \n",
    "    \n",
    "    # NOTE: index2word was deceprated after gensim 3.8.3\n",
    "        # and was replaced by index_to_key more on\n",
    "        #https://github.com/RaRe-Technologies/gensim/wiki/Migrating-from-Gensim-3.x-to-4\n",
    "    for i in range(len(model.wv)):\n",
    "        embedding_matrix[i] = model.wv[model.wv.index_to_key[i]] \n",
    "    return embedding_matrix\n",
    "\n",
    "\n",
    "embeddings_my_sentiment=to_embeddings_Matrix(my_sentiment_w2v)\n",
    "print(np.shape(embeddings_my_sentiment))"
   ]
  },
  {
   "cell_type": "code",
   "execution_count": 26,
   "id": "25847524",
   "metadata": {},
   "outputs": [],
   "source": [
    "# Training and test dataset as neural bag of words for training our model\n",
    "\n",
    "X_train,X_test=extract_nbow(my_sentiment_w2v,train_data,test_data)"
   ]
  },
  {
   "cell_type": "code",
   "execution_count": 27,
   "id": "2e756103",
   "metadata": {},
   "outputs": [],
   "source": [
    "# Training our model with the default Logistic Regression classifier for (maximum) 1000 iterations.\n",
    "from sklearn.linear_model import LogisticRegression\n",
    "\n",
    "clf=LogisticRegression(max_iter=1000).fit(X_train,train_labels)\n"
   ]
  },
  {
   "cell_type": "code",
   "execution_count": 28,
   "id": "5e98bc9d",
   "metadata": {},
   "outputs": [
    {
     "name": "stdout",
     "output_type": "stream",
     "text": [
      "Accuracy: 0.7353\n",
      "Test error = 0.26470000000000005\n"
     ]
    }
   ],
   "source": [
    "from sklearn import metrics\n",
    "from sklearn.metrics import zero_one_loss\n",
    "\n",
    "\n",
    "y_pred = clf.predict(X_test)\n",
    "# Model Accuracy, how often is the classifier correct?\n",
    "print(\"Accuracy:\",metrics.accuracy_score(y_pred,test_labels))\n",
    "\n",
    "print(\"Test error =\", zero_one_loss(test_labels, clf.predict(X_test)))"
   ]
  },
  {
   "cell_type": "code",
   "execution_count": 29,
   "id": "f2ae6f60",
   "metadata": {
    "scrolled": true
   },
   "outputs": [
    {
     "name": "stderr",
     "output_type": "stream",
     "text": [
      "INFO - 21:58:15: loading projection weights from ../data/GoogleNews-vectors-negative300.bin\n",
      "INFO - 21:58:32: KeyedVectors lifecycle event {'msg': 'loaded (1000000, 300) matrix of type float32 from ../data/GoogleNews-vectors-negative300.bin', 'binary': True, 'encoding': 'utf8', 'datetime': '2023-04-17T21:58:32.952321', 'gensim': '4.3.1', 'python': '3.10.7 (main, Mar 10 2023, 10:47:39) [GCC 12.2.0]', 'platform': 'Linux-5.19.0-38-generic-x86_64-with-glibc2.36', 'event': 'load_word2vec_format'}\n"
     ]
    },
    {
     "name": "stdout",
     "output_type": "stream",
     "text": [
      "(1000000, 300)\n"
     ]
    }
   ],
   "source": [
    "# Loading google's model\n",
    "from gensim.models import KeyedVectors\n",
    "google_sentiment_w2v = KeyedVectors.load_word2vec_format('../data/GoogleNews-vectors-negative300.bin', binary=True,\n",
    "limit=1000000)\n",
    "\n",
    "\n",
    "# NOTE: index2word was deceprated after gensim 3.8.3\n",
    "        # and was replaced by index_to_key more on\n",
    "        #https://github.com/RaRe-Technologies/gensim/wiki/Migrating-from-Gensim-3.x-to-4\n",
    "\n",
    "# Extracting the embeddings of google's model\n",
    "embeddings_google_sentiment = np.zeros((len(google_sentiment_w2v.index_to_key), google_sentiment_w2v.vector_size))\n",
    "word2idx = {}\n",
    "for i in range(len(google_sentiment_w2v.index_to_key)):\n",
    "    embeddings_google_sentiment[i] = google_sentiment_w2v[google_sentiment_w2v.index_to_key[i]] \n",
    "\n",
    "print(np.shape(embeddings_google_sentiment))"
   ]
  },
  {
   "cell_type": "code",
   "execution_count": 30,
   "id": "0ffe6dad",
   "metadata": {},
   "outputs": [],
   "source": [
    "# Getting the neural bag of words for google's model\n",
    "\n",
    "\n",
    "\n",
    "X_google_train = np.zeros((np.size(train_data), 300))\n",
    "for row, rev in enumerate(train_data):\n",
    "    words_included = 0\n",
    "    rev_toks = preproc_tok(rev)\n",
    "   \n",
    "    for tok in rev_toks:\n",
    "        if tok in google_sentiment_w2v:\n",
    "            X_google_train[row] += google_sentiment_w2v[tok]\n",
    "            words_included += 1\n",
    "\n",
    "    # Get the mean value\n",
    "    X_google_train[row] = X_google_train[row]/words_included\n",
    "\n",
    "\n",
    "\n",
    "\n",
    "X_google_test = np.zeros((np.size(test_data), 300)) \n",
    "for row, rev in enumerate(test_data):\n",
    "    words_included = 0\n",
    "    # Tokenize current review\n",
    "    rev_toks = preproc_tok(rev)\n",
    "    for tok in rev_toks:\n",
    "        # For each token check if it has a w2v representation\n",
    "        # and if yes add it.\n",
    "        if tok in google_sentiment_w2v:\n",
    "            X_google_test[row] += google_sentiment_w2v[tok]\n",
    "            words_included += 1\n",
    "    # Get the mean value\n",
    "    X_google_test[row] = X_google_test[row]/words_included\n"
   ]
  },
  {
   "cell_type": "code",
   "execution_count": 31,
   "id": "4e81de93",
   "metadata": {},
   "outputs": [],
   "source": [
    "# Training google's model with the default Logistic Regression classifier for (maximum) 1000 iterations.\n",
    "\n",
    "from sklearn.linear_model import LogisticRegression\n",
    "from sklearn.metrics import zero_one_loss\n",
    "\n",
    "\n",
    "clf_google=LogisticRegression(max_iter=1000).fit(X_google_train,train_labels)\n"
   ]
  },
  {
   "cell_type": "code",
   "execution_count": 32,
   "id": "a310aef1",
   "metadata": {},
   "outputs": [
    {
     "name": "stdout",
     "output_type": "stream",
     "text": [
      "Accuracy: 0.8345\n",
      "Training error = 0.15669999999999995\n",
      "Test error = 0.16549999999999998\n"
     ]
    }
   ],
   "source": [
    "from sklearn import metrics\n",
    "y_pred_google = clf_google.predict(X_google_test)\n",
    "\n",
    "# Model Accuracy, how often is the classifier correct?\n",
    "print(\"Accuracy:\",metrics.accuracy_score(y_pred_google,test_labels))\n",
    "# Compute error on training data.\n",
    "print(\"Training error =\", zero_one_loss(train_labels, clf_google.predict(X_google_train)))\n",
    "# Compute error on test data\n",
    "print(\"Test error =\", zero_one_loss(test_labels, clf_google.predict(X_google_test)))\n"
   ]
  },
  {
   "cell_type": "code",
   "execution_count": 33,
   "id": "3deeedf8",
   "metadata": {},
   "outputs": [
    {
     "name": "stdout",
     "output_type": "stream",
     "text": [
      "ouch what a mess we have here not so much of a mess as a painfully dull half assed excuse for exploitation brought to you by the one and only j g pat patterson yeah the same one from moonshine mountain doctor gore formerly known as the body shop is i guess somewhat inspired by frankenstein and god knows what else the late mr patterson also stars in this joke as a heartbroken scientist plastic surgeon who has recently lost his wife in a car accident and is driven insane from grief to the point that it becomes clear that the next step is to slaughter countless females then maybe rob a few graves for body parts in order to put together the perfect mate it won t be easy but thank goodness his pal gregg the hunchback is available to lend a hand and to offer moral support br br if proof was ever needed that some peoples goals are not meant to be accomplished here it is gang this patterson hayseed obviously never had any business directing anything much less following in the footsteps of good ol h g as a master of gore i ve never seen a gore movie that just flat out refuses to give the viewer a single reason to keep watching even the gore is boring almost remotely humorous at times but impossible to tell whether it s intentional or not i pick not br br shot in charolotte north carolina home of the california axe massacre on most likely a digit budget by a guy as untalented as he may have been who probably had an appreciation for drive in trash so maybe we should give good ol j g a break i mean he tried i assume which is more that can be said for most and this movie is better than any of the big budget super hero garbage the theaters put out these days although i realize that isn t saying much besides doctor gore is quite the improvement over patterson s previous failure the electic chair so it s slightly possible he would have improved his craft in time had he not died so maybe it s not all that terrible especially compared to the other movie on the dvd how to make a doll so what the hell check it out  \n",
      "\n",
      " 0 : Negative\n"
     ]
    }
   ],
   "source": [
    "# Example of our model's prediction\n",
    "print(test_data[1],'\\n\\n',y_pred[1],': Positive' if y_pred[1]==1 else ': Negative')"
   ]
  },
  {
   "cell_type": "code",
   "execution_count": null,
   "id": "e1ec04fe",
   "metadata": {},
   "outputs": [],
   "source": []
  }
 ],
 "metadata": {
  "kernelspec": {
   "display_name": "Python 3 (ipykernel)",
   "language": "python",
   "name": "python3"
  },
  "language_info": {
   "codemirror_mode": {
    "name": "ipython",
    "version": 3
   },
   "file_extension": ".py",
   "mimetype": "text/x-python",
   "name": "python",
   "nbconvert_exporter": "python",
   "pygments_lexer": "ipython3",
   "version": "3.10.7"
  }
 },
 "nbformat": 4,
 "nbformat_minor": 5
}
