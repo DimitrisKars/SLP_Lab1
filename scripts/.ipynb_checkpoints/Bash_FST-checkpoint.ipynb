{
 "cells": [
  {
   "cell_type": "code",
   "execution_count": null,
   "id": "e79671c6",
   "metadata": {},
   "outputs": [],
   "source": [
    "#Step 4 : Levenshtein\n",
    "\n",
    "python3 levenshtein.py > ../fsts/L.fst\n",
    "fstcompile --isymbols=\"../vocab/chars.syms\" --osymbols=\"../vocab/chars.syms\" --keep_isymbols --keep_osymbols L.fst L.binfst\n"
   ]
  },
  {
   "cell_type": "code",
   "execution_count": null,
   "id": "1b5b174c",
   "metadata": {},
   "outputs": [],
   "source": [
    "python3 levenshtein_unweighted.py > ../fsts/L_unweighted.fst\n",
    "fstcompile --isymbols=\"../vocab/chars.syms\" --osymbols=\"../vocab/chars.syms\" --keep_isymbols --keep_osymbols L_unweighted.fst L_unweighted.binfst"
   ]
  },
  {
   "cell_type": "code",
   "execution_count": null,
   "id": "c15583d9",
   "metadata": {},
   "outputs": [],
   "source": [
    "#Step 4 fstdraw\n",
    "python3 levenshtein_subset.py > ../fsts/L_subset.fst\n",
    "fstcompile --isymbols=\"../vocab/chars_subset.syms\" --osymbols=\"../vocab/chars_subset.syms\" --keep_isymbols --keep_osymbols L_subset.fst L_subset.binfst\n",
    "fstdraw --isymbols=\"../vocab/chars_subset.syms\" --osymbols=\"../vocab/chars_subset.syms\"  L_subset.binfst | dot -Tsvg >L.svg"
   ]
  },
  {
   "cell_type": "code",
   "execution_count": null,
   "id": "4149f410",
   "metadata": {},
   "outputs": [],
   "source": [
    "#Step 5: V acceptor\n",
    "\n",
    "python3 acceptor.py > ../fsts/V.fst\n",
    "fstcompile --isymbols=\"../vocab/chars.syms\" --osymbols=\"../vocab/words.syms\" --keep_isymbols --keep_osymbols V.fst V.binfst\n",
    "fstrmepsilon V.binfst | fstdeterminize | fstminimize > V_opt.binfst"
   ]
  },
  {
   "cell_type": "code",
   "execution_count": null,
   "id": "da9aa4a0",
   "metadata": {},
   "outputs": [],
   "source": [
    "#Step 5 fstdraw\n",
    "python3 acceptor_subset.py > ../fsts/V_subset.fst\n",
    "fstcompile --isymbols=\"../vocab/chars.syms\" --osymbols=\"../vocab/words_subset.syms\" --keep_isymbols --keep_osymbols V_subset.fst V_subset.binfst\n",
    "fstdraw --isymbols=\"../vocab/chars.syms\" --osymbols=\"../vocab/words_subset.syms\" -portrait V_subset.binfst | dot -Tsvg >V.svg\n",
    "fstrmepsilon V_subset.binfst V_subset_rmepsilon.binfst\n",
    "fstdraw --isymbols=\"../vocab/chars.syms\" --osymbols=\"../vocab/words_subset.syms\" -portrait V_subset_rmepsilon.binfst | dot -Tsvg >V_rmepsilon.svg\n",
    "fstdeterminize V_subset_rmepsilon.binfst V_subset_determinize.binfst\n",
    "fstdraw --isymbols=\"../vocab/chars.syms\" --osymbols=\"../vocab/words_subset.syms\" -portrait V_subset_determinize.binfst | dot -Tsvg >V_determinize.svg\n",
    "fstminimize V_subset_determinize.binfst V_subset_minimize.binfst\n",
    "fstdraw --isymbols=\"../vocab/chars.syms\" --osymbols=\"../vocab/words_subset.syms\" -portrait V_subset_minimize.binfst | dot -Tsvg >V_minimize.svg\n"
   ]
  },
  {
   "cell_type": "code",
   "execution_count": null,
   "id": "b4fe93c7",
   "metadata": {},
   "outputs": [],
   "source": [
    "#Step 6: LV \n",
    "\n",
    "fstarcsort --sort_type=olabel L.binfst L.binfst\n",
    "fstarcsort --sort_type=ilabel V_opt.binfst V_opt.binfst\n",
    "fstcompose L.binfst V_opt.binfst LV_opt.binfst"
   ]
  },
  {
   "cell_type": "code",
   "execution_count": null,
   "id": "62fd10f1",
   "metadata": {},
   "outputs": [],
   "source": [
    "fstarcsort --sort_type=olabel L_unweighted.binfst L_unweighted.binfst\n",
    "fstcompose L_unweighted.binfst V_opt.binfst LV_unweighted.binfst"
   ]
  },
  {
   "cell_type": "code",
   "execution_count": null,
   "id": "07bd978a",
   "metadata": {},
   "outputs": [],
   "source": [
    "#Step 7: Evaluation LV: 13/20 correct words, Accuracy: 0.6111111111111112\n",
    "python3 run_evaluation.py ../fsts/LV_opt.binfst"
   ]
  },
  {
   "cell_type": "code",
   "execution_count": null,
   "id": "39071f87",
   "metadata": {},
   "outputs": [],
   "source": [
    "#Step 8 : MLN \n",
    "fstcompile --isymbols=\"../vocab/chars.syms\" --osymbols=\"../vocab/chars.syms\" --keep_isymbols --keep_osymbols M.fst M.binfst\n",
    "fstcompile --isymbols=\"../vocab/chars.syms\" --osymbols=\"../vocab/chars.syms\" --keep_isymbols --keep_osymbols N.fst N.binfst\n",
    "fstarcsort --sort_type=olabel M.binfst M.binfst\n",
    "fstarcsort --sort_type=ilabel N.binfst N.binfst\n",
    "fstcompose M.binfst L.binfst ML.binfst\n",
    "fstcompose ML.binfst N.binfst MLN.binfst\n",
    "fstshortestpath MLN.binfst | fstprint --isymbols=\"../vocab/chars.syms\" --osymbols=\"../vocab/chars.syms\" --show_weight_one\n"
   ]
  },
  {
   "cell_type": "code",
   "execution_count": null,
   "id": "5fd5fc81",
   "metadata": {},
   "outputs": [],
   "source": [
    "python3 wiki_word_edits.py > ../vocab/edits.txt"
   ]
  },
  {
   "cell_type": "code",
   "execution_count": null,
   "id": "1bc38022",
   "metadata": {},
   "outputs": [],
   "source": [
    "#make E transducer\n",
    "python3 levenshtein_log.py > ../fsts/E.fst\n",
    "fstcompile --isymbols=\"../vocab/chars.syms\" --osymbols=\"../vocab/chars.syms\" --keep_isymbols --keep_osymbols E.fst E.binfst\n",
    "fstarcsort --sort_type=olabel E.binfst E.binfst\n",
    "fstcompose E.binfst V_opt.binfst EV.binfst"
   ]
  },
  {
   "cell_type": "code",
   "execution_count": null,
   "id": "4e899bbd",
   "metadata": {},
   "outputs": [],
   "source": [
    "#Step 9\n",
    "python3 w_acceptor.py > ../fsts/W.fst\n",
    "fstcompile --isymbols=\"../vocab/words.syms\" --osymbols=\"../vocab/words.syms\" --keep_isymbols --keep_osymbols W.fst W.binfst\n",
    "fstarcsort --sort_type=ilabel W.binfst W.binfst"
   ]
  },
  {
   "cell_type": "code",
   "execution_count": null,
   "id": "180577de",
   "metadata": {},
   "outputs": [],
   "source": [
    "#Step 9 fstdraw W\n",
    "python3 w_acceptor_subset.py > ../fsts/W_subset.fst\n",
    "fstcompile --isymbols=\"../vocab/words_subset.syms\" --osymbols=\"../vocab/words_subset.syms\" --keep_isymbols --keep_osymbols W_subset.fst W_subset.binfst\n",
    "fstdraw --isymbols=\"../vocab/words_subset.syms\" --osymbols=\"../vocab/words_subset.syms\" -portrait W_subset.binfst | dot -Tsvg >W.svg\n"
   ]
  },
  {
   "cell_type": "code",
   "execution_count": null,
   "id": "a4d6cc83",
   "metadata": {},
   "outputs": [],
   "source": [
    "#Step 9 fstdraw VW\n",
    "fstarcsort --sort_type=olabel V_subset.binfst V_subset.binfst\n",
    "fstarcsort --sort_type=ilabel W_subset.binfst W_subset.binfst\n",
    "fstcompose V_subset.binfst W_subset.binfst VW_subset.binfst\n",
    "fstdraw --isymbols=\"../vocab/chars.syms\" --osymbols=\"../vocab/words_subset.syms\" -portrait VW_subset.binfst | dot -Tsvg >VW.svg"
   ]
  },
  {
   "cell_type": "code",
   "execution_count": null,
   "id": "da52ba9e",
   "metadata": {},
   "outputs": [],
   "source": [
    "#LVW\n",
    "fstcompose LV_opt.binfst W.binfst LVW.binfst"
   ]
  },
  {
   "cell_type": "code",
   "execution_count": null,
   "id": "e4974fae",
   "metadata": {},
   "outputs": [],
   "source": [
    "#EVW\n",
    "fstcompose EV.binfst W.binfst EVW.binfst"
   ]
  },
  {
   "cell_type": "code",
   "execution_count": null,
   "id": "29819362",
   "metadata": {},
   "outputs": [],
   "source": [
    "#LVW evaluation Accuracy: 0.43703703703703706\n",
    "python3 run_evaluation.py ../fsts/LVW.binfst"
   ]
  },
  {
   "cell_type": "code",
   "execution_count": null,
   "id": "58fce48d",
   "metadata": {},
   "outputs": [],
   "source": [
    "bash predict.sh LV_opt.binfst cwt\n",
    "bash predict.sh LV_opt.binfst cit\n",
    "bash predict.sh LVW.binfst cwt\n",
    "bash predict.sh LVW.binfst cit"
   ]
  },
  {
   "cell_type": "code",
   "execution_count": null,
   "id": "727ae012",
   "metadata": {},
   "outputs": [],
   "source": [
    "#EV evaluation Accuracy: 0.6592592592592592\n",
    "python3 run_evaluation.py ../fsts/EV.binfst"
   ]
  },
  {
   "cell_type": "code",
   "execution_count": null,
   "id": "48e9204b",
   "metadata": {},
   "outputs": [],
   "source": [
    "#EVW evaluation Accuracy: 0.6185185185185185\n",
    "python3 run_evaluation.py ../fsts/EVW.binfst"
   ]
  },
  {
   "cell_type": "code",
   "execution_count": null,
   "id": "edc04907",
   "metadata": {},
   "outputs": [],
   "source": [
    "#Testing correctors with input 'nast'\n",
    "bash predict.sh ../fsts/LV_opt.binfst nast #output: nasty\n",
    "bash predict.sh ../fsts/LVW.binfst nast #output: hast\n",
    "bash predict.sh ../fsts/EV.binfst nast #output: nest\n",
    "bash predict.sh ../fsts/EVW.binfst nast #output: hast"
   ]
  },
  {
   "cell_type": "code",
   "execution_count": null,
   "id": "411ead64",
   "metadata": {},
   "outputs": [],
   "source": [
    "#Step 11 \n",
    "python3 add_one_smoothing.py > ../fsts/smoothed_E.fst\n",
    "fstcompile --isymbols=\"../vocab/chars.syms\" --osymbols=\"../vocab/chars.syms\" --keep_isymbols --keep_osymbols smoothed_E.fst smoothed_E.binfst\n",
    "fstarcsort --sort_type=olabel smoothed_E.binfst smoothed_E.binfst\n",
    "fstcompose smoothed_E.binfst V_opt.binfst smoothed_EV.binfst"
   ]
  },
  {
   "cell_type": "code",
   "execution_count": null,
   "id": "77bf2852",
   "metadata": {},
   "outputs": [],
   "source": [
    "#Smoothed EV evaluation Accuracy: 0.662962962962963\n",
    "python3 run_evaluation.py ../fsts/smoothed_EV.binfst"
   ]
  },
  {
   "cell_type": "code",
   "execution_count": null,
   "id": "249692d0",
   "metadata": {},
   "outputs": [],
   "source": [
    "#EV with opensubtitles acceptor\n",
    "python3 acceptor_opensubtitles.py > ../fsts/V_subtitles.fst\n",
    "fstcompile --isymbols=\"../vocab/chars.syms\" --osymbols=\"../vocab/words_subtitles.syms\" --keep_isymbols --keep_osymbols V_subtitles.fst V_subtitles.binfst\n",
    "fstrmepsilon V_subtitles.binfst | fstdeterminize | fstminimize > V_subtitles_opt.binfst\n",
    "fstarcsort --sort_type=ilabel V_subtitles_opt.binfst V_subtitles_opt.binfst\n",
    "fstcompose smoothed_E.binfst V_subtitles_opt.binfst subtitles_EV.binfst\n",
    "fstcompose L.binfst V_subtitles_opt.binfst subtitles_LV.binfst\n",
    "python3 acceptor_opensubtitles_freq.py > ../fsts/W_subtitles.fst\n",
    "fstcompile --isymbols=\"../vocab/words_subtitles.syms\" --osymbols=\"../vocab/words_subtitles.syms\" --keep_isymbols --keep_osymbols W_subtitles.fst W_subtitles.binfst\n",
    "fstarcsort --sort_type=ilabel W_subtitles.binfst W_subtitles.binfst\n",
    "fstcompose subtitles_EV.binfst W_subtitles.binfst subtitles_EVW.binfst\n"
   ]
  },
  {
   "cell_type": "code",
   "execution_count": null,
   "id": "13dab541",
   "metadata": {},
   "outputs": [],
   "source": [
    "#Opensubtitles LV, EV, EVW evaluation\n",
    "python3 run_evaluation_subtitles.py ../fsts/subtitles_LV.binfst\n",
    "python3 run_evaluation_subtitles.py ../fsts/subtitles_EV.binfst\n",
    "python3 run_evaluation_subtitles.py ../fsts/subtitles_EVW.binfst"
   ]
  }
 ],
 "metadata": {
  "kernelspec": {
   "display_name": "Bash",
   "language": "bash",
   "name": "bash"
  },
  "language_info": {
   "codemirror_mode": "shell",
   "file_extension": ".sh",
   "mimetype": "text/x-sh",
   "name": "bash"
  }
 },
 "nbformat": 4,
 "nbformat_minor": 5
}
